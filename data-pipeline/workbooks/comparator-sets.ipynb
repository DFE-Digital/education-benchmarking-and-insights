{
 "cells": [
  {
   "cell_type": "code",
   "id": "d67f5859f6e32b4d",
   "metadata": {
    "ExecuteTime": {
     "end_time": "2024-05-16T17:12:35.111128Z",
     "start_time": "2024-05-16T17:12:35.105781Z"
    }
   },
   "source": [
    "from pathlib import Path\n",
    "import sys  \n",
    "\n",
    "# Get my_package directory path from Notebook\n",
    "parent_dir = str(Path().resolve().parents[0])\n",
    "print(parent_dir)\n",
    "# Add to sys.path\n",
    "\n",
    "path_set = set(sys.path)\n",
    "if parent_dir not in path_set:\n",
    "    sys.path.insert(0, parent_dir)\n",
    "\n",
    "print(sys.path)"
   ],
   "outputs": [
    {
     "name": "stdout",
     "output_type": "stream",
     "text": [
      "/Users/colinbull/appdev/dfe/sfb/education-benchmarking-and-insights/data-pipeline\n",
      "['/Users/colinbull/appdev/dfe/sfb/education-benchmarking-and-insights/data-pipeline', '/opt/homebrew/Cellar/python@3.12/3.12.2_1/Frameworks/Python.framework/Versions/3.12/lib/python312.zip', '/opt/homebrew/Cellar/python@3.12/3.12.2_1/Frameworks/Python.framework/Versions/3.12/lib/python3.12', '/opt/homebrew/Cellar/python@3.12/3.12.2_1/Frameworks/Python.framework/Versions/3.12/lib/python3.12/lib-dynload', '', '/Users/colinbull/Library/Caches/pypoetry/virtualenvs/fbit-data-pipeline-aJYNke-B-py3.12/lib/python3.12/site-packages']\n"
     ]
    }
   ],
   "execution_count": 1
  },
  {
   "cell_type": "markdown",
   "id": "57ca200b0dd346a0",
   "metadata": {
    "collapsed": false
   },
   "source": [
    "# Comparator computation\n",
    "\n",
    "This computes the Euclidean distance for each establishment from a base establishment of a consistent type (Academies, Maintained schools, SEN). Each establishment is given a weight against every other establishment and the top 60 for each establishment creates the comparator set for that establishment. This is repeated for all establishments in the establishment types set and then finally across all establishments across all establishment types."
   ]
  },
  {
   "cell_type": "code",
   "id": "cd10ce1065c1f1fa",
   "metadata": {
    "ExecuteTime": {
     "end_time": "2024-05-16T17:12:35.826699Z",
     "start_time": "2024-05-16T17:12:35.112563Z"
    }
   },
   "source": [
    "import time \n",
    "import numpy as np\n",
    "import pandas as pd\n",
    "import src.pipeline.comparator_sets as comparators\n",
    "import glob \n",
    "import os\n",
    "\n",
    "start_time = time.time()\n",
    "# Create and clean directory\n",
    "from pathlib import Path\n",
    "Path(\"output/comparator-sets\").mkdir(parents=True, exist_ok=True)\n",
    "\n",
    "files = glob.glob(\"output/comparator-sets/*\")\n",
    "for f in files:\n",
    "    os.remove(f)"
   ],
   "outputs": [],
   "execution_count": 2
  },
  {
   "cell_type": "markdown",
   "id": "e3ed3914349b273b",
   "metadata": {},
   "source": [
    "# Prepare Academy and School Data\n",
    "\n",
    "Here we prepare the academy and maintained school data by filling in missing values in NumberOfPupils, % Free School Meals and, % Sen with the mean (at this time). "
   ]
  },
  {
   "cell_type": "code",
   "id": "286a88267d5613f5",
   "metadata": {
    "ExecuteTime": {
     "end_time": "2024-05-16T17:17:50.300465Z",
     "start_time": "2024-05-16T17:17:49.898210Z"
    }
   },
   "source": [
    "academy_data = comparators.prepare_data(pd.read_parquet(\"output/pre-processing/academies.parquet\"))\n",
    "ms_data = comparators.prepare_data(pd.read_parquet(\"output/pre-processing/maintained_schools.parquet\"))\n",
    "all_schools = comparators.prepare_data(pd.read_parquet(\"output/pre-processing/all_schools.parquet\"))"
   ],
   "outputs": [],
   "execution_count": 6
  },
  {
   "cell_type": "markdown",
   "id": "c5586f9b8ce48798",
   "metadata": {
    "collapsed": false
   },
   "source": [
    "# Compute the pupil and building comparators\n",
    "\n",
    "This creates the comparators sets across both academy and maintained schools"
   ]
  },
  {
   "metadata": {
    "ExecuteTime": {
     "end_time": "2024-05-16T17:14:32.698130Z",
     "start_time": "2024-05-16T17:12:43.426289Z"
    }
   },
   "cell_type": "code",
   "source": [
    "ms_comparators = comparators.compute_comparator_set(ms_data)\n",
    "academy_comparators = comparators.compute_comparator_set(academy_data)\n",
    "mixed_comparators = comparators.compute_comparator_set(all_schools)"
   ],
   "id": "df738055f8102aa4",
   "outputs": [],
   "execution_count": 4
  },
  {
   "metadata": {
    "ExecuteTime": {
     "end_time": "2024-05-16T17:18:45.037481Z",
     "start_time": "2024-05-16T17:18:44.612043Z"
    }
   },
   "cell_type": "code",
   "source": [
    "ms_comparators.to_parquet(\"output/comparator-sets/ms_comparators.parquet\")\n",
    "academy_comparators.to_parquet(\"output/comparator-sets/academy_comparators.parquet\")\n",
    "academy_comparators.to_parquet(\"output/comparator-sets/mixed_comparators.parquet\")\n",
    "ms_data.to_parquet(\"output/comparator-sets/maintained_schools.parquet\")\n",
    "academy_data.to_parquet(\"output/comparator-sets/academies.parquet\")\n",
    "all_schools.to_parquet(\"output/comparator-sets/all_schools.parquet\")"
   ],
   "id": "cd9e194fd7d0cc31",
   "outputs": [],
   "execution_count": 7
  },
  {
   "metadata": {
    "ExecuteTime": {
     "end_time": "2024-05-16T17:19:38.474551Z",
     "start_time": "2024-05-16T17:19:38.458024Z"
    }
   },
   "cell_type": "code",
   "source": "ms_comparators.head(10)",
   "id": "9091489e1e79e1ac",
   "outputs": [
    {
     "data": {
      "text/plain": [
       "       OfstedRating (name)  Percentage SEN  Percentage Free school meals  \\\n",
       "URN                                                                        \n",
       "100000         Outstanding        2.952030                          18.1   \n",
       "100005         Outstanding        1.470588                          44.3   \n",
       "100006                Good        0.000000                          68.4   \n",
       "100007                Good       47.368421                         100.0   \n",
       "100008                Good        3.428571                          55.1   \n",
       "100009                Good        2.827763                          43.4   \n",
       "100010                Good        3.550296                          60.8   \n",
       "100011                Good        1.015228                          31.8   \n",
       "100013         Outstanding        3.000000                          51.5   \n",
       "100014                Good        2.192982                          44.7   \n",
       "\n",
       "        Number of pupils  Total Internal Floor Area  Age Average Score  \\\n",
       "URN                                                                      \n",
       "100000             271.0                     3628.0              142.0   \n",
       "100005             107.5                     1858.0          55.792578   \n",
       "100006              49.0                     1523.0          59.797111   \n",
       "100007              19.0                     1858.0          55.792578   \n",
       "100008             350.0                     2951.0              117.0   \n",
       "100009             389.0                     3021.0         134.643496   \n",
       "100010             327.0                     3415.0              142.0   \n",
       "100011             378.0                     3817.0          72.965418   \n",
       "100013             199.0                     2552.0                7.0   \n",
       "100014             228.0                     1922.0          50.766909   \n",
       "\n",
       "       GOR (name)                                              Pupil  \\\n",
       "URN                                                                    \n",
       "100000     London  [100000, 102285, 102892, 101544, 102379, 10249...   \n",
       "100005     London  [100005, 100767, 100315, 101105, 100554, 10149...   \n",
       "100006     London  [100006, 100391, 134919, 133749, 100994, 13526...   \n",
       "100007     London  [100007, 134597, 100391, 100006, 131584, 10099...   \n",
       "100008     London  [100008, 100408, 100341, 131740, 100403, 10041...   \n",
       "100009     London  [100009, 102649, 100240, 100560, 102094, 10091...   \n",
       "100010     London  [100010, 131340, 131218, 101110, 101029, 13174...   \n",
       "100011     London  [100011, 100229, 101815, 102399, 102635, 10190...   \n",
       "100013     London  [100013, 100619, 100447, 100634, 100029, 10112...   \n",
       "100014     London  [100014, 100775, 101787, 100047, 100712, 10043...   \n",
       "\n",
       "                                                 Building  \n",
       "URN                                                        \n",
       "100000  [100000, 101110, 100010, 100245, 100125, 10002...  \n",
       "100005  [100005, 101253, 102700, 100882, 100474, 10047...  \n",
       "100006  [100006, 100007, 134635, 133749, 108892, 13175...  \n",
       "100007                                                NaN  \n",
       "100008  [100008, 131773, 102823, 100584, 102884, 10081...  \n",
       "100009  [100009, 100996, 131595, 100896, 100907, 10080...  \n",
       "100010  [100010, 100245, 100783, 130358, 100000, 10042...  \n",
       "100011  [100011, 102830, 101524, 136809, 102189, 10212...  \n",
       "100013  [100013, 102921, 134307, 102568, 100732, 10186...  \n",
       "100014  [100014, 102033, 100500, 100268, 102832, 10223...  "
      ],
      "text/html": [
       "<div>\n",
       "<style scoped>\n",
       "    .dataframe tbody tr th:only-of-type {\n",
       "        vertical-align: middle;\n",
       "    }\n",
       "\n",
       "    .dataframe tbody tr th {\n",
       "        vertical-align: top;\n",
       "    }\n",
       "\n",
       "    .dataframe thead th {\n",
       "        text-align: right;\n",
       "    }\n",
       "</style>\n",
       "<table border=\"1\" class=\"dataframe\">\n",
       "  <thead>\n",
       "    <tr style=\"text-align: right;\">\n",
       "      <th></th>\n",
       "      <th>OfstedRating (name)</th>\n",
       "      <th>Percentage SEN</th>\n",
       "      <th>Percentage Free school meals</th>\n",
       "      <th>Number of pupils</th>\n",
       "      <th>Total Internal Floor Area</th>\n",
       "      <th>Age Average Score</th>\n",
       "      <th>GOR (name)</th>\n",
       "      <th>Pupil</th>\n",
       "      <th>Building</th>\n",
       "    </tr>\n",
       "    <tr>\n",
       "      <th>URN</th>\n",
       "      <th></th>\n",
       "      <th></th>\n",
       "      <th></th>\n",
       "      <th></th>\n",
       "      <th></th>\n",
       "      <th></th>\n",
       "      <th></th>\n",
       "      <th></th>\n",
       "      <th></th>\n",
       "    </tr>\n",
       "  </thead>\n",
       "  <tbody>\n",
       "    <tr>\n",
       "      <th>100000</th>\n",
       "      <td>Outstanding</td>\n",
       "      <td>2.952030</td>\n",
       "      <td>18.1</td>\n",
       "      <td>271.0</td>\n",
       "      <td>3628.0</td>\n",
       "      <td>142.0</td>\n",
       "      <td>London</td>\n",
       "      <td>[100000, 102285, 102892, 101544, 102379, 10249...</td>\n",
       "      <td>[100000, 101110, 100010, 100245, 100125, 10002...</td>\n",
       "    </tr>\n",
       "    <tr>\n",
       "      <th>100005</th>\n",
       "      <td>Outstanding</td>\n",
       "      <td>1.470588</td>\n",
       "      <td>44.3</td>\n",
       "      <td>107.5</td>\n",
       "      <td>1858.0</td>\n",
       "      <td>55.792578</td>\n",
       "      <td>London</td>\n",
       "      <td>[100005, 100767, 100315, 101105, 100554, 10149...</td>\n",
       "      <td>[100005, 101253, 102700, 100882, 100474, 10047...</td>\n",
       "    </tr>\n",
       "    <tr>\n",
       "      <th>100006</th>\n",
       "      <td>Good</td>\n",
       "      <td>0.000000</td>\n",
       "      <td>68.4</td>\n",
       "      <td>49.0</td>\n",
       "      <td>1523.0</td>\n",
       "      <td>59.797111</td>\n",
       "      <td>London</td>\n",
       "      <td>[100006, 100391, 134919, 133749, 100994, 13526...</td>\n",
       "      <td>[100006, 100007, 134635, 133749, 108892, 13175...</td>\n",
       "    </tr>\n",
       "    <tr>\n",
       "      <th>100007</th>\n",
       "      <td>Good</td>\n",
       "      <td>47.368421</td>\n",
       "      <td>100.0</td>\n",
       "      <td>19.0</td>\n",
       "      <td>1858.0</td>\n",
       "      <td>55.792578</td>\n",
       "      <td>London</td>\n",
       "      <td>[100007, 134597, 100391, 100006, 131584, 10099...</td>\n",
       "      <td>NaN</td>\n",
       "    </tr>\n",
       "    <tr>\n",
       "      <th>100008</th>\n",
       "      <td>Good</td>\n",
       "      <td>3.428571</td>\n",
       "      <td>55.1</td>\n",
       "      <td>350.0</td>\n",
       "      <td>2951.0</td>\n",
       "      <td>117.0</td>\n",
       "      <td>London</td>\n",
       "      <td>[100008, 100408, 100341, 131740, 100403, 10041...</td>\n",
       "      <td>[100008, 131773, 102823, 100584, 102884, 10081...</td>\n",
       "    </tr>\n",
       "    <tr>\n",
       "      <th>100009</th>\n",
       "      <td>Good</td>\n",
       "      <td>2.827763</td>\n",
       "      <td>43.4</td>\n",
       "      <td>389.0</td>\n",
       "      <td>3021.0</td>\n",
       "      <td>134.643496</td>\n",
       "      <td>London</td>\n",
       "      <td>[100009, 102649, 100240, 100560, 102094, 10091...</td>\n",
       "      <td>[100009, 100996, 131595, 100896, 100907, 10080...</td>\n",
       "    </tr>\n",
       "    <tr>\n",
       "      <th>100010</th>\n",
       "      <td>Good</td>\n",
       "      <td>3.550296</td>\n",
       "      <td>60.8</td>\n",
       "      <td>327.0</td>\n",
       "      <td>3415.0</td>\n",
       "      <td>142.0</td>\n",
       "      <td>London</td>\n",
       "      <td>[100010, 131340, 131218, 101110, 101029, 13174...</td>\n",
       "      <td>[100010, 100245, 100783, 130358, 100000, 10042...</td>\n",
       "    </tr>\n",
       "    <tr>\n",
       "      <th>100011</th>\n",
       "      <td>Good</td>\n",
       "      <td>1.015228</td>\n",
       "      <td>31.8</td>\n",
       "      <td>378.0</td>\n",
       "      <td>3817.0</td>\n",
       "      <td>72.965418</td>\n",
       "      <td>London</td>\n",
       "      <td>[100011, 100229, 101815, 102399, 102635, 10190...</td>\n",
       "      <td>[100011, 102830, 101524, 136809, 102189, 10212...</td>\n",
       "    </tr>\n",
       "    <tr>\n",
       "      <th>100013</th>\n",
       "      <td>Outstanding</td>\n",
       "      <td>3.000000</td>\n",
       "      <td>51.5</td>\n",
       "      <td>199.0</td>\n",
       "      <td>2552.0</td>\n",
       "      <td>7.0</td>\n",
       "      <td>London</td>\n",
       "      <td>[100013, 100619, 100447, 100634, 100029, 10112...</td>\n",
       "      <td>[100013, 102921, 134307, 102568, 100732, 10186...</td>\n",
       "    </tr>\n",
       "    <tr>\n",
       "      <th>100014</th>\n",
       "      <td>Good</td>\n",
       "      <td>2.192982</td>\n",
       "      <td>44.7</td>\n",
       "      <td>228.0</td>\n",
       "      <td>1922.0</td>\n",
       "      <td>50.766909</td>\n",
       "      <td>London</td>\n",
       "      <td>[100014, 100775, 101787, 100047, 100712, 10043...</td>\n",
       "      <td>[100014, 102033, 100500, 100268, 102832, 10223...</td>\n",
       "    </tr>\n",
       "  </tbody>\n",
       "</table>\n",
       "</div>"
      ]
     },
     "execution_count": 8,
     "metadata": {},
     "output_type": "execute_result"
    }
   ],
   "execution_count": 8
  },
  {
   "cell_type": "markdown",
   "id": "7e3b66d447ac215a",
   "metadata": {},
   "source": [
    "### Timing Keep at the bottom"
   ]
  },
  {
   "cell_type": "code",
   "id": "a1f2e21e5d7b82c8",
   "metadata": {},
   "source": [
    "print(f'Processing Time: {time.time() - start_time} seconds')"
   ],
   "outputs": [],
   "execution_count": null
  }
 ],
 "metadata": {
  "kernelspec": {
   "display_name": "Python 3",
   "language": "python",
   "name": "python3"
  },
  "language_info": {
   "codemirror_mode": {
    "name": "ipython",
    "version": 2
   },
   "file_extension": ".py",
   "mimetype": "text/x-python",
   "name": "python",
   "nbconvert_exporter": "python",
   "pygments_lexer": "ipython2",
   "version": "2.7.6"
  }
 },
 "nbformat": 4,
 "nbformat_minor": 5
}
