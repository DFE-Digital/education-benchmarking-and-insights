{
 "cells": [
  {
   "cell_type": "code",
   "execution_count": null,
   "id": "d67f5859f6e32b4d",
   "metadata": {
    "ExecuteTime": {
     "end_time": "2024-05-09T12:06:36.388552Z",
     "start_time": "2024-05-09T12:06:36.385632Z"
    }
   },
   "source": [
    "from pathlib import Path\n",
    "import sys  \n",
    "\n",
    "# Get my_package directory path from Notebook\n",
    "parent_dir = str(Path().resolve().parents[0])\n",
    "print(parent_dir)\n",
    "# Add to sys.path\n",
    "\n",
    "path_set = set(sys.path)\n",
    "if parent_dir not in path_set:\n",
    "    sys.path.insert(0, parent_dir)\n",
    "\n",
    "print(sys.path)"
   ],
   "outputs": []
  },
  {
   "cell_type": "markdown",
   "id": "57ca200b0dd346a0",
   "metadata": {
    "collapsed": false
   },
   "source": [
    "# Comparator computation\n",
    "\n",
    "This computes the Euclidean distance for each establishment from a base establishment of a consistent type (Academies, Maintained schools, SEN). Each establishment is given a weight against every other establishment and the top 60 for each establishment creates the comparator set for that establishment. This is repeated for all establishments in the establishment types set and then finally across all establishments across all establishment types."
   ]
  },
  {
   "cell_type": "code",
   "execution_count": null,
   "id": "cd10ce1065c1f1fa",
   "metadata": {
    "ExecuteTime": {
     "end_time": "2024-05-09T12:06:38.847733Z",
     "start_time": "2024-05-09T12:06:38.325618Z"
    }
   },
   "source": [
    "import time \n",
    "import pickle\n",
    "import pandas as pd\n",
    "import src.pipeline.comparator_sets as comparators\n",
    "import glob \n",
    "import os\n",
    "\n",
    "start_time = time.time()\n",
    "# Create and clean directory\n",
    "from pathlib import Path\n",
    "Path(\"output/comparator-sets\").mkdir(parents=True, exist_ok=True)\n",
    "\n",
    "files = glob.glob(\"output/comparator-sets/*\")\n",
    "for f in files:\n",
    "    os.remove(f)"
   ],
   "outputs": []
  },
  {
   "cell_type": "markdown",
   "id": "e3ed3914349b273b",
   "metadata": {},
   "source": [
    "# Prepare Academy and School Data\n",
    "\n",
    "Here we prepare the academy and maintained school data by filling in missing values in NumberOfPupils, % Free School Meals and, % Sen with the mean (at this time). "
   ]
  },
  {
   "cell_type": "code",
   "execution_count": null,
   "id": "286a88267d5613f5",
   "metadata": {
    "ExecuteTime": {
     "end_time": "2024-05-09T12:06:41.842155Z",
     "start_time": "2024-05-09T12:06:41.333176Z"
    }
   },
   "source": [
    "academy_data = pd.read_csv(\"output/pre-processing/academies.csv\")\n",
    "hard_federations = pd.read_csv(\"output/pre-processing/hard_federations.csv\")\n",
    "soft_federations = pd.read_csv(\"output/pre-processing/soft_federations.csv\")\n",
    "federations = pd.concat([hard_federations, soft_federations])\n",
    "ms_data = pd.read_csv(\"output/pre-processing/maintained_schools.csv\", low_memory=False)\n",
    "ms_data = comparators.prepare_data(pd.concat([ms_data, federations]))\n",
    "all_schools = comparators.prepare_data(pd.concat([academy_data, ms_data]).set_index('URN'))"
   ],
   "outputs": []
  },
  {
   "cell_type": "markdown",
   "id": "c5586f9b8ce48798",
   "metadata": {
    "collapsed": false
   },
   "source": [
    "# Compute the pupil and building comparators\n",
    "\n",
    "This creates the comparators sets across both academy and maintained schools"
   ]
  },
  {
   "cell_type": "code",
   "execution_count": null,
   "id": "ac14c3c491b527b1",
   "metadata": {
    "ExecuteTime": {
     "end_time": "2024-05-09T12:08:20.608669Z",
     "start_time": "2024-05-09T12:06:46.407289Z"
    }
   },
   "source": [
    "ms_pupil_comparators = comparators.compute_comparator_matrix(ms_data, comparators.compute_pupils_comparator)\n",
    "ms_building_comparators = comparators.compute_comparator_matrix(ms_data, comparators.compute_buildings_comparator)\n",
    "academy_pupil_comparators = comparators.compute_comparator_matrix(academy_data, comparators.compute_pupils_comparator)\n",
    "academy_building_comparators = comparators.compute_comparator_matrix(academy_data, comparators.compute_buildings_comparator)\n",
    "pupil_comparators = comparators.compute_comparator_matrix(all_schools, comparators.compute_pupils_comparator)\n",
    "building_comparators = comparators.compute_comparator_matrix(all_schools, comparators.compute_buildings_comparator)"
   ],
   "outputs": []
  },
  {
   "cell_type": "markdown",
   "id": "b6f07210fbddc81",
   "metadata": {},
   "source": [
    "Save to disk"
   ]
  },
  {
   "cell_type": "code",
   "execution_count": null,
   "id": "d5ee86edec00e6e",
   "metadata": {
    "ExecuteTime": {
     "end_time": "2024-05-09T12:08:43.845910Z",
     "start_time": "2024-05-09T12:08:27.762128Z"
    }
   },
   "source": [
    "with open('output/comparator-sets/all_pupil_comparators.pkl', 'wb') as pupil_file:\n",
    "     pickle.dump(pupil_comparators, pupil_file, protocol=pickle.HIGHEST_PROTOCOL)\n",
    "     pupil_file.close()\n",
    "     \n",
    "with open('output/comparator-sets/all_building_comparators.pkl', 'wb') as build_file:\n",
    "     pickle.dump(building_comparators, build_file, protocol=pickle.HIGHEST_PROTOCOL)\n",
    "     build_file.close()\n",
    "     \n",
    "with open('output/comparator-sets/ms_pupil_comparators.pkl', 'wb') as ms_pupil_file:\n",
    "     pickle.dump(ms_pupil_comparators, ms_pupil_file, protocol=pickle.HIGHEST_PROTOCOL)\n",
    "     ms_pupil_file.close()\n",
    "     \n",
    "with open('output/comparator-sets/ms_building_comparators.pkl', 'wb') as ms_build_file:\n",
    "     pickle.dump(ms_building_comparators, ms_build_file, protocol=pickle.HIGHEST_PROTOCOL)\n",
    "     ms_build_file.close()\n",
    "     \n",
    "with open('output/comparator-sets/academy_pupil_comparators.pkl', 'wb') as academy_pupil_file:\n",
    "     pickle.dump(academy_pupil_comparators, academy_pupil_file, protocol=pickle.HIGHEST_PROTOCOL)\n",
    "     academy_pupil_file.close()\n",
    "     \n",
    "with open('output/comparator-sets/academy_building_comparators.pkl', 'wb') as academy_build_file:\n",
    "     pickle.dump(academy_building_comparators, academy_build_file, protocol=pickle.HIGHEST_PROTOCOL)\n",
    "     academy_build_file.close()\n",
    "\n",
    "with open('output/comparator-sets/maintained_schools.pkl', 'wb') as maintained_schools_file:\n",
    "     pickle.dump(ms_data, maintained_schools_file, protocol=pickle.HIGHEST_PROTOCOL)\n",
    "     maintained_schools_file.close()\n",
    "\n",
    "with open('output/comparator-sets/academies.pkl', 'wb') as academies_file:\n",
    "     pickle.dump(academy_data, academies_file, protocol=pickle.HIGHEST_PROTOCOL)\n",
    "     maintained_schools_file.close()\n",
    "\n",
    "with open('output/comparator-sets/all_schools.pkl', 'wb') as school_file:\n",
    "     pickle.dump(all_schools, school_file, protocol=pickle.HIGHEST_PROTOCOL)\n",
    "     school_file.close()"
   ],
   "outputs": []
  },
  {
   "cell_type": "code",
   "execution_count": null,
   "id": "5f413ff7a0306830",
   "metadata": {
    "ExecuteTime": {
     "end_time": "2024-05-09T11:21:18.616087Z",
     "start_time": "2024-05-09T11:21:18.206224Z"
    }
   },
   "source": [
    "comparators.get_comparator_set_by(lambda s: s['EstablishmentName'] == 'Glebe Primary School', ms_data, ms_pupil_comparators)"
   ],
   "outputs": []
  },
  {
   "cell_type": "markdown",
   "id": "78402bfcd9dd8d7e",
   "metadata": {},
   "source": [
    "Below is an example of extracting a school by name to show how the data structures work"
   ]
  },
  {
   "cell_type": "markdown",
   "id": "d53d3283570f54a1",
   "metadata": {},
   "source": [
    "# Example using a custom comparator set\n",
    "\n",
    "The example below selects a set of URN's based on a defined filter. And the "
   ]
  },
  {
   "cell_type": "code",
   "execution_count": null,
   "id": "684d0c624ca99ba7",
   "metadata": {},
   "source": [
    "# Custom specify some selection criteria for schools.\n",
    "target_urn = 145110\n",
    "custom_comparator_schools = all_schools[(all_schools['PFI School'] == 'PFI School') | (all_schools.index == target_urn)]\n",
    "custom_comparators = comparators.compute_custom_comparator('PFI Comparator', custom_comparator_schools, comparators.compute_pupils_comparator)\n",
    "cust_set = comparators.get_comparator_set_by(lambda s: s.index == target_urn, all_schools, custom_comparators, is_custom=True, comparator_key='PFI Comparator')\n",
    "\n",
    "cust_set[['URN', 'GOR (name)', 'Percentage SEN', 'Percentage Free school meals']]"
   ],
   "outputs": []
  },
  {
   "cell_type": "markdown",
   "id": "7e3b66d447ac215a",
   "metadata": {},
   "source": [
    "### Timing Keep at the bottom"
   ]
  },
  {
   "cell_type": "code",
   "execution_count": null,
   "id": "a1f2e21e5d7b82c8",
   "metadata": {},
   "source": [
    "print(f'Processing Time: {time.time() - start_time} seconds')"
   ],
   "outputs": []
  }
 ],
 "metadata": {
  "kernelspec": {
   "display_name": "Python 3",
   "language": "python",
   "name": "python3"
  },
  "language_info": {
   "codemirror_mode": {
    "name": "ipython",
    "version": 2
   },
   "file_extension": ".py",
   "mimetype": "text/x-python",
   "name": "python",
   "nbconvert_exporter": "python",
   "pygments_lexer": "ipython2",
   "version": "2.7.6"
  }
 },
 "nbformat": 4,
 "nbformat_minor": 5
}
