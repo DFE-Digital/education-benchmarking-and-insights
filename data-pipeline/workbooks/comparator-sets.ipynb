{
 "cells": [
  {
   "metadata": {},
   "cell_type": "code",
   "execution_count": null,
   "source": [
    "from pathlib import Path\n",
    "import sys  \n",
    "\n",
    "# Get my_package directory path from Notebook\n",
    "parent_dir = str(Path().resolve().parents[0]) + '/src/pipeline'\n",
    "print(parent_dir)\n",
    "# Add to sys.path\n",
    "\n",
    "path_set = set(sys.path)\n",
    "if parent_dir not in path_set:\n",
    "    sys.path.insert(0, parent_dir)\n",
    "\n",
    "print(sys.path)"
   ],
   "id": "d67f5859f6e32b4d",
   "outputs": []
  },
  {
   "cell_type": "markdown",
   "id": "57ca200b0dd346a0",
   "metadata": {
    "collapsed": false
   },
   "source": [
    "# Comparator computation\n",
    "\n",
    "This computes the Euclidean distance for each establishment from a base establishment of a consistent type (Academies, Maintained schools, SEN). Each establishment is given a weight against every other establishment and the top 60 for each establishment creates the comparator set for that establishment. This is repeated for all establishments in the establishment types set and then finally across all establishments across all establishment types."
   ]
  },
  {
   "cell_type": "code",
   "id": "cd10ce1065c1f1fa",
   "metadata": {
    "ExecuteTime": {
     "end_time": "2024-04-25T13:48:18.241010Z",
     "start_time": "2024-04-25T13:48:17.677091Z"
    }
   },
   "source": [
    "import time \n",
    "import pickle\n",
    "import pandas as pd\n",
    "import src.pipeline.comparator_sets as comparators\n",
    "import glob \n",
    "import os\n",
    "\n",
    "start_time = time.time()\n",
    "# Create and clean directory\n",
    "from pathlib import Path\n",
    "Path(\"output/comparator-sets\").mkdir(parents=True, exist_ok=True)\n",
    "\n",
    "files = glob.glob(\"output/comparator-sets/*\")\n",
    "for f in files:\n",
    "    os.remove(f)"
   ],
   "execution_count": 1,
   "outputs": []
  },
  {
   "cell_type": "markdown",
   "id": "e3ed3914349b273b",
   "metadata": {},
   "source": [
    "# Prepare Academy and School Data\n",
    "\n",
    "Here we prepare the academy and maintained school data by filling in missing values in NumberOfPupils, % Free School Meals and, % Sen with the mean (at this time). "
   ]
  },
  {
   "cell_type": "code",
   "id": "286a88267d5613f5",
   "metadata": {
    "ExecuteTime": {
     "end_time": "2024-04-25T13:48:18.613906Z",
     "start_time": "2024-04-25T13:48:18.242011Z"
    }
   },
   "source": [
    "academy_data = comparators.prepare_data(pd.read_csv(\"output/pre-processing/academies.csv\"))\n",
    "ms_data = comparators.prepare_data(pd.read_csv(\"output/pre-processing/maintained_schools.csv\", low_memory=False))\n",
    "all_schools = pd.concat([academy_data, ms_data])\n",
    "\n",
    "with open('output/comparator-sets/schools.pkl', 'wb') as school_file:\n",
    "     pickle.dump(all_schools, school_file, protocol=pickle.HIGHEST_PROTOCOL)\n",
    "     school_file.close()\n",
    "     "
   ],
   "execution_count": 2,
   "outputs": []
  },
  {
   "cell_type": "markdown",
   "id": "c5586f9b8ce48798",
   "metadata": {
    "collapsed": false
   },
   "source": [
    "# Compute the pupil and building comparators\n",
    "\n",
    "This creates the comparators sets across both academy and maintained schools"
   ]
  },
  {
   "cell_type": "code",
   "id": "9026d2f23d6ca2db",
   "metadata": {
    "ExecuteTime": {
     "end_time": "2024-04-25T13:49:04.590365Z",
     "start_time": "2024-04-25T13:48:18.614723Z"
    }
   },
   "source": [
    "ms_pupil_comparators = comparators.compute_comparator_matrix(ms_data, comparators.compute_pupils_comparator)\n",
    "ms_building_comparators = comparators.compute_comparator_matrix(ms_data, comparators.compute_buildings_comparator)\n",
    "\n",
    "academy_pupil_comparators = comparators.compute_comparator_matrix(academy_data, comparators.compute_pupils_comparator)\n",
    "academy_building_comparators = comparators.compute_comparator_matrix(academy_data, comparators.compute_buildings_comparator)\n",
    "\n",
    "pupil_comparators = comparators.compute_comparator_matrix(all_schools, comparators.compute_pupils_comparator)\n",
    "building_comparators = comparators.compute_comparator_matrix(all_schools, comparators.compute_buildings_comparator)"
   ],
   "execution_count": 3,
   "outputs": []
  },
  {
   "metadata": {},
   "cell_type": "markdown",
   "source": "Save to disk",
   "id": "b6f07210fbddc81"
  },
  {
   "metadata": {
    "ExecuteTime": {
     "end_time": "2024-04-25T13:53:42.879102Z",
     "start_time": "2024-04-25T13:53:35.512592Z"
    }
   },
   "cell_type": "code",
   "source": [
    "with open('output/comparator-sets/all_pupil_comparators.pkl', 'wb') as pupil_file:\n",
    "     pickle.dump(pupil_comparators, pupil_file, protocol=pickle.HIGHEST_PROTOCOL)\n",
    "     pupil_file.close()\n",
    "     \n",
    "with open('output/comparator-sets/all_building_comparators.pkl', 'wb') as build_file:\n",
    "     pickle.dump(building_comparators, build_file, protocol=pickle.HIGHEST_PROTOCOL)\n",
    "     build_file.close()\n",
    "     \n",
    "with open('output/comparator-sets/ms_pupil_comparators.pkl', 'wb') as ms_pupil_file:\n",
    "     pickle.dump(ms_pupil_comparators, ms_pupil_file, protocol=pickle.HIGHEST_PROTOCOL)\n",
    "     ms_pupil_file.close()\n",
    "     \n",
    "with open('output/comparator-sets/ms_building_comparators.pkl', 'wb') as ms_build_file:\n",
    "     pickle.dump(ms_building_comparators, ms_build_file, protocol=pickle.HIGHEST_PROTOCOL)\n",
    "     ms_build_file.close()\n",
    "     \n",
    "with open('output/comparator-sets/academy_pupil_comparators.pkl', 'wb') as academy_pupil_file:\n",
    "     pickle.dump(academy_pupil_comparators, academy_pupil_file, protocol=pickle.HIGHEST_PROTOCOL)\n",
    "     academy_pupil_file.close()\n",
    "     \n",
    "with open('output/comparator-sets/academy_building_comparators.pkl', 'wb') as academy_build_file:\n",
    "     pickle.dump(academy_building_comparators, academy_build_file, protocol=pickle.HIGHEST_PROTOCOL)\n",
    "     academy_build_file.close()"
   ],
   "id": "d5ee86edec00e6e",
   "execution_count": 5,
   "outputs": []
  },
  {
   "cell_type": "markdown",
   "id": "78402bfcd9dd8d7e",
   "metadata": {},
   "source": [
    "Below is an example of extracting a school by name to show how the data structures work"
   ]
  },
  {
   "cell_type": "code",
   "id": "471de17d969bdb0c",
   "metadata": {
    "ExecuteTime": {
     "end_time": "2024-04-25T13:53:55.423914Z",
     "start_time": "2024-04-25T13:53:54.727247Z"
    }
   },
   "source": [
    "target_school = 'Glebe Primary School'\n",
    "\n",
    "comparator_set = comparators.get_comparator_set_by(lambda s: s['EstablishmentName'] == target_school, all_schools, pupil_comparators)\n",
    "comparator_set[['URN']]"
   ],
   "execution_count": 6,
   "outputs": []
  },
  {
   "cell_type": "markdown",
   "id": "d53d3283570f54a1",
   "metadata": {},
   "source": [
    "# Example using a custom comparator set\n",
    "\n",
    "The example below selects a set of URN's based on a defined filter. And the "
   ]
  },
  {
   "cell_type": "code",
   "id": "684d0c624ca99ba7",
   "metadata": {},
   "source": [
    "# Custom specify some selection criteria for schools.\n",
    "target_urn = 145110\n",
    "custom_comparator_schools = all_schools[(all_schools['PFI School'] == 'PFI School') | (all_schools.index == target_urn)]\n",
    "custom_comparators = comparators.compute_custom_comparator('PFI Comparator', custom_comparator_schools, comparators.compute_pupils_comparator)\n",
    "cust_set = comparators.get_comparator_set_by(lambda s: s.index == target_urn, all_schools, custom_comparators, is_custom=True, comparator_key='PFI Comparator')\n",
    "\n",
    "cust_set[['URN', 'Percentage SEN', 'Percentage Free school meals']]"
   ],
   "execution_count": null,
   "outputs": []
  },
  {
   "metadata": {},
   "cell_type": "markdown",
   "source": "### Timing Keep at the bottom",
   "id": "7e3b66d447ac215a"
  },
  {
   "metadata": {},
   "cell_type": "code",
   "source": "print(f'Processing Time: {time.time() - start_time} seconds')",
   "id": "a1f2e21e5d7b82c8",
   "execution_count": null,
   "outputs": []
  }
 ],
 "metadata": {
  "kernelspec": {
   "display_name": "Python 3",
   "language": "python",
   "name": "python3"
  },
  "language_info": {
   "codemirror_mode": {
    "name": "ipython",
    "version": 2
   },
   "file_extension": ".py",
   "mimetype": "text/x-python",
   "name": "python",
   "nbconvert_exporter": "python",
   "pygments_lexer": "ipython2",
   "version": "2.7.6"
  }
 },
 "nbformat": 4,
 "nbformat_minor": 5
}
