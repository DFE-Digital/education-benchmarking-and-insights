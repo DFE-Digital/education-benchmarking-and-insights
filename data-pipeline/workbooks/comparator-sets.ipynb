{
 "cells": [
  {
   "cell_type": "code",
   "execution_count": null,
   "id": "d67f5859f6e32b4d",
   "metadata": {
    "ExecuteTime": {
     "end_time": "2024-05-20T19:22:24.159088Z",
     "start_time": "2024-05-20T19:22:24.153940Z"
    }
   },
   "outputs": [],
   "source": [
    "from pathlib import Path\n",
    "import sys  \n",
    "\n",
    "# Get my_package directory path from Notebook\n",
    "parent_dir = str(Path().resolve().parents[0])\n",
    "print(parent_dir)\n",
    "# Add to sys.path\n",
    "\n",
    "path_set = set(sys.path)\n",
    "if parent_dir not in path_set:\n",
    "    sys.path.insert(0, parent_dir)\n",
    "\n",
    "print(sys.path)"
   ]
  },
  {
   "cell_type": "markdown",
   "id": "57ca200b0dd346a0",
   "metadata": {
    "collapsed": false
   },
   "source": [
    "# Comparator computation\n",
    "\n",
    "This computes the Euclidean distance for each establishment from a base establishment of a consistent type (Academies, Maintained schools, SEN). Each establishment is given a weight against every other establishment and the top 60 for each establishment creates the comparator set for that establishment. This is repeated for all establishments in the establishment types set and then finally across all establishments across all establishment types."
   ]
  },
  {
   "cell_type": "code",
   "execution_count": null,
   "id": "cd10ce1065c1f1fa",
   "metadata": {
    "ExecuteTime": {
     "end_time": "2024-05-20T19:22:24.572436Z",
     "start_time": "2024-05-20T19:22:24.160834Z"
    }
   },
   "outputs": [],
   "source": [
    "import time \n",
    "import numpy as np\n",
    "import pandas as pd\n",
    "import pipeline.comparator_sets as comparators\n",
    "import glob \n",
    "import os\n",
    "\n",
    "start_time = time.time()\n",
    "# Create and clean directory\n",
    "from pathlib import Path\n",
    "Path(\"output/comparator-sets\").mkdir(parents=True, exist_ok=True)\n",
    "\n",
    "# files = glob.glob(\"output/comparator-sets/*\")\n",
    "# for f in files:\n",
    "#     os.remove(f)"
   ]
  },
  {
   "cell_type": "markdown",
   "id": "e3ed3914349b273b",
   "metadata": {},
   "source": [
    "# Prepare Academy and School Data\n",
    "\n",
    "Here we prepare the academy and maintained school data by filling in missing values in NumberOfPupils, % Free School Meals and, % Sen with the mean (at this time). "
   ]
  },
  {
   "cell_type": "code",
   "execution_count": null,
   "id": "286a88267d5613f5",
   "metadata": {
    "ExecuteTime": {
     "end_time": "2024-05-20T19:22:24.877426Z",
     "start_time": "2024-05-20T19:22:24.573480Z"
    }
   },
   "outputs": [],
   "source": [
    "academy_data = comparators.prepare_data(pd.read_parquet(\"output/pre-processing/academies.parquet\"))\n",
    "ms_data = comparators.prepare_data(pd.read_parquet(\"output/pre-processing/maintained_schools.parquet\"))\n",
    "all_schools = comparators.prepare_data(pd.read_parquet(\"output/pre-processing/all_schools.parquet\"))"
   ]
  },
  {
   "cell_type": "code",
   "execution_count": null,
   "id": "26f4f833f6dff0b3",
   "metadata": {
    "ExecuteTime": {
     "end_time": "2024-05-20T19:22:24.948804Z",
     "start_time": "2024-05-20T19:22:24.877975Z"
    }
   },
   "outputs": [],
   "source": [
    "all_schools[~all_schools.index.isna()]"
   ]
  },
  {
   "cell_type": "markdown",
   "id": "c5586f9b8ce48798",
   "metadata": {
    "collapsed": false
   },
   "source": [
    "# Compute the pupil and building comparators\n",
    "\n",
    "This creates the comparators sets across both academy and maintained schools"
   ]
  },
  {
   "cell_type": "code",
   "execution_count": null,
   "id": "df738055f8102aa4",
   "metadata": {
    "ExecuteTime": {
     "end_time": "2024-05-20T19:22:36.236736Z",
     "start_time": "2024-05-20T19:22:24.949713Z"
    }
   },
   "outputs": [],
   "source": [
    "academy_comparators = comparators.compute_comparator_set(academy_data)\n",
    "# print('Academy done.')\n",
    "# ms_comparators = comparators.compute_comparator_set(ms_data)\n",
    "# print('MS done.')\n",
    "# mixed_comparators = comparators.compute_comparator_set(all_schools)"
   ]
  },
  {
   "cell_type": "code",
   "execution_count": null,
   "id": "cd9e194fd7d0cc31",
   "metadata": {
    "ExecuteTime": {
     "end_time": "2024-05-20T19:22:36.241838Z",
     "start_time": "2024-05-20T19:22:36.239283Z"
    }
   },
   "outputs": [],
   "source": [
    "# ms_comparators.to_parquet(\"output/comparator-sets/ms_comparators.parquet\")\n",
    "# academy_comparators.to_parquet(\"output/comparator-sets/academy_comparators.parquet\")\n",
    "# academy_comparators.to_parquet(\"output/comparator-sets/mixed_comparators.parquet\")\n",
    "# ms_data.to_parquet(\"output/comparator-sets/maintained_schools.parquet\")\n",
    "# academy_data.to_parquet(\"output/comparator-sets/academies.parquet\")\n",
    "# all_schools.to_parquet(\"output/comparator-sets/all_schools.parquet\")"
   ]
  },
  {
   "cell_type": "code",
   "execution_count": null,
   "id": "9091489e1e79e1ac",
   "metadata": {
    "ExecuteTime": {
     "end_time": "2024-05-20T19:22:36.252476Z",
     "start_time": "2024-05-20T19:22:36.242434Z"
    }
   },
   "outputs": [],
   "source": [
    "academy_comparators.head(5)\n"
   ]
  },
  {
   "cell_type": "code",
   "execution_count": null,
   "id": "84fbb8a69da82a1",
   "metadata": {
    "ExecuteTime": {
     "end_time": "2024-05-20T19:18:51.502015Z",
     "start_time": "2024-05-20T19:18:51.497003Z"
    }
   },
   "outputs": [],
   "source": [
    "import pyodbc\n",
    "\n",
    "pyodbc.drivers()"
   ]
  },
  {
   "cell_type": "code",
   "execution_count": null,
   "id": "fe76aad4edd10d8",
   "metadata": {
    "ExecuteTime": {
     "end_time": "2024-05-20T19:22:45.496939Z",
     "start_time": "2024-05-20T19:22:41.500111Z"
    }
   },
   "outputs": [],
   "source": [
    "os.environ[\"DATABASE_CONNECTION_STRING\"] = \"Driver={ODBC Driver 18 for SQL Server};Server=localhost,1433;Database=Core;UID=sa;PWD=mystrong!Pa55word;Encrypt=no;TrustServerCertificate=yes;Connection Timeout=30\"\n",
    "\n",
    "import pipeline.database as db\n",
    "\n",
    "db.insert_comparator_set(\"Default\",\"Unmixed\",\"2022\", academy_comparators)"
   ]
  }
 ],
 "metadata": {
  "kernelspec": {
   "display_name": "Python 3",
   "language": "python",
   "name": "python3"
  },
  "language_info": {
   "codemirror_mode": {
    "name": "ipython",
    "version": 2
   },
   "file_extension": ".py",
   "mimetype": "text/x-python",
   "name": "python",
   "nbconvert_exporter": "python",
   "pygments_lexer": "ipython2",
   "version": "2.7.6"
  }
 },
 "nbformat": 4,
 "nbformat_minor": 5
}
