{
 "cells": [
  {
<<<<<<< HEAD
   "metadata": {},
   "cell_type": "code",
   "outputs": [],
   "execution_count": null,
=======
   "cell_type": "code",
   "id": "d67f5859f6e32b4d",
   "metadata": {
    "ExecuteTime": {
     "end_time": "2024-05-03T00:02:22.919907Z",
     "start_time": "2024-05-03T00:02:22.915827Z"
    }
   },
>>>>>>> d6f264ffa350a8ff4b76b5603924abe6419a5f04
   "source": [
    "from pathlib import Path\n",
    "import sys  \n",
    "\n",
    "# Get my_package directory path from Notebook\n",
    "parent_dir = str(Path().resolve().parents[0])\n",
    "print(parent_dir)\n",
    "# Add to sys.path\n",
    "\n",
    "path_set = set(sys.path)\n",
    "if parent_dir not in path_set:\n",
    "    sys.path.insert(0, parent_dir)\n",
    "\n",
    "print(sys.path)"
   ],
<<<<<<< HEAD
   "id": "d67f5859f6e32b4d"
=======
   "outputs": [
    {
     "name": "stdout",
     "output_type": "stream",
     "text": [
      "/Users/colinbull/appdev/dfe/sfb/education-benchmarking-and-insights/data-pipeline\n",
      "['/Users/colinbull/appdev/dfe/sfb/education-benchmarking-and-insights/data-pipeline', '/opt/homebrew/Cellar/python@3.12/3.12.2_1/Frameworks/Python.framework/Versions/3.12/lib/python312.zip', '/opt/homebrew/Cellar/python@3.12/3.12.2_1/Frameworks/Python.framework/Versions/3.12/lib/python3.12', '/opt/homebrew/Cellar/python@3.12/3.12.2_1/Frameworks/Python.framework/Versions/3.12/lib/python3.12/lib-dynload', '', '/Users/colinbull/Library/Caches/pypoetry/virtualenvs/fbit-data-pipeline-aJYNke-B-py3.12/lib/python3.12/site-packages']\n"
     ]
    }
   ],
   "execution_count": 1
>>>>>>> d6f264ffa350a8ff4b76b5603924abe6419a5f04
  },
  {
   "cell_type": "markdown",
   "id": "57ca200b0dd346a0",
   "metadata": {
    "collapsed": false
   },
   "source": [
    "# Comparator computation\n",
    "\n",
    "This computes the Euclidean distance for each establishment from a base establishment of a consistent type (Academies, Maintained schools, SEN). Each establishment is given a weight against every other establishment and the top 60 for each establishment creates the comparator set for that establishment. This is repeated for all establishments in the establishment types set and then finally across all establishments across all establishment types."
   ]
  },
  {
   "cell_type": "code",
   "id": "cd10ce1065c1f1fa",
   "metadata": {
    "ExecuteTime": {
<<<<<<< HEAD
     "end_time": "2024-04-25T13:48:18.241010Z",
     "start_time": "2024-04-25T13:48:17.677091Z"
=======
     "end_time": "2024-05-03T00:02:29.940636Z",
     "start_time": "2024-05-03T00:02:29.290419Z"
>>>>>>> d6f264ffa350a8ff4b76b5603924abe6419a5f04
    }
   },
   "source": [
    "import time \n",
    "import pickle\n",
    "import pandas as pd\n",
<<<<<<< HEAD
    "import src.comparator_sets as comparators\n",
=======
    "import src.pipeline.comparator_sets as comparators\n",
>>>>>>> d6f264ffa350a8ff4b76b5603924abe6419a5f04
    "import glob \n",
    "import os\n",
    "\n",
    "start_time = time.time()\n",
    "# Create and clean directory\n",
    "from pathlib import Path\n",
    "Path(\"output/comparator-sets\").mkdir(parents=True, exist_ok=True)\n",
    "\n",
    "files = glob.glob(\"output/comparator-sets/*\")\n",
    "for f in files:\n",
    "    os.remove(f)"
   ],
   "outputs": [],
<<<<<<< HEAD
   "execution_count": 1
=======
   "execution_count": 2
>>>>>>> d6f264ffa350a8ff4b76b5603924abe6419a5f04
  },
  {
   "cell_type": "markdown",
   "id": "e3ed3914349b273b",
   "metadata": {},
   "source": [
    "# Prepare Academy and School Data\n",
    "\n",
    "Here we prepare the academy and maintained school data by filling in missing values in NumberOfPupils, % Free School Meals and, % Sen with the mean (at this time). "
   ]
  },
  {
   "cell_type": "code",
   "id": "286a88267d5613f5",
   "metadata": {
    "ExecuteTime": {
<<<<<<< HEAD
     "end_time": "2024-04-25T13:48:18.613906Z",
     "start_time": "2024-04-25T13:48:18.242011Z"
    }
   },
   "source": [
    "academy_data = comparators.prepare_data(pd.read_csv(\"output/pre-processing/academies.csv\"))\n",
    "ms_data = comparators.prepare_data(pd.read_csv(\"output/pre-processing/maintained_schools.csv\", low_memory=False))\n",
    "all_schools = pd.concat([academy_data, ms_data])\n",
=======
     "end_time": "2024-05-03T00:02:32.765327Z",
     "start_time": "2024-05-03T00:02:32.186022Z"
    }
   },
   "source": [
    "academy_data = pd.read_csv(\"output/pre-processing/academies.csv\")\n",
    "ms_data = pd.read_csv(\"output/pre-processing/maintained_schools.csv\", low_memory=False)\n",
    "all_schools = comparators.prepare_data(pd.concat([academy_data, ms_data]).set_index('URN'))\n",
>>>>>>> d6f264ffa350a8ff4b76b5603924abe6419a5f04
    "\n",
    "with open('output/comparator-sets/schools.pkl', 'wb') as school_file:\n",
    "     pickle.dump(all_schools, school_file, protocol=pickle.HIGHEST_PROTOCOL)\n",
    "     school_file.close()\n",
    "     "
   ],
   "outputs": [],
<<<<<<< HEAD
   "execution_count": 2
=======
   "execution_count": 3
>>>>>>> d6f264ffa350a8ff4b76b5603924abe6419a5f04
  },
  {
   "cell_type": "markdown",
   "id": "c5586f9b8ce48798",
   "metadata": {
    "collapsed": false
   },
   "source": [
    "# Compute the pupil and building comparators\n",
    "\n",
    "This creates the comparators sets across both academy and maintained schools"
   ]
  },
  {
   "cell_type": "code",
<<<<<<< HEAD
=======
   "execution_count": null,
>>>>>>> d6f264ffa350a8ff4b76b5603924abe6419a5f04
   "id": "9026d2f23d6ca2db",
   "metadata": {
    "ExecuteTime": {
     "end_time": "2024-04-25T13:49:04.590365Z",
     "start_time": "2024-04-25T13:48:18.614723Z"
    }
   },
<<<<<<< HEAD
=======
   "outputs": [],
>>>>>>> d6f264ffa350a8ff4b76b5603924abe6419a5f04
   "source": [
    "ms_pupil_comparators = comparators.compute_comparator_matrix(ms_data, comparators.compute_pupils_comparator)\n",
    "ms_building_comparators = comparators.compute_comparator_matrix(ms_data, comparators.compute_buildings_comparator)\n",
    "\n",
    "academy_pupil_comparators = comparators.compute_comparator_matrix(academy_data, comparators.compute_pupils_comparator)\n",
    "academy_building_comparators = comparators.compute_comparator_matrix(academy_data, comparators.compute_buildings_comparator)\n",
    "\n",
    "pupil_comparators = comparators.compute_comparator_matrix(all_schools, comparators.compute_pupils_comparator)\n",
    "building_comparators = comparators.compute_comparator_matrix(all_schools, comparators.compute_buildings_comparator)"
<<<<<<< HEAD
   ],
   "outputs": [],
   "execution_count": 3
  },
  {
   "metadata": {},
   "cell_type": "markdown",
   "source": "Save to disk",
   "id": "b6f07210fbddc81"
  },
  {
=======
   ]
  },
  {
   "cell_type": "markdown",
   "id": "b6f07210fbddc81",
   "metadata": {},
   "source": [
    "Save to disk"
   ]
  },
  {
   "cell_type": "code",
   "execution_count": null,
   "id": "d5ee86edec00e6e",
>>>>>>> d6f264ffa350a8ff4b76b5603924abe6419a5f04
   "metadata": {
    "ExecuteTime": {
     "end_time": "2024-04-25T13:53:42.879102Z",
     "start_time": "2024-04-25T13:53:35.512592Z"
    }
   },
<<<<<<< HEAD
   "cell_type": "code",
=======
   "outputs": [],
>>>>>>> d6f264ffa350a8ff4b76b5603924abe6419a5f04
   "source": [
    "with open('output/comparator-sets/all_pupil_comparators.pkl', 'wb') as pupil_file:\n",
    "     pickle.dump(pupil_comparators, pupil_file, protocol=pickle.HIGHEST_PROTOCOL)\n",
    "     pupil_file.close()\n",
    "     \n",
    "with open('output/comparator-sets/all_building_comparators.pkl', 'wb') as build_file:\n",
    "     pickle.dump(building_comparators, build_file, protocol=pickle.HIGHEST_PROTOCOL)\n",
    "     build_file.close()\n",
    "     \n",
    "with open('output/comparator-sets/ms_pupil_comparators.pkl', 'wb') as ms_pupil_file:\n",
    "     pickle.dump(ms_pupil_comparators, ms_pupil_file, protocol=pickle.HIGHEST_PROTOCOL)\n",
    "     ms_pupil_file.close()\n",
    "     \n",
    "with open('output/comparator-sets/ms_building_comparators.pkl', 'wb') as ms_build_file:\n",
    "     pickle.dump(ms_building_comparators, ms_build_file, protocol=pickle.HIGHEST_PROTOCOL)\n",
    "     ms_build_file.close()\n",
    "     \n",
    "with open('output/comparator-sets/academy_pupil_comparators.pkl', 'wb') as academy_pupil_file:\n",
    "     pickle.dump(academy_pupil_comparators, academy_pupil_file, protocol=pickle.HIGHEST_PROTOCOL)\n",
    "     academy_pupil_file.close()\n",
    "     \n",
    "with open('output/comparator-sets/academy_building_comparators.pkl', 'wb') as academy_build_file:\n",
    "     pickle.dump(academy_building_comparators, academy_build_file, protocol=pickle.HIGHEST_PROTOCOL)\n",
    "     academy_build_file.close()"
<<<<<<< HEAD
   ],
   "id": "d5ee86edec00e6e",
   "outputs": [],
   "execution_count": 5
=======
   ]
>>>>>>> d6f264ffa350a8ff4b76b5603924abe6419a5f04
  },
  {
   "cell_type": "markdown",
   "id": "78402bfcd9dd8d7e",
   "metadata": {},
   "source": [
    "Below is an example of extracting a school by name to show how the data structures work"
   ]
  },
  {
   "cell_type": "code",
<<<<<<< HEAD
=======
   "execution_count": null,
>>>>>>> d6f264ffa350a8ff4b76b5603924abe6419a5f04
   "id": "471de17d969bdb0c",
   "metadata": {
    "ExecuteTime": {
     "end_time": "2024-04-25T13:53:55.423914Z",
     "start_time": "2024-04-25T13:53:54.727247Z"
    }
   },
<<<<<<< HEAD
=======
   "outputs": [],
>>>>>>> d6f264ffa350a8ff4b76b5603924abe6419a5f04
   "source": [
    "target_school = 'Glebe Primary School'\n",
    "\n",
    "comparator_set = comparators.get_comparator_set_by(lambda s: s['EstablishmentName'] == target_school, all_schools, pupil_comparators)\n",
    "comparator_set[['URN']]"
<<<<<<< HEAD
=======
   ]
  },
  {
   "cell_type": "markdown",
   "id": "d53d3283570f54a1",
   "metadata": {},
   "source": [
    "# Example using a custom comparator set\n",
    "\n",
    "The example below selects a set of URN's based on a defined filter. And the "
   ]
  },
  {
   "cell_type": "code",
   "id": "684d0c624ca99ba7",
   "metadata": {
    "ExecuteTime": {
     "end_time": "2024-05-03T00:06:55.148287Z",
     "start_time": "2024-05-03T00:06:54.166747Z"
    }
   },
   "source": [
    "# Custom specify some selection criteria for schools.\n",
    "target_urn = 145110\n",
    "custom_comparator_schools = all_schools[(all_schools['PFI School'] == 'PFI School') | (all_schools.index == target_urn)]\n",
    "custom_comparators = comparators.compute_custom_comparator('PFI Comparator', custom_comparator_schools, comparators.compute_pupils_comparator)\n",
    "cust_set = comparators.get_comparator_set_by(lambda s: s.index == target_urn, all_schools, custom_comparators, is_custom=True, comparator_key='PFI Comparator')\n",
    "\n",
    "cust_set[['URN', 'GOR (name)', 'Percentage SEN', 'Percentage Free school meals']]"
>>>>>>> d6f264ffa350a8ff4b76b5603924abe6419a5f04
   ],
   "outputs": [
    {
     "data": {
      "text/plain": [
<<<<<<< HEAD
       "       URN\n",
       "0   145110\n",
       "3   117156\n",
       "6   136967\n",
       "7   117400\n",
       "16  142036\n",
       "1   118393\n",
       "2   101601\n",
       "4   134681\n",
       "5   132251\n",
       "8   105766\n",
       "9   148680\n",
       "10  147240\n",
       "11  115853\n",
       "12  140760\n",
       "13  125921\n",
       "14  116278\n",
       "15  139912\n",
       "19  121942\n",
       "20  134680\n",
       "21  100146\n",
       "22  136407\n",
       "23  139674\n",
       "24  103341\n",
       "25  130324\n",
       "26  123166\n",
       "27  120583\n",
       "28  102837\n",
       "29  113351\n",
       "30  141513\n",
       "32  125124"
=======
       "       URN                GOR (name)  Percentage SEN  \\\n",
       "0   145110           East of England        5.164319   \n",
       "40  145421           East of England        0.859599   \n",
       "49  146050           East of England        4.145078   \n",
       "54  146929           East of England        2.710843   \n",
       "1   140242  Yorkshire and the Humber        2.347418   \n",
       "2   144177             East Midlands        0.797872   \n",
       "3   148451                North East        2.925532   \n",
       "4   140362             East Midlands        2.449889   \n",
       "5   144921                South West        1.724138   \n",
       "6   138160             East Midlands        2.163462   \n",
       "7   139520             West Midlands        0.973236   \n",
       "8   142807                South West        1.398601   \n",
       "9   137012                South West        3.067485   \n",
       "10  139113             East Midlands        1.923077   \n",
       "11  148019                South West        3.537736   \n",
       "12  142423  Yorkshire and the Humber        0.213220   \n",
       "13  144683             East Midlands        2.261307   \n",
       "14  148815                North East        2.903226   \n",
       "15  148977                North East        1.960784   \n",
       "16  138493             East Midlands        3.171247   \n",
       "17  139061             East Midlands        1.013514   \n",
       "18  144690                North West        1.552106   \n",
       "19  143464                South West        3.384615   \n",
       "20  147826             West Midlands        0.931677   \n",
       "21  137192                South West        2.882883   \n",
       "22  140602  Yorkshire and the Humber        1.000000   \n",
       "23  143544  Yorkshire and the Humber        1.650943   \n",
       "24  142385  Yorkshire and the Humber        3.508772   \n",
       "25  142643             West Midlands        1.818182   \n",
       "26  138589                    London        3.368421   \n",
       "\n",
       "    Percentage Free school meals  \n",
       "0                           18.7  \n",
       "40                          11.5  \n",
       "49                          18.7  \n",
       "54                          27.0  \n",
       "1                           17.6  \n",
       "2                           18.9  \n",
       "3                           17.1  \n",
       "4                           20.9  \n",
       "5                           19.5  \n",
       "6                           16.1  \n",
       "7                           16.3  \n",
       "8                           16.1  \n",
       "9                           16.0  \n",
       "10                          21.2  \n",
       "11                          22.8  \n",
       "12                          14.8  \n",
       "13                          22.9  \n",
       "14                          16.8  \n",
       "15                          22.8  \n",
       "16                          23.1  \n",
       "17                          19.6  \n",
       "18                          23.5  \n",
       "19                          16.3  \n",
       "20                          16.1  \n",
       "21                          18.9  \n",
       "22                          20.4  \n",
       "23                          24.1  \n",
       "24                          23.6  \n",
       "25                          12.5  \n",
       "26                          24.8  "
>>>>>>> d6f264ffa350a8ff4b76b5603924abe6419a5f04
      ],
      "text/html": [
       "<div>\n",
       "<style scoped>\n",
       "    .dataframe tbody tr th:only-of-type {\n",
       "        vertical-align: middle;\n",
       "    }\n",
       "\n",
       "    .dataframe tbody tr th {\n",
       "        vertical-align: top;\n",
       "    }\n",
       "\n",
       "    .dataframe thead th {\n",
       "        text-align: right;\n",
       "    }\n",
       "</style>\n",
       "<table border=\"1\" class=\"dataframe\">\n",
       "  <thead>\n",
       "    <tr style=\"text-align: right;\">\n",
       "      <th></th>\n",
       "      <th>URN</th>\n",
<<<<<<< HEAD
=======
       "      <th>GOR (name)</th>\n",
       "      <th>Percentage SEN</th>\n",
       "      <th>Percentage Free school meals</th>\n",
>>>>>>> d6f264ffa350a8ff4b76b5603924abe6419a5f04
       "    </tr>\n",
       "  </thead>\n",
       "  <tbody>\n",
       "    <tr>\n",
       "      <th>0</th>\n",
       "      <td>145110</td>\n",
<<<<<<< HEAD
       "    </tr>\n",
       "    <tr>\n",
       "      <th>3</th>\n",
       "      <td>117156</td>\n",
       "    </tr>\n",
       "    <tr>\n",
       "      <th>6</th>\n",
       "      <td>136967</td>\n",
       "    </tr>\n",
       "    <tr>\n",
       "      <th>7</th>\n",
       "      <td>117400</td>\n",
       "    </tr>\n",
       "    <tr>\n",
       "      <th>16</th>\n",
       "      <td>142036</td>\n",
       "    </tr>\n",
       "    <tr>\n",
       "      <th>1</th>\n",
       "      <td>118393</td>\n",
       "    </tr>\n",
       "    <tr>\n",
       "      <th>2</th>\n",
       "      <td>101601</td>\n",
       "    </tr>\n",
       "    <tr>\n",
       "      <th>4</th>\n",
       "      <td>134681</td>\n",
       "    </tr>\n",
       "    <tr>\n",
       "      <th>5</th>\n",
       "      <td>132251</td>\n",
       "    </tr>\n",
       "    <tr>\n",
       "      <th>8</th>\n",
       "      <td>105766</td>\n",
       "    </tr>\n",
       "    <tr>\n",
       "      <th>9</th>\n",
       "      <td>148680</td>\n",
       "    </tr>\n",
       "    <tr>\n",
       "      <th>10</th>\n",
       "      <td>147240</td>\n",
       "    </tr>\n",
       "    <tr>\n",
       "      <th>11</th>\n",
       "      <td>115853</td>\n",
       "    </tr>\n",
       "    <tr>\n",
       "      <th>12</th>\n",
       "      <td>140760</td>\n",
       "    </tr>\n",
       "    <tr>\n",
       "      <th>13</th>\n",
       "      <td>125921</td>\n",
       "    </tr>\n",
       "    <tr>\n",
       "      <th>14</th>\n",
       "      <td>116278</td>\n",
       "    </tr>\n",
       "    <tr>\n",
       "      <th>15</th>\n",
       "      <td>139912</td>\n",
       "    </tr>\n",
       "    <tr>\n",
       "      <th>19</th>\n",
       "      <td>121942</td>\n",
       "    </tr>\n",
       "    <tr>\n",
       "      <th>20</th>\n",
       "      <td>134680</td>\n",
       "    </tr>\n",
       "    <tr>\n",
       "      <th>21</th>\n",
       "      <td>100146</td>\n",
       "    </tr>\n",
       "    <tr>\n",
       "      <th>22</th>\n",
       "      <td>136407</td>\n",
       "    </tr>\n",
       "    <tr>\n",
       "      <th>23</th>\n",
       "      <td>139674</td>\n",
       "    </tr>\n",
       "    <tr>\n",
       "      <th>24</th>\n",
       "      <td>103341</td>\n",
       "    </tr>\n",
       "    <tr>\n",
       "      <th>25</th>\n",
       "      <td>130324</td>\n",
       "    </tr>\n",
       "    <tr>\n",
       "      <th>26</th>\n",
       "      <td>123166</td>\n",
       "    </tr>\n",
       "    <tr>\n",
       "      <th>27</th>\n",
       "      <td>120583</td>\n",
       "    </tr>\n",
       "    <tr>\n",
       "      <th>28</th>\n",
       "      <td>102837</td>\n",
       "    </tr>\n",
       "    <tr>\n",
       "      <th>29</th>\n",
       "      <td>113351</td>\n",
       "    </tr>\n",
       "    <tr>\n",
       "      <th>30</th>\n",
       "      <td>141513</td>\n",
       "    </tr>\n",
       "    <tr>\n",
       "      <th>32</th>\n",
       "      <td>125124</td>\n",
=======
       "      <td>East of England</td>\n",
       "      <td>5.164319</td>\n",
       "      <td>18.7</td>\n",
       "    </tr>\n",
       "    <tr>\n",
       "      <th>40</th>\n",
       "      <td>145421</td>\n",
       "      <td>East of England</td>\n",
       "      <td>0.859599</td>\n",
       "      <td>11.5</td>\n",
       "    </tr>\n",
       "    <tr>\n",
       "      <th>49</th>\n",
       "      <td>146050</td>\n",
       "      <td>East of England</td>\n",
       "      <td>4.145078</td>\n",
       "      <td>18.7</td>\n",
       "    </tr>\n",
       "    <tr>\n",
       "      <th>54</th>\n",
       "      <td>146929</td>\n",
       "      <td>East of England</td>\n",
       "      <td>2.710843</td>\n",
       "      <td>27.0</td>\n",
       "    </tr>\n",
       "    <tr>\n",
       "      <th>1</th>\n",
       "      <td>140242</td>\n",
       "      <td>Yorkshire and the Humber</td>\n",
       "      <td>2.347418</td>\n",
       "      <td>17.6</td>\n",
       "    </tr>\n",
       "    <tr>\n",
       "      <th>2</th>\n",
       "      <td>144177</td>\n",
       "      <td>East Midlands</td>\n",
       "      <td>0.797872</td>\n",
       "      <td>18.9</td>\n",
       "    </tr>\n",
       "    <tr>\n",
       "      <th>3</th>\n",
       "      <td>148451</td>\n",
       "      <td>North East</td>\n",
       "      <td>2.925532</td>\n",
       "      <td>17.1</td>\n",
       "    </tr>\n",
       "    <tr>\n",
       "      <th>4</th>\n",
       "      <td>140362</td>\n",
       "      <td>East Midlands</td>\n",
       "      <td>2.449889</td>\n",
       "      <td>20.9</td>\n",
       "    </tr>\n",
       "    <tr>\n",
       "      <th>5</th>\n",
       "      <td>144921</td>\n",
       "      <td>South West</td>\n",
       "      <td>1.724138</td>\n",
       "      <td>19.5</td>\n",
       "    </tr>\n",
       "    <tr>\n",
       "      <th>6</th>\n",
       "      <td>138160</td>\n",
       "      <td>East Midlands</td>\n",
       "      <td>2.163462</td>\n",
       "      <td>16.1</td>\n",
       "    </tr>\n",
       "    <tr>\n",
       "      <th>7</th>\n",
       "      <td>139520</td>\n",
       "      <td>West Midlands</td>\n",
       "      <td>0.973236</td>\n",
       "      <td>16.3</td>\n",
       "    </tr>\n",
       "    <tr>\n",
       "      <th>8</th>\n",
       "      <td>142807</td>\n",
       "      <td>South West</td>\n",
       "      <td>1.398601</td>\n",
       "      <td>16.1</td>\n",
       "    </tr>\n",
       "    <tr>\n",
       "      <th>9</th>\n",
       "      <td>137012</td>\n",
       "      <td>South West</td>\n",
       "      <td>3.067485</td>\n",
       "      <td>16.0</td>\n",
       "    </tr>\n",
       "    <tr>\n",
       "      <th>10</th>\n",
       "      <td>139113</td>\n",
       "      <td>East Midlands</td>\n",
       "      <td>1.923077</td>\n",
       "      <td>21.2</td>\n",
       "    </tr>\n",
       "    <tr>\n",
       "      <th>11</th>\n",
       "      <td>148019</td>\n",
       "      <td>South West</td>\n",
       "      <td>3.537736</td>\n",
       "      <td>22.8</td>\n",
       "    </tr>\n",
       "    <tr>\n",
       "      <th>12</th>\n",
       "      <td>142423</td>\n",
       "      <td>Yorkshire and the Humber</td>\n",
       "      <td>0.213220</td>\n",
       "      <td>14.8</td>\n",
       "    </tr>\n",
       "    <tr>\n",
       "      <th>13</th>\n",
       "      <td>144683</td>\n",
       "      <td>East Midlands</td>\n",
       "      <td>2.261307</td>\n",
       "      <td>22.9</td>\n",
       "    </tr>\n",
       "    <tr>\n",
       "      <th>14</th>\n",
       "      <td>148815</td>\n",
       "      <td>North East</td>\n",
       "      <td>2.903226</td>\n",
       "      <td>16.8</td>\n",
       "    </tr>\n",
       "    <tr>\n",
       "      <th>15</th>\n",
       "      <td>148977</td>\n",
       "      <td>North East</td>\n",
       "      <td>1.960784</td>\n",
       "      <td>22.8</td>\n",
       "    </tr>\n",
       "    <tr>\n",
       "      <th>16</th>\n",
       "      <td>138493</td>\n",
       "      <td>East Midlands</td>\n",
       "      <td>3.171247</td>\n",
       "      <td>23.1</td>\n",
       "    </tr>\n",
       "    <tr>\n",
       "      <th>17</th>\n",
       "      <td>139061</td>\n",
       "      <td>East Midlands</td>\n",
       "      <td>1.013514</td>\n",
       "      <td>19.6</td>\n",
       "    </tr>\n",
       "    <tr>\n",
       "      <th>18</th>\n",
       "      <td>144690</td>\n",
       "      <td>North West</td>\n",
       "      <td>1.552106</td>\n",
       "      <td>23.5</td>\n",
       "    </tr>\n",
       "    <tr>\n",
       "      <th>19</th>\n",
       "      <td>143464</td>\n",
       "      <td>South West</td>\n",
       "      <td>3.384615</td>\n",
       "      <td>16.3</td>\n",
       "    </tr>\n",
       "    <tr>\n",
       "      <th>20</th>\n",
       "      <td>147826</td>\n",
       "      <td>West Midlands</td>\n",
       "      <td>0.931677</td>\n",
       "      <td>16.1</td>\n",
       "    </tr>\n",
       "    <tr>\n",
       "      <th>21</th>\n",
       "      <td>137192</td>\n",
       "      <td>South West</td>\n",
       "      <td>2.882883</td>\n",
       "      <td>18.9</td>\n",
       "    </tr>\n",
       "    <tr>\n",
       "      <th>22</th>\n",
       "      <td>140602</td>\n",
       "      <td>Yorkshire and the Humber</td>\n",
       "      <td>1.000000</td>\n",
       "      <td>20.4</td>\n",
       "    </tr>\n",
       "    <tr>\n",
       "      <th>23</th>\n",
       "      <td>143544</td>\n",
       "      <td>Yorkshire and the Humber</td>\n",
       "      <td>1.650943</td>\n",
       "      <td>24.1</td>\n",
       "    </tr>\n",
       "    <tr>\n",
       "      <th>24</th>\n",
       "      <td>142385</td>\n",
       "      <td>Yorkshire and the Humber</td>\n",
       "      <td>3.508772</td>\n",
       "      <td>23.6</td>\n",
       "    </tr>\n",
       "    <tr>\n",
       "      <th>25</th>\n",
       "      <td>142643</td>\n",
       "      <td>West Midlands</td>\n",
       "      <td>1.818182</td>\n",
       "      <td>12.5</td>\n",
       "    </tr>\n",
       "    <tr>\n",
       "      <th>26</th>\n",
       "      <td>138589</td>\n",
       "      <td>London</td>\n",
       "      <td>3.368421</td>\n",
       "      <td>24.8</td>\n",
>>>>>>> d6f264ffa350a8ff4b76b5603924abe6419a5f04
       "    </tr>\n",
       "  </tbody>\n",
       "</table>\n",
       "</div>"
      ]
     },
<<<<<<< HEAD
     "execution_count": 6,
=======
     "execution_count": 15,
>>>>>>> d6f264ffa350a8ff4b76b5603924abe6419a5f04
     "metadata": {},
     "output_type": "execute_result"
    }
   ],
<<<<<<< HEAD
   "execution_count": 6
  },
  {
   "cell_type": "markdown",
   "id": "d53d3283570f54a1",
   "metadata": {},
   "source": [
    "# Example using a custom comparator set\n",
    "\n",
    "The example below selects a set of URN's based on a defined filter. And the "
=======
   "execution_count": 15
  },
  {
   "cell_type": "markdown",
   "id": "7e3b66d447ac215a",
   "metadata": {},
   "source": [
    "### Timing Keep at the bottom"
>>>>>>> d6f264ffa350a8ff4b76b5603924abe6419a5f04
   ]
  },
  {
   "cell_type": "code",
<<<<<<< HEAD
   "id": "684d0c624ca99ba7",
   "metadata": {},
   "source": [
    "# Custom specify some selection criteria for schools.\n",
    "target_urn = 145110\n",
    "custom_comparator_schools = all_schools[(all_schools['PFI School'] == 'PFI School') | (all_schools.index == target_urn)]\n",
    "custom_comparators = comparators.compute_custom_comparator('PFI Comparator', custom_comparator_schools, comparators.compute_pupils_comparator)\n",
    "cust_set = comparators.get_comparator_set_by(lambda s: s.index == target_urn, all_schools, custom_comparators, is_custom=True, comparator_key='PFI Comparator')\n",
    "\n",
    "cust_set[['URN', 'Percentage SEN', 'Percentage Free school meals']]"
   ],
   "outputs": [],
   "execution_count": null
  },
  {
   "metadata": {},
   "cell_type": "markdown",
   "source": "### Timing Keep at the bottom",
   "id": "7e3b66d447ac215a"
  },
  {
   "metadata": {},
   "cell_type": "code",
   "source": "print(f'Processing Time: {time.time() - start_time} seconds')",
   "id": "a1f2e21e5d7b82c8",
   "outputs": [],
   "execution_count": null
=======
   "execution_count": null,
   "id": "a1f2e21e5d7b82c8",
   "metadata": {},
   "outputs": [],
   "source": [
    "print(f'Processing Time: {time.time() - start_time} seconds')"
   ]
>>>>>>> d6f264ffa350a8ff4b76b5603924abe6419a5f04
  }
 ],
 "metadata": {
  "kernelspec": {
   "display_name": "Python 3",
   "language": "python",
   "name": "python3"
  },
  "language_info": {
   "codemirror_mode": {
    "name": "ipython",
    "version": 2
   },
   "file_extension": ".py",
   "mimetype": "text/x-python",
   "name": "python",
   "nbconvert_exporter": "python",
   "pygments_lexer": "ipython2",
   "version": "2.7.6"
  }
 },
 "nbformat": 4,
 "nbformat_minor": 5
}
