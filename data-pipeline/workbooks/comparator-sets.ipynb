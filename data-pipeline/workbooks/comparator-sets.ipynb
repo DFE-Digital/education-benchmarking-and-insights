{
 "cells": [
  {
   "metadata": {},
   "cell_type": "code",
   "outputs": [],
   "execution_count": null,
   "source": [
    "from pathlib import Path\n",
    "import sys  \n",
    "\n",
    "# Get my_package directory path from Notebook\n",
    "parent_dir = str(Path().resolve().parents[0]) + '/src/pipeline'\n",
    "print(parent_dir)\n",
    "# Add to sys.path\n",
    "\n",
    "path_set = set(sys.path)\n",
    "if parent_dir not in path_set:\n",
    "    sys.path.insert(0, parent_dir)\n",
    "\n",
    "print(sys.path)"
   ],
   "id": "d67f5859f6e32b4d"
  },
  {
   "cell_type": "markdown",
   "id": "57ca200b0dd346a0",
   "metadata": {
    "collapsed": false
   },
   "source": [
    "# Comparator computation\n",
    "\n",
    "This computes the Euclidean distance for each establishment from a base establishment of a consistent type (Academies, Maintained schools, SEN). Each establishment is given a weight against every other establishment and the top 60 for each establishment creates the comparator set for that establishment. This is repeated for all establishments in the establishment types set and then finally across all establishments across all establishment types."
   ]
  },
  {
   "cell_type": "code",
   "id": "cd10ce1065c1f1fa",
   "metadata": {
    "ExecuteTime": {
     "end_time": "2024-04-25T13:48:18.241010Z",
     "start_time": "2024-04-25T13:48:17.677091Z"
    }
   },
   "source": [
    "import time \n",
    "import pickle\n",
    "import pandas as pd\n",
    "import src.pipeline.comparator_sets as comparators\n",
    "import glob \n",
    "import os\n",
    "\n",
    "start_time = time.time()\n",
    "# Create and clean directory\n",
    "from pathlib import Path\n",
    "Path(\"output/comparator-sets\").mkdir(parents=True, exist_ok=True)\n",
    "\n",
    "files = glob.glob(\"output/comparator-sets/*\")\n",
    "for f in files:\n",
    "    os.remove(f)"
   ],
   "outputs": [],
   "execution_count": 1
  },
  {
   "cell_type": "markdown",
   "id": "e3ed3914349b273b",
   "metadata": {},
   "source": [
    "# Prepare Academy and School Data\n",
    "\n",
    "Here we prepare the academy and maintained school data by filling in missing values in NumberOfPupils, % Free School Meals and, % Sen with the mean (at this time). "
   ]
  },
  {
   "cell_type": "code",
   "id": "286a88267d5613f5",
   "metadata": {
    "ExecuteTime": {
     "end_time": "2024-04-25T13:48:18.613906Z",
     "start_time": "2024-04-25T13:48:18.242011Z"
    }
   },
   "source": [
    "academy_data = comparators.prepare_data(pd.read_csv(\"output/pre-processing/academies.csv\"))\n",
    "ms_data = comparators.prepare_data(pd.read_csv(\"output/pre-processing/maintained_schools.csv\", low_memory=False))\n",
    "all_schools = pd.concat([academy_data, ms_data])\n",
    "\n",
    "with open('output/comparator-sets/schools.pkl', 'wb') as school_file:\n",
    "     pickle.dump(all_schools, school_file, protocol=pickle.HIGHEST_PROTOCOL)\n",
    "     school_file.close()\n",
    "     "
   ],
   "outputs": [],
   "execution_count": 2
  },
  {
   "cell_type": "markdown",
   "id": "c5586f9b8ce48798",
   "metadata": {
    "collapsed": false
   },
   "source": [
    "# Compute the pupil and building comparators\n",
    "\n",
    "This creates the comparators sets across both academy and maintained schools"
   ]
  },
  {
   "cell_type": "code",
   "id": "9026d2f23d6ca2db",
   "metadata": {
    "ExecuteTime": {
     "end_time": "2024-04-25T13:49:04.590365Z",
     "start_time": "2024-04-25T13:48:18.614723Z"
    }
   },
   "source": [
    "ms_pupil_comparators = comparators.compute_comparator_matrix(ms_data, comparators.compute_pupils_comparator)\n",
    "ms_building_comparators = comparators.compute_comparator_matrix(ms_data, comparators.compute_buildings_comparator)\n",
    "\n",
    "academy_pupil_comparators = comparators.compute_comparator_matrix(academy_data, comparators.compute_pupils_comparator)\n",
    "academy_building_comparators = comparators.compute_comparator_matrix(academy_data, comparators.compute_buildings_comparator)\n",
    "\n",
    "pupil_comparators = comparators.compute_comparator_matrix(all_schools, comparators.compute_pupils_comparator)\n",
    "building_comparators = comparators.compute_comparator_matrix(all_schools, comparators.compute_buildings_comparator)"
   ],
   "outputs": [],
   "execution_count": 3
  },
  {
   "metadata": {},
   "cell_type": "markdown",
   "source": "Save to disk",
   "id": "b6f07210fbddc81"
  },
  {
   "metadata": {
    "ExecuteTime": {
     "end_time": "2024-04-25T13:53:42.879102Z",
     "start_time": "2024-04-25T13:53:35.512592Z"
    }
   },
   "cell_type": "code",
   "source": [
    "with open('output/comparator-sets/all_pupil_comparators.pkl', 'wb') as pupil_file:\n",
    "     pickle.dump(pupil_comparators, pupil_file, protocol=pickle.HIGHEST_PROTOCOL)\n",
    "     pupil_file.close()\n",
    "     \n",
    "with open('output/comparator-sets/all_building_comparators.pkl', 'wb') as build_file:\n",
    "     pickle.dump(building_comparators, build_file, protocol=pickle.HIGHEST_PROTOCOL)\n",
    "     build_file.close()\n",
    "     \n",
    "with open('output/comparator-sets/ms_pupil_comparators.pkl', 'wb') as ms_pupil_file:\n",
    "     pickle.dump(ms_pupil_comparators, ms_pupil_file, protocol=pickle.HIGHEST_PROTOCOL)\n",
    "     ms_pupil_file.close()\n",
    "     \n",
    "with open('output/comparator-sets/ms_building_comparators.pkl', 'wb') as ms_build_file:\n",
    "     pickle.dump(ms_building_comparators, ms_build_file, protocol=pickle.HIGHEST_PROTOCOL)\n",
    "     ms_build_file.close()\n",
    "     \n",
    "with open('output/comparator-sets/academy_pupil_comparators.pkl', 'wb') as academy_pupil_file:\n",
    "     pickle.dump(academy_pupil_comparators, academy_pupil_file, protocol=pickle.HIGHEST_PROTOCOL)\n",
    "     academy_pupil_file.close()\n",
    "     \n",
    "with open('output/comparator-sets/academy_building_comparators.pkl', 'wb') as academy_build_file:\n",
    "     pickle.dump(academy_building_comparators, academy_build_file, protocol=pickle.HIGHEST_PROTOCOL)\n",
    "     academy_build_file.close()"
   ],
   "id": "d5ee86edec00e6e",
   "outputs": [],
   "execution_count": 5
  },
  {
   "cell_type": "markdown",
   "id": "78402bfcd9dd8d7e",
   "metadata": {},
   "source": [
    "Below is an example of extracting a school by name to show how the data structures work"
   ]
  },
  {
   "cell_type": "code",
   "id": "471de17d969bdb0c",
   "metadata": {
    "ExecuteTime": {
     "end_time": "2024-04-25T13:53:55.423914Z",
     "start_time": "2024-04-25T13:53:54.727247Z"
    }
   },
   "source": [
    "target_school = 'Glebe Primary School'\n",
    "\n",
    "comparator_set = comparators.get_comparator_set_by(lambda s: s['EstablishmentName'] == target_school, all_schools, pupil_comparators)\n",
    "comparator_set[['URN']]"
   ],
   "outputs": [
    {
     "data": {
      "text/plain": [
       "       URN\n",
       "0   145110\n",
       "3   117156\n",
       "6   136967\n",
       "7   117400\n",
       "16  142036\n",
       "1   118393\n",
       "2   101601\n",
       "4   134681\n",
       "5   132251\n",
       "8   105766\n",
       "9   148680\n",
       "10  147240\n",
       "11  115853\n",
       "12  140760\n",
       "13  125921\n",
       "14  116278\n",
       "15  139912\n",
       "19  121942\n",
       "20  134680\n",
       "21  100146\n",
       "22  136407\n",
       "23  139674\n",
       "24  103341\n",
       "25  130324\n",
       "26  123166\n",
       "27  120583\n",
       "28  102837\n",
       "29  113351\n",
       "30  141513\n",
       "32  125124"
      ],
      "text/html": [
       "<div>\n",
       "<style scoped>\n",
       "    .dataframe tbody tr th:only-of-type {\n",
       "        vertical-align: middle;\n",
       "    }\n",
       "\n",
       "    .dataframe tbody tr th {\n",
       "        vertical-align: top;\n",
       "    }\n",
       "\n",
       "    .dataframe thead th {\n",
       "        text-align: right;\n",
       "    }\n",
       "</style>\n",
       "<table border=\"1\" class=\"dataframe\">\n",
       "  <thead>\n",
       "    <tr style=\"text-align: right;\">\n",
       "      <th></th>\n",
       "      <th>URN</th>\n",
       "    </tr>\n",
       "  </thead>\n",
       "  <tbody>\n",
       "    <tr>\n",
       "      <th>0</th>\n",
       "      <td>145110</td>\n",
       "    </tr>\n",
       "    <tr>\n",
       "      <th>3</th>\n",
       "      <td>117156</td>\n",
       "    </tr>\n",
       "    <tr>\n",
       "      <th>6</th>\n",
       "      <td>136967</td>\n",
       "    </tr>\n",
       "    <tr>\n",
       "      <th>7</th>\n",
       "      <td>117400</td>\n",
       "    </tr>\n",
       "    <tr>\n",
       "      <th>16</th>\n",
       "      <td>142036</td>\n",
       "    </tr>\n",
       "    <tr>\n",
       "      <th>1</th>\n",
       "      <td>118393</td>\n",
       "    </tr>\n",
       "    <tr>\n",
       "      <th>2</th>\n",
       "      <td>101601</td>\n",
       "    </tr>\n",
       "    <tr>\n",
       "      <th>4</th>\n",
       "      <td>134681</td>\n",
       "    </tr>\n",
       "    <tr>\n",
       "      <th>5</th>\n",
       "      <td>132251</td>\n",
       "    </tr>\n",
       "    <tr>\n",
       "      <th>8</th>\n",
       "      <td>105766</td>\n",
       "    </tr>\n",
       "    <tr>\n",
       "      <th>9</th>\n",
       "      <td>148680</td>\n",
       "    </tr>\n",
       "    <tr>\n",
       "      <th>10</th>\n",
       "      <td>147240</td>\n",
       "    </tr>\n",
       "    <tr>\n",
       "      <th>11</th>\n",
       "      <td>115853</td>\n",
       "    </tr>\n",
       "    <tr>\n",
       "      <th>12</th>\n",
       "      <td>140760</td>\n",
       "    </tr>\n",
       "    <tr>\n",
       "      <th>13</th>\n",
       "      <td>125921</td>\n",
       "    </tr>\n",
       "    <tr>\n",
       "      <th>14</th>\n",
       "      <td>116278</td>\n",
       "    </tr>\n",
       "    <tr>\n",
       "      <th>15</th>\n",
       "      <td>139912</td>\n",
       "    </tr>\n",
       "    <tr>\n",
       "      <th>19</th>\n",
       "      <td>121942</td>\n",
       "    </tr>\n",
       "    <tr>\n",
       "      <th>20</th>\n",
       "      <td>134680</td>\n",
       "    </tr>\n",
       "    <tr>\n",
       "      <th>21</th>\n",
       "      <td>100146</td>\n",
       "    </tr>\n",
       "    <tr>\n",
       "      <th>22</th>\n",
       "      <td>136407</td>\n",
       "    </tr>\n",
       "    <tr>\n",
       "      <th>23</th>\n",
       "      <td>139674</td>\n",
       "    </tr>\n",
       "    <tr>\n",
       "      <th>24</th>\n",
       "      <td>103341</td>\n",
       "    </tr>\n",
       "    <tr>\n",
       "      <th>25</th>\n",
       "      <td>130324</td>\n",
       "    </tr>\n",
       "    <tr>\n",
       "      <th>26</th>\n",
       "      <td>123166</td>\n",
       "    </tr>\n",
       "    <tr>\n",
       "      <th>27</th>\n",
       "      <td>120583</td>\n",
       "    </tr>\n",
       "    <tr>\n",
       "      <th>28</th>\n",
       "      <td>102837</td>\n",
       "    </tr>\n",
       "    <tr>\n",
       "      <th>29</th>\n",
       "      <td>113351</td>\n",
       "    </tr>\n",
       "    <tr>\n",
       "      <th>30</th>\n",
       "      <td>141513</td>\n",
       "    </tr>\n",
       "    <tr>\n",
       "      <th>32</th>\n",
       "      <td>125124</td>\n",
       "    </tr>\n",
       "  </tbody>\n",
       "</table>\n",
       "</div>"
      ]
     },
     "execution_count": 6,
     "metadata": {},
     "output_type": "execute_result"
    }
   ],
   "execution_count": 6
  },
  {
   "cell_type": "markdown",
   "id": "d53d3283570f54a1",
   "metadata": {},
   "source": [
    "# Example using a custom comparator set\n",
    "\n",
    "The example below selects a set of URN's based on a defined filter. And the "
   ]
  },
  {
   "cell_type": "code",
   "id": "684d0c624ca99ba7",
   "metadata": {},
   "source": [
    "# Custom specify some selection criteria for schools.\n",
    "target_urn = 145110\n",
    "custom_comparator_schools = all_schools[(all_schools['PFI School'] == 'PFI School') | (all_schools.index == target_urn)]\n",
    "custom_comparators = comparators.compute_custom_comparator('PFI Comparator', custom_comparator_schools, comparators.compute_pupils_comparator)\n",
    "cust_set = comparators.get_comparator_set_by(lambda s: s.index == target_urn, all_schools, custom_comparators, is_custom=True, comparator_key='PFI Comparator')\n",
    "\n",
    "cust_set[['URN', 'Percentage SEN', 'Percentage Free school meals']]"
   ],
   "outputs": [],
   "execution_count": null
  },
  {
   "metadata": {},
   "cell_type": "markdown",
   "source": "### Timing Keep at the bottom",
   "id": "7e3b66d447ac215a"
  },
  {
   "metadata": {},
   "cell_type": "code",
   "source": "print(f'Processing Time: {time.time() - start_time} seconds')",
   "id": "a1f2e21e5d7b82c8",
   "outputs": [],
   "execution_count": null
  }
 ],
 "metadata": {
  "kernelspec": {
   "display_name": "Python 3",
   "language": "python",
   "name": "python3"
  },
  "language_info": {
   "codemirror_mode": {
    "name": "ipython",
    "version": 2
   },
   "file_extension": ".py",
   "mimetype": "text/x-python",
   "name": "python",
   "nbconvert_exporter": "python",
   "pygments_lexer": "ipython2",
   "version": "2.7.6"
  }
 },
 "nbformat": 4,
 "nbformat_minor": 5
}
