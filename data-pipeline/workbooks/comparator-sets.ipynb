{
 "cells": [
  {
   "cell_type": "code",
   "id": "d67f5859f6e32b4d",
   "metadata": {
    "ExecuteTime": {
     "end_time": "2024-05-16T22:37:05.316306Z",
     "start_time": "2024-05-16T22:37:05.311516Z"
    }
   },
   "source": [
    "from pathlib import Path\n",
    "import sys  \n",
    "\n",
    "# Get my_package directory path from Notebook\n",
    "parent_dir = str(Path().resolve().parents[0])\n",
    "print(parent_dir)\n",
    "# Add to sys.path\n",
    "\n",
    "path_set = set(sys.path)\n",
    "if parent_dir not in path_set:\n",
    "    sys.path.insert(0, parent_dir)\n",
    "\n",
    "print(sys.path)"
   ],
   "outputs": [
    {
     "name": "stdout",
     "output_type": "stream",
     "text": [
      "/Users/colinbull/appdev/dfe/sfb/education-benchmarking-and-insights/data-pipeline\n",
      "['/Users/colinbull/appdev/dfe/sfb/education-benchmarking-and-insights/data-pipeline', '/opt/homebrew/Cellar/python@3.12/3.12.2_1/Frameworks/Python.framework/Versions/3.12/lib/python312.zip', '/opt/homebrew/Cellar/python@3.12/3.12.2_1/Frameworks/Python.framework/Versions/3.12/lib/python3.12', '/opt/homebrew/Cellar/python@3.12/3.12.2_1/Frameworks/Python.framework/Versions/3.12/lib/python3.12/lib-dynload', '', '/Users/colinbull/Library/Caches/pypoetry/virtualenvs/fbit-data-pipeline-aJYNke-B-py3.12/lib/python3.12/site-packages']\n"
     ]
    }
   ],
   "execution_count": 1
  },
  {
   "cell_type": "markdown",
   "id": "57ca200b0dd346a0",
   "metadata": {
    "collapsed": false
   },
   "source": [
    "# Comparator computation\n",
    "\n",
    "This computes the Euclidean distance for each establishment from a base establishment of a consistent type (Academies, Maintained schools, SEN). Each establishment is given a weight against every other establishment and the top 60 for each establishment creates the comparator set for that establishment. This is repeated for all establishments in the establishment types set and then finally across all establishments across all establishment types."
   ]
  },
  {
   "cell_type": "code",
   "id": "cd10ce1065c1f1fa",
   "metadata": {
    "ExecuteTime": {
     "end_time": "2024-05-16T22:37:05.771828Z",
     "start_time": "2024-05-16T22:37:05.317295Z"
    }
   },
   "source": [
    "import time \n",
    "import numpy as np\n",
    "import pandas as pd\n",
    "import src.pipeline.comparator_sets as comparators\n",
    "import glob \n",
    "import os\n",
    "\n",
    "start_time = time.time()\n",
    "# Create and clean directory\n",
    "from pathlib import Path\n",
    "Path(\"output/comparator-sets\").mkdir(parents=True, exist_ok=True)\n",
    "\n",
    "# files = glob.glob(\"output/comparator-sets/*\")\n",
    "# for f in files:\n",
    "#     os.remove(f)"
   ],
   "outputs": [],
   "execution_count": 2
  },
  {
   "cell_type": "markdown",
   "id": "e3ed3914349b273b",
   "metadata": {},
   "source": [
    "# Prepare Academy and School Data\n",
    "\n",
    "Here we prepare the academy and maintained school data by filling in missing values in NumberOfPupils, % Free School Meals and, % Sen with the mean (at this time). "
   ]
  },
  {
   "cell_type": "code",
   "id": "286a88267d5613f5",
   "metadata": {
    "ExecuteTime": {
     "end_time": "2024-05-16T22:37:06.034923Z",
     "start_time": "2024-05-16T22:37:05.772503Z"
    }
   },
   "source": [
    "academy_data = comparators.prepare_data(pd.read_parquet(\"output/pre-processing/academies.parquet\"))\n",
    "ms_data = comparators.prepare_data(pd.read_parquet(\"output/pre-processing/maintained_schools.parquet\"))\n",
    "all_schools = comparators.prepare_data(pd.read_parquet(\"output/pre-processing/all_schools.parquet\"))"
   ],
   "outputs": [],
   "execution_count": 3
  },
  {
   "metadata": {
    "ExecuteTime": {
     "end_time": "2024-05-16T22:36:26.229418Z",
     "start_time": "2024-05-16T22:36:26.226694Z"
    }
   },
   "cell_type": "code",
   "source": [
    "def select_top_set(all_urns, all_regions, data, base_set_size=60, final_set_size=30):\n",
    "    top_index = np.argsort(data, kind=\"stable\")[:base_set_size]\n",
    "    top_urns = all_urns[top_index]\n",
    "    top_regions = all_regions[top_index]\n",
    "    same_region = np.argwhere(top_regions == top_regions[0]).flatten()\n",
    "    same_region_urns = top_urns[same_region]\n",
    "    urns = np.append(same_region_urns, np.delete(top_urns, same_region)[:final_set_size - len(same_region_urns)])\n",
    "    return all_urns, top_index, top_urns, same_region, same_region_urns"
   ],
   "id": "57e04b58f3d782c0",
   "outputs": [],
   "execution_count": 31
  },
  {
   "metadata": {
    "ExecuteTime": {
     "end_time": "2024-05-16T22:36:27.492974Z",
     "start_time": "2024-05-16T22:36:27.477139Z"
    }
   },
   "cell_type": "code",
   "source": [
    "data = ms_data[[\"OfstedRating (name)\",\n",
    "                 \"Percentage SEN\",\n",
    "                 \"Percentage Free school meals\",\n",
    "                 \"Number of pupils\",\n",
    "                 \"Total Internal Floor Area\",\n",
    "                 \"Age Average Score\",\n",
    "                 \"GOR (name)\",\n",
    "                 \"SchoolPhaseType\",\n",
    "                 \"Percentage Primary Need SPLD\",\n",
    "                 \"Percentage Primary Need MLD\",\n",
    "                 \"Percentage Primary Need PMLD\",\n",
    "                 \"Percentage Primary Need SEMH\",\n",
    "                 \"Percentage Primary Need SLCN\",\n",
    "                 \"Percentage Primary Need HI\",\n",
    "                 \"Percentage Primary Need MSI\",\n",
    "                 \"Percentage Primary Need PD\",\n",
    "                 \"Percentage Primary Need ASD\",\n",
    "                 \"Percentage Primary Need OTH\"]][ms_data[\"SchoolPhaseType\"] == \"Pupil referral unit\"].copy()\n",
    "\n",
    "group_data = data.reset_index().drop_duplicates().copy().groupby(['SchoolPhaseType']).agg(list)\n",
    "data = comparators.compute_buildings_comparator((\"Pupil referral unit\", group_data.iloc[0]))[1]\n",
    "all_urns = np.array(group_data[\"URN\"].values[0])\n",
    "all_regions = np.array(group_data[\"GOR (name)\"].values[0])\n",
    "select_top_set(all_urns, all_regions, data)"
   ],
   "id": "f115af26260e7345",
   "outputs": [
    {
     "data": {
      "text/plain": [
       "(array([100006, 100007, 100103, 100391, 100889, 100994, 101255, 101493,\n",
       "        101706, 101972, 102180, 102562, 102708, 102794, 103146, 103887,\n",
       "        104038, 104288, 104418, 104757, 104850, 106022, 106023, 106666,\n",
       "        108565, 108666, 108892, 112095, 112096, 112098, 113992, 115836,\n",
       "        115837, 115838, 115847, 119103, 119106, 119112, 121270, 123349,\n",
       "        126171, 128088, 130316, 130344, 130349, 130359, 130856, 130984,\n",
       "        130987, 130991, 131066, 131100, 131134, 131182, 131201, 131294,\n",
       "        131367, 131506, 131535, 131584, 131619, 131626, 131629, 131652,\n",
       "        131753, 131769, 131772, 131827, 132027, 132033, 132077, 132128,\n",
       "        132130, 132133, 132741, 132816, 132824, 133164, 133398, 133410,\n",
       "        133583, 133660, 133675, 133689, 133744, 133749, 133754, 133778,\n",
       "        133945, 134108, 134109, 134127, 134130, 134159, 134257, 134260,\n",
       "        134321, 134366, 134367, 134373, 134374, 134390, 134523, 134525,\n",
       "        134597, 134623, 134635, 134694, 134697, 134699, 134758, 134759,\n",
       "        134765, 134766, 134768, 134846, 134859, 134870, 134872, 134880,\n",
       "        134919, 134970, 135010, 135253, 135254, 135260, 135330, 135432,\n",
       "        135462, 135465, 135466, 135467, 135502, 135504, 135558, 135640,\n",
       "        135656, 135778, 135850, 135851, 135890, 135891, 135894, 136035,\n",
       "        136071, 136161, 136684, 136743, 136754, 137322, 137328, 137596,\n",
       "        137677, 137751, 137823, 138102, 138450, 138455, 138565, 139560,\n",
       "        140121]),\n",
       " array([  1,  11,  13,  15,  21,  25,  26,  41,  64,  76,  85,  89,  92,\n",
       "         94,  95, 106, 113, 116, 121, 134, 136, 139, 149, 122, 145,   5,\n",
       "         28,  75, 124,  27,   0,  57,  51,  31,  61,  36,  81,  62,  99,\n",
       "        114,  32, 125, 127,  55,  79, 150,  29,  96, 131, 132,  53,   6,\n",
       "        154, 123,   7,  58, 109, 103, 155,  60]),\n",
       " array([100007, 102562, 102794, 103887, 106022, 108666, 108892, 128088,\n",
       "        131753, 132824, 133749, 134108, 134130, 134257, 134260, 134635,\n",
       "        134766, 134859, 134970, 135558, 135656, 135851, 137322, 135010,\n",
       "        136161, 100994, 112096, 132816, 135254, 112095, 100006, 131506,\n",
       "        131100, 115836, 131626, 119106, 133660, 131629, 134373, 134768,\n",
       "        115837, 135260, 135432, 131294, 133410, 137328, 112098, 134321,\n",
       "        135467, 135502, 131182, 101255, 137823, 135253, 101493, 131535,\n",
       "        134699, 134525, 138102, 131619]),\n",
       " array([ 0,  1,  2,  6,  8, 10, 15, 19, 23, 25, 27, 30, 36, 41, 45, 51]),\n",
       " array([100007, 102562, 102794, 108892, 131753, 133749, 134635, 135558,\n",
       "        135010, 100994, 132816, 100006, 133660, 135260, 137328, 101255]))"
      ]
     },
     "execution_count": 32,
     "metadata": {},
     "output_type": "execute_result"
    }
   ],
   "execution_count": 32
  },
  {
   "cell_type": "markdown",
   "id": "c5586f9b8ce48798",
   "metadata": {
    "collapsed": false
   },
   "source": [
    "# Compute the pupil and building comparators\n",
    "\n",
    "This creates the comparators sets across both academy and maintained schools"
   ]
  },
  {
   "metadata": {
    "ExecuteTime": {
     "end_time": "2024-05-16T22:37:33.016495Z",
     "start_time": "2024-05-16T22:37:11.485893Z"
    }
   },
   "cell_type": "code",
   "source": [
    "ms_comparators = comparators.compute_comparator_set(ms_data)\n",
    "# academy_comparators = comparators.compute_comparator_set(academy_data)\n",
    "# mixed_comparators = comparators.compute_comparator_set(all_schools)"
   ],
   "id": "df738055f8102aa4",
   "outputs": [
    {
     "name": "stdout",
     "output_type": "stream",
     "text": [
      "1 [100006 100007 100103 100391 100889 100994 101255 101493 101706 101972\n",
      " 102180 102562 102708 102794 103146 103887 104038 104288 104418 104757\n",
      " 104850 106022 106023 106666 108565 108666 108892 112095 112096 112098\n",
      " 113992 115836 115837 115838 115847 119103 119106 119112 121270 123349\n",
      " 126171 128088 130316 130344 130349 130359 130856 130984 130987 130991\n",
      " 131066 131100 131134 131182 131201 131294 131367 131506 131535 131584\n",
      " 131619 131626 131629 131652 131753 131769 131772 131827 132027 132033\n",
      " 132077 132128 132130 132133 132741 132816 132824 133164 133398 133410\n",
      " 133583 133660 133675 133689 133744 133749 133754 133778 133945 134108\n",
      " 134109 134127 134130 134159 134257 134260 134321 134366 134367 134373\n",
      " 134374 134390 134523 134525 134597 134623 134635 134694 134697 134699\n",
      " 134758 134759 134765 134766 134768 134846 134859 134870 134872 134880\n",
      " 134919 134970 135010 135253 135254 135260 135330 135432 135462 135465\n",
      " 135466 135467 135502 135504 135558 135640 135656 135778 135850 135851\n",
      " 135890 135891 135894 136035 136071 136161 136684 136743 136754 137322\n",
      " 137328 137596 137677 137751 137823 138102 138450 138455 138565 139560\n",
      " 140121] [0.02775839 0.         0.239289   0.16271406 0.22784528 0.0194668\n",
      " 0.05918555 0.06336005 0.28503907 0.17249912 0.1035808  0.\n",
      " 0.09318661 0.         0.48132381 0.         0.09642333 0.77052992\n",
      " 0.11528389 0.07947771 0.08357897 0.         0.17100583 0.07723172\n",
      " 0.13618971 0.         0.         0.02772683 0.02012702 0.05122266\n",
      " 0.09350261 0.03087421 0.03743835 0.1417806  0.16392723 0.2698491\n",
      " 0.03212084 0.1697716  0.13606828 0.17484577 0.17685258 0.\n",
      " 0.19139118 0.13142582 0.09468867 0.10599393 0.11437846 0.29858752\n",
      " 0.1489786  0.07747766 0.08401682 0.03067339 0.2533705  0.05639311\n",
      " 0.09305602 0.04784196 0.12776902 0.02942678 0.06372656 0.30354033\n",
      " 0.06752343 0.03163086 0.03277722 0.20549777 0.         0.27163198\n",
      " 0.16054713 0.21498948 0.08716354 0.09340342 0.10733859 0.16001348\n",
      " 0.12150473 0.27957676 0.14598    0.02194487 0.         0.11208502\n",
      " 0.08245311 0.04878055 0.09151603 0.03246076 0.12026528 0.28736264\n",
      " 0.17203203 0.         0.08417273 0.16924344 0.0995902  0.\n",
      " 0.12451827 0.13919888 0.         0.09573248 0.         0.\n",
      " 0.05412745 0.09294591 0.09745819 0.03540569 0.23075969 0.09651974\n",
      " 0.15218326 0.06568435 0.16624871 0.13422697 0.         0.17565958\n",
      " 0.09505511 0.06526991 0.15796149 0.2875115  0.12550003 0.\n",
      " 0.03714615 0.12491908 0.         0.09328419 0.15042819 0.26561076\n",
      " 0.28732364 0.         0.00966423 0.06038152 0.02357826 0.04204364\n",
      " 0.14872292 0.04295092 0.14415111 0.29546476 0.08468596 0.05477369\n",
      " 0.05617554 0.15764737 0.         0.76816364 0.         0.17136866\n",
      " 0.29802322 0.         0.11264159 0.17876276 0.16097889 0.09698416\n",
      " 0.2987193  0.01035129 0.0780724  0.38175871 0.15208453 0.\n",
      " 0.04965067 0.09736167 0.16251727 0.12866748 0.05987285 0.06586595\n",
      " 0.08496153 0.10027379 0.0845321  0.10835753 0.10614158]\n"
     ]
    }
   ],
   "execution_count": 4
  },
  {
   "metadata": {
    "ExecuteTime": {
     "end_time": "2024-05-16T17:18:45.037481Z",
     "start_time": "2024-05-16T17:18:44.612043Z"
    }
   },
   "cell_type": "code",
   "source": [
    "ms_comparators.to_parquet(\"output/comparator-sets/ms_comparators.parquet\")\n",
    "# academy_comparators.to_parquet(\"output/comparator-sets/academy_comparators.parquet\")\n",
    "# academy_comparators.to_parquet(\"output/comparator-sets/mixed_comparators.parquet\")\n",
    "# ms_data.to_parquet(\"output/comparator-sets/maintained_schools.parquet\")\n",
    "# academy_data.to_parquet(\"output/comparator-sets/academies.parquet\")\n",
    "# all_schools.to_parquet(\"output/comparator-sets/all_schools.parquet\")"
   ],
   "id": "cd9e194fd7d0cc31",
   "outputs": [],
   "execution_count": 7
  },
  {
   "metadata": {
    "ExecuteTime": {
     "end_time": "2024-05-16T22:37:39.577671Z",
     "start_time": "2024-05-16T22:37:39.571655Z"
    }
   },
   "cell_type": "code",
   "source": "ms_comparators.loc[100007][\"Building\"]",
   "id": "9091489e1e79e1ac",
   "outputs": [
    {
     "data": {
      "text/plain": [
       "array([100007, 102562, 102794, 108892, 131753, 133749, 134635, 135558,\n",
       "       135010, 100994, 132816, 100006, 133660, 135260, 137328, 101255,\n",
       "       103887, 106022, 108666, 128088, 132824, 134108, 134130, 134257,\n",
       "       134260, 134766, 134859, 134970, 135656, 135851])"
      ]
     },
     "execution_count": 5,
     "metadata": {},
     "output_type": "execute_result"
    }
   ],
   "execution_count": 5
  },
  {
   "cell_type": "markdown",
   "id": "7e3b66d447ac215a",
   "metadata": {},
   "source": [
    "### Timing Keep at the bottom"
   ]
  },
  {
   "cell_type": "code",
   "id": "a1f2e21e5d7b82c8",
   "metadata": {},
   "source": [
    "print(f'Processing Time: {time.time() - start_time} seconds')"
   ],
   "outputs": [],
   "execution_count": null
  }
 ],
 "metadata": {
  "kernelspec": {
   "display_name": "Python 3",
   "language": "python",
   "name": "python3"
  },
  "language_info": {
   "codemirror_mode": {
    "name": "ipython",
    "version": 2
   },
   "file_extension": ".py",
   "mimetype": "text/x-python",
   "name": "python",
   "nbconvert_exporter": "python",
   "pygments_lexer": "ipython2",
   "version": "2.7.6"
  }
 },
 "nbformat": 4,
 "nbformat_minor": 5
}
