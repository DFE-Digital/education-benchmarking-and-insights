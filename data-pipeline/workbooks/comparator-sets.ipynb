{
 "cells": [
  {
   "cell_type": "code",
   "execution_count": null,
   "id": "d67f5859f6e32b4d",
   "metadata": {
    "ExecuteTime": {
     "end_time": "2024-05-20T08:12:44.502023Z",
     "start_time": "2024-05-20T08:12:44.496153Z"
    }
   },
   "outputs": [],
   "source": [
    "from pathlib import Path\n",
    "import sys  \n",
    "\n",
    "# Get my_package directory path from Notebook\n",
    "parent_dir = str(Path().resolve().parents[0])\n",
    "print(parent_dir)\n",
    "# Add to sys.path\n",
    "\n",
    "path_set = set(sys.path)\n",
    "if parent_dir not in path_set:\n",
    "    sys.path.insert(0, parent_dir)\n",
    "\n",
    "print(sys.path)"
   ]
  },
  {
   "cell_type": "markdown",
   "id": "57ca200b0dd346a0",
   "metadata": {
    "collapsed": false
   },
   "source": [
    "# Comparator computation\n",
    "\n",
    "This computes the Euclidean distance for each establishment from a base establishment of a consistent type (Academies, Maintained schools, SEN). Each establishment is given a weight against every other establishment and the top 60 for each establishment creates the comparator set for that establishment. This is repeated for all establishments in the establishment types set and then finally across all establishments across all establishment types."
   ]
  },
  {
   "cell_type": "code",
   "execution_count": null,
   "id": "cd10ce1065c1f1fa",
   "metadata": {
    "ExecuteTime": {
     "end_time": "2024-05-20T08:12:45.111980Z",
     "start_time": "2024-05-20T08:12:44.503148Z"
    }
   },
   "outputs": [],
   "source": [
    "import time \n",
    "import numpy as np\n",
    "import pandas as pd\n",
    "import src.pipeline.comparator_sets as comparators\n",
    "import glob \n",
    "import os\n",
    "\n",
    "start_time = time.time()\n",
    "# Create and clean directory\n",
    "from pathlib import Path\n",
    "Path(\"output/comparator-sets\").mkdir(parents=True, exist_ok=True)\n",
    "\n",
    "# files = glob.glob(\"output/comparator-sets/*\")\n",
    "# for f in files:\n",
    "#     os.remove(f)"
   ]
  },
  {
   "cell_type": "markdown",
   "id": "e3ed3914349b273b",
   "metadata": {},
   "source": [
    "# Prepare Academy and School Data\n",
    "\n",
    "Here we prepare the academy and maintained school data by filling in missing values in NumberOfPupils, % Free School Meals and, % Sen with the mean (at this time). "
   ]
  },
  {
   "cell_type": "code",
   "execution_count": null,
   "id": "286a88267d5613f5",
   "metadata": {
    "ExecuteTime": {
     "end_time": "2024-05-20T08:12:47.927674Z",
     "start_time": "2024-05-20T08:12:47.489645Z"
    }
   },
   "outputs": [],
   "source": [
    "academy_data = comparators.prepare_data(pd.read_parquet(\"output/pre-processing/academies.parquet\"))\n",
    "ms_data = comparators.prepare_data(pd.read_parquet(\"output/pre-processing/maintained_schools.parquet\"))\n",
    "all_schools = comparators.prepare_data(pd.read_parquet(\"output/pre-processing/all_schools.parquet\"))"
   ]
  },
  {
   "cell_type": "markdown",
   "id": "c5586f9b8ce48798",
   "metadata": {
    "collapsed": false
   },
   "source": [
    "# Compute the pupil and building comparators\n",
    "\n",
    "This creates the comparators sets across both academy and maintained schools"
   ]
  },
  {
   "cell_type": "code",
   "execution_count": null,
   "id": "df738055f8102aa4",
   "metadata": {
    "ExecuteTime": {
     "end_time": "2024-05-20T08:12:52.651270Z",
     "start_time": "2024-05-20T08:12:52.040908Z"
    }
   },
   "outputs": [],
   "source": [
    "# ms_comparators = comparators.compute_comparator_set(ms_data)\n",
    "academy_comparators = comparators.compute_comparator_set(academy_data)\n",
    "# mixed_comparators = comparators.compute_comparator_set(all_schools)"
   ]
  },
  {
   "cell_type": "code",
   "execution_count": null,
   "id": "cd9e194fd7d0cc31",
   "metadata": {
    "ExecuteTime": {
     "end_time": "2024-05-17T13:47:31.322950Z",
     "start_time": "2024-05-17T13:47:31.221572Z"
    }
   },
   "outputs": [],
   "source": [
    "ms_comparators.to_parquet(\"output/comparator-sets/ms_comparators.parquet\")\n",
    "# academy_comparators.to_parquet(\"output/comparator-sets/academy_comparators.parquet\")\n",
    "# academy_comparators.to_parquet(\"output/comparator-sets/mixed_comparators.parquet\")\n",
    "# ms_data.to_parquet(\"output/comparator-sets/maintained_schools.parquet\")\n",
    "# academy_data.to_parquet(\"output/comparator-sets/academies.parquet\")\n",
    "# all_schools.to_parquet(\"output/comparator-sets/all_schools.parquet\")"
   ]
  },
  {
   "cell_type": "code",
   "execution_count": null,
   "id": "9091489e1e79e1ac",
   "metadata": {
    "ExecuteTime": {
     "end_time": "2024-05-20T08:25:40.059807Z",
     "start_time": "2024-05-20T08:25:40.045485Z"
    }
   },
   "outputs": [],
   "source": [
    "df = academy_data[[\"OfstedRating (name)\",\n",
    "                   \"UKPRN\",\n",
    "                 \"Percentage SEN\",\n",
    "                 \"Percentage Free school meals\",\n",
    "                 \"Number of pupils\",\n",
    "                 \"Total Internal Floor Area\",\n",
    "                 \"Age Average Score\",\n",
    "                 \"GOR (name)\",\n",
    "                 \"SchoolPhaseType\",\n",
    "                 \"Percentage Primary Need SPLD\",\n",
    "                 \"Percentage Primary Need MLD\",\n",
    "                 \"Percentage Primary Need PMLD\",\n",
    "                 \"Percentage Primary Need SEMH\",\n",
    "                 \"Percentage Primary Need SLCN\",\n",
    "                 \"Percentage Primary Need HI\",\n",
    "                 \"Percentage Primary Need MSI\",\n",
    "                 \"Percentage Primary Need PD\",\n",
    "                 \"Percentage Primary Need ASD\",\n",
    "                 \"Percentage Primary Need OTH\"\n",
    "                 ]].copy()\n",
    "\n",
    "# 135004\n",
    "df.sort_index().loc[147756]\n"
   ]
  },
  {
   "cell_type": "code",
   "execution_count": null,
   "id": "fe76aad4edd10d8",
   "metadata": {},
   "outputs": [],
   "source": []
  }
 ],
 "metadata": {
  "kernelspec": {
   "display_name": "Python 3",
   "language": "python",
   "name": "python3"
  },
  "language_info": {
   "codemirror_mode": {
    "name": "ipython",
    "version": 2
   },
   "file_extension": ".py",
   "mimetype": "text/x-python",
   "name": "python",
   "nbconvert_exporter": "python",
   "pygments_lexer": "ipython2",
   "version": "2.7.6"
  }
 },
 "nbformat": 4,
 "nbformat_minor": 5
}
