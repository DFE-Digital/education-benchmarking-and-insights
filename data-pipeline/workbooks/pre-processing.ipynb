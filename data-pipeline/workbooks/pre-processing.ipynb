{
 "cells": [
  {
   "cell_type": "code",
   "execution_count": null,
   "id": "acde75f1010d72b1",
   "metadata": {
    "ExecuteTime": {
     "end_time": "2024-06-26T19:32:01.892447Z",
     "start_time": "2024-06-26T19:32:01.887673Z"
    },
    "jupyter": {
     "outputs_hidden": false
    }
   },
   "outputs": [],
   "source": [
    "from pathlib import Path\n",
    "import sys  \n",
    "\n",
    "# Get my_package directory path from Notebook\n",
    "parent_dir = str(Path().resolve().parents[0])\n",
    "print(parent_dir)\n",
    "# Add to sys.path\n",
    "\n",
    "path_set = set(sys.path)\n",
    "if parent_dir not in path_set:\n",
    "    sys.path.insert(0, parent_dir)\n",
    "\n",
    "print(sys.path)"
   ]
  },
  {
   "cell_type": "markdown",
   "id": "4067c2e8c15b53c",
   "metadata": {
    "collapsed": false,
    "jupyter": {
     "outputs_hidden": false
    }
   },
   "source": [
    "# VMFI Data processing pipeline\n",
    "\n",
    "This workbook aims to emulate the current data processing pipeline that occurs in VMFI pipeline. The logic and processing is largely based on the following document [Insights data portal - Data sources and sql analysis](https://educationgovuk.sharepoint.com.mcas.ms/:w:/r/sites/VMFI/_layouts/15/Doc.aspx?sourcedoc=%7B38C1DC37-7CDB-48B8-9E22-284F4F311C0B%7D&file=1.%20Insights%20portal%20-%20data%20sources%20and%20sql%20analysis%20v010%20-%20Copy.docx&action=default&mobileredirect=true) and will stay true to this document even if the existing stored procedures are doing something different. This will form the basis of a gap analysis going forward. \n",
    "\n",
    "All data loaded in the following workbook comes from the set of CSV files in the `data` folder alongside this workbook. These datasets are for the most part from the list at the start of the linked document. However, because there is additional standing data required to fully implement the pipeline then this data has been exported from the development VMFI pipeline database. These files are currently: \n",
    "\n",
    "| File name | DB Table |\n",
    "|:----------|----------|\n",
    "|standing_data_cdc.csv | standing_data.cdc |"
   ]
  },
  {
   "cell_type": "code",
   "execution_count": null,
   "id": "12a62f29a05a0236",
   "metadata": {
    "ExecuteTime": {
     "end_time": "2024-06-26T19:32:02.388101Z",
     "start_time": "2024-06-26T19:32:01.986474Z"
    }
   },
   "outputs": [],
   "source": [
    "import pipeline.pre_processing as pre_processing\n",
    "import pipeline.input_schemas as input_schemas\n",
    "import pipeline.bfr as BFR\n",
    "import pandas as pd\n",
    "import numpy as np\n",
    "import time\n",
    "import glob\n",
    "import os"
   ]
  },
  {
   "cell_type": "code",
   "execution_count": null,
   "id": "initial_id",
   "metadata": {
    "ExecuteTime": {
     "end_time": "2024-06-26T19:32:02.391423Z",
     "start_time": "2024-06-26T19:32:02.389179Z"
    }
   },
   "outputs": [],
   "source": [
    "# Create and clean directory\n",
    "from pathlib import Path\n",
    "Path(\"output/pre-processing\").mkdir(parents=True, exist_ok=True)\n",
    "\n",
    "# files = glob.glob(\"output/pre-processing/*\")\n",
    "# for f in files:\n",
    "#     os.remove(f)"
   ]
  },
  {
   "cell_type": "code",
   "execution_count": null,
   "id": "fed44fd15f640100",
   "metadata": {
    "ExecuteTime": {
     "end_time": "2024-06-26T19:32:02.393688Z",
     "start_time": "2024-06-26T19:32:02.392007Z"
    }
   },
   "outputs": [],
   "source": [
    "start_time = time.time()\n",
    "current_year = 2022"
   ]
  },
  {
   "cell_type": "markdown",
   "id": "9e96380a5227c987",
   "metadata": {
    "collapsed": false,
    "jupyter": {
     "outputs_hidden": false
    }
   },
   "source": [
    "## CDC data load and preparation\n",
    "\n",
    "School buildings condition dataset. Based on the surveys performed throughout 2018-2019.\n",
    "\n",
    "The data in the file `data/standing_data_cdc.csv` is just an export of the data in `standing_data.cdc` table. Without the Year and Import ID fields. In future this will likely have to be read directly from the source database as per [this document.](https://educationgovuk.sharepoint.com.mcas.ms/:w:/r/sites/VMFI/_layouts/15/Doc.aspx?sourcedoc=%7B38C1DC37-7CDB-48B8-9E22-284F4F311C0B%7D&file=1.%20Insights%20portal%20-%20data%20sources%20and%20sql%20analysis%20v010%20-%20Copy.docx&action=default&mobileredirect=true) "
   ]
  },
  {
   "cell_type": "code",
   "execution_count": null,
   "id": "6563c9b9647d7005",
   "metadata": {
    "ExecuteTime": {
     "end_time": "2024-06-26T19:32:02.506147Z",
     "start_time": "2024-06-26T19:32:02.394902Z"
    },
    "jupyter": {
     "outputs_hidden": false
    }
   },
   "outputs": [],
   "source": [
    "cdc = pre_processing.prepare_cdc_data('data/cdc.csv', current_year)"
   ]
  },
  {
   "cell_type": "code",
   "execution_count": null,
   "id": "57ab167f20fdbd03",
   "metadata": {
    "ExecuteTime": {
     "end_time": "2024-06-26T19:32:02.514274Z",
     "start_time": "2024-06-26T19:32:02.506780Z"
    },
    "jupyter": {
     "outputs_hidden": false
    }
   },
   "outputs": [],
   "source": [
    "#cdc.to_csv('output/pre-processing/cdc.csv')\n",
    "cdc"
   ]
  },
  {
   "cell_type": "markdown",
   "id": "25a30c5a4a9b466",
   "metadata": {
    "collapsed": false,
    "jupyter": {
     "outputs_hidden": false
    }
   },
   "source": [
    "## School Census data load\n",
    "\n",
    "*Pupil Census* - DfE data collection providing information about school and pupil characteristics, for example percentage of pupils claiming free school`z meals, or having English as their second language. \n",
    "\n",
    "*Workforce census* - Single reference for all school workforce statistics based on staff working in publicly funded schools in England.\n",
    "\n",
    "The following code loads both the workforce and pupil census data and preforms an `inner` join by URN on the data sets."
   ]
  },
  {
   "cell_type": "code",
   "execution_count": null,
   "id": "ca2d081b",
   "metadata": {
    "ExecuteTime": {
     "end_time": "2024-06-26T19:32:08.706647Z",
     "start_time": "2024-06-26T19:32:02.514951Z"
    }
   },
   "outputs": [],
   "source": [
    "census = pre_processing.prepare_census_data('data/census_workforce.xlsx', 'data/census_pupils.csv')\n"
   ]
  },
  {
   "cell_type": "code",
   "execution_count": null,
   "id": "798d07eae73e8bba",
   "metadata": {
    "ExecuteTime": {
     "end_time": "2024-06-26T19:32:08.735254Z",
     "start_time": "2024-06-26T19:32:08.707394Z"
    },
    "jupyter": {
     "outputs_hidden": false
    }
   },
   "outputs": [],
   "source": [
    "#census.to_csv('output/pre-processing/census.csv')\n",
    "census"
   ]
  },
  {
   "cell_type": "markdown",
   "id": "eb83d7512643b7a1",
   "metadata": {
    "collapsed": false,
    "jupyter": {
     "outputs_hidden": false
    }
   },
   "source": [
    "## Special Education Needs (SEN) data load and preparation\n",
    "\n",
    "Special educational needs dataset. Contains information about the number of pupils, who require various SEN provisions. This loads the `SEN` data, which originates from [here](https://explore-education-statistics.service.gov.uk/find-statistics/special-educational-needs-in-england#dataDownloads-1)"
   ]
  },
  {
   "cell_type": "code",
   "execution_count": null,
   "id": "1a164f2280c8e888",
   "metadata": {
    "ExecuteTime": {
     "end_time": "2024-06-26T19:32:08.850582Z",
     "start_time": "2024-06-26T19:32:08.735835Z"
    },
    "jupyter": {
     "outputs_hidden": false
    }
   },
   "outputs": [],
   "source": [
    "sen = pre_processing.prepare_sen_data('data/sen.csv')"
   ]
  },
  {
   "cell_type": "code",
   "execution_count": null,
   "id": "62cfde44fd23bbb1",
   "metadata": {
    "ExecuteTime": {
     "end_time": "2024-06-26T19:32:08.860026Z",
     "start_time": "2024-06-26T19:32:08.851359Z"
    },
    "jupyter": {
     "outputs_hidden": false
    }
   },
   "outputs": [],
   "source": [
    "#sen.to_csv(\"output/pre-processing/sen.csv\")\n",
    "sen"
   ]
  },
  {
   "cell_type": "markdown",
   "id": "6714b86a",
   "metadata": {},
   "source": [
    "## KS2 and KS4 processing"
   ]
  },
  {
   "cell_type": "code",
   "execution_count": null,
   "id": "aca34e5a",
   "metadata": {
    "ExecuteTime": {
     "end_time": "2024-06-26T19:32:30.689693Z",
     "start_time": "2024-06-26T19:32:08.862020Z"
    }
   },
   "outputs": [],
   "source": [
    "ks2 = pre_processing.prepare_ks2_data('data/ks2.xlsx')"
   ]
  },
  {
   "cell_type": "code",
   "execution_count": null,
   "id": "89839a1b",
   "metadata": {
    "ExecuteTime": {
     "end_time": "2024-06-26T19:32:30.694263Z",
     "start_time": "2024-06-26T19:32:30.690302Z"
    }
   },
   "outputs": [],
   "source": [
    "#ks2.to_csv('output/pre-processing/ks2.csv')\n",
    "ks2"
   ]
  },
  {
   "cell_type": "code",
   "execution_count": null,
   "id": "df6323c4",
   "metadata": {
    "ExecuteTime": {
     "end_time": "2024-06-26T19:32:44.596696Z",
     "start_time": "2024-06-26T19:32:30.695355Z"
    }
   },
   "outputs": [],
   "source": [
    "ks4 = pre_processing.prepare_ks4_data('data/ks4.xlsx')"
   ]
  },
  {
   "cell_type": "code",
   "execution_count": null,
   "id": "ae5bae7a",
   "metadata": {
    "ExecuteTime": {
     "end_time": "2024-06-26T19:32:44.601815Z",
     "start_time": "2024-06-26T19:32:44.597421Z"
    }
   },
   "outputs": [],
   "source": [
    "#ks4.to_csv('output/pre-processing/ks4.csv')\n",
    "ks4"
   ]
  },
  {
   "cell_type": "markdown",
   "id": "5c3570cf02009cb5",
   "metadata": {
    "collapsed": false,
    "jupyter": {
     "outputs_hidden": false
    }
   },
   "source": [
    "## AR Data load and preparation\n",
    "\n",
    "This loads the Annual accounts return dataset and the corresponding mapping file. This extract only contains benchmarking section, which consists of submissions of costs, income, and balances of individual academies.\n",
    "\n",
    "The mapping file, contains the mapping from AR4 cell references to cost categories and descriptions."
   ]
  },
  {
   "cell_type": "code",
   "execution_count": 16,
   "id": "a6cb8252",
   "metadata": {
    "ExecuteTime": {
     "end_time": "2024-06-26T19:32:50.616138Z",
     "start_time": "2024-06-26T19:32:44.602797Z"
    }
   },
   "outputs": [],
   "source": [
    "academy_ar = pre_processing.prepare_aar_data('data/AR7_BenchmarkReport_2022.csv')\n",
    "central_services = pre_processing.prepare_central_services_data('data/AR7_CS_BenchmarkReport_2022.csv')"
   ]
  },
  {
   "cell_type": "code",
   "execution_count": null,
   "id": "a7aa06db2e9b4b4b",
   "metadata": {
    "ExecuteTime": {
     "end_time": "2024-06-26T19:32:50.633251Z",
     "start_time": "2024-06-26T19:32:50.616805Z"
    },
    "jupyter": {
     "outputs_hidden": false
    }
   },
   "outputs": [],
   "source": [
    "#academy_ar.to_csv('output/pre-processing/academy_ar.csv')\n",
    "academy_ar"
   ]
  },
  {
   "cell_type": "code",
   "execution_count": null,
   "id": "934ef214422f8a44",
   "metadata": {
    "ExecuteTime": {
     "end_time": "2024-06-26T19:32:50.645801Z",
     "start_time": "2024-06-26T19:32:50.633988Z"
    }
   },
   "outputs": [],
   "source": [
    "central_services"
   ]
  },
  {
   "cell_type": "markdown",
   "id": "f26320ad386f89f1",
   "metadata": {
    "collapsed": false,
    "jupyter": {
     "outputs_hidden": false
    }
   },
   "source": [
    "Create a summary table for the AR stance of each distinct academy in the table."
   ]
  },
  {
   "cell_type": "markdown",
   "id": "2320a9861dd3dc65",
   "metadata": {},
   "source": [
    "Now compute the trust financial position in the same manor as the individual academy position"
   ]
  },
  {
   "cell_type": "markdown",
   "id": "77b541a3aa8441b1",
   "metadata": {
    "collapsed": false,
    "jupyter": {
     "outputs_hidden": false
    }
   },
   "source": [
    "## Academy and maintained schools data load and preparation\n",
    "\n",
    "This reads the main GIAS data (edubasealldataYYYYMMDD file) and the associated links file (links_edubasealldataYYYYMMDD file). This is taken from the [GIAS Service](https://get-information-schools.service.gov.uk/help)\n",
    "\n",
    "Other columns are tidied up by asserting the correct type for that column. This is tidying phase is largly because on load integer columns will be inferred to be a float as opposed to an integer."
   ]
  },
  {
   "cell_type": "code",
   "execution_count": null,
   "id": "417b28e64cbeba74",
   "metadata": {
    "ExecuteTime": {
     "end_time": "2024-06-26T19:32:52.105350Z",
     "start_time": "2024-06-26T19:32:50.646484Z"
    },
    "jupyter": {
     "outputs_hidden": false
    }
   },
   "outputs": [],
   "source": [
    "schools = pre_processing.prepare_schools_data('data/gias.csv','data/gias_links.csv')\n"
   ]
  },
  {
   "cell_type": "code",
   "execution_count": null,
   "id": "80ab1312a3261637",
   "metadata": {
    "ExecuteTime": {
     "end_time": "2024-06-26T19:32:52.156048Z",
     "start_time": "2024-06-26T19:32:52.106341Z"
    },
    "jupyter": {
     "outputs_hidden": false
    }
   },
   "outputs": [],
   "source": [
    "#schools.to_csv('output/pre-processing/schools.csv')\n",
    "schools.sort_index()"
   ]
  },
  {
   "cell_type": "code",
   "execution_count": null,
   "id": "a5843bc3",
   "metadata": {
    "ExecuteTime": {
     "end_time": "2024-06-26T19:32:52.323117Z",
     "start_time": "2024-06-26T19:32:52.156842Z"
    }
   },
   "outputs": [],
   "source": [
    "cfo = pre_processing.build_cfo_data('data/cfo.xlsx')"
   ]
  },
  {
   "cell_type": "markdown",
   "id": "32a4b68ee88c7c1c",
   "metadata": {
    "collapsed": false,
    "jupyter": {
     "outputs_hidden": false
    }
   },
   "source": [
    "Merge required GIAS, census, sen, cdc, PFI, and arr data with the base academy data"
   ]
  },
  {
   "cell_type": "code",
   "execution_count": null,
   "id": "2f5b5d9b44e7947e",
   "metadata": {
    "ExecuteTime": {
     "end_time": "2024-06-26T19:32:54.861722Z",
     "start_time": "2024-06-26T19:32:52.323927Z"
    },
    "jupyter": {
     "outputs_hidden": false
    }
   },
   "outputs": [],
   "source": [
    "academies = pre_processing.build_academy_data('data/academy_master_list.csv', 'data/gias_all_links.csv',\n",
    "                                              current_year, schools, census, sen, cdc, \n",
    "                                              academy_ar, ks2, ks4, cfo, central_services)"
   ]
  },
  {
   "cell_type": "code",
   "execution_count": null,
   "id": "cf8b18891fd8d969",
   "metadata": {
    "ExecuteTime": {
     "end_time": "2024-06-26T19:32:54.873572Z",
     "start_time": "2024-06-26T19:32:54.862344Z"
    },
    "jupyter": {
     "outputs_hidden": false
    }
   },
   "outputs": [],
   "source": [
    "#academies.to_csv('output/pre-processing/academies.csv')\n",
    "academies[(academies[\"Trust UPIN\"] == 126463) | (academies[\"Trust UPIN\"] == 122824)].sort_index()[[\"Income_Total\", \"Total Expenditure\", \"Revenue reserve\", \"In year balance\",\"Income_Total_CS\", \"Total Expenditure_CS\", \"Revenue reserve_CS\", \"In year balance_CS\", \"Trust Revenue reserve\", \"Total pupils in trust\"]]"
   ]
  },
  {
   "cell_type": "markdown",
   "id": "97961d9851b09fc",
   "metadata": {
    "collapsed": false,
    "jupyter": {
     "outputs_hidden": false
    }
   },
   "source": [
    "Merge required census and cdc data to the maintained schools data set"
   ]
  },
  {
   "cell_type": "code",
   "execution_count": null,
   "id": "7625f25c-3391-43ac-9cc2-c2a204c5663e",
   "metadata": {
    "ExecuteTime": {
     "end_time": "2024-06-26T19:32:55.904591Z",
     "start_time": "2024-06-26T19:32:54.874177Z"
    }
   },
   "outputs": [],
   "source": [
    "# Load raw list from CSV\n",
    "maintained_schools = pre_processing.build_maintained_school_data('data/maintained_schools_master_list.csv','data/gias_all_links.csv',current_year, schools, census, sen, cdc, ks2, ks4)"
   ]
  },
  {
   "cell_type": "code",
   "execution_count": null,
   "id": "a10f7539-929c-4add-aa04-de2e25437c78",
   "metadata": {
    "ExecuteTime": {
     "end_time": "2024-06-26T19:32:56.929181Z",
     "start_time": "2024-06-26T19:32:55.905321Z"
    }
   },
   "outputs": [],
   "source": [
    "maintained_schools.to_csv('output/pre-processing/maintained_schools.csv')\n",
    "#maintained_schools"
   ]
  },
  {
   "cell_type": "code",
   "execution_count": null,
   "id": "e19ee73b7344621d",
   "metadata": {
    "ExecuteTime": {
     "end_time": "2024-06-26T19:32:56.981078Z",
     "start_time": "2024-06-26T19:32:56.929972Z"
    }
   },
   "outputs": [],
   "source": [
    "all_schools = pd.concat([academies,maintained_schools])"
   ]
  },
  {
   "cell_type": "markdown",
   "id": "429dff32",
   "metadata": {},
   "source": [
    "## Federation Capture\n",
    "\n",
    "\n"
   ]
  },
  {
   "cell_type": "code",
   "execution_count": null,
   "id": "38c2fabd-3a66-4edc-9b77-b1bd549071d1",
   "metadata": {
    "ExecuteTime": {
     "end_time": "2024-06-26T19:32:57.141754Z",
     "start_time": "2024-06-26T19:32:56.981733Z"
    }
   },
   "outputs": [],
   "source": [
    "(hard_federations, soft_federations) = pre_processing.build_federations_data('data/gias_all_links.csv', maintained_schools.reset_index())"
   ]
  },
  {
   "cell_type": "code",
   "execution_count": null,
   "id": "bbe0d39a",
   "metadata": {
    "ExecuteTime": {
     "end_time": "2024-06-26T19:32:57.150211Z",
     "start_time": "2024-06-26T19:32:57.142574Z"
    }
   },
   "outputs": [],
   "source": [
    "hard_federations.to_csv('output/pre-processing/hard_federations.csv')\n",
    "hard_federations"
   ]
  },
  {
   "cell_type": "code",
   "execution_count": null,
   "id": "a4b96c95",
   "metadata": {
    "ExecuteTime": {
     "end_time": "2024-06-26T19:32:57.155116Z",
     "start_time": "2024-06-26T19:32:57.150891Z"
    }
   },
   "outputs": [],
   "source": [
    "soft_federations.to_csv('output/pre-processing/soft_federations.csv')\n",
    "soft_federations[['LAEstab']]"
   ]
  },
  {
   "cell_type": "markdown",
   "id": "a8849856",
   "metadata": {},
   "source": [
    "# Budget Forcast Returns"
   ]
  },
  {
   "cell_type": "code",
   "execution_count": null,
   "id": "4fd30180ee614b23",
   "metadata": {
    "ExecuteTime": {
     "end_time": "2024-06-26T19:33:20.600189Z",
     "start_time": "2024-06-26T19:32:57.158098Z"
    }
   },
   "outputs": [],
   "source": [
    "aar_current_year = pre_processing.prepare_aar_data('data/academy_ar.xlsx')\n",
    "cs_current_year = pre_processing.prepare_central_services_data(\"data/academy_ar.xlsx\")\n",
    "aar_2022 = pre_processing.prepare_aar_data('data/academy_ar_2022.xlsx')\n",
    "cs_2022 = pre_processing.prepare_central_services_data(\"data/academy_ar_2022.xlsx\")\n",
    "aar_2021 = pre_processing.prepare_aar_data('data/academy_ar_2021.xlsx')\n",
    "cs_2021 = pre_processing.prepare_central_services_data('data/academy_ar_2021.xlsx')\n",
    "\n",
    "academies_current_year = pre_processing.build_academy_data('data/academy_master_list.csv', 'data/gias_all_links.csv',\n",
    "                                              current_year, schools, census, sen, cdc, \n",
    "                                              aar_current_year, ks2, ks4, cfo, cs_current_year)[[\"Trust UPIN\", \"Company Registration Number\", \"Trust Revenue reserve\", \"Total pupils in trust\"]]\n",
    "academies_y1 = pre_processing.build_academy_data('data/academy_master_list.csv', 'data/gias_all_links.csv',\n",
    "                                              current_year-1, schools, census, sen, cdc, \n",
    "                                              aar_2022, ks2, ks4, cfo, cs_2022)[[\"Trust UPIN\", \"Company Registration Number\", \"Trust Revenue reserve\", \"Total pupils in trust\"]]\n",
    "academies_y2 = None \n",
    "\n",
    "# pre_processing.build_academy_data('data/academy_master_list.csv', 'data/gias_all_links.csv',\n",
    "#                                               current_year-2, schools, census, sen, cdc, \n",
    "#                                               aar_2021, ks2, ks4, cfo, cs_2021)"
   ]
  },
  {
   "cell_type": "code",
   "execution_count": null,
   "id": "c86cc62134c6e558",
   "metadata": {
    "ExecuteTime": {
     "end_time": "2024-06-26T19:33:38.637073Z",
     "start_time": "2024-06-26T19:33:31.365836Z"
    }
   },
   "outputs": [],
   "source": [
    "bfr, bfr_metrics = pre_processing.build_bfr_data(current_year, 'data/BFR_SOFA_raw.csv', 'data/BFR_3Y_raw.csv', academies_current_year, academies_y1, academies_y2)"
   ]
  },
  {
   "cell_type": "code",
   "execution_count": null,
   "id": "37db5da073195328",
   "metadata": {
    "ExecuteTime": {
     "end_time": "2024-06-26T21:01:37.920128Z",
     "start_time": "2024-06-26T21:01:37.913525Z"
    }
   },
   "outputs": [],
   "source": [
    "bfr.sort_index()"
   ]
  },
  {
   "cell_type": "markdown",
   "id": "48a3001591261b92",
   "metadata": {},
   "source": [
    "### Timing Keep at the bottom"
   ]
  },
  {
   "cell_type": "code",
   "execution_count": null,
   "id": "fdd17dab96412d93",
   "metadata": {},
   "outputs": [],
   "source": [
    "print(f'Processing Time: {time.time() - start_time} seconds')"
   ]
  },
  {
   "cell_type": "markdown",
   "id": "a394ebe8",
   "metadata": {},
   "source": [
    "There are 327 duplicates in the academies outputs, and 346 in the maintained (excluding federations)\n",
    "\n",
    "\n",
    "academy_ar has 10444 entries, 148 of the urns in this list are duplicated, though they look to be schools which have changed from SAT to MAT\n",
    "\n",
    "The academies_list containes duplicated LAEstabs due to schools transitioning between SAT / MAT etc.\n",
    "\n",
    "maintained_schools has 10650 entries, 347 of which are nulls. These can just be dropped\n",
    "\n",
    "There are a few duplicates in federation data as well:"
   ]
  },
  {
   "cell_type": "code",
   "execution_count": 4,
   "id": "2216fd44",
   "metadata": {},
   "outputs": [],
   "source": [
    "import pandas as pd\n",
    "\n",
    "\n",
    "test1 = pd.read_parquet('data/maintained_schools.parquet')\n",
    "test2 = pd.read_parquet('data/academies.parquet')\n"
   ]
  }
 ],
 "metadata": {
  "kernelspec": {
   "display_name": "Python 3 (ipykernel)",
   "language": "python",
   "name": "python3"
  },
  "language_info": {
   "codemirror_mode": {
    "name": "ipython",
    "version": 3
   },
   "file_extension": ".py",
   "mimetype": "text/x-python",
   "name": "python",
   "nbconvert_exporter": "python",
   "pygments_lexer": "ipython3",
   "version": "3.11.8"
  }
 },
 "nbformat": 4,
 "nbformat_minor": 5
}
