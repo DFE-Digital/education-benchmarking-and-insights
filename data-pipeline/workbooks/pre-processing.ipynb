{
 "cells": [
  {
   "cell_type": "code",
   "id": "acde75f1010d72b1",
   "metadata": {
    "jupyter": {
     "outputs_hidden": false
    },
    "ExecuteTime": {
     "end_time": "2024-05-09T09:46:04.601500Z",
     "start_time": "2024-05-09T09:46:04.597472Z"
    }
   },
   "source": [
    "from pathlib import Path\n",
    "import sys  \n",
    "\n",
    "# Get my_package directory path from Notebook\n",
    "parent_dir = str(Path().resolve().parents[0])\n",
    "print(parent_dir)\n",
    "# Add to sys.path\n",
    "\n",
    "path_set = set(sys.path)\n",
    "if parent_dir not in path_set:\n",
    "    sys.path.insert(0, parent_dir)\n",
    "\n",
    "print(sys.path)"
   ],
   "execution_count": 1,
   "outputs": []
  },
  {
   "cell_type": "markdown",
   "id": "4067c2e8c15b53c",
   "metadata": {
    "collapsed": false,
    "jupyter": {
     "outputs_hidden": false
    }
   },
   "source": [
    "# VMFI Data processing pipeline\n",
    "\n",
    "This workbook aims to emulate the current data processing pipeline that occurs in VMFI pipeline. The logic and processing is largely based on the following document [Insights data portal - Data sources and sql analysis](https://educationgovuk.sharepoint.com.mcas.ms/:w:/r/sites/VMFI/_layouts/15/Doc.aspx?sourcedoc=%7B38C1DC37-7CDB-48B8-9E22-284F4F311C0B%7D&file=1.%20Insights%20portal%20-%20data%20sources%20and%20sql%20analysis%20v010%20-%20Copy.docx&action=default&mobileredirect=true) and will stay true to this document even if the existing stored procedures are doing something different. This will form the basis of a gap analysis going forward. \n",
    "\n",
    "All data loaded in the following workbook comes from the set of CSV files in the `data` folder alongside this workbook. These datasets are for the most part from the list at the start of the linked document. However, because there is additional standing data required to fully implement the pipeline then this data has been exported from the development VMFI pipeline database. These files are currently: \n",
    "\n",
    "| File name | DB Table |\n",
    "|:----------|----------|\n",
    "|standing_data_cdc.csv | standing_data.cdc |"
   ]
  },
  {
   "cell_type": "code",
   "id": "12a62f29a05a0236",
   "metadata": {
    "ExecuteTime": {
     "end_time": "2024-05-09T09:46:08.389356Z",
     "start_time": "2024-05-09T09:46:07.670102Z"
    }
   },
   "source": [
    "import src.pipeline.pre_processing as pre_processing\n",
    "import time\n",
    "import glob\n",
    "import os"
   ],
   "execution_count": 2,
   "outputs": []
  },
  {
   "cell_type": "code",
   "id": "initial_id",
   "metadata": {
    "ExecuteTime": {
     "end_time": "2024-05-09T09:46:10.157223Z",
     "start_time": "2024-05-09T09:46:10.146418Z"
    }
   },
   "source": [
    "# Create and clean directory\n",
    "from pathlib import Path\n",
    "Path(\"output/pre-processing\").mkdir(parents=True, exist_ok=True)\n",
    "\n",
    "files = glob.glob(\"output/pre-processing/*\")\n",
    "for f in files:\n",
    "    os.remove(f)"
   ],
   "execution_count": 3,
   "outputs": []
  },
  {
   "cell_type": "code",
   "id": "fed44fd15f640100",
   "metadata": {
    "ExecuteTime": {
     "end_time": "2024-05-09T09:46:12.525592Z",
     "start_time": "2024-05-09T09:46:12.523616Z"
    }
   },
   "source": [
    "start_time = time.time()\n",
    "current_year = 2022"
   ],
   "execution_count": 4,
   "outputs": []
  },
  {
   "cell_type": "markdown",
   "id": "9e96380a5227c987",
   "metadata": {
    "collapsed": false,
    "jupyter": {
     "outputs_hidden": false
    }
   },
   "source": [
    "## CDC data load and preparation\n",
    "\n",
    "School buildings condition dataset. Based on the surveys performed throughout 2018-2019.\n",
    "\n",
    "The data in the file `data/standing_data_cdc.csv` is just an export of the data in `standing_data.cdc` table. Without the Year and Import ID fields. In future this will likely have to be read directly from the source database as per [this document.](https://educationgovuk.sharepoint.com.mcas.ms/:w:/r/sites/VMFI/_layouts/15/Doc.aspx?sourcedoc=%7B38C1DC37-7CDB-48B8-9E22-284F4F311C0B%7D&file=1.%20Insights%20portal%20-%20data%20sources%20and%20sql%20analysis%20v010%20-%20Copy.docx&action=default&mobileredirect=true) "
   ]
  },
  {
   "cell_type": "code",
   "id": "6563c9b9647d7005",
   "metadata": {
    "jupyter": {
     "outputs_hidden": false
    },
    "ExecuteTime": {
     "end_time": "2024-05-09T09:46:15.578669Z",
     "start_time": "2024-05-09T09:46:15.443061Z"
    }
   },
   "source": [
    "cdc = pre_processing.prepare_cdc_data('data/cdc.csv', current_year)"
   ],
   "execution_count": 5,
   "outputs": []
  },
  {
   "cell_type": "code",
   "id": "57ab167f20fdbd03",
   "metadata": {
    "jupyter": {
     "outputs_hidden": false
    },
    "ExecuteTime": {
     "end_time": "2024-05-09T09:46:17.663933Z",
     "start_time": "2024-05-09T09:46:17.617990Z"
    }
   },
   "source": [
    "cdc.to_csv('output/pre-processing/cdc.csv')\n",
    "cdc"
   ],
   "execution_count": 6,
   "outputs": []
  },
  {
   "cell_type": "markdown",
   "id": "25a30c5a4a9b466",
   "metadata": {
    "collapsed": false,
    "jupyter": {
     "outputs_hidden": false
    }
   },
   "source": [
    "## School Census data load\n",
    "\n",
    "*Pupil Census* - DfE data collection providing information about school and pupil characteristics, for example percentage of pupils claiming free school`z meals, or having English as their second language. \n",
    "\n",
    "*Workforce census* - Single reference for all school workforce statistics based on staff working in publicly funded schools in England.\n",
    "\n",
    "The following code loads both the workforce and pupil census data and preforms an `inner` join by URN on the data sets."
   ]
  },
  {
   "cell_type": "code",
   "id": "ca2d081b",
   "metadata": {
    "ExecuteTime": {
     "end_time": "2024-05-09T09:46:26.294291Z",
     "start_time": "2024-05-09T09:46:20.767027Z"
    }
   },
   "source": [
    "census = pre_processing.prepare_census_data('data/census_workforce.xlsx', 'data/census_pupils.csv')"
   ],
   "execution_count": 7,
   "outputs": []
  },
  {
   "cell_type": "code",
   "id": "798d07eae73e8bba",
   "metadata": {
    "jupyter": {
     "outputs_hidden": false
    },
    "ExecuteTime": {
     "end_time": "2024-05-09T09:46:37.571882Z",
     "start_time": "2024-05-09T09:46:37.427816Z"
    }
   },
   "source": [
    "census.to_csv('output/pre-processing/census.csv')\n",
    "census"
   ],
   "execution_count": 9,
   "outputs": []
  },
  {
   "cell_type": "markdown",
   "id": "eb83d7512643b7a1",
   "metadata": {
    "collapsed": false,
    "jupyter": {
     "outputs_hidden": false
    }
   },
   "source": [
    "## Special Education Needs (SEN) data load and preparation\n",
    "\n",
    "Special educational needs dataset. Contains information about the number of pupils, who require various SEN provisions. This loads the `SEN` data, which originates from [here](https://explore-education-statistics.service.gov.uk/find-statistics/special-educational-needs-in-england#dataDownloads-1)"
   ]
  },
  {
   "cell_type": "code",
   "id": "1a164f2280c8e888",
   "metadata": {
    "jupyter": {
     "outputs_hidden": false
    },
    "ExecuteTime": {
     "end_time": "2024-05-09T09:46:37.907396Z",
     "start_time": "2024-05-09T09:46:37.574510Z"
    }
   },
   "source": [
    "sen = pre_processing.prepare_sen_data('data/sen.csv')"
   ],
   "execution_count": 10,
   "outputs": []
  },
  {
   "cell_type": "code",
   "id": "62cfde44fd23bbb1",
   "metadata": {
    "jupyter": {
     "outputs_hidden": false
    },
    "ExecuteTime": {
     "end_time": "2024-05-09T09:46:38.071759Z",
     "start_time": "2024-05-09T09:46:37.908431Z"
    }
   },
   "source": [
    "sen.to_csv(\"output/pre-processing/sen.csv\")\n",
    "sen"
   ],
   "execution_count": 11,
   "outputs": []
  },
  {
   "cell_type": "markdown",
   "id": "6714b86a",
   "metadata": {},
   "source": [
    "## KS2 and KS4 processing"
   ]
  },
  {
   "cell_type": "code",
   "id": "aca34e5a",
   "metadata": {
    "ExecuteTime": {
     "end_time": "2024-05-09T09:46:58.480442Z",
     "start_time": "2024-05-09T09:46:38.073145Z"
    }
   },
   "source": [
    "ks2 = pre_processing.prepare_ks2_data('data/ks2.xlsx')"
   ],
   "execution_count": 12,
   "outputs": []
  },
  {
   "cell_type": "code",
   "id": "89839a1b",
   "metadata": {
    "ExecuteTime": {
     "end_time": "2024-05-09T09:46:58.508866Z",
     "start_time": "2024-05-09T09:46:58.481313Z"
    }
   },
   "source": [
    "ks2.to_csv('output/pre-processing/ks2.csv')\n",
    "ks2"
   ],
   "execution_count": 13,
   "outputs": []
  },
  {
   "cell_type": "code",
   "id": "df6323c4",
   "metadata": {
    "ExecuteTime": {
     "end_time": "2024-05-09T09:47:11.527901Z",
     "start_time": "2024-05-09T09:46:58.510029Z"
    }
   },
   "source": [
    "ks4 = pre_processing.prepare_ks4_data('data/ks4.xlsx')"
   ],
   "execution_count": 14,
   "outputs": []
  },
  {
   "cell_type": "code",
   "id": "ae5bae7a",
   "metadata": {
    "ExecuteTime": {
     "end_time": "2024-05-09T09:47:11.538111Z",
     "start_time": "2024-05-09T09:47:11.528841Z"
    }
   },
   "source": [
    "ks4.to_csv('output/pre-processing/ks4.csv')\n",
    "ks4"
   ],
   "execution_count": 15,
   "outputs": []
  },
  {
   "cell_type": "markdown",
   "id": "5c3570cf02009cb5",
   "metadata": {
    "collapsed": false,
    "jupyter": {
     "outputs_hidden": false
    }
   },
   "source": [
    "## AR Data load and preparation\n",
    "\n",
    "This loads the Annual accounts return dataset and the corresponding mapping file. This extract only contains benchmarking section, which consists of submissions of costs, income, and balances of individual academies.\n",
    "\n",
    "The mapping file, contains the mapping from AR4 cell references to cost categories and descriptions."
   ]
  },
  {
   "cell_type": "code",
   "id": "a6cb8252",
   "metadata": {
    "ExecuteTime": {
     "end_time": "2024-05-09T09:47:17.165851Z",
     "start_time": "2024-05-09T09:47:11.538990Z"
    }
   },
   "source": [
    "(trust_ar, academy_ar) = pre_processing.prepare_aar_data('data/academy_ar.xlsx')"
   ],
   "execution_count": 16,
   "outputs": []
  },
  {
   "cell_type": "code",
   "id": "a7aa06db2e9b4b4b",
   "metadata": {
    "jupyter": {
     "outputs_hidden": false
    },
    "ExecuteTime": {
     "end_time": "2024-05-09T09:47:17.198582Z",
     "start_time": "2024-05-09T09:47:17.167831Z"
    }
   },
   "source": [
    "academy_ar.to_csv('output/pre-processing/academy_ar.csv')\n",
    "academy_ar"
   ],
   "execution_count": 17,
   "outputs": []
  },
  {
   "cell_type": "code",
   "id": "8482ba548cf92c81",
   "metadata": {
    "ExecuteTime": {
     "end_time": "2024-05-09T09:47:17.247973Z",
     "start_time": "2024-05-09T09:47:17.199147Z"
    }
   },
   "source": [
    "trust_ar.to_csv('output/pre-processing/trust_ar.csv')\n",
    "trust_ar"
   ],
   "execution_count": 18,
   "outputs": []
  },
  {
   "cell_type": "markdown",
   "id": "f26320ad386f89f1",
   "metadata": {
    "collapsed": false,
    "jupyter": {
     "outputs_hidden": false
    }
   },
   "source": [
    "Create a summary table for the AR stance of each distinct academy in the table."
   ]
  },
  {
   "cell_type": "markdown",
   "id": "2320a9861dd3dc65",
   "metadata": {},
   "source": [
    "Now compute the trust financial position in the same manor as the individual academy position"
   ]
  },
  {
   "cell_type": "markdown",
   "id": "77b541a3aa8441b1",
   "metadata": {
    "collapsed": false,
    "jupyter": {
     "outputs_hidden": false
    }
   },
   "source": [
    "## Academy and maintained schools data load and preparation\n",
    "\n",
    "This reads the main GIAS data (edubasealldataYYYYMMDD file) and the associated links file (links_edubasealldataYYYYMMDD file). This is taken from the [GIAS Service](https://get-information-schools.service.gov.uk/help)\n",
    "\n",
    "Other columns are tidied up by asserting the correct type for that column. This is tidying phase is largly because on load integer columns will be inferred to be a float as opposed to an integer."
   ]
  },
  {
   "cell_type": "code",
   "id": "417b28e64cbeba74",
   "metadata": {
    "jupyter": {
     "outputs_hidden": false
    },
    "ExecuteTime": {
     "end_time": "2024-05-09T09:47:18.546963Z",
     "start_time": "2024-05-09T09:47:17.248909Z"
    }
   },
   "source": [
    "schools = pre_processing.prepare_schools_data('data/gias.csv','data/gias_links.csv')\n"
   ],
   "execution_count": 19,
   "outputs": []
  },
  {
   "cell_type": "code",
   "id": "80ab1312a3261637",
   "metadata": {
    "jupyter": {
     "outputs_hidden": false
    },
    "ExecuteTime": {
     "end_time": "2024-05-09T09:47:18.979331Z",
     "start_time": "2024-05-09T09:47:18.547987Z"
    }
   },
   "source": [
    "schools.to_csv('output/pre-processing/schools.csv')\n",
    "schools.sort_index()"
   ],
   "execution_count": 20,
   "outputs": []
  },
  {
   "cell_type": "markdown",
   "id": "32a4b68ee88c7c1c",
   "metadata": {
    "collapsed": false,
    "jupyter": {
     "outputs_hidden": false
    }
   },
   "source": [
    "Merge required GIAS, census, sen, cdc, PFI, and arr data with the base academy data"
   ]
  },
  {
   "cell_type": "code",
   "id": "2f5b5d9b44e7947e",
   "metadata": {
    "jupyter": {
     "outputs_hidden": false
    },
    "ExecuteTime": {
     "end_time": "2024-05-09T09:47:20.500151Z",
     "start_time": "2024-05-09T09:47:18.980339Z"
    }
   },
   "source": [
    "academies = pre_processing.build_academy_data('data/academy_master_list.csv', \n",
    "                                              current_year, schools, census, sen, cdc, \n",
    "                                              academy_ar, trust_ar, ks2, ks4)"
   ],
   "execution_count": 21,
   "outputs": []
  },
  {
   "cell_type": "code",
   "id": "cf8b18891fd8d969",
   "metadata": {
    "jupyter": {
     "outputs_hidden": false
    },
    "ExecuteTime": {
     "end_time": "2024-05-09T09:47:21.135304Z",
     "start_time": "2024-05-09T09:47:20.501052Z"
    }
   },
   "source": [
    "academies.to_csv('output/pre-processing/academies.csv')\n",
    "academies.sort_index()"
   ],
   "execution_count": 22,
   "outputs": []
  },
  {
   "cell_type": "markdown",
   "id": "97961d9851b09fc",
   "metadata": {
    "collapsed": false,
    "jupyter": {
     "outputs_hidden": false
    }
   },
   "source": [
    "Merge required census and cdc data to the maintained schools data set"
   ]
  },
  {
   "cell_type": "code",
   "id": "7625f25c-3391-43ac-9cc2-c2a204c5663e",
   "metadata": {
    "ExecuteTime": {
     "end_time": "2024-05-09T09:47:22.022542Z",
     "start_time": "2024-05-09T09:47:21.135869Z"
    }
   },
   "source": [
    "# Load raw list from CSV\n",
    "maintained_schools = pre_processing.build_maintained_school_data('data/maintained_schools_master_list.csv',current_year, schools, census, sen, cdc, ks2, ks4)"
   ],
   "execution_count": 23,
   "outputs": []
  },
  {
   "cell_type": "code",
   "id": "a10f7539-929c-4add-aa04-de2e25437c78",
   "metadata": {
    "ExecuteTime": {
     "end_time": "2024-05-09T09:47:22.775065Z",
     "start_time": "2024-05-09T09:47:22.023252Z"
    }
   },
   "source": [
    "maintained_schools.to_csv('output/pre-processing/maintained_schools.csv')\n",
    "maintained_schools"
   ],
   "execution_count": 24,
   "outputs": []
  },
  {
   "cell_type": "markdown",
   "id": "429dff32",
   "metadata": {},
   "source": [
    "## Federation Capture\n",
    "\n",
    "\n"
   ]
  },
  {
   "cell_type": "code",
   "id": "38c2fabd-3a66-4edc-9b77-b1bd549071d1",
   "metadata": {
    "ExecuteTime": {
     "end_time": "2024-05-09T09:47:22.959628Z",
     "start_time": "2024-05-09T09:47:22.775604Z"
    }
   },
   "source": [
    "(hard_federations, soft_federations) = pre_processing.build_federations_data('data/gias_all_links.csv', maintained_schools)"
   ],
   "execution_count": 25,
   "outputs": []
  },
  {
   "cell_type": "code",
   "id": "bbe0d39a",
   "metadata": {
    "ExecuteTime": {
     "end_time": "2024-05-09T09:47:22.966525Z",
     "start_time": "2024-05-09T09:47:22.960397Z"
    }
   },
   "source": [
    "hard_federations.to_csv('output/pre-processing/hard_federations.csv')\n",
    "hard_federations"
   ],
   "execution_count": 26,
   "outputs": []
  },
  {
   "cell_type": "code",
   "id": "a4b96c95",
   "metadata": {
    "ExecuteTime": {
     "end_time": "2024-05-09T09:47:22.971876Z",
     "start_time": "2024-05-09T09:47:22.967337Z"
    }
   },
   "source": [
    "soft_federations.to_csv('output/pre-processing/soft_federations.csv')\n",
    "soft_federations[['LAEstab']]"
   ],
   "execution_count": 27,
   "outputs": []
  },
  {
   "cell_type": "markdown",
   "id": "48a3001591261b92",
   "metadata": {},
   "source": [
    "### Timing Keep at the bottom"
   ]
  },
  {
   "cell_type": "code",
   "id": "fdd17dab96412d93",
   "metadata": {
    "ExecuteTime": {
     "end_time": "2024-05-09T09:47:22.974211Z",
     "start_time": "2024-05-09T09:47:22.972519Z"
    }
   },
   "source": [
    "print(f'Processing Time: {time.time() - start_time} seconds')"
   ],
   "execution_count": 28,
   "outputs": []
  }
 ],
 "metadata": {
  "kernelspec": {
   "display_name": "Python 3 (ipykernel)",
   "language": "python",
   "name": "python3"
  },
  "language_info": {
   "codemirror_mode": {
    "name": "ipython",
    "version": 3
   },
   "file_extension": ".py",
   "mimetype": "text/x-python",
   "name": "python",
   "nbconvert_exporter": "python",
   "pygments_lexer": "ipython3",
   "version": "3.11.8"
  }
 },
 "nbformat": 4,
 "nbformat_minor": 5
}
