{
 "cells": [
  {
   "cell_type": "code",
   "execution_count": null,
   "id": "acde75f1010d72b1",
   "metadata": {
    "ExecuteTime": {
     "end_time": "2024-05-18T16:16:43.867167Z",
     "start_time": "2024-05-18T16:16:43.863684Z"
    },
    "jupyter": {
     "outputs_hidden": false
    }
   },
   "outputs": [],
   "source": [
    "from pathlib import Path\n",
    "import sys\n",
    "\n",
    "import numpy as np\n",
    "import pandas as pd\n",
    "\n",
    "# Get my_package directory path from Notebook\n",
    "parent_dir = str(Path().resolve().parents[0])\n",
    "print(parent_dir)\n",
    "# Add to sys.path\n",
    "\n",
    "path_set = set(sys.path)\n",
    "if parent_dir not in path_set:\n",
    "    sys.path.insert(0, parent_dir)\n",
    "\n",
    "print(sys.path)"
   ]
  },
  {
   "cell_type": "markdown",
   "id": "4067c2e8c15b53c",
   "metadata": {
    "collapsed": false,
    "jupyter": {
     "outputs_hidden": false
    }
   },
   "source": [
    "# VMFI Data processing pipeline\n",
    "\n",
    "This workbook aims to emulate the current data processing pipeline that occurs in VMFI pipeline. The logic and processing is largely based on the following document [Insights data portal - Data sources and sql analysis](https://educationgovuk.sharepoint.com.mcas.ms/:w:/r/sites/VMFI/_layouts/15/Doc.aspx?sourcedoc=%7B38C1DC37-7CDB-48B8-9E22-284F4F311C0B%7D&file=1.%20Insights%20portal%20-%20data%20sources%20and%20sql%20analysis%20v010%20-%20Copy.docx&action=default&mobileredirect=true) and will stay true to this document even if the existing stored procedures are doing something different. This will form the basis of a gap analysis going forward. \n",
    "\n",
    "All data loaded in the following workbook comes from the set of CSV files in the `data` folder alongside this workbook. These datasets are for the most part from the list at the start of the linked document. However, because there is additional standing data required to fully implement the pipeline then this data has been exported from the development VMFI pipeline database. These files are currently: \n",
    "\n",
    "| File name | DB Table |\n",
    "|:----------|----------|\n",
    "|standing_data_cdc.csv | standing_data.cdc |"
   ]
  },
  {
   "cell_type": "code",
   "execution_count": null,
   "id": "12a62f29a05a0236",
   "metadata": {
    "ExecuteTime": {
     "end_time": "2024-05-18T16:16:43.904308Z",
     "start_time": "2024-05-18T16:16:43.901969Z"
    }
   },
   "outputs": [],
   "source": [
    "import src.pipeline.pre_processing as pre_processing\n",
<<<<<<< HEAD
    "import src.pipeline.output_schemas as output_schemas\n",
    "import pandas as pd\n",
=======
>>>>>>> main
    "import time\n",
    "import glob\n",
    "import os"
   ]
  },
  {
   "cell_type": "code",
   "execution_count": null,
   "id": "initial_id",
   "metadata": {
    "ExecuteTime": {
     "end_time": "2024-05-18T16:16:43.908964Z",
     "start_time": "2024-05-18T16:16:43.905899Z"
    }
   },
   "outputs": [],
   "source": [
    "# Create and clean directory\n",
    "from pathlib import Path\n",
    "Path(\"output/pre-processing\").mkdir(parents=True, exist_ok=True)\n",
    "\n",
    "files = glob.glob(\"output/pre-processing/*\")\n",
    "for f in files:\n",
    "    os.remove(f)"
   ]
  },
  {
   "cell_type": "code",
   "execution_count": null,
   "id": "fed44fd15f640100",
   "metadata": {
    "ExecuteTime": {
     "end_time": "2024-05-18T16:16:43.934265Z",
     "start_time": "2024-05-18T16:16:43.931889Z"
    }
   },
   "outputs": [],
   "source": [
    "current_year = 2022"
   ]
  },
  {
   "cell_type": "markdown",
   "id": "9e96380a5227c987",
   "metadata": {
    "collapsed": false,
    "jupyter": {
     "outputs_hidden": false
    }
   },
   "source": [
    "## CDC data load and preparation\n",
    "\n",
    "School buildings condition dataset. Based on the surveys performed throughout 2018-2019.\n",
    "\n",
    "The data in the file `data/standing_data_cdc.csv` is just an export of the data in `standing_data.cdc` table. Without the Year and Import ID fields. In future this will likely have to be read directly from the source database as per [this document.](https://educationgovuk.sharepoint.com.mcas.ms/:w:/r/sites/VMFI/_layouts/15/Doc.aspx?sourcedoc=%7B38C1DC37-7CDB-48B8-9E22-284F4F311C0B%7D&file=1.%20Insights%20portal%20-%20data%20sources%20and%20sql%20analysis%20v010%20-%20Copy.docx&action=default&mobileredirect=true) "
   ]
  },
  {
   "cell_type": "code",
   "execution_count": null,
   "id": "6563c9b9647d7005",
   "metadata": {
    "ExecuteTime": {
     "end_time": "2024-05-18T16:16:44.112552Z",
     "start_time": "2024-05-18T16:16:43.957706Z"
    },
    "jupyter": {
     "outputs_hidden": false
    }
   },
   "outputs": [],
   "source": [
    "cdc = pre_processing.prepare_cdc_data('data/cdc.csv', current_year)"
   ]
  },
  {
   "cell_type": "code",
   "execution_count": null,
   "id": "57ab167f20fdbd03",
   "metadata": {
    "ExecuteTime": {
     "end_time": "2024-05-18T16:16:44.119571Z",
     "start_time": "2024-05-18T16:16:44.113985Z"
    },
    "jupyter": {
     "outputs_hidden": false
    }
   },
   "outputs": [],
   "source": [
    "#cdc.to_csv('output/pre-processing/cdc.csv')\n",
    "cdc"
   ]
  },
  {
   "cell_type": "markdown",
   "id": "25a30c5a4a9b466",
   "metadata": {
    "collapsed": false,
    "jupyter": {
     "outputs_hidden": false
    }
   },
   "source": [
    "## School Census data load\n",
    "\n",
    "*Pupil Census* - DfE data collection providing information about school and pupil characteristics, for example percentage of pupils claiming free school`z meals, or having English as their second language. \n",
    "\n",
    "*Workforce census* - Single reference for all school workforce statistics based on staff working in publicly funded schools in England.\n",
    "\n",
    "The following code loads both the workforce and pupil census data and preforms an `inner` join by URN on the data sets."
   ]
  },
  {
   "cell_type": "code",
   "execution_count": null,
   "id": "ca2d081b",
   "metadata": {
    "ExecuteTime": {
     "end_time": "2024-05-18T16:16:50.003846Z",
     "start_time": "2024-05-18T16:16:44.120344Z"
    }
   },
   "outputs": [],
   "source": [
    "census = pre_processing.prepare_census_data('data/census_workforce.xlsx', 'data/census_pupils.csv')\n",
    "\n",
    "#todo - add logic for highest / lowest age from census data"
   ]
  },
  {
   "cell_type": "code",
   "execution_count": null,
   "id": "798d07eae73e8bba",
   "metadata": {
    "ExecuteTime": {
     "end_time": "2024-05-18T16:16:50.015501Z",
     "start_time": "2024-05-18T16:16:50.005493Z"
    },
    "jupyter": {
     "outputs_hidden": false
    }
   },
   "outputs": [],
   "source": [
    "#census.to_csv('output/pre-processing/census.csv')\n",
    "census"
   ]
  },
  {
   "cell_type": "markdown",
   "id": "eb83d7512643b7a1",
   "metadata": {
    "collapsed": false,
    "jupyter": {
     "outputs_hidden": false
    }
   },
   "source": [
    "## Special Education Needs (SEN) data load and preparation\n",
    "\n",
    "Special educational needs dataset. Contains information about the number of pupils, who require various SEN provisions. This loads the `SEN` data, which originates from [here](https://explore-education-statistics.service.gov.uk/find-statistics/special-educational-needs-in-england#dataDownloads-1)"
   ]
  },
  {
   "cell_type": "code",
   "execution_count": null,
   "id": "1a164f2280c8e888",
   "metadata": {
    "ExecuteTime": {
     "end_time": "2024-05-18T16:16:50.177223Z",
     "start_time": "2024-05-18T16:16:50.016259Z"
    },
    "jupyter": {
     "outputs_hidden": false
    }
   },
   "outputs": [],
   "source": [
    "sen = pre_processing.prepare_sen_data('data/sen.csv')"
   ]
  },
  {
   "cell_type": "code",
   "execution_count": null,
   "id": "62cfde44fd23bbb1",
   "metadata": {
    "ExecuteTime": {
     "end_time": "2024-05-18T16:16:50.217790Z",
     "start_time": "2024-05-18T16:16:50.178384Z"
    },
    "jupyter": {
     "outputs_hidden": false
    }
   },
   "outputs": [],
   "source": [
    "#sen.to_csv(\"output/pre-processing/sen.csv\")\n",
    "sen.describe()"
   ]
  },
  {
   "cell_type": "markdown",
   "id": "6714b86a",
   "metadata": {},
   "source": [
    "## KS2 and KS4 processing"
   ]
  },
  {
   "cell_type": "code",
   "execution_count": null,
   "id": "aca34e5a",
   "metadata": {
    "ExecuteTime": {
     "end_time": "2024-05-18T16:17:11.740888Z",
     "start_time": "2024-05-18T16:16:50.218693Z"
    }
   },
   "outputs": [],
   "source": [
    "#ks2 = pre_processing.prepare_ks2_data('data/ks2.xlsx')\n",
    "ks2 = pd.DataFrame({'URN':[100,200]})"
   ]
  },
  {
   "cell_type": "code",
   "execution_count": null,
   "id": "89839a1b",
   "metadata": {
    "ExecuteTime": {
     "end_time": "2024-05-18T16:17:11.746732Z",
     "start_time": "2024-05-18T16:17:11.742065Z"
    }
   },
   "outputs": [],
   "source": [
    "#ks2.to_csv('output/pre-processing/ks2.csv')\n",
    "ks2"
   ]
  },
  {
   "cell_type": "code",
   "execution_count": null,
   "id": "df6323c4",
   "metadata": {
    "ExecuteTime": {
     "end_time": "2024-05-18T16:17:25.651172Z",
     "start_time": "2024-05-18T16:17:11.747476Z"
    }
   },
   "outputs": [],
   "source": [
    "#ks4 = pre_processing.prepare_ks4_data('data/ks4.xlsx')\n",
    "ks4 = pd.DataFrame({'URN':[100,200]})"
   ]
  },
  {
   "cell_type": "code",
   "execution_count": null,
   "id": "ae5bae7a",
   "metadata": {
    "ExecuteTime": {
     "end_time": "2024-05-18T16:17:25.659436Z",
     "start_time": "2024-05-18T16:17:25.653955Z"
    }
   },
   "outputs": [],
   "source": [
    "#ks4.to_csv('output/pre-processing/ks4.csv')\n",
    "ks4"
   ]
  },
  {
   "cell_type": "markdown",
   "id": "5c3570cf02009cb5",
   "metadata": {
    "collapsed": false,
    "jupyter": {
     "outputs_hidden": false
    }
   },
   "source": [
    "## AR Data load and preparation\n",
    "\n",
    "This loads the Annual accounts return dataset and the corresponding mapping file. This extract only contains benchmarking section, which consists of submissions of costs, income, and balances of individual academies.\n",
    "\n",
    "The mapping file, contains the mapping from AR4 cell references to cost categories and descriptions."
   ]
  },
  {
   "cell_type": "code",
   "execution_count": null,
   "id": "a6cb8252",
   "metadata": {
    "ExecuteTime": {
     "end_time": "2024-05-18T16:17:31.962259Z",
     "start_time": "2024-05-18T16:17:25.660300Z"
    }
   },
   "outputs": [],
   "source": [
    "aar = pre_processing.prepare_aar_data('data/academy_ar.xlsx')"
   ]
  },
  {
   "cell_type": "code",
   "execution_count": null,
   "id": "a7aa06db2e9b4b4b",
   "metadata": {
    "ExecuteTime": {
     "end_time": "2024-05-18T16:17:31.980519Z",
     "start_time": "2024-05-18T16:17:31.963187Z"
    },
    "jupyter": {
     "outputs_hidden": false
    }
   },
   "outputs": [],
   "source": [
    "#academy_ar.to_csv('output/pre-processing/academy_ar.csv')\n",
    "aar"
   ]
  },
  {
   "cell_type": "markdown",
   "id": "77b541a3aa8441b1",
   "metadata": {
    "collapsed": false,
    "jupyter": {
     "outputs_hidden": false
    }
   },
   "source": [
    "## Academy and maintained schools data load and preparation\n",
    "\n",
    "This reads the main GIAS data (edubasealldataYYYYMMDD file) and the associated links file (links_edubasealldataYYYYMMDD file). This is taken from the [GIAS Service](https://get-information-schools.service.gov.uk/help)\n",
    "\n",
    "Other columns are tidied up by asserting the correct type for that column. This is tidying phase is largly because on load integer columns will be inferred to be a float as opposed to an integer."
   ]
  },
  {
   "cell_type": "code",
   "execution_count": null,
   "id": "417b28e64cbeba74",
   "metadata": {
    "ExecuteTime": {
     "end_time": "2024-05-18T16:17:33.124260Z",
     "start_time": "2024-05-18T16:17:31.981540Z"
    },
    "jupyter": {
     "outputs_hidden": false
    }
   },
   "outputs": [],
   "source": [
    "schools = pre_processing.prepare_schools_data('data/gias.csv','data/gias_links.csv')\n"
   ]
  },
  {
   "cell_type": "code",
   "execution_count": null,
   "id": "80ab1312a3261637",
   "metadata": {
    "ExecuteTime": {
     "end_time": "2024-05-18T16:17:33.174215Z",
     "start_time": "2024-05-18T16:17:33.125101Z"
    },
    "jupyter": {
     "outputs_hidden": false
    }
   },
   "outputs": [],
   "source": [
    "#schools.to_csv('output/pre-processing/schools.csv')\n",
    "schools.sort_index()"
   ]
  },
  {
   "cell_type": "markdown",
   "id": "32a4b68ee88c7c1c",
   "metadata": {
    "collapsed": false,
    "jupyter": {
     "outputs_hidden": false
    }
   },
   "source": [
    "Merge required GIAS, census, sen, cdc, PFI, and arr data with the base academy data"
   ]
  },
  {
   "cell_type": "code",
   "execution_count": null,
   "id": "2f5b5d9b44e7947e",
   "metadata": {
    "ExecuteTime": {
     "end_time": "2024-05-18T16:17:42.144184Z",
     "start_time": "2024-05-18T16:17:40.484044Z"
    },
    "jupyter": {
     "outputs_hidden": false
    }
   },
   "outputs": [],
   "source": [
    "academies = pre_processing.build_academy_data('data/academy_master_list.csv', \n",
    "                                              current_year, schools, census, sen, cdc, \n",
    "                                              aar, ks2, ks4)"
   ]
  },
  {
   "cell_type": "code",
   "execution_count": null,
   "id": "cf8b18891fd8d969",
   "metadata": {
    "ExecuteTime": {
     "end_time": "2024-05-20T08:27:59.098570Z",
     "start_time": "2024-05-20T08:27:59.059454Z"
    },
    "jupyter": {
     "outputs_hidden": false
    }
   },
   "outputs": [],
   "source": [
<<<<<<< HEAD
    "academies.to_csv('output/pre-processing/academies.csv', columns=output_schemas.academies_output)\n",
    "academies.sort_index()"
=======
    "# academies.to_csv('output/pre-processing/academies.csv', columns=output_schemas.academies_output)\n",
    "academies"
>>>>>>> main
   ]
  },
  {
   "cell_type": "markdown",
   "id": "97961d9851b09fc",
   "metadata": {
    "collapsed": false,
    "jupyter": {
     "outputs_hidden": false
    }
   },
   "source": [
    "Merge required census and cdc data to the maintained schools data set"
   ]
  },
  {
   "cell_type": "code",
   "execution_count": null,
   "id": "7625f25c-3391-43ac-9cc2-c2a204c5663e",
   "metadata": {},
   "outputs": [],
   "source": [
    "# Load raw list from CSV\n",
    "maintained_schools = pre_processing.build_maintained_school_data('data/maintained_schools_master_list.csv',current_year, schools, census, sen, cdc, ks2, ks4)"
   ]
  },
  {
   "cell_type": "code",
   "execution_count": null,
   "id": "a10f7539-929c-4add-aa04-de2e25437c78",
   "metadata": {},
   "outputs": [],
   "source": [
<<<<<<< HEAD
    "maintained_schools.to_csv('output/pre-processing/maintained_schools.csv', columns=output_schemas.maintained_schools_output)\n",
    "#maintained_schools"
=======
    "maintained_schools_output = [\n",
    "    \"number of pupils whose first language is known or believed to be other than English\",\n",
    "    \"Utilities_Water and sewerage:\",\n",
    "    \"Utilities_Energy\",\n",
    "    \"UrbanRural (name)\",\n",
    "    \"UKPRN\",\n",
    "    \"Type\",\n",
    "    \"Total pupils\",\n",
    "    \"Total School Workforce (Headcount)\",\n",
    "    \"Total School Workforce (Full-Time Equivalent)\",\n",
    "    \"Total Number of Teaching Assistants (Headcount)\",\n",
    "    \"Total Number of Teaching Assistants (Full-Time Equivalent)\",\n",
    "    \"Total Number of Teachers in the Leadership Group (Headcount)\",\n",
    "    \"Total Number of Teachers in the Leadership Group (Full-time Equivalent)\",\n",
    "    \"Total Number of Teachers (Headcount)\",\n",
    "    \"Total Number of Teachers (Full-Time Equivalent)\",\n",
    "    \"Total Number of Auxiliary Staff (Headcount)\",\n",
    "    \"Total Number of Auxiliary Staff (Full-Time Equivalent)\",\n",
    "    \"Total Internal Floor Area\",\n",
    "    \"Total Income   I01 to I18\",\n",
    "    '\"Total Income   I01 to I08, I11 to I15, I18\"',\n",
    "    \"Total Expenditure  E01 to E32\",\n",
    "    '\"Total Expenditure  E01 to E29 and E31 to E32 minus I9, I10, I16 and I17\"',\n",
    "    \"TelephoneNum\",\n",
    "    \"Teaching and Teaching support staff_Teaching staff\",\n",
    "    \"Teaching and Teaching support staff_Supply teaching staff\",\n",
    "    \"Teaching and Teaching support staff_Educational consultancy\",\n",
    "    \"Teaching and Teaching support staff_Education support staff\",\n",
    "    \"Teaching and Teaching support staff_Agency supply teaching staff\",\n",
    "    \"Teachers with Qualified Teacher Status (%) (Headcount)\",\n",
    "    \"Statutory Low Age\",\n",
    "    \"Status\",\n",
    "    \"SchoolWebsite\",\n",
    "    \"SchoolPhaseType\",\n",
    "    \"SchoolCapacity\",\n",
    "    \"School Financial Position\",\n",
    "    \"School Balance\",\n",
    "    \"Revenue Reserve   B01 plus B02 plus B06\",\n",
    "    \"Pupil: Teacher Ratio (Full-Time Equivalent of qualified and unqualified teachers)\",\n",
    "    \"Prov_VI\",\n",
    "    \"Prov_SPLD\",\n",
    "    \"Prov_SLD\",\n",
    "    \"Prov_SLCN\",\n",
    "    \"Prov_SEMH\",\n",
    "    \"Prov_PMLD\",\n",
    "    \"Prov_PD\",\n",
    "    \"Prov_OTH\",\n",
    "    \"Prov_MSI\",\n",
    "    \"Prov_MLD\",\n",
    "    \"Prov_HI\",\n",
    "    \"Prov_ASD\",\n",
    "    \"Progress8Measure\",\n",
    "    \"Progress8Banding\",\n",
    "    \"Primary Need VI\",\n",
    "    \"Primary Need SPLD\",\n",
    "    \"Primary Need SLD\",\n",
    "    \"Primary Need SLCN\",\n",
    "    \"Primary Need SEMH\",\n",
    "    \"Primary Need PMLD\",\n",
    "    \"Primary Need PD\",\n",
    "    \"Primary Need OTH\",\n",
    "    \"Primary Need MSI\",\n",
    "    \"Primary Need MLD\",\n",
    "    \"Primary Need HI\",\n",
    "    \"Primary Need ASD\",\n",
    "    \"Premises staff and services_Premises staff\",\n",
    "    \"Premises staff and services_Other occupation costs\",\n",
    "    \"Premises staff and services_Maintenance of premises\",\n",
    "    \"Premises staff and services_Cleaning and caretaking\",\n",
    "    \"Postcode\",\n",
    "    \"Percentage SEN\",\n",
    "    \"Percentage Free school meals\",\n",
    "    \"PFI School\",\n",
    "    \"Overall Phase\",\n",
    "    \"Other grants and payments\",\n",
    "    \"Other costs_Supply teacher insurance\",\n",
    "    \"Other costs_Staff-related insurance\",\n",
    "    \"Other costs_Staff development and training\",\n",
    "    \"Other costs_Special facilities\",\n",
    "    \"Other costs_Rent and rates\",\n",
    "    \"Other costs_PFI charges\",\n",
    "    \"Other costs_Other insurance premiums\",\n",
    "    \"Other costs_Interest charges for loan and bank\",\n",
    "    \"Other costs_Indirect employee expenses\",\n",
    "    \"Other costs_Grounds maintenance\",\n",
    "    \"Other costs_Direct revenue financing\",\n",
    "    \"OfstedRating (name)\",\n",
    "    \"OfstedLastInsp\",\n",
    "    \"OfficialSixthForm (code)\",\n",
    "    \"NurseryProvision (name)\",\n",
    "    \"Number of Vacant Teacher Posts\",\n",
    "    \"Non-educational support staff_Professional services (non-curriculum)\",\n",
    "    \"Non-educational support staff_Other staff\",\n",
    "    \"Non-educational support staff_Administrative and clerical staff\",\n",
    "    \"No of pupils in 6th form\",\n",
    "    \"No Teachers\",\n",
    "    \"MSOA (code)\",\n",
    "    \"Lowest age of pupils\",\n",
    "    \"London Weighting\",\n",
    "    \"Lead school in federation\",\n",
    "    \"LastChangedDate\",\n",
    "    \"LSOA (code)\",\n",
    "    \"LA Establishment Number\",\n",
    "    \"LA (name)\",\n",
    "    \"LA (code)\",\n",
    "    \"Ks2Progress\",\n",
    "    \"In-year Balance   Total Income (I01 to I18) minus Total Expenditure (E01 to E32)\",\n",
    "    \"IT_ICT learning resources\",\n",
    "    \"I18  Additional grant for schools\",\n",
    "    \"I17  Community focused school facilities income\",\n",
    "    \"I16  Community focussed school funding and   or grants\",\n",
    "    \"I15  Pupil focussed extended school funding and   or grants\",\n",
    "    \"I13  Donations and or private funds\",\n",
    "    \"I12  Income from contributions to visits etc\",\n",
    "    \"I11  Receipts from other insurance claims\",\n",
    "    \"I10  Receipts from supply teacher insurance claims\",\n",
    "    \"I08  Income from facilities and services\",\n",
    "    \"I06  Other government grants\",\n",
    "    \"I05  Pupil Premium\",\n",
    "    \"I04  Funding for minority ethnic pupils\",\n",
    "    \"I03  SEN funding\",\n",
    "    \"I02  Funding for 6th form students\",\n",
    "    \"I01  Funds delegated by the LA\",\n",
    "    \"Highest age of pupils\",\n",
    "    \"HeadName\",\n",
    "    \"Gender (name)\",\n",
    "    \"GOR (name)\",\n",
    "    \"FullTimeOtherHeadCount\",\n",
    "    \"FullTimeOther\",\n",
    "    \"FTE of Teaching Assistants\",\n",
    "    \"FTE of Support Staff\",\n",
    "    \"FTE of Admin Staff\",\n",
    "    \"EstablishmentNumber\",\n",
    "    \"EstablishmentName\",\n",
    "    \"Educational supplies_Learning resources (not ICT equipment)\",\n",
    "    \"Educational supplies_Examination fees\",\n",
    "    \"EHC plan\",\n",
    "    \"E32 Community focused school costs\",\n",
    "    \"E31  Community focused school staff\",\n",
    "    \"Catering_Income from catering\",\n",
    "    \"Catering_Catering supplies\",\n",
    "    \"Catering_Catering staff\",\n",
    "    \"BoardingEstablishment (name)\",\n",
    "    \"Boarders (name)\",\n",
    "    \"AverageAttainment\",\n",
    "    \"Age Average Score\",\n",
    "    \"AdmissionsPolicy (name)\",\n",
    "    \"AdmissionsPolicy (code)\",\n",
    "    \"Administrative supplies_Administrative supplies (non educational)\",\n",
    "    \"% of teachers with QTS\",\n",
    "    \"% of pupils with EAL\",\n",
    "    \"% of pupils who are Boarders\",\n",
    "    \"% of pupils known to be eligible for free school meals (Performa\",\n",
    "    \"% of pupils known to be eligible for and claiming free school me\",\n",
    "]\n",
    "\n",
    "maintained_schools['Premises staff and services_Premises staff']\n",
    "maintained_schools.to_csv('output/pre-processing/maintained_schools.csv', columns=maintained_schools_output)\n",
    "maintained_schools"
>>>>>>> main
   ]
  },
  {
   "cell_type": "markdown",
   "id": "429dff32",
   "metadata": {},
   "source": [
    "## Federation Capture\n",
    "\n",
    "\n"
   ]
  },
  {
   "cell_type": "code",
   "execution_count": null,
   "id": "38c2fabd-3a66-4edc-9b77-b1bd549071d1",
   "metadata": {},
   "outputs": [],
   "source": [
    "(hard_federations, soft_federations) = pre_processing.build_federations_data('data/gias_all_links.csv', maintained_schools)"
   ]
  },
  {
   "cell_type": "code",
   "execution_count": null,
   "id": "bbe0d39a",
   "metadata": {},
   "outputs": [],
   "source": [
    "hard_federations.to_csv('output/pre-processing/hard_federations.csv')\n",
    "hard_federations"
   ]
  },
  {
   "cell_type": "code",
   "execution_count": null,
   "id": "a4b96c95",
   "metadata": {},
   "outputs": [],
   "source": [
    "soft_federations.to_csv('output/pre-processing/soft_federations.csv')\n",
    "soft_federations[['LAEstab']]"
   ]
<<<<<<< HEAD
  },
  {
   "cell_type": "code",
   "execution_count": null,
   "id": "ecee3f61",
   "metadata": {},
   "outputs": [],
   "source": [
    "# amalgamate school data\n",
    "\n",
    "schools_table_output = [\n",
    "   \"UKPRN\",\n",
    "  \"Establishment Name\",\n",
    "  \"Finance Type\",\n",
    "  \"Overall Phase\",\n",
    "  # \"Ofsted Rating\",\n",
    "  \"Ofsted Rating Description\",\n",
    "  \"Ofsted Inspection Date\",\n",
    "  #  \"Establishment Type\",\n",
    "  \"LA Code\",\n",
    "  \"LA Name\",\n",
    "  \"Street\",\n",
    "  \"Locality\",\n",
    "  \"Address 3\",\n",
    "  \"Town\",\n",
    "  \"County\",\n",
    "  \"Postcode\",\n",
    "  \"Telephone\",\n",
    "  \"Website\",\n",
    "  #  \"Contact Email\",\n",
    "  #  \"Headteacher email\",\n",
    "  \"Head Teacher Name\",\n",
    "  \"Trust Name\",\n",
    "  \"Trust UKPRN\",\n",
    "  \"Federation Name\",\n",
    "  \"Federation Lead School UKPRN\",\n",
    "  \"Has a sixth form\",\n",
    "  \"Has a nursery\",\n",
    "  \"Is PFI School\",\n",
    "  \"Region\",\n",
    "  \"District\",\n",
    "  \"Ward\",\n",
    "  \"London Weighting\"\n",
    "]\n",
    "\n",
    "\n",
    "list_of_laestabs = maintained_schools[\"LAEstab\"][maintained_schools[\"Lead school in federation\"]!=\"0\"]\n",
    "list_of_ukprns = maintained_schools[\"UKPRN\"][maintained_schools[\"Lead school in federation\"]!=\"0\"]\n",
    "mappings = dict(zip(list_of_laestabs,list_of_ukprns))\n",
    "\n",
    "maintained_schools[\"Federation Lead School UKPRN\"] = maintained_schools[\"Lead school in federation\"].map(mappings)\n",
    "maintained_schools = pd.merge(maintained_schools, hard_federations[['FederationName']], how='left', on='URN')\n",
    "maintained_schools.rename(columns = {\"FederationName\":\"Federation Name\"}, inplace = True)\n",
    "all_school_data = pd.concat((maintained_schools, academies))\n",
    "\n",
    "all_school_data.to_csv('output/pre-processing/all_school_data.csv', columns=schools_table_output)\n",
    "\n"
   ]
  },
  {
   "cell_type": "code",
   "execution_count": null,
   "id": "541bb901",
   "metadata": {},
   "outputs": [],
   "source": [
    "maintained_schools[[\"UKPRN\",\"Federation Lead School UKPRN\",\"LAEstab\",\"Lead school in federation\"]][maintained_schools['Lead school in federation']!=\"0\"]\n"
   ]
  },
  {
   "cell_type": "markdown",
   "id": "48a3001591261b92",
   "metadata": {},
   "source": [
    "### Timing Keep at the bottom"
   ]
  },
  {
   "cell_type": "code",
   "execution_count": null,
   "id": "fdd17dab96412d93",
   "metadata": {
    "ExecuteTime": {
     "end_time": "2024-04-29T20:47:08.793368Z",
     "start_time": "2024-04-29T20:47:08.791264Z"
    }
   },
   "outputs": [],
   "source": [
    "print(f'Processing Time: {time.time() - start_time} seconds')"
   ]
=======
>>>>>>> main
  }
 ],
 "metadata": {
  "kernelspec": {
   "display_name": "Python 3 (ipykernel)",
   "language": "python",
   "name": "python3"
  },
  "language_info": {
   "codemirror_mode": {
    "name": "ipython",
    "version": 3
   },
   "file_extension": ".py",
   "mimetype": "text/x-python",
   "name": "python",
   "nbconvert_exporter": "python",
   "pygments_lexer": "ipython3",
   "version": "3.11.8"
  }
 },
 "nbformat": 4,
 "nbformat_minor": 5
}
