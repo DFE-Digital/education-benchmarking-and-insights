{
 "cells": [
  {
   "cell_type": "code",
   "id": "acde75f1010d72b1",
   "metadata": {
    "jupyter": {
     "outputs_hidden": false
    },
    "ExecuteTime": {
     "end_time": "2024-05-16T20:03:03.020118Z",
     "start_time": "2024-05-16T20:03:02.877214Z"
    }
   },
   "source": [
    "from pathlib import Path\n",
    "import sys\n",
    "\n",
    "import numpy as np\n",
    "\n",
    "# Get my_package directory path from Notebook\n",
    "parent_dir = str(Path().resolve().parents[0])\n",
    "print(parent_dir)\n",
    "# Add to sys.path\n",
    "\n",
    "path_set = set(sys.path)\n",
    "if parent_dir not in path_set:\n",
    "    sys.path.insert(0, parent_dir)\n",
    "\n",
    "print(sys.path)"
   ],
   "outputs": [
    {
     "name": "stdout",
     "output_type": "stream",
     "text": [
      "/Users/colinbull/appdev/dfe/sfb/education-benchmarking-and-insights/data-pipeline\n",
      "['/Users/colinbull/appdev/dfe/sfb/education-benchmarking-and-insights/data-pipeline', '/opt/homebrew/Cellar/python@3.12/3.12.2_1/Frameworks/Python.framework/Versions/3.12/lib/python312.zip', '/opt/homebrew/Cellar/python@3.12/3.12.2_1/Frameworks/Python.framework/Versions/3.12/lib/python3.12', '/opt/homebrew/Cellar/python@3.12/3.12.2_1/Frameworks/Python.framework/Versions/3.12/lib/python3.12/lib-dynload', '', '/Users/colinbull/Library/Caches/pypoetry/virtualenvs/fbit-data-pipeline-aJYNke-B-py3.12/lib/python3.12/site-packages']\n"
     ]
    }
   ],
   "execution_count": 1
  },
  {
   "cell_type": "markdown",
   "id": "4067c2e8c15b53c",
   "metadata": {
    "collapsed": false,
    "jupyter": {
     "outputs_hidden": false
    }
   },
   "source": [
    "# VMFI Data processing pipeline\n",
    "\n",
    "This workbook aims to emulate the current data processing pipeline that occurs in VMFI pipeline. The logic and processing is largely based on the following document [Insights data portal - Data sources and sql analysis](https://educationgovuk.sharepoint.com.mcas.ms/:w:/r/sites/VMFI/_layouts/15/Doc.aspx?sourcedoc=%7B38C1DC37-7CDB-48B8-9E22-284F4F311C0B%7D&file=1.%20Insights%20portal%20-%20data%20sources%20and%20sql%20analysis%20v010%20-%20Copy.docx&action=default&mobileredirect=true) and will stay true to this document even if the existing stored procedures are doing something different. This will form the basis of a gap analysis going forward. \n",
    "\n",
    "All data loaded in the following workbook comes from the set of CSV files in the `data` folder alongside this workbook. These datasets are for the most part from the list at the start of the linked document. However, because there is additional standing data required to fully implement the pipeline then this data has been exported from the development VMFI pipeline database. These files are currently: \n",
    "\n",
    "| File name | DB Table |\n",
    "|:----------|----------|\n",
    "|standing_data_cdc.csv | standing_data.cdc |"
   ]
  },
  {
   "cell_type": "code",
   "id": "12a62f29a05a0236",
   "metadata": {
    "ExecuteTime": {
     "end_time": "2024-05-16T20:03:05.645304Z",
     "start_time": "2024-05-16T20:03:05.373418Z"
    }
   },
   "source": [
    "import src.pipeline.pre_processing as pre_processing\n",
    "import src.pipeline.output_schemas as output_schemas\n",
    "import time\n",
    "import glob\n",
    "import os"
   ],
   "outputs": [],
   "execution_count": 2
  },
  {
   "cell_type": "code",
   "id": "initial_id",
   "metadata": {
    "ExecuteTime": {
     "end_time": "2024-05-15T12:22:37.684116Z",
     "start_time": "2024-05-15T12:22:37.676544Z"
    }
   },
   "source": [
    "# Create and clean directory\n",
    "from pathlib import Path\n",
    "Path(\"output/pre-processing\").mkdir(parents=True, exist_ok=True)\n",
    "\n",
    "files = glob.glob(\"output/pre-processing/*\")\n",
    "for f in files:\n",
    "    os.remove(f)"
   ],
   "outputs": [],
   "execution_count": 3
  },
  {
   "cell_type": "code",
   "id": "fed44fd15f640100",
   "metadata": {
    "ExecuteTime": {
     "end_time": "2024-05-16T20:03:09.763701Z",
     "start_time": "2024-05-16T20:03:09.760619Z"
    }
   },
   "source": [
    "start_time = time.time()\n",
    "current_year = 2022"
   ],
   "outputs": [],
   "execution_count": 3
  },
  {
   "cell_type": "markdown",
   "id": "9e96380a5227c987",
   "metadata": {
    "collapsed": false,
    "jupyter": {
     "outputs_hidden": false
    }
   },
   "source": [
    "## CDC data load and preparation\n",
    "\n",
    "School buildings condition dataset. Based on the surveys performed throughout 2018-2019.\n",
    "\n",
    "The data in the file `data/standing_data_cdc.csv` is just an export of the data in `standing_data.cdc` table. Without the Year and Import ID fields. In future this will likely have to be read directly from the source database as per [this document.](https://educationgovuk.sharepoint.com.mcas.ms/:w:/r/sites/VMFI/_layouts/15/Doc.aspx?sourcedoc=%7B38C1DC37-7CDB-48B8-9E22-284F4F311C0B%7D&file=1.%20Insights%20portal%20-%20data%20sources%20and%20sql%20analysis%20v010%20-%20Copy.docx&action=default&mobileredirect=true) "
   ]
  },
  {
   "cell_type": "code",
   "id": "6563c9b9647d7005",
   "metadata": {
    "jupyter": {
     "outputs_hidden": false
    },
    "ExecuteTime": {
     "end_time": "2024-05-16T20:03:12.564038Z",
     "start_time": "2024-05-16T20:03:12.325229Z"
    }
   },
   "source": [
    "cdc = pre_processing.prepare_cdc_data('data/cdc.csv', current_year)"
   ],
   "outputs": [],
   "execution_count": 4
  },
  {
   "cell_type": "code",
   "id": "57ab167f20fdbd03",
   "metadata": {
    "jupyter": {
     "outputs_hidden": false
    },
    "ExecuteTime": {
     "end_time": "2024-05-16T19:57:12.766575Z",
     "start_time": "2024-05-16T19:57:12.315680Z"
    }
   },
   "source": [
    "#cdc.to_csv('output/pre-processing/cdc.csv')\n",
    "cdc"
   ],
   "outputs": [
    {
     "ename": "KeyError",
     "evalue": "148853",
     "output_type": "error",
     "traceback": [
      "\u001B[0;31m---------------------------------------------------------------------------\u001B[0m",
      "\u001B[0;31mKeyError\u001B[0m                                  Traceback (most recent call last)",
      "File \u001B[0;32m~/Library/Caches/pypoetry/virtualenvs/fbit-data-pipeline-aJYNke-B-py3.12/lib/python3.12/site-packages/pandas/core/indexes/base.py:3805\u001B[0m, in \u001B[0;36mIndex.get_loc\u001B[0;34m(self, key)\u001B[0m\n\u001B[1;32m   3804\u001B[0m \u001B[38;5;28;01mtry\u001B[39;00m:\n\u001B[0;32m-> 3805\u001B[0m     \u001B[38;5;28;01mreturn\u001B[39;00m \u001B[38;5;28;43mself\u001B[39;49m\u001B[38;5;241;43m.\u001B[39;49m\u001B[43m_engine\u001B[49m\u001B[38;5;241;43m.\u001B[39;49m\u001B[43mget_loc\u001B[49m\u001B[43m(\u001B[49m\u001B[43mcasted_key\u001B[49m\u001B[43m)\u001B[49m\n\u001B[1;32m   3806\u001B[0m \u001B[38;5;28;01mexcept\u001B[39;00m \u001B[38;5;167;01mKeyError\u001B[39;00m \u001B[38;5;28;01mas\u001B[39;00m err:\n",
      "File \u001B[0;32mindex.pyx:167\u001B[0m, in \u001B[0;36mpandas._libs.index.IndexEngine.get_loc\u001B[0;34m()\u001B[0m\n",
      "File \u001B[0;32mindex.pyx:196\u001B[0m, in \u001B[0;36mpandas._libs.index.IndexEngine.get_loc\u001B[0;34m()\u001B[0m\n",
      "File \u001B[0;32mpandas/_libs/hashtable_class_helper.pxi:2606\u001B[0m, in \u001B[0;36mpandas._libs.hashtable.Int64HashTable.get_item\u001B[0;34m()\u001B[0m\n",
      "File \u001B[0;32mpandas/_libs/hashtable_class_helper.pxi:2630\u001B[0m, in \u001B[0;36mpandas._libs.hashtable.Int64HashTable.get_item\u001B[0;34m()\u001B[0m\n",
      "\u001B[0;31mKeyError\u001B[0m: 148853",
      "\nThe above exception was the direct cause of the following exception:\n",
      "\u001B[0;31mKeyError\u001B[0m                                  Traceback (most recent call last)",
      "Cell \u001B[0;32mIn[17], line 2\u001B[0m\n\u001B[1;32m      1\u001B[0m \u001B[38;5;66;03m#cdc.to_csv('output/pre-processing/cdc.csv')\u001B[39;00m\n\u001B[0;32m----> 2\u001B[0m \u001B[43mcdc\u001B[49m\u001B[38;5;241;43m.\u001B[39;49m\u001B[43mloc\u001B[49m\u001B[43m[\u001B[49m\u001B[38;5;241;43m148853\u001B[39;49m\u001B[43m]\u001B[49m\n",
      "File \u001B[0;32m~/Library/Caches/pypoetry/virtualenvs/fbit-data-pipeline-aJYNke-B-py3.12/lib/python3.12/site-packages/pandas/core/indexing.py:1191\u001B[0m, in \u001B[0;36m_LocationIndexer.__getitem__\u001B[0;34m(self, key)\u001B[0m\n\u001B[1;32m   1189\u001B[0m maybe_callable \u001B[38;5;241m=\u001B[39m com\u001B[38;5;241m.\u001B[39mapply_if_callable(key, \u001B[38;5;28mself\u001B[39m\u001B[38;5;241m.\u001B[39mobj)\n\u001B[1;32m   1190\u001B[0m maybe_callable \u001B[38;5;241m=\u001B[39m \u001B[38;5;28mself\u001B[39m\u001B[38;5;241m.\u001B[39m_check_deprecated_callable_usage(key, maybe_callable)\n\u001B[0;32m-> 1191\u001B[0m \u001B[38;5;28;01mreturn\u001B[39;00m \u001B[38;5;28;43mself\u001B[39;49m\u001B[38;5;241;43m.\u001B[39;49m\u001B[43m_getitem_axis\u001B[49m\u001B[43m(\u001B[49m\u001B[43mmaybe_callable\u001B[49m\u001B[43m,\u001B[49m\u001B[43m \u001B[49m\u001B[43maxis\u001B[49m\u001B[38;5;241;43m=\u001B[39;49m\u001B[43maxis\u001B[49m\u001B[43m)\u001B[49m\n",
      "File \u001B[0;32m~/Library/Caches/pypoetry/virtualenvs/fbit-data-pipeline-aJYNke-B-py3.12/lib/python3.12/site-packages/pandas/core/indexing.py:1431\u001B[0m, in \u001B[0;36m_LocIndexer._getitem_axis\u001B[0;34m(self, key, axis)\u001B[0m\n\u001B[1;32m   1429\u001B[0m \u001B[38;5;66;03m# fall thru to straight lookup\u001B[39;00m\n\u001B[1;32m   1430\u001B[0m \u001B[38;5;28mself\u001B[39m\u001B[38;5;241m.\u001B[39m_validate_key(key, axis)\n\u001B[0;32m-> 1431\u001B[0m \u001B[38;5;28;01mreturn\u001B[39;00m \u001B[38;5;28;43mself\u001B[39;49m\u001B[38;5;241;43m.\u001B[39;49m\u001B[43m_get_label\u001B[49m\u001B[43m(\u001B[49m\u001B[43mkey\u001B[49m\u001B[43m,\u001B[49m\u001B[43m \u001B[49m\u001B[43maxis\u001B[49m\u001B[38;5;241;43m=\u001B[39;49m\u001B[43maxis\u001B[49m\u001B[43m)\u001B[49m\n",
      "File \u001B[0;32m~/Library/Caches/pypoetry/virtualenvs/fbit-data-pipeline-aJYNke-B-py3.12/lib/python3.12/site-packages/pandas/core/indexing.py:1381\u001B[0m, in \u001B[0;36m_LocIndexer._get_label\u001B[0;34m(self, label, axis)\u001B[0m\n\u001B[1;32m   1379\u001B[0m \u001B[38;5;28;01mdef\u001B[39;00m \u001B[38;5;21m_get_label\u001B[39m(\u001B[38;5;28mself\u001B[39m, label, axis: AxisInt):\n\u001B[1;32m   1380\u001B[0m     \u001B[38;5;66;03m# GH#5567 this will fail if the label is not present in the axis.\u001B[39;00m\n\u001B[0;32m-> 1381\u001B[0m     \u001B[38;5;28;01mreturn\u001B[39;00m \u001B[38;5;28;43mself\u001B[39;49m\u001B[38;5;241;43m.\u001B[39;49m\u001B[43mobj\u001B[49m\u001B[38;5;241;43m.\u001B[39;49m\u001B[43mxs\u001B[49m\u001B[43m(\u001B[49m\u001B[43mlabel\u001B[49m\u001B[43m,\u001B[49m\u001B[43m \u001B[49m\u001B[43maxis\u001B[49m\u001B[38;5;241;43m=\u001B[39;49m\u001B[43maxis\u001B[49m\u001B[43m)\u001B[49m\n",
      "File \u001B[0;32m~/Library/Caches/pypoetry/virtualenvs/fbit-data-pipeline-aJYNke-B-py3.12/lib/python3.12/site-packages/pandas/core/generic.py:4301\u001B[0m, in \u001B[0;36mNDFrame.xs\u001B[0;34m(self, key, axis, level, drop_level)\u001B[0m\n\u001B[1;32m   4299\u001B[0m             new_index \u001B[38;5;241m=\u001B[39m index[loc]\n\u001B[1;32m   4300\u001B[0m \u001B[38;5;28;01melse\u001B[39;00m:\n\u001B[0;32m-> 4301\u001B[0m     loc \u001B[38;5;241m=\u001B[39m \u001B[43mindex\u001B[49m\u001B[38;5;241;43m.\u001B[39;49m\u001B[43mget_loc\u001B[49m\u001B[43m(\u001B[49m\u001B[43mkey\u001B[49m\u001B[43m)\u001B[49m\n\u001B[1;32m   4303\u001B[0m     \u001B[38;5;28;01mif\u001B[39;00m \u001B[38;5;28misinstance\u001B[39m(loc, np\u001B[38;5;241m.\u001B[39mndarray):\n\u001B[1;32m   4304\u001B[0m         \u001B[38;5;28;01mif\u001B[39;00m loc\u001B[38;5;241m.\u001B[39mdtype \u001B[38;5;241m==\u001B[39m np\u001B[38;5;241m.\u001B[39mbool_:\n",
      "File \u001B[0;32m~/Library/Caches/pypoetry/virtualenvs/fbit-data-pipeline-aJYNke-B-py3.12/lib/python3.12/site-packages/pandas/core/indexes/base.py:3812\u001B[0m, in \u001B[0;36mIndex.get_loc\u001B[0;34m(self, key)\u001B[0m\n\u001B[1;32m   3807\u001B[0m     \u001B[38;5;28;01mif\u001B[39;00m \u001B[38;5;28misinstance\u001B[39m(casted_key, \u001B[38;5;28mslice\u001B[39m) \u001B[38;5;129;01mor\u001B[39;00m (\n\u001B[1;32m   3808\u001B[0m         \u001B[38;5;28misinstance\u001B[39m(casted_key, abc\u001B[38;5;241m.\u001B[39mIterable)\n\u001B[1;32m   3809\u001B[0m         \u001B[38;5;129;01mand\u001B[39;00m \u001B[38;5;28many\u001B[39m(\u001B[38;5;28misinstance\u001B[39m(x, \u001B[38;5;28mslice\u001B[39m) \u001B[38;5;28;01mfor\u001B[39;00m x \u001B[38;5;129;01min\u001B[39;00m casted_key)\n\u001B[1;32m   3810\u001B[0m     ):\n\u001B[1;32m   3811\u001B[0m         \u001B[38;5;28;01mraise\u001B[39;00m InvalidIndexError(key)\n\u001B[0;32m-> 3812\u001B[0m     \u001B[38;5;28;01mraise\u001B[39;00m \u001B[38;5;167;01mKeyError\u001B[39;00m(key) \u001B[38;5;28;01mfrom\u001B[39;00m \u001B[38;5;21;01merr\u001B[39;00m\n\u001B[1;32m   3813\u001B[0m \u001B[38;5;28;01mexcept\u001B[39;00m \u001B[38;5;167;01mTypeError\u001B[39;00m:\n\u001B[1;32m   3814\u001B[0m     \u001B[38;5;66;03m# If we have a listlike key, _check_indexing_error will raise\u001B[39;00m\n\u001B[1;32m   3815\u001B[0m     \u001B[38;5;66;03m#  InvalidIndexError. Otherwise we fall through and re-raise\u001B[39;00m\n\u001B[1;32m   3816\u001B[0m     \u001B[38;5;66;03m#  the TypeError.\u001B[39;00m\n\u001B[1;32m   3817\u001B[0m     \u001B[38;5;28mself\u001B[39m\u001B[38;5;241m.\u001B[39m_check_indexing_error(key)\n",
      "\u001B[0;31mKeyError\u001B[0m: 148853"
     ]
    }
   ],
   "execution_count": 17
  },
  {
   "cell_type": "markdown",
   "id": "25a30c5a4a9b466",
   "metadata": {
    "collapsed": false,
    "jupyter": {
     "outputs_hidden": false
    }
   },
   "source": [
    "## School Census data load\n",
    "\n",
    "*Pupil Census* - DfE data collection providing information about school and pupil characteristics, for example percentage of pupils claiming free school`z meals, or having English as their second language. \n",
    "\n",
    "*Workforce census* - Single reference for all school workforce statistics based on staff working in publicly funded schools in England.\n",
    "\n",
    "The following code loads both the workforce and pupil census data and preforms an `inner` join by URN on the data sets."
   ]
  },
  {
   "cell_type": "code",
   "id": "ca2d081b",
   "metadata": {
    "ExecuteTime": {
     "end_time": "2024-05-16T20:03:22.605697Z",
     "start_time": "2024-05-16T20:03:16.935324Z"
    }
   },
   "source": [
    "census = pre_processing.prepare_census_data('data/census_workforce.xlsx', 'data/census_pupils.csv')"
   ],
   "outputs": [],
   "execution_count": 5
  },
  {
   "cell_type": "code",
   "execution_count": null,
   "id": "798d07eae73e8bba",
   "metadata": {
    "ExecuteTime": {
     "end_time": "2024-04-29T20:46:19.807149Z",
     "start_time": "2024-04-29T20:46:19.689054Z"
    },
    "jupyter": {
     "outputs_hidden": false
    }
   },
   "outputs": [],
   "source": [
    "#census.to_csv('output/pre-processing/census.csv')\n",
    "census"
   ]
  },
  {
   "cell_type": "markdown",
   "id": "eb83d7512643b7a1",
   "metadata": {
    "collapsed": false,
    "jupyter": {
     "outputs_hidden": false
    }
   },
   "source": [
    "## Special Education Needs (SEN) data load and preparation\n",
    "\n",
    "Special educational needs dataset. Contains information about the number of pupils, who require various SEN provisions. This loads the `SEN` data, which originates from [here](https://explore-education-statistics.service.gov.uk/find-statistics/special-educational-needs-in-england#dataDownloads-1)"
   ]
  },
  {
   "cell_type": "code",
   "id": "1a164f2280c8e888",
   "metadata": {
    "jupyter": {
     "outputs_hidden": false
    },
    "ExecuteTime": {
     "end_time": "2024-05-16T20:03:24.661763Z",
     "start_time": "2024-05-16T20:03:24.512613Z"
    }
   },
   "source": [
    "sen = pre_processing.prepare_sen_data('data/sen.csv')"
   ],
   "outputs": [],
   "execution_count": 6
  },
  {
   "cell_type": "code",
   "id": "62cfde44fd23bbb1",
   "metadata": {
    "jupyter": {
     "outputs_hidden": false
    }
   },
   "source": [
    "#sen.to_csv(\"output/pre-processing/sen.csv\")\n",
    "sen.describe()"
   ],
   "outputs": [],
   "execution_count": null
  },
  {
   "cell_type": "markdown",
   "id": "6714b86a",
   "metadata": {},
   "source": [
    "## KS2 and KS4 processing"
   ]
  },
  {
   "cell_type": "code",
   "id": "aca34e5a",
   "metadata": {
    "ExecuteTime": {
     "end_time": "2024-05-16T20:03:48.794494Z",
     "start_time": "2024-05-16T20:03:27.912185Z"
    }
   },
   "source": [
    "ks2 = pre_processing.prepare_ks2_data('data/ks2.xlsx')"
   ],
   "outputs": [],
   "execution_count": 7
  },
  {
   "cell_type": "code",
   "execution_count": null,
   "id": "89839a1b",
   "metadata": {
    "ExecuteTime": {
     "end_time": "2024-04-29T20:46:42.355662Z",
     "start_time": "2024-04-29T20:46:42.331740Z"
    }
   },
   "outputs": [],
   "source": [
    "#ks2.to_csv('output/pre-processing/ks2.csv')\n",
    "ks2"
   ]
  },
  {
   "cell_type": "code",
   "id": "df6323c4",
   "metadata": {
    "ExecuteTime": {
     "end_time": "2024-05-16T20:04:01.737763Z",
     "start_time": "2024-05-16T20:03:48.795739Z"
    }
   },
   "source": [
    "ks4 = pre_processing.prepare_ks4_data('data/ks4.xlsx')"
   ],
   "outputs": [],
   "execution_count": 8
  },
  {
   "cell_type": "code",
   "execution_count": null,
   "id": "ae5bae7a",
   "metadata": {
    "ExecuteTime": {
     "end_time": "2024-04-29T20:46:56.242806Z",
     "start_time": "2024-04-29T20:46:56.232252Z"
    }
   },
   "outputs": [],
   "source": [
    "#ks4.to_csv('output/pre-processing/ks4.csv')\n",
    "ks4"
   ]
  },
  {
   "cell_type": "markdown",
   "id": "5c3570cf02009cb5",
   "metadata": {
    "collapsed": false,
    "jupyter": {
     "outputs_hidden": false
    }
   },
   "source": [
    "## AR Data load and preparation\n",
    "\n",
    "This loads the Annual accounts return dataset and the corresponding mapping file. This extract only contains benchmarking section, which consists of submissions of costs, income, and balances of individual academies.\n",
    "\n",
    "The mapping file, contains the mapping from AR4 cell references to cost categories and descriptions."
   ]
  },
  {
   "cell_type": "code",
   "id": "a6cb8252",
   "metadata": {
    "ExecuteTime": {
     "end_time": "2024-05-16T20:04:07.409737Z",
     "start_time": "2024-05-16T20:04:01.738755Z"
    }
   },
   "source": [
    "(trust_ar, academy_ar) = pre_processing.prepare_aar_data('data/academy_ar.xlsx')"
   ],
   "outputs": [],
   "execution_count": 9
  },
  {
   "cell_type": "code",
   "execution_count": null,
   "id": "a7aa06db2e9b4b4b",
   "metadata": {
    "ExecuteTime": {
     "end_time": "2024-04-29T20:47:02.949868Z",
     "start_time": "2024-04-29T20:47:02.914003Z"
    },
    "jupyter": {
     "outputs_hidden": false
    }
   },
   "outputs": [],
   "source": [
    "#academy_ar.to_csv('output/pre-processing/academy_ar.csv')\n",
    "academy_ar"
   ]
  },
  {
   "cell_type": "code",
   "execution_count": null,
   "id": "8482ba548cf92c81",
   "metadata": {
    "ExecuteTime": {
     "end_time": "2024-04-29T20:47:02.997822Z",
     "start_time": "2024-04-29T20:47:02.950653Z"
    }
   },
   "outputs": [],
   "source": [
    "#trust_ar.to_csv('output/pre-processing/trust_ar.csv')\n",
    "trust_ar"
   ]
  },
  {
   "cell_type": "markdown",
   "id": "f26320ad386f89f1",
   "metadata": {
    "collapsed": false,
    "jupyter": {
     "outputs_hidden": false
    }
   },
   "source": [
    "Create a summary table for the AR stance of each distinct academy in the table."
   ]
  },
  {
   "cell_type": "markdown",
   "id": "2320a9861dd3dc65",
   "metadata": {},
   "source": [
    "Now compute the trust financial position in the same manor as the individual academy position"
   ]
  },
  {
   "cell_type": "markdown",
   "id": "77b541a3aa8441b1",
   "metadata": {
    "collapsed": false,
    "jupyter": {
     "outputs_hidden": false
    }
   },
   "source": [
    "## Academy and maintained schools data load and preparation\n",
    "\n",
    "This reads the main GIAS data (edubasealldataYYYYMMDD file) and the associated links file (links_edubasealldataYYYYMMDD file). This is taken from the [GIAS Service](https://get-information-schools.service.gov.uk/help)\n",
    "\n",
    "Other columns are tidied up by asserting the correct type for that column. This is tidying phase is largly because on load integer columns will be inferred to be a float as opposed to an integer."
   ]
  },
  {
   "cell_type": "code",
   "id": "417b28e64cbeba74",
   "metadata": {
    "jupyter": {
     "outputs_hidden": false
    },
    "ExecuteTime": {
     "end_time": "2024-05-16T20:04:08.463598Z",
     "start_time": "2024-05-16T20:04:07.412244Z"
    }
   },
   "source": [
    "schools = pre_processing.prepare_schools_data('data/gias.csv','data/gias_links.csv')\n"
   ],
   "outputs": [],
   "execution_count": 10
  },
  {
   "cell_type": "code",
   "execution_count": null,
   "id": "80ab1312a3261637",
   "metadata": {
    "ExecuteTime": {
     "end_time": "2024-04-30T19:07:13.456546Z",
     "start_time": "2024-04-30T19:07:13.013560Z"
    },
    "jupyter": {
     "outputs_hidden": false
    }
   },
   "outputs": [],
   "source": [
    "#schools.to_csv('output/pre-processing/schools.csv')\n",
    "schools.sort_index()"
   ]
  },
  {
   "cell_type": "markdown",
   "id": "32a4b68ee88c7c1c",
   "metadata": {
    "collapsed": false,
    "jupyter": {
     "outputs_hidden": false
    }
   },
   "source": [
    "Merge required GIAS, census, sen, cdc, PFI, and arr data with the base academy data"
   ]
  },
  {
   "cell_type": "code",
   "id": "2f5b5d9b44e7947e",
   "metadata": {
    "jupyter": {
     "outputs_hidden": false
    },
    "ExecuteTime": {
     "end_time": "2024-05-16T20:04:14.028504Z",
     "start_time": "2024-05-16T20:04:12.262770Z"
    }
   },
   "source": [
    "academies = pre_processing.build_academy_data('data/academy_master_list.csv', \n",
    "                                              current_year, schools, census, sen, cdc, \n",
    "                                              academy_ar, trust_ar, ks2, ks4)"
   ],
   "outputs": [],
   "execution_count": 11
  },
  {
   "cell_type": "code",
   "id": "cf8b18891fd8d969",
   "metadata": {
    "jupyter": {
     "outputs_hidden": false
    },
    "ExecuteTime": {
     "end_time": "2024-05-16T20:04:21.594485Z",
     "start_time": "2024-05-16T20:04:21.574449Z"
    }
   },
   "source": [
    "# academies.to_csv('output/pre-processing/academies.csv', columns=output_schemas.academies_output)\n",
    "academies"
   ],
   "outputs": [
    {
     "data": {
      "text/plain": [
       "       Company Registration Number           Incorporation Date  \\\n",
       "URN                                                               \n",
       "148853                    10817580  2017-06-14 00:00:00.0000000   \n",
       "144542                    10817580  2017-06-14 00:00:00.0000000   \n",
       "144551                    10817580  2017-06-14 00:00:00.0000000   \n",
       "148854                    10817580  2017-06-14 00:00:00.0000000   \n",
       "136730                    07595434  2011-04-07 00:00:00.0000000   \n",
       "...                            ...                          ...   \n",
       "147031                    07559293  2011-03-10 00:00:00.0000000   \n",
       "145812                    07559293  2011-03-10 00:00:00.0000000   \n",
       "138865                    07559293  2011-03-10 00:00:00.0000000   \n",
       "136577                    07559293  2011-03-10 00:00:00.0000000   \n",
       "138300                    08087508  2012-05-29 00:00:00.0000000   \n",
       "\n",
       "        Academy Trust UPIN  Academy UKPRN               Academy Trust Name  \\\n",
       "URN                                                                          \n",
       "148853              139821       10064612  1Excellence Multi Academy Trust   \n",
       "144542              139821       10064612  1Excellence Multi Academy Trust   \n",
       "144551              139821       10064612  1Excellence Multi Academy Trust   \n",
       "148854              139821       10064612  1Excellence Multi Academy Trust   \n",
       "136730              134890       10058682               5 Dimensions Trust   \n",
       "...                    ...            ...                              ...   \n",
       "147031              136062       10058621       Zenith Multi Academy Trust   \n",
       "145812              136062       10058621       Zenith Multi Academy Trust   \n",
       "138865              136062       10058621       Zenith Multi Academy Trust   \n",
       "136577              136062       10058621       Zenith Multi Academy Trust   \n",
       "138300              137035       10059812               Zest Academy Trust   \n",
       "\n",
       "                                             Academy Name  Academy UPIN  \\\n",
       "URN                                                                       \n",
       "148853          Evenwood Church of England Primary School        163480   \n",
       "144542                            Pentland Primary School        138448   \n",
       "144551  St Mark's Church of England Primary School - S...        138465   \n",
       "148854  St Michael's Church of England Primary School ...        163504   \n",
       "136730                           Shenley Brook End School        119734   \n",
       "...                                                   ...           ...   \n",
       "147031                 Castle View School - Canvey Island        151873   \n",
       "145812              Laindon Park Primary School & Nursery        140554   \n",
       "138865                           The James Hornsby School        121878   \n",
       "136577                               The King John School        119652   \n",
       "138300                           Waterloo Primary Academy        122121   \n",
       "\n",
       "                       Trust Type                  Date Opened  \\\n",
       "URN                                                              \n",
       "148853  Multi Academy Trust (MAT)  2021-12-01 00:00:00.0000000   \n",
       "144542  Multi Academy Trust (MAT)  2017-07-01 00:00:00.0000000   \n",
       "144551  Multi Academy Trust (MAT)  2017-07-01 00:00:00.0000000   \n",
       "148854  Multi Academy Trust (MAT)  2021-12-01 00:00:00.0000000   \n",
       "136730  Multi Academy Trust (MAT)  2011-05-01 00:00:00.0000000   \n",
       "...                           ...                          ...   \n",
       "147031  Multi Academy Trust (MAT)  2014-10-01 00:00:00.0000000   \n",
       "145812  Multi Academy Trust (MAT)  2018-09-01 00:00:00.0000000   \n",
       "138865  Multi Academy Trust (MAT)  2012-10-01 00:00:00.0000000   \n",
       "136577  Multi Academy Trust (MAT)  2011-04-01 00:00:00.0000000   \n",
       "138300  Multi Academy Trust (MAT)  2012-07-01 00:00:00.0000000   \n",
       "\n",
       "                                 LA Name  ... SchoolPhaseType  \\\n",
       "URN                                       ...                   \n",
       "148853             Durham County Council  ...         Primary   \n",
       "144542  Stockton-on-Tees Borough Council  ...         Primary   \n",
       "144551  Stockton-on-Tees Borough Council  ...         Primary   \n",
       "148854             Durham County Council  ...         Primary   \n",
       "136730             Milton Keynes Council  ...       Secondary   \n",
       "...                                  ...  ...             ...   \n",
       "147031              Essex County Council  ...       Secondary   \n",
       "145812              Essex County Council  ...         Primary   \n",
       "138865              Essex County Council  ...       Secondary   \n",
       "136577              Essex County Council  ...       Secondary   \n",
       "138300                 Blackpool Council  ...         Primary   \n",
       "\n",
       "       Teaching and Teaching support staff_Total  \\\n",
       "URN                                                \n",
       "148853                              52988.888889   \n",
       "144542                              15636.065574   \n",
       "144551                               10789.59276   \n",
       "148854                              37551.181102   \n",
       "136730                               9283.502403   \n",
       "...                                          ...   \n",
       "147031                              19703.544576   \n",
       "145812                              91263.681592   \n",
       "138865                               19432.20339   \n",
       "136577                               8935.216756   \n",
       "138300                               4500.829187   \n",
       "\n",
       "       Non-educational support staff and services_Total  \\\n",
       "URN                                                       \n",
       "148853                                      5855.555556   \n",
       "144542                                      1727.868852   \n",
       "144551                                      1192.307692   \n",
       "148854                                      4149.606299   \n",
       "136730                                       882.541377   \n",
       "...                                                 ...   \n",
       "147031                                      2098.818475   \n",
       "145812                                      9721.393035   \n",
       "138865                                      2069.915254   \n",
       "136577                                       951.777886   \n",
       "138300                                       300.165837   \n",
       "\n",
       "       Educational supplies_Total Educational ICT_Total  \\\n",
       "URN                                                       \n",
       "148853                6977.777778                1100.0   \n",
       "144542                2059.016393            324.590164   \n",
       "144551                 1420.81448              223.9819   \n",
       "148854                 4944.88189            779.527559   \n",
       "136730                 694.073679             66.737854   \n",
       "...                           ...                   ...   \n",
       "147031                 2061.22449             384.53276   \n",
       "145812                9547.263682           1781.094527   \n",
       "138865                2032.838983            379.237288   \n",
       "136577                 934.729664            174.378958   \n",
       "138300                 266.998342             99.502488   \n",
       "\n",
       "       Premises staff and services_Total Utilities_Total  \\\n",
       "URN                                                        \n",
       "148853                        130.769231       61.538462   \n",
       "144542                        144.345812       67.927441   \n",
       "144551                        265.436480      124.911285   \n",
       "148854                        409.190372      192.560175   \n",
       "136730                         74.138964       30.568491   \n",
       "...                                  ...             ...   \n",
       "147031                        560.139860      226.573427   \n",
       "145812                       1390.625000      562.500000   \n",
       "138865                        136.526334       55.224135   \n",
       "136577                         81.843261       33.105139   \n",
       "138300                         36.594702       14.852243   \n",
       "\n",
       "       Administrative supplies_Total Catering staff and supplies_Total  \\\n",
       "URN                                                                      \n",
       "148853                   1788.888889                       2888.888889   \n",
       "144542                    527.868852                        852.459016   \n",
       "144551                    364.253394                        588.235294   \n",
       "148854                   1267.716535                       2047.244094   \n",
       "136730                    247.730913                        167.645489   \n",
       "...                              ...                               ...   \n",
       "147031                    752.953813                        472.610097   \n",
       "145812                   3487.562189                       2189.054726   \n",
       "138865                    742.584746                        466.101695   \n",
       "136577                    341.451534                        214.320507   \n",
       "138300                     56.384743                        233.830846   \n",
       "\n",
       "        Other costs_Total  \n",
       "URN                        \n",
       "148853        1977.777778  \n",
       "144542         583.606557  \n",
       "144551         402.714932  \n",
       "148854        1401.574803  \n",
       "136730         240.790176  \n",
       "...                   ...  \n",
       "147031         1699.24812  \n",
       "145812        7870.646766  \n",
       "138865        1675.847458  \n",
       "136577          770.57964  \n",
       "138300         215.588723  \n",
       "\n",
       "[10015 rows x 203 columns]"
      ],
      "text/html": [
       "<div>\n",
       "<style scoped>\n",
       "    .dataframe tbody tr th:only-of-type {\n",
       "        vertical-align: middle;\n",
       "    }\n",
       "\n",
       "    .dataframe tbody tr th {\n",
       "        vertical-align: top;\n",
       "    }\n",
       "\n",
       "    .dataframe thead th {\n",
       "        text-align: right;\n",
       "    }\n",
       "</style>\n",
       "<table border=\"1\" class=\"dataframe\">\n",
       "  <thead>\n",
       "    <tr style=\"text-align: right;\">\n",
       "      <th></th>\n",
       "      <th>Company Registration Number</th>\n",
       "      <th>Incorporation Date</th>\n",
       "      <th>Academy Trust UPIN</th>\n",
       "      <th>Academy UKPRN</th>\n",
       "      <th>Academy Trust Name</th>\n",
       "      <th>Academy Name</th>\n",
       "      <th>Academy UPIN</th>\n",
       "      <th>Trust Type</th>\n",
       "      <th>Date Opened</th>\n",
       "      <th>LA Name</th>\n",
       "      <th>...</th>\n",
       "      <th>SchoolPhaseType</th>\n",
       "      <th>Teaching and Teaching support staff_Total</th>\n",
       "      <th>Non-educational support staff and services_Total</th>\n",
       "      <th>Educational supplies_Total</th>\n",
       "      <th>Educational ICT_Total</th>\n",
       "      <th>Premises staff and services_Total</th>\n",
       "      <th>Utilities_Total</th>\n",
       "      <th>Administrative supplies_Total</th>\n",
       "      <th>Catering staff and supplies_Total</th>\n",
       "      <th>Other costs_Total</th>\n",
       "    </tr>\n",
       "    <tr>\n",
       "      <th>URN</th>\n",
       "      <th></th>\n",
       "      <th></th>\n",
       "      <th></th>\n",
       "      <th></th>\n",
       "      <th></th>\n",
       "      <th></th>\n",
       "      <th></th>\n",
       "      <th></th>\n",
       "      <th></th>\n",
       "      <th></th>\n",
       "      <th></th>\n",
       "      <th></th>\n",
       "      <th></th>\n",
       "      <th></th>\n",
       "      <th></th>\n",
       "      <th></th>\n",
       "      <th></th>\n",
       "      <th></th>\n",
       "      <th></th>\n",
       "      <th></th>\n",
       "      <th></th>\n",
       "    </tr>\n",
       "  </thead>\n",
       "  <tbody>\n",
       "    <tr>\n",
       "      <th>148853</th>\n",
       "      <td>10817580</td>\n",
       "      <td>2017-06-14 00:00:00.0000000</td>\n",
       "      <td>139821</td>\n",
       "      <td>10064612</td>\n",
       "      <td>1Excellence Multi Academy Trust</td>\n",
       "      <td>Evenwood Church of England Primary School</td>\n",
       "      <td>163480</td>\n",
       "      <td>Multi Academy Trust (MAT)</td>\n",
       "      <td>2021-12-01 00:00:00.0000000</td>\n",
       "      <td>Durham County Council</td>\n",
       "      <td>...</td>\n",
       "      <td>Primary</td>\n",
       "      <td>52988.888889</td>\n",
       "      <td>5855.555556</td>\n",
       "      <td>6977.777778</td>\n",
       "      <td>1100.0</td>\n",
       "      <td>130.769231</td>\n",
       "      <td>61.538462</td>\n",
       "      <td>1788.888889</td>\n",
       "      <td>2888.888889</td>\n",
       "      <td>1977.777778</td>\n",
       "    </tr>\n",
       "    <tr>\n",
       "      <th>144542</th>\n",
       "      <td>10817580</td>\n",
       "      <td>2017-06-14 00:00:00.0000000</td>\n",
       "      <td>139821</td>\n",
       "      <td>10064612</td>\n",
       "      <td>1Excellence Multi Academy Trust</td>\n",
       "      <td>Pentland Primary School</td>\n",
       "      <td>138448</td>\n",
       "      <td>Multi Academy Trust (MAT)</td>\n",
       "      <td>2017-07-01 00:00:00.0000000</td>\n",
       "      <td>Stockton-on-Tees Borough Council</td>\n",
       "      <td>...</td>\n",
       "      <td>Primary</td>\n",
       "      <td>15636.065574</td>\n",
       "      <td>1727.868852</td>\n",
       "      <td>2059.016393</td>\n",
       "      <td>324.590164</td>\n",
       "      <td>144.345812</td>\n",
       "      <td>67.927441</td>\n",
       "      <td>527.868852</td>\n",
       "      <td>852.459016</td>\n",
       "      <td>583.606557</td>\n",
       "    </tr>\n",
       "    <tr>\n",
       "      <th>144551</th>\n",
       "      <td>10817580</td>\n",
       "      <td>2017-06-14 00:00:00.0000000</td>\n",
       "      <td>139821</td>\n",
       "      <td>10064612</td>\n",
       "      <td>1Excellence Multi Academy Trust</td>\n",
       "      <td>St Mark's Church of England Primary School - S...</td>\n",
       "      <td>138465</td>\n",
       "      <td>Multi Academy Trust (MAT)</td>\n",
       "      <td>2017-07-01 00:00:00.0000000</td>\n",
       "      <td>Stockton-on-Tees Borough Council</td>\n",
       "      <td>...</td>\n",
       "      <td>Primary</td>\n",
       "      <td>10789.59276</td>\n",
       "      <td>1192.307692</td>\n",
       "      <td>1420.81448</td>\n",
       "      <td>223.9819</td>\n",
       "      <td>265.436480</td>\n",
       "      <td>124.911285</td>\n",
       "      <td>364.253394</td>\n",
       "      <td>588.235294</td>\n",
       "      <td>402.714932</td>\n",
       "    </tr>\n",
       "    <tr>\n",
       "      <th>148854</th>\n",
       "      <td>10817580</td>\n",
       "      <td>2017-06-14 00:00:00.0000000</td>\n",
       "      <td>139821</td>\n",
       "      <td>10064612</td>\n",
       "      <td>1Excellence Multi Academy Trust</td>\n",
       "      <td>St Michael's Church of England Primary School ...</td>\n",
       "      <td>163504</td>\n",
       "      <td>Multi Academy Trust (MAT)</td>\n",
       "      <td>2021-12-01 00:00:00.0000000</td>\n",
       "      <td>Durham County Council</td>\n",
       "      <td>...</td>\n",
       "      <td>Primary</td>\n",
       "      <td>37551.181102</td>\n",
       "      <td>4149.606299</td>\n",
       "      <td>4944.88189</td>\n",
       "      <td>779.527559</td>\n",
       "      <td>409.190372</td>\n",
       "      <td>192.560175</td>\n",
       "      <td>1267.716535</td>\n",
       "      <td>2047.244094</td>\n",
       "      <td>1401.574803</td>\n",
       "    </tr>\n",
       "    <tr>\n",
       "      <th>136730</th>\n",
       "      <td>07595434</td>\n",
       "      <td>2011-04-07 00:00:00.0000000</td>\n",
       "      <td>134890</td>\n",
       "      <td>10058682</td>\n",
       "      <td>5 Dimensions Trust</td>\n",
       "      <td>Shenley Brook End School</td>\n",
       "      <td>119734</td>\n",
       "      <td>Multi Academy Trust (MAT)</td>\n",
       "      <td>2011-05-01 00:00:00.0000000</td>\n",
       "      <td>Milton Keynes Council</td>\n",
       "      <td>...</td>\n",
       "      <td>Secondary</td>\n",
       "      <td>9283.502403</td>\n",
       "      <td>882.541377</td>\n",
       "      <td>694.073679</td>\n",
       "      <td>66.737854</td>\n",
       "      <td>74.138964</td>\n",
       "      <td>30.568491</td>\n",
       "      <td>247.730913</td>\n",
       "      <td>167.645489</td>\n",
       "      <td>240.790176</td>\n",
       "    </tr>\n",
       "    <tr>\n",
       "      <th>...</th>\n",
       "      <td>...</td>\n",
       "      <td>...</td>\n",
       "      <td>...</td>\n",
       "      <td>...</td>\n",
       "      <td>...</td>\n",
       "      <td>...</td>\n",
       "      <td>...</td>\n",
       "      <td>...</td>\n",
       "      <td>...</td>\n",
       "      <td>...</td>\n",
       "      <td>...</td>\n",
       "      <td>...</td>\n",
       "      <td>...</td>\n",
       "      <td>...</td>\n",
       "      <td>...</td>\n",
       "      <td>...</td>\n",
       "      <td>...</td>\n",
       "      <td>...</td>\n",
       "      <td>...</td>\n",
       "      <td>...</td>\n",
       "      <td>...</td>\n",
       "    </tr>\n",
       "    <tr>\n",
       "      <th>147031</th>\n",
       "      <td>07559293</td>\n",
       "      <td>2011-03-10 00:00:00.0000000</td>\n",
       "      <td>136062</td>\n",
       "      <td>10058621</td>\n",
       "      <td>Zenith Multi Academy Trust</td>\n",
       "      <td>Castle View School - Canvey Island</td>\n",
       "      <td>151873</td>\n",
       "      <td>Multi Academy Trust (MAT)</td>\n",
       "      <td>2014-10-01 00:00:00.0000000</td>\n",
       "      <td>Essex County Council</td>\n",
       "      <td>...</td>\n",
       "      <td>Secondary</td>\n",
       "      <td>19703.544576</td>\n",
       "      <td>2098.818475</td>\n",
       "      <td>2061.22449</td>\n",
       "      <td>384.53276</td>\n",
       "      <td>560.139860</td>\n",
       "      <td>226.573427</td>\n",
       "      <td>752.953813</td>\n",
       "      <td>472.610097</td>\n",
       "      <td>1699.24812</td>\n",
       "    </tr>\n",
       "    <tr>\n",
       "      <th>145812</th>\n",
       "      <td>07559293</td>\n",
       "      <td>2011-03-10 00:00:00.0000000</td>\n",
       "      <td>136062</td>\n",
       "      <td>10058621</td>\n",
       "      <td>Zenith Multi Academy Trust</td>\n",
       "      <td>Laindon Park Primary School &amp; Nursery</td>\n",
       "      <td>140554</td>\n",
       "      <td>Multi Academy Trust (MAT)</td>\n",
       "      <td>2018-09-01 00:00:00.0000000</td>\n",
       "      <td>Essex County Council</td>\n",
       "      <td>...</td>\n",
       "      <td>Primary</td>\n",
       "      <td>91263.681592</td>\n",
       "      <td>9721.393035</td>\n",
       "      <td>9547.263682</td>\n",
       "      <td>1781.094527</td>\n",
       "      <td>1390.625000</td>\n",
       "      <td>562.500000</td>\n",
       "      <td>3487.562189</td>\n",
       "      <td>2189.054726</td>\n",
       "      <td>7870.646766</td>\n",
       "    </tr>\n",
       "    <tr>\n",
       "      <th>138865</th>\n",
       "      <td>07559293</td>\n",
       "      <td>2011-03-10 00:00:00.0000000</td>\n",
       "      <td>136062</td>\n",
       "      <td>10058621</td>\n",
       "      <td>Zenith Multi Academy Trust</td>\n",
       "      <td>The James Hornsby School</td>\n",
       "      <td>121878</td>\n",
       "      <td>Multi Academy Trust (MAT)</td>\n",
       "      <td>2012-10-01 00:00:00.0000000</td>\n",
       "      <td>Essex County Council</td>\n",
       "      <td>...</td>\n",
       "      <td>Secondary</td>\n",
       "      <td>19432.20339</td>\n",
       "      <td>2069.915254</td>\n",
       "      <td>2032.838983</td>\n",
       "      <td>379.237288</td>\n",
       "      <td>136.526334</td>\n",
       "      <td>55.224135</td>\n",
       "      <td>742.584746</td>\n",
       "      <td>466.101695</td>\n",
       "      <td>1675.847458</td>\n",
       "    </tr>\n",
       "    <tr>\n",
       "      <th>136577</th>\n",
       "      <td>07559293</td>\n",
       "      <td>2011-03-10 00:00:00.0000000</td>\n",
       "      <td>136062</td>\n",
       "      <td>10058621</td>\n",
       "      <td>Zenith Multi Academy Trust</td>\n",
       "      <td>The King John School</td>\n",
       "      <td>119652</td>\n",
       "      <td>Multi Academy Trust (MAT)</td>\n",
       "      <td>2011-04-01 00:00:00.0000000</td>\n",
       "      <td>Essex County Council</td>\n",
       "      <td>...</td>\n",
       "      <td>Secondary</td>\n",
       "      <td>8935.216756</td>\n",
       "      <td>951.777886</td>\n",
       "      <td>934.729664</td>\n",
       "      <td>174.378958</td>\n",
       "      <td>81.843261</td>\n",
       "      <td>33.105139</td>\n",
       "      <td>341.451534</td>\n",
       "      <td>214.320507</td>\n",
       "      <td>770.57964</td>\n",
       "    </tr>\n",
       "    <tr>\n",
       "      <th>138300</th>\n",
       "      <td>08087508</td>\n",
       "      <td>2012-05-29 00:00:00.0000000</td>\n",
       "      <td>137035</td>\n",
       "      <td>10059812</td>\n",
       "      <td>Zest Academy Trust</td>\n",
       "      <td>Waterloo Primary Academy</td>\n",
       "      <td>122121</td>\n",
       "      <td>Multi Academy Trust (MAT)</td>\n",
       "      <td>2012-07-01 00:00:00.0000000</td>\n",
       "      <td>Blackpool Council</td>\n",
       "      <td>...</td>\n",
       "      <td>Primary</td>\n",
       "      <td>4500.829187</td>\n",
       "      <td>300.165837</td>\n",
       "      <td>266.998342</td>\n",
       "      <td>99.502488</td>\n",
       "      <td>36.594702</td>\n",
       "      <td>14.852243</td>\n",
       "      <td>56.384743</td>\n",
       "      <td>233.830846</td>\n",
       "      <td>215.588723</td>\n",
       "    </tr>\n",
       "  </tbody>\n",
       "</table>\n",
       "<p>10015 rows × 203 columns</p>\n",
       "</div>"
      ]
     },
     "execution_count": 12,
     "metadata": {},
     "output_type": "execute_result"
    }
   ],
   "execution_count": 12
  },
  {
   "cell_type": "markdown",
   "id": "97961d9851b09fc",
   "metadata": {
    "collapsed": false,
    "jupyter": {
     "outputs_hidden": false
    }
   },
   "source": [
    "Merge required census and cdc data to the maintained schools data set"
   ]
  },
  {
   "cell_type": "code",
   "execution_count": null,
   "id": "7625f25c-3391-43ac-9cc2-c2a204c5663e",
   "metadata": {
    "ExecuteTime": {
     "end_time": "2024-04-29T20:47:07.926927Z",
     "start_time": "2024-04-29T20:47:07.082604Z"
    }
   },
   "outputs": [],
   "source": [
    "# Load raw list from CSV\n",
    "maintained_schools = pre_processing.build_maintained_school_data('data/maintained_schools_master_list.csv',current_year, schools, census, sen, cdc, ks2, ks4)"
   ]
  },
  {
   "cell_type": "code",
   "execution_count": null,
   "id": "a10f7539-929c-4add-aa04-de2e25437c78",
   "metadata": {
    "ExecuteTime": {
     "end_time": "2024-04-29T20:47:08.578549Z",
     "start_time": "2024-04-29T20:47:07.928051Z"
    }
   },
   "outputs": [],
   "source": [
    "maintained_schools_output = [\n",
    "    \"number of pupils whose first language is known or believed to be other than English\",\n",
    "    \"Utilities_Water and sewerage:\",\n",
    "    \"Utilities_Energy\",\n",
    "    \"UrbanRural (name)\",\n",
    "    \"UKPRN\",\n",
    "    \"Type\",\n",
    "    \"Total pupils\",\n",
    "    \"Total School Workforce (Headcount)\",\n",
    "    \"Total School Workforce (Full-Time Equivalent)\",\n",
    "    \"Total Number of Teaching Assistants (Headcount)\",\n",
    "    \"Total Number of Teaching Assistants (Full-Time Equivalent)\",\n",
    "    \"Total Number of Teachers in the Leadership Group (Headcount)\",\n",
    "    \"Total Number of Teachers in the Leadership Group (Full-time Equivalent)\",\n",
    "    \"Total Number of Teachers (Headcount)\",\n",
    "    \"Total Number of Teachers (Full-Time Equivalent)\",\n",
    "    \"Total Number of Auxiliary Staff (Headcount)\",\n",
    "    \"Total Number of Auxiliary Staff (Full-Time Equivalent)\",\n",
    "    \"Total Internal Floor Area\",\n",
    "    \"Total Income   I01 to I18\",\n",
    "    '\"Total Income   I01 to I08, I11 to I15, I18\"',\n",
    "    \"Total Expenditure  E01 to E32\",\n",
    "    '\"Total Expenditure  E01 to E29 and E31 to E32 minus I9, I10, I16 and I17\"',\n",
    "    \"TelephoneNum\",\n",
    "    \"Teaching and Teaching support staff_Teaching staff\",\n",
    "    \"Teaching and Teaching support staff_Supply teaching staff\",\n",
    "    \"Teaching and Teaching support staff_Educational consultancy\",\n",
    "    \"Teaching and Teaching support staff_Education support staff\",\n",
    "    \"Teaching and Teaching support staff_Agency supply teaching staff\",\n",
    "    \"Teachers with Qualified Teacher Status (%) (Headcount)\",\n",
    "    \"Statutory Low Age\",\n",
    "    \"Status\",\n",
    "    \"SchoolWebsite\",\n",
    "    \"SchoolPhaseType\",\n",
    "    \"SchoolCapacity\",\n",
    "    \"School Financial Position\",\n",
    "    \"School Balance\",\n",
    "    \"Revenue Reserve   B01 plus B02 plus B06\",\n",
    "    \"Pupil: Teacher Ratio (Full-Time Equivalent of qualified and unqualified teachers)\",\n",
    "    \"Prov_VI\",\n",
    "    \"Prov_SPLD\",\n",
    "    \"Prov_SLD\",\n",
    "    \"Prov_SLCN\",\n",
    "    \"Prov_SEMH\",\n",
    "    \"Prov_PMLD\",\n",
    "    \"Prov_PD\",\n",
    "    \"Prov_OTH\",\n",
    "    \"Prov_MSI\",\n",
    "    \"Prov_MLD\",\n",
    "    \"Prov_HI\",\n",
    "    \"Prov_ASD\",\n",
    "    \"Progress8Measure\",\n",
    "    \"Progress8Banding\",\n",
    "    \"Primary Need VI\",\n",
    "    \"Primary Need SPLD\",\n",
    "    \"Primary Need SLD\",\n",
    "    \"Primary Need SLCN\",\n",
    "    \"Primary Need SEMH\",\n",
    "    \"Primary Need PMLD\",\n",
    "    \"Primary Need PD\",\n",
    "    \"Primary Need OTH\",\n",
    "    \"Primary Need MSI\",\n",
    "    \"Primary Need MLD\",\n",
    "    \"Primary Need HI\",\n",
    "    \"Primary Need ASD\",\n",
    "    \"Premises staff and services_Premises staff\",\n",
    "    \"Premises staff and services_Other occupation costs\",\n",
    "    \"Premises staff and services_Maintenance of premises\",\n",
    "    \"Premises staff and services_Cleaning and caretaking\",\n",
    "    \"Postcode\",\n",
    "    \"Percentage SEN\",\n",
    "    \"Percentage Free school meals\",\n",
    "    \"PFI School\",\n",
    "    \"Overall Phase\",\n",
    "    \"Other grants and payments\",\n",
    "    \"Other costs_Supply teacher insurance\",\n",
    "    \"Other costs_Staff-related insurance\",\n",
    "    \"Other costs_Staff development and training\",\n",
    "    \"Other costs_Special facilities\",\n",
    "    \"Other costs_Rent and rates\",\n",
    "    \"Other costs_PFI charges\",\n",
    "    \"Other costs_Other insurance premiums\",\n",
    "    \"Other costs_Interest charges for loan and bank\",\n",
    "    \"Other costs_Indirect employee expenses\",\n",
    "    \"Other costs_Grounds maintenance\",\n",
    "    \"Other costs_Direct revenue financing\",\n",
    "    \"OfstedRating (name)\",\n",
    "    \"OfstedLastInsp\",\n",
    "    \"OfficialSixthForm (code)\",\n",
    "    \"NurseryProvision (name)\",\n",
    "    \"Number of Vacant Teacher Posts\",\n",
    "    \"Non-educational support staff_Professional services (non-curriculum)\",\n",
    "    \"Non-educational support staff_Other staff\",\n",
    "    \"Non-educational support staff_Administrative and clerical staff\",\n",
    "    \"No of pupils in 6th form\",\n",
    "    \"No Teachers\",\n",
    "    \"MSOA (code)\",\n",
    "    \"Lowest age of pupils\",\n",
    "    \"London Weighting\",\n",
    "    \"Lead school in federation\",\n",
    "    \"LastChangedDate\",\n",
    "    \"LSOA (code)\",\n",
    "    \"LA Establishment Number\",\n",
    "    \"LA (name)\",\n",
    "    \"LA (code)\",\n",
    "    \"Ks2Progress\",\n",
    "    \"In-year Balance   Total Income (I01 to I18) minus Total Expenditure (E01 to E32)\",\n",
    "    \"IT_ICT learning resources\",\n",
    "    \"I18  Additional grant for schools\",\n",
    "    \"I17  Community focused school facilities income\",\n",
    "    \"I16  Community focussed school funding and   or grants\",\n",
    "    \"I15  Pupil focussed extended school funding and   or grants\",\n",
    "    \"I13  Donations and or private funds\",\n",
    "    \"I12  Income from contributions to visits etc\",\n",
    "    \"I11  Receipts from other insurance claims\",\n",
    "    \"I10  Receipts from supply teacher insurance claims\",\n",
    "    \"I08  Income from facilities and services\",\n",
    "    \"I06  Other government grants\",\n",
    "    \"I05  Pupil Premium\",\n",
    "    \"I04  Funding for minority ethnic pupils\",\n",
    "    \"I03  SEN funding\",\n",
    "    \"I02  Funding for 6th form students\",\n",
    "    \"I01  Funds delegated by the LA\",\n",
    "    \"Highest age of pupils\",\n",
    "    \"HeadName\",\n",
    "    \"Gender (name)\",\n",
    "    \"GOR (name)\",\n",
    "    \"FullTimeOtherHeadCount\",\n",
    "    \"FullTimeOther\",\n",
    "    \"FTE of Teaching Assistants\",\n",
    "    \"FTE of Support Staff\",\n",
    "    \"FTE of Admin Staff\",\n",
    "    \"EstablishmentNumber\",\n",
    "    \"EstablishmentName\",\n",
    "    \"Educational supplies_Learning resources (not ICT equipment)\",\n",
    "    \"Educational supplies_Examination fees\",\n",
    "    \"EHC plan\",\n",
    "    \"E32 Community focused school costs\",\n",
    "    \"E31  Community focused school staff\",\n",
    "    \"Catering_Income from catering\",\n",
    "    \"Catering_Catering supplies\",\n",
    "    \"Catering_Catering staff\",\n",
    "    \"BoardingEstablishment (name)\",\n",
    "    \"Boarders (name)\",\n",
    "    \"AverageAttainment\",\n",
    "    \"Age Average Score\",\n",
    "    \"AdmissionsPolicy (name)\",\n",
    "    \"AdmissionsPolicy (code)\",\n",
    "    \"Administrative supplies_Administrative supplies (non educational)\",\n",
    "    \"% of teachers with QTS\",\n",
    "    \"% of pupils with EAL\",\n",
    "    \"% of pupils who are Boarders\",\n",
    "    \"% of pupils known to be eligible for free school meals (Performa\",\n",
    "    \"% of pupils known to be eligible for and claiming free school me\",\n",
    "]\n",
    "\n",
    "maintained_schools['Premises staff and services_Premises staff']\n",
    "maintained_schools.to_csv('output/pre-processing/maintained_schools.csv', columns=maintained_schools_output)\n",
    "maintained_schools"
   ]
  },
  {
   "cell_type": "markdown",
   "id": "429dff32",
   "metadata": {},
   "source": [
    "## Federation Capture\n",
    "\n",
    "\n"
   ]
  },
  {
   "cell_type": "code",
   "execution_count": null,
   "id": "38c2fabd-3a66-4edc-9b77-b1bd549071d1",
   "metadata": {
    "ExecuteTime": {
     "end_time": "2024-04-29T20:47:08.777034Z",
     "start_time": "2024-04-29T20:47:08.579471Z"
    }
   },
   "outputs": [],
   "source": [
    "(hard_federations, soft_federations) = pre_processing.build_federations_data('data/gias_all_links.csv', maintained_schools)"
   ]
  },
  {
   "cell_type": "code",
   "execution_count": null,
   "id": "bbe0d39a",
   "metadata": {
    "ExecuteTime": {
     "end_time": "2024-04-29T20:47:08.784654Z",
     "start_time": "2024-04-29T20:47:08.778051Z"
    }
   },
   "outputs": [],
   "source": [
    "hard_federations.to_csv('output/pre-processing/hard_federations.csv')\n",
    "hard_federations"
   ]
  },
  {
   "cell_type": "code",
   "execution_count": null,
   "id": "a4b96c95",
   "metadata": {
    "ExecuteTime": {
     "end_time": "2024-04-29T20:47:08.790116Z",
     "start_time": "2024-04-29T20:47:08.785444Z"
    }
   },
   "outputs": [],
   "source": [
    "soft_federations.to_csv('output/pre-processing/soft_federations.csv')\n",
    "soft_federations[['LAEstab']]"
   ]
  },
  {
   "cell_type": "markdown",
   "id": "48a3001591261b92",
   "metadata": {},
   "source": [
    "### Timing Keep at the bottom"
   ]
  },
  {
   "cell_type": "code",
   "execution_count": null,
   "id": "fdd17dab96412d93",
   "metadata": {
    "ExecuteTime": {
     "end_time": "2024-04-29T20:47:08.793368Z",
     "start_time": "2024-04-29T20:47:08.791264Z"
    }
   },
   "outputs": [],
   "source": [
    "print(f'Processing Time: {time.time() - start_time} seconds')"
   ]
  },
  {
   "cell_type": "code",
   "execution_count": null,
   "id": "29f050cc",
   "metadata": {},
   "outputs": [],
   "source": [
    "a = set(academies.columns.values)\n",
    "m = set(maintained_schools.columns.values)\n",
    "\n",
    "print(a-m)\n"
   ]
  }
 ],
 "metadata": {
  "kernelspec": {
   "display_name": "Python 3 (ipykernel)",
   "language": "python",
   "name": "python3"
  },
  "language_info": {
   "codemirror_mode": {
    "name": "ipython",
    "version": 3
   },
   "file_extension": ".py",
   "mimetype": "text/x-python",
   "name": "python",
   "nbconvert_exporter": "python",
   "pygments_lexer": "ipython3",
   "version": "3.11.8"
  }
 },
 "nbformat": 4,
 "nbformat_minor": 5
}
