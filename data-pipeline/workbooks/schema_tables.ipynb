{
 "cells": [
  {
   "metadata": {
    "ExecuteTime": {
     "end_time": "2024-04-30T18:30:25.730097Z",
     "start_time": "2024-04-30T18:30:25.715312Z"
    }
   },
   "cell_type": "code",
   "source": [
    "from pathlib import Path\n",
    "import sys  \n",
    "\n",
    "# Get my_package directory path from Notebook\n",
    "parent_dir = str(Path().resolve().parents[0]) + '/src/pipeline'\n",
    "print(parent_dir)\n",
    "# Add to sys.path\n",
    "\n",
    "path_set = set(sys.path)\n",
    "if parent_dir not in path_set:\n",
    "    sys.path.insert(0, parent_dir)\n",
    "\n",
    "print(sys.path)"
   ],
   "id": "4c86cac2a4df2436",
   "outputs": [
    {
     "name": "stdout",
     "output_type": "stream",
     "text": [
      "/Users/colinbull/appdev/dfe/sfb/education-benchmarking-and-insights/data-pipeline/src\n",
      "['/Users/colinbull/appdev/dfe/sfb/education-benchmarking-and-insights/data-pipeline/src', '/Users/colinbull/appdev/dfe/sfb/education-benchmarking-and-insights/data-pipeline', '/opt/homebrew/Cellar/python@3.12/3.12.2_1/Frameworks/Python.framework/Versions/3.12/lib/python312.zip', '/opt/homebrew/Cellar/python@3.12/3.12.2_1/Frameworks/Python.framework/Versions/3.12/lib/python3.12', '/opt/homebrew/Cellar/python@3.12/3.12.2_1/Frameworks/Python.framework/Versions/3.12/lib/python3.12/lib-dynload', '', '/Users/colinbull/Library/Caches/pypoetry/virtualenvs/fbit-data-pipeline-aJYNke-B-py3.12/lib/python3.12/site-packages']\n"
     ]
    }
   ],
   "execution_count": 1
  },
  {
   "cell_type": "code",
   "id": "28f1cfdbb2fb8370",
   "metadata": {
    "ExecuteTime": {
     "end_time": "2024-04-30T18:30:46.993948Z",
     "start_time": "2024-04-30T18:30:45.860147Z"
    }
   },
   "source": [
    "import pandas as pd"
   ],
   "outputs": [],
   "execution_count": 3
  },
  {
   "cell_type": "code",
   "execution_count": null,
   "id": "5f32f9ef47f8ad33",
   "metadata": {
    "ExecuteTime": {
     "end_time": "2024-04-18T09:28:41.679204Z",
     "start_time": "2024-04-18T09:28:29.330196Z"
    }
   },
   "outputs": [],
   "source": [
    "raw_cdc = pd.read_csv('data/standing_data_cdc.csv', encoding='utf8', low_memory=False).dtypes.reset_index()\n",
    "raw_cdc['Data Source'] = 'RAW_CDC'\n",
    "\n",
    "raw_school_workforce_census = pd.read_excel('data/School_Tables_School_Workforce_Census_2022.xlsx', header=5).dtypes.reset_index()\n",
    "raw_school_workforce_census['Data Source'] = 'RAW_School_Workforce'\n",
    "\n",
    "raw_pupils_census = pd.read_csv('data/standing_data_census_pupils.csv', encoding='utf8', low_memory=False).dtypes.reset_index()\n",
    "raw_pupils_census['Data Source'] = 'RAW_Pupils_Census'\n",
    "\n",
    "raw_sen = pd.read_csv('data/SEN.csv', encoding='utf8', low_memory=False).dtypes.reset_index()\n",
    "raw_sen['Data Source'] = 'RAW_Sen'\n",
    "\n",
    "raw_gias = pd.read_csv('data/edubasealldata20240312.csv', encoding='cp1252', low_memory=False).dtypes.reset_index()\n",
    "raw_gias['Data Source'] = 'RAW_Gias'\n",
    "\n",
    "raw_academies_list = pd.read_csv('data/master_list_raw.csv', encoding='utf8', low_memory=False).dtypes.reset_index()\n",
    "raw_academies_list['Data Source'] = 'RAW_academies_master_list'\n",
    "\n",
    "raw_maintained_schools_list = pd.read_csv('data/maintained_schools_raw.csv', encoding='utf8', low_memory=False).dtypes.reset_index()\n",
    "raw_maintained_schools_list['Data Source'] = 'RAW_maintained_schools_list'\n",
    "\n",
    "raw_ar_cells = pd.read_csv('data/AR_cell_mapping.csv', encoding='utf8', low_memory=False)\n",
    "raw_ar_cells['Data Source'] = 'RAW_AR_Cell'\n",
    "raw_ar_cells['index'] = raw_ar_cells.apply(lambda d: d['cell'] + ':' + d['Metric'], axis=1)\n",
    "\n"
   ]
  },
  {
   "cell_type": "code",
   "execution_count": null,
   "id": "df5f0216db8bcfaf",
   "metadata": {
    "ExecuteTime": {
     "end_time": "2024-04-18T09:28:44.475071Z",
     "start_time": "2024-04-18T09:28:44.446502Z"
    }
   },
   "outputs": [],
   "source": [
    "raw_schemas = pd.concat([\n",
    "    raw_sen[['index','Data Source']],\n",
    "    raw_school_workforce_census[['index','Data Source']],\n",
    "    raw_pupils_census[['index','Data Source']],\n",
    "    raw_cdc[['index','Data Source']],\n",
    "    raw_gias[['index','Data Source']],\n",
    "    raw_academies_list[['index','Data Source']],\n",
    "    raw_maintained_schools_list[['index','Data Source']],\n",
    "    raw_ar_cells[['index','Data Source']]\n",
    "]).rename(columns={'index':'Attribute'}).reset_index()[['Data Source','Attribute']]\n",
    "\n",
    "raw_schemas['Attribute Path'] = raw_schemas.apply(lambda d: d['Data Source'] + ':' + d['Attribute'], axis=1)\n",
    "\n",
    "raw_schemas"
   ]
  },
  {
   "cell_type": "code",
   "id": "30248016f69ca7a9",
   "metadata": {
    "ExecuteTime": {
     "end_time": "2024-04-30T18:30:53.300455Z",
     "start_time": "2024-04-30T18:30:52.230279Z"
    }
   },
   "source": [
    "pp_academies = pd.read_csv('output/pre-processing/academies.csv', encoding='utf8', low_memory=False).dtypes.reset_index()\n",
    "pp_academies['Data Source'] = 'PreProcessed_Academies'\n",
    "\n",
    "pp_cdc = pd.read_csv('output/pre-processing/cdc.csv', encoding='utf8', low_memory=False).dtypes.reset_index()\n",
    "pp_cdc['Data Source'] = 'PreProcessed_CDC'\n",
    "\n",
    "pp_census = pd.read_csv('output/pre-processing/census.csv', encoding='utf8', low_memory=False).dtypes.reset_index()\n",
    "pp_census['Data Source'] = 'PreProcessed_Census'\n",
    "\n",
    "pp_maintained_schools = pd.read_csv('output/pre-processing/maintained_schools.csv', encoding='utf8', low_memory=False).dtypes.reset_index()\n",
    "pp_maintained_schools['Data Source'] = 'PreProcessed_Maintained_Schools'\n",
    "\n",
    "pp_schools = pd.read_csv('output/pre-processing/schools.csv', encoding='utf8', low_memory=False).dtypes.reset_index()\n",
    "pp_schools['Data Source'] = 'PreProcessed_Schools'\n",
    "\n",
    "pp_sen = pd.read_csv('output/pre-processing/sen.csv', encoding='utf8', low_memory=False).dtypes.reset_index()\n",
    "pp_sen['Data Source'] = 'PreProcessed_SEN'"
   ],
   "outputs": [],
   "execution_count": 4
  },
  {
   "cell_type": "code",
   "id": "909be4f4839e0429",
   "metadata": {
    "ExecuteTime": {
     "end_time": "2024-04-30T18:42:16.015647Z",
     "start_time": "2024-04-30T18:42:15.983617Z"
    }
   },
   "source": [
    "pp_schemas = pd.concat([\n",
    "    pp_academies[['index','Data Source']],\n",
    "    pp_cdc[['index','Data Source']],\n",
    "    pp_census[['index','Data Source']],\n",
    "    pp_maintained_schools[['index','Data Source']],\n",
    "    pp_schools[['index','Data Source']],\n",
    "    pp_sen[['index','Data Source']]\n",
    "]).rename(columns={'index':'Attribute'}).reset_index()[['Data Source','Attribute']]\n",
    "\n",
    "pp_schemas['Attribute Path'] = pp_schemas.apply(lambda d: d['Data Source'] + ':' + d['Attribute'], axis=1)\n",
    "pp_maintained_schools[['index','Data Source']]"
   ],
   "outputs": [
    {
     "data": {
      "text/plain": [
       "                         index                      Data Source\n",
       "0                          URN  PreProcessed_Maintained_Schools\n",
       "1                      LAEstab  PreProcessed_Maintained_Schools\n",
       "2                        Phase  PreProcessed_Maintained_Schools\n",
       "3                Overall Phase  PreProcessed_Maintained_Schools\n",
       "4         Lowest age of pupils  PreProcessed_Maintained_Schools\n",
       "..                         ...                              ...\n",
       "180             School Balance  PreProcessed_Maintained_Schools\n",
       "181  School Financial Position  PreProcessed_Maintained_Schools\n",
       "182            SchoolPhaseType  PreProcessed_Maintained_Schools\n",
       "183      Partial Years Present  PreProcessed_Maintained_Schools\n",
       "184             Did Not Submit  PreProcessed_Maintained_Schools\n",
       "\n",
       "[185 rows x 2 columns]"
      ],
      "text/html": [
       "<div>\n",
       "<style scoped>\n",
       "    .dataframe tbody tr th:only-of-type {\n",
       "        vertical-align: middle;\n",
       "    }\n",
       "\n",
       "    .dataframe tbody tr th {\n",
       "        vertical-align: top;\n",
       "    }\n",
       "\n",
       "    .dataframe thead th {\n",
       "        text-align: right;\n",
       "    }\n",
       "</style>\n",
       "<table border=\"1\" class=\"dataframe\">\n",
       "  <thead>\n",
       "    <tr style=\"text-align: right;\">\n",
       "      <th></th>\n",
       "      <th>index</th>\n",
       "      <th>Data Source</th>\n",
       "    </tr>\n",
       "  </thead>\n",
       "  <tbody>\n",
       "    <tr>\n",
       "      <th>0</th>\n",
       "      <td>URN</td>\n",
       "      <td>PreProcessed_Maintained_Schools</td>\n",
       "    </tr>\n",
       "    <tr>\n",
       "      <th>1</th>\n",
       "      <td>LAEstab</td>\n",
       "      <td>PreProcessed_Maintained_Schools</td>\n",
       "    </tr>\n",
       "    <tr>\n",
       "      <th>2</th>\n",
       "      <td>Phase</td>\n",
       "      <td>PreProcessed_Maintained_Schools</td>\n",
       "    </tr>\n",
       "    <tr>\n",
       "      <th>3</th>\n",
       "      <td>Overall Phase</td>\n",
       "      <td>PreProcessed_Maintained_Schools</td>\n",
       "    </tr>\n",
       "    <tr>\n",
       "      <th>4</th>\n",
       "      <td>Lowest age of pupils</td>\n",
       "      <td>PreProcessed_Maintained_Schools</td>\n",
       "    </tr>\n",
       "    <tr>\n",
       "      <th>...</th>\n",
       "      <td>...</td>\n",
       "      <td>...</td>\n",
       "    </tr>\n",
       "    <tr>\n",
       "      <th>180</th>\n",
       "      <td>School Balance</td>\n",
       "      <td>PreProcessed_Maintained_Schools</td>\n",
       "    </tr>\n",
       "    <tr>\n",
       "      <th>181</th>\n",
       "      <td>School Financial Position</td>\n",
       "      <td>PreProcessed_Maintained_Schools</td>\n",
       "    </tr>\n",
       "    <tr>\n",
       "      <th>182</th>\n",
       "      <td>SchoolPhaseType</td>\n",
       "      <td>PreProcessed_Maintained_Schools</td>\n",
       "    </tr>\n",
       "    <tr>\n",
       "      <th>183</th>\n",
       "      <td>Partial Years Present</td>\n",
       "      <td>PreProcessed_Maintained_Schools</td>\n",
       "    </tr>\n",
       "    <tr>\n",
       "      <th>184</th>\n",
       "      <td>Did Not Submit</td>\n",
       "      <td>PreProcessed_Maintained_Schools</td>\n",
       "    </tr>\n",
       "  </tbody>\n",
       "</table>\n",
       "<p>185 rows × 2 columns</p>\n",
       "</div>"
      ]
     },
     "execution_count": 8,
     "metadata": {},
     "output_type": "execute_result"
    }
   ],
   "execution_count": 8
  },
  {
   "cell_type": "code",
   "execution_count": null,
   "id": "ae7bc989fa740ac1",
   "metadata": {
    "ExecuteTime": {
     "end_time": "2024-04-18T09:35:17.701111Z",
     "start_time": "2024-04-18T09:35:17.637136Z"
    }
   },
   "outputs": [],
   "source": [
    "pp_ex = pp_maintained_schools[['index','Data Source']].rename(columns={'index':'Attribute'}).reset_index()[['Data Source','Attribute']]\n",
    "pp_ex['Attribute Path'] = pp_ex.apply(lambda d: d['Data Source'] + ':' + d['Attribute'], axis=1)\n",
    "pp_ex\n"
   ]
  }
 ],
 "metadata": {
  "kernelspec": {
   "display_name": "Python 3",
   "language": "python",
   "name": "python3"
  },
  "language_info": {
   "codemirror_mode": {
    "name": "ipython",
    "version": 2
   },
   "file_extension": ".py",
   "mimetype": "text/x-python",
   "name": "python",
   "nbconvert_exporter": "python",
   "pygments_lexer": "ipython2",
   "version": "2.7.6"
  }
 },
 "nbformat": 4,
 "nbformat_minor": 5
}
