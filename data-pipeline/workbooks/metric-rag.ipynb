{
 "cells": [
  {
   "cell_type": "code",
   "id": "ad5a791a54b3c172",
   "metadata": {},
   "source": [
    "%load_ext line_profiler\n",
    "\n",
    "from pathlib import Path\n",
    "import sys\n",
    "\n",
    "import numpy as np\n",
    "\n",
    "# Get my_package directory path from Notebook\n",
    "parent_dir = str(Path().resolve().parents[0])\n",
    "print(parent_dir)\n",
    "# Add to sys.path\n",
    "\n",
    "path_set = set(sys.path)\n",
    "if parent_dir not in path_set:\n",
    "    sys.path.insert(0, parent_dir)\n",
    "\n",
    "print(sys.path)"
   ],
   "outputs": [],
   "execution_count": null
  },
  {
   "cell_type": "markdown",
   "id": "4c66266833f6e0c3",
   "metadata": {},
   "source": [
    "# Metric RAG\n",
    "\n",
    "* median, decile, status (Red / Amber / Green), percentage\n",
    "* All cost catgeories - cost per pupil\n",
    "* Utilities and Premises and staff - per m^2"
   ]
  },
  {
   "cell_type": "code",
   "id": "545e6d9ba57b74bb",
   "metadata": {},
   "source": [
    "import pandas as pd\n",
    "import src.pipeline.rag as rag\n",
    "import src.pipeline.config as config\n",
    "import glob \n",
    "import os\n",
    "import time\n",
    "\n",
    "# Create and clean directory\n",
    "from pathlib import Path\n",
    "Path(\"output/metric-rag\").mkdir(parents=True, exist_ok=True)\n",
    "\n",
    "files = glob.glob(\"output/metric-rag/*\")\n",
    "for f in files:\n",
    "    os.remove(f)"
   ],
   "outputs": [],
   "execution_count": null
  },
  {
   "cell_type": "markdown",
   "id": "d7f55e9ba214a123",
   "metadata": {},
   "source": [
    "## Loading saved comparator sets"
   ]
  },
  {
   "cell_type": "code",
   "id": "381fa1a4cb96be66",
   "metadata": {},
   "source": [
    "raw_data = pd.read_parquet('output/comparator-sets/maintained_schools.parquet')\n",
    "raw_comparators = pd.read_parquet('output/comparator-sets/ms_comparators.parquet')"
   ],
   "outputs": [],
   "execution_count": null
  },
  {
   "metadata": {},
   "cell_type": "code",
   "source": [
    "comps = raw_comparators.loc[100000][\"Pupil\"]\n",
    "series = raw_data[raw_data.index.isin(comps)]\n",
    "series.iloc[0]\n",
    "# category_cols = (\n",
    "#         series.columns.isin(rag.base_cols)\n",
    "#         | series.columns.str.startswith(\"Teaching and Teaching support staff\")\n",
    "#     )\n",
    "# col = series[series.columns[category_cols]].dtypes\n",
    "# col[col.index.str.startswith(\"Teaching and Teaching support staff\")].index.values"
   ],
   "id": "36c0cd357a088a9d",
   "outputs": [],
   "execution_count": null
  },
  {
   "cell_type": "markdown",
   "id": "c1af7e5ae2b01dca",
   "metadata": {},
   "source": [
    "Compute the rag calculation for the cost categories given in the [Benchmarking cost categories doc](https://educationgovuk.sharepoint.com.mcas.ms/:w:/r/sites/DfEFinancialBenchmarking/_layouts/15/Doc.aspx?sourcedoc=%7B622FB0F9-7CB1-445A-8FFA-664F8857F036%7D&file=Benchmarking%20cost%20categories%20and%20sub-categories.docx&action=default&mobileredirect=true)"
   ]
  },
  {
   "metadata": {},
   "cell_type": "code",
   "source": [
    "rs = rag.compute_rag(raw_data, raw_comparators)\n",
    "pd.DataFrame(rs)"
   ],
   "id": "540cd964ebaec19a",
   "outputs": [],
   "execution_count": null
  },
  {
   "metadata": {},
   "cell_type": "code",
   "source": "%lprun -f rag.category_stats list(rag.compute_rag(raw_data, raw_comparators))",
   "id": "45e5cce00be9e2d2",
   "outputs": [],
   "execution_count": null
  }
 ],
 "metadata": {
  "kernelspec": {
   "display_name": "Python 3",
   "language": "python",
   "name": "python3"
  },
  "language_info": {
   "codemirror_mode": {
    "name": "ipython",
    "version": 2
   },
   "file_extension": ".py",
   "mimetype": "text/x-python",
   "name": "python",
   "nbconvert_exporter": "python",
   "pygments_lexer": "ipython2",
   "version": "2.7.6"
  }
 },
 "nbformat": 4,
 "nbformat_minor": 5
}
