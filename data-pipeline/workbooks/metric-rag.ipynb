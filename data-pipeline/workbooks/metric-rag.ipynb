{
 "cells": [
  {
<<<<<<< HEAD
   "metadata": {},
   "cell_type": "code",
   "outputs": [],
   "execution_count": null,
=======
   "cell_type": "code",
   "execution_count": null,
   "id": "ad5a791a54b3c172",
   "metadata": {},
   "outputs": [],
>>>>>>> d6f264ffa350a8ff4b76b5603924abe6419a5f04
   "source": [
    "from pathlib import Path\n",
    "import sys  \n",
    "\n",
    "# Get my_package directory path from Notebook\n",
    "parent_dir = str(Path().resolve().parents[0])\n",
    "print(parent_dir)\n",
    "# Add to sys.path\n",
    "\n",
    "path_set = set(sys.path)\n",
    "if parent_dir not in path_set:\n",
    "    sys.path.insert(0, parent_dir)\n",
    "\n",
    "print(sys.path)"
<<<<<<< HEAD
   ],
   "id": "ad5a791a54b3c172"
  },
  {
   "metadata": {},
   "cell_type": "markdown",
=======
   ]
  },
  {
   "cell_type": "markdown",
   "id": "4c66266833f6e0c3",
   "metadata": {},
>>>>>>> d6f264ffa350a8ff4b76b5603924abe6419a5f04
   "source": [
    "# Metric RAG\n",
    "\n",
    "* median, decile, status (Red / Amber / Green), percentage\n",
    "* All cost catgeories - cost per pupil\n",
    "* Utilities and Premises and staff - per m^2"
<<<<<<< HEAD
   ],
   "id": "4c66266833f6e0c3"
  },
  {
=======
   ]
  },
  {
   "cell_type": "code",
   "execution_count": null,
   "id": "545e6d9ba57b74bb",
>>>>>>> d6f264ffa350a8ff4b76b5603924abe6419a5f04
   "metadata": {
    "ExecuteTime": {
     "end_time": "2024-04-23T23:07:19.144374Z",
     "start_time": "2024-04-23T23:07:19.140350Z"
    }
   },
<<<<<<< HEAD
   "cell_type": "code",
   "source": [
    "import src.rag as rag\n",
    "import pickle\n",
    "import src.comparator_sets as comparators\n",
=======
   "outputs": [],
   "source": [
    "import src.pipeline.rag as rag\n",
    "import pickle\n",
    "import src.pipeline.comparator_sets as comparators\n",
>>>>>>> d6f264ffa350a8ff4b76b5603924abe6419a5f04
    "import glob \n",
    "import os\n",
    "import time\n",
    "\n",
    "# Create and clean directory\n",
    "from pathlib import Path\n",
    "Path(\"output/metric-rag\").mkdir(parents=True, exist_ok=True)\n",
    "\n",
    "files = glob.glob(\"output/metric-rag/*\")\n",
    "for f in files:\n",
    "    os.remove(f)"
<<<<<<< HEAD
   ],
   "id": "545e6d9ba57b74bb",
   "outputs": [],
   "execution_count": 2
  },
  {
   "metadata": {},
   "cell_type": "markdown",
   "source": "## Loading saved comparator sets",
   "id": "d7f55e9ba214a123"
  },
  {
=======
   ]
  },
  {
   "cell_type": "markdown",
   "id": "d7f55e9ba214a123",
   "metadata": {},
   "source": [
    "## Loading saved comparator sets"
   ]
  },
  {
   "cell_type": "code",
   "execution_count": null,
   "id": "381fa1a4cb96be66",
>>>>>>> d6f264ffa350a8ff4b76b5603924abe6419a5f04
   "metadata": {
    "ExecuteTime": {
     "end_time": "2024-04-23T23:07:21.108799Z",
     "start_time": "2024-04-23T23:07:19.158440Z"
    }
   },
<<<<<<< HEAD
   "cell_type": "code",
=======
   "outputs": [],
>>>>>>> d6f264ffa350a8ff4b76b5603924abe6419a5f04
   "source": [
    "with open('output/comparator-sets/schools.pkl', 'rb') as schools_file:\n",
    "     all_schools = pickle.load(schools_file)\n",
    "\n",
    "with open('output/comparator-sets/pupil_comparators.pkl', 'rb') as pupil_file:\n",
    "     pupil_comparators = pickle.load(pupil_file)\n",
    "     \n",
    "with open('output/comparator-sets/building_comparators.pkl', 'rb') as building_file:\n",
    "     building_comparators = pickle.load(building_file)"
<<<<<<< HEAD
   ],
   "id": "381fa1a4cb96be66",
   "outputs": [],
   "execution_count": 3
  },
  {
   "metadata": {},
   "cell_type": "markdown",
   "source": "Select the school for the RAG calculation",
   "id": "f97d4b208d8b8aaf"
  },
  {
=======
   ]
  },
  {
   "cell_type": "markdown",
   "id": "f97d4b208d8b8aaf",
   "metadata": {},
   "source": [
    "Select the school for the RAG calculation"
   ]
  },
  {
   "cell_type": "code",
   "execution_count": null,
   "id": "d9fe4fa0a24bfec1",
>>>>>>> d6f264ffa350a8ff4b76b5603924abe6419a5f04
   "metadata": {
    "ExecuteTime": {
     "end_time": "2024-04-23T23:07:57.355587Z",
     "start_time": "2024-04-23T23:07:57.012135Z"
    }
   },
<<<<<<< HEAD
   "cell_type": "code",
=======
   "outputs": [],
>>>>>>> d6f264ffa350a8ff4b76b5603924abe6419a5f04
   "source": [
    "start_time = time.time()\n",
    "\n",
    "target_school = 103341\n",
    "comparator_set = comparators.get_comparator_set_by(lambda s: s.index == target_school, all_schools, pupil_comparators).set_index('URN')"
<<<<<<< HEAD
   ],
   "id": "d9fe4fa0a24bfec1",
   "outputs": [],
   "execution_count": 10
  },
  {
   "metadata": {},
   "cell_type": "markdown",
   "source": "Compute the rag calculation for the cost categories given in the [Benchmarking cost categories doc](https://educationgovuk.sharepoint.com.mcas.ms/:w:/r/sites/DfEFinancialBenchmarking/_layouts/15/Doc.aspx?sourcedoc=%7B622FB0F9-7CB1-445A-8FFA-664F8857F036%7D&file=Benchmarking%20cost%20categories%20and%20sub-categories.docx&action=default&mobileredirect=true)",
   "id": "c1af7e5ae2b01dca"
  },
  {
=======
   ]
  },
  {
   "cell_type": "markdown",
   "id": "c1af7e5ae2b01dca",
   "metadata": {},
   "source": [
    "Compute the rag calculation for the cost categories given in the [Benchmarking cost categories doc](https://educationgovuk.sharepoint.com.mcas.ms/:w:/r/sites/DfEFinancialBenchmarking/_layouts/15/Doc.aspx?sourcedoc=%7B622FB0F9-7CB1-445A-8FFA-664F8857F036%7D&file=Benchmarking%20cost%20categories%20and%20sub-categories.docx&action=default&mobileredirect=true)"
   ]
  },
  {
   "cell_type": "code",
   "execution_count": null,
   "id": "c95475382351a776",
>>>>>>> d6f264ffa350a8ff4b76b5603924abe6419a5f04
   "metadata": {
    "ExecuteTime": {
     "end_time": "2024-04-23T23:07:57.502029Z",
     "start_time": "2024-04-23T23:07:57.356559Z"
    }
   },
<<<<<<< HEAD
   "cell_type": "code",
   "source": "rag.compute_rag(target_school, comparator_set)",
   "id": "c95475382351a776",
   "outputs": [],
   "execution_count": 11
  },
  {
   "metadata": {},
   "cell_type": "markdown",
   "source": "## Processing Time",
   "id": "8e3a3709c6c8c103"
  },
  {
=======
   "outputs": [],
   "source": [
    "rag.compute_rag(target_school, comparator_set)"
   ]
  },
  {
   "cell_type": "markdown",
   "id": "8e3a3709c6c8c103",
   "metadata": {},
   "source": [
    "## Processing Time"
   ]
  },
  {
   "cell_type": "code",
   "execution_count": null,
   "id": "2a6a3b00010e62d0",
>>>>>>> d6f264ffa350a8ff4b76b5603924abe6419a5f04
   "metadata": {
    "ExecuteTime": {
     "end_time": "2024-04-23T23:07:57.507228Z",
     "start_time": "2024-04-23T23:07:57.503044Z"
    }
   },
<<<<<<< HEAD
   "cell_type": "code",
   "source": "print(f'Processing Time: {time.time() - start_time} seconds')",
   "id": "2a6a3b00010e62d0",
   "outputs": [
    {
     "name": "stdout",
     "output_type": "stream",
     "text": [
      "Processing Time: 0.4898262023925781 seconds\n"
     ]
    }
   ],
   "execution_count": 12
=======
   "outputs": [],
   "source": [
    "print(f'Processing Time: {time.time() - start_time} seconds')"
   ]
>>>>>>> d6f264ffa350a8ff4b76b5603924abe6419a5f04
  }
 ],
 "metadata": {
  "kernelspec": {
   "display_name": "Python 3",
   "language": "python",
   "name": "python3"
  },
  "language_info": {
   "codemirror_mode": {
    "name": "ipython",
    "version": 2
   },
   "file_extension": ".py",
   "mimetype": "text/x-python",
   "name": "python",
   "nbconvert_exporter": "python",
   "pygments_lexer": "ipython2",
   "version": "2.7.6"
  }
 },
 "nbformat": 4,
 "nbformat_minor": 5
}
