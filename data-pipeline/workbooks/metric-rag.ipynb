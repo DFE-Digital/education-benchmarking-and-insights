{
 "cells": [
  {
   "cell_type": "code",
   "execution_count": null,
   "id": "ad5a791a54b3c172",
   "metadata": {
    "ExecuteTime": {
     "end_time": "2024-05-09T13:56:55.861424Z",
     "start_time": "2024-05-09T13:56:55.857596Z"
    }
   },
   "outputs": [],
   "source": [
    "from pathlib import Path\n",
    "import sys\n",
    "\n",
    "import numpy as np\n",
    "\n",
    "# Get my_package directory path from Notebook\n",
    "parent_dir = str(Path().resolve().parents[0])\n",
    "print(parent_dir)\n",
    "# Add to sys.path\n",
    "\n",
    "path_set = set(sys.path)\n",
    "if parent_dir not in path_set:\n",
    "    sys.path.insert(0, parent_dir)\n",
    "\n",
    "print(sys.path)"
   ]
  },
  {
   "cell_type": "markdown",
   "id": "4c66266833f6e0c3",
   "metadata": {},
   "source": [
    "# Metric RAG\n",
    "\n",
    "* median, decile, status (Red / Amber / Green), percentage\n",
    "* All cost catgeories - cost per pupil\n",
    "* Utilities and Premises and staff - per m^2"
   ]
  },
  {
   "cell_type": "code",
   "execution_count": null,
   "id": "545e6d9ba57b74bb",
   "metadata": {
    "ExecuteTime": {
     "end_time": "2024-05-09T13:56:59.182411Z",
     "start_time": "2024-05-09T13:56:58.472340Z"
    }
   },
   "outputs": [],
   "source": [
    "import src.pipeline.rag as rag\n",
    "import pickle\n",
    "import src.pipeline.comparator_sets as comparators\n",
    "import glob \n",
    "import os\n",
    "import time\n",
    "\n",
    "# Create and clean directory\n",
    "from pathlib import Path\n",
    "Path(\"output/metric-rag\").mkdir(parents=True, exist_ok=True)\n",
    "\n",
    "files = glob.glob(\"output/metric-rag/*\")\n",
    "for f in files:\n",
    "    os.remove(f)"
   ]
  },
  {
   "cell_type": "markdown",
   "id": "d7f55e9ba214a123",
   "metadata": {},
   "source": [
    "## Loading saved comparator sets"
   ]
  },
  {
   "cell_type": "code",
   "execution_count": null,
   "id": "381fa1a4cb96be66",
   "metadata": {
    "ExecuteTime": {
     "end_time": "2024-05-09T13:57:01.751920Z",
     "start_time": "2024-05-09T13:57:01.147521Z"
    }
   },
   "outputs": [],
   "source": [
    "with open('output/comparator-sets/maintained_schools.pkl', 'rb') as schools_file:\n",
    "     ms_schools = pickle.load(schools_file)\n",
    "\n",
    "with open('output/comparator-sets/ms_pupil_comparators.pkl', 'rb') as pupil_file:\n",
    "     pupil_comparators = pickle.load(pupil_file)\n",
    "     "
   ]
  },
  {
   "cell_type": "markdown",
   "id": "f97d4b208d8b8aaf",
   "metadata": {},
   "source": [
    "Select the school for the RAG calculation"
   ]
  },
  {
   "cell_type": "code",
   "execution_count": null,
   "id": "d9fe4fa0a24bfec1",
   "metadata": {
    "ExecuteTime": {
     "end_time": "2024-05-09T13:57:03.986219Z",
     "start_time": "2024-05-09T13:57:03.721833Z"
    }
   },
   "outputs": [],
   "source": [
    "start_time = time.time()\n",
    "\n",
    "target_school = 103341\n",
    "comparator_set = comparators.get_comparator_set_by(lambda s: s['URN'] == target_school, ms_schools, pupil_comparators).set_index('URN')\n",
    "comparator_set"
   ]
  },
  {
   "cell_type": "markdown",
   "id": "c1af7e5ae2b01dca",
   "metadata": {},
   "source": [
    "Compute the rag calculation for the cost categories given in the [Benchmarking cost categories doc](https://educationgovuk.sharepoint.com.mcas.ms/:w:/r/sites/DfEFinancialBenchmarking/_layouts/15/Doc.aspx?sourcedoc=%7B622FB0F9-7CB1-445A-8FFA-664F8857F036%7D&file=Benchmarking%20cost%20categories%20and%20sub-categories.docx&action=default&mobileredirect=true)"
   ]
  },
  {
   "cell_type": "code",
   "execution_count": null,
   "id": "c95475382351a776",
   "metadata": {
    "ExecuteTime": {
     "end_time": "2024-05-09T18:57:12.965762Z",
     "start_time": "2024-05-09T18:57:12.859044Z"
    }
   },
   "outputs": [],
   "source": [
    "import pandas as pd\n",
    "import numpy as np\n",
    "import json\n",
    "\n",
    "def get_category_series(category_name, data, basis):\n",
    "    category_cols = data.columns.isin(rag.base_cols) | data.columns.isin([\"is_close\"]) | data.columns.str.startswith(category_name)\n",
    "    df = data[data.columns[category_cols]].copy()\n",
    "    basis_data = data['Number of pupils' if basis == \"pupil\" else \"Total Internal Floor Area\"]\n",
    "    \n",
    "    # Create total column and divide be the basis data\n",
    "    df[category_name+'_Total'] = df[df.columns[pd.Series(df.columns).str.startswith(category_name)]].sum(axis=1) / basis_data\n",
    "    \n",
    "    sub_categories = df.columns[df.columns.str.startswith(category_name)].values.tolist()\n",
    "    \n",
    "    for sub_category in sub_categories:\n",
    "        df[sub_category] = df[sub_category] / basis_data\n",
    "                \n",
    "    return df, sub_categories\n",
    "    \n",
    "\n",
    "def category_stats(category_name, data, ofsted_rating, rag_mapping):\n",
    "    close_count = data[\"is_close\"][data[\"is_close\"]].count()\n",
    "    key = \"outstanding\" if ofsted_rating.lower() == \"outstanding\" else \"other\"\n",
    "    key += \"_10\" if close_count > 10 else \"\"\n",
    "    \n",
    "    series = data[category_name]\n",
    "    percentiles = pd.qcut(series, 100, labels=False, duplicates=\"drop\")\n",
    "    deciles = pd.qcut(series, 10, labels=False, duplicates=\"drop\")\n",
    "    percentile = int(np.nan_to_num(percentiles.iloc[0]))\n",
    "    decile = int(np.nan_to_num(deciles.iloc[0]))\n",
    "    value = float(np.nan_to_num(series.iloc[0]))\n",
    "    mean = float(np.nan_to_num(series.mean()))\n",
    "    diff = value - mean\n",
    "    diff_percent = (diff / value) * 100 if value != 0 else 0\n",
    "    \n",
    "    return {\n",
    "        'value': value,\n",
    "        'mean': mean,\n",
    "        'diff_mean': diff,\n",
    "        'key': key,\n",
    "        'percentage_diff': diff_percent,\n",
    "        'percentile': percentile,\n",
    "        'decile': decile,\n",
    "        'rag': rag_mapping[key][int(decile)],\n",
    "        'data': data.reset_index().to_dict(orient='records', index=True)\n",
    "    }\n",
    "\n",
    "\n",
    "def compute_category_rag(category_name, settings, comparator_set, stats):\n",
    "    target = comparator_set.iloc[0]\n",
    "    ofstead = target[\"OfstedRating (name)\"]\n",
    "    comparator_set[\"is_close\"] = comparator_set.apply(\n",
    "        lambda x: rag.is_close_comparator(settings[\"type\"], target, x), axis=1\n",
    "    )\n",
    "    \n",
    "    series, sub_categories = get_category_series(category_name, comparator_set, settings['type'])\n",
    "\n",
    "    for sub_category in sub_categories:\n",
    "        stats[sub_category] = category_stats(sub_category, series, ofstead, settings)\n",
    "        \n",
    "    return stats\n",
    "\n",
    "def compute_rag(comparator_set):\n",
    "    stats = {}\n",
    "    for cat in rag.category_settings.keys():\n",
    "        settings = rag.category_settings[cat]\n",
    "        stats = compute_category_rag(cat, settings, comparator_set, stats)\n",
    "        \n",
    "    return stats\n",
    "\n",
    "def write_rag(urn,year,comparator_set_type,type,data):\n",
    "    with open(f'output/metric-rag/{urn}/{year}/{comparator_set_type}-{type}.json', 'w') as file:\n",
    "        json.dump(data, file)\n",
    "        file.close()\n",
    "\n",
    "\n",
    "\n",
    "results = compute_rag(comparator_set)\n",
    "write_rag(103341, 2022, \"default\", \"unmixed\", results)\n",
    "# \n",
    "# /{URN}/{type}\n",
    "#  --- School\n",
    "#  --- Detail\n",
    "# \n",
    "# /\n",
    "# \n",
    "# //PUPIL\n",
    "# //School\n",
    "# {\n",
    "#     \"Teaching and Support staff\": {},\n",
    "#     \"Prem\"\n",
    "# }\n",
    "# \n",
    "# //Category detail\n",
    "# {\n",
    "#     \"Total\": {},\n",
    "#     \"Teaching Staff costs\": {},\n",
    "#     \"Data\": [\n",
    "#         {}\n",
    "#     ]   \n",
    "# }"
   ]
  },
  {
   "cell_type": "markdown",
   "id": "8e3a3709c6c8c103",
   "metadata": {},
   "source": [
    "## Processing Time"
   ]
  },
  {
   "cell_type": "code",
   "execution_count": null,
   "id": "2a6a3b00010e62d0",
   "metadata": {
    "ExecuteTime": {
     "end_time": "2024-04-23T23:07:57.507228Z",
     "start_time": "2024-04-23T23:07:57.503044Z"
    }
   },
   "outputs": [],
   "source": [
    "print(f'Processing Time: {time.time() - start_time} seconds')"
   ]
  }
 ],
 "metadata": {
  "kernelspec": {
   "display_name": "Python 3",
   "language": "python",
   "name": "python3"
  },
  "language_info": {
   "codemirror_mode": {
    "name": "ipython",
    "version": 2
   },
   "file_extension": ".py",
   "mimetype": "text/x-python",
   "name": "python",
   "nbconvert_exporter": "python",
   "pygments_lexer": "ipython2",
   "version": "2.7.6"
  }
 },
 "nbformat": 4,
 "nbformat_minor": 5
}
