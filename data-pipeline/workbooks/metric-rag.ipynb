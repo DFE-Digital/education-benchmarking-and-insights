{
 "cells": [
  {
   "cell_type": "code",
   "id": "ad5a791a54b3c172",
   "metadata": {
    "ExecuteTime": {
     "end_time": "2024-05-30T22:47:48.846653Z",
     "start_time": "2024-05-30T22:47:48.667149Z"
    }
   },
   "source": [
    "%load_ext line_profiler\n",
    "\n",
    "from pathlib import Path\n",
    "import sys\n",
    "\n",
    "import numpy as np\n",
    "\n",
    "# Get my_package directory path from Notebook\n",
    "parent_dir = str(Path().resolve().parents[0])\n",
    "print(parent_dir)\n",
    "# Add to sys.path\n",
    "\n",
    "path_set = set(sys.path)\n",
    "if parent_dir not in path_set:\n",
    "    sys.path.insert(0, parent_dir)\n",
    "\n",
    "print(sys.path)"
   ],
   "outputs": [
    {
     "name": "stdout",
     "output_type": "stream",
     "text": [
      "/Users/colinbull/appdev/dfe/sfb/education-benchmarking-and-insights/data-pipeline\n",
      "['/Users/colinbull/appdev/dfe/sfb/education-benchmarking-and-insights/data-pipeline', '/opt/homebrew/Cellar/python@3.12/3.12.2_1/Frameworks/Python.framework/Versions/3.12/lib/python312.zip', '/opt/homebrew/Cellar/python@3.12/3.12.2_1/Frameworks/Python.framework/Versions/3.12/lib/python3.12', '/opt/homebrew/Cellar/python@3.12/3.12.2_1/Frameworks/Python.framework/Versions/3.12/lib/python3.12/lib-dynload', '', '/Users/colinbull/Library/Caches/pypoetry/virtualenvs/fbit-data-pipeline-aJYNke-B-py3.12/lib/python3.12/site-packages']\n"
     ]
    }
   ],
   "execution_count": 1
  },
  {
   "cell_type": "markdown",
   "id": "4c66266833f6e0c3",
   "metadata": {},
   "source": [
    "# Metric RAG\n",
    "\n",
    "* median, decile, status (Red / Amber / Green), percentage\n",
    "* All cost catgeories - cost per pupil\n",
    "* Utilities and Premises and staff - per m^2"
   ]
  },
  {
   "cell_type": "code",
   "id": "545e6d9ba57b74bb",
   "metadata": {
    "ExecuteTime": {
     "end_time": "2024-05-30T22:47:49.283440Z",
     "start_time": "2024-05-30T22:47:48.901728Z"
    }
   },
   "source": [
    "import pandas as pd\n",
    "import src.pipeline.rag as rag\n",
    "import glob \n",
    "import os\n",
    "import logging\n",
    "logging.basicConfig(format='%(asctime)s | %(levelname)s : %(message)s',\n",
    "                     level=logging.INFO, stream=sys.stdout)\n",
    "\n",
    "# Create and clean directory\n",
    "# from pathlib import Path\n",
    "# Path(\"output/metric-rag\").mkdir(parents=True, exist_ok=True)\n",
    "# \n",
    "# files = glob.glob(\"output/metric-rag/*\")\n",
    "# for f in files:\n",
    "#     os.remove(f)"
   ],
   "outputs": [],
   "execution_count": 2
  },
  {
   "cell_type": "markdown",
   "id": "d7f55e9ba214a123",
   "metadata": {},
   "source": [
    "## Loading saved comparator sets"
   ]
  },
  {
   "cell_type": "code",
   "id": "381fa1a4cb96be66",
   "metadata": {
    "ExecuteTime": {
     "end_time": "2024-05-30T22:47:49.413616Z",
     "start_time": "2024-05-30T22:47:49.284030Z"
    }
   },
   "source": [
    "raw_data = pd.read_parquet('output/comparator-sets/maintained_schools.parquet')\n",
    "raw_comparators = pd.read_parquet('output/comparator-sets/academy_comparators.parquet')"
   ],
   "outputs": [],
   "execution_count": 3
  },
  {
   "cell_type": "code",
   "id": "cf90d5de1fd05361",
   "metadata": {
    "ExecuteTime": {
     "end_time": "2024-05-30T22:47:49.424217Z",
     "start_time": "2024-05-30T22:47:49.414323Z"
    }
   },
   "source": [
    "df = raw_data\n",
    "\n",
    "category_cols = df.columns.isin(rag.base_cols) | (df.columns.str.endswith(\"_Per Unit\"))\n",
    "\n",
    "df[df.columns[category_cols]].loc[100060]"
   ],
   "outputs": [
    {
     "data": {
      "text/plain": [
       "Number of pupils                                                                                      0.0\n",
       "OfstedRating (name)                                                                           Outstanding\n",
       "Percentage SEN                                                                                        0.0\n",
       "Percentage Free school meals                                                                         19.6\n",
       "Total Internal Floor Area                                                                          1858.0\n",
       "Age Average Score                                                                               55.792578\n",
       "Teaching and Teaching support staff_Teaching staff_Per Unit                                           0.0\n",
       "Teaching and Teaching support staff_Supply teaching staff_Per Unit                                    0.0\n",
       "Teaching and Teaching support staff_Education support staff_Per Unit                                  0.0\n",
       "Teaching and Teaching support staff_Agency supply teaching staff_Per Unit                             0.0\n",
       "Teaching and Teaching support staff_Educational consultancy_Per Unit                                  0.0\n",
       "Teaching and Teaching support staff_Total_Per Unit                                                    0.0\n",
       "Non-educational support staff and services_Administrative and clerical staff_Per Unit                 0.0\n",
       "Non-educational support staff and services_Other staff_Per Unit                                       0.0\n",
       "Non-educational support staff and services_Professional services (non-curriculum)_Per Unit            0.0\n",
       "Non-educational support staff and services_Total_Per Unit                                             0.0\n",
       "Educational supplies_Learning resources (not ICT equipment)_Per Unit                                  0.0\n",
       "Educational supplies_Examination fees_Per Unit                                                        0.0\n",
       "Educational supplies_Total_Per Unit                                                                   0.0\n",
       "Educational ICT_ICT learning resources_Per Unit                                                       0.0\n",
       "Educational ICT_Total_Per Unit                                                                        0.0\n",
       "Premises staff and services_Premises staff_Per Unit                                                   0.0\n",
       "Premises staff and services_Maintenance of premises_Per Unit                                          0.0\n",
       "Premises staff and services_Cleaning and caretaking_Per Unit                                          0.0\n",
       "Premises staff and services_Other occupation costs_Per Unit                                           0.0\n",
       "Premises staff and services_Total_Per Unit                                                            0.0\n",
       "Utilities_Water and sewerage_Per Unit                                                                 0.0\n",
       "Utilities_Energy_Per Unit                                                                             0.0\n",
       "Utilities_Total_Per Unit                                                                              0.0\n",
       "Administrative supplies_Administrative supplies (non educational)_Per Unit                            0.0\n",
       "Administrative supplies_Total_Per Unit                                                                0.0\n",
       "Catering staff and supplies_Income from catering_Per Unit                                             0.0\n",
       "Catering staff and supplies_Catering staff_Per Unit                                                   0.0\n",
       "Catering staff and supplies_Catering supplies_Per Unit                                                0.0\n",
       "Catering staff and supplies_Total_Per Unit                                                            0.0\n",
       "Other costs_Indirect employee expenses_Per Unit                                                       0.0\n",
       "Other costs_Staff development and training_Per Unit                                                   0.0\n",
       "Other costs_Supply teacher insurance_Per Unit                                                         0.0\n",
       "Other costs_Staff-related insurance_Per Unit                                                          0.0\n",
       "Other costs_Grounds maintenance_Per Unit                                                              0.0\n",
       "Other costs_Rent and rates_Per Unit                                                                   0.0\n",
       "Other costs_Other insurance premiums_Per Unit                                                         0.0\n",
       "Other costs_Special facilities_Per Unit                                                               0.0\n",
       "Other costs_PFI charges_Per Unit                                                                      0.0\n",
       "Other costs_Interest charges for loan and bank_Per Unit                                               0.0\n",
       "Other costs_Direct revenue financing_Per Unit                                                         0.0\n",
       "Other costs_Total_Per Unit                                                                            0.0\n",
       "Name: 100060, dtype: object"
      ]
     },
     "execution_count": 4,
     "metadata": {},
     "output_type": "execute_result"
    }
   ],
   "execution_count": 4
  },
  {
   "cell_type": "code",
   "id": "36c0cd357a088a9d",
   "metadata": {
    "ExecuteTime": {
     "end_time": "2024-05-30T22:48:52.411658Z",
     "start_time": "2024-05-30T22:48:52.404359Z"
    }
   },
   "source": [
    "comps = raw_comparators.loc[105135][\"Pupil\"]\n",
    "len(comps)"
   ],
   "outputs": [
    {
     "data": {
      "text/plain": [
       "30"
      ]
     },
     "execution_count": 6,
     "metadata": {},
     "output_type": "execute_result"
    }
   ],
   "execution_count": 6
  },
  {
   "cell_type": "markdown",
   "id": "c1af7e5ae2b01dca",
   "metadata": {},
   "source": [
    "Compute the rag calculation for the cost categories given in the [Benchmarking cost categories doc](https://educationgovuk.sharepoint.com.mcas.ms/:w:/r/sites/DfEFinancialBenchmarking/_layouts/15/Doc.aspx?sourcedoc=%7B622FB0F9-7CB1-445A-8FFA-664F8857F036%7D&file=Benchmarking%20cost%20categories%20and%20sub-categories.docx&action=default&mobileredirect=true)"
   ]
  },
  {
   "cell_type": "code",
   "id": "540cd964ebaec19a",
   "metadata": {
    "ExecuteTime": {
     "end_time": "2024-05-29T19:14:01.481424Z",
     "start_time": "2024-05-29T19:14:00.491036Z"
    }
   },
   "source": [
    "rs = rag.compute_rag(raw_data, raw_comparators)\n",
    "pd.DataFrame(rs).set_index(\"URN\")"
   ],
   "outputs": [
    {
     "data": {
      "text/plain": [
       "                                   Category  \\\n",
       "URN                                           \n",
       "100000  Teaching and Teaching support staff   \n",
       "100000  Teaching and Teaching support staff   \n",
       "100000  Teaching and Teaching support staff   \n",
       "100000  Teaching and Teaching support staff   \n",
       "100000  Teaching and Teaching support staff   \n",
       "...                                     ...   \n",
       "100212                          Other costs   \n",
       "100212                          Other costs   \n",
       "100212                          Other costs   \n",
       "100212                          Other costs   \n",
       "100212                          Other costs   \n",
       "\n",
       "                               SubCategory        Value         Mean  \\\n",
       "URN                                                                    \n",
       "100000                      Teaching staff  4219.955498  2989.147021   \n",
       "100000               Supply teaching staff    45.340923    11.186708   \n",
       "100000             Education support staff  2329.561808  1383.424375   \n",
       "100000        Agency supply teaching staff   266.307528   128.098011   \n",
       "100000             Educational consultancy   179.885793   134.315355   \n",
       "...                                    ...          ...          ...   \n",
       "100212                  Special facilities     0.000000     0.000000   \n",
       "100212                         PFI charges     0.000000     0.000000   \n",
       "100212  Interest charges for loan and bank     0.000000     0.000000   \n",
       "100212            Direct revenue financing     0.000000     0.000000   \n",
       "100212                               Total   349.679866   376.755084   \n",
       "\n",
       "           DiffMean          Key  PercentDiff  Percentile  Decile    RAG  \n",
       "URN                                                                       \n",
       "100000  1230.808477  outstanding    29.166385   92.333333       9    red  \n",
       "100000    34.154214  outstanding    75.327568   75.666667       7  amber  \n",
       "100000   946.137433  outstanding    40.614395   92.333333       9    red  \n",
       "100000   138.209517  outstanding    51.898464   85.666667       8  amber  \n",
       "100000    45.570438  outstanding    25.332984   65.666667       6  amber  \n",
       "...             ...          ...          ...         ...     ...    ...  \n",
       "100212     0.000000  outstanding     0.000000   75.666667       7  amber  \n",
       "100212     0.000000  outstanding     0.000000   99.000000       9    red  \n",
       "100212     0.000000  outstanding     0.000000   99.000000       9    red  \n",
       "100212     0.000000  outstanding     0.000000   89.000000       8    red  \n",
       "100212   -27.075219  outstanding    -7.742859   49.000000       4  amber  \n",
       "\n",
       "[4100 rows x 10 columns]"
      ],
      "text/html": [
       "<div>\n",
       "<style scoped>\n",
       "    .dataframe tbody tr th:only-of-type {\n",
       "        vertical-align: middle;\n",
       "    }\n",
       "\n",
       "    .dataframe tbody tr th {\n",
       "        vertical-align: top;\n",
       "    }\n",
       "\n",
       "    .dataframe thead th {\n",
       "        text-align: right;\n",
       "    }\n",
       "</style>\n",
       "<table border=\"1\" class=\"dataframe\">\n",
       "  <thead>\n",
       "    <tr style=\"text-align: right;\">\n",
       "      <th></th>\n",
       "      <th>Category</th>\n",
       "      <th>SubCategory</th>\n",
       "      <th>Value</th>\n",
       "      <th>Mean</th>\n",
       "      <th>DiffMean</th>\n",
       "      <th>Key</th>\n",
       "      <th>PercentDiff</th>\n",
       "      <th>Percentile</th>\n",
       "      <th>Decile</th>\n",
       "      <th>RAG</th>\n",
       "    </tr>\n",
       "    <tr>\n",
       "      <th>URN</th>\n",
       "      <th></th>\n",
       "      <th></th>\n",
       "      <th></th>\n",
       "      <th></th>\n",
       "      <th></th>\n",
       "      <th></th>\n",
       "      <th></th>\n",
       "      <th></th>\n",
       "      <th></th>\n",
       "      <th></th>\n",
       "    </tr>\n",
       "  </thead>\n",
       "  <tbody>\n",
       "    <tr>\n",
       "      <th>100000</th>\n",
       "      <td>Teaching and Teaching support staff</td>\n",
       "      <td>Teaching staff</td>\n",
       "      <td>4219.955498</td>\n",
       "      <td>2989.147021</td>\n",
       "      <td>1230.808477</td>\n",
       "      <td>outstanding</td>\n",
       "      <td>29.166385</td>\n",
       "      <td>92.333333</td>\n",
       "      <td>9</td>\n",
       "      <td>red</td>\n",
       "    </tr>\n",
       "    <tr>\n",
       "      <th>100000</th>\n",
       "      <td>Teaching and Teaching support staff</td>\n",
       "      <td>Supply teaching staff</td>\n",
       "      <td>45.340923</td>\n",
       "      <td>11.186708</td>\n",
       "      <td>34.154214</td>\n",
       "      <td>outstanding</td>\n",
       "      <td>75.327568</td>\n",
       "      <td>75.666667</td>\n",
       "      <td>7</td>\n",
       "      <td>amber</td>\n",
       "    </tr>\n",
       "    <tr>\n",
       "      <th>100000</th>\n",
       "      <td>Teaching and Teaching support staff</td>\n",
       "      <td>Education support staff</td>\n",
       "      <td>2329.561808</td>\n",
       "      <td>1383.424375</td>\n",
       "      <td>946.137433</td>\n",
       "      <td>outstanding</td>\n",
       "      <td>40.614395</td>\n",
       "      <td>92.333333</td>\n",
       "      <td>9</td>\n",
       "      <td>red</td>\n",
       "    </tr>\n",
       "    <tr>\n",
       "      <th>100000</th>\n",
       "      <td>Teaching and Teaching support staff</td>\n",
       "      <td>Agency supply teaching staff</td>\n",
       "      <td>266.307528</td>\n",
       "      <td>128.098011</td>\n",
       "      <td>138.209517</td>\n",
       "      <td>outstanding</td>\n",
       "      <td>51.898464</td>\n",
       "      <td>85.666667</td>\n",
       "      <td>8</td>\n",
       "      <td>amber</td>\n",
       "    </tr>\n",
       "    <tr>\n",
       "      <th>100000</th>\n",
       "      <td>Teaching and Teaching support staff</td>\n",
       "      <td>Educational consultancy</td>\n",
       "      <td>179.885793</td>\n",
       "      <td>134.315355</td>\n",
       "      <td>45.570438</td>\n",
       "      <td>outstanding</td>\n",
       "      <td>25.332984</td>\n",
       "      <td>65.666667</td>\n",
       "      <td>6</td>\n",
       "      <td>amber</td>\n",
       "    </tr>\n",
       "    <tr>\n",
       "      <th>...</th>\n",
       "      <td>...</td>\n",
       "      <td>...</td>\n",
       "      <td>...</td>\n",
       "      <td>...</td>\n",
       "      <td>...</td>\n",
       "      <td>...</td>\n",
       "      <td>...</td>\n",
       "      <td>...</td>\n",
       "      <td>...</td>\n",
       "      <td>...</td>\n",
       "    </tr>\n",
       "    <tr>\n",
       "      <th>100212</th>\n",
       "      <td>Other costs</td>\n",
       "      <td>Special facilities</td>\n",
       "      <td>0.000000</td>\n",
       "      <td>0.000000</td>\n",
       "      <td>0.000000</td>\n",
       "      <td>outstanding</td>\n",
       "      <td>0.000000</td>\n",
       "      <td>75.666667</td>\n",
       "      <td>7</td>\n",
       "      <td>amber</td>\n",
       "    </tr>\n",
       "    <tr>\n",
       "      <th>100212</th>\n",
       "      <td>Other costs</td>\n",
       "      <td>PFI charges</td>\n",
       "      <td>0.000000</td>\n",
       "      <td>0.000000</td>\n",
       "      <td>0.000000</td>\n",
       "      <td>outstanding</td>\n",
       "      <td>0.000000</td>\n",
       "      <td>99.000000</td>\n",
       "      <td>9</td>\n",
       "      <td>red</td>\n",
       "    </tr>\n",
       "    <tr>\n",
       "      <th>100212</th>\n",
       "      <td>Other costs</td>\n",
       "      <td>Interest charges for loan and bank</td>\n",
       "      <td>0.000000</td>\n",
       "      <td>0.000000</td>\n",
       "      <td>0.000000</td>\n",
       "      <td>outstanding</td>\n",
       "      <td>0.000000</td>\n",
       "      <td>99.000000</td>\n",
       "      <td>9</td>\n",
       "      <td>red</td>\n",
       "    </tr>\n",
       "    <tr>\n",
       "      <th>100212</th>\n",
       "      <td>Other costs</td>\n",
       "      <td>Direct revenue financing</td>\n",
       "      <td>0.000000</td>\n",
       "      <td>0.000000</td>\n",
       "      <td>0.000000</td>\n",
       "      <td>outstanding</td>\n",
       "      <td>0.000000</td>\n",
       "      <td>89.000000</td>\n",
       "      <td>8</td>\n",
       "      <td>red</td>\n",
       "    </tr>\n",
       "    <tr>\n",
       "      <th>100212</th>\n",
       "      <td>Other costs</td>\n",
       "      <td>Total</td>\n",
       "      <td>349.679866</td>\n",
       "      <td>376.755084</td>\n",
       "      <td>-27.075219</td>\n",
       "      <td>outstanding</td>\n",
       "      <td>-7.742859</td>\n",
       "      <td>49.000000</td>\n",
       "      <td>4</td>\n",
       "      <td>amber</td>\n",
       "    </tr>\n",
       "  </tbody>\n",
       "</table>\n",
       "<p>4100 rows × 10 columns</p>\n",
       "</div>"
      ]
     },
     "execution_count": 10,
     "metadata": {},
     "output_type": "execute_result"
    }
   ],
   "execution_count": 10
  },
  {
   "cell_type": "code",
   "execution_count": null,
   "id": "45e5cce00be9e2d2",
   "metadata": {},
   "outputs": [],
   "source": [
    "%lprun -f rag.find_percentile list(rag.compute_rag(raw_data.head(10), raw_comparators))"
   ]
  }
 ],
 "metadata": {
  "kernelspec": {
   "display_name": "Python 3",
   "language": "python",
   "name": "python3"
  },
  "language_info": {
   "codemirror_mode": {
    "name": "ipython",
    "version": 2
   },
   "file_extension": ".py",
   "mimetype": "text/x-python",
   "name": "python",
   "nbconvert_exporter": "python",
   "pygments_lexer": "ipython2",
   "version": "2.7.6"
  }
 },
 "nbformat": 4,
 "nbformat_minor": 5
}
