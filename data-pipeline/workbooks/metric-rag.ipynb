{
 "cells": [
  {
   "cell_type": "code",
   "execution_count": null,
   "id": "ad5a791a54b3c172",
   "metadata": {
    "ExecuteTime": {
     "end_time": "2024-05-18T15:45:55.124194Z",
     "start_time": "2024-05-18T15:45:54.926141Z"
    }
   },
   "outputs": [],
   "source": [
    "%load_ext line_profiler\n",
    "\n",
    "from pathlib import Path\n",
    "import sys\n",
    "\n",
    "import numpy as np\n",
    "\n",
    "# Get my_package directory path from Notebook\n",
    "parent_dir = str(Path().resolve().parents[0])\n",
    "print(parent_dir)\n",
    "# Add to sys.path\n",
    "\n",
    "path_set = set(sys.path)\n",
    "if parent_dir not in path_set:\n",
    "    sys.path.insert(0, parent_dir)\n",
    "\n",
    "print(sys.path)"
   ]
  },
  {
   "cell_type": "markdown",
   "id": "4c66266833f6e0c3",
   "metadata": {},
   "source": [
    "# Metric RAG\n",
    "\n",
    "* median, decile, status (Red / Amber / Green), percentage\n",
    "* All cost catgeories - cost per pupil\n",
    "* Utilities and Premises and staff - per m^2"
   ]
  },
  {
   "cell_type": "code",
   "execution_count": null,
   "id": "545e6d9ba57b74bb",
   "metadata": {
    "ExecuteTime": {
     "end_time": "2024-05-18T15:45:55.426461Z",
     "start_time": "2024-05-18T15:45:55.128808Z"
    }
   },
   "outputs": [],
   "source": [
    "import pandas as pd\n",
    "import src.pipeline.rag as rag\n",
    "import glob \n",
    "import os\n",
    "import logging\n",
    "logging.basicConfig(format='%(asctime)s | %(levelname)s : %(message)s',\n",
    "                     level=logging.INFO, stream=sys.stdout)\n",
    "\n",
    "# Create and clean directory\n",
    "from pathlib import Path\n",
    "Path(\"output/metric-rag\").mkdir(parents=True, exist_ok=True)\n",
    "\n",
    "files = glob.glob(\"output/metric-rag/*\")\n",
    "for f in files:\n",
    "    os.remove(f)"
   ]
  },
  {
   "cell_type": "markdown",
   "id": "d7f55e9ba214a123",
   "metadata": {},
   "source": [
    "## Loading saved comparator sets"
   ]
  },
  {
   "cell_type": "code",
   "execution_count": null,
   "id": "381fa1a4cb96be66",
   "metadata": {
    "ExecuteTime": {
     "end_time": "2024-05-18T15:45:55.532832Z",
     "start_time": "2024-05-18T15:45:55.427083Z"
    }
   },
   "outputs": [],
   "source": [
    "raw_data = pd.read_parquet('output/comparator-sets/academies.parquet')\n",
    "raw_comparators = pd.read_parquet('output/comparator-sets/academy_comparators.parquet')"
   ]
  },
  {
   "cell_type": "code",
   "execution_count": null,
   "id": "cf90d5de1fd05361",
   "metadata": {
    "ExecuteTime": {
     "end_time": "2024-05-18T16:18:18.579180Z",
     "start_time": "2024-05-18T16:18:18.549372Z"
    }
   },
   "outputs": [],
   "source": [
    "raw_data.loc[147756]"
   ]
  },
  {
   "cell_type": "code",
   "execution_count": null,
   "id": "36c0cd357a088a9d",
   "metadata": {
    "ExecuteTime": {
     "end_time": "2024-05-18T15:45:55.559948Z",
     "start_time": "2024-05-18T15:45:55.551676Z"
    }
   },
   "outputs": [],
   "source": [
    "comps = raw_comparators.loc[135665][\"Pupil\"]\n",
    "series = raw_data[raw_data.index.isin(comps)]\n",
    "\n",
    "(df, categories) = rag.get_category_cols_predicates(\"Teaching and Teaching support staff\", series)\n",
    "categories"
   ]
  },
  {
   "cell_type": "markdown",
   "id": "c1af7e5ae2b01dca",
   "metadata": {},
   "source": [
    "Compute the rag calculation for the cost categories given in the [Benchmarking cost categories doc](https://educationgovuk.sharepoint.com.mcas.ms/:w:/r/sites/DfEFinancialBenchmarking/_layouts/15/Doc.aspx?sourcedoc=%7B622FB0F9-7CB1-445A-8FFA-664F8857F036%7D&file=Benchmarking%20cost%20categories%20and%20sub-categories.docx&action=default&mobileredirect=true)"
   ]
  },
  {
   "cell_type": "code",
   "execution_count": null,
   "id": "540cd964ebaec19a",
   "metadata": {
    "ExecuteTime": {
     "end_time": "2024-05-18T15:48:10.565755Z",
     "start_time": "2024-05-18T15:46:01.692414Z"
    }
   },
   "outputs": [],
   "source": [
    "rs = rag.compute_rag(raw_data, raw_comparators)\n",
    "pd.DataFrame(rs)"
   ]
  },
  {
   "cell_type": "code",
   "execution_count": null,
   "id": "45e5cce00be9e2d2",
   "metadata": {},
   "outputs": [],
   "source": [
    "%lprun -f rag.find_percentile list(rag.compute_rag(raw_data.head(10), raw_comparators))"
   ]
  }
 ],
 "metadata": {
  "kernelspec": {
   "display_name": "Python 3",
   "language": "python",
   "name": "python3"
  },
  "language_info": {
   "codemirror_mode": {
    "name": "ipython",
    "version": 2
   },
   "file_extension": ".py",
   "mimetype": "text/x-python",
   "name": "python",
   "nbconvert_exporter": "python",
   "pygments_lexer": "ipython2",
   "version": "2.7.6"
  }
 },
 "nbformat": 4,
 "nbformat_minor": 5
}
