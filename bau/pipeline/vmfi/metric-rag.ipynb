{
 "cells": [
  {
   "cell_type": "markdown",
   "source": [
    "# Metric RAG computation\n",
    "\n",
    "This computes the Euclidean distance for each establishment from a base establishment of a consistent type (Academies, Maintained schools, SEN). Each establishment is given a weight against every other establishment and the top 60 for each establishment creates the comparator set for that establishment. This is repeated for all establishments in the establishment types set and then finally across all establishments across all establishment types."
   ],
   "metadata": {
    "collapsed": false
   },
   "id": "57ca200b0dd346a0"
  },
  {
   "cell_type": "code",
   "outputs": [],
   "source": [
    "import numpy as np\n",
    "import pandas as pd\n",
    "import calculations as calcs\n",
    "import glob \n",
    "import os\n",
    "\n",
    "# Create and clean directory\n",
    "from pathlib import Path\n",
    "Path(\"output/metric-rag\").mkdir(parents=True, exist_ok=True)\n",
    "\n",
    "files = glob.glob(\"output/metric-rag/*\")\n",
    "for f in files:\n",
    "    os.remove(f)"
   ],
   "metadata": {
    "collapsed": false,
    "ExecuteTime": {
     "end_time": "2024-03-30T10:07:05.349470Z",
     "start_time": "2024-03-30T10:07:05.006690Z"
    }
   },
   "id": "cd10ce1065c1f1fa",
   "execution_count": 1
  },
  {
   "cell_type": "markdown",
   "source": [
    "## Parameter lists\n",
    "\n",
    "The following setup and parameter map for each establishment type calculation. Vectors with `_parameter_list` suffix represent a column read from one of the pre-processed datasets. Vectors with `_parameter_weightings` suffix represent the corresponding weight to be applied to Euclidean distant component; "
   ],
   "metadata": {
    "collapsed": false
   },
   "id": "2915aa97a942c534"
  },
  {
   "cell_type": "code",
   "outputs": [],
   "source": [
    "sen_breakdown_parameter_list = ['EHC_Primary_need_spld','EHC_Primary_need_mld','EHC_Primary_need_sld',\n",
    "                      'EHC_Primary_need_pmld','EHC_Primary_need_semh','EHC_Primary_need_slcn','EHC_Primary_need_hi','EHC_Primary_need_vi','EHC_Primary_need_msi','EHC_Primary_need_pd','EHC_Primary_need_asd','EHC_Primary_need_oth']\n",
    "        \n",
    "school_parameter_list = ['NumberOfPupils','Percentage Free school meals','Percentage SEN']\n",
    "school_parameter_weightings = [0.5,0.4,0.1]\n",
    "\n",
    "\n",
    "special_school_parameter_list = ['Number of pupils','Percentage Free school meals',\n",
    "                                 'EHC_Primary_need_mld','EHC_Primary_need_sld','EHC_Primary_need_pmld',\n",
    "                                 'EHC_Primary_need_semh','EHC_Primary_need_slcn','EHC_Primary_need_hi',\n",
    "                                 'EHC_Primary_need_vi','EHC_Primary_need_msi','EHC_Primary_need_pd','EHC_Primary_need_asd','EHC_Primary_need_oth']\n",
    "special_school_parameter_weightings = [0.6,0.4,1,1,1,1,1,1,1,1,1,1,1,1]\n",
    "\n",
    "school_area_parameter_list = ['Total Internal Floor Area','Age Average Score']\n",
    "school_area_parameter_weightings = [0.8,0.2]"
   ],
   "metadata": {
    "collapsed": false,
    "ExecuteTime": {
     "end_time": "2024-03-30T10:07:05.352787Z",
     "start_time": "2024-03-30T10:07:05.350322Z"
    }
   },
   "id": "674e0b2695f22523",
   "execution_count": 2
  },
  {
   "cell_type": "markdown",
   "source": [
    "## Academy pupil mix"
   ],
   "metadata": {
    "collapsed": false
   },
   "id": "c5586f9b8ce48798"
  },
  {
   "cell_type": "code",
   "outputs": [
    {
     "data": {
      "text/plain": "                                                                                            URN  \\\nSchoolPhaseType              Boarders (name)                                                      \nAlternative Provision        Not Boarding     [148144, 145704, 141109, 142569, 144031, 13966...   \nPost-16                      Boarding                                          [140971, 148791]   \n                             Not Boarding     [144463, 144886, 144740, 143704, 145749, 13989...   \nPrimary                      Boarding                                          [147676, 147857]   \n                             Not Boarding     [148853, 144542, 144551, 148854, 136354, 14021...   \nSecondary                    Boarding         [148221, 139655, 138289, 136177, 139971, 13915...   \n                             Not Boarding     [136730, 136844, 137377, 137083, 144809, 13703...   \nUniversity technical college Not Boarding     [146375, 141111, 139268, 145155, 146303, 14593...   \n\n                                                                    Company Registration Number  \\\nSchoolPhaseType              Boarders (name)                                                      \nAlternative Provision        Not Boarding     [11788031, 11788031, 8641815, 6207590, 8299181...   \nPost-16                      Boarding                                        [8515877, 9320523]   \n                             Not Boarding     [10578239, 8506178, 9802491, 2303464, 11200244...   \nPrimary                      Boarding                                       [10749662, 7466353]   \n                             Not Boarding     [10817580, 10817580, 10817580, 10817580, 73187...   \nSecondary                    Boarding         [7535642, 8098956, 8082185, 7209122, 7930340, ...   \n                             Not Boarding     [7595434, 7595434, 7740516, 7705552, 7705552, ...   \nUniversity technical college Not Boarding     [8707909, 8707909, 8707909, 8707909, 5670663, ...   \n\n                                                                             Incorporation Date  \\\nSchoolPhaseType              Boarders (name)                                                      \nAlternative Provision        Not Boarding     [2019-01-25 00:00:00.0000000, 2019-01-25 00:00...   \nPost-16                      Boarding         [2013-05-03 00:00:00.0000000, 2014-11-20 00:00...   \n                             Not Boarding     [2017-01-23 00:00:00.0000000, 2013-04-26 00:00...   \nPrimary                      Boarding         [2017-05-02 00:00:00.0000000, 2010-12-10 00:00...   \n                             Not Boarding     [2017-06-14 00:00:00.0000000, 2017-06-14 00:00...   \nSecondary                    Boarding         [2011-02-18 00:00:00.0000000, 2012-06-08 00:00...   \n                             Not Boarding     [2011-04-07 00:00:00.0000000, 2011-04-07 00:00...   \nUniversity technical college Not Boarding     [2013-09-26 00:00:00.0000000, 2013-09-26 00:00...   \n\n                                                                             Academy Trust UPIN  \\\nSchoolPhaseType              Boarders (name)                                                      \nAlternative Provision        Not Boarding     [151922, 151922, 137840, 135065, 137417, 13688...   \nPost-16                      Boarding                                          [137977, 135984]   \n                             Not Boarding     [139638, 137855, 140016, 134876, 141412, 13725...   \nPrimary                      Boarding                                          [139827, 135711]   \n                             Not Boarding     [139821, 139821, 139821, 139821, 135399, 13539...   \nSecondary                    Boarding         [135944, 137050, 137026, 135369, 136804, 13490...   \n                             Not Boarding     [134890, 134890, 136150, 135666, 135666, 13566...   \nUniversity technical college Not Boarding     [137921, 137921, 137921, 137921, 135047, 13663...   \n\n                                                                                  Academy UKPRN  \\\nSchoolPhaseType              Boarders (name)                                                      \nAlternative Provision        Not Boarding     [10082817.0, 10082817.0, 10060566.0, 10058211....   \nPost-16                      Boarding                                  [10060436.0, 10060902.0]   \n                             Not Boarding     [10064151.0, 10060425.0, 10066090.0, 10058150....   \nPrimary                      Boarding                                  [10064620.0, 10058443.0]   \n                             Not Boarding     [10064612.0, 10064612.0, 10064612.0, 10064612....   \nSecondary                    Boarding         [10058531.0, 10059829.0, 10059803.0, 10058300....   \n                             Not Boarding     [10058682.0, 10058682.0, 10059272.0, 10059141....   \nUniversity technical college Not Boarding     [10060613.0, 10060613.0, 10060613.0, 10060613....   \n\n                                                                             Academy Trust Name  \\\nSchoolPhaseType              Boarders (name)                                                      \nAlternative Provision        Not Boarding     [Alternative Learning Trust, Alternative Learn...   \nPost-16                      Boarding          [Exeter Mathematics School, Richard Huish Trust]   \n                             Not Boarding     [Altus Education Partnership, Brigantia Learni...   \nPrimary                      Boarding         [Hamwic Education Trust, Sapientia Education T...   \n                             Not Boarding     [1Excellence Multi Academy Trust, 1Excellence ...   \nSecondary                    Boarding         [Bohunt Education Trust, Bridgwater & Taunton ...   \n                             Not Boarding     [5 Dimensions Trust, 5 Dimensions Trust, Abbey...   \nUniversity technical college Not Boarding     [Activate Learning Education Trust, Activate L...   \n\n                                                                                   Academy Name  \\\nSchoolPhaseType              Boarders (name)                                                      \nAlternative Provision        Not Boarding     [North West Kent Alternative Provision Service...   \nPost-16                      Boarding         [Exeter Mathematics School, Richard Huish Coll...   \n                             Not Boarding     [Rochdale Sixth Form College, Longley Park Six...   \nPrimary                      Boarding         [Weston Secondary School, Wymondham College Pr...   \n                             Not Boarding     [Evenwood Church of England Primary School, Pe...   \nSecondary                    Boarding         [Steyning Grammar School, Brymore Academy, Bur...   \n                             Not Boarding     [Shenley Brook End School, The Hazeley Academy...   \nUniversity technical college Not Boarding     [UTC Heathrow, UTC Oxfordshire, UTC Reading, U...   \n\n                                                                                   Academy UPIN  \\\nSchoolPhaseType              Boarders (name)                                                      \nAlternative Provision        Not Boarding     [141642, 134280, 131050, 132795, 138990, 12340...   \nPost-16                      Boarding                                          [130500, 163528]   \n                             Not Boarding     [138453, 139349, 139580, 152005, 140514, 12333...   \nPrimary                      Boarding                                          [163109, 162841]   \n                             Not Boarding     [163480, 138448, 138465, 163504, 119379, 12924...   \nSecondary                    Boarding         [163027, 123954, 121840, 119233, 123312, 12067...   \n                             Not Boarding     [119734, 119844, 120322, 120083, 139214, 12003...   \nUniversity technical college Not Boarding     [141385, 132690, 122057, 139894, 141375, 14077...   \n\n                                                                                     Trust Type  \\\nSchoolPhaseType              Boarders (name)                                                      \nAlternative Provision        Not Boarding     [Multi Academy Trust (MAT), Multi Academy Trus...   \nPost-16                      Boarding         [Single Academy Trust (SAT), Multi Academy Tru...   \n                             Not Boarding     [Multi Academy Trust (MAT), Multi Academy Trus...   \nPrimary                      Boarding         [Multi Academy Trust (MAT), Multi Academy Trus...   \n                             Not Boarding     [Multi Academy Trust (MAT), Multi Academy Trus...   \nSecondary                    Boarding         [Multi Academy Trust (MAT), Multi Academy Trus...   \n                             Not Boarding     [Multi Academy Trust (MAT), Multi Academy Trus...   \nUniversity technical college Not Boarding     [Multi Academy Trust (MAT), Multi Academy Trus...   \n\n                                                                                    Date Opened  \\\nSchoolPhaseType              Boarders (name)                                                      \nAlternative Provision        Not Boarding     [2020-09-01 00:00:00.0000000, 2019-06-01 00:00...   \nPost-16                      Boarding         [2014-09-01 00:00:00.0000000, 2021-10-01 00:00...   \n                             Not Boarding     [2017-04-01 00:00:00.0000000, 2017-08-01 00:00...   \nPrimary                      Boarding         [2021-09-01 00:00:00.0000000, 2020-09-01 00:00...   \n                             Not Boarding     [2021-12-01 00:00:00.0000000, 2017-07-01 00:00...   \nSecondary                    Boarding         [2020-12-01 00:00:00.0000000, 2013-09-01 00:00...   \n                             Not Boarding     [2011-05-01 00:00:00.0000000, 2011-07-01 00:00...   \nUniversity technical college Not Boarding     [2014-09-01 00:00:00.0000000, 2015-09-01 00:00...   \n\n                                              ...  \\\nSchoolPhaseType              Boarders (name)  ...   \nAlternative Provision        Not Boarding     ...   \nPost-16                      Boarding         ...   \n                             Not Boarding     ...   \nPrimary                      Boarding         ...   \n                             Not Boarding     ...   \nSecondary                    Boarding         ...   \n                             Not Boarding     ...   \nUniversity technical college Not Boarding     ...   \n\n                                                                                  Trust Balance  \\\nSchoolPhaseType              Boarders (name)                                                      \nAlternative Provision        Not Boarding     [702.0, 702.0, 0.0, 9560.0, 499.0, nan, 1012.0...   \nPost-16                      Boarding                                              [nan, -68.0]   \n                             Not Boarding     [-1178.0, 3075.0, nan, 7052.0, 0.0, 5123.0, -1...   \nPrimary                      Boarding                                           [838.0, 2546.0]   \n                             Not Boarding     [55.0, 55.0, 55.0, 55.0, 0.0, 0.0, 0.0, 1832.0...   \nSecondary                    Boarding         [559.0, 1991.0, nan, nan, nan, nan, 34.0, nan,...   \n                             Not Boarding     [177.0, 177.0, nan, 1832.0, 1832.0, 1832.0, 14...   \nUniversity technical college Not Boarding     [2146.0, 2146.0, 2146.0, 2146.0, 233.0, -7984....   \n\n                                                                       Central Services Balance  \\\nSchoolPhaseType              Boarders (name)                                                      \nAlternative Provision        Not Boarding     [1817.0, 1817.0, 1128.0, 9560.0, 1421.0, 329.0...   \nPost-16                      Boarding                                            [618.0, 915.0]   \n                             Not Boarding     [8780.0, 3075.0, 910.0, 7052.0, 110.0, 5123.0,...   \nPrimary                      Boarding                                          [6194.0, 2546.0]   \n                             Not Boarding     [1154.0, 1154.0, 1154.0, 1154.0, 652.0, 652.0,...   \nSecondary                    Boarding         [7237.0, 2132.0, 1148.0, 1009.0, 368.0, 182.0,...   \n                             Not Boarding     [3603.0, 3603.0, 416.0, 4541.0, 4541.0, 4541.0...   \nUniversity technical college Not Boarding     [279.0, 279.0, 279.0, 279.0, 3802.0, 3810.0, 5...   \n\n                                                                                     PFI School  \\\nSchoolPhaseType              Boarders (name)                                                      \nAlternative Provision        Not Boarding     [Non-PFI school, Non-PFI school, Non-PFI schoo...   \nPost-16                      Boarding                          [Non-PFI school, Non-PFI school]   \n                             Not Boarding     [Non-PFI school, Non-PFI school, Non-PFI schoo...   \nPrimary                      Boarding                          [Non-PFI school, Non-PFI school]   \n                             Not Boarding     [Non-PFI school, Non-PFI school, Non-PFI schoo...   \nSecondary                    Boarding         [Non-PFI school, Non-PFI school, Non-PFI schoo...   \n                             Not Boarding     [Non-PFI school, Non-PFI school, Non-PFI schoo...   \nUniversity technical college Not Boarding     [Non-PFI school, Non-PFI school, Non-PFI schoo...   \n\n                                                            Central Services Financial Position  \\\nSchoolPhaseType              Boarders (name)                                                      \nAlternative Provision        Not Boarding     [Surplus, Surplus, Surplus, Surplus, Surplus, ...   \nPost-16                      Boarding                                        [Surplus, Surplus]   \n                             Not Boarding     [Surplus, Surplus, Surplus, Surplus, Surplus, ...   \nPrimary                      Boarding                                        [Surplus, Surplus]   \n                             Not Boarding     [Surplus, Surplus, Surplus, Surplus, Surplus, ...   \nSecondary                    Boarding         [Surplus, Surplus, Surplus, Surplus, Surplus, ...   \n                             Not Boarding     [Surplus, Surplus, Surplus, Surplus, Surplus, ...   \nUniversity technical college Not Boarding     [Surplus, Surplus, Surplus, Surplus, Surplus, ...   \n\n                                                                     Academy Financial Position  \\\nSchoolPhaseType              Boarders (name)                                                      \nAlternative Provision        Not Boarding     [Surplus, Surplus, Surplus, Deficit, Surplus, ...   \nPost-16                      Boarding                                        [Surplus, Surplus]   \n                             Not Boarding     [Surplus, Deficit, Surplus, Deficit, Surplus, ...   \nPrimary                      Boarding                                        [Surplus, Deficit]   \n                             Not Boarding     [Surplus, Surplus, Surplus, Surplus, Surplus, ...   \nSecondary                    Boarding         [Surplus, Surplus, Surplus, Surplus, Surplus, ...   \n                             Not Boarding     [Surplus, Surplus, Surplus, Surplus, Surplus, ...   \nUniversity technical college Not Boarding     [Deficit, Deficit, Surplus, Deficit, Deficit, ...   \n\n                                                                       Trust Financial Position  \\\nSchoolPhaseType              Boarders (name)                                                      \nAlternative Provision        Not Boarding     [Surplus, Surplus, Deficit, Surplus, Surplus, ...   \nPost-16                      Boarding                                        [Unknown, Deficit]   \n                             Not Boarding     [Deficit, Surplus, Unknown, Surplus, Deficit, ...   \nPrimary                      Boarding                                        [Surplus, Surplus]   \n                             Not Boarding     [Surplus, Surplus, Surplus, Surplus, Deficit, ...   \nSecondary                    Boarding         [Surplus, Surplus, Unknown, Unknown, Unknown, ...   \n                             Not Boarding     [Surplus, Surplus, Unknown, Surplus, Surplus, ...   \nUniversity technical college Not Boarding     [Surplus, Surplus, Surplus, Surplus, Surplus, ...   \n\n                                                                                         Status  \\\nSchoolPhaseType              Boarders (name)                                                      \nAlternative Provision        Not Boarding     [Open, Open, Open, Open, Open, Open, Open, Ope...   \nPost-16                      Boarding                              [Open, (Re)opened in period]   \n                             Not Boarding     [Open, Open, Open, Open, Open, Open, Open, Ope...   \nPrimary                      Boarding                                              [Open, Open]   \n                             Not Boarding     [(Re)opened in period, Open, Open, (Re)opened ...   \nSecondary                    Boarding         [Open, Open, Open, Open, Open, Open, Open, Ope...   \n                             Not Boarding     [Open, Open, Open, Open, Open, Open, Open, Ope...   \nUniversity technical college Not Boarding     [Open, Open, Open, Open, Open, Open, Open, Clo...   \n\n                                                                                    Pupil_Range  \\\nSchoolPhaseType              Boarders (name)                                                      \nAlternative Provision        Not Boarding     [315.0, 315.0, 315.0, 315.0, 315.0, 315.0, 315...   \nPost-16                      Boarding                                            [127.0, 127.0]   \n                             Not Boarding     [2117.0, 2117.0, 2117.0, 2117.0, 2117.0, 2117....   \nPrimary                      Boarding                                            [513.0, 513.0]   \n                             Not Boarding     [1319.0, 1319.0, 1319.0, 1319.0, 1319.0, 1319....   \nSecondary                    Boarding         [1943.0, 1943.0, 1943.0, 1943.0, 1943.0, 1943....   \n                             Not Boarding     [2990.0, 2990.0, 2990.0, 2990.0, 2990.0, 2990....   \nUniversity technical college Not Boarding     [684.0, 684.0, 684.0, 684.0, 684.0, 684.0, 684...   \n\n                                                                                      FSM_Range  \\\nSchoolPhaseType              Boarders (name)                                                      \nAlternative Provision        Not Boarding     [87.5, 87.5, 87.5, 87.5, 87.5, 87.5, 87.5, 87....   \nPost-16                      Boarding                                              [23.4, 23.4]   \n                             Not Boarding     [23.4, 23.4, 23.4, 23.4, 23.4, 23.4, 23.4, 23....   \nPrimary                      Boarding                  [47.400000000000006, 47.400000000000006]   \n                             Not Boarding     [87.9, 87.9, 87.9, 87.9, 87.9, 87.9, 87.9, 87....   \nSecondary                    Boarding         [22.599999999999998, 22.599999999999998, 22.59...   \n                             Not Boarding     [75.4, 75.4, 75.4, 75.4, 75.4, 75.4, 75.4, 75....   \nUniversity technical college Not Boarding     [38.099999999999994, 38.099999999999994, 38.09...   \n\n                                                                                      SEN_Range  \nSchoolPhaseType              Boarders (name)                                                     \nAlternative Provision        Not Boarding     [100.0, 100.0, 100.0, 100.0, 100.0, 100.0, 100...  \nPost-16                      Boarding                [0.15956155260328098, 0.15956155260328098]  \n                             Not Boarding     [5.723905723905724, 5.723905723905724, 5.72390...  \nPrimary                      Boarding                  [1.1533312738132016, 1.1533312738132016]  \n                             Not Boarding     [26.190476190476193, 26.190476190476193, 26.19...  \nSecondary                    Boarding         [15.244446308490263, 15.244446308490263, 15.24...  \n                             Not Boarding     [18.46846846846847, 18.46846846846847, 18.4684...  \nUniversity technical college Not Boarding     [8.14566527505122, 8.14566527505122, 8.1456652...  \n\n[8 rows x 118 columns]",
      "text/html": "<div>\n<style scoped>\n    .dataframe tbody tr th:only-of-type {\n        vertical-align: middle;\n    }\n\n    .dataframe tbody tr th {\n        vertical-align: top;\n    }\n\n    .dataframe thead th {\n        text-align: right;\n    }\n</style>\n<table border=\"1\" class=\"dataframe\">\n  <thead>\n    <tr style=\"text-align: right;\">\n      <th></th>\n      <th></th>\n      <th>URN</th>\n      <th>Company Registration Number</th>\n      <th>Incorporation Date</th>\n      <th>Academy Trust UPIN</th>\n      <th>Academy UKPRN</th>\n      <th>Academy Trust Name</th>\n      <th>Academy Name</th>\n      <th>Academy UPIN</th>\n      <th>Trust Type</th>\n      <th>Date Opened</th>\n      <th>...</th>\n      <th>Trust Balance</th>\n      <th>Central Services Balance</th>\n      <th>PFI School</th>\n      <th>Central Services Financial Position</th>\n      <th>Academy Financial Position</th>\n      <th>Trust Financial Position</th>\n      <th>Status</th>\n      <th>Pupil_Range</th>\n      <th>FSM_Range</th>\n      <th>SEN_Range</th>\n    </tr>\n    <tr>\n      <th>SchoolPhaseType</th>\n      <th>Boarders (name)</th>\n      <th></th>\n      <th></th>\n      <th></th>\n      <th></th>\n      <th></th>\n      <th></th>\n      <th></th>\n      <th></th>\n      <th></th>\n      <th></th>\n      <th></th>\n      <th></th>\n      <th></th>\n      <th></th>\n      <th></th>\n      <th></th>\n      <th></th>\n      <th></th>\n      <th></th>\n      <th></th>\n      <th></th>\n    </tr>\n  </thead>\n  <tbody>\n    <tr>\n      <th>Alternative Provision</th>\n      <th>Not Boarding</th>\n      <td>[148144, 145704, 141109, 142569, 144031, 13966...</td>\n      <td>[11788031, 11788031, 8641815, 6207590, 8299181...</td>\n      <td>[2019-01-25 00:00:00.0000000, 2019-01-25 00:00...</td>\n      <td>[151922, 151922, 137840, 135065, 137417, 13688...</td>\n      <td>[10082817.0, 10082817.0, 10060566.0, 10058211....</td>\n      <td>[Alternative Learning Trust, Alternative Learn...</td>\n      <td>[North West Kent Alternative Provision Service...</td>\n      <td>[141642, 134280, 131050, 132795, 138990, 12340...</td>\n      <td>[Multi Academy Trust (MAT), Multi Academy Trus...</td>\n      <td>[2020-09-01 00:00:00.0000000, 2019-06-01 00:00...</td>\n      <td>...</td>\n      <td>[702.0, 702.0, 0.0, 9560.0, 499.0, nan, 1012.0...</td>\n      <td>[1817.0, 1817.0, 1128.0, 9560.0, 1421.0, 329.0...</td>\n      <td>[Non-PFI school, Non-PFI school, Non-PFI schoo...</td>\n      <td>[Surplus, Surplus, Surplus, Surplus, Surplus, ...</td>\n      <td>[Surplus, Surplus, Surplus, Deficit, Surplus, ...</td>\n      <td>[Surplus, Surplus, Deficit, Surplus, Surplus, ...</td>\n      <td>[Open, Open, Open, Open, Open, Open, Open, Ope...</td>\n      <td>[315.0, 315.0, 315.0, 315.0, 315.0, 315.0, 315...</td>\n      <td>[87.5, 87.5, 87.5, 87.5, 87.5, 87.5, 87.5, 87....</td>\n      <td>[100.0, 100.0, 100.0, 100.0, 100.0, 100.0, 100...</td>\n    </tr>\n    <tr>\n      <th rowspan=\"2\" valign=\"top\">Post-16</th>\n      <th>Boarding</th>\n      <td>[140971, 148791]</td>\n      <td>[8515877, 9320523]</td>\n      <td>[2013-05-03 00:00:00.0000000, 2014-11-20 00:00...</td>\n      <td>[137977, 135984]</td>\n      <td>[10060436.0, 10060902.0]</td>\n      <td>[Exeter Mathematics School, Richard Huish Trust]</td>\n      <td>[Exeter Mathematics School, Richard Huish Coll...</td>\n      <td>[130500, 163528]</td>\n      <td>[Single Academy Trust (SAT), Multi Academy Tru...</td>\n      <td>[2014-09-01 00:00:00.0000000, 2021-10-01 00:00...</td>\n      <td>...</td>\n      <td>[nan, -68.0]</td>\n      <td>[618.0, 915.0]</td>\n      <td>[Non-PFI school, Non-PFI school]</td>\n      <td>[Surplus, Surplus]</td>\n      <td>[Surplus, Surplus]</td>\n      <td>[Unknown, Deficit]</td>\n      <td>[Open, (Re)opened in period]</td>\n      <td>[127.0, 127.0]</td>\n      <td>[23.4, 23.4]</td>\n      <td>[0.15956155260328098, 0.15956155260328098]</td>\n    </tr>\n    <tr>\n      <th>Not Boarding</th>\n      <td>[144463, 144886, 144740, 143704, 145749, 13989...</td>\n      <td>[10578239, 8506178, 9802491, 2303464, 11200244...</td>\n      <td>[2017-01-23 00:00:00.0000000, 2013-04-26 00:00...</td>\n      <td>[139638, 137855, 140016, 134876, 141412, 13725...</td>\n      <td>[10064151.0, 10060425.0, 10066090.0, 10058150....</td>\n      <td>[Altus Education Partnership, Brigantia Learni...</td>\n      <td>[Rochdale Sixth Form College, Longley Park Six...</td>\n      <td>[138453, 139349, 139580, 152005, 140514, 12333...</td>\n      <td>[Multi Academy Trust (MAT), Multi Academy Trus...</td>\n      <td>[2017-04-01 00:00:00.0000000, 2017-08-01 00:00...</td>\n      <td>...</td>\n      <td>[-1178.0, 3075.0, nan, 7052.0, 0.0, 5123.0, -1...</td>\n      <td>[8780.0, 3075.0, 910.0, 7052.0, 110.0, 5123.0,...</td>\n      <td>[Non-PFI school, Non-PFI school, Non-PFI schoo...</td>\n      <td>[Surplus, Surplus, Surplus, Surplus, Surplus, ...</td>\n      <td>[Surplus, Deficit, Surplus, Deficit, Surplus, ...</td>\n      <td>[Deficit, Surplus, Unknown, Surplus, Deficit, ...</td>\n      <td>[Open, Open, Open, Open, Open, Open, Open, Ope...</td>\n      <td>[2117.0, 2117.0, 2117.0, 2117.0, 2117.0, 2117....</td>\n      <td>[23.4, 23.4, 23.4, 23.4, 23.4, 23.4, 23.4, 23....</td>\n      <td>[5.723905723905724, 5.723905723905724, 5.72390...</td>\n    </tr>\n    <tr>\n      <th rowspan=\"2\" valign=\"top\">Primary</th>\n      <th>Boarding</th>\n      <td>[147676, 147857]</td>\n      <td>[10749662, 7466353]</td>\n      <td>[2017-05-02 00:00:00.0000000, 2010-12-10 00:00...</td>\n      <td>[139827, 135711]</td>\n      <td>[10064620.0, 10058443.0]</td>\n      <td>[Hamwic Education Trust, Sapientia Education T...</td>\n      <td>[Weston Secondary School, Wymondham College Pr...</td>\n      <td>[163109, 162841]</td>\n      <td>[Multi Academy Trust (MAT), Multi Academy Trus...</td>\n      <td>[2021-09-01 00:00:00.0000000, 2020-09-01 00:00...</td>\n      <td>...</td>\n      <td>[838.0, 2546.0]</td>\n      <td>[6194.0, 2546.0]</td>\n      <td>[Non-PFI school, Non-PFI school]</td>\n      <td>[Surplus, Surplus]</td>\n      <td>[Surplus, Deficit]</td>\n      <td>[Surplus, Surplus]</td>\n      <td>[Open, Open]</td>\n      <td>[513.0, 513.0]</td>\n      <td>[47.400000000000006, 47.400000000000006]</td>\n      <td>[1.1533312738132016, 1.1533312738132016]</td>\n    </tr>\n    <tr>\n      <th>Not Boarding</th>\n      <td>[148853, 144542, 144551, 148854, 136354, 14021...</td>\n      <td>[10817580, 10817580, 10817580, 10817580, 73187...</td>\n      <td>[2017-06-14 00:00:00.0000000, 2017-06-14 00:00...</td>\n      <td>[139821, 139821, 139821, 139821, 135399, 13539...</td>\n      <td>[10064612.0, 10064612.0, 10064612.0, 10064612....</td>\n      <td>[1Excellence Multi Academy Trust, 1Excellence ...</td>\n      <td>[Evenwood Church of England Primary School, Pe...</td>\n      <td>[163480, 138448, 138465, 163504, 119379, 12924...</td>\n      <td>[Multi Academy Trust (MAT), Multi Academy Trus...</td>\n      <td>[2021-12-01 00:00:00.0000000, 2017-07-01 00:00...</td>\n      <td>...</td>\n      <td>[55.0, 55.0, 55.0, 55.0, 0.0, 0.0, 0.0, 1832.0...</td>\n      <td>[1154.0, 1154.0, 1154.0, 1154.0, 652.0, 652.0,...</td>\n      <td>[Non-PFI school, Non-PFI school, Non-PFI schoo...</td>\n      <td>[Surplus, Surplus, Surplus, Surplus, Surplus, ...</td>\n      <td>[Surplus, Surplus, Surplus, Surplus, Surplus, ...</td>\n      <td>[Surplus, Surplus, Surplus, Surplus, Deficit, ...</td>\n      <td>[(Re)opened in period, Open, Open, (Re)opened ...</td>\n      <td>[1319.0, 1319.0, 1319.0, 1319.0, 1319.0, 1319....</td>\n      <td>[87.9, 87.9, 87.9, 87.9, 87.9, 87.9, 87.9, 87....</td>\n      <td>[26.190476190476193, 26.190476190476193, 26.19...</td>\n    </tr>\n    <tr>\n      <th rowspan=\"2\" valign=\"top\">Secondary</th>\n      <th>Boarding</th>\n      <td>[148221, 139655, 138289, 136177, 139971, 13915...</td>\n      <td>[7535642, 8098956, 8082185, 7209122, 7930340, ...</td>\n      <td>[2011-02-18 00:00:00.0000000, 2012-06-08 00:00...</td>\n      <td>[135944, 137050, 137026, 135369, 136804, 13490...</td>\n      <td>[10058531.0, 10059829.0, 10059803.0, 10058300....</td>\n      <td>[Bohunt Education Trust, Bridgwater &amp; Taunton ...</td>\n      <td>[Steyning Grammar School, Brymore Academy, Bur...</td>\n      <td>[163027, 123954, 121840, 119233, 123312, 12067...</td>\n      <td>[Multi Academy Trust (MAT), Multi Academy Trus...</td>\n      <td>[2020-12-01 00:00:00.0000000, 2013-09-01 00:00...</td>\n      <td>...</td>\n      <td>[559.0, 1991.0, nan, nan, nan, nan, 34.0, nan,...</td>\n      <td>[7237.0, 2132.0, 1148.0, 1009.0, 368.0, 182.0,...</td>\n      <td>[Non-PFI school, Non-PFI school, Non-PFI schoo...</td>\n      <td>[Surplus, Surplus, Surplus, Surplus, Surplus, ...</td>\n      <td>[Surplus, Surplus, Surplus, Surplus, Surplus, ...</td>\n      <td>[Surplus, Surplus, Unknown, Unknown, Unknown, ...</td>\n      <td>[Open, Open, Open, Open, Open, Open, Open, Ope...</td>\n      <td>[1943.0, 1943.0, 1943.0, 1943.0, 1943.0, 1943....</td>\n      <td>[22.599999999999998, 22.599999999999998, 22.59...</td>\n      <td>[15.244446308490263, 15.244446308490263, 15.24...</td>\n    </tr>\n    <tr>\n      <th>Not Boarding</th>\n      <td>[136730, 136844, 137377, 137083, 144809, 13703...</td>\n      <td>[7595434, 7595434, 7740516, 7705552, 7705552, ...</td>\n      <td>[2011-04-07 00:00:00.0000000, 2011-04-07 00:00...</td>\n      <td>[134890, 134890, 136150, 135666, 135666, 13566...</td>\n      <td>[10058682.0, 10058682.0, 10059272.0, 10059141....</td>\n      <td>[5 Dimensions Trust, 5 Dimensions Trust, Abbey...</td>\n      <td>[Shenley Brook End School, The Hazeley Academy...</td>\n      <td>[119734, 119844, 120322, 120083, 139214, 12003...</td>\n      <td>[Multi Academy Trust (MAT), Multi Academy Trus...</td>\n      <td>[2011-05-01 00:00:00.0000000, 2011-07-01 00:00...</td>\n      <td>...</td>\n      <td>[177.0, 177.0, nan, 1832.0, 1832.0, 1832.0, 14...</td>\n      <td>[3603.0, 3603.0, 416.0, 4541.0, 4541.0, 4541.0...</td>\n      <td>[Non-PFI school, Non-PFI school, Non-PFI schoo...</td>\n      <td>[Surplus, Surplus, Surplus, Surplus, Surplus, ...</td>\n      <td>[Surplus, Surplus, Surplus, Surplus, Surplus, ...</td>\n      <td>[Surplus, Surplus, Unknown, Surplus, Surplus, ...</td>\n      <td>[Open, Open, Open, Open, Open, Open, Open, Ope...</td>\n      <td>[2990.0, 2990.0, 2990.0, 2990.0, 2990.0, 2990....</td>\n      <td>[75.4, 75.4, 75.4, 75.4, 75.4, 75.4, 75.4, 75....</td>\n      <td>[18.46846846846847, 18.46846846846847, 18.4684...</td>\n    </tr>\n    <tr>\n      <th>University technical college</th>\n      <th>Not Boarding</th>\n      <td>[146375, 141111, 139268, 145155, 146303, 14593...</td>\n      <td>[8707909, 8707909, 8707909, 8707909, 5670663, ...</td>\n      <td>[2013-09-26 00:00:00.0000000, 2013-09-26 00:00...</td>\n      <td>[137921, 137921, 137921, 137921, 135047, 13663...</td>\n      <td>[10060613.0, 10060613.0, 10060613.0, 10060613....</td>\n      <td>[Activate Learning Education Trust, Activate L...</td>\n      <td>[UTC Heathrow, UTC Oxfordshire, UTC Reading, U...</td>\n      <td>[141385, 132690, 122057, 139894, 141375, 14077...</td>\n      <td>[Multi Academy Trust (MAT), Multi Academy Trus...</td>\n      <td>[2014-09-01 00:00:00.0000000, 2015-09-01 00:00...</td>\n      <td>...</td>\n      <td>[2146.0, 2146.0, 2146.0, 2146.0, 233.0, -7984....</td>\n      <td>[279.0, 279.0, 279.0, 279.0, 3802.0, 3810.0, 5...</td>\n      <td>[Non-PFI school, Non-PFI school, Non-PFI schoo...</td>\n      <td>[Surplus, Surplus, Surplus, Surplus, Surplus, ...</td>\n      <td>[Deficit, Deficit, Surplus, Deficit, Deficit, ...</td>\n      <td>[Surplus, Surplus, Surplus, Surplus, Surplus, ...</td>\n      <td>[Open, Open, Open, Open, Open, Open, Open, Clo...</td>\n      <td>[684.0, 684.0, 684.0, 684.0, 684.0, 684.0, 684...</td>\n      <td>[38.099999999999994, 38.099999999999994, 38.09...</td>\n      <td>[8.14566527505122, 8.14566527505122, 8.1456652...</td>\n    </tr>\n  </tbody>\n</table>\n<p>8 rows × 118 columns</p>\n</div>"
     },
     "execution_count": 3,
     "metadata": {},
     "output_type": "execute_result"
    }
   ],
   "source": [
    "academy_data = pd.read_csv(\"output/pre-processing/academies.csv\")\n",
    "academy_data['Boarders (name)'] = academy_data['Boarders (name)'].map(lambda x : 'Not Boarding' if x == 'Unknown' else x)\n",
    "academy_data['NumberOfPupils'] = academy_data['NumberOfPupils'].fillna(academy_data['NumberOfPupils'].median())\n",
    "academy_data['Percentage Free school meals'] = academy_data['Percentage Free school meals'].fillna(academy_data['Percentage Free school meals'].median())\n",
    "academy_data['Percentage SEN'] = academy_data['Percentage SEN'].fillna(academy_data['Percentage SEN'].median())\n",
    "\n",
    "grouped_academy_data = academy_data.groupby(['SchoolPhaseType','Boarders (name)']).agg(list)\n",
    "grouped_academy_data = (grouped_academy_data.join(grouped_academy_data['NumberOfPupils'].map(calcs.compute_range).rename('Pupil_Range'))\n",
    "                    .join(grouped_academy_data['Percentage Free school meals'].map(calcs.compute_range).rename('FSM_Range'))\n",
    "                    .join(grouped_academy_data['Percentage SEN'].map(calcs.compute_range).rename('SEN_Range')))\n",
    "\n",
    "special_excluded = grouped_academy_data[grouped_academy_data.index.get_level_values('SchoolPhaseType') != 'Special']\n",
    "special_excluded"
   ],
   "metadata": {
    "collapsed": false,
    "ExecuteTime": {
     "end_time": "2024-03-30T10:07:05.568128Z",
     "start_time": "2024-03-30T10:07:05.353378Z"
    }
   },
   "id": "b6a8b89e06dcc1b2",
   "execution_count": 3
  },
  {
   "cell_type": "code",
   "outputs": [
    {
     "data": {
      "text/plain": "                                                                                              Candidates  \\\nSchoolPhaseType              Boarders (name) URN                                                           \nAlternative Provision        Not Boarding    138264.0  [138264.0, 143761.0, 139925.0, 147855.0, 14747...   \n                                             138277.0  [138277.0, 142259.0, 142793.0, 139509.0, 13950...   \n                                             138379.0  [138379.0, 142835.0, 144023.0, 140627.0, 14789...   \n                                             138775.0  [138775.0, 141739.0, 139413.0, 140649.0, 13982...   \n                                             139114.0  [139114.0, 142702.0, 139665.0, 148588.0, 14322...   \n...                                                                                                  ...   \nUniversity technical college Not Boarding    146560.0  [146560.0, 142900.0, 145900.0, 140160.0, 14260...   \n                                             146648.0  [146648.0, 147685.0, 142899.0, 145900.0, 14289...   \n                                             147685.0  [147685.0, 142890.0, 142899.0, 142605.0, 14026...   \n                                             147838.0  [147838.0, 144766.0, 140987.0, 139234.0, 14096...   \n                                             148932.0  [148932.0, 148932.0, 148932.0, 142130.0, 14181...   \n\n                                                                                                Distance  \nSchoolPhaseType              Boarders (name) URN                                                          \nAlternative Provision        Not Boarding    138264.0  [0.0, 0.0, 0.0, 0.0, 0.0, 0.0, 0.0082868920624...  \n                                             138277.0  [0.0, 0.0, 0.006734350297014739, 0.16934953291...  \n                                             138379.0  [0.0, 0.15735913879522825, 0.17037527409942446...  \n                                             138775.0  [0.0, 0.0, 0.0, 0.0, 0.0, 0.0, 0.0, 0.0, 0.0, ...  \n                                             139114.0  [0.0, 0.03237893551141869, 0.06203413424916427...  \n...                                                                                                  ...  \nUniversity technical college Not Boarding    146560.0  [0.0, 0.11567928444989008, 0.22854898114198458...  \n                                             146648.0  [0.0, 0.07482560347671036, 0.10047620295547079...  \n                                             147685.0  [0.0, 0.0902955379139546, 0.17281887853211256,...  \n                                             147838.0  [0.0, 0.10695042009140009, 0.1425305213068696,...  \n                                             148932.0  [0.0, 0.0, 0.0, 0.09467483204176241, 0.1110228...  \n\n[9364 rows x 2 columns]",
      "text/html": "<div>\n<style scoped>\n    .dataframe tbody tr th:only-of-type {\n        vertical-align: middle;\n    }\n\n    .dataframe tbody tr th {\n        vertical-align: top;\n    }\n\n    .dataframe thead th {\n        text-align: right;\n    }\n</style>\n<table border=\"1\" class=\"dataframe\">\n  <thead>\n    <tr style=\"text-align: right;\">\n      <th></th>\n      <th></th>\n      <th></th>\n      <th>Candidates</th>\n      <th>Distance</th>\n    </tr>\n    <tr>\n      <th>SchoolPhaseType</th>\n      <th>Boarders (name)</th>\n      <th>URN</th>\n      <th></th>\n      <th></th>\n    </tr>\n  </thead>\n  <tbody>\n    <tr>\n      <th rowspan=\"5\" valign=\"top\">Alternative Provision</th>\n      <th rowspan=\"5\" valign=\"top\">Not Boarding</th>\n      <th>138264.0</th>\n      <td>[138264.0, 143761.0, 139925.0, 147855.0, 14747...</td>\n      <td>[0.0, 0.0, 0.0, 0.0, 0.0, 0.0, 0.0082868920624...</td>\n    </tr>\n    <tr>\n      <th>138277.0</th>\n      <td>[138277.0, 142259.0, 142793.0, 139509.0, 13950...</td>\n      <td>[0.0, 0.0, 0.006734350297014739, 0.16934953291...</td>\n    </tr>\n    <tr>\n      <th>138379.0</th>\n      <td>[138379.0, 142835.0, 144023.0, 140627.0, 14789...</td>\n      <td>[0.0, 0.15735913879522825, 0.17037527409942446...</td>\n    </tr>\n    <tr>\n      <th>138775.0</th>\n      <td>[138775.0, 141739.0, 139413.0, 140649.0, 13982...</td>\n      <td>[0.0, 0.0, 0.0, 0.0, 0.0, 0.0, 0.0, 0.0, 0.0, ...</td>\n    </tr>\n    <tr>\n      <th>139114.0</th>\n      <td>[139114.0, 142702.0, 139665.0, 148588.0, 14322...</td>\n      <td>[0.0, 0.03237893551141869, 0.06203413424916427...</td>\n    </tr>\n    <tr>\n      <th>...</th>\n      <th>...</th>\n      <th>...</th>\n      <td>...</td>\n      <td>...</td>\n    </tr>\n    <tr>\n      <th rowspan=\"5\" valign=\"top\">University technical college</th>\n      <th rowspan=\"5\" valign=\"top\">Not Boarding</th>\n      <th>146560.0</th>\n      <td>[146560.0, 142900.0, 145900.0, 140160.0, 14260...</td>\n      <td>[0.0, 0.11567928444989008, 0.22854898114198458...</td>\n    </tr>\n    <tr>\n      <th>146648.0</th>\n      <td>[146648.0, 147685.0, 142899.0, 145900.0, 14289...</td>\n      <td>[0.0, 0.07482560347671036, 0.10047620295547079...</td>\n    </tr>\n    <tr>\n      <th>147685.0</th>\n      <td>[147685.0, 142890.0, 142899.0, 142605.0, 14026...</td>\n      <td>[0.0, 0.0902955379139546, 0.17281887853211256,...</td>\n    </tr>\n    <tr>\n      <th>147838.0</th>\n      <td>[147838.0, 144766.0, 140987.0, 139234.0, 14096...</td>\n      <td>[0.0, 0.10695042009140009, 0.1425305213068696,...</td>\n    </tr>\n    <tr>\n      <th>148932.0</th>\n      <td>[148932.0, 148932.0, 148932.0, 142130.0, 14181...</td>\n      <td>[0.0, 0.0, 0.0, 0.09467483204176241, 0.1110228...</td>\n    </tr>\n  </tbody>\n</table>\n<p>9364 rows × 2 columns</p>\n</div>"
     },
     "execution_count": 15,
     "metadata": {},
     "output_type": "execute_result"
    }
   ],
   "source": [
    "sets = pd.DataFrame()\n",
    "for (idx, row) in special_excluded.iterrows():\n",
    "    distances = calcs.non_special_distance_calc(row['URN'], row['NumberOfPupils'], row['Percentage Free school meals'], row['Percentage SEN'], row['Pupil_Range'], row['FSM_Range'], row['SEN_Range'])\n",
    "    df = (pd.DataFrame(distances, columns=['URN', 'Candidates', 'Distance'])\n",
    "                .sort_values(by=['URN', 'Distance'], ascending=[False,True])\n",
    "                .groupby('URN')\n",
    "                .agg(list)\n",
    "                .apply(lambda d: {'Candidates': d['Candidates'][:60], 'Distance': d['Distance'][:60]}, axis=1, result_type='expand')\n",
    "            )\n",
    "    df.reset_index(inplace=True)\n",
    "    df['SchoolPhaseType'] = idx[0]\n",
    "    df['Boarders (name)'] = idx[1]\n",
    "    df.set_index(['SchoolPhaseType','Boarders (name)','URN'], inplace=True)\n",
    "    sets = pd.concat([sets, df])\n",
    "    \n",
    "\n",
    "sets"
   ],
   "metadata": {
    "collapsed": false,
    "ExecuteTime": {
     "end_time": "2024-03-30T10:23:45.059531Z",
     "start_time": "2024-03-30T10:22:43.379451Z"
    }
   },
   "id": "5a1825bc0a7c298a",
   "execution_count": 15
  },
  {
   "cell_type": "markdown",
   "source": [
    "## Maintained school pupil mix"
   ],
   "metadata": {
    "collapsed": false
   },
   "id": "3ceb8b845b39479f"
  },
  {
   "cell_type": "code",
   "outputs": [],
   "source": [],
   "metadata": {
    "collapsed": false,
    "ExecuteTime": {
     "end_time": "2024-03-29T16:02:22.567435Z",
     "start_time": "2024-03-29T16:02:22.566029Z"
    }
   },
   "id": "8b132d0368084283",
   "execution_count": 9
  },
  {
   "cell_type": "markdown",
   "source": [
    "## All pupil mix"
   ],
   "metadata": {
    "collapsed": false
   },
   "id": "288ebf8d3f4e1a23"
  },
  {
   "cell_type": "code",
   "outputs": [],
   "source": [],
   "metadata": {
    "collapsed": false,
    "ExecuteTime": {
     "end_time": "2024-03-29T16:02:22.569981Z",
     "start_time": "2024-03-29T16:02:22.568625Z"
    }
   },
   "id": "aa66b688253149f5",
   "execution_count": 9
  },
  {
   "cell_type": "markdown",
   "source": [
    "## Academy area mix"
   ],
   "metadata": {
    "collapsed": false
   },
   "id": "64ec31e25ca57d1c"
  },
  {
   "cell_type": "code",
   "outputs": [],
   "source": [],
   "metadata": {
    "collapsed": false,
    "ExecuteTime": {
     "end_time": "2024-03-29T16:02:22.571574Z",
     "start_time": "2024-03-29T16:02:22.570523Z"
    }
   },
   "id": "988f7307cbaac7f9",
   "execution_count": 9
  },
  {
   "cell_type": "markdown",
   "source": [
    "## Maintained school area mix"
   ],
   "metadata": {
    "collapsed": false
   },
   "id": "b21d33f32d9dc8ae"
  },
  {
   "cell_type": "code",
   "outputs": [],
   "source": [],
   "metadata": {
    "collapsed": false,
    "ExecuteTime": {
     "end_time": "2024-03-29T16:02:22.573510Z",
     "start_time": "2024-03-29T16:02:22.572119Z"
    }
   },
   "id": "4c1a414d4763176",
   "execution_count": 9
  },
  {
   "cell_type": "markdown",
   "source": [
    "## All area mix"
   ],
   "metadata": {
    "collapsed": false
   },
   "id": "195cdc30036f3f46"
  },
  {
   "cell_type": "code",
   "outputs": [],
   "source": [],
   "metadata": {
    "collapsed": false,
    "ExecuteTime": {
     "end_time": "2024-03-29T16:02:22.575699Z",
     "start_time": "2024-03-29T16:02:22.574441Z"
    }
   },
   "id": "c23da070f4e30fea",
   "execution_count": 9
  }
 ],
 "metadata": {
  "kernelspec": {
   "display_name": "Python 3",
   "language": "python",
   "name": "python3"
  },
  "language_info": {
   "codemirror_mode": {
    "name": "ipython",
    "version": 2
   },
   "file_extension": ".py",
   "mimetype": "text/x-python",
   "name": "python",
   "nbconvert_exporter": "python",
   "pygments_lexer": "ipython2",
   "version": "2.7.6"
  }
 },
 "nbformat": 4,
 "nbformat_minor": 5
}
