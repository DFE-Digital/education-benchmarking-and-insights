{
 "cells": [
  {
   "metadata": {},
   "cell_type": "markdown",
   "source": [
    "# Metric RAG\n",
    "\n",
    "* median, decile, status (Red / Amber / Green), percentage\n",
    "* All cost catgeories - cost per pupil\n",
    "* Utilities and Premises and staff - per m^2"
   ],
   "id": "4c66266833f6e0c3"
  },
  {
   "metadata": {
    "ExecuteTime": {
     "end_time": "2024-04-23T23:01:27.789692Z",
     "start_time": "2024-04-23T23:01:27.411500Z"
    }
   },
   "cell_type": "code",
   "source": [
    "import numpy as np\n",
    "import pandas as pd\n",
    "import pickle\n",
    "import comparator_sets as comparators\n",
    "import glob \n",
    "import os\n",
    "import time\n",
    "\n",
    "start_time = time.time()\n",
    "# Create and clean directory\n",
    "from pathlib import Path\n",
    "Path(\"output/metric-rag\").mkdir(parents=True, exist_ok=True)\n",
    "\n",
    "files = glob.glob(\"output/metric-rag/*\")\n",
    "for f in files:\n",
    "    os.remove(f)"
   ],
   "id": "545e6d9ba57b74bb",
   "outputs": [],
   "execution_count": 1
  },
  {
   "metadata": {},
   "cell_type": "markdown",
   "source": "## Loading saved comparator sets",
   "id": "d7f55e9ba214a123"
  },
  {
   "metadata": {
    "ExecuteTime": {
     "end_time": "2024-04-23T23:01:29.649395Z",
     "start_time": "2024-04-23T23:01:27.790960Z"
    }
   },
   "cell_type": "code",
   "source": [
    "with open('output/comparator-sets/schools.pkl', 'rb') as schools_file:\n",
    "     all_schools = pickle.load(schools_file)\n",
    "\n",
    "with open('output/comparator-sets/pupil_comparators.pkl', 'rb') as pupil_file:\n",
    "     pupil_comparators = pickle.load(pupil_file)\n",
    "     \n",
    "with open('output/comparator-sets/building_comparators.pkl', 'rb') as building_file:\n",
    "     building_comparators = pickle.load(building_file)"
   ],
   "id": "381fa1a4cb96be66",
   "outputs": [],
   "execution_count": 2
  },
  {
   "metadata": {},
   "cell_type": "markdown",
   "source": "Declare the RAG mappings",
   "id": "9de01664bd1f35d7"
  },
  {
   "metadata": {
    "ExecuteTime": {
     "end_time": "2024-04-23T23:01:29.669764Z",
     "start_time": "2024-04-23T23:01:29.654658Z"
    }
   },
   "cell_type": "code",
   "source": [
    "category_settings = {\n",
    "    'Teaching and Teaching support staff': {\n",
    "        'type': 'pupil',\n",
    "        'outstanding_10': ['amber', 'amber', 'amber', 'green', 'green', 'green', 'amber', 'amber', 'red', 'red'],\n",
    "        'outstanding': ['amber', 'amber', 'amber', 'green', 'green', 'green', 'amber', 'amber', 'amber', 'red'],\n",
    "        'other_10': ['red', 'red', 'amber', 'green', 'green', 'green', 'amber', 'amber', 'red', 'red'],\n",
    "        'other': ['red', 'amber', 'amber', 'green', 'green', 'green', 'amber', 'amber', 'amber', 'red']\n",
    "    },\n",
    "    'Non-educational support staff': {\n",
    "        'type': 'pupil',\n",
    "        'outstanding_10': ['green', 'green', 'green', 'amber', 'amber', 'amber', 'amber', 'amber', 'red', 'red'],\n",
    "        'outstanding': ['green', 'green', 'green', 'amber', 'amber', 'amber', 'amber', 'amber', 'red', 'red'],\n",
    "        'other_10': ['green', 'green', 'green', 'amber', 'amber', 'amber', 'amber', 'amber', 'red', 'red'],\n",
    "        'other': ['green', 'green', 'green', 'amber', 'amber', 'amber', 'amber', 'amber', 'red', 'red']\n",
    "    },\n",
    "    'Educational supplies': {\n",
    "        'type': 'pupil',\n",
    "        'outstanding_10': ['amber', 'amber', 'amber', 'green', 'green', 'green', 'amber', 'amber', 'red', 'red'],\n",
    "        'outstanding': ['amber', 'amber', 'amber', 'green', 'green', 'green', 'amber', 'amber', 'amber', 'red'],\n",
    "        'other_10': ['red', 'red', 'amber', 'green', 'green', 'green', 'amber', 'amber', 'red', 'red'],\n",
    "        'other': ['red', 'amber', 'amber', 'green', 'green', 'green', 'amber', 'amber', 'amber', 'red']\n",
    "    },\n",
    "    'IT': {\n",
    "        'type': 'pupil',\n",
    "        'outstanding_10': ['amber', 'amber', 'amber', 'green', 'green', 'green', 'amber', 'amber', 'red', 'red'],\n",
    "        'outstanding': ['amber', 'amber', 'amber', 'green', 'green', 'green', 'amber', 'amber', 'amber', 'red'],\n",
    "        'other_10': ['red', 'red', 'amber', 'green', 'green', 'green', 'amber', 'amber', 'red', 'red'],\n",
    "        'other': ['red', 'amber', 'amber', 'green', 'green', 'green', 'amber', 'amber', 'amber', 'red']\n",
    "    },\n",
    "    'Premises': {\n",
    "        'type': 'area',\n",
    "        'outstanding_10': ['green', 'green', 'green', 'amber', 'amber', 'amber', 'amber', 'amber', 'red', 'red'],\n",
    "        'outstanding': ['green', 'green', 'green', 'amber', 'amber', 'amber', 'amber', 'amber', 'red', 'red'],\n",
    "        'other_10': ['green', 'green', 'green', 'amber', 'amber', 'amber', 'amber', 'amber', 'red', 'red'],\n",
    "        'other': ['green', 'green', 'green', 'amber', 'amber', 'amber', 'amber', 'amber', 'red', 'red']\n",
    "    },\n",
    "    'Utilities': {\n",
    "        'type': 'area',\n",
    "        'outstanding_10': ['green', 'green', 'green', 'amber', 'amber', 'amber', 'amber', 'amber', 'red', 'red'],\n",
    "        'outstanding': ['green', 'green', 'green', 'amber', 'amber', 'amber', 'amber', 'amber', 'red', 'red'],\n",
    "        'other_10': ['green', 'green', 'green', 'amber', 'amber', 'amber', 'amber', 'amber', 'red', 'red'],\n",
    "        'other': ['green', 'green', 'green', 'amber', 'amber', 'amber', 'amber', 'amber', 'red', 'red']\n",
    "    },\n",
    "    'Administrative supplies': {\n",
    "        'type': 'pupil',\n",
    "        'outstanding_10': ['green', 'green', 'green', 'amber', 'amber', 'amber', 'amber', 'amber', 'red', 'red'],\n",
    "        'outstanding': ['green', 'green', 'green', 'amber', 'amber', 'amber', 'amber', 'amber', 'red', 'red'],\n",
    "        'other_10': ['green', 'green', 'green', 'amber', 'amber', 'amber', 'amber', 'amber', 'red', 'red'],\n",
    "        'other': ['green', 'green', 'green', 'amber', 'amber', 'amber', 'amber', 'amber', 'red', 'red']\n",
    "    },\n",
    "    'Catering staff and supplies': {\n",
    "        'type': 'pupil',\n",
    "        'outstanding_10': ['green', 'green', 'green', 'amber', 'amber', 'amber', 'amber', 'amber', 'red', 'red'],\n",
    "        'outstanding': ['green', 'green', 'green', 'amber', 'amber', 'amber', 'amber', 'amber', 'red', 'red'],\n",
    "        'other_10': ['green', 'green', 'green', 'amber', 'amber', 'amber', 'amber', 'amber', 'red', 'red'],\n",
    "        'other': ['green', 'green', 'green', 'amber', 'amber', 'amber', 'amber', 'amber', 'red', 'red']\n",
    "    },\n",
    "    'Other costs': {\n",
    "        'type': 'pupil',\n",
    "        'outstanding_10': ['green', 'green', 'green', 'amber', 'amber', 'amber', 'amber', 'amber', 'red', 'red'],\n",
    "        'outstanding': ['green', 'green', 'green', 'amber', 'amber', 'amber', 'amber', 'amber', 'red', 'red'],\n",
    "        'other_10': ['green', 'green', 'green', 'amber', 'amber', 'amber', 'amber', 'amber', 'red', 'red'],\n",
    "        'other': ['green', 'green', 'green', 'amber', 'amber', 'amber', 'amber', 'amber', 'red', 'red']\n",
    "    }\n",
    "}\n",
    "\n",
    "\n",
    "def is_area_close_comparator(y, x):\n",
    "    return (((x['Total Internal Floor Area'] * 0.9) >= y['Total Internal Floor Area']) | (y['Total Internal Floor Area'] <= (x['Total Internal Floor Area'] * 1.1)) \n",
    "             & ((x['Age Average Score'] * 0.75) >= y['Age Average Score']) | (y['Age Average Score'] <= (x['Age Average Score'] * 1.25)))\n",
    "\n",
    "def is_pupil_close_comparator(y, x):\n",
    "    return (((x['Number of pupils'] * 0.75) >= y['Number of pupils']) | (y['Number of pupils'] <= (x['Number of pupils'] * 1.25)) \n",
    "             & ((x['Percentage Free school meals'] * 0.95) >= y['Percentage Free school meals']) | (y['Percentage Free school meals'] <= (x['Percentage Free school meals'] * 1.05))\n",
    "             & ((x['Percentage SEN'] * 0.90) >= y['Percentage SEN']) | (y['Percentage SEN'] <= (x['Percentage SEN'] * 1.10))\n",
    "            )\n",
    "\n",
    "def is_close_comparator(t, y, x):\n",
    "    if t == 'area': \n",
    "        return is_area_close_comparator(y, x)\n",
    "    else: \n",
    "        return is_pupil_close_comparator(y, x)\n",
    "\n",
    "def map_rag(d, ofstead, rag_mapping):\n",
    "    close_count = d['is_close'][d['is_close']].count()\n",
    "    key = 'outstanding' if ofstead.lower() == 'outstanding' else 'other'\n",
    "    key += '_10' if close_count > 10 else ''\n",
    "    d['rag'] = d['decile'].fillna(0).map(lambda x: rag_mapping[key][int(x)])\n",
    "    return d    \n"
   ],
   "id": "1dfc6a002cd7202c",
   "outputs": [],
   "execution_count": 3
  },
  {
   "metadata": {},
   "cell_type": "markdown",
   "source": "Select the school for the RAG calculation",
   "id": "f97d4b208d8b8aaf"
  },
  {
   "metadata": {
    "ExecuteTime": {
     "end_time": "2024-04-23T23:01:30.020596Z",
     "start_time": "2024-04-23T23:01:29.672927Z"
    }
   },
   "cell_type": "code",
   "source": [
    "target_school = 103341\n",
    "comparator_set = comparators.get_comparator_set_by(lambda s: s.index == target_school, all_schools, pupil_comparators).set_index('URN')"
   ],
   "id": "d9fe4fa0a24bfec1",
   "outputs": [],
   "execution_count": 4
  },
  {
   "metadata": {},
   "cell_type": "markdown",
   "source": "Compute the rag calculation for the cost categories given in the [Benchmarking cost categories doc](https://educationgovuk.sharepoint.com.mcas.ms/:w:/r/sites/DfEFinancialBenchmarking/_layouts/15/Doc.aspx?sourcedoc=%7B622FB0F9-7CB1-445A-8FFA-664F8857F036%7D&file=Benchmarking%20cost%20categories%20and%20sub-categories.docx&action=default&mobileredirect=true)",
   "id": "c1af7e5ae2b01dca"
  },
  {
   "metadata": {
    "ExecuteTime": {
     "end_time": "2024-04-23T23:01:30.096796Z",
     "start_time": "2024-04-23T23:01:30.021183Z"
    }
   },
   "cell_type": "code",
   "source": [
    "base_cols = ['URN', 'Total Internal Floor Area','Age Average Score', 'OfstedRating (name)','Percentage SEN', 'Percentage Free school meals', 'Number of pupils']\n",
    "\n",
    "result = {}\n",
    "for category in category_settings:\n",
    "    deciles = category_settings[category]\n",
    "    cols = (comparator_set.columns.isin(base_cols) | comparator_set.columns.str.startswith(category))\n",
    "    \n",
    "    df = comparator_set[comparator_set.columns[cols]].copy()\n",
    "    target = comparator_set[comparator_set.index == target_school][comparator_set.columns[cols]].copy()\n",
    "    \n",
    "    if deciles['type'] == 'area':\n",
    "        df['Total'] = df[df.columns[6:df.shape[1]]].sum(axis=1) / (df['Total Internal Floor Area'])\n",
    "    else:\n",
    "        df['Total'] = df[df.columns[6:df.shape[1]]].sum(axis=1) / (df['Number of pupils'])\n",
    "        \n",
    "    df['is_close'] = df.apply(lambda x: is_close_comparator(deciles['type'], target, x), axis=1)\n",
    "    df['decile'] = pd.qcut(df['Total'], 10, labels=False, duplicates='drop')\n",
    "    \n",
    "    result[category] = map_rag(df, target['OfstedRating (name)'].values[0], deciles).sort_values(by='decile', ascending=True)\n",
    "    "
   ],
   "id": "c95475382351a776",
   "outputs": [],
   "execution_count": 5
  },
  {
   "metadata": {},
   "cell_type": "markdown",
   "source": "## Processing Time",
   "id": "8e3a3709c6c8c103"
  },
  {
   "metadata": {
    "ExecuteTime": {
     "end_time": "2024-04-23T23:01:30.100773Z",
     "start_time": "2024-04-23T23:01:30.097584Z"
    }
   },
   "cell_type": "code",
   "source": "print(f'Processing Time: {time.time() - start_time} seconds')",
   "id": "2a6a3b00010e62d0",
   "outputs": [
    {
     "name": "stdout",
     "output_type": "stream",
     "text": [
      "Processing Time: 2.3098113536834717 seconds\n"
     ]
    }
   ],
   "execution_count": 6
  }
 ],
 "metadata": {
  "kernelspec": {
   "display_name": "Python 3",
   "language": "python",
   "name": "python3"
  },
  "language_info": {
   "codemirror_mode": {
    "name": "ipython",
    "version": 2
   },
   "file_extension": ".py",
   "mimetype": "text/x-python",
   "name": "python",
   "nbconvert_exporter": "python",
   "pygments_lexer": "ipython2",
   "version": "2.7.6"
  }
 },
 "nbformat": 4,
 "nbformat_minor": 5
}
