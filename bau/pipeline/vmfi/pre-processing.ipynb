{
 "cells": [
  {
   "cell_type": "code",
   "execution_count": 12,
   "id": "acde75f1010d72b1",
   "metadata": {
    "collapsed": false,
    "ExecuteTime": {
     "end_time": "2024-03-28T17:20:53.040420Z",
     "start_time": "2024-03-28T17:20:53.033898Z"
    }
   },
   "outputs": [
    {
     "name": "stdout",
     "output_type": "stream",
     "text": [
      "The dotenv extension is already loaded. To reload it, use:\n",
      "  %reload_ext dotenv\n"
     ]
    }
   ],
   "source": [
    "import numpy as np\n",
    "%load_ext dotenv\n",
    "%dotenv"
   ]
  },
  {
   "cell_type": "markdown",
   "source": [
    "# VMFI Data processing pipeline\n",
    "\n",
    "This workbook aims to emulate the current data processing pipeline that occurs in VMFI pipeline. The logic and processing is largely based on the following document [Insights data portal - Data sources and sql analysis](https://educationgovuk.sharepoint.com.mcas.ms/:w:/r/sites/VMFI/_layouts/15/Doc.aspx?sourcedoc=%7B38C1DC37-7CDB-48B8-9E22-284F4F311C0B%7D&file=1.%20Insights%20portal%20-%20data%20sources%20and%20sql%20analysis%20v010%20-%20Copy.docx&action=default&mobileredirect=true) and will stay true to this document even if the existing stored procedures are doing something different. This will form the basis of a gap analysis going forward. \n",
    "\n",
    "All data loaded in the following workbook comes from the set of CSV files in the `data` folder alongside this workbook. These datasets are for the most part from the list at the start of the linked document. However, because there is additional standing data required to fully implement the pipeline then this data has been exported from the development VMFI pipeline database. These files are currently: \n",
    "\n",
    "| File name | DB Table |\n",
    "|:----------|----------|\n",
    "|standing_data_cdc.csv | standing_data.cdc |"
   ],
   "metadata": {
    "collapsed": false
   },
   "id": "4067c2e8c15b53c"
  },
  {
   "cell_type": "code",
   "outputs": [],
   "source": [
    "import pandas as pd\n",
    "import mappings as mappings\n",
    "import schemas as schemas\n",
    "import datetime\n",
    "\n",
    "from pathlib import Path\n",
    "Path(\"output/pre-processing\").mkdir(parents=True, exist_ok=True)\n",
    "\n",
    "current_year = 2022\n",
    "accounts_return_period_start_date = datetime.date(current_year - 1, 9, 10)\n",
    "academy_year_start_date = datetime.date(current_year - 1, 9, 1)\n",
    "academy_year_end_date = datetime.date(current_year, 8, 30)\n",
    "maintained_schools_year_start_date = datetime.date(current_year, 4, 1)\n",
    "maintained_schools_year_end_date = datetime.date(current_year, 3, 31)"
   ],
   "metadata": {
    "collapsed": true,
    "ExecuteTime": {
     "end_time": "2024-03-28T17:20:53.078278Z",
     "start_time": "2024-03-28T17:20:53.074714Z"
    }
   },
   "id": "initial_id",
   "execution_count": 13
  },
  {
   "cell_type": "markdown",
   "source": [
    "## CDC data load and preparation\n",
    "\n",
    "School buildings condition dataset. Based on the surveys performed throughout 2018-2019.\n",
    "\n",
    "The data in the file `data/standing_data_cdc.csv` is just an export of the data in `standing_data.cdc` table. Without the Year and Import ID fields. In future this will likely have to be read directly from the source database as per [this document.](https://educationgovuk.sharepoint.com.mcas.ms/:w:/r/sites/VMFI/_layouts/15/Doc.aspx?sourcedoc=%7B38C1DC37-7CDB-48B8-9E22-284F4F311C0B%7D&file=1.%20Insights%20portal%20-%20data%20sources%20and%20sql%20analysis%20v010%20-%20Copy.docx&action=default&mobileredirect=true) "
   ],
   "metadata": {
    "collapsed": false
   },
   "id": "9e96380a5227c987"
  },
  {
   "cell_type": "code",
   "outputs": [],
   "source": [
    "cdc = pd.read_csv('data/standing_data_cdc.csv', encoding='utf8', index_col=schemas.cdc_index_col, usecols=schemas.cdc.keys(), dtype=schemas.cdc)\n",
    "\n",
    "cdc['Total Internal Floor Area'] = cdc.groupby(by=['URN'])['GIFA'].sum()\n",
    "cdc['Proportion Area'] = (cdc['GIFA'] / cdc['Total Internal Floor Area'])\n",
    "cdc['Indicative Age'] = cdc['Block Age'].fillna('').map(mappings.map_block_age).astype('Int64')\n",
    "cdc['Age Score'] = cdc['Proportion Area'] * (current_year - cdc['Indicative Age'])\n",
    "cdc['Score'] = cdc.groupby(by=['URN'])['Age Score'].sum()\n",
    "cdc = cdc[['Total Internal Floor Area', 'Score']].drop_duplicates()"
   ],
   "metadata": {
    "collapsed": false,
    "ExecuteTime": {
     "end_time": "2024-03-28T17:20:53.227944Z",
     "start_time": "2024-03-28T17:20:53.082752Z"
    }
   },
   "id": "6563c9b9647d7005",
   "execution_count": 14
  },
  {
   "cell_type": "code",
   "outputs": [
    {
     "data": {
      "text/plain": "        Total Internal Floor Area       Score\nURN                                          \n100150                     2803.0   48.358188\n100162                     2105.0  133.162945\n100164                     2934.0        97.0\n100166                     2040.0   91.705882\n105304                     1602.0   35.752809\n...                           ...         ...\n144913                     3111.0   16.704275\n144917                     2620.0   78.412214\n105623                     3382.0         7.0\n144918                     4733.0   19.009296\n144919                     1762.0   38.370602\n\n[21573 rows x 2 columns]",
      "text/html": "<div>\n<style scoped>\n    .dataframe tbody tr th:only-of-type {\n        vertical-align: middle;\n    }\n\n    .dataframe tbody tr th {\n        vertical-align: top;\n    }\n\n    .dataframe thead th {\n        text-align: right;\n    }\n</style>\n<table border=\"1\" class=\"dataframe\">\n  <thead>\n    <tr style=\"text-align: right;\">\n      <th></th>\n      <th>Total Internal Floor Area</th>\n      <th>Score</th>\n    </tr>\n    <tr>\n      <th>URN</th>\n      <th></th>\n      <th></th>\n    </tr>\n  </thead>\n  <tbody>\n    <tr>\n      <th>100150</th>\n      <td>2803.0</td>\n      <td>48.358188</td>\n    </tr>\n    <tr>\n      <th>100162</th>\n      <td>2105.0</td>\n      <td>133.162945</td>\n    </tr>\n    <tr>\n      <th>100164</th>\n      <td>2934.0</td>\n      <td>97.0</td>\n    </tr>\n    <tr>\n      <th>100166</th>\n      <td>2040.0</td>\n      <td>91.705882</td>\n    </tr>\n    <tr>\n      <th>105304</th>\n      <td>1602.0</td>\n      <td>35.752809</td>\n    </tr>\n    <tr>\n      <th>...</th>\n      <td>...</td>\n      <td>...</td>\n    </tr>\n    <tr>\n      <th>144913</th>\n      <td>3111.0</td>\n      <td>16.704275</td>\n    </tr>\n    <tr>\n      <th>144917</th>\n      <td>2620.0</td>\n      <td>78.412214</td>\n    </tr>\n    <tr>\n      <th>105623</th>\n      <td>3382.0</td>\n      <td>7.0</td>\n    </tr>\n    <tr>\n      <th>144918</th>\n      <td>4733.0</td>\n      <td>19.009296</td>\n    </tr>\n    <tr>\n      <th>144919</th>\n      <td>1762.0</td>\n      <td>38.370602</td>\n    </tr>\n  </tbody>\n</table>\n<p>21573 rows × 2 columns</p>\n</div>"
     },
     "execution_count": 15,
     "metadata": {},
     "output_type": "execute_result"
    }
   ],
   "source": [
    "cdc.to_csv('output/pre-processing/cdc.csv')\n",
    "cdc"
   ],
   "metadata": {
    "collapsed": false,
    "ExecuteTime": {
     "end_time": "2024-03-28T17:20:53.261567Z",
     "start_time": "2024-03-28T17:20:53.229221Z"
    }
   },
   "id": "57ab167f20fdbd03",
   "execution_count": 15
  },
  {
   "cell_type": "markdown",
   "source": [
    "## School Census data load\n",
    "\n",
    "*Pupil Census* - DfE data collection providing information about school and pupil characteristics, for example percentage of pupils claiming free school`z meals, or having English as their second language. \n",
    "\n",
    "*Workforce census* - Single reference for all school workforce statistics based on staff working in publicly funded schools in England.\n",
    "\n",
    "The following code loads both the workforce and pupil census data and preforms an `inner` join by URN on the data sets."
   ],
   "metadata": {
    "collapsed": false
   },
   "id": "25a30c5a4a9b466"
  },
  {
   "cell_type": "code",
   "outputs": [],
   "source": [
    "school_workforce_census = pd.read_excel('data/School_Tables_School_Workforce_Census_2022.xlsx', header=5, index_col=schemas.workforce_census_index_col, usecols=schemas.workforce_census.keys(), dtype=schemas.workforce_census, na_values=[\"x\",\"u\"], keep_default_na=True).drop_duplicates()\n",
    "\n",
    "school_pupil_census = pd.read_csv('data/standing_data_census_pupils.csv', encoding='utf8', index_col=schemas.pupil_census_index_col, usecols=schemas.pupil_census.keys(), dtype=schemas.pupil_census).drop_duplicates()\n",
    "\n",
    "census = school_pupil_census.join(school_workforce_census, on='URN', how='inner', rsuffix='_pupil', lsuffix='_workforce')\n",
    "         "
   ],
   "metadata": {
    "collapsed": false,
    "ExecuteTime": {
     "end_time": "2024-03-28T17:20:58.780856Z",
     "start_time": "2024-03-28T17:20:53.262460Z"
    }
   },
   "id": "20079a09f9200d0e",
   "execution_count": 16
  },
  {
   "cell_type": "code",
   "outputs": [
    {
     "data": {
      "text/plain": "        full time pupils  headcount of pupils  \\\nURN                                             \n141334             325.0                325.0   \n141396             599.0                642.0   \n141397             465.0                500.0   \n142223            1050.0               1117.0   \n144396             196.0                217.0   \n...                  ...                  ...   \n104642             421.0                421.0   \n104643             426.0                432.0   \n104645             237.0                237.0   \n104646             185.0                194.0   \n104648             170.0                186.0   \n\n        % of pupils known to be eligible for and claiming free school me  \\\nURN                                                                        \n141334                                               33.8                  \n141396                                               23.4                  \n141397                                               33.2                  \n142223                                                5.1                  \n144396                                               56.7                  \n...                                                   ...                  \n104642                                                2.4                  \n104643                                                3.5                  \n104645                                               32.9                  \n104646                                               29.9                  \n104648                                               44.1                  \n\n        number of pupils whose first language is known or believed to be other than English  \\\nURN                                                                                           \n141334                                               93.0                                     \n141396                                              236.0                                     \n141397                                              127.0                                     \n142223                                              343.0                                     \n144396                                               29.0                                     \n...                                                   ...                                     \n104642                                               14.0                                     \n104643                                               13.0                                     \n104645                                               43.0                                     \n104646                                               20.0                                     \n104648                                               96.0                                     \n\n        Total School Workforce (Full-Time Equivalent)  \\\nURN                                                     \n141334                                          34.17   \n141396                                          82.47   \n141397                                          72.81   \n142223                                          99.66   \n144396                                          25.57   \n...                                               ...   \n104642                                          34.47   \n104643                                          39.89   \n104645                                          26.47   \n104646                                          22.36   \n104648                                          22.01   \n\n        Total Number of Teachers (Full-Time Equivalent)  \\\nURN                                                       \n141334                                            13.11   \n141396                                            34.00   \n141397                                            24.55   \n142223                                            47.12   \n144396                                            11.39   \n...                                                 ...   \n104642                                            15.80   \n104643                                            17.40   \n104645                                            12.40   \n104646                                            12.00   \n104648                                             8.20   \n\n        Pupil: Teacher Ratio (Full-Time Equivalent of qualified and unqualified teachers)  \\\nURN                                                                                         \n141334                                               24.8                                   \n141396                                               18.3                                   \n141397                                               19.7                                   \n142223                                               23.0                                   \n144396                                               18.1                                   \n...                                                   ...                                   \n104642                                               26.6                                   \n104643                                               24.7                                   \n104645                                               19.1                                   \n104646                                               15.8                                   \n104648                                               21.7                                   \n\n        Number of Vacant Teacher Posts  \nURN                                     \n141334                             0.0  \n141396                             0.0  \n141397                             0.0  \n142223                             0.0  \n144396                             0.0  \n...                                ...  \n104642                             0.0  \n104643                             0.0  \n104645                             0.0  \n104646                             0.0  \n104648                             0.0  \n\n[21387 rows x 8 columns]",
      "text/html": "<div>\n<style scoped>\n    .dataframe tbody tr th:only-of-type {\n        vertical-align: middle;\n    }\n\n    .dataframe tbody tr th {\n        vertical-align: top;\n    }\n\n    .dataframe thead th {\n        text-align: right;\n    }\n</style>\n<table border=\"1\" class=\"dataframe\">\n  <thead>\n    <tr style=\"text-align: right;\">\n      <th></th>\n      <th>full time pupils</th>\n      <th>headcount of pupils</th>\n      <th>% of pupils known to be eligible for and claiming free school me</th>\n      <th>number of pupils whose first language is known or believed to be other than English</th>\n      <th>Total School Workforce (Full-Time Equivalent)</th>\n      <th>Total Number of Teachers (Full-Time Equivalent)</th>\n      <th>Pupil: Teacher Ratio (Full-Time Equivalent of qualified and unqualified teachers)</th>\n      <th>Number of Vacant Teacher Posts</th>\n    </tr>\n    <tr>\n      <th>URN</th>\n      <th></th>\n      <th></th>\n      <th></th>\n      <th></th>\n      <th></th>\n      <th></th>\n      <th></th>\n      <th></th>\n    </tr>\n  </thead>\n  <tbody>\n    <tr>\n      <th>141334</th>\n      <td>325.0</td>\n      <td>325.0</td>\n      <td>33.8</td>\n      <td>93.0</td>\n      <td>34.17</td>\n      <td>13.11</td>\n      <td>24.8</td>\n      <td>0.0</td>\n    </tr>\n    <tr>\n      <th>141396</th>\n      <td>599.0</td>\n      <td>642.0</td>\n      <td>23.4</td>\n      <td>236.0</td>\n      <td>82.47</td>\n      <td>34.00</td>\n      <td>18.3</td>\n      <td>0.0</td>\n    </tr>\n    <tr>\n      <th>141397</th>\n      <td>465.0</td>\n      <td>500.0</td>\n      <td>33.2</td>\n      <td>127.0</td>\n      <td>72.81</td>\n      <td>24.55</td>\n      <td>19.7</td>\n      <td>0.0</td>\n    </tr>\n    <tr>\n      <th>142223</th>\n      <td>1050.0</td>\n      <td>1117.0</td>\n      <td>5.1</td>\n      <td>343.0</td>\n      <td>99.66</td>\n      <td>47.12</td>\n      <td>23.0</td>\n      <td>0.0</td>\n    </tr>\n    <tr>\n      <th>144396</th>\n      <td>196.0</td>\n      <td>217.0</td>\n      <td>56.7</td>\n      <td>29.0</td>\n      <td>25.57</td>\n      <td>11.39</td>\n      <td>18.1</td>\n      <td>0.0</td>\n    </tr>\n    <tr>\n      <th>...</th>\n      <td>...</td>\n      <td>...</td>\n      <td>...</td>\n      <td>...</td>\n      <td>...</td>\n      <td>...</td>\n      <td>...</td>\n      <td>...</td>\n    </tr>\n    <tr>\n      <th>104642</th>\n      <td>421.0</td>\n      <td>421.0</td>\n      <td>2.4</td>\n      <td>14.0</td>\n      <td>34.47</td>\n      <td>15.80</td>\n      <td>26.6</td>\n      <td>0.0</td>\n    </tr>\n    <tr>\n      <th>104643</th>\n      <td>426.0</td>\n      <td>432.0</td>\n      <td>3.5</td>\n      <td>13.0</td>\n      <td>39.89</td>\n      <td>17.40</td>\n      <td>24.7</td>\n      <td>0.0</td>\n    </tr>\n    <tr>\n      <th>104645</th>\n      <td>237.0</td>\n      <td>237.0</td>\n      <td>32.9</td>\n      <td>43.0</td>\n      <td>26.47</td>\n      <td>12.40</td>\n      <td>19.1</td>\n      <td>0.0</td>\n    </tr>\n    <tr>\n      <th>104646</th>\n      <td>185.0</td>\n      <td>194.0</td>\n      <td>29.9</td>\n      <td>20.0</td>\n      <td>22.36</td>\n      <td>12.00</td>\n      <td>15.8</td>\n      <td>0.0</td>\n    </tr>\n    <tr>\n      <th>104648</th>\n      <td>170.0</td>\n      <td>186.0</td>\n      <td>44.1</td>\n      <td>96.0</td>\n      <td>22.01</td>\n      <td>8.20</td>\n      <td>21.7</td>\n      <td>0.0</td>\n    </tr>\n  </tbody>\n</table>\n<p>21387 rows × 8 columns</p>\n</div>"
     },
     "execution_count": 17,
     "metadata": {},
     "output_type": "execute_result"
    }
   ],
   "source": [
    "census.to_csv('output/pre-processing/census.csv')\n",
    "census"
   ],
   "metadata": {
    "collapsed": false,
    "ExecuteTime": {
     "end_time": "2024-03-28T17:20:58.846861Z",
     "start_time": "2024-03-28T17:20:58.782353Z"
    }
   },
   "id": "798d07eae73e8bba",
   "execution_count": 17
  },
  {
   "cell_type": "markdown",
   "source": [
    "## Special Education Needs (SEN) data load and preparation\n",
    "\n",
    "Special educational needs dataset. Contains information about the number of pupils, who require various SEN provisions. This loads the `SEN` data, which originates from [here](https://explore-education-statistics.service.gov.uk/find-statistics/special-educational-needs-in-england#dataDownloads-1)"
   ],
   "metadata": {
    "collapsed": false
   },
   "id": "eb83d7512643b7a1"
  },
  {
   "cell_type": "code",
   "outputs": [],
   "source": [
    "sen = pd.read_csv('data/SEN.csv', encoding='cp1252', index_col=schemas.sen_index_col, dtype=schemas.sen, usecols=schemas.sen.keys())\n",
    "sen['% of pupils with special educational needs support'] = (sen['EHC plan'] / sen['Total pupils']) * 100.0"
   ],
   "metadata": {
    "collapsed": false,
    "ExecuteTime": {
     "end_time": "2024-03-28T17:20:59.140151Z",
     "start_time": "2024-03-28T17:20:58.847475Z"
    }
   },
   "id": "1a164f2280c8e888",
   "execution_count": 18
  },
  {
   "cell_type": "code",
   "outputs": [
    {
     "data": {
      "text/plain": "        Total pupils  SEN support  EHC plan  EHC_Primary_need_spld  \\\nURN                                                                  \n100000           271           59         8                      0   \n100001           739           22         0                      0   \n100002           269           22         0                      0   \n100003          1045          145         0                      0   \n100005           136           23         2                      0   \n...              ...          ...       ...                    ...   \n149557            41            2         3                      1   \n149632          1291          136        58                      2   \n149633            86            7         0                      0   \n149635           654           30        10                      2   \n149636           186           76         8                      1   \n\n        EHC_Primary_need_mld  EHC_Primary_need_sld  EHC_Primary_need_pmld  \\\nURN                                                                         \n100000                     0                     0                      0   \n100001                     0                     0                      0   \n100002                     0                     0                      0   \n100003                     0                     0                      0   \n100005                     0                     0                      1   \n...                      ...                   ...                    ...   \n149557                     0                     0                      0   \n149632                     1                     0                      0   \n149633                     0                     0                      0   \n149635                     0                     0                      0   \n149636                     1                     0                      0   \n\n        EHC_Primary_need_semh  EHC_Primary_need_slcn  EHC_Primary_need_hi  \\\nURN                                                                         \n100000                      1                      1                    0   \n100001                      0                      0                    0   \n100002                      0                      0                    0   \n100003                      0                      0                    0   \n100005                      0                      0                    0   \n...                       ...                    ...                  ...   \n149557                      0                      0                    0   \n149632                      3                     15                    4   \n149633                      0                      0                    0   \n149635                      5                      1                    0   \n149636                      1                      4                    0   \n\n        ...  SUP_Primary_need_semh  SUP_Primary_need_slcn  \\\nURN     ...                                                 \n100000  ...                      8                     30   \n100001  ...                      0                      0   \n100002  ...                      0                      0   \n100003  ...                      0                      0   \n100005  ...                      0                      0   \n...     ...                    ...                    ...   \n149557  ...                      0                      1   \n149632  ...                     17                     10   \n149633  ...                      1                      1   \n149635  ...                      7                      1   \n149636  ...                     14                      9   \n\n        SUP_Primary_need_hi  SUP_Primary_need_vi  SUP_Primary_need_msi  \\\nURN                                                                      \n100000                    2                    0                     2   \n100001                    0                    0                     0   \n100002                    0                    0                     0   \n100003                    0                    0                     0   \n100005                    0                    0                     0   \n...                     ...                  ...                   ...   \n149557                    0                    0                     0   \n149632                    4                    2                     1   \n149633                    0                    0                     0   \n149635                    2                    1                     0   \n149636                    0                    0                     0   \n\n        SUP_Primary_need_pd  SUP_Primary_need_asd  SUP_Primary_need_oth  \\\nURN                                                                       \n100000                    0                     4                     0   \n100001                    0                     0                     0   \n100002                    0                     0                     0   \n100003                    0                     0                     0   \n100005                    1                    21                     1   \n...                     ...                   ...                   ...   \n149557                    0                     0                     0   \n149632                    3                     6                    16   \n149633                    0                     1                     1   \n149635                    0                     1                     4   \n149636                    0                     2                    27   \n\n        SUP_Primary_need_nsa  \\\nURN                            \n100000                     7   \n100001                     0   \n100002                     0   \n100003                     0   \n100005                     0   \n...                      ...   \n149557                     0   \n149632                    34   \n149633                     0   \n149635                     0   \n149636                     0   \n\n        % of pupils with special educational needs support  \nURN                                                         \n100000                                            2.95203   \n100001                                                0.0   \n100002                                                0.0   \n100003                                                0.0   \n100005                                           1.470588   \n...                                                   ...   \n149557                                           7.317073   \n149632                                           4.492641   \n149633                                                0.0   \n149635                                           1.529052   \n149636                                           4.301075   \n\n[24442 rows x 30 columns]",
      "text/html": "<div>\n<style scoped>\n    .dataframe tbody tr th:only-of-type {\n        vertical-align: middle;\n    }\n\n    .dataframe tbody tr th {\n        vertical-align: top;\n    }\n\n    .dataframe thead th {\n        text-align: right;\n    }\n</style>\n<table border=\"1\" class=\"dataframe\">\n  <thead>\n    <tr style=\"text-align: right;\">\n      <th></th>\n      <th>Total pupils</th>\n      <th>SEN support</th>\n      <th>EHC plan</th>\n      <th>EHC_Primary_need_spld</th>\n      <th>EHC_Primary_need_mld</th>\n      <th>EHC_Primary_need_sld</th>\n      <th>EHC_Primary_need_pmld</th>\n      <th>EHC_Primary_need_semh</th>\n      <th>EHC_Primary_need_slcn</th>\n      <th>EHC_Primary_need_hi</th>\n      <th>...</th>\n      <th>SUP_Primary_need_semh</th>\n      <th>SUP_Primary_need_slcn</th>\n      <th>SUP_Primary_need_hi</th>\n      <th>SUP_Primary_need_vi</th>\n      <th>SUP_Primary_need_msi</th>\n      <th>SUP_Primary_need_pd</th>\n      <th>SUP_Primary_need_asd</th>\n      <th>SUP_Primary_need_oth</th>\n      <th>SUP_Primary_need_nsa</th>\n      <th>% of pupils with special educational needs support</th>\n    </tr>\n    <tr>\n      <th>URN</th>\n      <th></th>\n      <th></th>\n      <th></th>\n      <th></th>\n      <th></th>\n      <th></th>\n      <th></th>\n      <th></th>\n      <th></th>\n      <th></th>\n      <th></th>\n      <th></th>\n      <th></th>\n      <th></th>\n      <th></th>\n      <th></th>\n      <th></th>\n      <th></th>\n      <th></th>\n      <th></th>\n      <th></th>\n    </tr>\n  </thead>\n  <tbody>\n    <tr>\n      <th>100000</th>\n      <td>271</td>\n      <td>59</td>\n      <td>8</td>\n      <td>0</td>\n      <td>0</td>\n      <td>0</td>\n      <td>0</td>\n      <td>1</td>\n      <td>1</td>\n      <td>0</td>\n      <td>...</td>\n      <td>8</td>\n      <td>30</td>\n      <td>2</td>\n      <td>0</td>\n      <td>2</td>\n      <td>0</td>\n      <td>4</td>\n      <td>0</td>\n      <td>7</td>\n      <td>2.95203</td>\n    </tr>\n    <tr>\n      <th>100001</th>\n      <td>739</td>\n      <td>22</td>\n      <td>0</td>\n      <td>0</td>\n      <td>0</td>\n      <td>0</td>\n      <td>0</td>\n      <td>0</td>\n      <td>0</td>\n      <td>0</td>\n      <td>...</td>\n      <td>0</td>\n      <td>0</td>\n      <td>0</td>\n      <td>0</td>\n      <td>0</td>\n      <td>0</td>\n      <td>0</td>\n      <td>0</td>\n      <td>0</td>\n      <td>0.0</td>\n    </tr>\n    <tr>\n      <th>100002</th>\n      <td>269</td>\n      <td>22</td>\n      <td>0</td>\n      <td>0</td>\n      <td>0</td>\n      <td>0</td>\n      <td>0</td>\n      <td>0</td>\n      <td>0</td>\n      <td>0</td>\n      <td>...</td>\n      <td>0</td>\n      <td>0</td>\n      <td>0</td>\n      <td>0</td>\n      <td>0</td>\n      <td>0</td>\n      <td>0</td>\n      <td>0</td>\n      <td>0</td>\n      <td>0.0</td>\n    </tr>\n    <tr>\n      <th>100003</th>\n      <td>1045</td>\n      <td>145</td>\n      <td>0</td>\n      <td>0</td>\n      <td>0</td>\n      <td>0</td>\n      <td>0</td>\n      <td>0</td>\n      <td>0</td>\n      <td>0</td>\n      <td>...</td>\n      <td>0</td>\n      <td>0</td>\n      <td>0</td>\n      <td>0</td>\n      <td>0</td>\n      <td>0</td>\n      <td>0</td>\n      <td>0</td>\n      <td>0</td>\n      <td>0.0</td>\n    </tr>\n    <tr>\n      <th>100005</th>\n      <td>136</td>\n      <td>23</td>\n      <td>2</td>\n      <td>0</td>\n      <td>0</td>\n      <td>0</td>\n      <td>1</td>\n      <td>0</td>\n      <td>0</td>\n      <td>0</td>\n      <td>...</td>\n      <td>0</td>\n      <td>0</td>\n      <td>0</td>\n      <td>0</td>\n      <td>0</td>\n      <td>1</td>\n      <td>21</td>\n      <td>1</td>\n      <td>0</td>\n      <td>1.470588</td>\n    </tr>\n    <tr>\n      <th>...</th>\n      <td>...</td>\n      <td>...</td>\n      <td>...</td>\n      <td>...</td>\n      <td>...</td>\n      <td>...</td>\n      <td>...</td>\n      <td>...</td>\n      <td>...</td>\n      <td>...</td>\n      <td>...</td>\n      <td>...</td>\n      <td>...</td>\n      <td>...</td>\n      <td>...</td>\n      <td>...</td>\n      <td>...</td>\n      <td>...</td>\n      <td>...</td>\n      <td>...</td>\n      <td>...</td>\n    </tr>\n    <tr>\n      <th>149557</th>\n      <td>41</td>\n      <td>2</td>\n      <td>3</td>\n      <td>1</td>\n      <td>0</td>\n      <td>0</td>\n      <td>0</td>\n      <td>0</td>\n      <td>0</td>\n      <td>0</td>\n      <td>...</td>\n      <td>0</td>\n      <td>1</td>\n      <td>0</td>\n      <td>0</td>\n      <td>0</td>\n      <td>0</td>\n      <td>0</td>\n      <td>0</td>\n      <td>0</td>\n      <td>7.317073</td>\n    </tr>\n    <tr>\n      <th>149632</th>\n      <td>1291</td>\n      <td>136</td>\n      <td>58</td>\n      <td>2</td>\n      <td>1</td>\n      <td>0</td>\n      <td>0</td>\n      <td>3</td>\n      <td>15</td>\n      <td>4</td>\n      <td>...</td>\n      <td>17</td>\n      <td>10</td>\n      <td>4</td>\n      <td>2</td>\n      <td>1</td>\n      <td>3</td>\n      <td>6</td>\n      <td>16</td>\n      <td>34</td>\n      <td>4.492641</td>\n    </tr>\n    <tr>\n      <th>149633</th>\n      <td>86</td>\n      <td>7</td>\n      <td>0</td>\n      <td>0</td>\n      <td>0</td>\n      <td>0</td>\n      <td>0</td>\n      <td>0</td>\n      <td>0</td>\n      <td>0</td>\n      <td>...</td>\n      <td>1</td>\n      <td>1</td>\n      <td>0</td>\n      <td>0</td>\n      <td>0</td>\n      <td>0</td>\n      <td>1</td>\n      <td>1</td>\n      <td>0</td>\n      <td>0.0</td>\n    </tr>\n    <tr>\n      <th>149635</th>\n      <td>654</td>\n      <td>30</td>\n      <td>10</td>\n      <td>2</td>\n      <td>0</td>\n      <td>0</td>\n      <td>0</td>\n      <td>5</td>\n      <td>1</td>\n      <td>0</td>\n      <td>...</td>\n      <td>7</td>\n      <td>1</td>\n      <td>2</td>\n      <td>1</td>\n      <td>0</td>\n      <td>0</td>\n      <td>1</td>\n      <td>4</td>\n      <td>0</td>\n      <td>1.529052</td>\n    </tr>\n    <tr>\n      <th>149636</th>\n      <td>186</td>\n      <td>76</td>\n      <td>8</td>\n      <td>1</td>\n      <td>1</td>\n      <td>0</td>\n      <td>0</td>\n      <td>1</td>\n      <td>4</td>\n      <td>0</td>\n      <td>...</td>\n      <td>14</td>\n      <td>9</td>\n      <td>0</td>\n      <td>0</td>\n      <td>0</td>\n      <td>0</td>\n      <td>2</td>\n      <td>27</td>\n      <td>0</td>\n      <td>4.301075</td>\n    </tr>\n  </tbody>\n</table>\n<p>24442 rows × 30 columns</p>\n</div>"
     },
     "execution_count": 19,
     "metadata": {},
     "output_type": "execute_result"
    }
   ],
   "source": [
    "sen.to_csv(\"output/pre-processing/sen.csv\")\n",
    "sen"
   ],
   "metadata": {
    "collapsed": false,
    "ExecuteTime": {
     "end_time": "2024-03-28T17:20:59.244495Z",
     "start_time": "2024-03-28T17:20:59.140801Z"
    }
   },
   "id": "62cfde44fd23bbb1",
   "execution_count": 19
  },
  {
   "cell_type": "markdown",
   "source": [
    "## AR Data load and preparation\n",
    "\n",
    "This loads the Annual accounts return dataset and the corresponding mapping file. This extract only contains benchmarking section, which consists of submissions of costs, income, and balances of individual academies.\n",
    "\n",
    "The mapping file, contains the mapping from AR4 cell references to cost categories and descriptions."
   ],
   "metadata": {
    "collapsed": false
   },
   "id": "5c3570cf02009cb5"
  },
  {
   "cell_type": "code",
   "outputs": [],
   "source": [
    "ar_cell_mapping = pd.read_csv('data/AR_cell_mapping.csv', encoding='utf8', index_col=schemas.ar_cell_mapping_index_col, usecols=schemas.ar_cell_mapping.keys(), dtype=schemas.ar_cell_mapping)\n",
    "\n",
    "ar_raw = pd.read_csv('data/AR_raw.csv', encoding='utf8', index_col=schemas.ar_index_col, usecols=schemas.ar.keys(), dtype=schemas.ar)\n",
    "\n",
    "ar = ar_raw.reset_index().merge(ar_cell_mapping, right_on='cell', left_on='aruniquereference').set_index(schemas.ar_index_col)\n",
    "\n",
    "pfi_schools = ar.groupby('academyupin')[ar['aruniquereference' == 'BAE310-T']]"
   ],
   "metadata": {
    "collapsed": false,
    "ExecuteTime": {
     "end_time": "2024-03-28T17:20:59.929093Z",
     "start_time": "2024-03-28T17:20:59.245063Z"
    }
   },
   "id": "2f6a04d7dc922f02",
   "execution_count": 20
  },
  {
   "cell_type": "code",
   "outputs": [
    {
     "data": {
      "text/plain": "             trustupin  companynumber aruniquereference   value  \\\nacademyupin                                                       \n141615          137302        8212263          BAE010-T   603.0   \n141615          137302        8212263          BAE020-T     0.0   \n141615          137302        8212263          BAE030-T   273.0   \n141615          137302        8212263          BAE040-T    49.0   \n141615          137302        8212263          BAE050-T    41.0   \n...                ...            ...               ...     ...   \n<NA>            136943        7973953            BTI110     0.0   \n<NA>            136943        7973953            BTB030     0.0   \n<NA>            137730        8476149            BTITOT  2455.0   \n<NA>            137730        8476149            BTI110     0.0   \n<NA>            137730        8476149            BTB030   385.0   \n\n                    Description L1  \\\nacademyupin                          \n141615                 Staff costs   \n141615                 Staff costs   \n141615                 Staff costs   \n141615                 Staff costs   \n141615                 Staff costs   \n...                            ...   \n<NA>         Self-generated income   \n<NA>               Closing balance   \n<NA>          Total revenue income   \n<NA>         Self-generated income   \n<NA>               Closing balance   \n\n                                                        Metric  Metric ID  \\\nacademyupin                                                                 \n141615                                          Teaching staff          1   \n141615                                   Supply teaching staff          5   \n141615                                 Education support staff          2   \n141615                       Administrative and clerical staff          6   \n141615                                          Premises staff         14   \n...                                                        ...        ...   \n<NA>                                      Income from catering         33   \n<NA>         Closing balance (Restricted and Unrestricted F...          0   \n<NA>                                      Total revenue income          0   \n<NA>                                      Income from catering         33   \n<NA>         Closing balance (Restricted and Unrestricted F...          0   \n\n                                       Cost Pool  \\\nacademyupin                                        \n141615       Teaching and Teaching support staff   \n141615       Teaching and Teaching support staff   \n141615       Teaching and Teaching support staff   \n141615             Non-educational support staff   \n141615                                  Premises   \n...                                          ...   \n<NA>                                    Catering   \n<NA>                                        <NA>   \n<NA>                                        <NA>   \n<NA>                                    Catering   \n<NA>                                        <NA>   \n\n                               Presentation name  Cost Pool ID  \nacademyupin                                                     \n141615       Teaching and Teaching support staff             1  \n141615       Teaching and Teaching support staff             1  \n141615       Teaching and Teaching support staff             1  \n141615             Non-educational support staff             2  \n141615                                  Premises             5  \n...                                          ...           ...  \n<NA>                             Catering income            10  \n<NA>                                        <NA>             0  \n<NA>                                        <NA>             0  \n<NA>                             Catering income            10  \n<NA>                                        <NA>             0  \n\n[401383 rows x 10 columns]",
      "text/html": "<div>\n<style scoped>\n    .dataframe tbody tr th:only-of-type {\n        vertical-align: middle;\n    }\n\n    .dataframe tbody tr th {\n        vertical-align: top;\n    }\n\n    .dataframe thead th {\n        text-align: right;\n    }\n</style>\n<table border=\"1\" class=\"dataframe\">\n  <thead>\n    <tr style=\"text-align: right;\">\n      <th></th>\n      <th>trustupin</th>\n      <th>companynumber</th>\n      <th>aruniquereference</th>\n      <th>value</th>\n      <th>Description L1</th>\n      <th>Metric</th>\n      <th>Metric ID</th>\n      <th>Cost Pool</th>\n      <th>Presentation name</th>\n      <th>Cost Pool ID</th>\n    </tr>\n    <tr>\n      <th>academyupin</th>\n      <th></th>\n      <th></th>\n      <th></th>\n      <th></th>\n      <th></th>\n      <th></th>\n      <th></th>\n      <th></th>\n      <th></th>\n      <th></th>\n    </tr>\n  </thead>\n  <tbody>\n    <tr>\n      <th>141615</th>\n      <td>137302</td>\n      <td>8212263</td>\n      <td>BAE010-T</td>\n      <td>603.0</td>\n      <td>Staff costs</td>\n      <td>Teaching staff</td>\n      <td>1</td>\n      <td>Teaching and Teaching support staff</td>\n      <td>Teaching and Teaching support staff</td>\n      <td>1</td>\n    </tr>\n    <tr>\n      <th>141615</th>\n      <td>137302</td>\n      <td>8212263</td>\n      <td>BAE020-T</td>\n      <td>0.0</td>\n      <td>Staff costs</td>\n      <td>Supply teaching staff</td>\n      <td>5</td>\n      <td>Teaching and Teaching support staff</td>\n      <td>Teaching and Teaching support staff</td>\n      <td>1</td>\n    </tr>\n    <tr>\n      <th>141615</th>\n      <td>137302</td>\n      <td>8212263</td>\n      <td>BAE030-T</td>\n      <td>273.0</td>\n      <td>Staff costs</td>\n      <td>Education support staff</td>\n      <td>2</td>\n      <td>Teaching and Teaching support staff</td>\n      <td>Teaching and Teaching support staff</td>\n      <td>1</td>\n    </tr>\n    <tr>\n      <th>141615</th>\n      <td>137302</td>\n      <td>8212263</td>\n      <td>BAE040-T</td>\n      <td>49.0</td>\n      <td>Staff costs</td>\n      <td>Administrative and clerical staff</td>\n      <td>6</td>\n      <td>Non-educational support staff</td>\n      <td>Non-educational support staff</td>\n      <td>2</td>\n    </tr>\n    <tr>\n      <th>141615</th>\n      <td>137302</td>\n      <td>8212263</td>\n      <td>BAE050-T</td>\n      <td>41.0</td>\n      <td>Staff costs</td>\n      <td>Premises staff</td>\n      <td>14</td>\n      <td>Premises</td>\n      <td>Premises</td>\n      <td>5</td>\n    </tr>\n    <tr>\n      <th>...</th>\n      <td>...</td>\n      <td>...</td>\n      <td>...</td>\n      <td>...</td>\n      <td>...</td>\n      <td>...</td>\n      <td>...</td>\n      <td>...</td>\n      <td>...</td>\n      <td>...</td>\n    </tr>\n    <tr>\n      <th>&lt;NA&gt;</th>\n      <td>136943</td>\n      <td>7973953</td>\n      <td>BTI110</td>\n      <td>0.0</td>\n      <td>Self-generated income</td>\n      <td>Income from catering</td>\n      <td>33</td>\n      <td>Catering</td>\n      <td>Catering income</td>\n      <td>10</td>\n    </tr>\n    <tr>\n      <th>&lt;NA&gt;</th>\n      <td>136943</td>\n      <td>7973953</td>\n      <td>BTB030</td>\n      <td>0.0</td>\n      <td>Closing balance</td>\n      <td>Closing balance (Restricted and Unrestricted F...</td>\n      <td>0</td>\n      <td>&lt;NA&gt;</td>\n      <td>&lt;NA&gt;</td>\n      <td>0</td>\n    </tr>\n    <tr>\n      <th>&lt;NA&gt;</th>\n      <td>137730</td>\n      <td>8476149</td>\n      <td>BTITOT</td>\n      <td>2455.0</td>\n      <td>Total revenue income</td>\n      <td>Total revenue income</td>\n      <td>0</td>\n      <td>&lt;NA&gt;</td>\n      <td>&lt;NA&gt;</td>\n      <td>0</td>\n    </tr>\n    <tr>\n      <th>&lt;NA&gt;</th>\n      <td>137730</td>\n      <td>8476149</td>\n      <td>BTI110</td>\n      <td>0.0</td>\n      <td>Self-generated income</td>\n      <td>Income from catering</td>\n      <td>33</td>\n      <td>Catering</td>\n      <td>Catering income</td>\n      <td>10</td>\n    </tr>\n    <tr>\n      <th>&lt;NA&gt;</th>\n      <td>137730</td>\n      <td>8476149</td>\n      <td>BTB030</td>\n      <td>385.0</td>\n      <td>Closing balance</td>\n      <td>Closing balance (Restricted and Unrestricted F...</td>\n      <td>0</td>\n      <td>&lt;NA&gt;</td>\n      <td>&lt;NA&gt;</td>\n      <td>0</td>\n    </tr>\n  </tbody>\n</table>\n<p>401383 rows × 10 columns</p>\n</div>"
     },
     "execution_count": 32,
     "metadata": {},
     "output_type": "execute_result"
    }
   ],
   "source": [
    "ar.to_csv('output/pre-processing/ar.csv')\n",
    "ar"
   ],
   "metadata": {
    "collapsed": false,
    "ExecuteTime": {
     "end_time": "2024-03-28T17:44:38.552492Z",
     "start_time": "2024-03-28T17:44:37.444521Z"
    }
   },
   "id": "a7aa06db2e9b4b4b",
   "execution_count": 32
  },
  {
   "cell_type": "code",
   "outputs": [
    {
     "data": {
      "text/plain": "             value\nacademyupin       \n141615       False\n151709       False\n121200       False\n121205       False\n121209       False\n...            ...\n119734       False\n119784       False\n163823       False\n163824       False\n120540       False\n\n[10075 rows x 1 columns]",
      "text/html": "<div>\n<style scoped>\n    .dataframe tbody tr th:only-of-type {\n        vertical-align: middle;\n    }\n\n    .dataframe tbody tr th {\n        vertical-align: top;\n    }\n\n    .dataframe thead th {\n        text-align: right;\n    }\n</style>\n<table border=\"1\" class=\"dataframe\">\n  <thead>\n    <tr style=\"text-align: right;\">\n      <th></th>\n      <th>value</th>\n    </tr>\n    <tr>\n      <th>academyupin</th>\n      <th></th>\n    </tr>\n  </thead>\n  <tbody>\n    <tr>\n      <th>141615</th>\n      <td>False</td>\n    </tr>\n    <tr>\n      <th>151709</th>\n      <td>False</td>\n    </tr>\n    <tr>\n      <th>121200</th>\n      <td>False</td>\n    </tr>\n    <tr>\n      <th>121205</th>\n      <td>False</td>\n    </tr>\n    <tr>\n      <th>121209</th>\n      <td>False</td>\n    </tr>\n    <tr>\n      <th>...</th>\n      <td>...</td>\n    </tr>\n    <tr>\n      <th>119734</th>\n      <td>False</td>\n    </tr>\n    <tr>\n      <th>119784</th>\n      <td>False</td>\n    </tr>\n    <tr>\n      <th>163823</th>\n      <td>False</td>\n    </tr>\n    <tr>\n      <th>163824</th>\n      <td>False</td>\n    </tr>\n    <tr>\n      <th>120540</th>\n      <td>False</td>\n    </tr>\n  </tbody>\n</table>\n<p>10075 rows × 1 columns</p>\n</div>"
     },
     "execution_count": 46,
     "metadata": {},
     "output_type": "execute_result"
    }
   ],
   "source": [
    "pfi_schools = ar[ar['aruniquereference'] == 'BAE310-T'][['value']].map(lambda x: x > 0)\n",
    "pfi_schools"
   ],
   "metadata": {
    "collapsed": false,
    "ExecuteTime": {
     "end_time": "2024-03-28T17:50:56.522975Z",
     "start_time": "2024-03-28T17:50:56.442816Z"
    }
   },
   "id": "1712e97bc61aff47",
   "execution_count": 46
  },
  {
   "cell_type": "markdown",
   "source": [
    "## Academy and maintained schools data load and preparation\n",
    "\n",
    "This reads the main GIAS data (edubasealldataYYYYMMDD file) and the associated links file (links_edubasealldataYYYYMMDD file). This is taken from the [GIAS Service](https://get-information-schools.service.gov.uk/help)\n",
    "\n",
    "Other columns are tidied up by asserting the correct type for that column. This is tidying phase is largly because on load integer columns will be inferred to be a float as opposed to an integer."
   ],
   "metadata": {
    "collapsed": false
   },
   "id": "77b541a3aa8441b1"
  },
  {
   "cell_type": "code",
   "outputs": [],
   "source": [
    "gias = pd.read_csv('data/edubasealldata20240312.csv', encoding='cp1252', \n",
    "                   index_col=schemas.gias_index_col, usecols=schemas.gias.keys(), dtype=schemas.gias)\n",
    "\n",
    "gias_links = pd.read_csv('data/links_edubasealldata20240312.csv', encoding='cp1252', \n",
    "                         index_col=schemas.gias_links_index_col, usecols=schemas.gias_links.keys(), dtype=schemas.gias_links)\n",
    "\n",
    "# GIAS transformations\n",
    "gias['LA Establishment Number'] = gias['LA (code)'] + '-' + gias['EstablishmentNumber'].astype('string')\n",
    "gias['LA Establishment Number'] = gias['LA Establishment Number'].astype('string')\n",
    "\n",
    "gias['OpenDate'] = pd.to_datetime(gias['OpenDate'], dayfirst=True, format='mixed')\n",
    "gias['CloseDate'] = pd.to_datetime(gias['CloseDate'], dayfirst=True, format='mixed')\n",
    "gias['SchoolWebsite'] = gias['SchoolWebsite'].fillna('').map(mappings.map_school_website)\n",
    "gias['Boarders (name)'] = gias['Boarders (name)'].fillna('').map(mappings.map_boarders)\n",
    "gias['OfstedRating (name)'] = gias['OfstedRating (name)'].fillna('').map(mappings.map_ofsted_rating)\n",
    "gias['NurseryProvision (name)'] = gias['NurseryProvision (name)'].fillna('')\n",
    "gias['OfficialSixthForm (name)'] = gias['OfficialSixthForm (name)'].fillna('').map(mappings.map_sixth_form)\n",
    "gias['AdmissionsPolicy (name)'] = gias['AdmissionsPolicy (name)'].fillna('').map(mappings.map_admission_policy)\n",
    "gias['Head Name'] = gias['HeadTitle (name)'] + ' ' + gias['HeadFirstName'] + ' ' + gias['HeadLastName']"
   ],
   "metadata": {
    "collapsed": false,
    "ExecuteTime": {
     "end_time": "2024-03-28T17:21:01.952350Z",
     "start_time": "2024-03-28T17:21:01.011682Z"
    }
   },
   "id": "417b28e64cbeba74",
   "execution_count": 22
  },
  {
   "cell_type": "markdown",
   "source": [
    "In the following cell, we find all the predecessor and merged links. The links are then Ranked by URN and order by 'Link Established Date'. The linked GAIS data in then joined to the base GIAS data. This creates the overall school data set. This dataset is then filtered for schools that are open (CloseDate is null) and the schools with nested links that are Ranked 1."
   ],
   "metadata": {
    "collapsed": false
   },
   "id": "6f4053faf34e419b"
  },
  {
   "cell_type": "code",
   "outputs": [],
   "source": [
    "gias_links = gias_links[\n",
    "    gias_links['LinkType'].isin(['Predecessor', \n",
    "                                 'Predecessor - amalgamated', \n",
    "                                 'Predecessor - Split School', \n",
    "                                 'Predecessor - merged', \n",
    "                                 'Merged - expansion of school capacity', \n",
    "                                 'Merged - change in age range'])\n",
    "].sort_values(by='LinkEstablishedDate', ascending=False)\n",
    "\n",
    "gias_links['Rank'] = gias_links.groupby('URN').cumcount() + 1\n",
    "gias_links['Rank'] = gias_links['Rank'].astype('Int64')\n",
    "\n",
    "schools = gias.join(gias_links, on='URN', how='left', rsuffix='_links', lsuffix='_school').sort_values(by='URN')\n",
    "\n",
    "schools = schools[\n",
    "    schools['CloseDate'].isna() & ((schools['Rank'] == 1) | (schools['Rank'].isna()))\n",
    "].drop(columns=['LinkURN', 'LinkName', 'LinkType', 'LinkEstablishedDate', 'Rank'])"
   ],
   "metadata": {
    "collapsed": false,
    "ExecuteTime": {
     "end_time": "2024-03-28T17:21:02.116729Z",
     "start_time": "2024-03-28T17:21:01.954361Z"
    }
   },
   "id": "57fc7486e4bef946",
   "execution_count": 23
  },
  {
   "cell_type": "code",
   "outputs": [
    {
     "data": {
      "text/plain": "       LA (code)       LA (name)  EstablishmentNumber  \\\nURN                                                     \n100000       201  City of London                 3614   \n100001       201  City of London                 6005   \n100002       201  City of London                 6006   \n100003       201  City of London                 6007   \n100005       202          Camden                 1048   \n...          ...             ...                  ...   \n402468       679   Monmouthshire                 5500   \n402469       681         Cardiff                 2333   \n402470       668   Pembrokeshire                 2398   \n402471       679   Monmouthshire                 2325   \n402472       666           Powys                 2156   \n\n                      EstablishmentName  TypeOfEstablishment (code)  \\\nURN                                                                   \n100000               The Aldgate School                           2   \n100001  City of London School for Girls                          11   \n100002       St Paul's Cathedral School                          11   \n100003            City of London School                          11   \n100005              Thomas Coram Centre                          15   \n...                                 ...                         ...   \n402468      King Henry viii 3-19 School                          30   \n402469  Ysgol Gynradd Groes-Wen Primary                          30   \n402470                 Ysgol Bro Penfro                          30   \n402471           Ysgol Gymraeg Trefynwy                          30   \n402472            Ysgol Golwg Pen y Fan                          30   \n\n            TypeOfEstablishment (name)  EstablishmentStatus (code)  \\\nURN                                                                  \n100000          Voluntary aided school                           1   \n100001        Other independent school                           1   \n100002        Other independent school                           1   \n100003        Other independent school                           1   \n100005  Local authority nursery school                           1   \n...                                ...                         ...   \n402468             Welsh establishment                           1   \n402469             Welsh establishment                           1   \n402470             Welsh establishment                           4   \n402471             Welsh establishment                           4   \n402472             Welsh establishment                           4   \n\n       EstablishmentStatus (name)   OpenDate CloseDate  ...  \\\nURN                                                     ...   \n100000                       Open        NaT       NaT  ...   \n100001                       Open 1920-01-01       NaT  ...   \n100002                       Open 1939-01-01       NaT  ...   \n100003                       Open 1919-01-01       NaT  ...   \n100005                       Open        NaT       NaT  ...   \n...                           ...        ...       ...  ...   \n402468                       Open 2023-09-01       NaT  ...   \n402469                       Open 2023-09-01       NaT  ...   \n402470           Proposed to open 2024-09-01       NaT  ...   \n402471           Proposed to open 2024-09-01       NaT  ...   \n402472           Proposed to open 2024-09-01       NaT  ...   \n\n                                        UrbanRural (name)  \\\nURN                                                         \n100000            (England/Wales) Urban major conurbation   \n100001            (England/Wales) Urban major conurbation   \n100002            (England/Wales) Urban major conurbation   \n100003            (England/Wales) Urban major conurbation   \n100005            (England/Wales) Urban major conurbation   \n...                                                   ...   \n402468                                               <NA>   \n402469                      (England/Wales) Rural village   \n402470              (England/Wales) Rural town and fringe   \n402471                (England/Wales) Urban city and town   \n402472  (England/Wales) Rural town and fringe in a spa...   \n\n       BoardingEstablishment (name)  PreviousLA (code) PreviousLA (name)  \\\nURN                                                                        \n100000                         <NA>                999              <NA>   \n100001       Does not have boarders                999              <NA>   \n100002                 Has boarders                999              <NA>   \n100003       Does not have boarders                999              <NA>   \n100005                         <NA>                999              <NA>   \n...                             ...                ...               ...   \n402468                         <NA>                999              <NA>   \n402469                         <NA>                999              <NA>   \n402470                         <NA>                999              <NA>   \n402471                         <NA>                999              <NA>   \n402472                         <NA>                999              <NA>   \n\n       PreviousEstablishmentNumber  OfstedRating (name) MSOA (code)  \\\nURN                                                                   \n100000                        <NA>          Outstanding   E02000001   \n100001                        <NA>                        E02000001   \n100002                        <NA>                        E02000001   \n100003                        <NA>                        E02000001   \n100005                        <NA>          Outstanding   E02007115   \n...                            ...                  ...         ...   \n402468                        <NA>                        999999999   \n402469                        <NA>                        W02000380   \n402470                        <NA>                        W02000140   \n402471                        <NA>                        W02000339   \n402472                        <NA>                        W02000113   \n\n        LSOA (code) LA Establishment Number             Head Name  \nURN                                                                \n100000    E01032739                201-3614  Miss Alexandra Allan  \n100001    E01000002                201-6005       Mrs Jenny Brown  \n100002    E01032739                201-6006                  <NA>  \n100003    E01032739                201-6007          Mr Alan Bird  \n100005    E01000937                202-1048     Ms Perina Holness  \n...             ...                     ...                   ...  \n402468    999999999                679-5500                  <NA>  \n402469    W01001729                681-2333                  <NA>  \n402470    W01000607                668-2398                  <NA>  \n402471    W01001978                679-2325                  <NA>  \n402472    W01000492                666-2156       Mrs Sarah Court  \n\n[27407 rows x 47 columns]",
      "text/html": "<div>\n<style scoped>\n    .dataframe tbody tr th:only-of-type {\n        vertical-align: middle;\n    }\n\n    .dataframe tbody tr th {\n        vertical-align: top;\n    }\n\n    .dataframe thead th {\n        text-align: right;\n    }\n</style>\n<table border=\"1\" class=\"dataframe\">\n  <thead>\n    <tr style=\"text-align: right;\">\n      <th></th>\n      <th>LA (code)</th>\n      <th>LA (name)</th>\n      <th>EstablishmentNumber</th>\n      <th>EstablishmentName</th>\n      <th>TypeOfEstablishment (code)</th>\n      <th>TypeOfEstablishment (name)</th>\n      <th>EstablishmentStatus (code)</th>\n      <th>EstablishmentStatus (name)</th>\n      <th>OpenDate</th>\n      <th>CloseDate</th>\n      <th>...</th>\n      <th>UrbanRural (name)</th>\n      <th>BoardingEstablishment (name)</th>\n      <th>PreviousLA (code)</th>\n      <th>PreviousLA (name)</th>\n      <th>PreviousEstablishmentNumber</th>\n      <th>OfstedRating (name)</th>\n      <th>MSOA (code)</th>\n      <th>LSOA (code)</th>\n      <th>LA Establishment Number</th>\n      <th>Head Name</th>\n    </tr>\n    <tr>\n      <th>URN</th>\n      <th></th>\n      <th></th>\n      <th></th>\n      <th></th>\n      <th></th>\n      <th></th>\n      <th></th>\n      <th></th>\n      <th></th>\n      <th></th>\n      <th></th>\n      <th></th>\n      <th></th>\n      <th></th>\n      <th></th>\n      <th></th>\n      <th></th>\n      <th></th>\n      <th></th>\n      <th></th>\n      <th></th>\n    </tr>\n  </thead>\n  <tbody>\n    <tr>\n      <th>100000</th>\n      <td>201</td>\n      <td>City of London</td>\n      <td>3614</td>\n      <td>The Aldgate School</td>\n      <td>2</td>\n      <td>Voluntary aided school</td>\n      <td>1</td>\n      <td>Open</td>\n      <td>NaT</td>\n      <td>NaT</td>\n      <td>...</td>\n      <td>(England/Wales) Urban major conurbation</td>\n      <td>&lt;NA&gt;</td>\n      <td>999</td>\n      <td>&lt;NA&gt;</td>\n      <td>&lt;NA&gt;</td>\n      <td>Outstanding</td>\n      <td>E02000001</td>\n      <td>E01032739</td>\n      <td>201-3614</td>\n      <td>Miss Alexandra Allan</td>\n    </tr>\n    <tr>\n      <th>100001</th>\n      <td>201</td>\n      <td>City of London</td>\n      <td>6005</td>\n      <td>City of London School for Girls</td>\n      <td>11</td>\n      <td>Other independent school</td>\n      <td>1</td>\n      <td>Open</td>\n      <td>1920-01-01</td>\n      <td>NaT</td>\n      <td>...</td>\n      <td>(England/Wales) Urban major conurbation</td>\n      <td>Does not have boarders</td>\n      <td>999</td>\n      <td>&lt;NA&gt;</td>\n      <td>&lt;NA&gt;</td>\n      <td></td>\n      <td>E02000001</td>\n      <td>E01000002</td>\n      <td>201-6005</td>\n      <td>Mrs Jenny Brown</td>\n    </tr>\n    <tr>\n      <th>100002</th>\n      <td>201</td>\n      <td>City of London</td>\n      <td>6006</td>\n      <td>St Paul's Cathedral School</td>\n      <td>11</td>\n      <td>Other independent school</td>\n      <td>1</td>\n      <td>Open</td>\n      <td>1939-01-01</td>\n      <td>NaT</td>\n      <td>...</td>\n      <td>(England/Wales) Urban major conurbation</td>\n      <td>Has boarders</td>\n      <td>999</td>\n      <td>&lt;NA&gt;</td>\n      <td>&lt;NA&gt;</td>\n      <td></td>\n      <td>E02000001</td>\n      <td>E01032739</td>\n      <td>201-6006</td>\n      <td>&lt;NA&gt;</td>\n    </tr>\n    <tr>\n      <th>100003</th>\n      <td>201</td>\n      <td>City of London</td>\n      <td>6007</td>\n      <td>City of London School</td>\n      <td>11</td>\n      <td>Other independent school</td>\n      <td>1</td>\n      <td>Open</td>\n      <td>1919-01-01</td>\n      <td>NaT</td>\n      <td>...</td>\n      <td>(England/Wales) Urban major conurbation</td>\n      <td>Does not have boarders</td>\n      <td>999</td>\n      <td>&lt;NA&gt;</td>\n      <td>&lt;NA&gt;</td>\n      <td></td>\n      <td>E02000001</td>\n      <td>E01032739</td>\n      <td>201-6007</td>\n      <td>Mr Alan Bird</td>\n    </tr>\n    <tr>\n      <th>100005</th>\n      <td>202</td>\n      <td>Camden</td>\n      <td>1048</td>\n      <td>Thomas Coram Centre</td>\n      <td>15</td>\n      <td>Local authority nursery school</td>\n      <td>1</td>\n      <td>Open</td>\n      <td>NaT</td>\n      <td>NaT</td>\n      <td>...</td>\n      <td>(England/Wales) Urban major conurbation</td>\n      <td>&lt;NA&gt;</td>\n      <td>999</td>\n      <td>&lt;NA&gt;</td>\n      <td>&lt;NA&gt;</td>\n      <td>Outstanding</td>\n      <td>E02007115</td>\n      <td>E01000937</td>\n      <td>202-1048</td>\n      <td>Ms Perina Holness</td>\n    </tr>\n    <tr>\n      <th>...</th>\n      <td>...</td>\n      <td>...</td>\n      <td>...</td>\n      <td>...</td>\n      <td>...</td>\n      <td>...</td>\n      <td>...</td>\n      <td>...</td>\n      <td>...</td>\n      <td>...</td>\n      <td>...</td>\n      <td>...</td>\n      <td>...</td>\n      <td>...</td>\n      <td>...</td>\n      <td>...</td>\n      <td>...</td>\n      <td>...</td>\n      <td>...</td>\n      <td>...</td>\n      <td>...</td>\n    </tr>\n    <tr>\n      <th>402468</th>\n      <td>679</td>\n      <td>Monmouthshire</td>\n      <td>5500</td>\n      <td>King Henry viii 3-19 School</td>\n      <td>30</td>\n      <td>Welsh establishment</td>\n      <td>1</td>\n      <td>Open</td>\n      <td>2023-09-01</td>\n      <td>NaT</td>\n      <td>...</td>\n      <td>&lt;NA&gt;</td>\n      <td>&lt;NA&gt;</td>\n      <td>999</td>\n      <td>&lt;NA&gt;</td>\n      <td>&lt;NA&gt;</td>\n      <td></td>\n      <td>999999999</td>\n      <td>999999999</td>\n      <td>679-5500</td>\n      <td>&lt;NA&gt;</td>\n    </tr>\n    <tr>\n      <th>402469</th>\n      <td>681</td>\n      <td>Cardiff</td>\n      <td>2333</td>\n      <td>Ysgol Gynradd Groes-Wen Primary</td>\n      <td>30</td>\n      <td>Welsh establishment</td>\n      <td>1</td>\n      <td>Open</td>\n      <td>2023-09-01</td>\n      <td>NaT</td>\n      <td>...</td>\n      <td>(England/Wales) Rural village</td>\n      <td>&lt;NA&gt;</td>\n      <td>999</td>\n      <td>&lt;NA&gt;</td>\n      <td>&lt;NA&gt;</td>\n      <td></td>\n      <td>W02000380</td>\n      <td>W01001729</td>\n      <td>681-2333</td>\n      <td>&lt;NA&gt;</td>\n    </tr>\n    <tr>\n      <th>402470</th>\n      <td>668</td>\n      <td>Pembrokeshire</td>\n      <td>2398</td>\n      <td>Ysgol Bro Penfro</td>\n      <td>30</td>\n      <td>Welsh establishment</td>\n      <td>4</td>\n      <td>Proposed to open</td>\n      <td>2024-09-01</td>\n      <td>NaT</td>\n      <td>...</td>\n      <td>(England/Wales) Rural town and fringe</td>\n      <td>&lt;NA&gt;</td>\n      <td>999</td>\n      <td>&lt;NA&gt;</td>\n      <td>&lt;NA&gt;</td>\n      <td></td>\n      <td>W02000140</td>\n      <td>W01000607</td>\n      <td>668-2398</td>\n      <td>&lt;NA&gt;</td>\n    </tr>\n    <tr>\n      <th>402471</th>\n      <td>679</td>\n      <td>Monmouthshire</td>\n      <td>2325</td>\n      <td>Ysgol Gymraeg Trefynwy</td>\n      <td>30</td>\n      <td>Welsh establishment</td>\n      <td>4</td>\n      <td>Proposed to open</td>\n      <td>2024-09-01</td>\n      <td>NaT</td>\n      <td>...</td>\n      <td>(England/Wales) Urban city and town</td>\n      <td>&lt;NA&gt;</td>\n      <td>999</td>\n      <td>&lt;NA&gt;</td>\n      <td>&lt;NA&gt;</td>\n      <td></td>\n      <td>W02000339</td>\n      <td>W01001978</td>\n      <td>679-2325</td>\n      <td>&lt;NA&gt;</td>\n    </tr>\n    <tr>\n      <th>402472</th>\n      <td>666</td>\n      <td>Powys</td>\n      <td>2156</td>\n      <td>Ysgol Golwg Pen y Fan</td>\n      <td>30</td>\n      <td>Welsh establishment</td>\n      <td>4</td>\n      <td>Proposed to open</td>\n      <td>2024-09-01</td>\n      <td>NaT</td>\n      <td>...</td>\n      <td>(England/Wales) Rural town and fringe in a spa...</td>\n      <td>&lt;NA&gt;</td>\n      <td>999</td>\n      <td>&lt;NA&gt;</td>\n      <td>&lt;NA&gt;</td>\n      <td></td>\n      <td>W02000113</td>\n      <td>W01000492</td>\n      <td>666-2156</td>\n      <td>Mrs Sarah Court</td>\n    </tr>\n  </tbody>\n</table>\n<p>27407 rows × 47 columns</p>\n</div>"
     },
     "execution_count": 24,
     "metadata": {},
     "output_type": "execute_result"
    }
   ],
   "source": [
    "schools.to_csv('output/pre-processing/schools.csv')\n",
    "schools.sort_index()"
   ],
   "metadata": {
    "collapsed": false,
    "ExecuteTime": {
     "end_time": "2024-03-28T17:21:02.435079Z",
     "start_time": "2024-03-28T17:21:02.117483Z"
    }
   },
   "id": "80ab1312a3261637",
   "execution_count": 24
  },
  {
   "cell_type": "markdown",
   "source": [
    "Merge required GIAS, census, sen, cdc and arr data with the base academy data"
   ],
   "metadata": {
    "collapsed": false
   },
   "id": "32a4b68ee88c7c1c"
  },
  {
   "cell_type": "code",
   "outputs": [],
   "source": [
    "academies_list = pd.read_csv('data/master_list_raw.csv', encoding='utf8', index_col=schemas.academy_master_list_index_col, dtype=schemas.academy_master_list, usecols=schemas.academy_master_list.keys()).rename(columns={'UKPRN': 'Academy UKPRN'})\n",
    "\n",
    "academies_base = academies_list.merge(schools.reset_index(), left_index=True, right_on='LA Establishment Number').set_index('URN')\n",
    "\n",
    "academies = (academies_base.merge(census, on='URN', how='left')\n",
    "             .merge(sen, on='URN', how='left')\n",
    "             .merge(cdc, on='URN', how='left'))\n",
    "\n",
    "academies['Type of Provision - Phase'] = academies.apply(lambda df: mappings.map_academy_phase_type(df['TypeOfEstablishment (code)'], df['Type of Provision - Phase']), axis=1)\n",
    "\n",
    "# Bizarre I shouldn't need this as this is coming from the original GIAS dataset, but I seem to have to do this twice. \n",
    "academies['NurseryProvision (name)'] = academies['NurseryProvision (name)'].fillna('')\n",
    "academies['NurseryProvision (name)'] = academies.apply(lambda df: mappings.map_nursery(df['NurseryProvision (name)'], df['Type of Provision - Phase']), axis=1)\n",
    "\n",
    "academies['Status'] = academies.apply(lambda df: mappings.map_academy_status(pd.to_datetime(df['Date left or closed if in period']), \n",
    "                                                                             pd.to_datetime(df['Valid to']), \n",
    "                                                                             pd.to_datetime(df['OpenDate']), \n",
    "                                                                             pd.to_datetime(df['CloseDate']), \n",
    "                                                                             pd.to_datetime(accounts_return_period_start_date), pd.to_datetime(academy_year_start_date), pd.to_datetime(academy_year_end_date)), axis=1)\n",
    "\n",
    "academies.rename(columns={'UKPRN_x':'UKPRN'}, inplace=True)"
   ],
   "metadata": {
    "collapsed": false,
    "ExecuteTime": {
     "end_time": "2024-03-28T17:22:28.249793Z",
     "start_time": "2024-03-28T17:22:26.929790Z"
    }
   },
   "id": "2f5b5d9b44e7947e",
   "execution_count": 27
  },
  {
   "cell_type": "code",
   "outputs": [
    {
     "data": {
      "text/plain": "       Company Registration Number           Incorporation Date  \\\nURN                                                               \n101849                    02369239  1989-04-06 00:00:00.0000000   \n105135                    05210075  2004-08-19 00:00:00.0000000   \n108420                    04464331  2002-06-19 00:00:00.0000000   \n123627                    02414699  1989-08-18 00:00:00.0000000   \n129342                    07525820  2011-02-10 00:00:00.0000000   \n...                            ...                          ...   \n149222                    07668923  2011-06-14 00:00:00.0000000   \n149222                    10192252  2016-05-20 00:00:00.0000000   \n149299                    09066969  2014-06-02 00:00:00.0000000   \n149396                    10151730  2016-04-27 00:00:00.0000000   \n149396                    08075785  2012-05-18 00:00:00.0000000   \n\n        Academy Trust UPIN  Academy UKPRN  \\\nURN                                         \n101849              134879       10058152   \n105135              135025       10058185   \n108420              139672       10064192   \n123627              134882       10058155   \n129342              135906       10058513   \n...                    ...            ...   \n149222              135225       10058887   \n149222              139657       10064173   \n149299              135834       10060816   \n149396              139729       10064245   \n149396              138199       10048061   \n\n                                       Academy Trust Name  \\\nURN                                                         \n101849                            The BRIT School Limited   \n105135                                  St Paul's Academy   \n108420                        Emmanuel Schools Foundation   \n123627      Telford City Technology College Trust Limited   \n129342                                Tove Learning Trust   \n...                                                   ...   \n149222                                    Coast Academies   \n149222                              Connect Academy Trust   \n149299  Blessed Christopher Wharton Catholic Academy T...   \n149396                          Reach South Academy Trust   \n149396                         The White Horse Federation   \n\n                                             Academy Name  Academy UPIN  \\\nURN                                                                       \n101849     BRIT School for Performing Arts and Technology        118384   \n105135                      St Paul's Academy - Greenwich        119110   \n108420                       Emmanuel College - Gateshead        118390   \n123627                              Thomas Telford School        118401   \n129342                             Grace Academy Solihull        118615   \n...                                                   ...           ...   \n149222                          Cockington Primary School        163969   \n149222                          Cockington Primary School        163969   \n149299  The Holy Family Catholic School, a Voluntary A...        162962   \n149396                                       Peak Academy        164084   \n149396                                       Peak Academy        164084   \n\n                        Trust Type                  Date Opened  \\\nURN                                                               \n101849  Single Academy Trust (SAT)  1991-10-22 00:00:00.0000000   \n105135  Single Academy Trust (SAT)  2005-09-01 00:00:00.0000000   \n108420   Multi Academy Trust (MAT)  1991-04-05 00:00:00.0000000   \n123627  Single Academy Trust (SAT)  1992-02-07 00:00:00.0000000   \n129342   Multi Academy Trust (MAT)  2006-09-01 00:00:00.0000000   \n...                            ...                          ...   \n149222   Multi Academy Trust (MAT)  2013-09-01 00:00:00.0000000   \n149222   Multi Academy Trust (MAT)  2013-09-01 00:00:00.0000000   \n149299   Multi Academy Trust (MAT)  2022-08-01 00:00:00.0000000   \n149396   Multi Academy Trust (MAT)  2012-09-01 00:00:00.0000000   \n149396   Multi Academy Trust (MAT)  2012-09-01 00:00:00.0000000   \n\n                                       LA Name  ... SUP_Primary_need_vi  \\\nURN                                             ...                       \n101849          Croydon London Borough Council  ...                   1   \n105135        Greenwich London Borough Council  ...                   1   \n108420                       Gateshead Council  ...                   4   \n123627              Telford and Wrekin Council  ...                   5   \n129342   Solihull Metropolitan Borough Council  ...                   5   \n...                                        ...  ...                 ...   \n149222                          Torbay Council  ...                   0   \n149222                          Torbay Council  ...                   0   \n149299  Bradford Metropolitan District Council  ...                   2   \n149396          Gloucestershire County Council  ...                   0   \n149396          Gloucestershire County Council  ...                   0   \n\n       SUP_Primary_need_msi SUP_Primary_need_pd SUP_Primary_need_asd  \\\nURN                                                                    \n101849                    0                  16                   32   \n105135                    0                   1                   14   \n108420                    0                   3                   28   \n123627                    1                   7                    6   \n129342                    1                   2                   68   \n...                     ...                 ...                  ...   \n149222                    0                   1                    0   \n149222                    0                   1                    0   \n149299                    0                   6                   10   \n149396                    0                   0                    0   \n149396                    0                   0                    0   \n\n       SUP_Primary_need_oth SUP_Primary_need_nsa  \\\nURN                                                \n101849                    0                    0   \n105135                    3                    7   \n108420                   11                   23   \n123627                    0                    0   \n129342                   21                    0   \n...                     ...                  ...   \n149222                    0                   14   \n149222                    0                   14   \n149299                    2                    0   \n149396                    0                    0   \n149396                    0                    0   \n\n       % of pupils with special educational needs support  \\\nURN                                                         \n101849                                           3.435934   \n105135                                                2.5   \n108420                                           0.692521   \n123627                                            0.12945   \n129342                                           2.447164   \n...                                                   ...   \n149222                                           3.455285   \n149222                                           3.455285   \n149299                                           3.944316   \n149396                                              100.0   \n149396                                              100.0   \n\n       Total Internal Floor Area      Score                Status  \nURN                                                                \n101849                   27058.0  43.834208                  Open  \n105135                   11352.0    16.7463                  Open  \n108420                   15903.0       37.0                  Open  \n123627                   28298.0  23.204891                  Open  \n129342                   17294.0  16.930612                  Open  \n...                          ...        ...                   ...  \n149222                       NaN       <NA>      Closed in period  \n149222                       NaN       <NA>  (Re)opened in period  \n149299                    9429.0   41.71524  (Re)opened in period  \n149396                       NaN       <NA>  (Re)opened in period  \n149396                       NaN       <NA>      Closed in period  \n\n[10015 rows x 109 columns]",
      "text/html": "<div>\n<style scoped>\n    .dataframe tbody tr th:only-of-type {\n        vertical-align: middle;\n    }\n\n    .dataframe tbody tr th {\n        vertical-align: top;\n    }\n\n    .dataframe thead th {\n        text-align: right;\n    }\n</style>\n<table border=\"1\" class=\"dataframe\">\n  <thead>\n    <tr style=\"text-align: right;\">\n      <th></th>\n      <th>Company Registration Number</th>\n      <th>Incorporation Date</th>\n      <th>Academy Trust UPIN</th>\n      <th>Academy UKPRN</th>\n      <th>Academy Trust Name</th>\n      <th>Academy Name</th>\n      <th>Academy UPIN</th>\n      <th>Trust Type</th>\n      <th>Date Opened</th>\n      <th>LA Name</th>\n      <th>...</th>\n      <th>SUP_Primary_need_vi</th>\n      <th>SUP_Primary_need_msi</th>\n      <th>SUP_Primary_need_pd</th>\n      <th>SUP_Primary_need_asd</th>\n      <th>SUP_Primary_need_oth</th>\n      <th>SUP_Primary_need_nsa</th>\n      <th>% of pupils with special educational needs support</th>\n      <th>Total Internal Floor Area</th>\n      <th>Score</th>\n      <th>Status</th>\n    </tr>\n    <tr>\n      <th>URN</th>\n      <th></th>\n      <th></th>\n      <th></th>\n      <th></th>\n      <th></th>\n      <th></th>\n      <th></th>\n      <th></th>\n      <th></th>\n      <th></th>\n      <th></th>\n      <th></th>\n      <th></th>\n      <th></th>\n      <th></th>\n      <th></th>\n      <th></th>\n      <th></th>\n      <th></th>\n      <th></th>\n      <th></th>\n    </tr>\n  </thead>\n  <tbody>\n    <tr>\n      <th>101849</th>\n      <td>02369239</td>\n      <td>1989-04-06 00:00:00.0000000</td>\n      <td>134879</td>\n      <td>10058152</td>\n      <td>The BRIT School Limited</td>\n      <td>BRIT School for Performing Arts and Technology</td>\n      <td>118384</td>\n      <td>Single Academy Trust (SAT)</td>\n      <td>1991-10-22 00:00:00.0000000</td>\n      <td>Croydon London Borough Council</td>\n      <td>...</td>\n      <td>1</td>\n      <td>0</td>\n      <td>16</td>\n      <td>32</td>\n      <td>0</td>\n      <td>0</td>\n      <td>3.435934</td>\n      <td>27058.0</td>\n      <td>43.834208</td>\n      <td>Open</td>\n    </tr>\n    <tr>\n      <th>105135</th>\n      <td>05210075</td>\n      <td>2004-08-19 00:00:00.0000000</td>\n      <td>135025</td>\n      <td>10058185</td>\n      <td>St Paul's Academy</td>\n      <td>St Paul's Academy - Greenwich</td>\n      <td>119110</td>\n      <td>Single Academy Trust (SAT)</td>\n      <td>2005-09-01 00:00:00.0000000</td>\n      <td>Greenwich London Borough Council</td>\n      <td>...</td>\n      <td>1</td>\n      <td>0</td>\n      <td>1</td>\n      <td>14</td>\n      <td>3</td>\n      <td>7</td>\n      <td>2.5</td>\n      <td>11352.0</td>\n      <td>16.7463</td>\n      <td>Open</td>\n    </tr>\n    <tr>\n      <th>108420</th>\n      <td>04464331</td>\n      <td>2002-06-19 00:00:00.0000000</td>\n      <td>139672</td>\n      <td>10064192</td>\n      <td>Emmanuel Schools Foundation</td>\n      <td>Emmanuel College - Gateshead</td>\n      <td>118390</td>\n      <td>Multi Academy Trust (MAT)</td>\n      <td>1991-04-05 00:00:00.0000000</td>\n      <td>Gateshead Council</td>\n      <td>...</td>\n      <td>4</td>\n      <td>0</td>\n      <td>3</td>\n      <td>28</td>\n      <td>11</td>\n      <td>23</td>\n      <td>0.692521</td>\n      <td>15903.0</td>\n      <td>37.0</td>\n      <td>Open</td>\n    </tr>\n    <tr>\n      <th>123627</th>\n      <td>02414699</td>\n      <td>1989-08-18 00:00:00.0000000</td>\n      <td>134882</td>\n      <td>10058155</td>\n      <td>Telford City Technology College Trust Limited</td>\n      <td>Thomas Telford School</td>\n      <td>118401</td>\n      <td>Single Academy Trust (SAT)</td>\n      <td>1992-02-07 00:00:00.0000000</td>\n      <td>Telford and Wrekin Council</td>\n      <td>...</td>\n      <td>5</td>\n      <td>1</td>\n      <td>7</td>\n      <td>6</td>\n      <td>0</td>\n      <td>0</td>\n      <td>0.12945</td>\n      <td>28298.0</td>\n      <td>23.204891</td>\n      <td>Open</td>\n    </tr>\n    <tr>\n      <th>129342</th>\n      <td>07525820</td>\n      <td>2011-02-10 00:00:00.0000000</td>\n      <td>135906</td>\n      <td>10058513</td>\n      <td>Tove Learning Trust</td>\n      <td>Grace Academy Solihull</td>\n      <td>118615</td>\n      <td>Multi Academy Trust (MAT)</td>\n      <td>2006-09-01 00:00:00.0000000</td>\n      <td>Solihull Metropolitan Borough Council</td>\n      <td>...</td>\n      <td>5</td>\n      <td>1</td>\n      <td>2</td>\n      <td>68</td>\n      <td>21</td>\n      <td>0</td>\n      <td>2.447164</td>\n      <td>17294.0</td>\n      <td>16.930612</td>\n      <td>Open</td>\n    </tr>\n    <tr>\n      <th>...</th>\n      <td>...</td>\n      <td>...</td>\n      <td>...</td>\n      <td>...</td>\n      <td>...</td>\n      <td>...</td>\n      <td>...</td>\n      <td>...</td>\n      <td>...</td>\n      <td>...</td>\n      <td>...</td>\n      <td>...</td>\n      <td>...</td>\n      <td>...</td>\n      <td>...</td>\n      <td>...</td>\n      <td>...</td>\n      <td>...</td>\n      <td>...</td>\n      <td>...</td>\n      <td>...</td>\n    </tr>\n    <tr>\n      <th>149222</th>\n      <td>07668923</td>\n      <td>2011-06-14 00:00:00.0000000</td>\n      <td>135225</td>\n      <td>10058887</td>\n      <td>Coast Academies</td>\n      <td>Cockington Primary School</td>\n      <td>163969</td>\n      <td>Multi Academy Trust (MAT)</td>\n      <td>2013-09-01 00:00:00.0000000</td>\n      <td>Torbay Council</td>\n      <td>...</td>\n      <td>0</td>\n      <td>0</td>\n      <td>1</td>\n      <td>0</td>\n      <td>0</td>\n      <td>14</td>\n      <td>3.455285</td>\n      <td>NaN</td>\n      <td>&lt;NA&gt;</td>\n      <td>Closed in period</td>\n    </tr>\n    <tr>\n      <th>149222</th>\n      <td>10192252</td>\n      <td>2016-05-20 00:00:00.0000000</td>\n      <td>139657</td>\n      <td>10064173</td>\n      <td>Connect Academy Trust</td>\n      <td>Cockington Primary School</td>\n      <td>163969</td>\n      <td>Multi Academy Trust (MAT)</td>\n      <td>2013-09-01 00:00:00.0000000</td>\n      <td>Torbay Council</td>\n      <td>...</td>\n      <td>0</td>\n      <td>0</td>\n      <td>1</td>\n      <td>0</td>\n      <td>0</td>\n      <td>14</td>\n      <td>3.455285</td>\n      <td>NaN</td>\n      <td>&lt;NA&gt;</td>\n      <td>(Re)opened in period</td>\n    </tr>\n    <tr>\n      <th>149299</th>\n      <td>09066969</td>\n      <td>2014-06-02 00:00:00.0000000</td>\n      <td>135834</td>\n      <td>10060816</td>\n      <td>Blessed Christopher Wharton Catholic Academy T...</td>\n      <td>The Holy Family Catholic School, a Voluntary A...</td>\n      <td>162962</td>\n      <td>Multi Academy Trust (MAT)</td>\n      <td>2022-08-01 00:00:00.0000000</td>\n      <td>Bradford Metropolitan District Council</td>\n      <td>...</td>\n      <td>2</td>\n      <td>0</td>\n      <td>6</td>\n      <td>10</td>\n      <td>2</td>\n      <td>0</td>\n      <td>3.944316</td>\n      <td>9429.0</td>\n      <td>41.71524</td>\n      <td>(Re)opened in period</td>\n    </tr>\n    <tr>\n      <th>149396</th>\n      <td>10151730</td>\n      <td>2016-04-27 00:00:00.0000000</td>\n      <td>139729</td>\n      <td>10064245</td>\n      <td>Reach South Academy Trust</td>\n      <td>Peak Academy</td>\n      <td>164084</td>\n      <td>Multi Academy Trust (MAT)</td>\n      <td>2012-09-01 00:00:00.0000000</td>\n      <td>Gloucestershire County Council</td>\n      <td>...</td>\n      <td>0</td>\n      <td>0</td>\n      <td>0</td>\n      <td>0</td>\n      <td>0</td>\n      <td>0</td>\n      <td>100.0</td>\n      <td>NaN</td>\n      <td>&lt;NA&gt;</td>\n      <td>(Re)opened in period</td>\n    </tr>\n    <tr>\n      <th>149396</th>\n      <td>08075785</td>\n      <td>2012-05-18 00:00:00.0000000</td>\n      <td>138199</td>\n      <td>10048061</td>\n      <td>The White Horse Federation</td>\n      <td>Peak Academy</td>\n      <td>164084</td>\n      <td>Multi Academy Trust (MAT)</td>\n      <td>2012-09-01 00:00:00.0000000</td>\n      <td>Gloucestershire County Council</td>\n      <td>...</td>\n      <td>0</td>\n      <td>0</td>\n      <td>0</td>\n      <td>0</td>\n      <td>0</td>\n      <td>0</td>\n      <td>100.0</td>\n      <td>NaN</td>\n      <td>&lt;NA&gt;</td>\n      <td>Closed in period</td>\n    </tr>\n  </tbody>\n</table>\n<p>10015 rows × 109 columns</p>\n</div>"
     },
     "execution_count": 28,
     "metadata": {},
     "output_type": "execute_result"
    }
   ],
   "source": [
    "academies.to_csv('output/pre-processing/academies.csv')\n",
    "academies.sort_index()"
   ],
   "metadata": {
    "collapsed": false,
    "ExecuteTime": {
     "end_time": "2024-03-28T17:22:32.191296Z",
     "start_time": "2024-03-28T17:22:31.904989Z"
    }
   },
   "id": "cf8b18891fd8d969",
   "execution_count": 28
  },
  {
   "cell_type": "markdown",
   "source": [
    "Merge required census and cdc data to the maintained schools data set"
   ],
   "metadata": {
    "collapsed": false
   },
   "id": "97961d9851b09fc"
  },
  {
   "cell_type": "code",
   "outputs": [],
   "source": [
    "maintained_schools_list = pd.read_csv('data/maintained_schools_raw.csv', encoding='utf8', index_col=schemas.maintained_schools_master_list_index_col, usecols=schemas.maintained_schools_master_list.keys(), dtype=schemas.maintained_schools_master_list)\n",
    "\n",
    "maintained_schools_base = maintained_schools_list.merge(schools.reset_index(), left_index=True, right_on='URN').set_index('URN')\n",
    "\n",
    "maintained_schools = maintained_schools_list.merge(schools.reset_index(), left_index=True, right_on='URN')\n",
    "\n",
    "maintained_schools = (maintained_schools\n",
    "                      .merge(census, on='URN', how='left')\n",
    "                      .merge(cdc, on='URN', how='left'))\n",
    "\n",
    "maintained_schools['Status'] = maintained_schools.apply(lambda df: mappings.map_maintained_school_status(df['OpenDate'], df['CloseDate'], df['Period covered by return (months)'], pd.to_datetime(maintained_schools_year_start_date), pd.to_datetime(maintained_schools_year_end_date)), axis=1)\n",
    "\n",
    "maintained_schools.set_index('URN', inplace=True)"
   ],
   "metadata": {
    "collapsed": false,
    "ExecuteTime": {
     "end_time": "2024-03-28T17:23:06.458716Z",
     "start_time": "2024-03-28T17:23:05.850387Z"
    }
   },
   "id": "865b72efc070a8e8",
   "execution_count": 29
  },
  {
   "cell_type": "code",
   "outputs": [
    {
     "data": {
      "text/plain": "                      Phase        Overall Phase  Lowest age of pupils  \\\nURN                                                                      \n100000    Infant and junior              Primary                   3.0   \n100005              Nursery              Nursery                   2.0   \n100006  Pupil referral unit  Pupil referral unit                  11.0   \n100007  Pupil referral unit  Pupil referral unit                   5.0   \n100008    Infant and junior              Primary                   3.0   \n...                     ...                  ...                   ...   \n131818    Infant and junior              Primary                   3.0   \n132176    Infant and junior              Primary                   3.0   \n132793    Infant and junior              Primary                   4.0   \n132796    Infant and junior              Primary                   2.0   \n133332    Infant and junior              Primary                   3.0   \n\n        Highest age of pupils                            Type  No Pupils  \\\nURN                                                                        \n100000                   11.0          Voluntary aided school      271.0   \n100005                    5.0  Local authority nursery school      107.5   \n100006                   16.0             Pupil referral unit       49.0   \n100007                   11.0             Pupil referral unit       19.0   \n100008                   11.0                Community school      350.0   \n...                       ...                             ...        ...   \n131818                   11.0                Community school      417.0   \n132176                   11.0          Voluntary aided school      278.0   \n132793                   11.0          Voluntary aided school      411.0   \n132796                   11.0          Voluntary aided school      473.0   \n133332                   11.0                Community school      414.5   \n\n        % of pupils eligible for FSM  Period covered by return (months)  \\\nURN                                                                       \n100000                          18.1                                 12   \n100005                          38.2                                 12   \n100006                          68.4                                 12   \n100007                         100.0                                 12   \n100008                          55.1                                 12   \n...                              ...                                ...   \n131818                          52.0                                 12   \n132176                          45.9                                 12   \n132793                          28.2                                 12   \n132796                          29.6                                 12   \n133332                          30.2                                 12   \n\n       Did Not Supply flag Federation  ...  headcount of pupils  \\\nURN                                    ...                        \n100000                   0         No  ...                271.0   \n100005                   0         No  ...                136.0   \n100006                   0         No  ...                 19.0   \n100007                   0         No  ...                 19.0   \n100008                   0         No  ...                350.0   \n...                    ...        ...  ...                  ...   \n131818                   0         No  ...                429.0   \n132176                   0         No  ...                292.0   \n132793                   0         No  ...                411.0   \n132796                   0         No  ...                531.0   \n133332                   0         No  ...                427.0   \n\n       % of pupils known to be eligible for and claiming free school me  \\\nURN                                                                       \n100000                                                9.2                 \n100005                                               38.2                 \n100006                                                0.0                 \n100007                                                0.0                 \n100008                                               53.1                 \n...                                                   ...                 \n131818                                               36.4                 \n132176                                               13.0                 \n132793                                               25.8                 \n132796                                               21.3                 \n133332                                               30.2                 \n\n       number of pupils whose first language is known or believed to be other than English  \\\nURN                                                                                          \n100000                                              145.0                                    \n100005                                               38.0                                    \n100006                                                5.0                                    \n100007                                                4.0                                    \n100008                                              306.0                                    \n...                                                   ...                                    \n131818                                               35.0                                    \n132176                                              140.0                                    \n132793                                               26.0                                    \n132796                                              148.0                                    \n133332                                              149.0                                    \n\n        Total School Workforce (Full-Time Equivalent)  \\\nURN                                                     \n100000                                          41.62   \n100005                                          37.48   \n100006                                          26.30   \n100007                                          31.58   \n100008                                          45.22   \n...                                               ...   \n131818                                          54.27   \n132176                                          32.97   \n132793                                          39.38   \n132796                                          47.04   \n133332                                          47.21   \n\n        Total Number of Teachers (Full-Time Equivalent)  \\\nURN                                                       \n100000                                            15.64   \n100005                                             4.31   \n100006                                             9.80   \n100007                                            15.80   \n100008                                            18.60   \n...                                                 ...   \n131818                                            25.00   \n132176                                            14.40   \n132793                                            19.40   \n132796                                            23.91   \n133332                                            21.20   \n\n        Pupil: Teacher Ratio (Full-Time Equivalent of qualified and unqualified teachers)  \\\nURN                                                                                         \n100000                                               17.3                                   \n100005                                               24.9                                   \n100006                                                5.0                                   \n100007                                                1.2                                   \n100008                                               18.8                                   \n...                                                   ...                                   \n131818                                               16.7                                   \n132176                                               19.3                                   \n132793                                               21.2                                   \n132796                                               19.8                                   \n133332                                               19.6                                   \n\n        Number of Vacant Teacher Posts Total Internal Floor Area      Score  \\\nURN                                                                           \n100000                             0.0                    3628.0      142.0   \n100005                             0.0                       NaN       <NA>   \n100006                             1.0                    1523.0  59.797111   \n100007                             0.0                       NaN       <NA>   \n100008                             0.0                    2951.0      117.0   \n...                                ...                       ...        ...   \n131818                             0.0                    2819.0  56.148634   \n132176                             2.0                    2872.0       27.0   \n132793                             0.0                    1639.0      117.0   \n132796                             0.0                    2736.0       17.0   \n133332                             0.0                    2959.0  16.793849   \n\n        Status  \nURN             \n100000    Open  \n100005    Open  \n100006    Open  \n100007    Open  \n100008    Open  \n...        ...  \n131818    Open  \n132176    Open  \n132793    Open  \n132796    Open  \n133332    Open  \n\n[10997 rows x 121 columns]",
      "text/html": "<div>\n<style scoped>\n    .dataframe tbody tr th:only-of-type {\n        vertical-align: middle;\n    }\n\n    .dataframe tbody tr th {\n        vertical-align: top;\n    }\n\n    .dataframe thead th {\n        text-align: right;\n    }\n</style>\n<table border=\"1\" class=\"dataframe\">\n  <thead>\n    <tr style=\"text-align: right;\">\n      <th></th>\n      <th>Phase</th>\n      <th>Overall Phase</th>\n      <th>Lowest age of pupils</th>\n      <th>Highest age of pupils</th>\n      <th>Type</th>\n      <th>No Pupils</th>\n      <th>% of pupils eligible for FSM</th>\n      <th>Period covered by return (months)</th>\n      <th>Did Not Supply flag</th>\n      <th>Federation</th>\n      <th>...</th>\n      <th>headcount of pupils</th>\n      <th>% of pupils known to be eligible for and claiming free school me</th>\n      <th>number of pupils whose first language is known or believed to be other than English</th>\n      <th>Total School Workforce (Full-Time Equivalent)</th>\n      <th>Total Number of Teachers (Full-Time Equivalent)</th>\n      <th>Pupil: Teacher Ratio (Full-Time Equivalent of qualified and unqualified teachers)</th>\n      <th>Number of Vacant Teacher Posts</th>\n      <th>Total Internal Floor Area</th>\n      <th>Score</th>\n      <th>Status</th>\n    </tr>\n    <tr>\n      <th>URN</th>\n      <th></th>\n      <th></th>\n      <th></th>\n      <th></th>\n      <th></th>\n      <th></th>\n      <th></th>\n      <th></th>\n      <th></th>\n      <th></th>\n      <th></th>\n      <th></th>\n      <th></th>\n      <th></th>\n      <th></th>\n      <th></th>\n      <th></th>\n      <th></th>\n      <th></th>\n      <th></th>\n      <th></th>\n    </tr>\n  </thead>\n  <tbody>\n    <tr>\n      <th>100000</th>\n      <td>Infant and junior</td>\n      <td>Primary</td>\n      <td>3.0</td>\n      <td>11.0</td>\n      <td>Voluntary aided school</td>\n      <td>271.0</td>\n      <td>18.1</td>\n      <td>12</td>\n      <td>0</td>\n      <td>No</td>\n      <td>...</td>\n      <td>271.0</td>\n      <td>9.2</td>\n      <td>145.0</td>\n      <td>41.62</td>\n      <td>15.64</td>\n      <td>17.3</td>\n      <td>0.0</td>\n      <td>3628.0</td>\n      <td>142.0</td>\n      <td>Open</td>\n    </tr>\n    <tr>\n      <th>100005</th>\n      <td>Nursery</td>\n      <td>Nursery</td>\n      <td>2.0</td>\n      <td>5.0</td>\n      <td>Local authority nursery school</td>\n      <td>107.5</td>\n      <td>38.2</td>\n      <td>12</td>\n      <td>0</td>\n      <td>No</td>\n      <td>...</td>\n      <td>136.0</td>\n      <td>38.2</td>\n      <td>38.0</td>\n      <td>37.48</td>\n      <td>4.31</td>\n      <td>24.9</td>\n      <td>0.0</td>\n      <td>NaN</td>\n      <td>&lt;NA&gt;</td>\n      <td>Open</td>\n    </tr>\n    <tr>\n      <th>100006</th>\n      <td>Pupil referral unit</td>\n      <td>Pupil referral unit</td>\n      <td>11.0</td>\n      <td>16.0</td>\n      <td>Pupil referral unit</td>\n      <td>49.0</td>\n      <td>68.4</td>\n      <td>12</td>\n      <td>0</td>\n      <td>No</td>\n      <td>...</td>\n      <td>19.0</td>\n      <td>0.0</td>\n      <td>5.0</td>\n      <td>26.30</td>\n      <td>9.80</td>\n      <td>5.0</td>\n      <td>1.0</td>\n      <td>1523.0</td>\n      <td>59.797111</td>\n      <td>Open</td>\n    </tr>\n    <tr>\n      <th>100007</th>\n      <td>Pupil referral unit</td>\n      <td>Pupil referral unit</td>\n      <td>5.0</td>\n      <td>11.0</td>\n      <td>Pupil referral unit</td>\n      <td>19.0</td>\n      <td>100.0</td>\n      <td>12</td>\n      <td>0</td>\n      <td>No</td>\n      <td>...</td>\n      <td>19.0</td>\n      <td>0.0</td>\n      <td>4.0</td>\n      <td>31.58</td>\n      <td>15.80</td>\n      <td>1.2</td>\n      <td>0.0</td>\n      <td>NaN</td>\n      <td>&lt;NA&gt;</td>\n      <td>Open</td>\n    </tr>\n    <tr>\n      <th>100008</th>\n      <td>Infant and junior</td>\n      <td>Primary</td>\n      <td>3.0</td>\n      <td>11.0</td>\n      <td>Community school</td>\n      <td>350.0</td>\n      <td>55.1</td>\n      <td>12</td>\n      <td>0</td>\n      <td>No</td>\n      <td>...</td>\n      <td>350.0</td>\n      <td>53.1</td>\n      <td>306.0</td>\n      <td>45.22</td>\n      <td>18.60</td>\n      <td>18.8</td>\n      <td>0.0</td>\n      <td>2951.0</td>\n      <td>117.0</td>\n      <td>Open</td>\n    </tr>\n    <tr>\n      <th>...</th>\n      <td>...</td>\n      <td>...</td>\n      <td>...</td>\n      <td>...</td>\n      <td>...</td>\n      <td>...</td>\n      <td>...</td>\n      <td>...</td>\n      <td>...</td>\n      <td>...</td>\n      <td>...</td>\n      <td>...</td>\n      <td>...</td>\n      <td>...</td>\n      <td>...</td>\n      <td>...</td>\n      <td>...</td>\n      <td>...</td>\n      <td>...</td>\n      <td>...</td>\n      <td>...</td>\n    </tr>\n    <tr>\n      <th>131818</th>\n      <td>Infant and junior</td>\n      <td>Primary</td>\n      <td>3.0</td>\n      <td>11.0</td>\n      <td>Community school</td>\n      <td>417.0</td>\n      <td>52.0</td>\n      <td>12</td>\n      <td>0</td>\n      <td>No</td>\n      <td>...</td>\n      <td>429.0</td>\n      <td>36.4</td>\n      <td>35.0</td>\n      <td>54.27</td>\n      <td>25.00</td>\n      <td>16.7</td>\n      <td>0.0</td>\n      <td>2819.0</td>\n      <td>56.148634</td>\n      <td>Open</td>\n    </tr>\n    <tr>\n      <th>132176</th>\n      <td>Infant and junior</td>\n      <td>Primary</td>\n      <td>3.0</td>\n      <td>11.0</td>\n      <td>Voluntary aided school</td>\n      <td>278.0</td>\n      <td>45.9</td>\n      <td>12</td>\n      <td>0</td>\n      <td>No</td>\n      <td>...</td>\n      <td>292.0</td>\n      <td>13.0</td>\n      <td>140.0</td>\n      <td>32.97</td>\n      <td>14.40</td>\n      <td>19.3</td>\n      <td>2.0</td>\n      <td>2872.0</td>\n      <td>27.0</td>\n      <td>Open</td>\n    </tr>\n    <tr>\n      <th>132793</th>\n      <td>Infant and junior</td>\n      <td>Primary</td>\n      <td>4.0</td>\n      <td>11.0</td>\n      <td>Voluntary aided school</td>\n      <td>411.0</td>\n      <td>28.2</td>\n      <td>12</td>\n      <td>0</td>\n      <td>No</td>\n      <td>...</td>\n      <td>411.0</td>\n      <td>25.8</td>\n      <td>26.0</td>\n      <td>39.38</td>\n      <td>19.40</td>\n      <td>21.2</td>\n      <td>0.0</td>\n      <td>1639.0</td>\n      <td>117.0</td>\n      <td>Open</td>\n    </tr>\n    <tr>\n      <th>132796</th>\n      <td>Infant and junior</td>\n      <td>Primary</td>\n      <td>2.0</td>\n      <td>11.0</td>\n      <td>Voluntary aided school</td>\n      <td>473.0</td>\n      <td>29.6</td>\n      <td>12</td>\n      <td>0</td>\n      <td>No</td>\n      <td>...</td>\n      <td>531.0</td>\n      <td>21.3</td>\n      <td>148.0</td>\n      <td>47.04</td>\n      <td>23.91</td>\n      <td>19.8</td>\n      <td>0.0</td>\n      <td>2736.0</td>\n      <td>17.0</td>\n      <td>Open</td>\n    </tr>\n    <tr>\n      <th>133332</th>\n      <td>Infant and junior</td>\n      <td>Primary</td>\n      <td>3.0</td>\n      <td>11.0</td>\n      <td>Community school</td>\n      <td>414.5</td>\n      <td>30.2</td>\n      <td>12</td>\n      <td>0</td>\n      <td>No</td>\n      <td>...</td>\n      <td>427.0</td>\n      <td>30.2</td>\n      <td>149.0</td>\n      <td>47.21</td>\n      <td>21.20</td>\n      <td>19.6</td>\n      <td>0.0</td>\n      <td>2959.0</td>\n      <td>16.793849</td>\n      <td>Open</td>\n    </tr>\n  </tbody>\n</table>\n<p>10997 rows × 121 columns</p>\n</div>"
     },
     "execution_count": 30,
     "metadata": {},
     "output_type": "execute_result"
    }
   ],
   "source": [
    "maintained_schools.to_csv('output/pre-processing/maintained_schools.csv')\n",
    "maintained_schools"
   ],
   "metadata": {
    "collapsed": false,
    "ExecuteTime": {
     "end_time": "2024-03-28T17:23:11.116919Z",
     "start_time": "2024-03-28T17:23:10.662222Z"
    }
   },
   "id": "de671077a130f94e",
   "execution_count": 30
  }
 ],
 "metadata": {
  "kernelspec": {
   "display_name": "Python 3",
   "language": "python",
   "name": "python3"
  },
  "language_info": {
   "codemirror_mode": {
    "name": "ipython",
    "version": 2
   },
   "file_extension": ".py",
   "mimetype": "text/x-python",
   "name": "python",
   "nbconvert_exporter": "python",
   "pygments_lexer": "ipython2",
   "version": "2.7.6"
  }
 },
 "nbformat": 4,
 "nbformat_minor": 5
}
