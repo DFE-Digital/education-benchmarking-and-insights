{
 "cells": [
  {
   "cell_type": "code",
   "execution_count": null,
   "id": "acde75f1010d72b1",
   "metadata": {
    "ExecuteTime": {
     "end_time": "2024-04-18T22:21:57.816099Z",
     "start_time": "2024-04-18T22:21:57.808888Z"
    },
    "jupyter": {
     "outputs_hidden": false
    }
   },
   "outputs": [],
   "source": [
    "%load_ext dotenv\n",
    "%dotenv"
   ]
  },
  {
   "cell_type": "markdown",
   "id": "4067c2e8c15b53c",
   "metadata": {
    "collapsed": false,
    "jupyter": {
     "outputs_hidden": false
    }
   },
   "source": [
    "# VMFI Data processing pipeline\n",
    "\n",
    "This workbook aims to emulate the current data processing pipeline that occurs in VMFI pipeline. The logic and processing is largely based on the following document [Insights data portal - Data sources and sql analysis](https://educationgovuk.sharepoint.com.mcas.ms/:w:/r/sites/VMFI/_layouts/15/Doc.aspx?sourcedoc=%7B38C1DC37-7CDB-48B8-9E22-284F4F311C0B%7D&file=1.%20Insights%20portal%20-%20data%20sources%20and%20sql%20analysis%20v010%20-%20Copy.docx&action=default&mobileredirect=true) and will stay true to this document even if the existing stored procedures are doing something different. This will form the basis of a gap analysis going forward. \n",
    "\n",
    "All data loaded in the following workbook comes from the set of CSV files in the `data` folder alongside this workbook. These datasets are for the most part from the list at the start of the linked document. However, because there is additional standing data required to fully implement the pipeline then this data has been exported from the development VMFI pipeline database. These files are currently: \n",
    "\n",
    "| File name | DB Table |\n",
    "|:----------|----------|\n",
    "|standing_data_cdc.csv | standing_data.cdc |"
   ]
  },
  {
   "cell_type": "code",
   "execution_count": null,
   "id": "initial_id",
   "metadata": {
    "ExecuteTime": {
     "end_time": "2024-04-18T22:21:58.142222Z",
     "start_time": "2024-04-18T22:21:57.817284Z"
    }
   },
   "outputs": [],
   "source": [
    "import pandas as pd\n",
    "import mappings as mappings\n",
    "import schemas as schemas\n",
    "import datetime\n",
    "import time\n",
    "import glob\n",
    "import os\n",
    "\n",
    "# Create and clean directory\n",
    "from pathlib import Path\n",
    "Path(\"output/pre-processing\").mkdir(parents=True, exist_ok=True)\n",
    "\n",
    "files = glob.glob(\"output/pre-processing/*\")\n",
    "for f in files:\n",
    "    os.remove(f)\n",
    "\n",
    "start_time = time.time()\n",
    "current_year = 2022\n",
    "accounts_return_period_start_date = datetime.date(current_year - 1, 9, 10)\n",
    "academy_year_start_date = datetime.date(current_year - 1, 9, 1)\n",
    "academy_year_end_date = datetime.date(current_year, 8, 30)\n",
    "maintained_schools_year_start_date = datetime.date(current_year, 4, 1)\n",
    "maintained_schools_year_end_date = datetime.date(current_year, 3, 31)"
   ]
  },
  {
   "cell_type": "markdown",
   "id": "9e96380a5227c987",
   "metadata": {
    "collapsed": false,
    "jupyter": {
     "outputs_hidden": false
    }
   },
   "source": [
    "## CDC data load and preparation\n",
    "\n",
    "School buildings condition dataset. Based on the surveys performed throughout 2018-2019.\n",
    "\n",
    "The data in the file `data/standing_data_cdc.csv` is just an export of the data in `standing_data.cdc` table. Without the Year and Import ID fields. In future this will likely have to be read directly from the source database as per [this document.](https://educationgovuk.sharepoint.com.mcas.ms/:w:/r/sites/VMFI/_layouts/15/Doc.aspx?sourcedoc=%7B38C1DC37-7CDB-48B8-9E22-284F4F311C0B%7D&file=1.%20Insights%20portal%20-%20data%20sources%20and%20sql%20analysis%20v010%20-%20Copy.docx&action=default&mobileredirect=true) "
   ]
  },
  {
   "cell_type": "code",
   "execution_count": null,
   "id": "6563c9b9647d7005",
   "metadata": {
    "ExecuteTime": {
     "end_time": "2024-04-18T22:21:58.260616Z",
     "start_time": "2024-04-18T22:21:58.143444Z"
    },
    "jupyter": {
     "outputs_hidden": false
    }
   },
   "outputs": [],
   "source": [
    "cdc = pd.read_csv('data/standing_data_cdc.csv', encoding='utf8', index_col=schemas.cdc_index_col, usecols=schemas.cdc.keys(), dtype=schemas.cdc)\n",
    "\n",
    "cdc['Total Internal Floor Area'] = cdc.groupby(by=['URN'])['GIFA'].sum()\n",
    "cdc['Proportion Area'] = (cdc['GIFA'] / cdc['Total Internal Floor Area'])\n",
    "cdc['Indicative Age'] = cdc['Block Age'].fillna('').map(mappings.map_block_age).astype('Int64')\n",
    "cdc['Age Score'] = cdc['Proportion Area'] * (current_year - cdc['Indicative Age'])\n",
    "cdc['Age Average Score'] = cdc.groupby(by=['URN'])['Age Score'].sum()\n",
    "cdc = cdc[['Total Internal Floor Area', 'Age Average Score']].drop_duplicates()"
   ]
  },
  {
   "cell_type": "code",
   "execution_count": null,
   "id": "57ab167f20fdbd03",
   "metadata": {
    "ExecuteTime": {
     "end_time": "2024-04-18T22:21:58.294650Z",
     "start_time": "2024-04-18T22:21:58.261196Z"
    },
    "jupyter": {
     "outputs_hidden": false
    }
   },
   "outputs": [],
   "source": [
    "cdc.to_csv('output/pre-processing/cdc.csv')\n",
    "cdc"
   ]
  },
  {
   "cell_type": "markdown",
   "id": "25a30c5a4a9b466",
   "metadata": {
    "collapsed": false,
    "jupyter": {
     "outputs_hidden": false
    }
   },
   "source": [
    "## School Census data load\n",
    "\n",
    "*Pupil Census* - DfE data collection providing information about school and pupil characteristics, for example percentage of pupils claiming free school`z meals, or having English as their second language. \n",
    "\n",
    "*Workforce census* - Single reference for all school workforce statistics based on staff working in publicly funded schools in England.\n",
    "\n",
    "The following code loads both the workforce and pupil census data and preforms an `inner` join by URN on the data sets."
   ]
  },
  {
   "cell_type": "code",
   "execution_count": null,
   "id": "20079a09f9200d0e",
   "metadata": {
    "ExecuteTime": {
     "end_time": "2024-04-18T22:22:03.952597Z",
     "start_time": "2024-04-18T22:21:58.296121Z"
    },
    "jupyter": {
     "outputs_hidden": false
    }
   },
   "outputs": [],
   "source": [
    "school_workforce_census = pd.read_excel('data/School_Tables_School_Workforce_Census_2022.xlsx', header=5, index_col=schemas.workforce_census_index_col, usecols=schemas.workforce_census.keys(), dtype=schemas.workforce_census, na_values=[\"x\",\"u\",\"c\"], keep_default_na=True).drop_duplicates()\n",
    "\n",
    "school_pupil_census = pd.read_csv('data/standing_data_census_pupils.csv', encoding='utf8', index_col=schemas.pupil_census_index_col, usecols=schemas.pupil_census.keys(), dtype=schemas.pupil_census).drop_duplicates()\n",
    "\n",
    "census = school_pupil_census.join(school_workforce_census, on='URN', how='inner', rsuffix='_pupil', lsuffix='_workforce')\n",
    "\n",
    "census.drop(labels=['full time pupils', 'headcount of pupils'], axis=1, inplace=True)\n",
    "         "
   ]
  },
  {
   "cell_type": "code",
   "execution_count": null,
   "id": "ca2d081b",
   "metadata": {},
   "outputs": [],
   "source": [
    "<<<<<<< LOCAL CELL DELETED >>>>>>>\n",
    "# Rename Columns\n",
    "census.rename(columns={\n",
    "    \"Total Number of Non-Classroom-based School Support Staff, (Other school support staff plus Administrative staff plus Technicians and excluding Auxiliary staff (Full-Time Equivalent)\": \"FullTimeOther\",\n",
    "    \"Total Number of Non Classroom-based School Support Staff, Excluding Auxiliary Staff (Headcount)\": \"FullTimeOtherHeadCount\",\n",
    "}, inplace=True)"
   ]
  },
  {
   "cell_type": "code",
   "execution_count": null,
   "id": "798d07eae73e8bba",
   "metadata": {
    "ExecuteTime": {
     "end_time": "2024-04-18T22:22:04.018194Z",
     "start_time": "2024-04-18T22:22:03.953153Z"
    },
    "jupyter": {
     "outputs_hidden": false
    }
   },
   "outputs": [],
   "source": [
    "census.to_csv('output/pre-processing/census.csv')\n",
    "census"
   ]
  },
  {
   "cell_type": "markdown",
   "id": "eb83d7512643b7a1",
   "metadata": {
    "collapsed": false,
    "jupyter": {
     "outputs_hidden": false
    }
   },
   "source": [
    "## Special Education Needs (SEN) data load and preparation\n",
    "\n",
    "Special educational needs dataset. Contains information about the number of pupils, who require various SEN provisions. This loads the `SEN` data, which originates from [here](https://explore-education-statistics.service.gov.uk/find-statistics/special-educational-needs-in-england#dataDownloads-1)"
   ]
  },
  {
   "cell_type": "code",
   "execution_count": null,
   "id": "1a164f2280c8e888",
   "metadata": {
    "ExecuteTime": {
     "end_time": "2024-04-18T22:22:04.329583Z",
     "start_time": "2024-04-18T22:22:04.018947Z"
    },
    "jupyter": {
     "outputs_hidden": false
    }
   },
   "outputs": [],
   "source": [
    "sen = pd.read_csv('data/SEN.csv', encoding='cp1252', index_col=schemas.sen_index_col, dtype=schemas.sen, usecols=schemas.sen.keys())\n",
    "sen['Percentage SEN'] = (sen['EHC plan'] / sen['Total pupils']) * 100.0\n",
    "sen['Primary Need SPLD'] = sen['EHC_Primary_need_spld'] + sen['SUP_Primary_need_spld']\n",
    "sen['Primary Need MLD'] = sen['EHC_Primary_need_mld'] + sen['SUP_Primary_need_mld']\n",
    "sen['Primary Need SLD'] = sen['EHC_Primary_need_sld'] + sen['SUP_Primary_need_sld']\n",
    "sen['Primary Need PMLD'] = sen['EHC_Primary_need_pmld'] + sen['SUP_Primary_need_pmld']\n",
    "sen['Primary Need SEMH'] = sen['EHC_Primary_need_semh'] + sen['SUP_Primary_need_semh']\n",
    "sen['Primary Need SLCN'] = sen['EHC_Primary_need_slcn'] + sen['SUP_Primary_need_slcn']\n",
    "sen['Primary Need HI'] = sen['EHC_Primary_need_hi'] + sen['SUP_Primary_need_hi']\n",
    "sen['Primary Need VI'] = sen['EHC_Primary_need_vi'] + sen['SUP_Primary_need_vi']\n",
    "sen['Primary Need MSI'] = sen['EHC_Primary_need_msi'] + sen['SUP_Primary_need_msi']\n",
    "sen['Primary Need PD'] = sen['EHC_Primary_need_pd'] + sen['SUP_Primary_need_pd']\n",
    "sen['Primary Need ASD'] = sen['EHC_Primary_need_asd'] + sen['SUP_Primary_need_asd']\n",
    "sen['Primary Need OTH'] = sen['EHC_Primary_need_oth'] + sen['SUP_Primary_need_oth']\n",
    "sen.rename(columns={'prov_slcn': 'Prov_SLCN', 'prov_hi':'Prov_HI', 'prov_vi':'Prov_VI', 'prov_msi': 'Prov_MSI', 'prov_pd':'Prov_PD', 'prov_asd':'Prov_ASD', 'prov_oth':'Prov_OTH'}, inplace=True)\n",
    "\n",
    "sen = sen[['Total pupils', 'EHC plan', 'Percentage SEN', 'Primary Need SPLD', 'Primary Need MLD', 'Primary Need SLD', 'Primary Need PMLD', 'Primary Need SEMH', 'Primary Need SLCN', 'Primary Need HI', 'Primary Need VI', 'Primary Need MSI', 'Primary Need PD', 'Primary Need ASD', 'Primary Need OTH', 'Prov_SPLD', 'Prov_MLD', 'Prov_SLD', 'Prov_PMLD', 'Prov_SEMH', 'Prov_SLCN','Prov_HI','Prov_VI','Prov_MSI','Prov_PD','Prov_ASD','Prov_OTH']] "
   ]
  },
  {
   "cell_type": "code",
   "execution_count": null,
   "id": "62cfde44fd23bbb1",
   "metadata": {
    "ExecuteTime": {
     "end_time": "2024-04-18T22:22:04.472205Z",
     "start_time": "2024-04-18T22:22:04.330137Z"
    },
    "jupyter": {
     "outputs_hidden": false
    }
   },
   "outputs": [],
   "source": [
    "sen.to_csv(\"output/pre-processing/sen.csv\")\n",
    "sen"
   ]
  },
  {
   "cell_type": "markdown",
   "id": "5c3570cf02009cb5",
   "metadata": {
    "collapsed": false,
    "jupyter": {
     "outputs_hidden": false
    }
   },
   "source": [
    "## AR Data load and preparation\n",
    "\n",
    "This loads the Annual accounts return dataset and the corresponding mapping file. This extract only contains benchmarking section, which consists of submissions of costs, income, and balances of individual academies.\n",
    "\n",
    "The mapping file, contains the mapping from AR4 cell references to cost categories and descriptions."
   ]
  },
  {
   "cell_type": "code",
   "execution_count": null,
   "id": "2f6a04d7dc922f02",
   "metadata": {
    "ExecuteTime": {
     "end_time": "2024-04-18T22:22:05.989875Z",
     "start_time": "2024-04-18T22:22:04.473201Z"
    },
    "jupyter": {
     "outputs_hidden": false
    }
   },
   "outputs": [],
   "source": [
    "ar_cell_mapping = pd.read_csv('data/AR_cell_mapping.csv', encoding='utf8', index_col=schemas.ar_cell_mapping_index_col, usecols=schemas.ar_cell_mapping.keys(), dtype=schemas.ar_cell_mapping)\n",
    "\n",
    "ar_raw = pd.read_csv('data/AR_raw.csv', encoding='utf8', index_col=schemas.ar_index_col, usecols=schemas.ar.keys(), dtype=schemas.ar)\n",
    "\n",
    "ar = ar_raw.reset_index().merge(ar_cell_mapping, right_on='cell', left_on='aruniquereference').set_index(schemas.ar_index_col)\n",
    "\n",
    "pfi_schools = ar[ar['aruniquereference'] == 'BAE310-T'][['value']].map(mappings.map_is_pfi_school).rename(columns={'value': 'PFI School'})\n",
    "\n",
    "academy_financial_position = ar[ar['aruniquereference'] == 'BAB030-T'][['value']].rename(columns={'value': 'Academy Balance'})\n",
    "central_services_financial_position = ar[(ar['aruniquereference'] == 'BAB030-T') | (ar['aruniquereference'] == 'BTB030')].groupby('trustupin')['value'].sum().rename('Central Services Balance')\n",
    "trust_financial_position = ar[(ar['aruniquereference'] == 'BTB030')][['trustupin', 'value']].rename(columns={'value': 'Trust Balance'}).set_index('trustupin')\n",
    "\n",
    "teachingstaff = ar[ar['aruniquereference'] == 'BAE010-T'][['value']].rename(columns={'value': 'TeachingStaff'})\n",
    "cateringsupplies = ar[ar['aruniquereference'] == 'BAE250-T'][['value']].rename(columns={'value': 'CateringSupplies'}) \n",
    "\n",
    "\n",
    "ar = (ar.join(pfi_schools, how='left')\n",
    "      .join(academy_financial_position, how='left')\n",
    "      .join(teachingstaff, how='left')\n",
    "      .join(cateringsupplies, how='left')\n",
    "      .join(trust_financial_position, on='trustupin', how='left')\n",
    "      .join(central_services_financial_position, on='trustupin', how='left'))"
   ]
  },
  {
   "cell_type": "code",
   "execution_count": null,
   "id": "a7aa06db2e9b4b4b",
   "metadata": {
    "ExecuteTime": {
     "end_time": "2024-04-18T22:22:08.545632Z",
     "start_time": "2024-04-18T22:22:05.990560Z"
    },
    "jupyter": {
     "outputs_hidden": false
    }
   },
   "outputs": [],
   "source": [
    "ar.to_csv('output/pre-processing/ar.csv')\n",
    "ar"
   ]
  },
  {
   "cell_type": "markdown",
   "id": "f26320ad386f89f1",
   "metadata": {
    "collapsed": false,
    "jupyter": {
     "outputs_hidden": false
    }
   },
   "source": [
    "Create a summary table for the AR stance of each distinct academy in the table."
   ]
  },
  {
   "cell_type": "code",
   "execution_count": null,
   "id": "40a2ba8be72dc168",
   "metadata": {
    "ExecuteTime": {
     "end_time": "2024-04-18T22:22:08.623081Z",
     "start_time": "2024-04-18T22:22:08.546340Z"
    },
    "jupyter": {
     "outputs_hidden": false
    }
   },
   "outputs": [],
   "source": [
    "academy_ar = ar.reset_index().drop_duplicates(subset=['academyupin'], ignore_index=True)[\n",
    "    ['academyupin', 'Academy Balance', 'Trust Balance', 'Central Services Balance', 'PFI School', 'TeachingStaff', 'CateringSupplies']\n",
    "].set_index('academyupin')\n",
    "\n",
    "academy_ar['Central Services Financial Position'] = academy_ar['Central Services Balance'].map(mappings.map_is_surplus_deficit)\n",
    "academy_ar['Academy Financial Position'] = academy_ar['Academy Balance'].map(mappings.map_is_surplus_deficit) \n",
    "academy_ar['Trust Financial Position'] = academy_ar['Trust Balance'].map(mappings.map_is_surplus_deficit) "
   ]
  },
  {
   "cell_type": "code",
   "execution_count": null,
   "id": "994eb529496c923f",
   "metadata": {
    "ExecuteTime": {
     "end_time": "2024-04-18T22:22:08.630172Z",
     "start_time": "2024-04-18T22:22:08.623660Z"
    },
    "jupyter": {
     "outputs_hidden": false
    }
   },
   "outputs": [],
   "source": [
    "academy_ar"
   ]
  },
  {
   "cell_type": "markdown",
   "id": "77b541a3aa8441b1",
   "metadata": {
    "collapsed": false,
    "jupyter": {
     "outputs_hidden": false
    }
   },
   "source": [
    "## Academy and maintained schools data load and preparation\n",
    "\n",
    "This reads the main GIAS data (edubasealldataYYYYMMDD file) and the associated links file (links_edubasealldataYYYYMMDD file). This is taken from the [GIAS Service](https://get-information-schools.service.gov.uk/help)\n",
    "\n",
    "Other columns are tidied up by asserting the correct type for that column. This is tidying phase is largly because on load integer columns will be inferred to be a float as opposed to an integer."
   ]
  },
  {
   "cell_type": "code",
   "execution_count": null,
   "id": "417b28e64cbeba74",
   "metadata": {
    "ExecuteTime": {
     "end_time": "2024-04-18T22:22:09.629308Z",
     "start_time": "2024-04-18T22:22:08.631152Z"
    },
    "jupyter": {
     "outputs_hidden": false
    }
   },
   "outputs": [],
   "source": [
    "gias = pd.read_csv('data/edubasealldata20240312.csv', encoding='cp1252', \n",
    "                   index_col=schemas.gias_index_col, usecols=schemas.gias.keys(), dtype=schemas.gias)\n",
    "\n",
    "gias_links = pd.read_csv('data/links_edubasealldata20240312.csv', encoding='cp1252', \n",
    "                         index_col=schemas.gias_links_index_col, usecols=schemas.gias_links.keys(), dtype=schemas.gias_links)\n",
    "\n",
    "# GIAS transformations\n",
    "gias['LA Establishment Number'] = gias['LA (code)'] + '-' + gias['EstablishmentNumber'].astype('string')\n",
    "gias['LA Establishment Number'] = gias['LA Establishment Number'].astype('string')\n",
    "\n",
    "gias['OpenDate'] = pd.to_datetime(gias['OpenDate'], dayfirst=True, format='mixed')\n",
    "gias['CloseDate'] = pd.to_datetime(gias['CloseDate'], dayfirst=True, format='mixed')\n",
    "gias['SchoolWebsite'] = gias['SchoolWebsite'].fillna('').map(mappings.map_school_website)\n",
    "gias['Boarders (name)'] = gias['Boarders (name)'].fillna('').map(mappings.map_boarders)\n",
    "gias['OfstedRating (name)'] = gias['OfstedRating (name)'].fillna('').map(mappings.map_ofsted_rating)\n",
    "gias['NurseryProvision (name)'] = gias['NurseryProvision (name)'].fillna('')\n",
    "gias['OfficialSixthForm (name)'] = gias['OfficialSixthForm (name)'].fillna('').map(mappings.map_sixth_form)\n",
    "gias['AdmissionsPolicy (name)'] = gias['AdmissionsPolicy (name)'].fillna('').map(mappings.map_admission_policy)\n",
    "gias['HeadName'] = gias['HeadTitle (name)'] + ' ' + gias['HeadFirstName'] + ' ' + gias['HeadLastName']\n",
    "gias['IsFederation'] = gias['Federation']\n",
    "gias['IsPartOfFederation']"
   ]
  },
  {
   "cell_type": "markdown",
   "id": "6f4053faf34e419b",
   "metadata": {
    "collapsed": false,
    "jupyter": {
     "outputs_hidden": false
    }
   },
   "source": [
    "In the following cell, we find all the predecessor and merged links. The links are then Ranked by URN and order by 'Link Established Date'. The linked GAIS data in then joined to the base GIAS data. This creates the overall school data set. This dataset is then filtered for schools that are open (CloseDate is null) and the schools with nested links that are Ranked 1."
   ]
  },
  {
   "cell_type": "code",
   "execution_count": null,
   "id": "57fc7486e4bef946",
   "metadata": {
    "ExecuteTime": {
     "end_time": "2024-04-18T22:22:09.828979Z",
     "start_time": "2024-04-18T22:22:09.654506Z"
    },
    "jupyter": {
     "outputs_hidden": false
    }
   },
   "outputs": [],
   "source": [
    "gias_links = gias_links[\n",
    "    gias_links['LinkType'].isin(['Predecessor', \n",
    "                                 'Predecessor - amalgamated', \n",
    "                                 'Predecessor - Split School', \n",
    "                                 'Predecessor - merged', \n",
    "                                 'Merged - expansion of school capacity', \n",
    "                                 'Merged - change in age range'])\n",
    "].sort_values(by='LinkEstablishedDate', ascending=False)\n",
    "\n",
    "gias_links['Rank'] = gias_links.groupby('URN').cumcount() + 1\n",
    "gias_links['Rank'] = gias_links['Rank'].astype('Int64')\n",
    "\n",
    "schools = gias.join(gias_links, on='URN', how='left', rsuffix='_links', lsuffix='_school').sort_values(by='URN')\n",
    "\n",
    "schools = schools[\n",
    "    schools['CloseDate'].isna() & ((schools['Rank'] == 1) | (schools['Rank'].isna()))\n",
    "].drop(columns=['LinkURN', 'LinkName', 'LinkType', 'LinkEstablishedDate', 'Rank'])"
   ]
  },
  {
   "cell_type": "code",
   "execution_count": null,
   "id": "80ab1312a3261637",
   "metadata": {
    "ExecuteTime": {
     "end_time": "2024-04-18T22:22:10.161394Z",
     "start_time": "2024-04-18T22:22:09.829683Z"
    },
    "jupyter": {
     "outputs_hidden": false
    }
   },
   "outputs": [],
   "source": [
    "schools.to_csv('output/pre-processing/schools.csv')\n",
    "schools.sort_index()"
   ]
  },
  {
   "cell_type": "markdown",
   "id": "32a4b68ee88c7c1c",
   "metadata": {
    "collapsed": false,
    "jupyter": {
     "outputs_hidden": false
    }
   },
   "source": [
    "Merge required GIAS, census, sen, cdc, PFI, and arr data with the base academy data"
   ]
  },
  {
   "cell_type": "code",
   "execution_count": null,
   "id": "2f5b5d9b44e7947e",
   "metadata": {
    "ExecuteTime": {
     "end_time": "2024-04-18T22:22:11.583675Z",
     "start_time": "2024-04-18T22:22:10.162136Z"
    },
    "jupyter": {
     "outputs_hidden": false
    }
   },
   "outputs": [],
   "source": [
    "academies_list = pd.read_csv('data/master_list_raw.csv', encoding='utf8', index_col=schemas.academy_master_list_index_col, dtype=schemas.academy_master_list, usecols=schemas.academy_master_list.keys()).rename(columns={'UKPRN': 'Academy UKPRN'})\n",
    "\n",
    "academies_base = academies_list.merge(schools.reset_index(), left_index=True, right_on='LA Establishment Number').set_index('URN')\n",
    "\n",
    "academies = (academies_base.merge(census, on='URN', how='left')\n",
    "             .merge(sen, on='URN', how='left')\n",
    "             .merge(cdc, on='URN', how='left')\n",
    "             .merge(academy_ar, left_on='Academy UPIN', right_index=True, how='left'))\n",
    "\n",
    "academies['Type of Provision - Phase'] = academies.apply(lambda df: mappings.map_academy_phase_type(df['TypeOfEstablishment (code)'], df['Type of Provision - Phase']), axis=1)\n",
    "\n",
    "# Bizarre I shouldn't need this as this is coming from the original GIAS dataset, but I seem to have to do this twice. \n",
    "academies['NurseryProvision (name)'] = academies['NurseryProvision (name)'].fillna('')\n",
    "academies['NurseryProvision (name)'] = academies.apply(lambda df: mappings.map_nursery(df['NurseryProvision (name)'], df['Type of Provision - Phase']), axis=1)\n",
    "\n",
    "academies['Status'] = academies.apply(lambda df: mappings.map_academy_status(pd.to_datetime(df['Date left or closed if in period']), \n",
    "                                                                             pd.to_datetime(df['Valid to']), \n",
    "                                                                             pd.to_datetime(df['OpenDate']), \n",
    "                                                                             pd.to_datetime(df['CloseDate']), \n",
    "                                                                             pd.to_datetime(accounts_return_period_start_date), pd.to_datetime(academy_year_start_date), pd.to_datetime(academy_year_end_date)), axis=1)\n",
    "\n",
    "academies['SchoolPhaseType'] = academies.apply(lambda df: mappings.map_school_phase_type(df['TypeOfEstablishment (code)'], df['Type of Provision - Phase']), axis=1)\n",
    "\n",
    "academies.rename(columns={\n",
    "    'UKPRN_x':'UKPRN',\n",
    "    'Number of Pupils': 'Number of pupils',\n",
    "    '% of pupils known to be eligible for free school meals (Performa': 'Percentage Free school meals'\n",
    "}, inplace=True)"
   ]
  },
  {
   "cell_type": "code",
   "execution_count": null,
   "id": "cf8b18891fd8d969",
   "metadata": {
    "ExecuteTime": {
     "end_time": "2024-04-18T22:22:11.910963Z",
     "start_time": "2024-04-18T22:22:11.584266Z"
    },
    "jupyter": {
     "outputs_hidden": false
    }
   },
   "outputs": [],
   "source": [
    "academies.to_csv('output/pre-processing/academies.csv')\n",
    "academies.sort_index()"
   ]
  },
  {
   "cell_type": "markdown",
   "id": "97961d9851b09fc",
   "metadata": {
    "collapsed": false,
    "jupyter": {
     "outputs_hidden": false
    }
   },
   "source": [
    "Merge required census and cdc data to the maintained schools data set"
   ]
  },
  {
   "cell_type": "code",
   "execution_count": null,
   "id": "7625f25c-3391-43ac-9cc2-c2a204c5663e",
   "metadata": {
    "ExecuteTime": {
     "end_time": "2024-04-18T22:22:12.020341Z",
     "start_time": "2024-04-18T22:22:11.911791Z"
    }
   },
   "outputs": [],
   "source": [
    "# Load raw list from CSV\n",
    "maintained_schools_list = pd.read_csv('data/maintained_schools_raw.csv', encoding='utf8', index_col=schemas.maintained_schools_master_list_index_col, usecols=schemas.maintained_schools_master_list.keys(), dtype=schemas.maintained_schools_master_list)"
   ]
  },
  {
   "cell_type": "code",
   "execution_count": null,
   "id": "344c6671-7518-470e-b809-093bfccbedec",
   "metadata": {
    "ExecuteTime": {
     "end_time": "2024-04-18T22:22:12.085711Z",
     "start_time": "2024-04-18T22:22:12.021183Z"
    }
   },
   "outputs": [],
   "source": [
    "# Merge maintained_schools_base with schools (metadata from GIAS) & rename PFI column\n",
    "maintained_schools = maintained_schools_list.merge(schools.reset_index(), left_index=True, right_on='URN')\n"
   ]
  },
  {
   "cell_type": "code",
   "execution_count": null,
   "id": "865b72efc070a8e8",
   "metadata": {
    "ExecuteTime": {
     "end_time": "2024-04-18T22:22:12.144529Z",
     "start_time": "2024-04-18T22:22:12.086506Z"
    },
    "jupyter": {
     "outputs_hidden": false
    }
   },
   "outputs": [],
   "source": [
    "# Merge in census and cdc data\n",
    "maintained_schools = (maintained_schools\n",
    "                      .merge(sen, on='URN', how='left')\n",
    "                      .merge(census, on='URN', how='left')\n",
    "                      .merge(cdc, on='URN', how='left'))\n",
    "\n"
   ]
  },
  {
   "cell_type": "code",
   "execution_count": null,
   "id": "47bfd51f-a83b-4b17-82d0-328a8db03336",
   "metadata": {
    "ExecuteTime": {
     "end_time": "2024-04-18T22:22:12.638320Z",
     "start_time": "2024-04-18T22:22:12.145155Z"
    }
   },
   "outputs": [],
   "source": [
    "# Compute columns\n",
    "maintained_schools['PFI'] = maintained_schools['PFI'].map(lambda x: 'PFI school' if x == 'Y' else 'Non-PFI school')\n",
    "maintained_schools['Status'] = maintained_schools.apply(lambda df: mappings.map_maintained_school_status(df['OpenDate'], df['CloseDate'], df['Period covered by return (months)'], pd.to_datetime(maintained_schools_year_start_date), pd.to_datetime(maintained_schools_year_end_date)), axis=1)\n",
    "maintained_schools['School Balance'] = maintained_schools['Total Income   I01 to I18'] - maintained_schools['Total Expenditure  E01 to E32']\n",
    "maintained_schools['School Financial Position'] = maintained_schools['School Balance'].map(mappings.map_is_surplus_deficit)\n",
    "maintained_schools['SchoolPhaseType'] = maintained_schools.apply(lambda df: mappings.map_school_phase_type(df['TypeOfEstablishment (code)'], df['Overall Phase']), axis=1)\n",
    "maintained_schools['Partial Years Present'] = maintained_schools['Period covered by return (months)'].map(lambda x: x != 12)\n",
    "maintained_schools['Did Not Submit'] = maintained_schools['Did Not Supply flag'].map(lambda x: x == 1)"
   ]
  },
  {
   "cell_type": "code",
   "execution_count": null,
   "id": "742796ff-9a9c-4fb2-a3ac-2c363e020c8f",
   "metadata": {
    "ExecuteTime": {
     "end_time": "2024-04-18T22:22:12.643358Z",
     "start_time": "2024-04-18T22:22:12.640196Z"
    }
   },
   "outputs": [],
   "source": [
    "# Rename columns\n",
    "maintained_schools.rename(columns={\n",
    "    'PFI': 'PFI School',\n",
    "    '% of pupils eligible for FSM': 'Percentage Free school meals',\n",
    "    'No Pupils': 'Number of pupils',\n",
    "    'I07  Other grants and payments': 'Other grants and payments'\n",
    "}, inplace=True)"
   ]
  },
  {
   "cell_type": "code",
   "execution_count": null,
   "id": "915498d2-1a6c-4b1a-9b08-ab6c1292ffbc",
   "metadata": {
    "ExecuteTime": {
     "end_time": "2024-04-18T22:22:12.646036Z",
     "start_time": "2024-04-18T22:22:12.644026Z"
    }
   },
   "outputs": [],
   "source": [
    "maintained_schools.set_index('URN', inplace=True)"
   ]
  },
  {
   "cell_type": "code",
   "execution_count": null,
   "id": "a10f7539-929c-4add-aa04-de2e25437c78",
   "metadata": {
    "ExecuteTime": {
     "end_time": "2024-04-18T22:22:12.678365Z",
     "start_time": "2024-04-18T22:22:12.646657Z"
    }
   },
   "outputs": [],
   "source": [
    "maintained_schools"
   ]
  },
  {
   "cell_type": "code",
   "execution_count": null,
   "id": "de671077a130f94e",
   "metadata": {
    "ExecuteTime": {
     "end_time": "2024-04-18T22:22:13.248907Z",
     "start_time": "2024-04-18T22:22:12.679084Z"
    },
    "jupyter": {
     "outputs_hidden": false
    }
   },
   "outputs": [],
   "source": [
    "maintained_schools.to_csv('output/pre-processing/maintained_schools.csv')\n"
   ]
  },
  {
   "cell_type": "markdown",
   "id": "429dff32",
   "metadata": {},
   "source": [
    "## Federation Capture\n",
    "\n",
    "\n"
   ]
  },
  {
   "cell_type": "code",
   "execution_count": null,
   "id": "38c2fabd-3a66-4edc-9b77-b1bd549071d1",
   "metadata": {
    "ExecuteTime": {
     "end_time": "2024-04-18T22:22:13.350377Z",
     "start_time": "2024-04-18T22:22:13.253977Z"
    }
   },
   "outputs": [],
   "source": [
    "group_links = pd.read_csv('data/alllinksdata20240417.csv', encoding='unicode-escape',  index_col=schemas.groups_index_col, usecols=schemas.groups.keys(), dtype=schemas.groups)"
   ]
  },
  {
   "cell_type": "code",
   "execution_count": null,
   "id": "1f41eef9",
   "metadata": {
    "ExecuteTime": {
     "end_time": "2024-04-18T22:22:13.402290Z",
     "start_time": "2024-04-18T22:22:13.350940Z"
    }
   },
   "outputs": [],
   "source": [
    "# filter lead schools out of the maintained schools list\n",
    "federations = maintained_schools[['LAEstab']][maintained_schools['Federation']=='Lead school'].copy()\n",
    "# join \n",
    "federations = federations.join(group_links[['Group Name','Group UID','Closed Date']])\n",
    "\n",
    "\n",
    "# remove federations with an associated closed date\n",
    "federations = federations.loc[federations['Closed Date'].isna()]\n",
    "\n",
    "# federations with a UID listed in the GIAS groups data are referred to as \"Hard\" federations\n",
    "# while federations not listed in GIAS are referred to as \"Soft\" federations.\n",
    "# Soft federation UIDs are a combination of their URN and LAEstab codes.\n",
    "\n",
    "# create mask for soft federations\n",
    "mask = federations['Group UID'].isna()\n",
    "\n",
    "hard_federations = federations.loc[~mask].copy()\n",
    "soft_federations = federations.loc[mask].copy()\n",
    "\n",
    "# define members list for hard federations\n",
    "group_links['Members'] = group_links.index\n",
    "hard_members = group_links[['Members','Group UID']].groupby('Group UID').agg(list)\n",
    "\n",
    "hard_federations = hard_federations.join(hard_members, on='Group UID')\n",
    "\n",
    "# Rename columns\n",
    "hard_federations.rename(columns={\n",
    "    'Group Name': 'FederationName',\n",
    "    'Group UID': 'FederationUid',\n",
    "}, inplace=True)\n",
    "\n",
    "# for the soft federations\n",
    "soft_federations['FederationUid'] = soft_federations.index.astype(str) + soft_federations['LAEstab'].astype(str)\n",
    "\n",
    "# Rename columns\n",
    "soft_federations.rename(columns={\n",
    "    'Group Name': 'FederationName',\n",
    "    'Group UID': 'FederationUid',\n",
    "}, inplace=True)\n",
    "\n",
    "# TODO - add in soft federation members and names (currently no mapping available)"
   ]
  },
  {
   "cell_type": "code",
   "execution_count": null,
   "id": "bbe0d39a",
   "metadata": {
    "ExecuteTime": {
     "end_time": "2024-04-18T22:22:13.408862Z",
     "start_time": "2024-04-18T22:22:13.402788Z"
    }
   },
   "outputs": [],
   "source": [
    "hard_federations.to_csv('output/pre-processing/hard_federations.csv')\n",
    "hard_federations"
   ]
  },
  {
   "cell_type": "code",
   "execution_count": null,
   "id": "a4b96c95",
   "metadata": {
    "ExecuteTime": {
     "end_time": "2024-04-18T22:22:13.414684Z",
     "start_time": "2024-04-18T22:22:13.409397Z"
    }
   },
   "outputs": [],
   "source": [
    "soft_federations.to_csv('output/pre-processing/soft_federations.csv')\n",
    "soft_federations"
   ]
  },
  {
   "cell_type": "markdown",
   "id": "48a3001591261b92",
   "metadata": {},
   "source": [
    "### Timing Keep at the bottom"
   ]
  },
  {
   "cell_type": "code",
   "execution_count": null,
   "id": "fdd17dab96412d93",
   "metadata": {
    "ExecuteTime": {
     "end_time": "2024-04-18T22:22:13.417455Z",
     "start_time": "2024-04-18T22:22:13.415388Z"
    }
   },
   "outputs": [],
   "source": [
    "print(f'Processing Time: {time.time() - start_time} seconds')"
   ]
  }
 ],
 "metadata": {
  "kernelspec": {
   "display_name": "Python 3 (ipykernel)",
   "language": "python",
   "name": "python3"
  },
  "language_info": {
   "codemirror_mode": {
    "name": "ipython",
    "version": 3
   },
   "file_extension": ".py",
   "mimetype": "text/x-python",
   "name": "python",
   "nbconvert_exporter": "python",
   "pygments_lexer": "ipython3",
   "version": "3.11.8"
  }
 },
 "nbformat": 4,
 "nbformat_minor": 5
}
