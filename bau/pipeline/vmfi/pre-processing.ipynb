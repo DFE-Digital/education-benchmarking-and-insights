{
 "cells": [
  {
   "cell_type": "code",
   "execution_count": 22,
   "id": "acde75f1010d72b1",
   "metadata": {
    "collapsed": false,
    "ExecuteTime": {
     "end_time": "2024-03-28T08:26:56.298207Z",
     "start_time": "2024-03-28T08:26:56.265616Z"
    }
   },
   "outputs": [
    {
     "name": "stdout",
     "output_type": "stream",
     "text": [
      "The dotenv extension is already loaded. To reload it, use:\n",
      "  %reload_ext dotenv\n"
     ]
    }
   ],
   "source": [
    "import numpy as np\n",
    "%load_ext dotenv\n",
    "%dotenv"
   ]
  },
  {
   "cell_type": "markdown",
   "source": [
    "# VMFI Data processing pipeline\n",
    "\n",
    "This workbook aims to emulate the current data processing pipeline that occurs in VMFI pipeline. The logic and processing is largely based on the following document [Insights data portal - Data sources and sql analysis](https://educationgovuk.sharepoint.com.mcas.ms/:w:/r/sites/VMFI/_layouts/15/Doc.aspx?sourcedoc=%7B38C1DC37-7CDB-48B8-9E22-284F4F311C0B%7D&file=1.%20Insights%20portal%20-%20data%20sources%20and%20sql%20analysis%20v010%20-%20Copy.docx&action=default&mobileredirect=true) and will stay true to this document even if the existing stored procedures are doing something different. This will form the basis of a gap analysis going forward. \n",
    "\n",
    "All data loaded in the following workbook comes from the set of CSV files in the `data` folder alongside this workbook. These datasets are for the most part from the list at the start of the linked document. However, because there is additional standing data required to fully implement the pipeline then this data has been exported from the development VMFI pipeline database. These files are currently: \n",
    "\n",
    "| File name | DB Table |\n",
    "|:----------|----------|\n",
    "|standing_data_cdc.csv | standing_data.cdc |"
   ],
   "metadata": {
    "collapsed": false
   },
   "id": "4067c2e8c15b53c"
  },
  {
   "cell_type": "code",
   "outputs": [],
   "source": [
    "import pandas as pd\n",
    "import mappings as mappings\n",
    "import schemas as schemas\n",
    "import datetime\n",
    "\n",
    "from pathlib import Path\n",
    "Path(\"output/pre-processing\").mkdir(parents=True, exist_ok=True)\n",
    "\n",
    "current_year = 2022\n",
    "accounts_return_period_start_date = datetime.date(current_year - 1, 9, 10)\n",
    "academy_year_start_date = datetime.date(current_year - 1, 9, 1)\n",
    "academy_year_end_date = datetime.date(current_year, 8, 30)\n",
    "maintained_schools_year_start_date = datetime.date(current_year, 4, 1)\n",
    "maintained_schools_year_end_date = datetime.date(current_year, 3, 31)"
   ],
   "metadata": {
    "collapsed": true,
    "ExecuteTime": {
     "end_time": "2024-03-28T08:26:56.399135Z",
     "start_time": "2024-03-28T08:26:56.396160Z"
    }
   },
   "id": "initial_id",
   "execution_count": 23
  },
  {
   "cell_type": "markdown",
   "source": [
    "## GIAS data load and preparation\n",
    "\n",
    "This reads the main GIAS data (edubasealldataYYYYMMDD file) and the associated links file (links_edubasealldataYYYYMMDD file). This is taken from the [GIAS Service](https://get-information-schools.service.gov.uk/help)\n",
    "\n",
    "Other columns are tidied up by asserting the correct type for that column. This is tidying phase is largly because on load integer columns will be inferred to be a float as opposed to an integer."
   ],
   "metadata": {
    "collapsed": false
   },
   "id": "77b541a3aa8441b1"
  },
  {
   "cell_type": "code",
   "outputs": [],
   "source": [
    "gias = pd.read_csv('data/edubasealldata20240312.csv', encoding='cp1252', \n",
    "                   index_col=schemas.gias_index_col, usecols=schemas.gias.keys(), dtype=schemas.gias)\n",
    "\n",
    "gias_links = pd.read_csv('data/links_edubasealldata20240312.csv', encoding='cp1252', \n",
    "                         index_col=schemas.gias_links_index_col, usecols=schemas.gias_links.keys(), dtype=schemas.gias_links)\n",
    "\n",
    "# GIAS transformations\n",
    "gias['LA Establishment Number'] = gias['LA (code)'] + '-' + gias['EstablishmentNumber'].astype('string')\n",
    "gias['LA Establishment Number'] = gias['LA Establishment Number'].astype('string')\n",
    "\n",
    "gias['OpenDate'] = pd.to_datetime(gias['OpenDate'], dayfirst=True, format='mixed')\n",
    "gias['CloseDate'] = pd.to_datetime(gias['CloseDate'], dayfirst=True, format='mixed')\n",
    "gias['SchoolWebsite'] = gias['SchoolWebsite'].fillna('').map(mappings.map_school_website)\n",
    "gias['Boarders (name)'] = gias['Boarders (name)'].fillna('').map(mappings.map_boarders)\n",
    "gias['OfstedRating (name)'] = gias['OfstedRating (name)'].fillna('').map(mappings.map_ofsted_rating)\n",
    "gias['NurseryProvision (name)'] = gias['NurseryProvision (name)'].fillna('')\n",
    "gias['OfficialSixthForm (name)'] = gias['OfficialSixthForm (name)'].fillna('').map(mappings.map_sixth_form)\n",
    "gias['AdmissionsPolicy (name)'] = gias['AdmissionsPolicy (name)'].fillna('').map(mappings.map_admission_policy)\n",
    "gias['Head Name'] = gias['HeadTitle (name)'] + ' ' + gias['HeadFirstName'] + ' ' + gias['HeadLastName']"
   ],
   "metadata": {
    "collapsed": false,
    "ExecuteTime": {
     "end_time": "2024-03-28T08:26:57.516531Z",
     "start_time": "2024-03-28T08:26:56.438197Z"
    }
   },
   "id": "417b28e64cbeba74",
   "execution_count": 24
  },
  {
   "cell_type": "markdown",
   "source": [
    "In the following cell, we find all the predecessor and merged links. The links are then Ranked by URN and order by 'Link Established Date'. The linked GAIS data in then joined to the base GIAS data. This creates the overall school data set. This dataset is then filtered for schools that are open (CloseDate is null) and the schools with nested links that are Ranked 1."
   ],
   "metadata": {
    "collapsed": false
   },
   "id": "6f4053faf34e419b"
  },
  {
   "cell_type": "code",
   "outputs": [],
   "source": [
    "gias_links = gias_links[\n",
    "    gias_links['LinkType'].isin(['Predecessor', \n",
    "                                 'Predecessor - amalgamated', \n",
    "                                 'Predecessor - Split School', \n",
    "                                 'Predecessor - merged', \n",
    "                                 'Merged - expansion of school capacity', \n",
    "                                 'Merged - change in age range'])\n",
    "].sort_values(by='LinkEstablishedDate', ascending=False)\n",
    "\n",
    "gias_links['Rank'] = gias_links.groupby('URN').cumcount() + 1\n",
    "gias_links['Rank'] = gias_links['Rank'].astype('Int64')\n",
    "\n",
    "schools = gias.join(gias_links, on='URN', how='left', rsuffix='_links', lsuffix='_school').sort_values(by='URN')\n",
    "\n",
    "schools = schools[\n",
    "    schools['CloseDate'].isna() & ((schools['Rank'] == 1) | (schools['Rank'].isna()))\n",
    "]"
   ],
   "metadata": {
    "collapsed": false,
    "ExecuteTime": {
     "end_time": "2024-03-28T08:26:57.706272Z",
     "start_time": "2024-03-28T08:26:57.517809Z"
    }
   },
   "id": "57fc7486e4bef946",
   "execution_count": 25
  },
  {
   "cell_type": "code",
   "outputs": [
    {
     "data": {
      "text/plain": "       LA (code)       LA (name)  EstablishmentNumber  \\\nURN                                                     \n100000       201  City of London                 3614   \n100001       201  City of London                 6005   \n100002       201  City of London                 6006   \n100003       201  City of London                 6007   \n100005       202          Camden                 1048   \n...          ...             ...                  ...   \n402468       679   Monmouthshire                 5500   \n402469       681         Cardiff                 2333   \n402470       668   Pembrokeshire                 2398   \n402471       679   Monmouthshire                 2325   \n402472       666           Powys                 2156   \n\n                      EstablishmentName  TypeOfEstablishment (code)  \\\nURN                                                                   \n100000               The Aldgate School                           2   \n100001  City of London School for Girls                          11   \n100002       St Paul's Cathedral School                          11   \n100003            City of London School                          11   \n100005              Thomas Coram Centre                          15   \n...                                 ...                         ...   \n402468      King Henry viii 3-19 School                          30   \n402469  Ysgol Gynradd Groes-Wen Primary                          30   \n402470                 Ysgol Bro Penfro                          30   \n402471           Ysgol Gymraeg Trefynwy                          30   \n402472            Ysgol Golwg Pen y Fan                          30   \n\n            TypeOfEstablishment (name)  EstablishmentStatus (code)  \\\nURN                                                                  \n100000          Voluntary aided school                           1   \n100001        Other independent school                           1   \n100002        Other independent school                           1   \n100003        Other independent school                           1   \n100005  Local authority nursery school                           1   \n...                                ...                         ...   \n402468             Welsh establishment                           1   \n402469             Welsh establishment                           1   \n402470             Welsh establishment                           4   \n402471             Welsh establishment                           4   \n402472             Welsh establishment                           4   \n\n       EstablishmentStatus (name)   OpenDate CloseDate  ...  \\\nURN                                                     ...   \n100000                       Open        NaT       NaT  ...   \n100001                       Open 1920-01-01       NaT  ...   \n100002                       Open 1939-01-01       NaT  ...   \n100003                       Open 1919-01-01       NaT  ...   \n100005                       Open        NaT       NaT  ...   \n...                           ...        ...       ...  ...   \n402468                       Open 2023-09-01       NaT  ...   \n402469                       Open 2023-09-01       NaT  ...   \n402470           Proposed to open 2024-09-01       NaT  ...   \n402471           Proposed to open 2024-09-01       NaT  ...   \n402472           Proposed to open 2024-09-01       NaT  ...   \n\n        OfstedRating (name) MSOA (code)  LSOA (code) LA Establishment Number  \\\nURN                                                                            \n100000          Outstanding   E02000001    E01032739                201-3614   \n100001                        E02000001    E01000002                201-6005   \n100002                        E02000001    E01032739                201-6006   \n100003                        E02000001    E01032739                201-6007   \n100005          Outstanding   E02007115    E01000937                202-1048   \n...                     ...         ...          ...                     ...   \n402468                        999999999    999999999                679-5500   \n402469                        W02000380    W01001729                681-2333   \n402470                        W02000140    W01000607                668-2398   \n402471                        W02000339    W01001978                679-2325   \n402472                        W02000113    W01000492                666-2156   \n\n                   Head Name  LinkURN            LinkName  \\\nURN                                                         \n100000  Miss Alexandra Allan     <NA>                <NA>   \n100001       Mrs Jenny Brown     <NA>                <NA>   \n100002                  <NA>     <NA>                <NA>   \n100003          Mr Alan Bird     <NA>                <NA>   \n100005     Ms Perina Holness     <NA>                <NA>   \n...                      ...      ...                 ...   \n402468                  <NA>   402093   Deri View Primary   \n402469                  <NA>     <NA>                <NA>   \n402470                  <NA>     <NA>                <NA>   \n402471                  <NA>     <NA>                <NA>   \n402472       Mrs Sarah Court   400526  Cradoc C.P. School   \n\n                         LinkType LinkEstablishedDate  Rank  \nURN                                                          \n100000                       <NA>                <NA>  <NA>  \n100001                       <NA>                <NA>  <NA>  \n100002                       <NA>                <NA>  <NA>  \n100003                       <NA>                <NA>  <NA>  \n100005                       <NA>                <NA>  <NA>  \n...                           ...                 ...   ...  \n402468  Predecessor - amalgamated          31-08-2023     1  \n402469                       <NA>                <NA>  <NA>  \n402470                       <NA>                <NA>  <NA>  \n402471                       <NA>                <NA>  <NA>  \n402472  Predecessor - amalgamated          31-08-2024     1  \n\n[27407 rows x 52 columns]",
      "text/html": "<div>\n<style scoped>\n    .dataframe tbody tr th:only-of-type {\n        vertical-align: middle;\n    }\n\n    .dataframe tbody tr th {\n        vertical-align: top;\n    }\n\n    .dataframe thead th {\n        text-align: right;\n    }\n</style>\n<table border=\"1\" class=\"dataframe\">\n  <thead>\n    <tr style=\"text-align: right;\">\n      <th></th>\n      <th>LA (code)</th>\n      <th>LA (name)</th>\n      <th>EstablishmentNumber</th>\n      <th>EstablishmentName</th>\n      <th>TypeOfEstablishment (code)</th>\n      <th>TypeOfEstablishment (name)</th>\n      <th>EstablishmentStatus (code)</th>\n      <th>EstablishmentStatus (name)</th>\n      <th>OpenDate</th>\n      <th>CloseDate</th>\n      <th>...</th>\n      <th>OfstedRating (name)</th>\n      <th>MSOA (code)</th>\n      <th>LSOA (code)</th>\n      <th>LA Establishment Number</th>\n      <th>Head Name</th>\n      <th>LinkURN</th>\n      <th>LinkName</th>\n      <th>LinkType</th>\n      <th>LinkEstablishedDate</th>\n      <th>Rank</th>\n    </tr>\n    <tr>\n      <th>URN</th>\n      <th></th>\n      <th></th>\n      <th></th>\n      <th></th>\n      <th></th>\n      <th></th>\n      <th></th>\n      <th></th>\n      <th></th>\n      <th></th>\n      <th></th>\n      <th></th>\n      <th></th>\n      <th></th>\n      <th></th>\n      <th></th>\n      <th></th>\n      <th></th>\n      <th></th>\n      <th></th>\n      <th></th>\n    </tr>\n  </thead>\n  <tbody>\n    <tr>\n      <th>100000</th>\n      <td>201</td>\n      <td>City of London</td>\n      <td>3614</td>\n      <td>The Aldgate School</td>\n      <td>2</td>\n      <td>Voluntary aided school</td>\n      <td>1</td>\n      <td>Open</td>\n      <td>NaT</td>\n      <td>NaT</td>\n      <td>...</td>\n      <td>Outstanding</td>\n      <td>E02000001</td>\n      <td>E01032739</td>\n      <td>201-3614</td>\n      <td>Miss Alexandra Allan</td>\n      <td>&lt;NA&gt;</td>\n      <td>&lt;NA&gt;</td>\n      <td>&lt;NA&gt;</td>\n      <td>&lt;NA&gt;</td>\n      <td>&lt;NA&gt;</td>\n    </tr>\n    <tr>\n      <th>100001</th>\n      <td>201</td>\n      <td>City of London</td>\n      <td>6005</td>\n      <td>City of London School for Girls</td>\n      <td>11</td>\n      <td>Other independent school</td>\n      <td>1</td>\n      <td>Open</td>\n      <td>1920-01-01</td>\n      <td>NaT</td>\n      <td>...</td>\n      <td></td>\n      <td>E02000001</td>\n      <td>E01000002</td>\n      <td>201-6005</td>\n      <td>Mrs Jenny Brown</td>\n      <td>&lt;NA&gt;</td>\n      <td>&lt;NA&gt;</td>\n      <td>&lt;NA&gt;</td>\n      <td>&lt;NA&gt;</td>\n      <td>&lt;NA&gt;</td>\n    </tr>\n    <tr>\n      <th>100002</th>\n      <td>201</td>\n      <td>City of London</td>\n      <td>6006</td>\n      <td>St Paul's Cathedral School</td>\n      <td>11</td>\n      <td>Other independent school</td>\n      <td>1</td>\n      <td>Open</td>\n      <td>1939-01-01</td>\n      <td>NaT</td>\n      <td>...</td>\n      <td></td>\n      <td>E02000001</td>\n      <td>E01032739</td>\n      <td>201-6006</td>\n      <td>&lt;NA&gt;</td>\n      <td>&lt;NA&gt;</td>\n      <td>&lt;NA&gt;</td>\n      <td>&lt;NA&gt;</td>\n      <td>&lt;NA&gt;</td>\n      <td>&lt;NA&gt;</td>\n    </tr>\n    <tr>\n      <th>100003</th>\n      <td>201</td>\n      <td>City of London</td>\n      <td>6007</td>\n      <td>City of London School</td>\n      <td>11</td>\n      <td>Other independent school</td>\n      <td>1</td>\n      <td>Open</td>\n      <td>1919-01-01</td>\n      <td>NaT</td>\n      <td>...</td>\n      <td></td>\n      <td>E02000001</td>\n      <td>E01032739</td>\n      <td>201-6007</td>\n      <td>Mr Alan Bird</td>\n      <td>&lt;NA&gt;</td>\n      <td>&lt;NA&gt;</td>\n      <td>&lt;NA&gt;</td>\n      <td>&lt;NA&gt;</td>\n      <td>&lt;NA&gt;</td>\n    </tr>\n    <tr>\n      <th>100005</th>\n      <td>202</td>\n      <td>Camden</td>\n      <td>1048</td>\n      <td>Thomas Coram Centre</td>\n      <td>15</td>\n      <td>Local authority nursery school</td>\n      <td>1</td>\n      <td>Open</td>\n      <td>NaT</td>\n      <td>NaT</td>\n      <td>...</td>\n      <td>Outstanding</td>\n      <td>E02007115</td>\n      <td>E01000937</td>\n      <td>202-1048</td>\n      <td>Ms Perina Holness</td>\n      <td>&lt;NA&gt;</td>\n      <td>&lt;NA&gt;</td>\n      <td>&lt;NA&gt;</td>\n      <td>&lt;NA&gt;</td>\n      <td>&lt;NA&gt;</td>\n    </tr>\n    <tr>\n      <th>...</th>\n      <td>...</td>\n      <td>...</td>\n      <td>...</td>\n      <td>...</td>\n      <td>...</td>\n      <td>...</td>\n      <td>...</td>\n      <td>...</td>\n      <td>...</td>\n      <td>...</td>\n      <td>...</td>\n      <td>...</td>\n      <td>...</td>\n      <td>...</td>\n      <td>...</td>\n      <td>...</td>\n      <td>...</td>\n      <td>...</td>\n      <td>...</td>\n      <td>...</td>\n      <td>...</td>\n    </tr>\n    <tr>\n      <th>402468</th>\n      <td>679</td>\n      <td>Monmouthshire</td>\n      <td>5500</td>\n      <td>King Henry viii 3-19 School</td>\n      <td>30</td>\n      <td>Welsh establishment</td>\n      <td>1</td>\n      <td>Open</td>\n      <td>2023-09-01</td>\n      <td>NaT</td>\n      <td>...</td>\n      <td></td>\n      <td>999999999</td>\n      <td>999999999</td>\n      <td>679-5500</td>\n      <td>&lt;NA&gt;</td>\n      <td>402093</td>\n      <td>Deri View Primary</td>\n      <td>Predecessor - amalgamated</td>\n      <td>31-08-2023</td>\n      <td>1</td>\n    </tr>\n    <tr>\n      <th>402469</th>\n      <td>681</td>\n      <td>Cardiff</td>\n      <td>2333</td>\n      <td>Ysgol Gynradd Groes-Wen Primary</td>\n      <td>30</td>\n      <td>Welsh establishment</td>\n      <td>1</td>\n      <td>Open</td>\n      <td>2023-09-01</td>\n      <td>NaT</td>\n      <td>...</td>\n      <td></td>\n      <td>W02000380</td>\n      <td>W01001729</td>\n      <td>681-2333</td>\n      <td>&lt;NA&gt;</td>\n      <td>&lt;NA&gt;</td>\n      <td>&lt;NA&gt;</td>\n      <td>&lt;NA&gt;</td>\n      <td>&lt;NA&gt;</td>\n      <td>&lt;NA&gt;</td>\n    </tr>\n    <tr>\n      <th>402470</th>\n      <td>668</td>\n      <td>Pembrokeshire</td>\n      <td>2398</td>\n      <td>Ysgol Bro Penfro</td>\n      <td>30</td>\n      <td>Welsh establishment</td>\n      <td>4</td>\n      <td>Proposed to open</td>\n      <td>2024-09-01</td>\n      <td>NaT</td>\n      <td>...</td>\n      <td></td>\n      <td>W02000140</td>\n      <td>W01000607</td>\n      <td>668-2398</td>\n      <td>&lt;NA&gt;</td>\n      <td>&lt;NA&gt;</td>\n      <td>&lt;NA&gt;</td>\n      <td>&lt;NA&gt;</td>\n      <td>&lt;NA&gt;</td>\n      <td>&lt;NA&gt;</td>\n    </tr>\n    <tr>\n      <th>402471</th>\n      <td>679</td>\n      <td>Monmouthshire</td>\n      <td>2325</td>\n      <td>Ysgol Gymraeg Trefynwy</td>\n      <td>30</td>\n      <td>Welsh establishment</td>\n      <td>4</td>\n      <td>Proposed to open</td>\n      <td>2024-09-01</td>\n      <td>NaT</td>\n      <td>...</td>\n      <td></td>\n      <td>W02000339</td>\n      <td>W01001978</td>\n      <td>679-2325</td>\n      <td>&lt;NA&gt;</td>\n      <td>&lt;NA&gt;</td>\n      <td>&lt;NA&gt;</td>\n      <td>&lt;NA&gt;</td>\n      <td>&lt;NA&gt;</td>\n      <td>&lt;NA&gt;</td>\n    </tr>\n    <tr>\n      <th>402472</th>\n      <td>666</td>\n      <td>Powys</td>\n      <td>2156</td>\n      <td>Ysgol Golwg Pen y Fan</td>\n      <td>30</td>\n      <td>Welsh establishment</td>\n      <td>4</td>\n      <td>Proposed to open</td>\n      <td>2024-09-01</td>\n      <td>NaT</td>\n      <td>...</td>\n      <td></td>\n      <td>W02000113</td>\n      <td>W01000492</td>\n      <td>666-2156</td>\n      <td>Mrs Sarah Court</td>\n      <td>400526</td>\n      <td>Cradoc C.P. School</td>\n      <td>Predecessor - amalgamated</td>\n      <td>31-08-2024</td>\n      <td>1</td>\n    </tr>\n  </tbody>\n</table>\n<p>27407 rows × 52 columns</p>\n</div>"
     },
     "execution_count": 26,
     "metadata": {},
     "output_type": "execute_result"
    }
   ],
   "source": [
    "schools.to_csv('output/pre-processing/schools.csv')\n",
    "schools.sort_index()"
   ],
   "metadata": {
    "collapsed": false,
    "ExecuteTime": {
     "end_time": "2024-03-28T08:26:58.063952Z",
     "start_time": "2024-03-28T08:26:57.707140Z"
    }
   },
   "id": "80ab1312a3261637",
   "execution_count": 26
  },
  {
   "cell_type": "markdown",
   "source": [
    "## Academy and Maintained school lookup tables\n",
    "\n",
    "Due to the way schools can be merged, or re-assigned URN's we have to create the following lookup tables so that we can efficentl"
   ],
   "metadata": {
    "collapsed": false
   },
   "id": "8d1903e3fc8b0429"
  },
  {
   "cell_type": "markdown",
   "source": [],
   "metadata": {
    "collapsed": false
   },
   "id": "87f1ca5ccee30893"
  },
  {
   "cell_type": "code",
   "outputs": [],
   "source": [
    "academies_list = pd.read_csv('data/master_list_raw.csv', encoding='utf8', index_col=schemas.academy_master_list_index_col, dtype=schemas.academy_master_list, usecols=schemas.academy_master_list.keys())\n",
    "\n",
    "maintained_schools_list = pd.read_csv('data/maintained_schools_raw.csv', encoding='utf8', index_col=schemas.maintained_schools_master_list_index_col, usecols=schemas.maintained_schools_master_list.keys(), dtype=schemas.maintained_schools_master_list)\n",
    "\n",
    "academies_lookup = academies_list.merge(schools.reset_index(), left_index=True, right_on='LA Establishment Number')[\n",
    "    ['URN', 'LinkURN', 'LA Establishment Number', 'Academy UPIN', 'Academy Trust UPIN']\n",
    "].set_index('URN')\n",
    "\n",
    "maintained_schools_lookup = maintained_schools_list.merge(schools.reset_index(), left_index=True, right_on='URN')[\n",
    "    ['URN', 'LinkURN', 'LA Establishment Number']\n",
    "].set_index('URN')"
   ],
   "metadata": {
    "collapsed": false,
    "ExecuteTime": {
     "end_time": "2024-03-28T08:26:58.398052Z",
     "start_time": "2024-03-28T08:26:58.066686Z"
    }
   },
   "id": "884c9502293cdb23",
   "execution_count": 27
  },
  {
   "cell_type": "code",
   "outputs": [
    {
     "data": {
      "text/plain": "        LinkURN LA Establishment Number  Academy UPIN  Academy Trust UPIN\nURN                                                                      \n148853   114221                840-3130        163480              139821\n144542   111642                808-2343        138448              139821\n144551   133301                808-2006        138465              139821\n148854   114258                840-3441        163504              139821\n136730   131185                826-4097        119734              134890\n...         ...                     ...           ...                 ...\n147031   141498                881-4033        151873              136062\n145812   114802                881-2191        140554              136062\n138865   131654                881-4007        121878              136062\n136577   115319                881-5403        119652              136062\n138300   119255                890-2221        122121              137035\n\n[10015 rows x 4 columns]",
      "text/html": "<div>\n<style scoped>\n    .dataframe tbody tr th:only-of-type {\n        vertical-align: middle;\n    }\n\n    .dataframe tbody tr th {\n        vertical-align: top;\n    }\n\n    .dataframe thead th {\n        text-align: right;\n    }\n</style>\n<table border=\"1\" class=\"dataframe\">\n  <thead>\n    <tr style=\"text-align: right;\">\n      <th></th>\n      <th>LinkURN</th>\n      <th>LA Establishment Number</th>\n      <th>Academy UPIN</th>\n      <th>Academy Trust UPIN</th>\n    </tr>\n    <tr>\n      <th>URN</th>\n      <th></th>\n      <th></th>\n      <th></th>\n      <th></th>\n    </tr>\n  </thead>\n  <tbody>\n    <tr>\n      <th>148853</th>\n      <td>114221</td>\n      <td>840-3130</td>\n      <td>163480</td>\n      <td>139821</td>\n    </tr>\n    <tr>\n      <th>144542</th>\n      <td>111642</td>\n      <td>808-2343</td>\n      <td>138448</td>\n      <td>139821</td>\n    </tr>\n    <tr>\n      <th>144551</th>\n      <td>133301</td>\n      <td>808-2006</td>\n      <td>138465</td>\n      <td>139821</td>\n    </tr>\n    <tr>\n      <th>148854</th>\n      <td>114258</td>\n      <td>840-3441</td>\n      <td>163504</td>\n      <td>139821</td>\n    </tr>\n    <tr>\n      <th>136730</th>\n      <td>131185</td>\n      <td>826-4097</td>\n      <td>119734</td>\n      <td>134890</td>\n    </tr>\n    <tr>\n      <th>...</th>\n      <td>...</td>\n      <td>...</td>\n      <td>...</td>\n      <td>...</td>\n    </tr>\n    <tr>\n      <th>147031</th>\n      <td>141498</td>\n      <td>881-4033</td>\n      <td>151873</td>\n      <td>136062</td>\n    </tr>\n    <tr>\n      <th>145812</th>\n      <td>114802</td>\n      <td>881-2191</td>\n      <td>140554</td>\n      <td>136062</td>\n    </tr>\n    <tr>\n      <th>138865</th>\n      <td>131654</td>\n      <td>881-4007</td>\n      <td>121878</td>\n      <td>136062</td>\n    </tr>\n    <tr>\n      <th>136577</th>\n      <td>115319</td>\n      <td>881-5403</td>\n      <td>119652</td>\n      <td>136062</td>\n    </tr>\n    <tr>\n      <th>138300</th>\n      <td>119255</td>\n      <td>890-2221</td>\n      <td>122121</td>\n      <td>137035</td>\n    </tr>\n  </tbody>\n</table>\n<p>10015 rows × 4 columns</p>\n</div>"
     },
     "execution_count": 28,
     "metadata": {},
     "output_type": "execute_result"
    }
   ],
   "source": [
    "academies_lookup"
   ],
   "metadata": {
    "collapsed": false,
    "ExecuteTime": {
     "end_time": "2024-03-28T08:26:58.403718Z",
     "start_time": "2024-03-28T08:26:58.398777Z"
    }
   },
   "id": "ac5eab1a3de55896",
   "execution_count": 28
  },
  {
   "cell_type": "code",
   "outputs": [
    {
     "data": {
      "text/plain": "        LinkURN LA Establishment Number\nURN                                    \n100000     <NA>                201-3614\n100005     <NA>                202-1048\n100006   134643                202-1100\n100007     <NA>                202-1101\n100008     <NA>                202-2019\n...         ...                     ...\n131818   104536                341-2230\n132176   104606                341-2232\n132793   104654                341-2233\n132796   131028                341-2234\n133332   104553                341-2235\n\n[10997 rows x 2 columns]",
      "text/html": "<div>\n<style scoped>\n    .dataframe tbody tr th:only-of-type {\n        vertical-align: middle;\n    }\n\n    .dataframe tbody tr th {\n        vertical-align: top;\n    }\n\n    .dataframe thead th {\n        text-align: right;\n    }\n</style>\n<table border=\"1\" class=\"dataframe\">\n  <thead>\n    <tr style=\"text-align: right;\">\n      <th></th>\n      <th>LinkURN</th>\n      <th>LA Establishment Number</th>\n    </tr>\n    <tr>\n      <th>URN</th>\n      <th></th>\n      <th></th>\n    </tr>\n  </thead>\n  <tbody>\n    <tr>\n      <th>100000</th>\n      <td>&lt;NA&gt;</td>\n      <td>201-3614</td>\n    </tr>\n    <tr>\n      <th>100005</th>\n      <td>&lt;NA&gt;</td>\n      <td>202-1048</td>\n    </tr>\n    <tr>\n      <th>100006</th>\n      <td>134643</td>\n      <td>202-1100</td>\n    </tr>\n    <tr>\n      <th>100007</th>\n      <td>&lt;NA&gt;</td>\n      <td>202-1101</td>\n    </tr>\n    <tr>\n      <th>100008</th>\n      <td>&lt;NA&gt;</td>\n      <td>202-2019</td>\n    </tr>\n    <tr>\n      <th>...</th>\n      <td>...</td>\n      <td>...</td>\n    </tr>\n    <tr>\n      <th>131818</th>\n      <td>104536</td>\n      <td>341-2230</td>\n    </tr>\n    <tr>\n      <th>132176</th>\n      <td>104606</td>\n      <td>341-2232</td>\n    </tr>\n    <tr>\n      <th>132793</th>\n      <td>104654</td>\n      <td>341-2233</td>\n    </tr>\n    <tr>\n      <th>132796</th>\n      <td>131028</td>\n      <td>341-2234</td>\n    </tr>\n    <tr>\n      <th>133332</th>\n      <td>104553</td>\n      <td>341-2235</td>\n    </tr>\n  </tbody>\n</table>\n<p>10997 rows × 2 columns</p>\n</div>"
     },
     "execution_count": 29,
     "metadata": {},
     "output_type": "execute_result"
    }
   ],
   "source": [
    "maintained_schools_lookup"
   ],
   "metadata": {
    "collapsed": false,
    "ExecuteTime": {
     "end_time": "2024-03-28T08:26:58.408640Z",
     "start_time": "2024-03-28T08:26:58.404294Z"
    }
   },
   "id": "80dc96e612b35ff7",
   "execution_count": 29
  },
  {
   "cell_type": "markdown",
   "source": [],
   "metadata": {
    "collapsed": false
   },
   "id": "70f871f03849c0e5"
  },
  {
   "cell_type": "markdown",
   "source": [
    "## CDC data load and preparation\n",
    "\n",
    "School buildings condition dataset. Based on the surveys performed throughout 2018-2019.\n",
    "\n",
    "The data in the file `data/standing_data_cdc.csv` is just an export of the data in `standing_data.cdc` table. Without the Year and Import ID fields. In future this will likely have to be read directly from the source database as per [this document.](https://educationgovuk.sharepoint.com.mcas.ms/:w:/r/sites/VMFI/_layouts/15/Doc.aspx?sourcedoc=%7B38C1DC37-7CDB-48B8-9E22-284F4F311C0B%7D&file=1.%20Insights%20portal%20-%20data%20sources%20and%20sql%20analysis%20v010%20-%20Copy.docx&action=default&mobileredirect=true) "
   ],
   "metadata": {
    "collapsed": false
   },
   "id": "9e96380a5227c987"
  },
  {
   "cell_type": "code",
   "outputs": [],
   "source": [
    "cdc = pd.read_csv('data/standing_data_cdc.csv', encoding='utf8', index_col=schemas.cdc_index_col, usecols=schemas.cdc.keys(), dtype=schemas.cdc)\n",
    "\n",
    "cdc['Total Internal Floor Area'] = cdc.groupby(by=['URN'])['GIFA'].sum()\n",
    "cdc['Proportion Area'] = (cdc['GIFA'] / cdc['Total Internal Floor Area'])\n",
    "cdc['Indicative Age'] = cdc['Block Age'].fillna('').map(mappings.map_block_age).astype('Int64')\n",
    "cdc['Age Score'] = cdc['Proportion Area'] * (current_year - cdc['Indicative Age'])\n",
    "cdc['Score'] = cdc.groupby(by=['URN'])['Age Score'].sum()\n",
    "cdc = cdc[['Total Internal Floor Area', 'Score']].drop_duplicates()\n",
    "cdc = pd.concat([\n",
    "    academies_lookup.join(cdc, on='URN', how='left'),\n",
    "    maintained_schools_lookup.join(cdc, on='URN', how='left')\n",
    "]).sort_index()\n"
   ],
   "metadata": {
    "collapsed": false,
    "ExecuteTime": {
     "end_time": "2024-03-28T08:26:58.542135Z",
     "start_time": "2024-03-28T08:26:58.409745Z"
    }
   },
   "id": "6563c9b9647d7005",
   "execution_count": 30
  },
  {
   "cell_type": "code",
   "outputs": [
    {
     "data": {
      "text/plain": "        LinkURN LA Establishment Number  Academy UPIN  Academy Trust UPIN  \\\nURN                                                                         \n130912   101150                213-6905        118638              122824   \n131749   106647                370-6905        118649              122824   \n131895   107127                373-6905        118640              122824   \n131896   107147                373-6906        118642              122824   \n132727   103102                320-6905        118656              122824   \n...         ...                     ...           ...                 ...   \n147467   138171                839-4008        162328              122824   \n148003   100743                209-4001        162199              122824   \n148357   138193                839-2010        163257              122824   \n148393   133351                355-4005        133267              122824   \n148793   139282                383-4082        163570              122824   \n\n        Total Internal Floor Area      Score  \nURN                                           \n130912                    14121.0       17.0  \n131749                    12176.0       17.0  \n131895                    12288.0       17.0  \n131896                    25042.0       17.0  \n132727                    13821.0  16.776427  \n...                           ...        ...  \n147467                        NaN       <NA>  \n148003                        NaN       <NA>  \n148357                        NaN       <NA>  \n148393                        NaN       <NA>  \n148793                        NaN       <NA>  \n\n[74 rows x 6 columns]",
      "text/html": "<div>\n<style scoped>\n    .dataframe tbody tr th:only-of-type {\n        vertical-align: middle;\n    }\n\n    .dataframe tbody tr th {\n        vertical-align: top;\n    }\n\n    .dataframe thead th {\n        text-align: right;\n    }\n</style>\n<table border=\"1\" class=\"dataframe\">\n  <thead>\n    <tr style=\"text-align: right;\">\n      <th></th>\n      <th>LinkURN</th>\n      <th>LA Establishment Number</th>\n      <th>Academy UPIN</th>\n      <th>Academy Trust UPIN</th>\n      <th>Total Internal Floor Area</th>\n      <th>Score</th>\n    </tr>\n    <tr>\n      <th>URN</th>\n      <th></th>\n      <th></th>\n      <th></th>\n      <th></th>\n      <th></th>\n      <th></th>\n    </tr>\n  </thead>\n  <tbody>\n    <tr>\n      <th>130912</th>\n      <td>101150</td>\n      <td>213-6905</td>\n      <td>118638</td>\n      <td>122824</td>\n      <td>14121.0</td>\n      <td>17.0</td>\n    </tr>\n    <tr>\n      <th>131749</th>\n      <td>106647</td>\n      <td>370-6905</td>\n      <td>118649</td>\n      <td>122824</td>\n      <td>12176.0</td>\n      <td>17.0</td>\n    </tr>\n    <tr>\n      <th>131895</th>\n      <td>107127</td>\n      <td>373-6905</td>\n      <td>118640</td>\n      <td>122824</td>\n      <td>12288.0</td>\n      <td>17.0</td>\n    </tr>\n    <tr>\n      <th>131896</th>\n      <td>107147</td>\n      <td>373-6906</td>\n      <td>118642</td>\n      <td>122824</td>\n      <td>25042.0</td>\n      <td>17.0</td>\n    </tr>\n    <tr>\n      <th>132727</th>\n      <td>103102</td>\n      <td>320-6905</td>\n      <td>118656</td>\n      <td>122824</td>\n      <td>13821.0</td>\n      <td>16.776427</td>\n    </tr>\n    <tr>\n      <th>...</th>\n      <td>...</td>\n      <td>...</td>\n      <td>...</td>\n      <td>...</td>\n      <td>...</td>\n      <td>...</td>\n    </tr>\n    <tr>\n      <th>147467</th>\n      <td>138171</td>\n      <td>839-4008</td>\n      <td>162328</td>\n      <td>122824</td>\n      <td>NaN</td>\n      <td>&lt;NA&gt;</td>\n    </tr>\n    <tr>\n      <th>148003</th>\n      <td>100743</td>\n      <td>209-4001</td>\n      <td>162199</td>\n      <td>122824</td>\n      <td>NaN</td>\n      <td>&lt;NA&gt;</td>\n    </tr>\n    <tr>\n      <th>148357</th>\n      <td>138193</td>\n      <td>839-2010</td>\n      <td>163257</td>\n      <td>122824</td>\n      <td>NaN</td>\n      <td>&lt;NA&gt;</td>\n    </tr>\n    <tr>\n      <th>148393</th>\n      <td>133351</td>\n      <td>355-4005</td>\n      <td>133267</td>\n      <td>122824</td>\n      <td>NaN</td>\n      <td>&lt;NA&gt;</td>\n    </tr>\n    <tr>\n      <th>148793</th>\n      <td>139282</td>\n      <td>383-4082</td>\n      <td>163570</td>\n      <td>122824</td>\n      <td>NaN</td>\n      <td>&lt;NA&gt;</td>\n    </tr>\n  </tbody>\n</table>\n<p>74 rows × 6 columns</p>\n</div>"
     },
     "execution_count": 31,
     "metadata": {},
     "output_type": "execute_result"
    }
   ],
   "source": [
    "cdc.to_csv('output/pre-processing/cdc.csv')\n",
    "cdc[cdc['Academy Trust UPIN'] == 122824]"
   ],
   "metadata": {
    "collapsed": false,
    "ExecuteTime": {
     "end_time": "2024-03-28T08:26:58.595368Z",
     "start_time": "2024-03-28T08:26:58.542900Z"
    }
   },
   "id": "57ab167f20fdbd03",
   "execution_count": 31
  },
  {
   "cell_type": "markdown",
   "source": [
    "## School Census data load\n",
    "\n",
    "*Pupil Census* - DfE data collection providing information about school and pupil characteristics, for example percentage of pupils claiming free school`z meals, or having English as their second language. \n",
    "\n",
    "*Workforce census* - Single reference for all school workforce statistics based on staff working in publicly funded schools in England.\n",
    "\n",
    "The following code loads both the workforce and pupil census data and preforms an `inner` join by URN on the data sets."
   ],
   "metadata": {
    "collapsed": false
   },
   "id": "25a30c5a4a9b466"
  },
  {
   "cell_type": "code",
   "outputs": [],
   "source": [
    "school_workforce_census = pd.read_excel('data/School_Tables_School_Workforce_Census_2022.xlsx', header=5, index_col=schemas.workforce_census_index_col, usecols=schemas.workforce_census.keys(), dtype=schemas.workforce_census, na_values=[\"x\",\"u\"], keep_default_na=True).drop_duplicates()\n",
    "\n",
    "school_pupil_census = pd.read_csv('data/standing_data_census_pupils.csv', encoding='utf8', index_col=schemas.pupil_census_index_col, usecols=schemas.pupil_census.keys(), dtype=schemas.pupil_census).drop_duplicates()\n",
    "\n",
    "census = school_pupil_census.join(school_workforce_census, on='URN', how='inner', rsuffix='_pupil', lsuffix='_workforce')\n",
    "\n",
    "census = pd.concat([\n",
    "    academies_lookup.join(census, on='URN', how='left'),\n",
    "    maintained_schools_lookup.join(census, on='URN', how='left')\n",
    "]).sort_index()\n",
    "                 "
   ],
   "metadata": {
    "collapsed": false,
    "ExecuteTime": {
     "end_time": "2024-03-28T08:27:05.037164Z",
     "start_time": "2024-03-28T08:26:58.596Z"
    }
   },
   "id": "20079a09f9200d0e",
   "execution_count": 32
  },
  {
   "cell_type": "code",
   "outputs": [
    {
     "data": {
      "text/plain": "        LinkURN LA Establishment Number  Academy UPIN  Academy Trust UPIN  \\\nURN                                                                         \n100000     <NA>                201-3614          <NA>                <NA>   \n100005     <NA>                202-1048          <NA>                <NA>   \n100006   134643                202-1100          <NA>                <NA>   \n100007     <NA>                202-1101          <NA>                <NA>   \n100008     <NA>                202-2019          <NA>                <NA>   \n...         ...                     ...           ...                 ...   \n149222   140063                880-2006        163969              139657   \n149222   140063                880-2006        163969              135225   \n149299   107428                380-4094        162962              135834   \n149396   138429                916-7026        164084              139729   \n149396   138429                916-7026        164084              138199   \n\n        full time pupils  headcount of pupils  \\\nURN                                             \n100000             271.0                271.0   \n100005              79.0                136.0   \n100006              19.0                 19.0   \n100007              19.0                 19.0   \n100008             350.0                350.0   \n...                  ...                  ...   \n149222             492.0                492.0   \n149222             492.0                492.0   \n149299             862.0                862.0   \n149396              60.0                 60.0   \n149396              60.0                 60.0   \n\n        % of pupils known to be eligible for and claiming free school me  \\\nURN                                                                        \n100000                                                9.2                  \n100005                                               38.2                  \n100006                                                0.0                  \n100007                                                0.0                  \n100008                                               53.1                  \n...                                                   ...                  \n149222                                               23.6                  \n149222                                               23.6                  \n149299                                               23.3                  \n149396                                               63.3                  \n149396                                               63.3                  \n\n        number of pupils whose first language is known or believed to be other than English  \\\nURN                                                                                           \n100000                                              145.0                                     \n100005                                               38.0                                     \n100006                                                5.0                                     \n100007                                                4.0                                     \n100008                                              306.0                                     \n...                                                   ...                                     \n149222                                               77.0                                     \n149222                                               77.0                                     \n149299                                              388.0                                     \n149396                                                0.0                                     \n149396                                                0.0                                     \n\n        Total School Workforce (Full-Time Equivalent)  \\\nURN                                                     \n100000                                          41.62   \n100005                                          37.48   \n100006                                          26.30   \n100007                                          31.58   \n100008                                          45.22   \n...                                               ...   \n149222                                          59.25   \n149222                                          59.25   \n149299                                         126.89   \n149396                                          28.36   \n149396                                          28.36   \n\n        Total Number of Teachers (Full-Time Equivalent)  \\\nURN                                                       \n100000                                            15.64   \n100005                                             4.31   \n100006                                             9.80   \n100007                                            15.80   \n100008                                            18.60   \n...                                                 ...   \n149222                                            25.39   \n149222                                            25.39   \n149299                                            64.89   \n149396                                            13.00   \n149396                                            13.00   \n\n        Pupil: Teacher Ratio (Full-Time Equivalent of qualified and unqualified teachers)  \\\nURN                                                                                         \n100000                                               17.3                                   \n100005                                               24.9                                   \n100006                                                5.0                                   \n100007                                                1.2                                   \n100008                                               18.8                                   \n...                                                   ...                                   \n149222                                               19.4                                   \n149222                                               19.4                                   \n149299                                               13.3                                   \n149396                                                4.6                                   \n149396                                                4.6                                   \n\n        Number of Vacant Teacher Posts  \nURN                                     \n100000                             0.0  \n100005                             0.0  \n100006                             1.0  \n100007                             0.0  \n100008                             0.0  \n...                                ...  \n149222                             0.0  \n149222                             0.0  \n149299                             1.0  \n149396                             0.0  \n149396                             0.0  \n\n[21012 rows x 12 columns]",
      "text/html": "<div>\n<style scoped>\n    .dataframe tbody tr th:only-of-type {\n        vertical-align: middle;\n    }\n\n    .dataframe tbody tr th {\n        vertical-align: top;\n    }\n\n    .dataframe thead th {\n        text-align: right;\n    }\n</style>\n<table border=\"1\" class=\"dataframe\">\n  <thead>\n    <tr style=\"text-align: right;\">\n      <th></th>\n      <th>LinkURN</th>\n      <th>LA Establishment Number</th>\n      <th>Academy UPIN</th>\n      <th>Academy Trust UPIN</th>\n      <th>full time pupils</th>\n      <th>headcount of pupils</th>\n      <th>% of pupils known to be eligible for and claiming free school me</th>\n      <th>number of pupils whose first language is known or believed to be other than English</th>\n      <th>Total School Workforce (Full-Time Equivalent)</th>\n      <th>Total Number of Teachers (Full-Time Equivalent)</th>\n      <th>Pupil: Teacher Ratio (Full-Time Equivalent of qualified and unqualified teachers)</th>\n      <th>Number of Vacant Teacher Posts</th>\n    </tr>\n    <tr>\n      <th>URN</th>\n      <th></th>\n      <th></th>\n      <th></th>\n      <th></th>\n      <th></th>\n      <th></th>\n      <th></th>\n      <th></th>\n      <th></th>\n      <th></th>\n      <th></th>\n      <th></th>\n    </tr>\n  </thead>\n  <tbody>\n    <tr>\n      <th>100000</th>\n      <td>&lt;NA&gt;</td>\n      <td>201-3614</td>\n      <td>&lt;NA&gt;</td>\n      <td>&lt;NA&gt;</td>\n      <td>271.0</td>\n      <td>271.0</td>\n      <td>9.2</td>\n      <td>145.0</td>\n      <td>41.62</td>\n      <td>15.64</td>\n      <td>17.3</td>\n      <td>0.0</td>\n    </tr>\n    <tr>\n      <th>100005</th>\n      <td>&lt;NA&gt;</td>\n      <td>202-1048</td>\n      <td>&lt;NA&gt;</td>\n      <td>&lt;NA&gt;</td>\n      <td>79.0</td>\n      <td>136.0</td>\n      <td>38.2</td>\n      <td>38.0</td>\n      <td>37.48</td>\n      <td>4.31</td>\n      <td>24.9</td>\n      <td>0.0</td>\n    </tr>\n    <tr>\n      <th>100006</th>\n      <td>134643</td>\n      <td>202-1100</td>\n      <td>&lt;NA&gt;</td>\n      <td>&lt;NA&gt;</td>\n      <td>19.0</td>\n      <td>19.0</td>\n      <td>0.0</td>\n      <td>5.0</td>\n      <td>26.30</td>\n      <td>9.80</td>\n      <td>5.0</td>\n      <td>1.0</td>\n    </tr>\n    <tr>\n      <th>100007</th>\n      <td>&lt;NA&gt;</td>\n      <td>202-1101</td>\n      <td>&lt;NA&gt;</td>\n      <td>&lt;NA&gt;</td>\n      <td>19.0</td>\n      <td>19.0</td>\n      <td>0.0</td>\n      <td>4.0</td>\n      <td>31.58</td>\n      <td>15.80</td>\n      <td>1.2</td>\n      <td>0.0</td>\n    </tr>\n    <tr>\n      <th>100008</th>\n      <td>&lt;NA&gt;</td>\n      <td>202-2019</td>\n      <td>&lt;NA&gt;</td>\n      <td>&lt;NA&gt;</td>\n      <td>350.0</td>\n      <td>350.0</td>\n      <td>53.1</td>\n      <td>306.0</td>\n      <td>45.22</td>\n      <td>18.60</td>\n      <td>18.8</td>\n      <td>0.0</td>\n    </tr>\n    <tr>\n      <th>...</th>\n      <td>...</td>\n      <td>...</td>\n      <td>...</td>\n      <td>...</td>\n      <td>...</td>\n      <td>...</td>\n      <td>...</td>\n      <td>...</td>\n      <td>...</td>\n      <td>...</td>\n      <td>...</td>\n      <td>...</td>\n    </tr>\n    <tr>\n      <th>149222</th>\n      <td>140063</td>\n      <td>880-2006</td>\n      <td>163969</td>\n      <td>139657</td>\n      <td>492.0</td>\n      <td>492.0</td>\n      <td>23.6</td>\n      <td>77.0</td>\n      <td>59.25</td>\n      <td>25.39</td>\n      <td>19.4</td>\n      <td>0.0</td>\n    </tr>\n    <tr>\n      <th>149222</th>\n      <td>140063</td>\n      <td>880-2006</td>\n      <td>163969</td>\n      <td>135225</td>\n      <td>492.0</td>\n      <td>492.0</td>\n      <td>23.6</td>\n      <td>77.0</td>\n      <td>59.25</td>\n      <td>25.39</td>\n      <td>19.4</td>\n      <td>0.0</td>\n    </tr>\n    <tr>\n      <th>149299</th>\n      <td>107428</td>\n      <td>380-4094</td>\n      <td>162962</td>\n      <td>135834</td>\n      <td>862.0</td>\n      <td>862.0</td>\n      <td>23.3</td>\n      <td>388.0</td>\n      <td>126.89</td>\n      <td>64.89</td>\n      <td>13.3</td>\n      <td>1.0</td>\n    </tr>\n    <tr>\n      <th>149396</th>\n      <td>138429</td>\n      <td>916-7026</td>\n      <td>164084</td>\n      <td>139729</td>\n      <td>60.0</td>\n      <td>60.0</td>\n      <td>63.3</td>\n      <td>0.0</td>\n      <td>28.36</td>\n      <td>13.00</td>\n      <td>4.6</td>\n      <td>0.0</td>\n    </tr>\n    <tr>\n      <th>149396</th>\n      <td>138429</td>\n      <td>916-7026</td>\n      <td>164084</td>\n      <td>138199</td>\n      <td>60.0</td>\n      <td>60.0</td>\n      <td>63.3</td>\n      <td>0.0</td>\n      <td>28.36</td>\n      <td>13.00</td>\n      <td>4.6</td>\n      <td>0.0</td>\n    </tr>\n  </tbody>\n</table>\n<p>21012 rows × 12 columns</p>\n</div>"
     },
     "execution_count": 33,
     "metadata": {},
     "output_type": "execute_result"
    }
   ],
   "source": [
    "census.to_csv('output/pre-processing/census.csv')\n",
    "census"
   ],
   "metadata": {
    "collapsed": false,
    "ExecuteTime": {
     "end_time": "2024-03-28T08:27:05.139236Z",
     "start_time": "2024-03-28T08:27:05.040504Z"
    }
   },
   "id": "798d07eae73e8bba",
   "execution_count": 33
  },
  {
   "cell_type": "markdown",
   "source": [
    "## Special Education Needs (SEN) data load and preparation\n",
    "\n",
    "Special educational needs dataset. Contains information about the number of pupils, who require various SEN provisions. This loads the `SEN` data, which originates from [here](https://explore-education-statistics.service.gov.uk/find-statistics/special-educational-needs-in-england#dataDownloads-1)"
   ],
   "metadata": {
    "collapsed": false
   },
   "id": "eb83d7512643b7a1"
  },
  {
   "cell_type": "code",
   "outputs": [],
   "source": [
    "sen = pd.read_csv('data/SEN.csv', encoding='cp1252', index_col=schemas.sen_index_col, dtype=schemas.sen, usecols=schemas.sen.keys())\n",
    "\n",
    "sen['% of pupils with special educational needs support'] = (sen['EHC plan'] / sen['Total pupils']) * 100.0\n",
    "\n",
    "sen = pd.concat([\n",
    "    academies_lookup.join(sen, on='URN', how='left'),\n",
    "    maintained_schools_lookup.join(sen, on='URN', how='left')\n",
    "]).sort_index()"
   ],
   "metadata": {
    "collapsed": false,
    "ExecuteTime": {
     "end_time": "2024-03-28T08:27:05.506013Z",
     "start_time": "2024-03-28T08:27:05.140089Z"
    }
   },
   "id": "1a164f2280c8e888",
   "execution_count": 34
  },
  {
   "cell_type": "code",
   "outputs": [
    {
     "data": {
      "text/plain": "        LinkURN LA Establishment Number  Academy UPIN  Academy Trust UPIN  \\\nURN                                                                         \n100000     <NA>                201-3614          <NA>                <NA>   \n100005     <NA>                202-1048          <NA>                <NA>   \n100006   134643                202-1100          <NA>                <NA>   \n100007     <NA>                202-1101          <NA>                <NA>   \n100008     <NA>                202-2019          <NA>                <NA>   \n...         ...                     ...           ...                 ...   \n149222   140063                880-2006        163969              139657   \n149222   140063                880-2006        163969              135225   \n149299   107428                380-4094        162962              135834   \n149396   138429                916-7026        164084              139729   \n149396   138429                916-7026        164084              138199   \n\n        Total pupils  SEN support  EHC plan  EHC_Primary_need_spld  \\\nURN                                                                  \n100000           271           59         8                      0   \n100005           136           23         2                      0   \n100006            19           13         0                      0   \n100007            19           10         9                      0   \n100008           350           61        12                      0   \n...              ...          ...       ...                    ...   \n149222           492           68        17                      0   \n149222           492           68        17                      0   \n149299           862          144        34                      2   \n149396            60            0        60                      3   \n149396            60            0        60                      3   \n\n        EHC_Primary_need_mld  EHC_Primary_need_sld  ...  \\\nURN                                                 ...   \n100000                     0                     0  ...   \n100005                     0                     0  ...   \n100006                     0                     0  ...   \n100007                     0                     0  ...   \n100008                     0                     2  ...   \n...                      ...                   ...  ...   \n149222                     2                     0  ...   \n149222                     2                     0  ...   \n149299                     3                     0  ...   \n149396                     5                     0  ...   \n149396                     5                     0  ...   \n\n        SUP_Primary_need_semh  SUP_Primary_need_slcn  SUP_Primary_need_hi  \\\nURN                                                                         \n100000                      8                     30                    2   \n100005                      0                      0                    0   \n100006                     10                      1                    0   \n100007                      9                      1                    0   \n100008                      5                     19                    0   \n...                       ...                    ...                  ...   \n149222                     25                      5                    0   \n149222                     25                      5                    0   \n149299                     36                     10                    8   \n149396                      0                      0                    0   \n149396                      0                      0                    0   \n\n        SUP_Primary_need_vi  SUP_Primary_need_msi  SUP_Primary_need_pd  \\\nURN                                                                      \n100000                    0                     2                    0   \n100005                    0                     0                    1   \n100006                    0                     0                    0   \n100007                    0                     0                    0   \n100008                    0                     0                    0   \n...                     ...                   ...                  ...   \n149222                    0                     0                    1   \n149222                    0                     0                    1   \n149299                    2                     0                    6   \n149396                    0                     0                    0   \n149396                    0                     0                    0   \n\n        SUP_Primary_need_asd  SUP_Primary_need_oth  SUP_Primary_need_nsa  \\\nURN                                                                        \n100000                     4                     0                     7   \n100005                    21                     1                     0   \n100006                     0                     0                     1   \n100007                     0                     0                     0   \n100008                     3                     4                     0   \n...                      ...                   ...                   ...   \n149222                     0                     0                    14   \n149222                     0                     0                    14   \n149299                    10                     2                     0   \n149396                     0                     0                     0   \n149396                     0                     0                     0   \n\n        % of pupils with special educational needs support  \nURN                                                         \n100000                                            2.95203   \n100005                                           1.470588   \n100006                                                0.0   \n100007                                          47.368421   \n100008                                           3.428571   \n...                                                   ...   \n149222                                           3.455285   \n149222                                           3.455285   \n149299                                           3.944316   \n149396                                              100.0   \n149396                                              100.0   \n\n[21012 rows x 34 columns]",
      "text/html": "<div>\n<style scoped>\n    .dataframe tbody tr th:only-of-type {\n        vertical-align: middle;\n    }\n\n    .dataframe tbody tr th {\n        vertical-align: top;\n    }\n\n    .dataframe thead th {\n        text-align: right;\n    }\n</style>\n<table border=\"1\" class=\"dataframe\">\n  <thead>\n    <tr style=\"text-align: right;\">\n      <th></th>\n      <th>LinkURN</th>\n      <th>LA Establishment Number</th>\n      <th>Academy UPIN</th>\n      <th>Academy Trust UPIN</th>\n      <th>Total pupils</th>\n      <th>SEN support</th>\n      <th>EHC plan</th>\n      <th>EHC_Primary_need_spld</th>\n      <th>EHC_Primary_need_mld</th>\n      <th>EHC_Primary_need_sld</th>\n      <th>...</th>\n      <th>SUP_Primary_need_semh</th>\n      <th>SUP_Primary_need_slcn</th>\n      <th>SUP_Primary_need_hi</th>\n      <th>SUP_Primary_need_vi</th>\n      <th>SUP_Primary_need_msi</th>\n      <th>SUP_Primary_need_pd</th>\n      <th>SUP_Primary_need_asd</th>\n      <th>SUP_Primary_need_oth</th>\n      <th>SUP_Primary_need_nsa</th>\n      <th>% of pupils with special educational needs support</th>\n    </tr>\n    <tr>\n      <th>URN</th>\n      <th></th>\n      <th></th>\n      <th></th>\n      <th></th>\n      <th></th>\n      <th></th>\n      <th></th>\n      <th></th>\n      <th></th>\n      <th></th>\n      <th></th>\n      <th></th>\n      <th></th>\n      <th></th>\n      <th></th>\n      <th></th>\n      <th></th>\n      <th></th>\n      <th></th>\n      <th></th>\n      <th></th>\n    </tr>\n  </thead>\n  <tbody>\n    <tr>\n      <th>100000</th>\n      <td>&lt;NA&gt;</td>\n      <td>201-3614</td>\n      <td>&lt;NA&gt;</td>\n      <td>&lt;NA&gt;</td>\n      <td>271</td>\n      <td>59</td>\n      <td>8</td>\n      <td>0</td>\n      <td>0</td>\n      <td>0</td>\n      <td>...</td>\n      <td>8</td>\n      <td>30</td>\n      <td>2</td>\n      <td>0</td>\n      <td>2</td>\n      <td>0</td>\n      <td>4</td>\n      <td>0</td>\n      <td>7</td>\n      <td>2.95203</td>\n    </tr>\n    <tr>\n      <th>100005</th>\n      <td>&lt;NA&gt;</td>\n      <td>202-1048</td>\n      <td>&lt;NA&gt;</td>\n      <td>&lt;NA&gt;</td>\n      <td>136</td>\n      <td>23</td>\n      <td>2</td>\n      <td>0</td>\n      <td>0</td>\n      <td>0</td>\n      <td>...</td>\n      <td>0</td>\n      <td>0</td>\n      <td>0</td>\n      <td>0</td>\n      <td>0</td>\n      <td>1</td>\n      <td>21</td>\n      <td>1</td>\n      <td>0</td>\n      <td>1.470588</td>\n    </tr>\n    <tr>\n      <th>100006</th>\n      <td>134643</td>\n      <td>202-1100</td>\n      <td>&lt;NA&gt;</td>\n      <td>&lt;NA&gt;</td>\n      <td>19</td>\n      <td>13</td>\n      <td>0</td>\n      <td>0</td>\n      <td>0</td>\n      <td>0</td>\n      <td>...</td>\n      <td>10</td>\n      <td>1</td>\n      <td>0</td>\n      <td>0</td>\n      <td>0</td>\n      <td>0</td>\n      <td>0</td>\n      <td>0</td>\n      <td>1</td>\n      <td>0.0</td>\n    </tr>\n    <tr>\n      <th>100007</th>\n      <td>&lt;NA&gt;</td>\n      <td>202-1101</td>\n      <td>&lt;NA&gt;</td>\n      <td>&lt;NA&gt;</td>\n      <td>19</td>\n      <td>10</td>\n      <td>9</td>\n      <td>0</td>\n      <td>0</td>\n      <td>0</td>\n      <td>...</td>\n      <td>9</td>\n      <td>1</td>\n      <td>0</td>\n      <td>0</td>\n      <td>0</td>\n      <td>0</td>\n      <td>0</td>\n      <td>0</td>\n      <td>0</td>\n      <td>47.368421</td>\n    </tr>\n    <tr>\n      <th>100008</th>\n      <td>&lt;NA&gt;</td>\n      <td>202-2019</td>\n      <td>&lt;NA&gt;</td>\n      <td>&lt;NA&gt;</td>\n      <td>350</td>\n      <td>61</td>\n      <td>12</td>\n      <td>0</td>\n      <td>0</td>\n      <td>2</td>\n      <td>...</td>\n      <td>5</td>\n      <td>19</td>\n      <td>0</td>\n      <td>0</td>\n      <td>0</td>\n      <td>0</td>\n      <td>3</td>\n      <td>4</td>\n      <td>0</td>\n      <td>3.428571</td>\n    </tr>\n    <tr>\n      <th>...</th>\n      <td>...</td>\n      <td>...</td>\n      <td>...</td>\n      <td>...</td>\n      <td>...</td>\n      <td>...</td>\n      <td>...</td>\n      <td>...</td>\n      <td>...</td>\n      <td>...</td>\n      <td>...</td>\n      <td>...</td>\n      <td>...</td>\n      <td>...</td>\n      <td>...</td>\n      <td>...</td>\n      <td>...</td>\n      <td>...</td>\n      <td>...</td>\n      <td>...</td>\n      <td>...</td>\n    </tr>\n    <tr>\n      <th>149222</th>\n      <td>140063</td>\n      <td>880-2006</td>\n      <td>163969</td>\n      <td>139657</td>\n      <td>492</td>\n      <td>68</td>\n      <td>17</td>\n      <td>0</td>\n      <td>2</td>\n      <td>0</td>\n      <td>...</td>\n      <td>25</td>\n      <td>5</td>\n      <td>0</td>\n      <td>0</td>\n      <td>0</td>\n      <td>1</td>\n      <td>0</td>\n      <td>0</td>\n      <td>14</td>\n      <td>3.455285</td>\n    </tr>\n    <tr>\n      <th>149222</th>\n      <td>140063</td>\n      <td>880-2006</td>\n      <td>163969</td>\n      <td>135225</td>\n      <td>492</td>\n      <td>68</td>\n      <td>17</td>\n      <td>0</td>\n      <td>2</td>\n      <td>0</td>\n      <td>...</td>\n      <td>25</td>\n      <td>5</td>\n      <td>0</td>\n      <td>0</td>\n      <td>0</td>\n      <td>1</td>\n      <td>0</td>\n      <td>0</td>\n      <td>14</td>\n      <td>3.455285</td>\n    </tr>\n    <tr>\n      <th>149299</th>\n      <td>107428</td>\n      <td>380-4094</td>\n      <td>162962</td>\n      <td>135834</td>\n      <td>862</td>\n      <td>144</td>\n      <td>34</td>\n      <td>2</td>\n      <td>3</td>\n      <td>0</td>\n      <td>...</td>\n      <td>36</td>\n      <td>10</td>\n      <td>8</td>\n      <td>2</td>\n      <td>0</td>\n      <td>6</td>\n      <td>10</td>\n      <td>2</td>\n      <td>0</td>\n      <td>3.944316</td>\n    </tr>\n    <tr>\n      <th>149396</th>\n      <td>138429</td>\n      <td>916-7026</td>\n      <td>164084</td>\n      <td>139729</td>\n      <td>60</td>\n      <td>0</td>\n      <td>60</td>\n      <td>3</td>\n      <td>5</td>\n      <td>0</td>\n      <td>...</td>\n      <td>0</td>\n      <td>0</td>\n      <td>0</td>\n      <td>0</td>\n      <td>0</td>\n      <td>0</td>\n      <td>0</td>\n      <td>0</td>\n      <td>0</td>\n      <td>100.0</td>\n    </tr>\n    <tr>\n      <th>149396</th>\n      <td>138429</td>\n      <td>916-7026</td>\n      <td>164084</td>\n      <td>138199</td>\n      <td>60</td>\n      <td>0</td>\n      <td>60</td>\n      <td>3</td>\n      <td>5</td>\n      <td>0</td>\n      <td>...</td>\n      <td>0</td>\n      <td>0</td>\n      <td>0</td>\n      <td>0</td>\n      <td>0</td>\n      <td>0</td>\n      <td>0</td>\n      <td>0</td>\n      <td>0</td>\n      <td>100.0</td>\n    </tr>\n  </tbody>\n</table>\n<p>21012 rows × 34 columns</p>\n</div>"
     },
     "execution_count": 35,
     "metadata": {},
     "output_type": "execute_result"
    }
   ],
   "source": [
    "sen.to_csv(\"output/pre-processing/sen.csv\")\n",
    "sen"
   ],
   "metadata": {
    "collapsed": false,
    "ExecuteTime": {
     "end_time": "2024-03-28T08:27:05.617682Z",
     "start_time": "2024-03-28T08:27:05.506759Z"
    }
   },
   "id": "62cfde44fd23bbb1",
   "execution_count": 35
  },
  {
   "cell_type": "markdown",
   "source": [
    "## AR Data load and preparation\n",
    "\n",
    "This loads the Annual accounts return dataset and the corresponding mapping file. This extract only contains benchmarking section, which consists of submissions of costs, income, and balances of individual academies.\n",
    "\n",
    "The mapping file, contains the mapping from AR4 cell references to cost categories and descriptions."
   ],
   "metadata": {
    "collapsed": false
   },
   "id": "5c3570cf02009cb5"
  },
  {
   "cell_type": "code",
   "outputs": [],
   "source": [
    "ar_cell_mapping = pd.read_csv('data/AR_cell_mapping.csv', encoding='utf8', index_col=schemas.ar_cell_mapping_index_col, usecols=schemas.ar_cell_mapping.keys(), dtype=schemas.ar_cell_mapping)\n",
    "\n",
    "ar_raw = pd.read_csv('data/AR_raw.csv', encoding='utf8', index_col=schemas.ar_index_col, usecols=schemas.ar.keys(), dtype=schemas.ar)\n",
    "\n",
    "ar = ar_raw.reset_index().merge(ar_cell_mapping, right_on='cell', left_on='aruniquereference').set_index(schemas.ar_index_col)\n",
    "ar = (academies_lookup.reset_index()\n",
    "      .merge(ar, left_on='Academy UPIN', right_on='academyupin', how='left')\n",
    "      .join(cdc[['Total Internal Floor Area', 'Score']], on='URN', how='left', rsuffix='_cdc', lsuffix='_ar')).drop(['trustupin', 'companynumber'], axis=1)\n",
    "\n",
    "ar.set_index('URN', inplace=True)"
   ],
   "metadata": {
    "collapsed": false,
    "ExecuteTime": {
     "end_time": "2024-03-28T08:27:06.679006Z",
     "start_time": "2024-03-28T08:27:05.618942Z"
    }
   },
   "id": "2f6a04d7dc922f02",
   "execution_count": 36
  },
  {
   "cell_type": "code",
   "outputs": [
    {
     "data": {
      "text/plain": "        LinkURN LA Establishment Number  Academy UPIN  Academy Trust UPIN  \\\nURN                                                                         \n148853   114221                840-3130        163480              139821   \n148853   114221                840-3130        163480              139821   \n148853   114221                840-3130        163480              139821   \n148853   114221                840-3130        163480              139821   \n148853   114221                840-3130        163480              139821   \n...         ...                     ...           ...                 ...   \n138300   119255                890-2221        122121              137035   \n138300   119255                890-2221        122121              137035   \n138300   119255                890-2221        122121              137035   \n138300   119255                890-2221        122121              137035   \n138300   119255                890-2221        122121              137035   \n\n       aruniquereference   value               Description L1  \\\nURN                                                             \n148853          BAE010-T   240.0                  Staff costs   \n148853          BAE020-T     0.0                  Staff costs   \n148853          BAE030-T    89.0                  Staff costs   \n148853          BAE040-T    17.0                  Staff costs   \n148853          BAE050-T    25.0                  Staff costs   \n...                  ...     ...                          ...   \n138300          BAE310-T     0.0  Other supplies and services   \n138300          BAE320-T     0.0                Funding costs   \n138300          BAI110-T     0.0        Self-generated income   \n138300          BAITOT-T  3778.0         Total revenue income   \n138300          BAB030-T  1358.0              Closing balance   \n\n                                                   Metric  Metric ID  \\\nURN                                                                    \n148853                                     Teaching staff          1   \n148853                              Supply teaching staff          5   \n148853                            Education support staff          2   \n148853                  Administrative and clerical staff          6   \n148853                                     Premises staff         14   \n...                                                   ...        ...   \n138300                                        PFI charges         25   \n138300                 Interest charges for loan and bank         32   \n138300                               Income from catering         33   \n138300                               Total revenue income          0   \n138300  Closing balance (Restricted and Unrestricted F...          0   \n\n                                  Cost Pool  \\\nURN                                           \n148853  Teaching and Teaching support staff   \n148853  Teaching and Teaching support staff   \n148853  Teaching and Teaching support staff   \n148853        Non-educational support staff   \n148853                             Premises   \n...                                     ...   \n138300                          Other costs   \n138300                          Other costs   \n138300                             Catering   \n138300                                 <NA>   \n138300                                 <NA>   \n\n                          Presentation name  Cost Pool ID  \\\nURN                                                         \n148853  Teaching and Teaching support staff             1   \n148853  Teaching and Teaching support staff             1   \n148853  Teaching and Teaching support staff             1   \n148853        Non-educational support staff             2   \n148853                             Premises             5   \n...                                     ...           ...   \n138300                          Other costs             9   \n138300                          Other costs             9   \n138300                      Catering income            10   \n138300                                 <NA>             0   \n138300                                 <NA>             0   \n\n        Total Internal Floor Area      Score  \nURN                                           \n148853                        NaN       <NA>  \n148853                        NaN       <NA>  \n148853                        NaN       <NA>  \n148853                        NaN       <NA>  \n148853                        NaN       <NA>  \n...                           ...        ...  \n138300                     6531.0  91.396264  \n138300                     6531.0  91.396264  \n138300                     6531.0  91.396264  \n138300                     6531.0  91.396264  \n138300                     6531.0  91.396264  \n\n[383753 rows x 14 columns]",
      "text/html": "<div>\n<style scoped>\n    .dataframe tbody tr th:only-of-type {\n        vertical-align: middle;\n    }\n\n    .dataframe tbody tr th {\n        vertical-align: top;\n    }\n\n    .dataframe thead th {\n        text-align: right;\n    }\n</style>\n<table border=\"1\" class=\"dataframe\">\n  <thead>\n    <tr style=\"text-align: right;\">\n      <th></th>\n      <th>LinkURN</th>\n      <th>LA Establishment Number</th>\n      <th>Academy UPIN</th>\n      <th>Academy Trust UPIN</th>\n      <th>aruniquereference</th>\n      <th>value</th>\n      <th>Description L1</th>\n      <th>Metric</th>\n      <th>Metric ID</th>\n      <th>Cost Pool</th>\n      <th>Presentation name</th>\n      <th>Cost Pool ID</th>\n      <th>Total Internal Floor Area</th>\n      <th>Score</th>\n    </tr>\n    <tr>\n      <th>URN</th>\n      <th></th>\n      <th></th>\n      <th></th>\n      <th></th>\n      <th></th>\n      <th></th>\n      <th></th>\n      <th></th>\n      <th></th>\n      <th></th>\n      <th></th>\n      <th></th>\n      <th></th>\n      <th></th>\n    </tr>\n  </thead>\n  <tbody>\n    <tr>\n      <th>148853</th>\n      <td>114221</td>\n      <td>840-3130</td>\n      <td>163480</td>\n      <td>139821</td>\n      <td>BAE010-T</td>\n      <td>240.0</td>\n      <td>Staff costs</td>\n      <td>Teaching staff</td>\n      <td>1</td>\n      <td>Teaching and Teaching support staff</td>\n      <td>Teaching and Teaching support staff</td>\n      <td>1</td>\n      <td>NaN</td>\n      <td>&lt;NA&gt;</td>\n    </tr>\n    <tr>\n      <th>148853</th>\n      <td>114221</td>\n      <td>840-3130</td>\n      <td>163480</td>\n      <td>139821</td>\n      <td>BAE020-T</td>\n      <td>0.0</td>\n      <td>Staff costs</td>\n      <td>Supply teaching staff</td>\n      <td>5</td>\n      <td>Teaching and Teaching support staff</td>\n      <td>Teaching and Teaching support staff</td>\n      <td>1</td>\n      <td>NaN</td>\n      <td>&lt;NA&gt;</td>\n    </tr>\n    <tr>\n      <th>148853</th>\n      <td>114221</td>\n      <td>840-3130</td>\n      <td>163480</td>\n      <td>139821</td>\n      <td>BAE030-T</td>\n      <td>89.0</td>\n      <td>Staff costs</td>\n      <td>Education support staff</td>\n      <td>2</td>\n      <td>Teaching and Teaching support staff</td>\n      <td>Teaching and Teaching support staff</td>\n      <td>1</td>\n      <td>NaN</td>\n      <td>&lt;NA&gt;</td>\n    </tr>\n    <tr>\n      <th>148853</th>\n      <td>114221</td>\n      <td>840-3130</td>\n      <td>163480</td>\n      <td>139821</td>\n      <td>BAE040-T</td>\n      <td>17.0</td>\n      <td>Staff costs</td>\n      <td>Administrative and clerical staff</td>\n      <td>6</td>\n      <td>Non-educational support staff</td>\n      <td>Non-educational support staff</td>\n      <td>2</td>\n      <td>NaN</td>\n      <td>&lt;NA&gt;</td>\n    </tr>\n    <tr>\n      <th>148853</th>\n      <td>114221</td>\n      <td>840-3130</td>\n      <td>163480</td>\n      <td>139821</td>\n      <td>BAE050-T</td>\n      <td>25.0</td>\n      <td>Staff costs</td>\n      <td>Premises staff</td>\n      <td>14</td>\n      <td>Premises</td>\n      <td>Premises</td>\n      <td>5</td>\n      <td>NaN</td>\n      <td>&lt;NA&gt;</td>\n    </tr>\n    <tr>\n      <th>...</th>\n      <td>...</td>\n      <td>...</td>\n      <td>...</td>\n      <td>...</td>\n      <td>...</td>\n      <td>...</td>\n      <td>...</td>\n      <td>...</td>\n      <td>...</td>\n      <td>...</td>\n      <td>...</td>\n      <td>...</td>\n      <td>...</td>\n      <td>...</td>\n    </tr>\n    <tr>\n      <th>138300</th>\n      <td>119255</td>\n      <td>890-2221</td>\n      <td>122121</td>\n      <td>137035</td>\n      <td>BAE310-T</td>\n      <td>0.0</td>\n      <td>Other supplies and services</td>\n      <td>PFI charges</td>\n      <td>25</td>\n      <td>Other costs</td>\n      <td>Other costs</td>\n      <td>9</td>\n      <td>6531.0</td>\n      <td>91.396264</td>\n    </tr>\n    <tr>\n      <th>138300</th>\n      <td>119255</td>\n      <td>890-2221</td>\n      <td>122121</td>\n      <td>137035</td>\n      <td>BAE320-T</td>\n      <td>0.0</td>\n      <td>Funding costs</td>\n      <td>Interest charges for loan and bank</td>\n      <td>32</td>\n      <td>Other costs</td>\n      <td>Other costs</td>\n      <td>9</td>\n      <td>6531.0</td>\n      <td>91.396264</td>\n    </tr>\n    <tr>\n      <th>138300</th>\n      <td>119255</td>\n      <td>890-2221</td>\n      <td>122121</td>\n      <td>137035</td>\n      <td>BAI110-T</td>\n      <td>0.0</td>\n      <td>Self-generated income</td>\n      <td>Income from catering</td>\n      <td>33</td>\n      <td>Catering</td>\n      <td>Catering income</td>\n      <td>10</td>\n      <td>6531.0</td>\n      <td>91.396264</td>\n    </tr>\n    <tr>\n      <th>138300</th>\n      <td>119255</td>\n      <td>890-2221</td>\n      <td>122121</td>\n      <td>137035</td>\n      <td>BAITOT-T</td>\n      <td>3778.0</td>\n      <td>Total revenue income</td>\n      <td>Total revenue income</td>\n      <td>0</td>\n      <td>&lt;NA&gt;</td>\n      <td>&lt;NA&gt;</td>\n      <td>0</td>\n      <td>6531.0</td>\n      <td>91.396264</td>\n    </tr>\n    <tr>\n      <th>138300</th>\n      <td>119255</td>\n      <td>890-2221</td>\n      <td>122121</td>\n      <td>137035</td>\n      <td>BAB030-T</td>\n      <td>1358.0</td>\n      <td>Closing balance</td>\n      <td>Closing balance (Restricted and Unrestricted F...</td>\n      <td>0</td>\n      <td>&lt;NA&gt;</td>\n      <td>&lt;NA&gt;</td>\n      <td>0</td>\n      <td>6531.0</td>\n      <td>91.396264</td>\n    </tr>\n  </tbody>\n</table>\n<p>383753 rows × 14 columns</p>\n</div>"
     },
     "execution_count": 37,
     "metadata": {},
     "output_type": "execute_result"
    }
   ],
   "source": [
    "ar.to_csv('output/pre-processing/ar.csv')\n",
    "ar"
   ],
   "metadata": {
    "collapsed": false,
    "ExecuteTime": {
     "end_time": "2024-03-28T08:27:08.196003Z",
     "start_time": "2024-03-28T08:27:06.679637Z"
    }
   },
   "id": "1712e97bc61aff47",
   "execution_count": 37
  },
  {
   "cell_type": "markdown",
   "source": [
    "## Academies data load and preparation \n",
    "\n",
    "A list of academies expected to submit the AAR data, as well as the trust – academy relationship. Academies master list was originally provided to us by Cristelle Ngoune, however it can be acquired by querying AnM (see attached script). \n",
    "\n",
    "This read academy data from the `master_list_raw` data file and joins on the GIAS Data (schools) school_census and CDC data by the 'LA Establishment Number', 'URN' and 'URN' keys respectively. Finally, some further mapping of the Nursery provision and the Academy status is carried out. "
   ],
   "metadata": {
    "collapsed": false
   },
   "id": "32a4b68ee88c7c1c"
  },
  {
   "cell_type": "code",
   "outputs": [],
   "source": [
    "academies = academies_list.merge(schools.reset_index(), left_index=True, right_on='LA Establishment Number')\n",
    "academies.set_index('URN', inplace=True)\n",
    "\n",
    "academies = (academies.join(census, how='left', rsuffix='_census', lsuffix='_academy').filter(regex='^(?!.*_census)')\n",
    "             .join(sen, on='URN', how='left', rsuffix='_sen', lsuffix='_academy').filter(regex='^(?!.*_sen)')\n",
    "             .join(cdc, on='URN', how='left', rsuffix='_cdc', lsuffix='_academycdc').filter(regex='^(?!.*_cdc)'))\n",
    "\n",
    "academies['Type of Provision - Phase'] = academies.apply(lambda df: mappings.map_academy_phase_type(df['TypeOfEstablishment (code)'], df['Type of Provision - Phase']), axis=1)\n",
    "\n",
    "# Bizarre I shouldn't need this as this is coming from the original GIAS dataset, but I seem to have to do this twice. \n",
    "academies['NurseryProvision (name)'] = academies['NurseryProvision (name)'].fillna('')\n",
    "academies['NurseryProvision (name)'] = academies.apply(lambda df: mappings.map_nursery(df['NurseryProvision (name)'], df['Type of Provision - Phase']), axis=1)\n",
    "\n",
    "academies['Status'] = academies.apply(lambda df: mappings.map_academy_status(pd.to_datetime(df['Date left or closed if in period']), \n",
    "                                                                             pd.to_datetime(df['Valid to']), \n",
    "                                                                             pd.to_datetime(df['OpenDate']), \n",
    "                                                                             pd.to_datetime(df['CloseDate']), \n",
    "                                                                             pd.to_datetime(accounts_return_period_start_date), pd.to_datetime(academy_year_start_date), pd.to_datetime(academy_year_end_date)), axis=1)\n",
    "\n",
    "academies.rename(columns={'UKPRN_x':'UKPRN'}, inplace=True)"
   ],
   "metadata": {
    "collapsed": false,
    "ExecuteTime": {
     "end_time": "2024-03-28T09:42:20.537703Z",
     "start_time": "2024-03-28T09:42:18.361855Z"
    }
   },
   "id": "2f5b5d9b44e7947e",
   "execution_count": 44
  },
  {
   "cell_type": "code",
   "outputs": [
    {
     "data": {
      "text/plain": "       Company Registration Number           Incorporation Date  \\\nURN                                                               \n101849                    02369239  1989-04-06 00:00:00.0000000   \n105135                    05210075  2004-08-19 00:00:00.0000000   \n108420                    04464331  2002-06-19 00:00:00.0000000   \n123627                    02414699  1989-08-18 00:00:00.0000000   \n129342                    07525820  2011-02-10 00:00:00.0000000   \n...                            ...                          ...   \n149396                    08075785  2012-05-18 00:00:00.0000000   \n149396                    08075785  2012-05-18 00:00:00.0000000   \n149396                    08075785  2012-05-18 00:00:00.0000000   \n149396                    08075785  2012-05-18 00:00:00.0000000   \n149396                    08075785  2012-05-18 00:00:00.0000000   \n\n        Academy Trust UPIN_academy     UKPRN  \\\nURN                                            \n101849                      134879  10058152   \n105135                      135025  10058185   \n108420                      139672  10064192   \n123627                      134882  10058155   \n129342                      135906  10058513   \n...                            ...       ...   \n149396                      138199  10048061   \n149396                      138199  10048061   \n149396                      138199  10048061   \n149396                      138199  10048061   \n149396                      138199  10048061   \n\n                                   Academy Trust Name  \\\nURN                                                     \n101849                        The BRIT School Limited   \n105135                              St Paul's Academy   \n108420                    Emmanuel Schools Foundation   \n123627  Telford City Technology College Trust Limited   \n129342                            Tove Learning Trust   \n...                                               ...   \n149396                     The White Horse Federation   \n149396                     The White Horse Federation   \n149396                     The White Horse Federation   \n149396                     The White Horse Federation   \n149396                     The White Horse Federation   \n\n                                          Academy Name  Academy UPIN_academy  \\\nURN                                                                            \n101849  BRIT School for Performing Arts and Technology                118384   \n105135                   St Paul's Academy - Greenwich                119110   \n108420                    Emmanuel College - Gateshead                118390   \n123627                           Thomas Telford School                118401   \n129342                          Grace Academy Solihull                118615   \n...                                                ...                   ...   \n149396                                    Peak Academy                164084   \n149396                                    Peak Academy                164084   \n149396                                    Peak Academy                164084   \n149396                                    Peak Academy                164084   \n149396                                    Peak Academy                164084   \n\n                        Trust Type                  Date Opened  \\\nURN                                                               \n101849  Single Academy Trust (SAT)  1991-10-22 00:00:00.0000000   \n105135  Single Academy Trust (SAT)  2005-09-01 00:00:00.0000000   \n108420   Multi Academy Trust (MAT)  1991-04-05 00:00:00.0000000   \n123627  Single Academy Trust (SAT)  1992-02-07 00:00:00.0000000   \n129342   Multi Academy Trust (MAT)  2006-09-01 00:00:00.0000000   \n...                            ...                          ...   \n149396   Multi Academy Trust (MAT)  2012-09-01 00:00:00.0000000   \n149396   Multi Academy Trust (MAT)  2012-09-01 00:00:00.0000000   \n149396   Multi Academy Trust (MAT)  2012-09-01 00:00:00.0000000   \n149396   Multi Academy Trust (MAT)  2012-09-01 00:00:00.0000000   \n149396   Multi Academy Trust (MAT)  2012-09-01 00:00:00.0000000   \n\n                                      LA Name  ... SUP_Primary_need_vi  \\\nURN                                            ...                       \n101849         Croydon London Borough Council  ...                   1   \n105135       Greenwich London Borough Council  ...                   1   \n108420                      Gateshead Council  ...                   4   \n123627             Telford and Wrekin Council  ...                   5   \n129342  Solihull Metropolitan Borough Council  ...                   5   \n...                                       ...  ...                 ...   \n149396         Gloucestershire County Council  ...                   0   \n149396         Gloucestershire County Council  ...                   0   \n149396         Gloucestershire County Council  ...                   0   \n149396         Gloucestershire County Council  ...                   0   \n149396         Gloucestershire County Council  ...                   0   \n\n       SUP_Primary_need_msi SUP_Primary_need_pd SUP_Primary_need_asd  \\\nURN                                                                    \n101849                    0                  16                   32   \n105135                    0                   1                   14   \n108420                    0                   3                   28   \n123627                    1                   7                    6   \n129342                    1                   2                   68   \n...                     ...                 ...                  ...   \n149396                    0                   0                    0   \n149396                    0                   0                    0   \n149396                    0                   0                    0   \n149396                    0                   0                    0   \n149396                    0                   0                    0   \n\n       SUP_Primary_need_oth SUP_Primary_need_nsa  \\\nURN                                                \n101849                    0                    0   \n105135                    3                    7   \n108420                   11                   23   \n123627                    0                    0   \n129342                   21                    0   \n...                     ...                  ...   \n149396                    0                    0   \n149396                    0                    0   \n149396                    0                    0   \n149396                    0                    0   \n149396                    0                    0   \n\n       % of pupils with special educational needs support  \\\nURN                                                         \n101849                                           3.435934   \n105135                                                2.5   \n108420                                           0.692521   \n123627                                            0.12945   \n129342                                           2.447164   \n...                                                   ...   \n149396                                              100.0   \n149396                                              100.0   \n149396                                              100.0   \n149396                                              100.0   \n149396                                              100.0   \n\n       Total Internal Floor Area      Score            Status  \nURN                                                            \n101849                   27058.0  43.834208              Open  \n105135                   11352.0    16.7463              Open  \n108420                   15903.0       37.0              Open  \n123627                   28298.0  23.204891              Open  \n129342                   17294.0  16.930612              Open  \n...                          ...        ...               ...  \n149396                       NaN       <NA>  Closed in period  \n149396                       NaN       <NA>  Closed in period  \n149396                       NaN       <NA>  Closed in period  \n149396                       NaN       <NA>  Closed in period  \n149396                       NaN       <NA>  Closed in period  \n\n[12787 rows x 118 columns]",
      "text/html": "<div>\n<style scoped>\n    .dataframe tbody tr th:only-of-type {\n        vertical-align: middle;\n    }\n\n    .dataframe tbody tr th {\n        vertical-align: top;\n    }\n\n    .dataframe thead th {\n        text-align: right;\n    }\n</style>\n<table border=\"1\" class=\"dataframe\">\n  <thead>\n    <tr style=\"text-align: right;\">\n      <th></th>\n      <th>Company Registration Number</th>\n      <th>Incorporation Date</th>\n      <th>Academy Trust UPIN_academy</th>\n      <th>UKPRN</th>\n      <th>Academy Trust Name</th>\n      <th>Academy Name</th>\n      <th>Academy UPIN_academy</th>\n      <th>Trust Type</th>\n      <th>Date Opened</th>\n      <th>LA Name</th>\n      <th>...</th>\n      <th>SUP_Primary_need_vi</th>\n      <th>SUP_Primary_need_msi</th>\n      <th>SUP_Primary_need_pd</th>\n      <th>SUP_Primary_need_asd</th>\n      <th>SUP_Primary_need_oth</th>\n      <th>SUP_Primary_need_nsa</th>\n      <th>% of pupils with special educational needs support</th>\n      <th>Total Internal Floor Area</th>\n      <th>Score</th>\n      <th>Status</th>\n    </tr>\n    <tr>\n      <th>URN</th>\n      <th></th>\n      <th></th>\n      <th></th>\n      <th></th>\n      <th></th>\n      <th></th>\n      <th></th>\n      <th></th>\n      <th></th>\n      <th></th>\n      <th></th>\n      <th></th>\n      <th></th>\n      <th></th>\n      <th></th>\n      <th></th>\n      <th></th>\n      <th></th>\n      <th></th>\n      <th></th>\n      <th></th>\n    </tr>\n  </thead>\n  <tbody>\n    <tr>\n      <th>101849</th>\n      <td>02369239</td>\n      <td>1989-04-06 00:00:00.0000000</td>\n      <td>134879</td>\n      <td>10058152</td>\n      <td>The BRIT School Limited</td>\n      <td>BRIT School for Performing Arts and Technology</td>\n      <td>118384</td>\n      <td>Single Academy Trust (SAT)</td>\n      <td>1991-10-22 00:00:00.0000000</td>\n      <td>Croydon London Borough Council</td>\n      <td>...</td>\n      <td>1</td>\n      <td>0</td>\n      <td>16</td>\n      <td>32</td>\n      <td>0</td>\n      <td>0</td>\n      <td>3.435934</td>\n      <td>27058.0</td>\n      <td>43.834208</td>\n      <td>Open</td>\n    </tr>\n    <tr>\n      <th>105135</th>\n      <td>05210075</td>\n      <td>2004-08-19 00:00:00.0000000</td>\n      <td>135025</td>\n      <td>10058185</td>\n      <td>St Paul's Academy</td>\n      <td>St Paul's Academy - Greenwich</td>\n      <td>119110</td>\n      <td>Single Academy Trust (SAT)</td>\n      <td>2005-09-01 00:00:00.0000000</td>\n      <td>Greenwich London Borough Council</td>\n      <td>...</td>\n      <td>1</td>\n      <td>0</td>\n      <td>1</td>\n      <td>14</td>\n      <td>3</td>\n      <td>7</td>\n      <td>2.5</td>\n      <td>11352.0</td>\n      <td>16.7463</td>\n      <td>Open</td>\n    </tr>\n    <tr>\n      <th>108420</th>\n      <td>04464331</td>\n      <td>2002-06-19 00:00:00.0000000</td>\n      <td>139672</td>\n      <td>10064192</td>\n      <td>Emmanuel Schools Foundation</td>\n      <td>Emmanuel College - Gateshead</td>\n      <td>118390</td>\n      <td>Multi Academy Trust (MAT)</td>\n      <td>1991-04-05 00:00:00.0000000</td>\n      <td>Gateshead Council</td>\n      <td>...</td>\n      <td>4</td>\n      <td>0</td>\n      <td>3</td>\n      <td>28</td>\n      <td>11</td>\n      <td>23</td>\n      <td>0.692521</td>\n      <td>15903.0</td>\n      <td>37.0</td>\n      <td>Open</td>\n    </tr>\n    <tr>\n      <th>123627</th>\n      <td>02414699</td>\n      <td>1989-08-18 00:00:00.0000000</td>\n      <td>134882</td>\n      <td>10058155</td>\n      <td>Telford City Technology College Trust Limited</td>\n      <td>Thomas Telford School</td>\n      <td>118401</td>\n      <td>Single Academy Trust (SAT)</td>\n      <td>1992-02-07 00:00:00.0000000</td>\n      <td>Telford and Wrekin Council</td>\n      <td>...</td>\n      <td>5</td>\n      <td>1</td>\n      <td>7</td>\n      <td>6</td>\n      <td>0</td>\n      <td>0</td>\n      <td>0.12945</td>\n      <td>28298.0</td>\n      <td>23.204891</td>\n      <td>Open</td>\n    </tr>\n    <tr>\n      <th>129342</th>\n      <td>07525820</td>\n      <td>2011-02-10 00:00:00.0000000</td>\n      <td>135906</td>\n      <td>10058513</td>\n      <td>Tove Learning Trust</td>\n      <td>Grace Academy Solihull</td>\n      <td>118615</td>\n      <td>Multi Academy Trust (MAT)</td>\n      <td>2006-09-01 00:00:00.0000000</td>\n      <td>Solihull Metropolitan Borough Council</td>\n      <td>...</td>\n      <td>5</td>\n      <td>1</td>\n      <td>2</td>\n      <td>68</td>\n      <td>21</td>\n      <td>0</td>\n      <td>2.447164</td>\n      <td>17294.0</td>\n      <td>16.930612</td>\n      <td>Open</td>\n    </tr>\n    <tr>\n      <th>...</th>\n      <td>...</td>\n      <td>...</td>\n      <td>...</td>\n      <td>...</td>\n      <td>...</td>\n      <td>...</td>\n      <td>...</td>\n      <td>...</td>\n      <td>...</td>\n      <td>...</td>\n      <td>...</td>\n      <td>...</td>\n      <td>...</td>\n      <td>...</td>\n      <td>...</td>\n      <td>...</td>\n      <td>...</td>\n      <td>...</td>\n      <td>...</td>\n      <td>...</td>\n      <td>...</td>\n    </tr>\n    <tr>\n      <th>149396</th>\n      <td>08075785</td>\n      <td>2012-05-18 00:00:00.0000000</td>\n      <td>138199</td>\n      <td>10048061</td>\n      <td>The White Horse Federation</td>\n      <td>Peak Academy</td>\n      <td>164084</td>\n      <td>Multi Academy Trust (MAT)</td>\n      <td>2012-09-01 00:00:00.0000000</td>\n      <td>Gloucestershire County Council</td>\n      <td>...</td>\n      <td>0</td>\n      <td>0</td>\n      <td>0</td>\n      <td>0</td>\n      <td>0</td>\n      <td>0</td>\n      <td>100.0</td>\n      <td>NaN</td>\n      <td>&lt;NA&gt;</td>\n      <td>Closed in period</td>\n    </tr>\n    <tr>\n      <th>149396</th>\n      <td>08075785</td>\n      <td>2012-05-18 00:00:00.0000000</td>\n      <td>138199</td>\n      <td>10048061</td>\n      <td>The White Horse Federation</td>\n      <td>Peak Academy</td>\n      <td>164084</td>\n      <td>Multi Academy Trust (MAT)</td>\n      <td>2012-09-01 00:00:00.0000000</td>\n      <td>Gloucestershire County Council</td>\n      <td>...</td>\n      <td>0</td>\n      <td>0</td>\n      <td>0</td>\n      <td>0</td>\n      <td>0</td>\n      <td>0</td>\n      <td>100.0</td>\n      <td>NaN</td>\n      <td>&lt;NA&gt;</td>\n      <td>Closed in period</td>\n    </tr>\n    <tr>\n      <th>149396</th>\n      <td>08075785</td>\n      <td>2012-05-18 00:00:00.0000000</td>\n      <td>138199</td>\n      <td>10048061</td>\n      <td>The White Horse Federation</td>\n      <td>Peak Academy</td>\n      <td>164084</td>\n      <td>Multi Academy Trust (MAT)</td>\n      <td>2012-09-01 00:00:00.0000000</td>\n      <td>Gloucestershire County Council</td>\n      <td>...</td>\n      <td>0</td>\n      <td>0</td>\n      <td>0</td>\n      <td>0</td>\n      <td>0</td>\n      <td>0</td>\n      <td>100.0</td>\n      <td>NaN</td>\n      <td>&lt;NA&gt;</td>\n      <td>Closed in period</td>\n    </tr>\n    <tr>\n      <th>149396</th>\n      <td>08075785</td>\n      <td>2012-05-18 00:00:00.0000000</td>\n      <td>138199</td>\n      <td>10048061</td>\n      <td>The White Horse Federation</td>\n      <td>Peak Academy</td>\n      <td>164084</td>\n      <td>Multi Academy Trust (MAT)</td>\n      <td>2012-09-01 00:00:00.0000000</td>\n      <td>Gloucestershire County Council</td>\n      <td>...</td>\n      <td>0</td>\n      <td>0</td>\n      <td>0</td>\n      <td>0</td>\n      <td>0</td>\n      <td>0</td>\n      <td>100.0</td>\n      <td>NaN</td>\n      <td>&lt;NA&gt;</td>\n      <td>Closed in period</td>\n    </tr>\n    <tr>\n      <th>149396</th>\n      <td>08075785</td>\n      <td>2012-05-18 00:00:00.0000000</td>\n      <td>138199</td>\n      <td>10048061</td>\n      <td>The White Horse Federation</td>\n      <td>Peak Academy</td>\n      <td>164084</td>\n      <td>Multi Academy Trust (MAT)</td>\n      <td>2012-09-01 00:00:00.0000000</td>\n      <td>Gloucestershire County Council</td>\n      <td>...</td>\n      <td>0</td>\n      <td>0</td>\n      <td>0</td>\n      <td>0</td>\n      <td>0</td>\n      <td>0</td>\n      <td>100.0</td>\n      <td>NaN</td>\n      <td>&lt;NA&gt;</td>\n      <td>Closed in period</td>\n    </tr>\n  </tbody>\n</table>\n<p>12787 rows × 118 columns</p>\n</div>"
     },
     "execution_count": 45,
     "metadata": {},
     "output_type": "execute_result"
    }
   ],
   "source": [
    "academies.to_csv('output/pre-processing/academies.csv')\n",
    "academies.sort_index()"
   ],
   "metadata": {
    "collapsed": false,
    "ExecuteTime": {
     "end_time": "2024-03-28T09:42:22.051910Z",
     "start_time": "2024-03-28T09:42:21.600310Z"
    }
   },
   "id": "cf8b18891fd8d969",
   "execution_count": 45
  },
  {
   "cell_type": "markdown",
   "source": [
    "## Maintained schools data load and preparation"
   ],
   "metadata": {
    "collapsed": false
   },
   "id": "97961d9851b09fc"
  },
  {
   "cell_type": "code",
   "outputs": [],
   "source": [
    "maintained_schools = maintained_schools_list.merge(schools.reset_index(), left_index=True, right_on='URN')\n",
    "\n",
    "maintained_schools = (maintained_schools\n",
    "                      .join(census, how='left', rsuffix='_census', lsuffix='_school').filter(regex='^(?!.*_census)')\n",
    "                      .join(cdc, on='URN', how='left', rsuffix='_cdc', lsuffix='_school').filter(regex='^(?!.*_cdc)'))\n",
    "\n",
    "maintained_schools['Status'] = maintained_schools.apply(lambda df: mappings.map_maintained_school_status(df['OpenDate'], df['CloseDate'], df['Period covered by return (months)'], pd.to_datetime(maintained_schools_year_start_date), pd.to_datetime(maintained_schools_year_end_date)), axis=1)\n",
    "\n",
    "maintained_schools.set_index('URN', inplace=True)"
   ],
   "metadata": {
    "collapsed": false,
    "ExecuteTime": {
     "end_time": "2024-03-28T09:43:48.203554Z",
     "start_time": "2024-03-28T09:43:47.427394Z"
    }
   },
   "id": "865b72efc070a8e8",
   "execution_count": 46
  },
  {
   "cell_type": "code",
   "outputs": [
    {
     "data": {
      "text/plain": "         LA         LA Name      Region Estab  LAEstab  \\\nURN                                                      \n100000  201  City of London      London  3614  2013614   \n100005  202          Camden      London  1048  2021048   \n100006  202          Camden      London  1100  2021100   \n100007  202          Camden      London  1101  2021101   \n100008  202          Camden      London  2019  2022019   \n...     ...             ...         ...   ...      ...   \n131818  341       Liverpool  North West  2230  3412230   \n132176  341       Liverpool  North West  2232  3412232   \n132793  341       Liverpool  North West  2233  3412233   \n132796  341       Liverpool  North West  2234  3412234   \n133332  341       Liverpool  North West  2235  3412235   \n\n                                        School Name                Phase  \\\nURN                                                                        \n100000                           The Aldgate School    Infant and junior   \n100005                          Thomas Coram Centre              Nursery   \n100006                                 Heath School  Pupil referral unit   \n100007           Camden Primary Pupil Referral Unit  Pupil referral unit   \n100008                        Argyle Primary School    Infant and junior   \n...                                             ...                  ...   \n131818                    Fazakerley Primary School    Infant and junior   \n132176  Kirkdale St Lawrence CofE VA Primary School    Infant and junior   \n132793         St Matthew's Catholic Primary School    Infant and junior   \n132796            St John's Catholic Primary School    Infant and junior   \n133332                     Greenbank Primary School    Infant and junior   \n\n              Overall Phase  Lowest age of pupils  Highest age of pupils  ...  \\\nURN                                                                       ...   \n100000              Primary                   3.0                   11.0  ...   \n100005              Nursery                   2.0                    5.0  ...   \n100006  Pupil referral unit                  11.0                   16.0  ...   \n100007  Pupil referral unit                   5.0                   11.0  ...   \n100008              Primary                   3.0                   11.0  ...   \n...                     ...                   ...                    ...  ...   \n131818              Primary                   3.0                   11.0  ...   \n132176              Primary                   3.0                   11.0  ...   \n132793              Primary                   4.0                   11.0  ...   \n132796              Primary                   2.0                   11.0  ...   \n133332              Primary                   3.0                   11.0  ...   \n\n       number of pupils whose first language is known or believed to be other than English  \\\nURN                                                                                          \n100000                                                NaN                                    \n100005                                                NaN                                    \n100006                                                NaN                                    \n100007                                                NaN                                    \n100008                                                NaN                                    \n...                                                   ...                                    \n131818                                                NaN                                    \n132176                                                NaN                                    \n132793                                                NaN                                    \n132796                                                NaN                                    \n133332                                                NaN                                    \n\n        Total School Workforce (Full-Time Equivalent)  \\\nURN                                                     \n100000                                            NaN   \n100005                                            NaN   \n100006                                            NaN   \n100007                                            NaN   \n100008                                            NaN   \n...                                               ...   \n131818                                            NaN   \n132176                                            NaN   \n132793                                            NaN   \n132796                                            NaN   \n133332                                            NaN   \n\n        Total Number of Teachers (Full-Time Equivalent)  \\\nURN                                                       \n100000                                              NaN   \n100005                                              NaN   \n100006                                              NaN   \n100007                                              NaN   \n100008                                              NaN   \n...                                                 ...   \n131818                                              NaN   \n132176                                              NaN   \n132793                                              NaN   \n132796                                              NaN   \n133332                                              NaN   \n\n        Pupil: Teacher Ratio (Full-Time Equivalent of qualified and unqualified teachers)  \\\nURN                                                                                         \n100000                                                NaN                                   \n100005                                                NaN                                   \n100006                                                NaN                                   \n100007                                                NaN                                   \n100008                                                NaN                                   \n...                                                   ...                                   \n131818                                                NaN                                   \n132176                                                NaN                                   \n132793                                                NaN                                   \n132796                                                NaN                                   \n133332                                                NaN                                   \n\n       Number of Vacant Teacher Posts LinkURN  LA Establishment Number  \\\nURN                                                                      \n100000                            NaN    <NA>                 201-3614   \n100005                            NaN    <NA>                 202-1048   \n100006                            NaN  134643                 202-1100   \n100007                            NaN    <NA>                 202-1101   \n100008                            NaN    <NA>                 202-2019   \n...                               ...     ...                      ...   \n131818                            NaN  104536                 341-2230   \n132176                            NaN  104606                 341-2232   \n132793                            NaN  104654                 341-2233   \n132796                            NaN  131028                 341-2234   \n133332                            NaN  104553                 341-2235   \n\n       Total Internal Floor Area      Score Status  \nURN                                                 \n100000                    3628.0      142.0   Open  \n100005                       NaN       <NA>   Open  \n100006                    1523.0  59.797111   Open  \n100007                       NaN       <NA>   Open  \n100008                    2951.0      117.0   Open  \n...                          ...        ...    ...  \n131818                    2819.0  56.148634   Open  \n132176                    2872.0       27.0   Open  \n132793                    1639.0      117.0   Open  \n132796                    2736.0       17.0   Open  \n133332                    2959.0  16.793849   Open  \n\n[10997 rows x 139 columns]",
      "text/html": "<div>\n<style scoped>\n    .dataframe tbody tr th:only-of-type {\n        vertical-align: middle;\n    }\n\n    .dataframe tbody tr th {\n        vertical-align: top;\n    }\n\n    .dataframe thead th {\n        text-align: right;\n    }\n</style>\n<table border=\"1\" class=\"dataframe\">\n  <thead>\n    <tr style=\"text-align: right;\">\n      <th></th>\n      <th>LA</th>\n      <th>LA Name</th>\n      <th>Region</th>\n      <th>Estab</th>\n      <th>LAEstab</th>\n      <th>School Name</th>\n      <th>Phase</th>\n      <th>Overall Phase</th>\n      <th>Lowest age of pupils</th>\n      <th>Highest age of pupils</th>\n      <th>...</th>\n      <th>number of pupils whose first language is known or believed to be other than English</th>\n      <th>Total School Workforce (Full-Time Equivalent)</th>\n      <th>Total Number of Teachers (Full-Time Equivalent)</th>\n      <th>Pupil: Teacher Ratio (Full-Time Equivalent of qualified and unqualified teachers)</th>\n      <th>Number of Vacant Teacher Posts</th>\n      <th>LinkURN</th>\n      <th>LA Establishment Number</th>\n      <th>Total Internal Floor Area</th>\n      <th>Score</th>\n      <th>Status</th>\n    </tr>\n    <tr>\n      <th>URN</th>\n      <th></th>\n      <th></th>\n      <th></th>\n      <th></th>\n      <th></th>\n      <th></th>\n      <th></th>\n      <th></th>\n      <th></th>\n      <th></th>\n      <th></th>\n      <th></th>\n      <th></th>\n      <th></th>\n      <th></th>\n      <th></th>\n      <th></th>\n      <th></th>\n      <th></th>\n      <th></th>\n      <th></th>\n    </tr>\n  </thead>\n  <tbody>\n    <tr>\n      <th>100000</th>\n      <td>201</td>\n      <td>City of London</td>\n      <td>London</td>\n      <td>3614</td>\n      <td>2013614</td>\n      <td>The Aldgate School</td>\n      <td>Infant and junior</td>\n      <td>Primary</td>\n      <td>3.0</td>\n      <td>11.0</td>\n      <td>...</td>\n      <td>NaN</td>\n      <td>NaN</td>\n      <td>NaN</td>\n      <td>NaN</td>\n      <td>NaN</td>\n      <td>&lt;NA&gt;</td>\n      <td>201-3614</td>\n      <td>3628.0</td>\n      <td>142.0</td>\n      <td>Open</td>\n    </tr>\n    <tr>\n      <th>100005</th>\n      <td>202</td>\n      <td>Camden</td>\n      <td>London</td>\n      <td>1048</td>\n      <td>2021048</td>\n      <td>Thomas Coram Centre</td>\n      <td>Nursery</td>\n      <td>Nursery</td>\n      <td>2.0</td>\n      <td>5.0</td>\n      <td>...</td>\n      <td>NaN</td>\n      <td>NaN</td>\n      <td>NaN</td>\n      <td>NaN</td>\n      <td>NaN</td>\n      <td>&lt;NA&gt;</td>\n      <td>202-1048</td>\n      <td>NaN</td>\n      <td>&lt;NA&gt;</td>\n      <td>Open</td>\n    </tr>\n    <tr>\n      <th>100006</th>\n      <td>202</td>\n      <td>Camden</td>\n      <td>London</td>\n      <td>1100</td>\n      <td>2021100</td>\n      <td>Heath School</td>\n      <td>Pupil referral unit</td>\n      <td>Pupil referral unit</td>\n      <td>11.0</td>\n      <td>16.0</td>\n      <td>...</td>\n      <td>NaN</td>\n      <td>NaN</td>\n      <td>NaN</td>\n      <td>NaN</td>\n      <td>NaN</td>\n      <td>134643</td>\n      <td>202-1100</td>\n      <td>1523.0</td>\n      <td>59.797111</td>\n      <td>Open</td>\n    </tr>\n    <tr>\n      <th>100007</th>\n      <td>202</td>\n      <td>Camden</td>\n      <td>London</td>\n      <td>1101</td>\n      <td>2021101</td>\n      <td>Camden Primary Pupil Referral Unit</td>\n      <td>Pupil referral unit</td>\n      <td>Pupil referral unit</td>\n      <td>5.0</td>\n      <td>11.0</td>\n      <td>...</td>\n      <td>NaN</td>\n      <td>NaN</td>\n      <td>NaN</td>\n      <td>NaN</td>\n      <td>NaN</td>\n      <td>&lt;NA&gt;</td>\n      <td>202-1101</td>\n      <td>NaN</td>\n      <td>&lt;NA&gt;</td>\n      <td>Open</td>\n    </tr>\n    <tr>\n      <th>100008</th>\n      <td>202</td>\n      <td>Camden</td>\n      <td>London</td>\n      <td>2019</td>\n      <td>2022019</td>\n      <td>Argyle Primary School</td>\n      <td>Infant and junior</td>\n      <td>Primary</td>\n      <td>3.0</td>\n      <td>11.0</td>\n      <td>...</td>\n      <td>NaN</td>\n      <td>NaN</td>\n      <td>NaN</td>\n      <td>NaN</td>\n      <td>NaN</td>\n      <td>&lt;NA&gt;</td>\n      <td>202-2019</td>\n      <td>2951.0</td>\n      <td>117.0</td>\n      <td>Open</td>\n    </tr>\n    <tr>\n      <th>...</th>\n      <td>...</td>\n      <td>...</td>\n      <td>...</td>\n      <td>...</td>\n      <td>...</td>\n      <td>...</td>\n      <td>...</td>\n      <td>...</td>\n      <td>...</td>\n      <td>...</td>\n      <td>...</td>\n      <td>...</td>\n      <td>...</td>\n      <td>...</td>\n      <td>...</td>\n      <td>...</td>\n      <td>...</td>\n      <td>...</td>\n      <td>...</td>\n      <td>...</td>\n      <td>...</td>\n    </tr>\n    <tr>\n      <th>131818</th>\n      <td>341</td>\n      <td>Liverpool</td>\n      <td>North West</td>\n      <td>2230</td>\n      <td>3412230</td>\n      <td>Fazakerley Primary School</td>\n      <td>Infant and junior</td>\n      <td>Primary</td>\n      <td>3.0</td>\n      <td>11.0</td>\n      <td>...</td>\n      <td>NaN</td>\n      <td>NaN</td>\n      <td>NaN</td>\n      <td>NaN</td>\n      <td>NaN</td>\n      <td>104536</td>\n      <td>341-2230</td>\n      <td>2819.0</td>\n      <td>56.148634</td>\n      <td>Open</td>\n    </tr>\n    <tr>\n      <th>132176</th>\n      <td>341</td>\n      <td>Liverpool</td>\n      <td>North West</td>\n      <td>2232</td>\n      <td>3412232</td>\n      <td>Kirkdale St Lawrence CofE VA Primary School</td>\n      <td>Infant and junior</td>\n      <td>Primary</td>\n      <td>3.0</td>\n      <td>11.0</td>\n      <td>...</td>\n      <td>NaN</td>\n      <td>NaN</td>\n      <td>NaN</td>\n      <td>NaN</td>\n      <td>NaN</td>\n      <td>104606</td>\n      <td>341-2232</td>\n      <td>2872.0</td>\n      <td>27.0</td>\n      <td>Open</td>\n    </tr>\n    <tr>\n      <th>132793</th>\n      <td>341</td>\n      <td>Liverpool</td>\n      <td>North West</td>\n      <td>2233</td>\n      <td>3412233</td>\n      <td>St Matthew's Catholic Primary School</td>\n      <td>Infant and junior</td>\n      <td>Primary</td>\n      <td>4.0</td>\n      <td>11.0</td>\n      <td>...</td>\n      <td>NaN</td>\n      <td>NaN</td>\n      <td>NaN</td>\n      <td>NaN</td>\n      <td>NaN</td>\n      <td>104654</td>\n      <td>341-2233</td>\n      <td>1639.0</td>\n      <td>117.0</td>\n      <td>Open</td>\n    </tr>\n    <tr>\n      <th>132796</th>\n      <td>341</td>\n      <td>Liverpool</td>\n      <td>North West</td>\n      <td>2234</td>\n      <td>3412234</td>\n      <td>St John's Catholic Primary School</td>\n      <td>Infant and junior</td>\n      <td>Primary</td>\n      <td>2.0</td>\n      <td>11.0</td>\n      <td>...</td>\n      <td>NaN</td>\n      <td>NaN</td>\n      <td>NaN</td>\n      <td>NaN</td>\n      <td>NaN</td>\n      <td>131028</td>\n      <td>341-2234</td>\n      <td>2736.0</td>\n      <td>17.0</td>\n      <td>Open</td>\n    </tr>\n    <tr>\n      <th>133332</th>\n      <td>341</td>\n      <td>Liverpool</td>\n      <td>North West</td>\n      <td>2235</td>\n      <td>3412235</td>\n      <td>Greenbank Primary School</td>\n      <td>Infant and junior</td>\n      <td>Primary</td>\n      <td>3.0</td>\n      <td>11.0</td>\n      <td>...</td>\n      <td>NaN</td>\n      <td>NaN</td>\n      <td>NaN</td>\n      <td>NaN</td>\n      <td>NaN</td>\n      <td>104553</td>\n      <td>341-2235</td>\n      <td>2959.0</td>\n      <td>16.793849</td>\n      <td>Open</td>\n    </tr>\n  </tbody>\n</table>\n<p>10997 rows × 139 columns</p>\n</div>"
     },
     "execution_count": 47,
     "metadata": {},
     "output_type": "execute_result"
    }
   ],
   "source": [
    "maintained_schools.to_csv('output/pre-processing/maintained_schools.csv')\n",
    "maintained_schools"
   ],
   "metadata": {
    "collapsed": false,
    "ExecuteTime": {
     "end_time": "2024-03-28T09:43:50.153874Z",
     "start_time": "2024-03-28T09:43:49.524781Z"
    }
   },
   "id": "de671077a130f94e",
   "execution_count": 47
  },
  {
   "cell_type": "code",
   "outputs": [],
   "source": [],
   "metadata": {
    "collapsed": false,
    "ExecuteTime": {
     "end_time": "2024-03-28T08:27:12.447182Z",
     "start_time": "2024-03-28T08:27:12.445888Z"
    }
   },
   "id": "edb943ddd24d3697",
   "execution_count": 41
  }
 ],
 "metadata": {
  "kernelspec": {
   "display_name": "Python 3",
   "language": "python",
   "name": "python3"
  },
  "language_info": {
   "codemirror_mode": {
    "name": "ipython",
    "version": 2
   },
   "file_extension": ".py",
   "mimetype": "text/x-python",
   "name": "python",
   "nbconvert_exporter": "python",
   "pygments_lexer": "ipython2",
   "version": "2.7.6"
  }
 },
 "nbformat": 4,
 "nbformat_minor": 5
}
