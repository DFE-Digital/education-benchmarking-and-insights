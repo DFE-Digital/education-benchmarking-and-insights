{
 "cells": [
  {
   "cell_type": "code",
   "execution_count": null,
   "id": "acde75f1010d72b1",
   "metadata": {
    "ExecuteTime": {
     "end_time": "2024-03-29T16:01:53.786646Z",
     "start_time": "2024-03-29T16:01:53.779745Z"
    },
    "collapsed": false,
    "jupyter": {
     "outputs_hidden": false
    }
   },
   "outputs": [],
   "source": [
    "%load_ext dotenv\n",
    "%dotenv"
   ]
  },
  {
   "cell_type": "markdown",
   "id": "4067c2e8c15b53c",
   "metadata": {
    "collapsed": false,
    "jupyter": {
     "outputs_hidden": false
    }
   },
   "source": [
    "# VMFI Data processing pipeline\n",
    "\n",
    "This workbook aims to emulate the current data processing pipeline that occurs in VMFI pipeline. The logic and processing is largely based on the following document [Insights data portal - Data sources and sql analysis](https://educationgovuk.sharepoint.com.mcas.ms/:w:/r/sites/VMFI/_layouts/15/Doc.aspx?sourcedoc=%7B38C1DC37-7CDB-48B8-9E22-284F4F311C0B%7D&file=1.%20Insights%20portal%20-%20data%20sources%20and%20sql%20analysis%20v010%20-%20Copy.docx&action=default&mobileredirect=true) and will stay true to this document even if the existing stored procedures are doing something different. This will form the basis of a gap analysis going forward. \n",
    "\n",
    "All data loaded in the following workbook comes from the set of CSV files in the `data` folder alongside this workbook. These datasets are for the most part from the list at the start of the linked document. However, because there is additional standing data required to fully implement the pipeline then this data has been exported from the development VMFI pipeline database. These files are currently: \n",
    "\n",
    "| File name | DB Table |\n",
    "|:----------|----------|\n",
    "|standing_data_cdc.csv | standing_data.cdc |"
   ]
  },
  {
   "cell_type": "code",
   "execution_count": null,
   "id": "initial_id",
   "metadata": {
    "ExecuteTime": {
     "end_time": "2024-03-29T16:01:54.202466Z",
     "start_time": "2024-03-29T16:01:53.869865Z"
    }
   },
   "outputs": [],
   "source": [
    "import pandas as pd\n",
    "import mappings as mappings\n",
    "import schemas as schemas\n",
    "import datetime\n",
    "import time\n",
    "import glob\n",
    "import os\n",
    "\n",
    "# Create and clean directory\n",
    "from pathlib import Path\n",
    "Path(\"output/pre-processing\").mkdir(parents=True, exist_ok=True)\n",
    "\n",
    "files = glob.glob(\"output/pre-processing/*\")\n",
    "for f in files:\n",
    "    os.remove(f)\n",
    "\n",
    "start_time = time.time()\n",
    "current_year = 2022\n",
    "accounts_return_period_start_date = datetime.date(current_year - 1, 9, 10)\n",
    "academy_year_start_date = datetime.date(current_year - 1, 9, 1)\n",
    "academy_year_end_date = datetime.date(current_year, 8, 30)\n",
    "maintained_schools_year_start_date = datetime.date(current_year, 4, 1)\n",
    "maintained_schools_year_end_date = datetime.date(current_year, 3, 31)"
   ]
  },
  {
   "cell_type": "markdown",
   "id": "9e96380a5227c987",
   "metadata": {
    "collapsed": false,
    "jupyter": {
     "outputs_hidden": false
    }
   },
   "source": [
    "## CDC data load and preparation\n",
    "\n",
    "School buildings condition dataset. Based on the surveys performed throughout 2018-2019.\n",
    "\n",
    "The data in the file `data/standing_data_cdc.csv` is just an export of the data in `standing_data.cdc` table. Without the Year and Import ID fields. In future this will likely have to be read directly from the source database as per [this document.](https://educationgovuk.sharepoint.com.mcas.ms/:w:/r/sites/VMFI/_layouts/15/Doc.aspx?sourcedoc=%7B38C1DC37-7CDB-48B8-9E22-284F4F311C0B%7D&file=1.%20Insights%20portal%20-%20data%20sources%20and%20sql%20analysis%20v010%20-%20Copy.docx&action=default&mobileredirect=true) "
   ]
  },
  {
   "cell_type": "code",
   "execution_count": null,
   "id": "6563c9b9647d7005",
   "metadata": {
    "ExecuteTime": {
     "end_time": "2024-03-29T16:01:54.320196Z",
     "start_time": "2024-03-29T16:01:54.203492Z"
    },
    "collapsed": false,
    "jupyter": {
     "outputs_hidden": false
    }
   },
   "outputs": [],
   "source": [
    "cdc = pd.read_csv('data/standing_data_cdc.csv', encoding='utf8', index_col=schemas.cdc_index_col, usecols=schemas.cdc.keys(), dtype=schemas.cdc)\n",
    "\n",
    "cdc['Total Internal Floor Area'] = cdc.groupby(by=['URN'])['GIFA'].sum()\n",
    "cdc['Proportion Area'] = (cdc['GIFA'] / cdc['Total Internal Floor Area'])\n",
    "cdc['Indicative Age'] = cdc['Block Age'].fillna('').map(mappings.map_block_age).astype('Int64')\n",
    "cdc['Age Score'] = cdc['Proportion Area'] * (current_year - cdc['Indicative Age'])\n",
    "cdc['Age Average Score'] = cdc.groupby(by=['URN'])['Age Score'].sum()\n",
    "cdc = cdc[['Total Internal Floor Area', 'Age Average Score']].drop_duplicates()"
   ]
  },
  {
   "cell_type": "code",
   "execution_count": null,
   "id": "57ab167f20fdbd03",
   "metadata": {
    "ExecuteTime": {
     "end_time": "2024-03-29T16:01:54.355103Z",
     "start_time": "2024-03-29T16:01:54.321350Z"
    },
    "collapsed": false,
    "jupyter": {
     "outputs_hidden": false
    }
   },
   "outputs": [],
   "source": [
    "cdc.to_csv('output/pre-processing/cdc.csv')\n",
    "cdc"
   ]
  },
  {
   "cell_type": "markdown",
   "id": "25a30c5a4a9b466",
   "metadata": {
    "collapsed": false,
    "jupyter": {
     "outputs_hidden": false
    }
   },
   "source": [
    "## School Census data load\n",
    "\n",
    "*Pupil Census* - DfE data collection providing information about school and pupil characteristics, for example percentage of pupils claiming free school`z meals, or having English as their second language. \n",
    "\n",
    "*Workforce census* - Single reference for all school workforce statistics based on staff working in publicly funded schools in England.\n",
    "\n",
    "The following code loads both the workforce and pupil census data and preforms an `inner` join by URN on the data sets."
   ]
  },
  {
   "cell_type": "code",
   "execution_count": null,
   "id": "20079a09f9200d0e",
   "metadata": {
    "ExecuteTime": {
     "end_time": "2024-03-29T16:02:00.099203Z",
     "start_time": "2024-03-29T16:01:54.356456Z"
    },
    "collapsed": false,
    "jupyter": {
     "outputs_hidden": false
    }
   },
   "outputs": [],
   "source": [
    "school_workforce_census = pd.read_excel('data/School_Tables_School_Workforce_Census_2022.xlsx', header=5, index_col=schemas.workforce_census_index_col, usecols=schemas.workforce_census.keys(), dtype=schemas.workforce_census, na_values=[\"x\",\"u\"], keep_default_na=True).drop_duplicates()\n",
    "\n",
    "school_pupil_census = pd.read_csv('data/standing_data_census_pupils.csv', encoding='utf8', index_col=schemas.pupil_census_index_col, usecols=schemas.pupil_census.keys(), dtype=schemas.pupil_census).drop_duplicates()\n",
    "\n",
    "census = school_pupil_census.join(school_workforce_census, on='URN', how='inner', rsuffix='_pupil', lsuffix='_workforce')\n",
    "\n",
    "census.drop(labels=['full time pupils', 'headcount of pupils'], axis=1, inplace=True)\n",
    "         "
   ]
  },
  {
   "cell_type": "code",
   "execution_count": null,
   "id": "798d07eae73e8bba",
   "metadata": {
    "ExecuteTime": {
     "end_time": "2024-03-29T16:02:00.157995Z",
     "start_time": "2024-03-29T16:02:00.100046Z"
    },
    "collapsed": false,
    "jupyter": {
     "outputs_hidden": false
    }
   },
   "outputs": [],
   "source": [
    "census.to_csv('output/pre-processing/census.csv')\n",
    "census"
   ]
  },
  {
   "cell_type": "markdown",
   "id": "eb83d7512643b7a1",
   "metadata": {
    "collapsed": false,
    "jupyter": {
     "outputs_hidden": false
    }
   },
   "source": [
    "## Special Education Needs (SEN) data load and preparation\n",
    "\n",
    "Special educational needs dataset. Contains information about the number of pupils, who require various SEN provisions. This loads the `SEN` data, which originates from [here](https://explore-education-statistics.service.gov.uk/find-statistics/special-educational-needs-in-england#dataDownloads-1)"
   ]
  },
  {
   "cell_type": "code",
   "execution_count": null,
   "id": "1a164f2280c8e888",
   "metadata": {
    "ExecuteTime": {
     "end_time": "2024-03-29T16:02:00.458091Z",
     "start_time": "2024-03-29T16:02:00.158767Z"
    },
    "collapsed": false,
    "jupyter": {
     "outputs_hidden": false
    }
   },
   "outputs": [],
   "source": [
    "sen = pd.read_csv('data/SEN.csv', encoding='cp1252', index_col=schemas.sen_index_col, dtype=schemas.sen, usecols=schemas.sen.keys())\n",
    "sen['Percentage SEN'] = (sen['EHC plan'] / sen['Total pupils']) * 100.0"
   ]
  },
  {
   "cell_type": "code",
   "execution_count": null,
   "id": "62cfde44fd23bbb1",
   "metadata": {
    "ExecuteTime": {
     "end_time": "2024-03-29T16:02:00.563792Z",
     "start_time": "2024-03-29T16:02:00.458866Z"
    },
    "collapsed": false,
    "jupyter": {
     "outputs_hidden": false
    }
   },
   "outputs": [],
   "source": [
    "sen.to_csv(\"output/pre-processing/sen.csv\")\n",
    "sen"
   ]
  },
  {
   "cell_type": "markdown",
   "id": "5c3570cf02009cb5",
   "metadata": {
    "collapsed": false,
    "jupyter": {
     "outputs_hidden": false
    }
   },
   "source": [
    "## AR Data load and preparation\n",
    "\n",
    "This loads the Annual accounts return dataset and the corresponding mapping file. This extract only contains benchmarking section, which consists of submissions of costs, income, and balances of individual academies.\n",
    "\n",
    "The mapping file, contains the mapping from AR4 cell references to cost categories and descriptions."
   ]
  },
  {
   "cell_type": "code",
   "execution_count": null,
   "id": "2f6a04d7dc922f02",
   "metadata": {
    "ExecuteTime": {
     "end_time": "2024-03-29T16:02:01.781297Z",
     "start_time": "2024-03-29T16:02:00.564363Z"
    },
    "collapsed": false,
    "jupyter": {
     "outputs_hidden": false
    }
   },
   "outputs": [],
   "source": [
    "ar_cell_mapping = pd.read_csv('data/AR_cell_mapping.csv', encoding='utf8', index_col=schemas.ar_cell_mapping_index_col, usecols=schemas.ar_cell_mapping.keys(), dtype=schemas.ar_cell_mapping)\n",
    "\n",
    "ar_raw = pd.read_csv('data/AR_raw.csv', encoding='utf8', index_col=schemas.ar_index_col, usecols=schemas.ar.keys(), dtype=schemas.ar)\n",
    "\n",
    "ar = ar_raw.reset_index().merge(ar_cell_mapping, right_on='cell', left_on='aruniquereference').set_index(schemas.ar_index_col)\n",
    "\n",
    "pfi_schools = ar[ar['aruniquereference'] == 'BAE310-T'][['value']].map(mappings.map_is_pfi_school).rename(columns={'value': 'PFI School'})\n",
    "academy_financial_position = ar[ar['aruniquereference'] == 'BAB030-T'][['value']].rename(columns={'value': 'Academy Balance'})\n",
    "central_services_financial_position = ar[(ar['aruniquereference'] == 'BAB030-T') | (ar['aruniquereference'] == 'BTB030')].groupby('trustupin')['value'].sum().rename('Central Services Balance')\n",
    "trust_financial_position = ar[(ar['aruniquereference'] == 'BTB030')][['trustupin', 'value']].rename(columns={'value': 'Trust Balance'}).set_index('trustupin')\n",
    "\n",
    "ar = (ar.join(pfi_schools, how='left')\n",
    "      .join(academy_financial_position, how='left')\n",
    "      .join(trust_financial_position, on='trustupin', how='left')\n",
    "      .join(central_services_financial_position, on='trustupin', how='left'))\n"
   ]
  },
  {
   "cell_type": "code",
   "execution_count": null,
   "id": "a7aa06db2e9b4b4b",
   "metadata": {
    "ExecuteTime": {
     "end_time": "2024-03-29T16:02:03.451382Z",
     "start_time": "2024-03-29T16:02:01.781920Z"
    },
    "collapsed": false,
    "jupyter": {
     "outputs_hidden": false
    }
   },
   "outputs": [],
   "source": [
    "ar.to_csv('output/pre-processing/ar.csv')\n",
    "ar"
   ]
  },
  {
   "cell_type": "markdown",
   "id": "f26320ad386f89f1",
   "metadata": {
    "collapsed": false,
    "jupyter": {
     "outputs_hidden": false
    }
   },
   "source": [
    "Create a summary table for the AR stance of each distinct academy in the table."
   ]
  },
  {
   "cell_type": "code",
   "execution_count": null,
   "id": "40a2ba8be72dc168",
   "metadata": {
    "ExecuteTime": {
     "end_time": "2024-03-29T16:02:03.502981Z",
     "start_time": "2024-03-29T16:02:03.453393Z"
    },
    "collapsed": false,
    "jupyter": {
     "outputs_hidden": false
    }
   },
   "outputs": [],
   "source": [
    "academy_ar = ar.reset_index().drop_duplicates(subset=['academyupin'], ignore_index=True)[['academyupin', 'Academy Balance', 'Trust Balance', 'Central Services Balance', 'PFI School']].set_index('academyupin')\n",
    "\n",
    "academy_ar['Central Services Financial Position'] = academy_ar['Central Services Balance'].map(mappings.map_is_surplus_deficit)\n",
    "academy_ar['Academy Financial Position'] = academy_ar['Academy Balance'].map(mappings.map_is_surplus_deficit) \n",
    "academy_ar['Trust Financial Position'] = academy_ar['Trust Balance'].map(mappings.map_is_surplus_deficit) "
   ]
  },
  {
   "cell_type": "code",
   "execution_count": null,
   "id": "994eb529496c923f",
   "metadata": {
    "ExecuteTime": {
     "end_time": "2024-03-29T16:02:03.508880Z",
     "start_time": "2024-03-29T16:02:03.503699Z"
    },
    "collapsed": false,
    "jupyter": {
     "outputs_hidden": false
    }
   },
   "outputs": [],
   "source": [
    "academy_ar"
   ]
  },
  {
   "cell_type": "markdown",
   "id": "77b541a3aa8441b1",
   "metadata": {
    "collapsed": false,
    "jupyter": {
     "outputs_hidden": false
    }
   },
   "source": [
    "## Academy and maintained schools data load and preparation\n",
    "\n",
    "This reads the main GIAS data (edubasealldataYYYYMMDD file) and the associated links file (links_edubasealldataYYYYMMDD file). This is taken from the [GIAS Service](https://get-information-schools.service.gov.uk/help)\n",
    "\n",
    "Other columns are tidied up by asserting the correct type for that column. This is tidying phase is largly because on load integer columns will be inferred to be a float as opposed to an integer."
   ]
  },
  {
   "cell_type": "code",
   "execution_count": null,
   "id": "417b28e64cbeba74",
   "metadata": {
    "ExecuteTime": {
     "end_time": "2024-03-29T16:02:04.651429Z",
     "start_time": "2024-03-29T16:02:03.509470Z"
    },
    "collapsed": false,
    "jupyter": {
     "outputs_hidden": false
    }
   },
   "outputs": [],
   "source": [
    "gias = pd.read_csv('data/edubasealldata20240312.csv', encoding='cp1252', \n",
    "                   index_col=schemas.gias_index_col, usecols=schemas.gias.keys(), dtype=schemas.gias)\n",
    "\n",
    "gias_links = pd.read_csv('data/links_edubasealldata20240312.csv', encoding='cp1252', \n",
    "                         index_col=schemas.gias_links_index_col, usecols=schemas.gias_links.keys(), dtype=schemas.gias_links)\n",
    "\n",
    "# GIAS transformations\n",
    "gias['LA Establishment Number'] = gias['LA (code)'] + '-' + gias['EstablishmentNumber'].astype('string')\n",
    "gias['LA Establishment Number'] = gias['LA Establishment Number'].astype('string')\n",
    "\n",
    "gias['OpenDate'] = pd.to_datetime(gias['OpenDate'], dayfirst=True, format='mixed')\n",
    "gias['CloseDate'] = pd.to_datetime(gias['CloseDate'], dayfirst=True, format='mixed')\n",
    "gias['SchoolWebsite'] = gias['SchoolWebsite'].fillna('').map(mappings.map_school_website)\n",
    "gias['Boarders (name)'] = gias['Boarders (name)'].fillna('').map(mappings.map_boarders)\n",
    "gias['OfstedRating (name)'] = gias['OfstedRating (name)'].fillna('').map(mappings.map_ofsted_rating)\n",
    "gias['NurseryProvision (name)'] = gias['NurseryProvision (name)'].fillna('')\n",
    "gias['OfficialSixthForm (name)'] = gias['OfficialSixthForm (name)'].fillna('').map(mappings.map_sixth_form)\n",
    "gias['AdmissionsPolicy (name)'] = gias['AdmissionsPolicy (name)'].fillna('').map(mappings.map_admission_policy)\n",
    "gias['HeadName'] = gias['HeadTitle (name)'] + ' ' + gias['HeadFirstName'] + ' ' + gias['HeadLastName']"
   ]
  },
  {
   "cell_type": "markdown",
   "id": "6f4053faf34e419b",
   "metadata": {
    "collapsed": false,
    "jupyter": {
     "outputs_hidden": false
    }
   },
   "source": [
    "In the following cell, we find all the predecessor and merged links. The links are then Ranked by URN and order by 'Link Established Date'. The linked GAIS data in then joined to the base GIAS data. This creates the overall school data set. This dataset is then filtered for schools that are open (CloseDate is null) and the schools with nested links that are Ranked 1."
   ]
  },
  {
   "cell_type": "code",
   "execution_count": null,
   "id": "57fc7486e4bef946",
   "metadata": {
    "ExecuteTime": {
     "end_time": "2024-03-29T16:02:04.824434Z",
     "start_time": "2024-03-29T16:02:04.652415Z"
    },
    "collapsed": false,
    "jupyter": {
     "outputs_hidden": false
    }
   },
   "outputs": [],
   "source": [
    "gias_links = gias_links[\n",
    "    gias_links['LinkType'].isin(['Predecessor', \n",
    "                                 'Predecessor - amalgamated', \n",
    "                                 'Predecessor - Split School', \n",
    "                                 'Predecessor - merged', \n",
    "                                 'Merged - expansion of school capacity', \n",
    "                                 'Merged - change in age range'])\n",
    "].sort_values(by='LinkEstablishedDate', ascending=False)\n",
    "\n",
    "gias_links['Rank'] = gias_links.groupby('URN').cumcount() + 1\n",
    "gias_links['Rank'] = gias_links['Rank'].astype('Int64')\n",
    "\n",
    "schools = gias.join(gias_links, on='URN', how='left', rsuffix='_links', lsuffix='_school').sort_values(by='URN')\n",
    "\n",
    "schools = schools[\n",
    "    schools['CloseDate'].isna() & ((schools['Rank'] == 1) | (schools['Rank'].isna()))\n",
    "].drop(columns=['LinkURN', 'LinkName', 'LinkType', 'LinkEstablishedDate', 'Rank'])"
   ]
  },
  {
   "cell_type": "code",
   "execution_count": null,
   "id": "80ab1312a3261637",
   "metadata": {
    "ExecuteTime": {
     "end_time": "2024-03-29T16:02:05.146306Z",
     "start_time": "2024-03-29T16:02:04.825326Z"
    },
    "collapsed": false,
    "jupyter": {
     "outputs_hidden": false
    }
   },
   "outputs": [],
   "source": [
    "schools.to_csv('output/pre-processing/schools.csv')\n",
    "schools.sort_index()"
   ]
  },
  {
   "cell_type": "markdown",
   "id": "32a4b68ee88c7c1c",
   "metadata": {
    "collapsed": false,
    "jupyter": {
     "outputs_hidden": false
    }
   },
   "source": [
    "Merge required GIAS, census, sen, cdc, PFI, and arr data with the base academy data"
   ]
  },
  {
   "cell_type": "code",
   "execution_count": null,
   "id": "2f5b5d9b44e7947e",
   "metadata": {
    "ExecuteTime": {
     "end_time": "2024-03-29T16:02:06.631518Z",
     "start_time": "2024-03-29T16:02:05.147189Z"
    },
    "collapsed": false,
    "jupyter": {
     "outputs_hidden": false
    }
   },
   "outputs": [],
   "source": [
    "academies_list = pd.read_csv('data/master_list_raw.csv', encoding='utf8', index_col=schemas.academy_master_list_index_col, dtype=schemas.academy_master_list, usecols=schemas.academy_master_list.keys()).rename(columns={'UKPRN': 'Academy UKPRN'})\n",
    "\n",
    "academies_base = academies_list.merge(schools.reset_index(), left_index=True, right_on='LA Establishment Number').set_index('URN')\n",
    "\n",
    "academies = (academies_base.merge(census, on='URN', how='left')\n",
    "             .merge(sen, on='URN', how='left')\n",
    "             .merge(cdc, on='URN', how='left')\n",
    "             .merge(academy_ar, left_on='Academy UPIN', right_index=True, how='left'))\n",
    "\n",
    "academies['Type of Provision - Phase'] = academies.apply(lambda df: mappings.map_academy_phase_type(df['TypeOfEstablishment (code)'], df['Type of Provision - Phase']), axis=1)\n",
    "\n",
    "# Bizarre I shouldn't need this as this is coming from the original GIAS dataset, but I seem to have to do this twice. \n",
    "academies['NurseryProvision (name)'] = academies['NurseryProvision (name)'].fillna('')\n",
    "academies['NurseryProvision (name)'] = academies.apply(lambda df: mappings.map_nursery(df['NurseryProvision (name)'], df['Type of Provision - Phase']), axis=1)\n",
    "\n",
    "academies['Status'] = academies.apply(lambda df: mappings.map_academy_status(pd.to_datetime(df['Date left or closed if in period']), \n",
    "                                                                             pd.to_datetime(df['Valid to']), \n",
    "                                                                             pd.to_datetime(df['OpenDate']), \n",
    "                                                                             pd.to_datetime(df['CloseDate']), \n",
    "                                                                             pd.to_datetime(accounts_return_period_start_date), pd.to_datetime(academy_year_start_date), pd.to_datetime(academy_year_end_date)), axis=1)\n",
    "\n",
    "academies['SchoolPhaseType'] = academies.apply(lambda df: mappings.map_school_phase_type(df['TypeOfEstablishment (code)'], df['Type of Provision - Phase']), axis=1)\n",
    "\n",
    "academies.rename(columns={\n",
    "    'UKPRN_x':'UKPRN',\n",
    "    '% of pupils known to be eligible for free school meals (Performa': 'Percentage Free school meals'\n",
    "}, inplace=True)"
   ]
  },
  {
   "cell_type": "code",
   "execution_count": null,
   "id": "cf8b18891fd8d969",
   "metadata": {
    "ExecuteTime": {
     "end_time": "2024-03-29T16:02:06.923973Z",
     "start_time": "2024-03-29T16:02:06.632103Z"
    },
    "collapsed": false,
    "jupyter": {
     "outputs_hidden": false
    }
   },
   "outputs": [],
   "source": [
    "academies.to_csv('output/pre-processing/academies.csv')\n",
    "academies.sort_index()"
   ]
  },
  {
   "cell_type": "markdown",
   "id": "97961d9851b09fc",
   "metadata": {
    "collapsed": false,
    "jupyter": {
     "outputs_hidden": false
    }
   },
   "source": [
    "Merge required census and cdc data to the maintained schools data set"
   ]
  },
  {
   "cell_type": "code",
   "execution_count": null,
   "id": "7625f25c-3391-43ac-9cc2-c2a204c5663e",
   "metadata": {},
   "outputs": [],
   "source": [
    "# Load raw list from CSV\n",
    "maintained_schools_list = pd.read_csv('data/maintained_schools_raw.csv', encoding='utf8', index_col=schemas.maintained_schools_master_list_index_col, usecols=schemas.maintained_schools_master_list.keys(), dtype=schemas.maintained_schools_master_list)\n"
   ]
  },
  {
   "cell_type": "code",
   "execution_count": null,
   "id": "344c6671-7518-470e-b809-093bfccbedec",
   "metadata": {},
   "outputs": [],
   "source": [
    "# Merge maintained_schools_base with schools (metadata from GIAS) & rename PFI column\n",
    "maintained_schools = maintained_schools_list.merge(schools.reset_index(), left_index=True, right_on='URN')\n"
   ]
  },
  {
   "cell_type": "code",
   "execution_count": null,
   "id": "865b72efc070a8e8",
   "metadata": {
    "ExecuteTime": {
     "end_time": "2024-03-29T16:02:07.771271Z",
     "start_time": "2024-03-29T16:02:06.924591Z"
    },
    "collapsed": false,
    "jupyter": {
     "outputs_hidden": false
    }
   },
   "outputs": [],
   "source": [
    "# Merge in cencus and cdc data\n",
    "maintained_schools = (maintained_schools\n",
    "                      .merge(census, on='URN', how='left')\n",
    "                      .merge(cdc, on='URN', how='left'))\n",
    "\n"
   ]
  },
  {
   "cell_type": "code",
   "execution_count": null,
   "id": "47bfd51f-a83b-4b17-82d0-328a8db03336",
   "metadata": {},
   "outputs": [],
   "source": [
    "# Compute columns\n",
    "maintained_schools['PFI'] = maintained_schools['PFI'].map(lambda x: 'PFI school' if x == 'Y' else 'Non-PFI school')\n",
    "maintained_schools['Status'] = maintained_schools.apply(lambda df: mappings.map_maintained_school_status(df['OpenDate'], df['CloseDate'], df['Period covered by return (months)'], pd.to_datetime(maintained_schools_year_start_date), pd.to_datetime(maintained_schools_year_end_date)), axis=1)\n",
    "maintained_schools['School Balance'] = maintained_schools['Total Income   I01 to I18'] - maintained_schools['Total Expenditure  E01 to E32']\n",
    "maintained_schools['School Financial Position'] = maintained_schools['School Balance'].map(mappings.map_is_surplus_deficit)\n",
    "maintained_schools['SchoolPhaseType'] = maintained_schools.apply(lambda df: mappings.map_school_phase_type(df['TypeOfEstablishment (code)'], df['Overall Phase']), axis=1)\n"
   ]
  },
  {
   "cell_type": "code",
   "execution_count": null,
   "id": "742796ff-9a9c-4fb2-a3ac-2c363e020c8f",
   "metadata": {},
   "outputs": [],
   "source": [
    "# Rename columns\n",
    "maintained_schools.rename(columns={\n",
    "    'PFI': 'PFI School',\n",
    "    '% of pupils eligible for FSM': 'Percentage Free school meals',\n",
    "    'No Pupils': 'Number of pupils',\n",
    "}, inplace=True)"
   ]
  },
  {
   "cell_type": "code",
   "execution_count": null,
   "id": "915498d2-1a6c-4b1a-9b08-ab6c1292ffbc",
   "metadata": {},
   "outputs": [],
   "source": [
    "maintained_schools.set_index('URN', inplace=True)"
   ]
  },
  {
   "cell_type": "code",
   "execution_count": null,
   "id": "a10f7539-929c-4add-aa04-de2e25437c78",
   "metadata": {},
   "outputs": [],
   "source": [
    "maintained_schools"
   ]
  },
  {
   "cell_type": "code",
   "execution_count": null,
   "id": "de671077a130f94e",
   "metadata": {
    "ExecuteTime": {
     "end_time": "2024-03-29T16:02:08.212040Z",
     "start_time": "2024-03-29T16:02:07.771824Z"
    },
    "collapsed": false,
    "jupyter": {
     "outputs_hidden": false
    }
   },
   "outputs": [],
   "source": [
    "maintained_schools.to_csv('output/pre-processing/maintained_schools.csv')\n"
   ]
  },
  {
   "cell_type": "code",
   "execution_count": null,
   "id": "a01cc1e04e32545d",
   "metadata": {
    "ExecuteTime": {
     "end_time": "2024-03-29T16:02:08.214643Z",
     "start_time": "2024-03-29T16:02:08.212772Z"
    },
    "collapsed": false,
    "jupyter": {
     "outputs_hidden": false
    }
   },
   "outputs": [],
   "source": [
    "print(f'Processing Time: {time.time() - start_time} seconds')"
   ]
  },
  {
   "cell_type": "code",
   "execution_count": null,
   "id": "38c2fabd-3a66-4edc-9b77-b1bd549071d1",
   "metadata": {},
   "outputs": [],
   "source": []
  }
 ],
 "metadata": {
  "kernelspec": {
   "display_name": "Python 3 (ipykernel)",
   "language": "python",
   "name": "python3"
  },
  "language_info": {
   "codemirror_mode": {
    "name": "ipython",
    "version": 3
   },
   "file_extension": ".py",
   "mimetype": "text/x-python",
   "name": "python",
   "nbconvert_exporter": "python",
   "pygments_lexer": "ipython3",
   "version": "3.12.2"
  }
 },
 "nbformat": 4,
 "nbformat_minor": 5
}
