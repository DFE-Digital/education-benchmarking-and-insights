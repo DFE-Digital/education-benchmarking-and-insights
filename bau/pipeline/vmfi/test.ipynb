{
 "cells": [
  {
   "cell_type": "code",
   "execution_count": 15,
   "id": "initial_id",
   "metadata": {
    "ExecuteTime": {
     "end_time": "2024-03-27T15:32:42.250725Z",
     "start_time": "2024-03-27T15:32:42.203425Z"
    },
    "collapsed": true
   },
   "outputs": [
    {
     "data": {
      "text/html": [
       "<div>\n",
       "<style scoped>\n",
       "    .dataframe tbody tr th:only-of-type {\n",
       "        vertical-align: middle;\n",
       "    }\n",
       "\n",
       "    .dataframe tbody tr th {\n",
       "        vertical-align: top;\n",
       "    }\n",
       "\n",
       "    .dataframe thead th {\n",
       "        text-align: right;\n",
       "    }\n",
       "</style>\n",
       "<table border=\"1\" class=\"dataframe\">\n",
       "  <thead>\n",
       "    <tr style=\"text-align: right;\">\n",
       "      <th></th>\n",
       "      <th>LinkUrn</th>\n",
       "    </tr>\n",
       "    <tr>\n",
       "      <th>URN</th>\n",
       "      <th></th>\n",
       "    </tr>\n",
       "  </thead>\n",
       "  <tbody>\n",
       "    <tr>\n",
       "      <th>1</th>\n",
       "      <td>&lt;NA&gt;</td>\n",
       "    </tr>\n",
       "    <tr>\n",
       "      <th>2</th>\n",
       "      <td>&lt;NA&gt;</td>\n",
       "    </tr>\n",
       "    <tr>\n",
       "      <th>3</th>\n",
       "      <td>4</td>\n",
       "    </tr>\n",
       "    <tr>\n",
       "      <th>5</th>\n",
       "      <td>&lt;NA&gt;</td>\n",
       "    </tr>\n",
       "  </tbody>\n",
       "</table>\n",
       "</div>"
      ],
      "text/plain": [
       "    LinkUrn\n",
       "URN        \n",
       "1      <NA>\n",
       "2      <NA>\n",
       "3         4\n",
       "5      <NA>"
      ]
     },
     "execution_count": 15,
     "metadata": {},
     "output_type": "execute_result"
    }
   ],
   "source": [
    "import pandas as pd\n",
    "\n",
    "df1 = pd.DataFrame([\n",
    "    { \"URN\" : 1, \"LinkUrn\" : pd.NA },\n",
    "    { \"URN\" : 2, \"LinkUrn\" : pd.NA },\n",
    "    { \"URN\" : 3, \"LinkUrn\" : 4 },\n",
    "    { \"URN\" : 5, \"LinkUrn\" : pd.NA }\n",
    "]).set_index(\"URN\")\n",
    "\n",
    "df1"
   ]
  },
  {
   "cell_type": "code",
   "execution_count": 27,
   "id": "bc909dc4dcfd8982",
   "metadata": {
    "ExecuteTime": {
     "end_time": "2024-03-27T15:46:33.967560Z",
     "start_time": "2024-03-27T15:46:33.942847Z"
    },
    "collapsed": false
   },
   "outputs": [
    {
     "data": {
      "text/html": [
       "<div>\n",
       "<style scoped>\n",
       "    .dataframe tbody tr th:only-of-type {\n",
       "        vertical-align: middle;\n",
       "    }\n",
       "\n",
       "    .dataframe tbody tr th {\n",
       "        vertical-align: top;\n",
       "    }\n",
       "\n",
       "    .dataframe thead th {\n",
       "        text-align: right;\n",
       "    }\n",
       "</style>\n",
       "<table border=\"1\" class=\"dataframe\">\n",
       "  <thead>\n",
       "    <tr style=\"text-align: right;\">\n",
       "      <th></th>\n",
       "      <th>Name</th>\n",
       "    </tr>\n",
       "    <tr>\n",
       "      <th>URN</th>\n",
       "      <th></th>\n",
       "    </tr>\n",
       "  </thead>\n",
       "  <tbody>\n",
       "    <tr>\n",
       "      <th>1</th>\n",
       "      <td>Should be 1</td>\n",
       "    </tr>\n",
       "    <tr>\n",
       "      <th>2</th>\n",
       "      <td>Should be 2</td>\n",
       "    </tr>\n",
       "    <tr>\n",
       "      <th>4</th>\n",
       "      <td>Should be 3</td>\n",
       "    </tr>\n",
       "    <tr>\n",
       "      <th>3</th>\n",
       "      <td>Should be 3 1</td>\n",
       "    </tr>\n",
       "    <tr>\n",
       "      <th>5</th>\n",
       "      <td>Should be 5</td>\n",
       "    </tr>\n",
       "  </tbody>\n",
       "</table>\n",
       "</div>"
      ],
      "text/plain": [
       "              Name\n",
       "URN               \n",
       "1      Should be 1\n",
       "2      Should be 2\n",
       "4      Should be 3\n",
       "3    Should be 3 1\n",
       "5      Should be 5"
      ]
     },
     "execution_count": 27,
     "metadata": {},
     "output_type": "execute_result"
    }
   ],
   "source": [
    "df2 = pd.DataFrame([\n",
    "    { \"URN\" : 1, \"Name\": \"Should be 1\" },\n",
    "    { \"URN\" : 2, \"Name\": \"Should be 2\" },\n",
    "    { \"URN\" : 4, \"Name\": \"Should be 3\" },\n",
    "    { \"URN\" : 3, \"Name\": \"Should be 3 1\" },\n",
    "    { \"URN\" : 5, \"Name\": \"Should be 5\" }\n",
    "]).set_index(\"URN\")\n",
    "\n",
    "df2"
   ]
  },
  {
   "cell_type": "code",
   "execution_count": 28,
   "id": "ad1e0f2de4c08e9e",
   "metadata": {
    "ExecuteTime": {
     "end_time": "2024-03-27T15:46:37.641219Z",
     "start_time": "2024-03-27T15:46:37.631885Z"
    },
    "collapsed": false
   },
   "outputs": [
    {
     "data": {
      "text/html": [
       "<div>\n",
       "<style scoped>\n",
       "    .dataframe tbody tr th:only-of-type {\n",
       "        vertical-align: middle;\n",
       "    }\n",
       "\n",
       "    .dataframe tbody tr th {\n",
       "        vertical-align: top;\n",
       "    }\n",
       "\n",
       "    .dataframe thead th {\n",
       "        text-align: right;\n",
       "    }\n",
       "</style>\n",
       "<table border=\"1\" class=\"dataframe\">\n",
       "  <thead>\n",
       "    <tr style=\"text-align: right;\">\n",
       "      <th></th>\n",
       "      <th>LinkUrn</th>\n",
       "      <th>Name</th>\n",
       "    </tr>\n",
       "    <tr>\n",
       "      <th>URN</th>\n",
       "      <th></th>\n",
       "      <th></th>\n",
       "    </tr>\n",
       "  </thead>\n",
       "  <tbody>\n",
       "    <tr>\n",
       "      <th>1</th>\n",
       "      <td>&lt;NA&gt;</td>\n",
       "      <td>Should be 1</td>\n",
       "    </tr>\n",
       "    <tr>\n",
       "      <th>2</th>\n",
       "      <td>&lt;NA&gt;</td>\n",
       "      <td>Should be 2</td>\n",
       "    </tr>\n",
       "    <tr>\n",
       "      <th>3</th>\n",
       "      <td>4</td>\n",
       "      <td>Should be 3 1</td>\n",
       "    </tr>\n",
       "    <tr>\n",
       "      <th>5</th>\n",
       "      <td>&lt;NA&gt;</td>\n",
       "      <td>Should be 5</td>\n",
       "    </tr>\n",
       "    <tr>\n",
       "      <th>3</th>\n",
       "      <td>4</td>\n",
       "      <td>Should be 3</td>\n",
       "    </tr>\n",
       "  </tbody>\n",
       "</table>\n",
       "</div>"
      ],
      "text/plain": [
       "    LinkUrn           Name\n",
       "URN                       \n",
       "1      <NA>    Should be 1\n",
       "2      <NA>    Should be 2\n",
       "3         4  Should be 3 1\n",
       "5      <NA>    Should be 5\n",
       "3         4    Should be 3"
      ]
     },
     "execution_count": 28,
     "metadata": {},
     "output_type": "execute_result"
    }
   ],
   "source": [
    "pd.concat([df1.reset_index().merge(df2, on=\"URN\", how=\"left\"),\n",
    "           df1.reset_index().merge(df2, left_on='LinkUrn', right_on='URN')]).set_index(\"URN\")"
   ]
  },
  {
   "cell_type": "code",
   "execution_count": null,
   "id": "94fd933af916a314",
   "metadata": {
    "collapsed": false
   },
   "outputs": [],
   "source": [
    "type_mappings = [\n",
    "    (\"NonGovernment\", \"code\"),\n",
    "    (\"IncomeFromFacilities\", \"code\"),\n",
    "    (\"IncomeFromCatering\", \"code\"),\n",
    "    (\"ReceiptsFromSupply\", \"code\"),\n",
    "    (\"ReceiptsFromOther\", \"code\"),\n",
    "    (\"Donations\", \"code\"),\n",
    "    (\"OtherSelfGenerated\", \"code\"),\n",
    "    (\"InvestmentIncome\", \"code\"),\n",
    "    (\"TeachingStaff\", \"code\"),\n",
    "    (\"SupplyTeachingStaff\", \"code\"),\n",
    "    (\"EducationSupportStaff\", \"code\"),\n",
    "    (\"AdministrativeClericalStaff\", \"code\"),\n",
    "    (\"PremisesStaff\", \"code\"),\n",
    "    (\"CateringStaff\", \"code\"),\n",
    "    (\"OtherStaff\", \"code\"),\n",
    "    (\"IndirectEmployeeExpenses\", \"code\"),\n",
    "    (\"StaffDevelopment\", \"code\"),\n",
    "    (\"StaffInsurance\", \"code\"),\n",
    "    (\"SupplyTeacherInsurance\", \"code\"),\n",
    "    (\"BuildingGroundsMaintenance\", \"code\"),\n",
    "]\n",
    "\n",
    "[f\"{name} = something('{code}')\" for name, code in type_mappings]"
   ]
  }
 ],
 "metadata": {
  "kernelspec": {
   "display_name": "Python 3",
   "language": "python",
   "name": "python3"
  },
  "language_info": {
   "codemirror_mode": {
    "name": "ipython",
    "version": 2
   },
   "file_extension": ".py",
   "mimetype": "text/x-python",
   "name": "python",
   "nbconvert_exporter": "python",
   "pygments_lexer": "ipython2",
   "version": "2.7.6"
  }
 },
 "nbformat": 4,
 "nbformat_minor": 5
}
