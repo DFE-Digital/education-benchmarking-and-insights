{
 "cells": [
  {
   "cell_type": "code",
   "execution_count": null,
   "id": "initial_id",
   "metadata": {
    "ExecuteTime": {
     "end_time": "2024-03-27T15:32:42.250725Z",
     "start_time": "2024-03-27T15:32:42.203425Z"
    }
   },
   "outputs": [],
   "source": [
    "import pandas as pd\n",
    "\n",
    "df1 = pd.DataFrame([\n",
    "    { \"URN\" : 1, \"LinkUrn\" : pd.NA },\n",
    "    { \"URN\" : 2, \"LinkUrn\" : pd.NA },\n",
    "    { \"URN\" : 3, \"LinkUrn\" : 4 },\n",
    "    { \"URN\" : 5, \"LinkUrn\" : pd.NA }\n",
    "]).set_index(\"URN\")\n",
    "\n",
    "df1"
   ]
  },
  {
   "cell_type": "code",
   "execution_count": null,
   "id": "bc909dc4dcfd8982",
   "metadata": {
    "ExecuteTime": {
     "end_time": "2024-03-27T15:46:33.967560Z",
     "start_time": "2024-03-27T15:46:33.942847Z"
    }
   },
   "outputs": [],
   "source": [
    "df2 = pd.DataFrame([\n",
    "    { \"URN\" : 1, \"Name\": \"Should be 1\" },\n",
    "    { \"URN\" : 2, \"Name\": \"Should be 2\" },\n",
    "    { \"URN\" : 4, \"Name\": \"Should be 3\" },\n",
    "    { \"URN\" : 3, \"Name\": \"Should be 3 1\" },\n",
    "    { \"URN\" : 5, \"Name\": \"Should be 5\" }\n",
    "]).set_index(\"URN\")\n",
    "\n",
    "df2"
   ]
  },
  {
   "cell_type": "code",
   "execution_count": null,
   "id": "ad1e0f2de4c08e9e",
   "metadata": {
    "ExecuteTime": {
     "end_time": "2024-03-27T15:46:37.641219Z",
     "start_time": "2024-03-27T15:46:37.631885Z"
    }
   },
   "outputs": [],
   "source": [
    "pd.concat([df1.reset_index().merge(df2, on=\"URN\", how=\"left\"),\n",
    "           df1.reset_index().merge(df2, left_on='LinkUrn', right_on='URN')]).set_index(\"URN\")"
   ]
  },
  {
   "cell_type": "code",
   "execution_count": null,
   "id": "94fd933af916a314",
   "metadata": {},
   "outputs": [],
   "source": [
    "type_mappings = [\n",
    "    (\"NonGovernment\", \"code\"),\n",
    "    (\"IncomeFromFacilities\", \"code\"),\n",
    "    (\"IncomeFromCatering\", \"code\"),\n",
    "    (\"ReceiptsFromSupply\", \"code\"),\n",
    "    (\"ReceiptsFromOther\", \"code\"),\n",
    "    (\"Donations\", \"code\"),\n",
    "    (\"OtherSelfGenerated\", \"code\"),\n",
    "    (\"InvestmentIncome\", \"code\"),\n",
    "    (\"TeachingStaff\", \"code\"),\n",
    "    (\"SupplyTeachingStaff\", \"code\"),\n",
    "    (\"EducationSupportStaff\", \"code\"),\n",
    "    (\"AdministrativeClericalStaff\", \"code\"),\n",
    "    (\"PremisesStaff\", \"code\"),\n",
    "    (\"CateringStaff\", \"code\"),\n",
    "    (\"OtherStaff\", \"code\"),\n",
    "    (\"IndirectEmployeeExpenses\", \"code\"),\n",
    "    (\"StaffDevelopment\", \"code\"),\n",
    "    (\"StaffInsurance\", \"code\"),\n",
    "    (\"SupplyTeacherInsurance\", \"code\"),\n",
    "    (\"BuildingGroundsMaintenance\", \"code\"),\n",
    "]\n",
    "\n",
    "[f\"{name} = something('{code}')\" for name, code in type_mappings]"
   ]
  }
 ],
 "metadata": {
  "kernelspec": {
   "display_name": "Python 3",
   "language": "python",
   "name": "python3"
  },
  "language_info": {
   "codemirror_mode": {
    "name": "ipython",
    "version": 2
   },
   "file_extension": ".py",
   "mimetype": "text/x-python",
   "name": "python",
   "nbconvert_exporter": "python",
   "pygments_lexer": "ipython2",
   "version": "2.7.6"
  }
 },
 "nbformat": 4,
 "nbformat_minor": 5
}
