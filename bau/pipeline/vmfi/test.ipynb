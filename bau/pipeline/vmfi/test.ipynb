{
 "cells": [
  {
   "cell_type": "code",
   "execution_count": 15,
   "id": "initial_id",
   "metadata": {
    "collapsed": true,
    "ExecuteTime": {
     "end_time": "2024-03-27T15:32:42.250725Z",
     "start_time": "2024-03-27T15:32:42.203425Z"
    }
   },
   "outputs": [
    {
     "data": {
      "text/plain": "    LinkUrn\nURN        \n1      <NA>\n2      <NA>\n3         4\n5      <NA>",
      "text/html": "<div>\n<style scoped>\n    .dataframe tbody tr th:only-of-type {\n        vertical-align: middle;\n    }\n\n    .dataframe tbody tr th {\n        vertical-align: top;\n    }\n\n    .dataframe thead th {\n        text-align: right;\n    }\n</style>\n<table border=\"1\" class=\"dataframe\">\n  <thead>\n    <tr style=\"text-align: right;\">\n      <th></th>\n      <th>LinkUrn</th>\n    </tr>\n    <tr>\n      <th>URN</th>\n      <th></th>\n    </tr>\n  </thead>\n  <tbody>\n    <tr>\n      <th>1</th>\n      <td>&lt;NA&gt;</td>\n    </tr>\n    <tr>\n      <th>2</th>\n      <td>&lt;NA&gt;</td>\n    </tr>\n    <tr>\n      <th>3</th>\n      <td>4</td>\n    </tr>\n    <tr>\n      <th>5</th>\n      <td>&lt;NA&gt;</td>\n    </tr>\n  </tbody>\n</table>\n</div>"
     },
     "execution_count": 15,
     "metadata": {},
     "output_type": "execute_result"
    }
   ],
   "source": [
    "import pandas as pd\n",
    "\n",
    "df1 = pd.DataFrame([\n",
    "    { \"URN\" : 1, \"LinkUrn\" : pd.NA },\n",
    "    { \"URN\" : 2, \"LinkUrn\" : pd.NA },\n",
    "    { \"URN\" : 3, \"LinkUrn\" : 4 },\n",
    "    { \"URN\" : 5, \"LinkUrn\" : pd.NA }\n",
    "]).set_index(\"URN\")\n",
    "\n",
    "df1"
   ]
  },
  {
   "cell_type": "code",
   "outputs": [
    {
     "data": {
      "text/plain": "              Name\nURN               \n1      Should be 1\n2      Should be 2\n4      Should be 3\n3    Should be 3 1\n5      Should be 5",
      "text/html": "<div>\n<style scoped>\n    .dataframe tbody tr th:only-of-type {\n        vertical-align: middle;\n    }\n\n    .dataframe tbody tr th {\n        vertical-align: top;\n    }\n\n    .dataframe thead th {\n        text-align: right;\n    }\n</style>\n<table border=\"1\" class=\"dataframe\">\n  <thead>\n    <tr style=\"text-align: right;\">\n      <th></th>\n      <th>Name</th>\n    </tr>\n    <tr>\n      <th>URN</th>\n      <th></th>\n    </tr>\n  </thead>\n  <tbody>\n    <tr>\n      <th>1</th>\n      <td>Should be 1</td>\n    </tr>\n    <tr>\n      <th>2</th>\n      <td>Should be 2</td>\n    </tr>\n    <tr>\n      <th>4</th>\n      <td>Should be 3</td>\n    </tr>\n    <tr>\n      <th>3</th>\n      <td>Should be 3 1</td>\n    </tr>\n    <tr>\n      <th>5</th>\n      <td>Should be 5</td>\n    </tr>\n  </tbody>\n</table>\n</div>"
     },
     "execution_count": 27,
     "metadata": {},
     "output_type": "execute_result"
    }
   ],
   "source": [
    "df2 = pd.DataFrame([\n",
    "    { \"URN\" : 1, \"Name\": \"Should be 1\" },\n",
    "    { \"URN\" : 2, \"Name\": \"Should be 2\" },\n",
    "    { \"URN\" : 4, \"Name\": \"Should be 3\" },\n",
    "    { \"URN\" : 3, \"Name\": \"Should be 3 1\" },\n",
    "    { \"URN\" : 5, \"Name\": \"Should be 5\" }\n",
    "]).set_index(\"URN\")\n",
    "\n",
    "df2"
   ],
   "metadata": {
    "collapsed": false,
    "ExecuteTime": {
     "end_time": "2024-03-27T15:46:33.967560Z",
     "start_time": "2024-03-27T15:46:33.942847Z"
    }
   },
   "id": "bc909dc4dcfd8982",
   "execution_count": 27
  },
  {
   "cell_type": "code",
   "outputs": [
    {
     "data": {
      "text/plain": "    LinkUrn           Name\nURN                       \n1      <NA>    Should be 1\n2      <NA>    Should be 2\n3         4  Should be 3 1\n5      <NA>    Should be 5\n3         4    Should be 3",
      "text/html": "<div>\n<style scoped>\n    .dataframe tbody tr th:only-of-type {\n        vertical-align: middle;\n    }\n\n    .dataframe tbody tr th {\n        vertical-align: top;\n    }\n\n    .dataframe thead th {\n        text-align: right;\n    }\n</style>\n<table border=\"1\" class=\"dataframe\">\n  <thead>\n    <tr style=\"text-align: right;\">\n      <th></th>\n      <th>LinkUrn</th>\n      <th>Name</th>\n    </tr>\n    <tr>\n      <th>URN</th>\n      <th></th>\n      <th></th>\n    </tr>\n  </thead>\n  <tbody>\n    <tr>\n      <th>1</th>\n      <td>&lt;NA&gt;</td>\n      <td>Should be 1</td>\n    </tr>\n    <tr>\n      <th>2</th>\n      <td>&lt;NA&gt;</td>\n      <td>Should be 2</td>\n    </tr>\n    <tr>\n      <th>3</th>\n      <td>4</td>\n      <td>Should be 3 1</td>\n    </tr>\n    <tr>\n      <th>5</th>\n      <td>&lt;NA&gt;</td>\n      <td>Should be 5</td>\n    </tr>\n    <tr>\n      <th>3</th>\n      <td>4</td>\n      <td>Should be 3</td>\n    </tr>\n  </tbody>\n</table>\n</div>"
     },
     "execution_count": 28,
     "metadata": {},
     "output_type": "execute_result"
    }
   ],
   "source": [
    "pd.concat([df1.reset_index().merge(df2, on=\"URN\", how=\"left\"),\n",
    "           df1.reset_index().merge(df2, left_on='LinkUrn', right_on='URN')]).set_index(\"URN\")"
   ],
   "metadata": {
    "collapsed": false,
    "ExecuteTime": {
     "end_time": "2024-03-27T15:46:37.641219Z",
     "start_time": "2024-03-27T15:46:37.631885Z"
    }
   },
   "id": "ad1e0f2de4c08e9e",
   "execution_count": 28
  },
  {
   "cell_type": "code",
   "outputs": [],
   "source": [],
   "metadata": {
    "collapsed": false
   },
   "id": "94fd933af916a314"
  }
 ],
 "metadata": {
  "kernelspec": {
   "display_name": "Python 3",
   "language": "python",
   "name": "python3"
  },
  "language_info": {
   "codemirror_mode": {
    "name": "ipython",
    "version": 2
   },
   "file_extension": ".py",
   "mimetype": "text/x-python",
   "name": "python",
   "nbconvert_exporter": "python",
   "pygments_lexer": "ipython2",
   "version": "2.7.6"
  }
 },
 "nbformat": 4,
 "nbformat_minor": 5
}
