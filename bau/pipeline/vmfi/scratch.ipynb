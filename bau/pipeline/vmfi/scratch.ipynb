{
 "cells": [
  {
   "cell_type": "code",
   "id": "initial_id",
   "metadata": {
    "collapsed": true,
    "ExecuteTime": {
     "end_time": "2024-04-13T16:05:04.063940Z",
     "start_time": "2024-04-13T16:05:04.058043Z"
    }
   },
   "source": [
    "\n",
    "import pandas as pd\n",
    "\n",
    "df1 = pd.DataFrame([\n",
    "    { \"URN\" : 1, \"LinkUrn\" : pd.NA },\n",
    "    { \"URN\" : 2, \"LinkUrn\" : pd.NA },\n",
    "    { \"URN\" : 3, \"LinkUrn\" : 4 },\n",
    "    { \"URN\" : 5, \"LinkUrn\" : pd.NA }\n",
    "]).set_index(\"URN\")\n",
    "\n",
    "df1"
   ],
   "outputs": [
    {
     "data": {
      "text/plain": [
       "    LinkUrn\n",
       "URN        \n",
       "1      <NA>\n",
       "2      <NA>\n",
       "3         4\n",
       "5      <NA>"
      ],
      "text/html": [
       "<div>\n",
       "<style scoped>\n",
       "    .dataframe tbody tr th:only-of-type {\n",
       "        vertical-align: middle;\n",
       "    }\n",
       "\n",
       "    .dataframe tbody tr th {\n",
       "        vertical-align: top;\n",
       "    }\n",
       "\n",
       "    .dataframe thead th {\n",
       "        text-align: right;\n",
       "    }\n",
       "</style>\n",
       "<table border=\"1\" class=\"dataframe\">\n",
       "  <thead>\n",
       "    <tr style=\"text-align: right;\">\n",
       "      <th></th>\n",
       "      <th>LinkUrn</th>\n",
       "    </tr>\n",
       "    <tr>\n",
       "      <th>URN</th>\n",
       "      <th></th>\n",
       "    </tr>\n",
       "  </thead>\n",
       "  <tbody>\n",
       "    <tr>\n",
       "      <th>1</th>\n",
       "      <td>&lt;NA&gt;</td>\n",
       "    </tr>\n",
       "    <tr>\n",
       "      <th>2</th>\n",
       "      <td>&lt;NA&gt;</td>\n",
       "    </tr>\n",
       "    <tr>\n",
       "      <th>3</th>\n",
       "      <td>4</td>\n",
       "    </tr>\n",
       "    <tr>\n",
       "      <th>5</th>\n",
       "      <td>&lt;NA&gt;</td>\n",
       "    </tr>\n",
       "  </tbody>\n",
       "</table>\n",
       "</div>"
      ]
     },
     "execution_count": 2,
     "metadata": {},
     "output_type": "execute_result"
    }
   ],
   "execution_count": 2
  },
  {
   "cell_type": "code",
   "outputs": [
    {
     "data": {
      "text/plain": "              Name\nURN               \n1      Should be 1\n2      Should be 2\n4      Should be 3\n3    Should be 3 1\n5      Should be 5",
      "text/html": "<div>\n<style scoped>\n    .dataframe tbody tr th:only-of-type {\n        vertical-align: middle;\n    }\n\n    .dataframe tbody tr th {\n        vertical-align: top;\n    }\n\n    .dataframe thead th {\n        text-align: right;\n    }\n</style>\n<table border=\"1\" class=\"dataframe\">\n  <thead>\n    <tr style=\"text-align: right;\">\n      <th></th>\n      <th>Name</th>\n    </tr>\n    <tr>\n      <th>URN</th>\n      <th></th>\n    </tr>\n  </thead>\n  <tbody>\n    <tr>\n      <th>1</th>\n      <td>Should be 1</td>\n    </tr>\n    <tr>\n      <th>2</th>\n      <td>Should be 2</td>\n    </tr>\n    <tr>\n      <th>4</th>\n      <td>Should be 3</td>\n    </tr>\n    <tr>\n      <th>3</th>\n      <td>Should be 3 1</td>\n    </tr>\n    <tr>\n      <th>5</th>\n      <td>Should be 5</td>\n    </tr>\n  </tbody>\n</table>\n</div>"
     },
     "execution_count": 27,
     "metadata": {},
     "output_type": "execute_result"
    }
   ],
   "source": [
    "df2 = pd.DataFrame([\n",
    "    { \"URN\" : 1, \"Name\": \"Should be 1\" },\n",
    "    { \"URN\" : 2, \"Name\": \"Should be 2\" },\n",
    "    { \"URN\" : 4, \"Name\": \"Should be 3\" },\n",
    "    { \"URN\" : 3, \"Name\": \"Should be 3 1\" },\n",
    "    { \"URN\" : 5, \"Name\": \"Should be 5\" }\n",
    "]).set_index(\"URN\")\n",
    "\n",
    "df2"
   ],
   "metadata": {
    "collapsed": false,
    "ExecuteTime": {
     "end_time": "2024-03-27T15:46:33.967560Z",
     "start_time": "2024-03-27T15:46:33.942847Z"
    }
   },
   "id": "bc909dc4dcfd8982",
   "execution_count": 27
  },
  {
   "cell_type": "code",
   "outputs": [
    {
     "data": {
      "text/plain": "    LinkUrn           Name\nURN                       \n1      <NA>    Should be 1\n2      <NA>    Should be 2\n3         4  Should be 3 1\n5      <NA>    Should be 5\n3         4    Should be 3",
      "text/html": "<div>\n<style scoped>\n    .dataframe tbody tr th:only-of-type {\n        vertical-align: middle;\n    }\n\n    .dataframe tbody tr th {\n        vertical-align: top;\n    }\n\n    .dataframe thead th {\n        text-align: right;\n    }\n</style>\n<table border=\"1\" class=\"dataframe\">\n  <thead>\n    <tr style=\"text-align: right;\">\n      <th></th>\n      <th>LinkUrn</th>\n      <th>Name</th>\n    </tr>\n    <tr>\n      <th>URN</th>\n      <th></th>\n      <th></th>\n    </tr>\n  </thead>\n  <tbody>\n    <tr>\n      <th>1</th>\n      <td>&lt;NA&gt;</td>\n      <td>Should be 1</td>\n    </tr>\n    <tr>\n      <th>2</th>\n      <td>&lt;NA&gt;</td>\n      <td>Should be 2</td>\n    </tr>\n    <tr>\n      <th>3</th>\n      <td>4</td>\n      <td>Should be 3 1</td>\n    </tr>\n    <tr>\n      <th>5</th>\n      <td>&lt;NA&gt;</td>\n      <td>Should be 5</td>\n    </tr>\n    <tr>\n      <th>3</th>\n      <td>4</td>\n      <td>Should be 3</td>\n    </tr>\n  </tbody>\n</table>\n</div>"
     },
     "execution_count": 28,
     "metadata": {},
     "output_type": "execute_result"
    }
   ],
   "source": [
    "pd.concat([df1.reset_index().merge(df2, on=\"URN\", how=\"left\"),\n",
    "           df1.reset_index().merge(df2, left_on='LinkUrn', right_on='URN')]).set_index(\"URN\")"
   ],
   "metadata": {
    "collapsed": false,
    "ExecuteTime": {
     "end_time": "2024-03-27T15:46:37.641219Z",
     "start_time": "2024-03-27T15:46:37.631885Z"
    }
   },
   "id": "ad1e0f2de4c08e9e",
   "execution_count": 28
  },
  {
   "cell_type": "code",
   "outputs": [],
   "source": [],
   "metadata": {
    "collapsed": false
   },
   "id": "94fd933af916a314",
   "execution_count": null
  },
  {
   "metadata": {
    "ExecuteTime": {
     "end_time": "2024-04-14T12:41:59.904999Z",
     "start_time": "2024-04-14T12:41:52.782692Z"
    }
   },
   "cell_type": "code",
   "source": [
    "import schemas as schema\n",
    "\n",
    "raw_cdc = pd.read_csv('data/standing_data_cdc.csv', encoding='utf8', low_memory=False).dtypes.reset_index()\n",
    "raw_cdc['Data Source'] = 'RAW_CDC'\n",
    "\n",
    "raw_school_workforce_census = pd.read_excel('data/School_Tables_School_Workforce_Census_2022.xlsx', header=5).dtypes.reset_index()\n",
    "raw_school_workforce_census['Data Source'] = 'RAW_School_Workforce'\n",
    "\n",
    "raw_pupils_census = pd.read_csv('data/standing_data_census_pupils.csv', encoding='utf8', low_memory=False).dtypes.reset_index()\n",
    "raw_pupils_census['Data Source'] = 'RAW_Pupils_Census'\n",
    "\n",
    "raw_sen = pd.read_csv('data/SEN.csv', encoding='utf8', low_memory=False).dtypes.reset_index()\n",
    "raw_sen['Data Source'] = 'RAW_Sen'\n",
    "\n",
    "raw_gias = pd.read_csv('data/edubasealldata20240312.csv', encoding='cp1252', low_memory=False).dtypes.reset_index()\n",
    "raw_gias['Data Source'] = 'RAW_Gias'\n",
    "\n",
    "raw_academies_list = pd.read_csv('data/master_list_raw.csv', encoding='utf8', low_memory=False).dtypes.reset_index()\n",
    "raw_academies_list['Data Source'] = 'RAW_academies_master_list'\n",
    "\n",
    "raw_maintained_schools_list = pd.read_csv('data/maintained_schools_raw.csv', encoding='utf8', low_memory=False).dtypes.reset_index()\n",
    "raw_maintained_schools_list['Data Source'] = 'RAW_maintained_schools_list'\n",
    "\n",
    "raw_ar_cells = pd.read_csv('data/AR_cell_mapping.csv', encoding='utf8', low_memory=False)\n",
    "raw_ar_cells['Data Source'] = 'RAW_AR_Cell'\n",
    "raw_ar_cells['index'] = raw_ar_cells.apply(lambda d: d['cell'] + ':' + d['Metric'], axis=1)\n",
    "\n"
   ],
   "id": "5f32f9ef47f8ad33",
   "outputs": [],
   "execution_count": 69
  },
  {
   "metadata": {
    "ExecuteTime": {
     "end_time": "2024-04-14T12:42:08.856375Z",
     "start_time": "2024-04-14T12:42:08.842931Z"
    }
   },
   "cell_type": "code",
   "source": [
    "raw_schemas = pd.concat([\n",
    "    raw_sen[['index','Data Source']],\n",
    "    raw_school_workforce_census[['index','Data Source']],\n",
    "    raw_pupils_census[['index','Data Source']],\n",
    "    raw_cdc[['index','Data Source']],\n",
    "    raw_gias[['index','Data Source']],\n",
    "    raw_academies_list[['index','Data Source']],\n",
    "    raw_maintained_schools_list[['index','Data Source']],\n",
    "    raw_ar_cells[['index','Data Source']]\n",
    "]).rename(columns={'index':'Attribute'}).reset_index()[['Data Source','Attribute']]\n",
    "\n",
    "raw_schemas['Attribute Path'] = raw_schemas.apply(lambda d: d['Data Source'] + ':' + d['Attribute'], axis=1)\n",
    "\n",
    "raw_schemas"
   ],
   "id": "df5f0216db8bcfaf",
   "outputs": [
    {
     "data": {
      "text/plain": [
       "     Data Source                                          Attribute  \\\n",
       "0        RAW_Sen                                        time_period   \n",
       "1        RAW_Sen                                    time_identifier   \n",
       "2        RAW_Sen                                   geographic_level   \n",
       "3        RAW_Sen                                       country_code   \n",
       "4        RAW_Sen                                       country_name   \n",
       "..           ...                                                ...   \n",
       "749  RAW_AR_Cell      BTE300:Professional services (non-curriculum)   \n",
       "750  RAW_AR_Cell                                 BTE310:PFI charges   \n",
       "751  RAW_AR_Cell          BTE320:Interest charges for loan and bank   \n",
       "752  RAW_AR_Cell  BAB030-T:Closing balance (Restricted and Unres...   \n",
       "753  RAW_AR_Cell  BTB030:Closing balance (Restricted and Unrestr...   \n",
       "\n",
       "                                        Attribute Path  \n",
       "0                                  RAW_Sen:time_period  \n",
       "1                              RAW_Sen:time_identifier  \n",
       "2                             RAW_Sen:geographic_level  \n",
       "3                                 RAW_Sen:country_code  \n",
       "4                                 RAW_Sen:country_name  \n",
       "..                                                 ...  \n",
       "749  RAW_AR_Cell:BTE300:Professional services (non-...  \n",
       "750                     RAW_AR_Cell:BTE310:PFI charges  \n",
       "751  RAW_AR_Cell:BTE320:Interest charges for loan a...  \n",
       "752  RAW_AR_Cell:BAB030-T:Closing balance (Restrict...  \n",
       "753  RAW_AR_Cell:BTB030:Closing balance (Restricted...  \n",
       "\n",
       "[754 rows x 3 columns]"
      ],
      "text/html": [
       "<div>\n",
       "<style scoped>\n",
       "    .dataframe tbody tr th:only-of-type {\n",
       "        vertical-align: middle;\n",
       "    }\n",
       "\n",
       "    .dataframe tbody tr th {\n",
       "        vertical-align: top;\n",
       "    }\n",
       "\n",
       "    .dataframe thead th {\n",
       "        text-align: right;\n",
       "    }\n",
       "</style>\n",
       "<table border=\"1\" class=\"dataframe\">\n",
       "  <thead>\n",
       "    <tr style=\"text-align: right;\">\n",
       "      <th></th>\n",
       "      <th>Data Source</th>\n",
       "      <th>Attribute</th>\n",
       "      <th>Attribute Path</th>\n",
       "    </tr>\n",
       "  </thead>\n",
       "  <tbody>\n",
       "    <tr>\n",
       "      <th>0</th>\n",
       "      <td>RAW_Sen</td>\n",
       "      <td>time_period</td>\n",
       "      <td>RAW_Sen:time_period</td>\n",
       "    </tr>\n",
       "    <tr>\n",
       "      <th>1</th>\n",
       "      <td>RAW_Sen</td>\n",
       "      <td>time_identifier</td>\n",
       "      <td>RAW_Sen:time_identifier</td>\n",
       "    </tr>\n",
       "    <tr>\n",
       "      <th>2</th>\n",
       "      <td>RAW_Sen</td>\n",
       "      <td>geographic_level</td>\n",
       "      <td>RAW_Sen:geographic_level</td>\n",
       "    </tr>\n",
       "    <tr>\n",
       "      <th>3</th>\n",
       "      <td>RAW_Sen</td>\n",
       "      <td>country_code</td>\n",
       "      <td>RAW_Sen:country_code</td>\n",
       "    </tr>\n",
       "    <tr>\n",
       "      <th>4</th>\n",
       "      <td>RAW_Sen</td>\n",
       "      <td>country_name</td>\n",
       "      <td>RAW_Sen:country_name</td>\n",
       "    </tr>\n",
       "    <tr>\n",
       "      <th>...</th>\n",
       "      <td>...</td>\n",
       "      <td>...</td>\n",
       "      <td>...</td>\n",
       "    </tr>\n",
       "    <tr>\n",
       "      <th>749</th>\n",
       "      <td>RAW_AR_Cell</td>\n",
       "      <td>BTE300:Professional services (non-curriculum)</td>\n",
       "      <td>RAW_AR_Cell:BTE300:Professional services (non-...</td>\n",
       "    </tr>\n",
       "    <tr>\n",
       "      <th>750</th>\n",
       "      <td>RAW_AR_Cell</td>\n",
       "      <td>BTE310:PFI charges</td>\n",
       "      <td>RAW_AR_Cell:BTE310:PFI charges</td>\n",
       "    </tr>\n",
       "    <tr>\n",
       "      <th>751</th>\n",
       "      <td>RAW_AR_Cell</td>\n",
       "      <td>BTE320:Interest charges for loan and bank</td>\n",
       "      <td>RAW_AR_Cell:BTE320:Interest charges for loan a...</td>\n",
       "    </tr>\n",
       "    <tr>\n",
       "      <th>752</th>\n",
       "      <td>RAW_AR_Cell</td>\n",
       "      <td>BAB030-T:Closing balance (Restricted and Unres...</td>\n",
       "      <td>RAW_AR_Cell:BAB030-T:Closing balance (Restrict...</td>\n",
       "    </tr>\n",
       "    <tr>\n",
       "      <th>753</th>\n",
       "      <td>RAW_AR_Cell</td>\n",
       "      <td>BTB030:Closing balance (Restricted and Unrestr...</td>\n",
       "      <td>RAW_AR_Cell:BTB030:Closing balance (Restricted...</td>\n",
       "    </tr>\n",
       "  </tbody>\n",
       "</table>\n",
       "<p>754 rows × 3 columns</p>\n",
       "</div>"
      ]
     },
     "execution_count": 72,
     "metadata": {},
     "output_type": "execute_result"
    }
   ],
   "execution_count": 72
  },
  {
   "metadata": {
    "ExecuteTime": {
     "end_time": "2024-04-14T09:35:04.096484Z",
     "start_time": "2024-04-14T09:35:03.535375Z"
    }
   },
   "cell_type": "code",
   "source": [
    "pp_academies = pd.read_csv('output/pre-processing/academies.csv', encoding='utf8', low_memory=False).dtypes.reset_index()\n",
    "pp_academies['Data Source'] = 'PreProcessed_Academies'\n",
    "\n",
    "pp_cdc = pd.read_csv('output/pre-processing/cdc.csv', encoding='utf8', low_memory=False).dtypes.reset_index()\n",
    "pp_cdc['Data Source'] = 'PreProcessed_CDC'\n",
    "\n",
    "pp_census = pd.read_csv('output/pre-processing/census.csv', encoding='utf8', low_memory=False).dtypes.reset_index()\n",
    "pp_census['Data Source'] = 'PreProcessed_Census'\n",
    "\n",
    "pp_maintained_schools = pd.read_csv('output/pre-processing/maintained_schools.csv', encoding='utf8', low_memory=False).dtypes.reset_index()\n",
    "pp_maintained_schools['Data Source'] = 'PreProcessed_Maintained_Schools'\n",
    "\n",
    "pp_schools = pd.read_csv('output/pre-processing/schools.csv', encoding='utf8', low_memory=False).dtypes.reset_index()\n",
    "pp_schools['Data Source'] = 'PreProcessed_Schools'\n",
    "\n",
    "pp_sen = pd.read_csv('output/pre-processing/sen.csv', encoding='utf8', low_memory=False).dtypes.reset_index()\n",
    "pp_sen['Data Source'] = 'PreProcessed_SEN'"
   ],
   "id": "30248016f69ca7a9",
   "outputs": [],
   "execution_count": 42
  },
  {
   "metadata": {
    "ExecuteTime": {
     "end_time": "2024-04-14T09:37:18.106699Z",
     "start_time": "2024-04-14T09:37:18.080833Z"
    }
   },
   "cell_type": "code",
   "source": [
    "pp_schemas = pd.concat([\n",
    "    pp_academies[['index','Data Source']],\n",
    "    pp_cdc[['index','Data Source']],\n",
    "    pp_census[['index','Data Source']],\n",
    "    pp_maintained_schools[['index','Data Source']],\n",
    "    pp_schools[['index','Data Source']],\n",
    "    pp_sen[['index','Data Source']]\n",
    "]).rename(columns={'index':'Attribute'}).reset_index()[['Data Source','Attribute']]\n",
    "\n",
    "pp_schemas['Attribute Path'] = pp_schemas.apply(lambda d: d['Data Source'] + ':' + d['Attribute'], axis=1)\n",
    "pp_schemas"
   ],
   "id": "909be4f4839e0429",
   "outputs": [
    {
     "data": {
      "text/plain": [
       "                Data Source                    Attribute  \\\n",
       "0    PreProcessed_Academies                          URN   \n",
       "1    PreProcessed_Academies  Company Registration Number   \n",
       "2    PreProcessed_Academies           Incorporation Date   \n",
       "3    PreProcessed_Academies           Academy Trust UPIN   \n",
       "4    PreProcessed_Academies                Academy UKPRN   \n",
       "..                      ...                          ...   \n",
       "351        PreProcessed_SEN          SUP_Primary_need_pd   \n",
       "352        PreProcessed_SEN         SUP_Primary_need_asd   \n",
       "353        PreProcessed_SEN         SUP_Primary_need_oth   \n",
       "354        PreProcessed_SEN         SUP_Primary_need_nsa   \n",
       "355        PreProcessed_SEN               Percentage SEN   \n",
       "\n",
       "                                        Attribute Path  \n",
       "0                           PreProcessed_Academies:URN  \n",
       "1    PreProcessed_Academies:Company Registration Nu...  \n",
       "2            PreProcessed_Academies:Incorporation Date  \n",
       "3            PreProcessed_Academies:Academy Trust UPIN  \n",
       "4                 PreProcessed_Academies:Academy UKPRN  \n",
       "..                                                 ...  \n",
       "351               PreProcessed_SEN:SUP_Primary_need_pd  \n",
       "352              PreProcessed_SEN:SUP_Primary_need_asd  \n",
       "353              PreProcessed_SEN:SUP_Primary_need_oth  \n",
       "354              PreProcessed_SEN:SUP_Primary_need_nsa  \n",
       "355                    PreProcessed_SEN:Percentage SEN  \n",
       "\n",
       "[356 rows x 3 columns]"
      ],
      "text/html": [
       "<div>\n",
       "<style scoped>\n",
       "    .dataframe tbody tr th:only-of-type {\n",
       "        vertical-align: middle;\n",
       "    }\n",
       "\n",
       "    .dataframe tbody tr th {\n",
       "        vertical-align: top;\n",
       "    }\n",
       "\n",
       "    .dataframe thead th {\n",
       "        text-align: right;\n",
       "    }\n",
       "</style>\n",
       "<table border=\"1\" class=\"dataframe\">\n",
       "  <thead>\n",
       "    <tr style=\"text-align: right;\">\n",
       "      <th></th>\n",
       "      <th>Data Source</th>\n",
       "      <th>Attribute</th>\n",
       "      <th>Attribute Path</th>\n",
       "    </tr>\n",
       "  </thead>\n",
       "  <tbody>\n",
       "    <tr>\n",
       "      <th>0</th>\n",
       "      <td>PreProcessed_Academies</td>\n",
       "      <td>URN</td>\n",
       "      <td>PreProcessed_Academies:URN</td>\n",
       "    </tr>\n",
       "    <tr>\n",
       "      <th>1</th>\n",
       "      <td>PreProcessed_Academies</td>\n",
       "      <td>Company Registration Number</td>\n",
       "      <td>PreProcessed_Academies:Company Registration Nu...</td>\n",
       "    </tr>\n",
       "    <tr>\n",
       "      <th>2</th>\n",
       "      <td>PreProcessed_Academies</td>\n",
       "      <td>Incorporation Date</td>\n",
       "      <td>PreProcessed_Academies:Incorporation Date</td>\n",
       "    </tr>\n",
       "    <tr>\n",
       "      <th>3</th>\n",
       "      <td>PreProcessed_Academies</td>\n",
       "      <td>Academy Trust UPIN</td>\n",
       "      <td>PreProcessed_Academies:Academy Trust UPIN</td>\n",
       "    </tr>\n",
       "    <tr>\n",
       "      <th>4</th>\n",
       "      <td>PreProcessed_Academies</td>\n",
       "      <td>Academy UKPRN</td>\n",
       "      <td>PreProcessed_Academies:Academy UKPRN</td>\n",
       "    </tr>\n",
       "    <tr>\n",
       "      <th>...</th>\n",
       "      <td>...</td>\n",
       "      <td>...</td>\n",
       "      <td>...</td>\n",
       "    </tr>\n",
       "    <tr>\n",
       "      <th>351</th>\n",
       "      <td>PreProcessed_SEN</td>\n",
       "      <td>SUP_Primary_need_pd</td>\n",
       "      <td>PreProcessed_SEN:SUP_Primary_need_pd</td>\n",
       "    </tr>\n",
       "    <tr>\n",
       "      <th>352</th>\n",
       "      <td>PreProcessed_SEN</td>\n",
       "      <td>SUP_Primary_need_asd</td>\n",
       "      <td>PreProcessed_SEN:SUP_Primary_need_asd</td>\n",
       "    </tr>\n",
       "    <tr>\n",
       "      <th>353</th>\n",
       "      <td>PreProcessed_SEN</td>\n",
       "      <td>SUP_Primary_need_oth</td>\n",
       "      <td>PreProcessed_SEN:SUP_Primary_need_oth</td>\n",
       "    </tr>\n",
       "    <tr>\n",
       "      <th>354</th>\n",
       "      <td>PreProcessed_SEN</td>\n",
       "      <td>SUP_Primary_need_nsa</td>\n",
       "      <td>PreProcessed_SEN:SUP_Primary_need_nsa</td>\n",
       "    </tr>\n",
       "    <tr>\n",
       "      <th>355</th>\n",
       "      <td>PreProcessed_SEN</td>\n",
       "      <td>Percentage SEN</td>\n",
       "      <td>PreProcessed_SEN:Percentage SEN</td>\n",
       "    </tr>\n",
       "  </tbody>\n",
       "</table>\n",
       "<p>356 rows × 3 columns</p>\n",
       "</div>"
      ]
     },
     "execution_count": 45,
     "metadata": {},
     "output_type": "execute_result"
    }
   ],
   "execution_count": 45
  },
  {
   "metadata": {},
   "cell_type": "code",
   "outputs": [],
   "execution_count": null,
   "source": "",
   "id": "ae7bc989fa740ac1"
  }
 ],
 "metadata": {
  "kernelspec": {
   "display_name": "Python 3",
   "language": "python",
   "name": "python3"
  },
  "language_info": {
   "codemirror_mode": {
    "name": "ipython",
    "version": 2
   },
   "file_extension": ".py",
   "mimetype": "text/x-python",
   "name": "python",
   "nbconvert_exporter": "python",
   "pygments_lexer": "ipython2",
   "version": "2.7.6"
  }
 },
 "nbformat": 4,
 "nbformat_minor": 5
}
