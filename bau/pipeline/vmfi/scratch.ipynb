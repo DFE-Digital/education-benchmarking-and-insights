{
 "cells": [
  {
   "cell_type": "code",
   "execution_count": null,
   "id": "28f1cfdbb2fb8370",
   "metadata": {},
   "outputs": [],
   "source": [
    "import pandas as pd"
   ]
  },
  {
   "cell_type": "code",
   "execution_count": 2,
   "id": "initial_id",
   "metadata": {
    "ExecuteTime": {
     "end_time": "2024-04-13T16:05:04.063940Z",
     "start_time": "2024-04-13T16:05:04.058043Z"
    },
    "collapsed": true
   },
   "outputs": [
    {
     "data": {
      "text/html": [
       "<div>\n",
       "<style scoped>\n",
       "    .dataframe tbody tr th:only-of-type {\n",
       "        vertical-align: middle;\n",
       "    }\n",
       "\n",
       "    .dataframe tbody tr th {\n",
       "        vertical-align: top;\n",
       "    }\n",
       "\n",
       "    .dataframe thead th {\n",
       "        text-align: right;\n",
       "    }\n",
       "</style>\n",
       "<table border=\"1\" class=\"dataframe\">\n",
       "  <thead>\n",
       "    <tr style=\"text-align: right;\">\n",
       "      <th></th>\n",
       "      <th>LinkUrn</th>\n",
       "    </tr>\n",
       "    <tr>\n",
       "      <th>URN</th>\n",
       "      <th></th>\n",
       "    </tr>\n",
       "  </thead>\n",
       "  <tbody>\n",
       "    <tr>\n",
       "      <th>1</th>\n",
       "      <td>&lt;NA&gt;</td>\n",
       "    </tr>\n",
       "    <tr>\n",
       "      <th>2</th>\n",
       "      <td>&lt;NA&gt;</td>\n",
       "    </tr>\n",
       "    <tr>\n",
       "      <th>3</th>\n",
       "      <td>4</td>\n",
       "    </tr>\n",
       "    <tr>\n",
       "      <th>5</th>\n",
       "      <td>&lt;NA&gt;</td>\n",
       "    </tr>\n",
       "  </tbody>\n",
       "</table>\n",
       "</div>"
      ],
      "text/plain": [
       "    LinkUrn\n",
       "URN        \n",
       "1      <NA>\n",
       "2      <NA>\n",
       "3         4\n",
       "5      <NA>"
      ]
     },
     "execution_count": 2,
     "metadata": {},
     "output_type": "execute_result"
    }
   ],
   "source": [
    "\n",
    "import pandas as pd\n",
    "\n",
    "df1 = pd.DataFrame([\n",
    "    { \"URN\" : 1, \"LinkUrn\" : pd.NA },\n",
    "    { \"URN\" : 2, \"LinkUrn\" : pd.NA },\n",
    "    { \"URN\" : 3, \"LinkUrn\" : 4 },\n",
    "    { \"URN\" : 5, \"LinkUrn\" : pd.NA }\n",
    "]).set_index(\"URN\")\n",
    "\n",
    "df1"
   ]
  },
  {
   "cell_type": "code",
   "execution_count": 27,
   "id": "bc909dc4dcfd8982",
   "metadata": {
    "ExecuteTime": {
     "end_time": "2024-03-27T15:46:33.967560Z",
     "start_time": "2024-03-27T15:46:33.942847Z"
    },
    "collapsed": false
   },
   "outputs": [
    {
     "data": {
      "text/html": [
       "<div>\n",
       "<style scoped>\n",
       "    .dataframe tbody tr th:only-of-type {\n",
       "        vertical-align: middle;\n",
       "    }\n",
       "\n",
       "    .dataframe tbody tr th {\n",
       "        vertical-align: top;\n",
       "    }\n",
       "\n",
       "    .dataframe thead th {\n",
       "        text-align: right;\n",
       "    }\n",
       "</style>\n",
       "<table border=\"1\" class=\"dataframe\">\n",
       "  <thead>\n",
       "    <tr style=\"text-align: right;\">\n",
       "      <th></th>\n",
       "      <th>Name</th>\n",
       "    </tr>\n",
       "    <tr>\n",
       "      <th>URN</th>\n",
       "      <th></th>\n",
       "    </tr>\n",
       "  </thead>\n",
       "  <tbody>\n",
       "    <tr>\n",
       "      <th>1</th>\n",
       "      <td>Should be 1</td>\n",
       "    </tr>\n",
       "    <tr>\n",
       "      <th>2</th>\n",
       "      <td>Should be 2</td>\n",
       "    </tr>\n",
       "    <tr>\n",
       "      <th>4</th>\n",
       "      <td>Should be 3</td>\n",
       "    </tr>\n",
       "    <tr>\n",
       "      <th>3</th>\n",
       "      <td>Should be 3 1</td>\n",
       "    </tr>\n",
       "    <tr>\n",
       "      <th>5</th>\n",
       "      <td>Should be 5</td>\n",
       "    </tr>\n",
       "  </tbody>\n",
       "</table>\n",
       "</div>"
      ],
      "text/plain": [
       "              Name\n",
       "URN               \n",
       "1      Should be 1\n",
       "2      Should be 2\n",
       "4      Should be 3\n",
       "3    Should be 3 1\n",
       "5      Should be 5"
      ]
     },
     "execution_count": 27,
     "metadata": {},
     "output_type": "execute_result"
    }
   ],
   "source": [
    "df2 = pd.DataFrame([\n",
    "    { \"URN\" : 1, \"Name\": \"Should be 1\" },\n",
    "    { \"URN\" : 2, \"Name\": \"Should be 2\" },\n",
    "    { \"URN\" : 4, \"Name\": \"Should be 3\" },\n",
    "    { \"URN\" : 3, \"Name\": \"Should be 3 1\" },\n",
    "    { \"URN\" : 5, \"Name\": \"Should be 5\" }\n",
    "]).set_index(\"URN\")\n",
    "\n",
    "df2"
   ]
  },
  {
   "cell_type": "code",
   "execution_count": 28,
   "id": "ad1e0f2de4c08e9e",
   "metadata": {
    "ExecuteTime": {
     "end_time": "2024-03-27T15:46:37.641219Z",
     "start_time": "2024-03-27T15:46:37.631885Z"
    },
    "collapsed": false
   },
   "outputs": [
    {
     "data": {
      "text/html": [
       "<div>\n",
       "<style scoped>\n",
       "    .dataframe tbody tr th:only-of-type {\n",
       "        vertical-align: middle;\n",
       "    }\n",
       "\n",
       "    .dataframe tbody tr th {\n",
       "        vertical-align: top;\n",
       "    }\n",
       "\n",
       "    .dataframe thead th {\n",
       "        text-align: right;\n",
       "    }\n",
       "</style>\n",
       "<table border=\"1\" class=\"dataframe\">\n",
       "  <thead>\n",
       "    <tr style=\"text-align: right;\">\n",
       "      <th></th>\n",
       "      <th>LinkUrn</th>\n",
       "      <th>Name</th>\n",
       "    </tr>\n",
       "    <tr>\n",
       "      <th>URN</th>\n",
       "      <th></th>\n",
       "      <th></th>\n",
       "    </tr>\n",
       "  </thead>\n",
       "  <tbody>\n",
       "    <tr>\n",
       "      <th>1</th>\n",
       "      <td>&lt;NA&gt;</td>\n",
       "      <td>Should be 1</td>\n",
       "    </tr>\n",
       "    <tr>\n",
       "      <th>2</th>\n",
       "      <td>&lt;NA&gt;</td>\n",
       "      <td>Should be 2</td>\n",
       "    </tr>\n",
       "    <tr>\n",
       "      <th>3</th>\n",
       "      <td>4</td>\n",
       "      <td>Should be 3 1</td>\n",
       "    </tr>\n",
       "    <tr>\n",
       "      <th>5</th>\n",
       "      <td>&lt;NA&gt;</td>\n",
       "      <td>Should be 5</td>\n",
       "    </tr>\n",
       "    <tr>\n",
       "      <th>3</th>\n",
       "      <td>4</td>\n",
       "      <td>Should be 3</td>\n",
       "    </tr>\n",
       "  </tbody>\n",
       "</table>\n",
       "</div>"
      ],
      "text/plain": [
       "    LinkUrn           Name\n",
       "URN                       \n",
       "1      <NA>    Should be 1\n",
       "2      <NA>    Should be 2\n",
       "3         4  Should be 3 1\n",
       "5      <NA>    Should be 5\n",
       "3         4    Should be 3"
      ]
     },
     "execution_count": 28,
     "metadata": {},
     "output_type": "execute_result"
    }
   ],
   "source": [
    "pd.concat([df1.reset_index().merge(df2, on=\"URN\", how=\"left\"),\n",
    "           df1.reset_index().merge(df2, left_on='LinkUrn', right_on='URN')]).set_index(\"URN\")"
   ]
  },
  {
   "cell_type": "code",
   "execution_count": null,
   "id": "5f32f9ef47f8ad33",
   "metadata": {
    "ExecuteTime": {
     "end_time": "2024-04-18T09:28:41.679204Z",
     "start_time": "2024-04-18T09:28:29.330196Z"
    }
   },
   "outputs": [],
   "source": [
    "raw_cdc = pd.read_csv('data/standing_data_cdc.csv', encoding='utf8', low_memory=False).dtypes.reset_index()\n",
    "raw_cdc['Data Source'] = 'RAW_CDC'\n",
    "\n",
    "raw_school_workforce_census = pd.read_excel('data/School_Tables_School_Workforce_Census_2022.xlsx', header=5).dtypes.reset_index()\n",
    "raw_school_workforce_census['Data Source'] = 'RAW_School_Workforce'\n",
    "\n",
    "raw_pupils_census = pd.read_csv('data/standing_data_census_pupils.csv', encoding='utf8', low_memory=False).dtypes.reset_index()\n",
    "raw_pupils_census['Data Source'] = 'RAW_Pupils_Census'\n",
    "\n",
    "raw_sen = pd.read_csv('data/SEN.csv', encoding='utf8', low_memory=False).dtypes.reset_index()\n",
    "raw_sen['Data Source'] = 'RAW_Sen'\n",
    "\n",
    "raw_gias = pd.read_csv('data/edubasealldata20240312.csv', encoding='cp1252', low_memory=False).dtypes.reset_index()\n",
    "raw_gias['Data Source'] = 'RAW_Gias'\n",
    "\n",
    "raw_academies_list = pd.read_csv('data/master_list_raw.csv', encoding='utf8', low_memory=False).dtypes.reset_index()\n",
    "raw_academies_list['Data Source'] = 'RAW_academies_master_list'\n",
    "\n",
    "raw_maintained_schools_list = pd.read_csv('data/maintained_schools_raw.csv', encoding='utf8', low_memory=False).dtypes.reset_index()\n",
    "raw_maintained_schools_list['Data Source'] = 'RAW_maintained_schools_list'\n",
    "\n",
    "raw_ar_cells = pd.read_csv('data/AR_cell_mapping.csv', encoding='utf8', low_memory=False)\n",
    "raw_ar_cells['Data Source'] = 'RAW_AR_Cell'\n",
    "raw_ar_cells['index'] = raw_ar_cells.apply(lambda d: d['cell'] + ':' + d['Metric'], axis=1)\n",
    "\n"
   ]
  },
  {
   "cell_type": "code",
   "execution_count": null,
   "id": "df5f0216db8bcfaf",
   "metadata": {
    "ExecuteTime": {
     "end_time": "2024-04-18T09:28:44.475071Z",
     "start_time": "2024-04-18T09:28:44.446502Z"
    }
   },
   "outputs": [],
   "source": [
    "raw_schemas = pd.concat([\n",
    "    raw_sen[['index','Data Source']],\n",
    "    raw_school_workforce_census[['index','Data Source']],\n",
    "    raw_pupils_census[['index','Data Source']],\n",
    "    raw_cdc[['index','Data Source']],\n",
    "    raw_gias[['index','Data Source']],\n",
    "    raw_academies_list[['index','Data Source']],\n",
    "    raw_maintained_schools_list[['index','Data Source']],\n",
    "    raw_ar_cells[['index','Data Source']]\n",
    "]).rename(columns={'index':'Attribute'}).reset_index()[['Data Source','Attribute']]\n",
    "\n",
    "raw_schemas['Attribute Path'] = raw_schemas.apply(lambda d: d['Data Source'] + ':' + d['Attribute'], axis=1)\n",
    "\n",
    "raw_schemas"
   ]
  },
  {
   "cell_type": "code",
   "execution_count": null,
   "id": "30248016f69ca7a9",
   "metadata": {
    "ExecuteTime": {
     "end_time": "2024-04-18T12:04:24.483946Z",
     "start_time": "2024-04-18T12:04:22.970474Z"
    }
   },
   "outputs": [],
   "source": [
    "pp_academies = pd.read_csv('output/pre-processing/academies.csv', encoding='utf8', low_memory=False).dtypes.reset_index()\n",
    "pp_academies['Data Source'] = 'PreProcessed_Academies'\n",
    "\n",
    "pp_cdc = pd.read_csv('output/pre-processing/cdc.csv', encoding='utf8', low_memory=False).dtypes.reset_index()\n",
    "pp_cdc['Data Source'] = 'PreProcessed_CDC'\n",
    "\n",
    "pp_census = pd.read_csv('output/pre-processing/census.csv', encoding='utf8', low_memory=False).dtypes.reset_index()\n",
    "pp_census['Data Source'] = 'PreProcessed_Census'\n",
    "\n",
    "pp_maintained_schools = pd.read_csv('output/pre-processing/maintained_schools.csv', encoding='utf8', low_memory=False).dtypes.reset_index()\n",
    "pp_maintained_schools['Data Source'] = 'PreProcessed_Maintained_Schools'\n",
    "\n",
    "pp_schools = pd.read_csv('output/pre-processing/schools.csv', encoding='utf8', low_memory=False).dtypes.reset_index()\n",
    "pp_schools['Data Source'] = 'PreProcessed_Schools'\n",
    "\n",
    "pp_sen = pd.read_csv('output/pre-processing/sen.csv', encoding='utf8', low_memory=False).dtypes.reset_index()\n",
    "pp_sen['Data Source'] = 'PreProcessed_SEN'"
   ]
  },
  {
   "cell_type": "code",
   "execution_count": null,
   "id": "909be4f4839e0429",
   "metadata": {
    "ExecuteTime": {
     "end_time": "2024-04-18T12:04:26.458086Z",
     "start_time": "2024-04-18T12:04:26.427583Z"
    }
   },
   "outputs": [],
   "source": [
    "pp_schemas = pd.concat([\n",
    "    pp_academies[['index','Data Source']],\n",
    "    pp_cdc[['index','Data Source']],\n",
    "    pp_census[['index','Data Source']],\n",
    "    pp_maintained_schools[['index','Data Source']],\n",
    "    pp_schools[['index','Data Source']],\n",
    "    pp_sen[['index','Data Source']]\n",
    "]).rename(columns={'index':'Attribute'}).reset_index()[['Data Source','Attribute']]\n",
    "\n",
    "pp_schemas['Attribute Path'] = pp_schemas.apply(lambda d: d['Data Source'] + ':' + d['Attribute'], axis=1)\n",
    "pp_schemas"
   ]
  },
  {
   "cell_type": "code",
   "execution_count": null,
   "id": "ae7bc989fa740ac1",
   "metadata": {
    "ExecuteTime": {
     "end_time": "2024-04-18T09:35:17.701111Z",
     "start_time": "2024-04-18T09:35:17.637136Z"
    }
   },
   "outputs": [],
   "source": [
    "pp_ex = pp_maintained_schools[['index','Data Source']].rename(columns={'index':'Attribute'}).reset_index()[['Data Source','Attribute']]\n",
    "pp_ex['Attribute Path'] = pp_ex.apply(lambda d: d['Data Source'] + ':' + d['Attribute'], axis=1)\n",
    "pp_ex\n"
   ]
  }
 ],
 "metadata": {
  "kernelspec": {
   "display_name": "Python 3",
   "language": "python",
   "name": "python3"
  },
  "language_info": {
   "codemirror_mode": {
    "name": "ipython",
    "version": 2
   },
   "file_extension": ".py",
   "mimetype": "text/x-python",
   "name": "python",
   "nbconvert_exporter": "python",
   "pygments_lexer": "ipython2",
   "version": "2.7.6"
  }
 },
 "nbformat": 4,
 "nbformat_minor": 5
}
