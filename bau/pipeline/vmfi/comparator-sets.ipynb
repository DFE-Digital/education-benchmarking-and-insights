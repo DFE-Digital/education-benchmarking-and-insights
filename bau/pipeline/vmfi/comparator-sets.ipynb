{
 "cells": [
  {
   "cell_type": "markdown",
   "source": [
    "# Metric RAG computation\n",
    "\n",
    "This computes the Euclidean distance for each establishment from a base establishment of a consistent type (Academies, Maintained schools, SEN). Each establishment is given a weight against every other establishment and the top 60 for each establishment creates the comparator set for that establishment. This is repeated for all establishments in the establishment types set and then finally across all establishments across all establishment types."
   ],
   "metadata": {
    "collapsed": false
   },
   "id": "57ca200b0dd346a0"
  },
  {
   "cell_type": "code",
   "source": [
    "import numpy as np\n",
    "import multiprocessing as mp\n",
    "import pandas as pd\n",
    "import calculations as calcs\n",
    "import glob \n",
    "import os\n",
    "\n",
    "# Create and clean directory\n",
    "from pathlib import Path\n",
    "Path(\"output/comparator-sets\").mkdir(parents=True, exist_ok=True)\n",
    "\n",
    "files = glob.glob(\"output/comparator-sets/*\")\n",
    "for f in files:\n",
    "    os.remove(f)"
   ],
   "metadata": {
    "collapsed": false,
    "ExecuteTime": {
     "end_time": "2024-04-17T14:06:30.143513Z",
     "start_time": "2024-04-17T14:06:30.136901Z"
    }
   },
   "id": "cd10ce1065c1f1fa",
   "outputs": [],
   "execution_count": 3
  },
  {
   "metadata": {},
   "cell_type": "code",
   "outputs": [],
   "execution_count": null,
   "source": [
    "def create_distance_matrix(data):\n",
    "    classes = data.groupby(['SchoolPhaseType','Boarders (name)']).agg(list)\n",
    "    \n",
    "    distance_classes = {}\n",
    "    \n",
    "    for idx,row in classes.iterrows():\n",
    "        pupils = np.array(row['NumberOfPupils'])\n",
    "        fsm = np.array(row['Percentage Free school meals'])\n",
    "        sen = np.array(row['Percentage SEN'])\n",
    "        distance_classes[f'{idx[0]}-{idx[1]}'] = calcs.non_special_distance_calc(pupils, fsm, sen)"
   ],
   "id": "18429e298bf86bc0"
  },
  {
   "metadata": {},
   "cell_type": "markdown",
   "source": [
    "# Prepare Academy and School Data\n",
    "\n",
    "Here we prepare the academy and maintained school data by filling in missing values in NumberOfPupils, % Free School Meals and, % Sen with the mean (at this time). "
   ],
   "id": "e3ed3914349b273b"
  },
  {
   "metadata": {
    "ExecuteTime": {
     "end_time": "2024-04-17T14:06:33.297775Z",
     "start_time": "2024-04-17T14:06:33.132577Z"
    }
   },
   "cell_type": "code",
   "source": [
    "academy_data = pd.read_csv(\"output/pre-processing/academies.csv\")\n",
    "academy_data['Boarders (name)'] = academy_data['Boarders (name)'].map(lambda x : 'Not Boarding' if x == 'Unknown' else x)\n",
    "academy_data['NumberOfPupils'] = academy_data['NumberOfPupils'].fillna(academy_data['NumberOfPupils'].mean())\n",
    "academy_data['Percentage Free school meals'] = academy_data['Percentage Free school meals'].fillna(academy_data['Percentage Free school meals'].mean())\n",
    "academy_data['Percentage SEN'] = academy_data['Percentage SEN'].fillna(academy_data['Percentage SEN'].mean())\n",
    "academy_data['']\n",
    "academy_data = academy_data.set_index('URN').sort_index()"
   ],
   "id": "286a88267d5613f5",
   "outputs": [],
   "execution_count": 4
  },
  {
   "metadata": {
    "ExecuteTime": {
     "end_time": "2024-04-17T16:46:08.322046Z",
     "start_time": "2024-04-17T16:46:08.016481Z"
    }
   },
   "cell_type": "code",
   "source": [
    "ms_data = pd.read_csv(\"output/pre-processing/maintained_schools.csv\", low_memory=False)\n",
    "ms_data['Boarders (name)'] = ms_data['Boarders (name)'].map(lambda x : 'Not Boarding' if x == 'Unknown' else x)\n",
    "ms_data['NumberOfPupils'] = ms_data['NumberOfPupils'].fillna(ms_data['NumberOfPupils'].mean())\n",
    "ms_data['Percentage Free school meals'] = ms_data['Percentage Free school meals'].fillna(ms_data['Percentage Free school meals'].mean())\n",
    "ms_data['Percentage SEN'] = ms_data['Percentage SEN'].fillna(ms_data['Percentage SEN'].mean())\n",
    "ms_data = ms_data.set_index('URN').sort_index()"
   ],
   "id": "866453e7c4376c30",
   "outputs": [],
   "execution_count": 13
  },
  {
   "cell_type": "markdown",
   "source": [
    "# All pupil mix\n",
    "\n",
    "This creates the comparators sets across both academy and maintained schools"
   ],
   "metadata": {
    "collapsed": false
   },
   "id": "c5586f9b8ce48798"
  },
  {
   "metadata": {},
   "cell_type": "code",
   "outputs": [],
   "execution_count": null,
   "source": [
    "all_mix = pd.concat([academy_data, ms_data])\n",
    "\n",
    "all_mix"
   ],
   "id": "9026d2f23d6ca2db"
  }
 ],
 "metadata": {
  "kernelspec": {
   "display_name": "Python 3",
   "language": "python",
   "name": "python3"
  },
  "language_info": {
   "codemirror_mode": {
    "name": "ipython",
    "version": 2
   },
   "file_extension": ".py",
   "mimetype": "text/x-python",
   "name": "python",
   "nbconvert_exporter": "python",
   "pygments_lexer": "ipython2",
   "version": "2.7.6"
  }
 },
 "nbformat": 4,
 "nbformat_minor": 5
}
