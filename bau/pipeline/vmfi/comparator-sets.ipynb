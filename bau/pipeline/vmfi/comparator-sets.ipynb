{
 "cells": [
  {
   "cell_type": "markdown",
   "id": "57ca200b0dd346a0",
   "metadata": {
    "collapsed": false
   },
   "source": [
    "# Metric RAG computation\n",
    "\n",
    "This computes the Euclidean distance for each establishment from a base establishment of a consistent type (Academies, Maintained schools, SEN). Each establishment is given a weight against every other establishment and the top 60 for each establishment creates the comparator set for that establishment. This is repeated for all establishments in the establishment types set and then finally across all establishments across all establishment types."
   ]
  },
  {
   "cell_type": "code",
   "execution_count": null,
   "id": "cd10ce1065c1f1fa",
   "metadata": {
    "ExecuteTime": {
     "end_time": "2024-04-18T22:23:42.335234Z",
     "start_time": "2024-04-18T22:23:41.940231Z"
    }
   },
   "outputs": [],
   "source": [
    "import numpy as np\n",
    "import pandas as pd\n",
    "import calculations as calcs\n",
    "import glob \n",
    "import os\n",
    "\n",
    "# Create and clean directory\n",
    "from pathlib import Path\n",
    "Path(\"output/comparator-sets\").mkdir(parents=True, exist_ok=True)\n",
    "\n",
    "files = glob.glob(\"output/comparator-sets/*\")\n",
    "for f in files:\n",
    "    os.remove(f)"
   ]
  },
  {
   "cell_type": "markdown",
   "id": "e3ed3914349b273b",
   "metadata": {},
   "source": [
    "# Prepare Academy and School Data\n",
    "\n",
    "Here we prepare the academy and maintained school data by filling in missing values in NumberOfPupils, % Free School Meals and, % Sen with the mean (at this time). "
   ]
  },
  {
   "cell_type": "code",
   "execution_count": null,
   "id": "286a88267d5613f5",
   "metadata": {
    "ExecuteTime": {
     "end_time": "2024-04-18T22:23:45.021124Z",
     "start_time": "2024-04-18T22:23:44.699452Z"
    }
   },
   "outputs": [],
   "source": [
    "academy_data = calcs.prepare_data(pd.read_csv(\"output/pre-processing/academies.csv\"))\n",
    "ms_data = calcs.prepare_data(pd.read_csv(\"output/pre-processing/maintained_schools.csv\", low_memory=False))\n",
    "all_data = pd.concat([academy_data, ms_data])"
   ]
  },
  {
   "cell_type": "markdown",
   "id": "c5586f9b8ce48798",
   "metadata": {
    "collapsed": false
   },
   "source": [
    "# All pupil mix\n",
    "\n",
    "This creates the comparators sets across both academy and maintained schools"
   ]
  },
  {
   "cell_type": "code",
   "execution_count": null,
   "id": "9026d2f23d6ca2db",
   "metadata": {
    "ExecuteTime": {
     "end_time": "2024-04-18T22:24:12.432085Z",
     "start_time": "2024-04-18T22:23:47.511487Z"
    }
   },
   "outputs": [],
   "source": [
    "all_mix = calcs.compute_pupils_comparator_matrix(all_data)\n",
    "\n",
    "for key in all_mix:\n",
    "     print(f'{key}: {len(all_mix[key])}')"
   ]
  },
  {
   "cell_type": "markdown",
   "id": "78402bfcd9dd8d7e",
   "metadata": {},
   "source": [
    "Below is an example of extracting a school by name to show how the data structures work"
   ]
  },
  {
   "cell_type": "code",
   "execution_count": null,
   "id": "471de17d969bdb0c",
   "metadata": {
    "ExecuteTime": {
     "end_time": "2024-04-18T21:55:46.560119Z",
     "start_time": "2024-04-18T21:55:46.503745Z"
    }
   },
   "outputs": [],
   "source": [
    "target_school = 'Glebe Primary School'\n",
    "\n",
    "school = all_data[all_data['EstablishmentName'] == target_school][['SchoolPhaseType', 'UKPRN', 'PFI School', 'GOR (name)']].reset_index().to_dict(orient='records')[0]\n",
    "\n",
    "print(school)\n",
    "colIndex = np.argwhere(all_mix['urns'] == school['URN'])[0][0]\n",
    "data = all_mix[f'{school['SchoolPhaseType']}'][colIndex]\n",
    "\n",
    "top_30_index = np.argsort(data)[:30]\n",
    "distances = data[top_30_index]\n",
    "\n",
    "urns = all_mix['urns'][top_30_index]\n",
    "top_30 = all_data[all_data.index.isin(urns)][['EstablishmentName', 'UKPRN', 'PFI School', 'GOR (name)']].sort_index().drop_duplicates()\n",
    "\n",
    "top_30['Distances'] = distances\n",
    "top_30"
   ]
  },
  {
   "cell_type": "markdown",
   "id": "d53d3283570f54a1",
   "metadata": {},
   "source": [
    "# Example using a custom comparator set\n",
    "\n",
    "The example below selects a set of URN's based on a defined filter. And the "
   ]
  },
  {
   "cell_type": "code",
   "execution_count": null,
   "id": "684d0c624ca99ba7",
   "metadata": {
    "ExecuteTime": {
     "end_time": "2024-04-18T22:31:19.338783Z",
     "start_time": "2024-04-18T22:31:19.273630Z"
    }
   },
   "outputs": [],
   "source": [
    "target_urn = 145110\n",
    "\n",
    "school = all_data[all_data.index == target_urn][['SchoolPhaseType', 'UKPRN', 'PFI School', 'GOR (name)']].reset_index().to_dict(orient='records')[0]\n",
    "\n",
    "custom_comparator_schools = all_data[(all_data['PFI School'] == 'PFI School') | (all_data.index == target_urn)]\n",
    "\n",
    "print(school)\n",
    "\n",
    "result = calcs.compute_custom_comparator('PFI Comparator', custom_comparator_schools)\n",
    "colIndex = np.argwhere(result['urns'] == target_urn)[0][0]\n",
    "data = result['PFI Comparator'][colIndex]\n",
    "top_30_index = np.argsort(data)[:60]\n",
    "distances = data[top_30_index]\n",
    "\n",
    "urns = result['urns'][top_30_index]\n",
    "top_30 = custom_comparator_schools[custom_comparator_schools.index.isin(urns)][['EstablishmentName', 'UKPRN', 'PFI School', 'GOR (name)', 'Percentage SEN', 'Percentage Free school meals', 'Number of pupils', 'Age Average Score', 'Total Internal Floor Area']].sort_index().drop_duplicates()\n",
    "\n",
    "top_30['Distances'] = distances\n",
    "top_30"
   ]
  }
 ],
 "metadata": {
  "kernelspec": {
   "display_name": "Python 3",
   "language": "python",
   "name": "python3"
  },
  "language_info": {
   "codemirror_mode": {
    "name": "ipython",
    "version": 2
   },
   "file_extension": ".py",
   "mimetype": "text/x-python",
   "name": "python",
   "nbconvert_exporter": "python",
   "pygments_lexer": "ipython2",
   "version": "2.7.6"
  }
 },
 "nbformat": 4,
 "nbformat_minor": 5
}
