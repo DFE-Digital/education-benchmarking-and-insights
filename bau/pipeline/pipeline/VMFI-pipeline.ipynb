{
 "cells": [
  {
   "cell_type": "code",
   "execution_count": 13,
   "id": "acde75f1010d72b1",
   "metadata": {
    "collapsed": false,
    "ExecuteTime": {
     "end_time": "2024-03-26T18:34:40.213190Z",
     "start_time": "2024-03-26T18:34:40.194989Z"
    }
   },
   "outputs": [
    {
     "name": "stdout",
     "output_type": "stream",
     "text": [
      "The dotenv extension is already loaded. To reload it, use:\n",
      "  %reload_ext dotenv\n"
     ]
    }
   ],
   "source": [
    "%load_ext dotenv\n",
    "%dotenv"
   ]
  },
  {
   "cell_type": "markdown",
   "source": [
    "# VMFI Data processing pipeline\n",
    "\n",
    "This workbook aims to emulate the current data processing pipeline that occurs in VMFI pipeline. The logic and processing is largely based on the following document [Insights data portal - Data sources and sql analysis](https://educationgovuk.sharepoint.com.mcas.ms/:w:/r/sites/VMFI/_layouts/15/Doc.aspx?sourcedoc=%7B38C1DC37-7CDB-48B8-9E22-284F4F311C0B%7D&file=1.%20Insights%20portal%20-%20data%20sources%20and%20sql%20analysis%20v010%20-%20Copy.docx&action=default&mobileredirect=true) and will stay true to this document even if the existing stored procedures are doing something different. This will form the basis of a gap analysis going forward. \n",
    "\n",
    "All data loaded in the following workbook comes from the set of CSV files in the `data` folder alongside this workbook. These datasets are for the most part from the list at the start of the linked document. However, because there is additional standing data required to fully implement the pipeline then this data has been exported from the development VMFI pipeline database. These files are currently: \n",
    "\n",
    "| File name | DB Table |\n",
    "|:----------|----------|\n",
    "|standing_data_cdc.csv | standing_data.cdc |"
   ],
   "metadata": {
    "collapsed": false
   },
   "id": "4067c2e8c15b53c"
  },
  {
   "cell_type": "code",
   "outputs": [],
   "source": [
    "import pandas as pd\n",
    "import mappings as mappings\n",
    "import schemas as schemas\n",
    "import datetime\n",
    "\n",
    "current_year = 2023\n",
    "accounts_return_period_start_date = datetime.date(current_year - 1, 9, 10)\n",
    "academy_year_start_date = datetime.date(current_year - 1, 9, 1)\n",
    "academy_year_end_date = datetime.date(current_year, 8, 30)\n",
    "maintained_schools_year_start_date = datetime.date(current_year, 4, 1)\n",
    "maintained_schools_year_end_date = datetime.date(current_year, 3, 31)"
   ],
   "metadata": {
    "collapsed": true,
    "ExecuteTime": {
     "end_time": "2024-03-26T18:34:40.260441Z",
     "start_time": "2024-03-26T18:34:40.257944Z"
    }
   },
   "id": "initial_id",
   "execution_count": 14
  },
  {
   "cell_type": "markdown",
   "source": [
    "## GIAS data load and preparation\n",
    "\n",
    "This reads the main GIAS data (edubasealldataYYYYMMDD file) and the associated links file (links_edubasealldataYYYYMMDD file). This is taken from the [GIAS Service](https://get-information-schools.service.gov.uk/help)\n",
    "\n",
    "Other columns are tidied up by asserting the correct type for that column. This is tidying phase is largly because on load integer columns will be inferred to be a float as opposed to an integer."
   ],
   "metadata": {
    "collapsed": false
   },
   "id": "77b541a3aa8441b1"
  },
  {
   "cell_type": "code",
   "outputs": [],
   "source": [
    "gias = pd.read_csv('data/edubasealldata20240312.csv', encoding='cp1252', \n",
    "                   index_col=schemas.gias_index_col, usecols=schemas.gias.keys(), dtype=schemas.gias)\n",
    "\n",
    "gias_links = pd.read_csv('data/links_edubasealldata20240312.csv', encoding='cp1252', \n",
    "                         index_col=schemas.gias_links_index_col, usecols=schemas.gias_links.keys(), dtype=schemas.gias_links)\n",
    "\n",
    "# GIAS transformations\n",
    "gias['LA Establishment Number'] = gias['LA (code)'] + '-' + gias['EstablishmentNumber'].astype('string')\n",
    "gias['LA Establishment Number'] = gias['LA Establishment Number'].astype('string')\n",
    "\n",
    "gias['OpenDate'] = pd.to_datetime(gias['OpenDate'], dayfirst=True, format='mixed')\n",
    "gias['CloseDate'] = pd.to_datetime(gias['CloseDate'], dayfirst=True, format='mixed')\n",
    "gias['SchoolWebsite'] = gias['SchoolWebsite'].fillna('').map(mappings.map_school_website)\n",
    "gias['Boarders (name)'] = gias['Boarders (name)'].fillna('').map(mappings.map_boarders)\n",
    "gias['OfstedRating (name)'] = gias['OfstedRating (name)'].fillna('').map(mappings.map_ofsted_rating)\n",
    "gias['NurseryProvision (name)'] = gias['NurseryProvision (name)'].fillna('')\n",
    "gias['OfficialSixthForm (name)'] = gias['OfficialSixthForm (name)'].fillna('').map(mappings.map_sixth_form)\n",
    "gias['AdmissionsPolicy (name)'] = gias['AdmissionsPolicy (name)'].fillna('').map(mappings.map_admission_policy)\n",
    "gias['Head Name'] = gias['HeadTitle (name)'] + ' ' + gias['HeadFirstName'] + ' ' + gias['HeadLastName']"
   ],
   "metadata": {
    "collapsed": false,
    "ExecuteTime": {
     "end_time": "2024-03-26T18:34:41.225056Z",
     "start_time": "2024-03-26T18:34:40.261370Z"
    }
   },
   "id": "417b28e64cbeba74",
   "execution_count": 15
  },
  {
   "cell_type": "markdown",
   "source": [
    "In the following cell, we find all the predecessor and merged links. The links are then Ranked by URN and order by 'Link Established Date'. The linked GAIS data in then joined to the base GIAS data. This creates the overall school data set. This dataset is then filtered for schools that are open (CloseDate is null) and the schools with nested links that are Ranked 1."
   ],
   "metadata": {
    "collapsed": false
   },
   "id": "6f4053faf34e419b"
  },
  {
   "cell_type": "code",
   "outputs": [],
   "source": [
    "gias_links = gias_links[\n",
    "    gias_links['LinkType'].isin(['Predecessor', \n",
    "                                 'Predecessor - amalgamated', \n",
    "                                 'Predecessor - Split School', \n",
    "                                 'Predecessor - merged', \n",
    "                                 'Merged - expansion of school capacity', \n",
    "                                 'Merged - change in age range'])\n",
    "].sort_values(by='LinkEstablishedDate', ascending=False)\n",
    "\n",
    "gias_links['Rank'] = gias_links.groupby('URN').cumcount() + 1\n",
    "gias_links['Rank'] = gias_links['Rank'].astype('Int64')\n",
    "\n",
    "schools = gias.join(gias_links, on='URN', how='left', rsuffix='_links', lsuffix='_school').sort_values(by='URN')\n",
    "\n",
    "schools = schools[\n",
    "    schools['CloseDate'].isna() & ((schools['Rank'] == 1) | (schools['Rank'].isna()))\n",
    "]"
   ],
   "metadata": {
    "collapsed": false,
    "ExecuteTime": {
     "end_time": "2024-03-26T18:34:41.390316Z",
     "start_time": "2024-03-26T18:34:41.225954Z"
    }
   },
   "id": "57fc7486e4bef946",
   "execution_count": 16
  },
  {
   "cell_type": "code",
   "outputs": [
    {
     "data": {
      "text/plain": "       LA (code)       LA (name)  EstablishmentNumber  \\\nURN                                                     \n100000       201  City of London                 3614   \n100001       201  City of London                 6005   \n100002       201  City of London                 6006   \n100003       201  City of London                 6007   \n100005       202          Camden                 1048   \n...          ...             ...                  ...   \n402468       679   Monmouthshire                 5500   \n402469       681         Cardiff                 2333   \n402470       668   Pembrokeshire                 2398   \n402471       679   Monmouthshire                 2325   \n402472       666           Powys                 2156   \n\n                      EstablishmentName  TypeOfEstablishment (code)  \\\nURN                                                                   \n100000               The Aldgate School                           2   \n100001  City of London School for Girls                          11   \n100002       St Paul's Cathedral School                          11   \n100003            City of London School                          11   \n100005              Thomas Coram Centre                          15   \n...                                 ...                         ...   \n402468      King Henry viii 3-19 School                          30   \n402469  Ysgol Gynradd Groes-Wen Primary                          30   \n402470                 Ysgol Bro Penfro                          30   \n402471           Ysgol Gymraeg Trefynwy                          30   \n402472            Ysgol Golwg Pen y Fan                          30   \n\n            TypeOfEstablishment (name)  EstablishmentStatus (code)  \\\nURN                                                                  \n100000          Voluntary aided school                           1   \n100001        Other independent school                           1   \n100002        Other independent school                           1   \n100003        Other independent school                           1   \n100005  Local authority nursery school                           1   \n...                                ...                         ...   \n402468             Welsh establishment                           1   \n402469             Welsh establishment                           1   \n402470             Welsh establishment                           4   \n402471             Welsh establishment                           4   \n402472             Welsh establishment                           4   \n\n       EstablishmentStatus (name)   OpenDate CloseDate  ...  \\\nURN                                                     ...   \n100000                       Open        NaT       NaT  ...   \n100001                       Open 1920-01-01       NaT  ...   \n100002                       Open 1939-01-01       NaT  ...   \n100003                       Open 1919-01-01       NaT  ...   \n100005                       Open        NaT       NaT  ...   \n...                           ...        ...       ...  ...   \n402468                       Open 2023-09-01       NaT  ...   \n402469                       Open 2023-09-01       NaT  ...   \n402470           Proposed to open 2024-09-01       NaT  ...   \n402471           Proposed to open 2024-09-01       NaT  ...   \n402472           Proposed to open 2024-09-01       NaT  ...   \n\n        OfstedRating (name) MSOA (code)  LSOA (code) LA Establishment Number  \\\nURN                                                                            \n100000          Outstanding   E02000001    E01032739                201-3614   \n100001                        E02000001    E01000002                201-6005   \n100002                        E02000001    E01032739                201-6006   \n100003                        E02000001    E01032739                201-6007   \n100005          Outstanding   E02007115    E01000937                202-1048   \n...                     ...         ...          ...                     ...   \n402468                        999999999    999999999                679-5500   \n402469                        W02000380    W01001729                681-2333   \n402470                        W02000140    W01000607                668-2398   \n402471                        W02000339    W01001978                679-2325   \n402472                        W02000113    W01000492                666-2156   \n\n                   Head Name  LinkURN            LinkName  \\\nURN                                                         \n100000  Miss Alexandra Allan     <NA>                <NA>   \n100001       Mrs Jenny Brown     <NA>                <NA>   \n100002                  <NA>     <NA>                <NA>   \n100003          Mr Alan Bird     <NA>                <NA>   \n100005     Ms Perina Holness     <NA>                <NA>   \n...                      ...      ...                 ...   \n402468                  <NA>   402093   Deri View Primary   \n402469                  <NA>     <NA>                <NA>   \n402470                  <NA>     <NA>                <NA>   \n402471                  <NA>     <NA>                <NA>   \n402472       Mrs Sarah Court   400526  Cradoc C.P. School   \n\n                         LinkType LinkEstablishedDate  Rank  \nURN                                                          \n100000                       <NA>                <NA>  <NA>  \n100001                       <NA>                <NA>  <NA>  \n100002                       <NA>                <NA>  <NA>  \n100003                       <NA>                <NA>  <NA>  \n100005                       <NA>                <NA>  <NA>  \n...                           ...                 ...   ...  \n402468  Predecessor - amalgamated          31-08-2023     1  \n402469                       <NA>                <NA>  <NA>  \n402470                       <NA>                <NA>  <NA>  \n402471                       <NA>                <NA>  <NA>  \n402472  Predecessor - amalgamated          31-08-2024     1  \n\n[27407 rows x 52 columns]",
      "text/html": "<div>\n<style scoped>\n    .dataframe tbody tr th:only-of-type {\n        vertical-align: middle;\n    }\n\n    .dataframe tbody tr th {\n        vertical-align: top;\n    }\n\n    .dataframe thead th {\n        text-align: right;\n    }\n</style>\n<table border=\"1\" class=\"dataframe\">\n  <thead>\n    <tr style=\"text-align: right;\">\n      <th></th>\n      <th>LA (code)</th>\n      <th>LA (name)</th>\n      <th>EstablishmentNumber</th>\n      <th>EstablishmentName</th>\n      <th>TypeOfEstablishment (code)</th>\n      <th>TypeOfEstablishment (name)</th>\n      <th>EstablishmentStatus (code)</th>\n      <th>EstablishmentStatus (name)</th>\n      <th>OpenDate</th>\n      <th>CloseDate</th>\n      <th>...</th>\n      <th>OfstedRating (name)</th>\n      <th>MSOA (code)</th>\n      <th>LSOA (code)</th>\n      <th>LA Establishment Number</th>\n      <th>Head Name</th>\n      <th>LinkURN</th>\n      <th>LinkName</th>\n      <th>LinkType</th>\n      <th>LinkEstablishedDate</th>\n      <th>Rank</th>\n    </tr>\n    <tr>\n      <th>URN</th>\n      <th></th>\n      <th></th>\n      <th></th>\n      <th></th>\n      <th></th>\n      <th></th>\n      <th></th>\n      <th></th>\n      <th></th>\n      <th></th>\n      <th></th>\n      <th></th>\n      <th></th>\n      <th></th>\n      <th></th>\n      <th></th>\n      <th></th>\n      <th></th>\n      <th></th>\n      <th></th>\n      <th></th>\n    </tr>\n  </thead>\n  <tbody>\n    <tr>\n      <th>100000</th>\n      <td>201</td>\n      <td>City of London</td>\n      <td>3614</td>\n      <td>The Aldgate School</td>\n      <td>2</td>\n      <td>Voluntary aided school</td>\n      <td>1</td>\n      <td>Open</td>\n      <td>NaT</td>\n      <td>NaT</td>\n      <td>...</td>\n      <td>Outstanding</td>\n      <td>E02000001</td>\n      <td>E01032739</td>\n      <td>201-3614</td>\n      <td>Miss Alexandra Allan</td>\n      <td>&lt;NA&gt;</td>\n      <td>&lt;NA&gt;</td>\n      <td>&lt;NA&gt;</td>\n      <td>&lt;NA&gt;</td>\n      <td>&lt;NA&gt;</td>\n    </tr>\n    <tr>\n      <th>100001</th>\n      <td>201</td>\n      <td>City of London</td>\n      <td>6005</td>\n      <td>City of London School for Girls</td>\n      <td>11</td>\n      <td>Other independent school</td>\n      <td>1</td>\n      <td>Open</td>\n      <td>1920-01-01</td>\n      <td>NaT</td>\n      <td>...</td>\n      <td></td>\n      <td>E02000001</td>\n      <td>E01000002</td>\n      <td>201-6005</td>\n      <td>Mrs Jenny Brown</td>\n      <td>&lt;NA&gt;</td>\n      <td>&lt;NA&gt;</td>\n      <td>&lt;NA&gt;</td>\n      <td>&lt;NA&gt;</td>\n      <td>&lt;NA&gt;</td>\n    </tr>\n    <tr>\n      <th>100002</th>\n      <td>201</td>\n      <td>City of London</td>\n      <td>6006</td>\n      <td>St Paul's Cathedral School</td>\n      <td>11</td>\n      <td>Other independent school</td>\n      <td>1</td>\n      <td>Open</td>\n      <td>1939-01-01</td>\n      <td>NaT</td>\n      <td>...</td>\n      <td></td>\n      <td>E02000001</td>\n      <td>E01032739</td>\n      <td>201-6006</td>\n      <td>&lt;NA&gt;</td>\n      <td>&lt;NA&gt;</td>\n      <td>&lt;NA&gt;</td>\n      <td>&lt;NA&gt;</td>\n      <td>&lt;NA&gt;</td>\n      <td>&lt;NA&gt;</td>\n    </tr>\n    <tr>\n      <th>100003</th>\n      <td>201</td>\n      <td>City of London</td>\n      <td>6007</td>\n      <td>City of London School</td>\n      <td>11</td>\n      <td>Other independent school</td>\n      <td>1</td>\n      <td>Open</td>\n      <td>1919-01-01</td>\n      <td>NaT</td>\n      <td>...</td>\n      <td></td>\n      <td>E02000001</td>\n      <td>E01032739</td>\n      <td>201-6007</td>\n      <td>Mr Alan Bird</td>\n      <td>&lt;NA&gt;</td>\n      <td>&lt;NA&gt;</td>\n      <td>&lt;NA&gt;</td>\n      <td>&lt;NA&gt;</td>\n      <td>&lt;NA&gt;</td>\n    </tr>\n    <tr>\n      <th>100005</th>\n      <td>202</td>\n      <td>Camden</td>\n      <td>1048</td>\n      <td>Thomas Coram Centre</td>\n      <td>15</td>\n      <td>Local authority nursery school</td>\n      <td>1</td>\n      <td>Open</td>\n      <td>NaT</td>\n      <td>NaT</td>\n      <td>...</td>\n      <td>Outstanding</td>\n      <td>E02007115</td>\n      <td>E01000937</td>\n      <td>202-1048</td>\n      <td>Ms Perina Holness</td>\n      <td>&lt;NA&gt;</td>\n      <td>&lt;NA&gt;</td>\n      <td>&lt;NA&gt;</td>\n      <td>&lt;NA&gt;</td>\n      <td>&lt;NA&gt;</td>\n    </tr>\n    <tr>\n      <th>...</th>\n      <td>...</td>\n      <td>...</td>\n      <td>...</td>\n      <td>...</td>\n      <td>...</td>\n      <td>...</td>\n      <td>...</td>\n      <td>...</td>\n      <td>...</td>\n      <td>...</td>\n      <td>...</td>\n      <td>...</td>\n      <td>...</td>\n      <td>...</td>\n      <td>...</td>\n      <td>...</td>\n      <td>...</td>\n      <td>...</td>\n      <td>...</td>\n      <td>...</td>\n      <td>...</td>\n    </tr>\n    <tr>\n      <th>402468</th>\n      <td>679</td>\n      <td>Monmouthshire</td>\n      <td>5500</td>\n      <td>King Henry viii 3-19 School</td>\n      <td>30</td>\n      <td>Welsh establishment</td>\n      <td>1</td>\n      <td>Open</td>\n      <td>2023-09-01</td>\n      <td>NaT</td>\n      <td>...</td>\n      <td></td>\n      <td>999999999</td>\n      <td>999999999</td>\n      <td>679-5500</td>\n      <td>&lt;NA&gt;</td>\n      <td>402093</td>\n      <td>Deri View Primary</td>\n      <td>Predecessor - amalgamated</td>\n      <td>31-08-2023</td>\n      <td>1</td>\n    </tr>\n    <tr>\n      <th>402469</th>\n      <td>681</td>\n      <td>Cardiff</td>\n      <td>2333</td>\n      <td>Ysgol Gynradd Groes-Wen Primary</td>\n      <td>30</td>\n      <td>Welsh establishment</td>\n      <td>1</td>\n      <td>Open</td>\n      <td>2023-09-01</td>\n      <td>NaT</td>\n      <td>...</td>\n      <td></td>\n      <td>W02000380</td>\n      <td>W01001729</td>\n      <td>681-2333</td>\n      <td>&lt;NA&gt;</td>\n      <td>&lt;NA&gt;</td>\n      <td>&lt;NA&gt;</td>\n      <td>&lt;NA&gt;</td>\n      <td>&lt;NA&gt;</td>\n      <td>&lt;NA&gt;</td>\n    </tr>\n    <tr>\n      <th>402470</th>\n      <td>668</td>\n      <td>Pembrokeshire</td>\n      <td>2398</td>\n      <td>Ysgol Bro Penfro</td>\n      <td>30</td>\n      <td>Welsh establishment</td>\n      <td>4</td>\n      <td>Proposed to open</td>\n      <td>2024-09-01</td>\n      <td>NaT</td>\n      <td>...</td>\n      <td></td>\n      <td>W02000140</td>\n      <td>W01000607</td>\n      <td>668-2398</td>\n      <td>&lt;NA&gt;</td>\n      <td>&lt;NA&gt;</td>\n      <td>&lt;NA&gt;</td>\n      <td>&lt;NA&gt;</td>\n      <td>&lt;NA&gt;</td>\n      <td>&lt;NA&gt;</td>\n    </tr>\n    <tr>\n      <th>402471</th>\n      <td>679</td>\n      <td>Monmouthshire</td>\n      <td>2325</td>\n      <td>Ysgol Gymraeg Trefynwy</td>\n      <td>30</td>\n      <td>Welsh establishment</td>\n      <td>4</td>\n      <td>Proposed to open</td>\n      <td>2024-09-01</td>\n      <td>NaT</td>\n      <td>...</td>\n      <td></td>\n      <td>W02000339</td>\n      <td>W01001978</td>\n      <td>679-2325</td>\n      <td>&lt;NA&gt;</td>\n      <td>&lt;NA&gt;</td>\n      <td>&lt;NA&gt;</td>\n      <td>&lt;NA&gt;</td>\n      <td>&lt;NA&gt;</td>\n      <td>&lt;NA&gt;</td>\n    </tr>\n    <tr>\n      <th>402472</th>\n      <td>666</td>\n      <td>Powys</td>\n      <td>2156</td>\n      <td>Ysgol Golwg Pen y Fan</td>\n      <td>30</td>\n      <td>Welsh establishment</td>\n      <td>4</td>\n      <td>Proposed to open</td>\n      <td>2024-09-01</td>\n      <td>NaT</td>\n      <td>...</td>\n      <td></td>\n      <td>W02000113</td>\n      <td>W01000492</td>\n      <td>666-2156</td>\n      <td>Mrs Sarah Court</td>\n      <td>400526</td>\n      <td>Cradoc C.P. School</td>\n      <td>Predecessor - amalgamated</td>\n      <td>31-08-2024</td>\n      <td>1</td>\n    </tr>\n  </tbody>\n</table>\n<p>27407 rows × 52 columns</p>\n</div>"
     },
     "execution_count": 17,
     "metadata": {},
     "output_type": "execute_result"
    }
   ],
   "source": [
    "schools.sort_index()"
   ],
   "metadata": {
    "collapsed": false,
    "ExecuteTime": {
     "end_time": "2024-03-26T18:34:41.439773Z",
     "start_time": "2024-03-26T18:34:41.391218Z"
    }
   },
   "id": "80ab1312a3261637",
   "execution_count": 17
  },
  {
   "cell_type": "markdown",
   "source": [
    "## CDC data load and preparation\n",
    "\n",
    "The data in the file `data/standing_data_cdc.csv` is just an export of the data in `standing_data.cdc` table. Without the Year and Import ID fields. In future this will likely have to be read directly from the source database as per [this document.](https://educationgovuk.sharepoint.com.mcas.ms/:w:/r/sites/VMFI/_layouts/15/Doc.aspx?sourcedoc=%7B38C1DC37-7CDB-48B8-9E22-284F4F311C0B%7D&file=1.%20Insights%20portal%20-%20data%20sources%20and%20sql%20analysis%20v010%20-%20Copy.docx&action=default&mobileredirect=true) "
   ],
   "metadata": {
    "collapsed": false
   },
   "id": "9e96380a5227c987"
  },
  {
   "cell_type": "code",
   "outputs": [],
   "source": [
    "cdc = pd.read_csv('data/standing_data_cdc.csv', encoding='utf8', index_col=schemas.cdc_index_col, usecols=schemas.cdc.keys(), dtype=schemas.cdc)\n",
    "\n",
    "cdc['Total Area'] = cdc.groupby(by=['URN'])['GIFA'].sum()\n",
    "cdc['Proportion Area'] = (cdc['GIFA'] / cdc['Total Area'])\n",
    "cdc['Indicative Age'] = cdc['Block Age'].fillna('').map(mappings.map_block_age).astype('Int64')\n",
    "cdc['Age Score'] = cdc['Proportion Area'] * (current_year - cdc['Indicative Age'])\n",
    "cdc['Score'] = cdc.groupby(by=['URN'])['Age Score'].sum()\n",
    "cdc = cdc[['Total Area', 'Score']].drop_duplicates().sort_index()"
   ],
   "metadata": {
    "collapsed": false,
    "ExecuteTime": {
     "end_time": "2024-03-26T18:34:41.558227Z",
     "start_time": "2024-03-26T18:34:41.441690Z"
    }
   },
   "id": "6563c9b9647d7005",
   "execution_count": 18
  },
  {
   "cell_type": "code",
   "outputs": [
    {
     "data": {
      "text/plain": "        Total Area       Score\nURN                           \n100000      3628.0       143.0\n100006      1523.0   60.797111\n100008      2951.0       118.0\n100009      3021.0  135.619662\n100010      3415.0       143.0\n...            ...         ...\n149314      2626.0  133.451257\n149363      1107.0   70.407407\n149431      2120.0       143.0\n149435     12117.0   49.537509\n999999      1523.0   136.80302\n\n[21575 rows x 2 columns]",
      "text/html": "<div>\n<style scoped>\n    .dataframe tbody tr th:only-of-type {\n        vertical-align: middle;\n    }\n\n    .dataframe tbody tr th {\n        vertical-align: top;\n    }\n\n    .dataframe thead th {\n        text-align: right;\n    }\n</style>\n<table border=\"1\" class=\"dataframe\">\n  <thead>\n    <tr style=\"text-align: right;\">\n      <th></th>\n      <th>Total Area</th>\n      <th>Score</th>\n    </tr>\n    <tr>\n      <th>URN</th>\n      <th></th>\n      <th></th>\n    </tr>\n  </thead>\n  <tbody>\n    <tr>\n      <th>100000</th>\n      <td>3628.0</td>\n      <td>143.0</td>\n    </tr>\n    <tr>\n      <th>100006</th>\n      <td>1523.0</td>\n      <td>60.797111</td>\n    </tr>\n    <tr>\n      <th>100008</th>\n      <td>2951.0</td>\n      <td>118.0</td>\n    </tr>\n    <tr>\n      <th>100009</th>\n      <td>3021.0</td>\n      <td>135.619662</td>\n    </tr>\n    <tr>\n      <th>100010</th>\n      <td>3415.0</td>\n      <td>143.0</td>\n    </tr>\n    <tr>\n      <th>...</th>\n      <td>...</td>\n      <td>...</td>\n    </tr>\n    <tr>\n      <th>149314</th>\n      <td>2626.0</td>\n      <td>133.451257</td>\n    </tr>\n    <tr>\n      <th>149363</th>\n      <td>1107.0</td>\n      <td>70.407407</td>\n    </tr>\n    <tr>\n      <th>149431</th>\n      <td>2120.0</td>\n      <td>143.0</td>\n    </tr>\n    <tr>\n      <th>149435</th>\n      <td>12117.0</td>\n      <td>49.537509</td>\n    </tr>\n    <tr>\n      <th>999999</th>\n      <td>1523.0</td>\n      <td>136.80302</td>\n    </tr>\n  </tbody>\n</table>\n<p>21575 rows × 2 columns</p>\n</div>"
     },
     "execution_count": 19,
     "metadata": {},
     "output_type": "execute_result"
    }
   ],
   "source": [
    "cdc"
   ],
   "metadata": {
    "collapsed": false,
    "ExecuteTime": {
     "end_time": "2024-03-26T18:34:41.563417Z",
     "start_time": "2024-03-26T18:34:41.559024Z"
    }
   },
   "id": "57ab167f20fdbd03",
   "execution_count": 19
  },
  {
   "cell_type": "markdown",
   "source": [
    "## School Census data load\n",
    "\n",
    "The following code loads both the workforce and pupil census data and preforms an `inner` join by URN on the data sets. There is a lot of duplicated columns in the datasets, these are then removed with preference for the pupil census columns."
   ],
   "metadata": {
    "collapsed": false
   },
   "id": "25a30c5a4a9b466"
  },
  {
   "cell_type": "code",
   "outputs": [],
   "source": [
    "school_workforce_census = pd.read_csv('data/School_Tables_School_Workforce_Census_2022.csv', encoding='utf8', index_col=schemas.workforce_census_index_col, usecols=schemas.workforce_census.keys(), dtype=schemas.workforce_census, na_values=[\"x\",\"u\"], keep_default_na=True).drop_duplicates()\n",
    "\n",
    "school_pupil_census = pd.read_csv('data/standing_data_census_pupils.csv', encoding='utf8', index_col=schemas.pupil_census_index_col, usecols=schemas.pupil_census.keys(), dtype=schemas.pupil_census).drop_duplicates()\n",
    "\n",
    "school_census = school_pupil_census.join(school_workforce_census, on='URN', how='inner', rsuffix='_pupil', lsuffix='_workforce')\n",
    "                 "
   ],
   "metadata": {
    "collapsed": false,
    "ExecuteTime": {
     "end_time": "2024-03-26T18:34:41.736724Z",
     "start_time": "2024-03-26T18:34:41.564065Z"
    }
   },
   "id": "20079a09f9200d0e",
   "execution_count": 20
  },
  {
   "cell_type": "code",
   "outputs": [
    {
     "data": {
      "text/plain": "        headcount of pupils  \\\nURN                           \n141334                325.0   \n141396                642.0   \n141397                500.0   \n142223               1117.0   \n144396                217.0   \n...                     ...   \n104642                421.0   \n104643                432.0   \n104645                237.0   \n104646                194.0   \n104648                186.0   \n\n        % of pupils known to be eligible for and claiming free school me  \\\nURN                                                                        \n141334                                               33.8                  \n141396                                               23.4                  \n141397                                               33.2                  \n142223                                                5.1                  \n144396                                               56.7                  \n...                                                   ...                  \n104642                                                2.4                  \n104643                                                3.5                  \n104645                                               32.9                  \n104646                                               29.9                  \n104648                                               44.1                  \n\n        number of pupils whose first language is known or believed to be other than English  \\\nURN                                                                                           \n141334                                               93.0                                     \n141396                                              236.0                                     \n141397                                              127.0                                     \n142223                                              343.0                                     \n144396                                               29.0                                     \n...                                                   ...                                     \n104642                                               14.0                                     \n104643                                               13.0                                     \n104645                                               43.0                                     \n104646                                               20.0                                     \n104648                                               96.0                                     \n\n        Total School Workforce (Full-Time Equivalent)  \\\nURN                                                     \n141334                                           34.2   \n141396                                           82.5   \n141397                                           72.8   \n142223                                           99.7   \n144396                                           25.6   \n...                                               ...   \n104642                                           34.5   \n104643                                           39.9   \n104645                                           26.5   \n104646                                           22.4   \n104648                                           22.0   \n\n        Total Number of Teachers (Full-Time Equivalent)  \\\nURN                                                       \n141334                                             13.1   \n141396                                             34.0   \n141397                                             24.6   \n142223                                             47.1   \n144396                                             11.4   \n...                                                 ...   \n104642                                             15.8   \n104643                                             17.4   \n104645                                             12.4   \n104646                                             12.0   \n104648                                              8.2   \n\n        Pupil: Teacher Ratio (Full-Time Equivalent of qualified and unqualified teachers)  \\\nURN                                                                                         \n141334                                               24.8                                   \n141396                                               18.3                                   \n141397                                               19.7                                   \n142223                                               23.0                                   \n144396                                               18.1                                   \n...                                                   ...                                   \n104642                                               26.6                                   \n104643                                               24.7                                   \n104645                                               19.1                                   \n104646                                               15.8                                   \n104648                                               21.7                                   \n\n        Number of Vacant Teacher Posts  \nURN                                     \n141334                             0.0  \n141396                             0.0  \n141397                             0.0  \n142223                             0.0  \n144396                             0.0  \n...                                ...  \n104642                             0.0  \n104643                             0.0  \n104645                             0.0  \n104646                             0.0  \n104648                             0.0  \n\n[21138 rows x 7 columns]",
      "text/html": "<div>\n<style scoped>\n    .dataframe tbody tr th:only-of-type {\n        vertical-align: middle;\n    }\n\n    .dataframe tbody tr th {\n        vertical-align: top;\n    }\n\n    .dataframe thead th {\n        text-align: right;\n    }\n</style>\n<table border=\"1\" class=\"dataframe\">\n  <thead>\n    <tr style=\"text-align: right;\">\n      <th></th>\n      <th>headcount of pupils</th>\n      <th>% of pupils known to be eligible for and claiming free school me</th>\n      <th>number of pupils whose first language is known or believed to be other than English</th>\n      <th>Total School Workforce (Full-Time Equivalent)</th>\n      <th>Total Number of Teachers (Full-Time Equivalent)</th>\n      <th>Pupil: Teacher Ratio (Full-Time Equivalent of qualified and unqualified teachers)</th>\n      <th>Number of Vacant Teacher Posts</th>\n    </tr>\n    <tr>\n      <th>URN</th>\n      <th></th>\n      <th></th>\n      <th></th>\n      <th></th>\n      <th></th>\n      <th></th>\n      <th></th>\n    </tr>\n  </thead>\n  <tbody>\n    <tr>\n      <th>141334</th>\n      <td>325.0</td>\n      <td>33.8</td>\n      <td>93.0</td>\n      <td>34.2</td>\n      <td>13.1</td>\n      <td>24.8</td>\n      <td>0.0</td>\n    </tr>\n    <tr>\n      <th>141396</th>\n      <td>642.0</td>\n      <td>23.4</td>\n      <td>236.0</td>\n      <td>82.5</td>\n      <td>34.0</td>\n      <td>18.3</td>\n      <td>0.0</td>\n    </tr>\n    <tr>\n      <th>141397</th>\n      <td>500.0</td>\n      <td>33.2</td>\n      <td>127.0</td>\n      <td>72.8</td>\n      <td>24.6</td>\n      <td>19.7</td>\n      <td>0.0</td>\n    </tr>\n    <tr>\n      <th>142223</th>\n      <td>1117.0</td>\n      <td>5.1</td>\n      <td>343.0</td>\n      <td>99.7</td>\n      <td>47.1</td>\n      <td>23.0</td>\n      <td>0.0</td>\n    </tr>\n    <tr>\n      <th>144396</th>\n      <td>217.0</td>\n      <td>56.7</td>\n      <td>29.0</td>\n      <td>25.6</td>\n      <td>11.4</td>\n      <td>18.1</td>\n      <td>0.0</td>\n    </tr>\n    <tr>\n      <th>...</th>\n      <td>...</td>\n      <td>...</td>\n      <td>...</td>\n      <td>...</td>\n      <td>...</td>\n      <td>...</td>\n      <td>...</td>\n    </tr>\n    <tr>\n      <th>104642</th>\n      <td>421.0</td>\n      <td>2.4</td>\n      <td>14.0</td>\n      <td>34.5</td>\n      <td>15.8</td>\n      <td>26.6</td>\n      <td>0.0</td>\n    </tr>\n    <tr>\n      <th>104643</th>\n      <td>432.0</td>\n      <td>3.5</td>\n      <td>13.0</td>\n      <td>39.9</td>\n      <td>17.4</td>\n      <td>24.7</td>\n      <td>0.0</td>\n    </tr>\n    <tr>\n      <th>104645</th>\n      <td>237.0</td>\n      <td>32.9</td>\n      <td>43.0</td>\n      <td>26.5</td>\n      <td>12.4</td>\n      <td>19.1</td>\n      <td>0.0</td>\n    </tr>\n    <tr>\n      <th>104646</th>\n      <td>194.0</td>\n      <td>29.9</td>\n      <td>20.0</td>\n      <td>22.4</td>\n      <td>12.0</td>\n      <td>15.8</td>\n      <td>0.0</td>\n    </tr>\n    <tr>\n      <th>104648</th>\n      <td>186.0</td>\n      <td>44.1</td>\n      <td>96.0</td>\n      <td>22.0</td>\n      <td>8.2</td>\n      <td>21.7</td>\n      <td>0.0</td>\n    </tr>\n  </tbody>\n</table>\n<p>21138 rows × 7 columns</p>\n</div>"
     },
     "execution_count": 21,
     "metadata": {},
     "output_type": "execute_result"
    }
   ],
   "source": [
    "school_census"
   ],
   "metadata": {
    "collapsed": false,
    "ExecuteTime": {
     "end_time": "2024-03-26T18:34:41.743333Z",
     "start_time": "2024-03-26T18:34:41.737310Z"
    }
   },
   "id": "798d07eae73e8bba",
   "execution_count": 21
  },
  {
   "cell_type": "markdown",
   "source": [
    "## Special Education Needs (SEN) data load and preparation\n",
    "\n",
    "This loads the `SEN` data, which originates from [here](https://explore-education-statistics.service.gov.uk/find-statistics/special-educational-needs-in-england#dataDownloads-1)"
   ],
   "metadata": {
    "collapsed": false
   },
   "id": "eb83d7512643b7a1"
  },
  {
   "cell_type": "code",
   "outputs": [],
   "source": [
    "sen = pd.read_csv('data/SEN.csv', encoding='cp1252', index_col=schemas.sen_index_col, dtype=schemas.sen, usecols=schemas.sen.keys())"
   ],
   "metadata": {
    "collapsed": false,
    "ExecuteTime": {
     "end_time": "2024-03-26T18:34:42.027197Z",
     "start_time": "2024-03-26T18:34:41.743838Z"
    }
   },
   "id": "1a164f2280c8e888",
   "execution_count": 22
  },
  {
   "cell_type": "code",
   "outputs": [
    {
     "data": {
      "text/plain": "        Total pupils  SEN support  EHC plan  EHC_Primary_need_spld  \\\nURN                                                                  \n100000           271           59         8                      0   \n100001           739           22         0                      0   \n100002           269           22         0                      0   \n100003          1045          145         0                      0   \n100005           136           23         2                      0   \n...              ...          ...       ...                    ...   \n149557            41            2         3                      1   \n149632          1291          136        58                      2   \n149633            86            7         0                      0   \n149635           654           30        10                      2   \n149636           186           76         8                      1   \n\n        EHC_Primary_need_mld  EHC_Primary_need_sld  EHC_Primary_need_pmld  \\\nURN                                                                         \n100000                     0                     0                      0   \n100001                     0                     0                      0   \n100002                     0                     0                      0   \n100003                     0                     0                      0   \n100005                     0                     0                      1   \n...                      ...                   ...                    ...   \n149557                     0                     0                      0   \n149632                     1                     0                      0   \n149633                     0                     0                      0   \n149635                     0                     0                      0   \n149636                     1                     0                      0   \n\n        EHC_Primary_need_semh  EHC_Primary_need_slcn  EHC_Primary_need_hi  \\\nURN                                                                         \n100000                      1                      1                    0   \n100001                      0                      0                    0   \n100002                      0                      0                    0   \n100003                      0                      0                    0   \n100005                      0                      0                    0   \n...                       ...                    ...                  ...   \n149557                      0                      0                    0   \n149632                      3                     15                    4   \n149633                      0                      0                    0   \n149635                      5                      1                    0   \n149636                      1                      4                    0   \n\n        ...  SUP_Primary_need_pmld  SUP_Primary_need_semh  \\\nURN     ...                                                 \n100000  ...                      0                      8   \n100001  ...                      0                      0   \n100002  ...                      0                      0   \n100003  ...                      0                      0   \n100005  ...                      0                      0   \n...     ...                    ...                    ...   \n149557  ...                      0                      0   \n149632  ...                      0                     17   \n149633  ...                      0                      1   \n149635  ...                      0                      7   \n149636  ...                      0                     14   \n\n        SUP_Primary_need_slcn  SUP_Primary_need_hi  SUP_Primary_need_vi  \\\nURN                                                                       \n100000                     30                    2                    0   \n100001                      0                    0                    0   \n100002                      0                    0                    0   \n100003                      0                    0                    0   \n100005                      0                    0                    0   \n...                       ...                  ...                  ...   \n149557                      1                    0                    0   \n149632                     10                    4                    2   \n149633                      1                    0                    0   \n149635                      1                    2                    1   \n149636                      9                    0                    0   \n\n        SUP_Primary_need_msi  SUP_Primary_need_pd  SUP_Primary_need_asd  \\\nURN                                                                       \n100000                     2                    0                     4   \n100001                     0                    0                     0   \n100002                     0                    0                     0   \n100003                     0                    0                     0   \n100005                     0                    1                    21   \n...                      ...                  ...                   ...   \n149557                     0                    0                     0   \n149632                     1                    3                     6   \n149633                     0                    0                     1   \n149635                     0                    0                     1   \n149636                     0                    0                     2   \n\n        SUP_Primary_need_oth  SUP_Primary_need_nsa  \nURN                                                 \n100000                     0                     7  \n100001                     0                     0  \n100002                     0                     0  \n100003                     0                     0  \n100005                     1                     0  \n...                      ...                   ...  \n149557                     0                     0  \n149632                    16                    34  \n149633                     1                     0  \n149635                     4                     0  \n149636                    27                     0  \n\n[24442 rows x 29 columns]",
      "text/html": "<div>\n<style scoped>\n    .dataframe tbody tr th:only-of-type {\n        vertical-align: middle;\n    }\n\n    .dataframe tbody tr th {\n        vertical-align: top;\n    }\n\n    .dataframe thead th {\n        text-align: right;\n    }\n</style>\n<table border=\"1\" class=\"dataframe\">\n  <thead>\n    <tr style=\"text-align: right;\">\n      <th></th>\n      <th>Total pupils</th>\n      <th>SEN support</th>\n      <th>EHC plan</th>\n      <th>EHC_Primary_need_spld</th>\n      <th>EHC_Primary_need_mld</th>\n      <th>EHC_Primary_need_sld</th>\n      <th>EHC_Primary_need_pmld</th>\n      <th>EHC_Primary_need_semh</th>\n      <th>EHC_Primary_need_slcn</th>\n      <th>EHC_Primary_need_hi</th>\n      <th>...</th>\n      <th>SUP_Primary_need_pmld</th>\n      <th>SUP_Primary_need_semh</th>\n      <th>SUP_Primary_need_slcn</th>\n      <th>SUP_Primary_need_hi</th>\n      <th>SUP_Primary_need_vi</th>\n      <th>SUP_Primary_need_msi</th>\n      <th>SUP_Primary_need_pd</th>\n      <th>SUP_Primary_need_asd</th>\n      <th>SUP_Primary_need_oth</th>\n      <th>SUP_Primary_need_nsa</th>\n    </tr>\n    <tr>\n      <th>URN</th>\n      <th></th>\n      <th></th>\n      <th></th>\n      <th></th>\n      <th></th>\n      <th></th>\n      <th></th>\n      <th></th>\n      <th></th>\n      <th></th>\n      <th></th>\n      <th></th>\n      <th></th>\n      <th></th>\n      <th></th>\n      <th></th>\n      <th></th>\n      <th></th>\n      <th></th>\n      <th></th>\n      <th></th>\n    </tr>\n  </thead>\n  <tbody>\n    <tr>\n      <th>100000</th>\n      <td>271</td>\n      <td>59</td>\n      <td>8</td>\n      <td>0</td>\n      <td>0</td>\n      <td>0</td>\n      <td>0</td>\n      <td>1</td>\n      <td>1</td>\n      <td>0</td>\n      <td>...</td>\n      <td>0</td>\n      <td>8</td>\n      <td>30</td>\n      <td>2</td>\n      <td>0</td>\n      <td>2</td>\n      <td>0</td>\n      <td>4</td>\n      <td>0</td>\n      <td>7</td>\n    </tr>\n    <tr>\n      <th>100001</th>\n      <td>739</td>\n      <td>22</td>\n      <td>0</td>\n      <td>0</td>\n      <td>0</td>\n      <td>0</td>\n      <td>0</td>\n      <td>0</td>\n      <td>0</td>\n      <td>0</td>\n      <td>...</td>\n      <td>0</td>\n      <td>0</td>\n      <td>0</td>\n      <td>0</td>\n      <td>0</td>\n      <td>0</td>\n      <td>0</td>\n      <td>0</td>\n      <td>0</td>\n      <td>0</td>\n    </tr>\n    <tr>\n      <th>100002</th>\n      <td>269</td>\n      <td>22</td>\n      <td>0</td>\n      <td>0</td>\n      <td>0</td>\n      <td>0</td>\n      <td>0</td>\n      <td>0</td>\n      <td>0</td>\n      <td>0</td>\n      <td>...</td>\n      <td>0</td>\n      <td>0</td>\n      <td>0</td>\n      <td>0</td>\n      <td>0</td>\n      <td>0</td>\n      <td>0</td>\n      <td>0</td>\n      <td>0</td>\n      <td>0</td>\n    </tr>\n    <tr>\n      <th>100003</th>\n      <td>1045</td>\n      <td>145</td>\n      <td>0</td>\n      <td>0</td>\n      <td>0</td>\n      <td>0</td>\n      <td>0</td>\n      <td>0</td>\n      <td>0</td>\n      <td>0</td>\n      <td>...</td>\n      <td>0</td>\n      <td>0</td>\n      <td>0</td>\n      <td>0</td>\n      <td>0</td>\n      <td>0</td>\n      <td>0</td>\n      <td>0</td>\n      <td>0</td>\n      <td>0</td>\n    </tr>\n    <tr>\n      <th>100005</th>\n      <td>136</td>\n      <td>23</td>\n      <td>2</td>\n      <td>0</td>\n      <td>0</td>\n      <td>0</td>\n      <td>1</td>\n      <td>0</td>\n      <td>0</td>\n      <td>0</td>\n      <td>...</td>\n      <td>0</td>\n      <td>0</td>\n      <td>0</td>\n      <td>0</td>\n      <td>0</td>\n      <td>0</td>\n      <td>1</td>\n      <td>21</td>\n      <td>1</td>\n      <td>0</td>\n    </tr>\n    <tr>\n      <th>...</th>\n      <td>...</td>\n      <td>...</td>\n      <td>...</td>\n      <td>...</td>\n      <td>...</td>\n      <td>...</td>\n      <td>...</td>\n      <td>...</td>\n      <td>...</td>\n      <td>...</td>\n      <td>...</td>\n      <td>...</td>\n      <td>...</td>\n      <td>...</td>\n      <td>...</td>\n      <td>...</td>\n      <td>...</td>\n      <td>...</td>\n      <td>...</td>\n      <td>...</td>\n      <td>...</td>\n    </tr>\n    <tr>\n      <th>149557</th>\n      <td>41</td>\n      <td>2</td>\n      <td>3</td>\n      <td>1</td>\n      <td>0</td>\n      <td>0</td>\n      <td>0</td>\n      <td>0</td>\n      <td>0</td>\n      <td>0</td>\n      <td>...</td>\n      <td>0</td>\n      <td>0</td>\n      <td>1</td>\n      <td>0</td>\n      <td>0</td>\n      <td>0</td>\n      <td>0</td>\n      <td>0</td>\n      <td>0</td>\n      <td>0</td>\n    </tr>\n    <tr>\n      <th>149632</th>\n      <td>1291</td>\n      <td>136</td>\n      <td>58</td>\n      <td>2</td>\n      <td>1</td>\n      <td>0</td>\n      <td>0</td>\n      <td>3</td>\n      <td>15</td>\n      <td>4</td>\n      <td>...</td>\n      <td>0</td>\n      <td>17</td>\n      <td>10</td>\n      <td>4</td>\n      <td>2</td>\n      <td>1</td>\n      <td>3</td>\n      <td>6</td>\n      <td>16</td>\n      <td>34</td>\n    </tr>\n    <tr>\n      <th>149633</th>\n      <td>86</td>\n      <td>7</td>\n      <td>0</td>\n      <td>0</td>\n      <td>0</td>\n      <td>0</td>\n      <td>0</td>\n      <td>0</td>\n      <td>0</td>\n      <td>0</td>\n      <td>...</td>\n      <td>0</td>\n      <td>1</td>\n      <td>1</td>\n      <td>0</td>\n      <td>0</td>\n      <td>0</td>\n      <td>0</td>\n      <td>1</td>\n      <td>1</td>\n      <td>0</td>\n    </tr>\n    <tr>\n      <th>149635</th>\n      <td>654</td>\n      <td>30</td>\n      <td>10</td>\n      <td>2</td>\n      <td>0</td>\n      <td>0</td>\n      <td>0</td>\n      <td>5</td>\n      <td>1</td>\n      <td>0</td>\n      <td>...</td>\n      <td>0</td>\n      <td>7</td>\n      <td>1</td>\n      <td>2</td>\n      <td>1</td>\n      <td>0</td>\n      <td>0</td>\n      <td>1</td>\n      <td>4</td>\n      <td>0</td>\n    </tr>\n    <tr>\n      <th>149636</th>\n      <td>186</td>\n      <td>76</td>\n      <td>8</td>\n      <td>1</td>\n      <td>1</td>\n      <td>0</td>\n      <td>0</td>\n      <td>1</td>\n      <td>4</td>\n      <td>0</td>\n      <td>...</td>\n      <td>0</td>\n      <td>14</td>\n      <td>9</td>\n      <td>0</td>\n      <td>0</td>\n      <td>0</td>\n      <td>0</td>\n      <td>2</td>\n      <td>27</td>\n      <td>0</td>\n    </tr>\n  </tbody>\n</table>\n<p>24442 rows × 29 columns</p>\n</div>"
     },
     "execution_count": 23,
     "metadata": {},
     "output_type": "execute_result"
    }
   ],
   "source": [
    "sen"
   ],
   "metadata": {
    "collapsed": false,
    "ExecuteTime": {
     "end_time": "2024-03-26T18:34:42.038033Z",
     "start_time": "2024-03-26T18:34:42.028014Z"
    }
   },
   "id": "62cfde44fd23bbb1",
   "execution_count": 23
  },
  {
   "cell_type": "markdown",
   "source": [
    "## Academies data load and preparation \n",
    "\n",
    "This read academy data from the `master_list_raw` data file and joins on the GIAS Data (schools) school_census and CDC data by the 'LA Establishment Number', 'URN' and 'URN' keys respectively. Finally, some further mapping of the Nursery provision and the Academy status is carried out. "
   ],
   "metadata": {
    "collapsed": false
   },
   "id": "32a4b68ee88c7c1c"
  },
  {
   "cell_type": "code",
   "outputs": [],
   "source": [
    "academies_list = pd.read_csv('data/master_list_raw.csv', encoding='utf8', index_col=schemas.academy_master_list_index_col, dtype=schemas.academy_master_list, usecols=schemas.academy_master_list.keys())\n",
    "\n",
    "academies = academies_list.merge(schools.reset_index(), left_index=True, right_on='LA Establishment Number')\n",
    "academies.set_index('URN', inplace=True)\n",
    "\n",
    "academies = (academies.join(school_census, how='left', rsuffix='_census', lsuffix='_academy')\n",
    "             .join(cdc, on='URN', how='left', rsuffix='_cdc', lsuffix='_academy'))\n",
    "\n",
    "academies['Type of Provision - Phase'] = academies.apply(lambda df: mappings.map_academy_phase_type(df['TypeOfEstablishment (code)'], df['Type of Provision - Phase']), axis=1)\n",
    "\n",
    "# Bizarre I shouldn't need this as this is coming from the original GIAS dataset, but I seem to have to do this twice. \n",
    "academies['NurseryProvision (name)'] = academies['NurseryProvision (name)'].fillna('')\n",
    "academies['NurseryProvision (name)'] = academies.apply(lambda df: mappings.map_nursery(df['NurseryProvision (name)'], df['Type of Provision - Phase']), axis=1)\n",
    "\n",
    "academies['Status'] = academies.apply(lambda df: mappings.map_academy_status(pd.to_datetime(df['Date left or closed if in period']), \n",
    "                                                                             pd.to_datetime(df['Valid to']), \n",
    "                                                                             pd.to_datetime(df['OpenDate']), \n",
    "                                                                             pd.to_datetime(df['CloseDate']), \n",
    "                                                                             pd.to_datetime(accounts_return_period_start_date), pd.to_datetime(academy_year_start_date), pd.to_datetime(academy_year_end_date)), axis=1)\n"
   ],
   "metadata": {
    "collapsed": false,
    "ExecuteTime": {
     "end_time": "2024-03-26T18:34:43.374584Z",
     "start_time": "2024-03-26T18:34:42.039745Z"
    }
   },
   "id": "2f5b5d9b44e7947e",
   "execution_count": 24
  },
  {
   "cell_type": "code",
   "outputs": [
    {
     "data": {
      "text/plain": "                        Company Registration Number  \\\nLA Establishment Number                               \n-                                          09999999   \n202-2000                                   07451568   \n202-2001                                   07468210   \n202-2002                                   08803983   \n202-4000                                   07024902   \n...                                             ...   \n999-9993                                   09999999   \n999-9994                                   09999999   \n999-9995                                   09999999   \n999-9996                                   09999999   \n999-9997                                   09999999   \n\n                                  Incorporation Date  Academy Trust UPIN  \\\nLA Establishment Number                                                    \n-                        2011-02-28 00:00:00.0000000              128400   \n202-2000                 2010-11-25 00:00:00.0000000              135636   \n202-2001                 2010-12-13 00:00:00.0000000              135716   \n202-2002                 2013-12-05 00:00:00.0000000              137749   \n202-4000                 2009-09-21 00:00:00.0000000              138179   \n...                                              ...                 ...   \n999-9993                 2011-02-28 00:00:00.0000000              128400   \n999-9994                 2011-02-28 00:00:00.0000000              128400   \n999-9995                 2011-02-28 00:00:00.0000000              128400   \n999-9996                 2011-02-28 00:00:00.0000000              128400   \n999-9997                 2011-02-28 00:00:00.0000000              128400   \n\n                            UKPRN                  Academy Trust Name  \\\nLA Establishment Number                                                 \n-                        90000118             Coketown Academy Trust    \n202-2000                 10058418  St Luke's Church of England School   \n202-2001                 10058447                Anthem Schools Trust   \n202-2002                 10060691          King's Cross Academy Trust   \n202-4000                 10058277                     The UCL Academy   \n...                           ...                                 ...   \n999-9993                 90000118             Coketown Academy Trust    \n999-9994                 90000118             Coketown Academy Trust    \n999-9995                 90000118             Coketown Academy Trust    \n999-9996                 90000118             Coketown Academy Trust    \n999-9997                 90000118             Coketown Academy Trust    \n\n                                                        Academy Name  \\\nLA Establishment Number                                                \n-                                      North Coketown Primary School   \n202-2000                 St Luke's Church of England School - Camden   \n202-2001                               Abacus Belsize Primary School   \n202-2002                                         Kings Cross Academy   \n202-4000                                             The UCL Academy   \n...                                                              ...   \n999-9993                                        Coketown High School   \n999-9994                                Coketown Road Primary School   \n999-9995                                   Coketown West High School   \n999-9996                                   St Coketown's High School   \n999-9997                          Coketown Cross Keys Primary School   \n\n                         Academy UPIN                  Trust Type  \\\nLA Establishment Number                                             \n-                              999998   Multi Academy Trust (MAT)   \n202-2000                       120536  Single Academy Trust (SAT)   \n202-2001                       123288   Multi Academy Trust (MAT)   \n202-2002                       130943  Single Academy Trust (SAT)   \n202-4000                       120181  Single Academy Trust (SAT)   \n...                               ...                         ...   \n999-9993                       999993   Multi Academy Trust (MAT)   \n999-9994                       999994   Multi Academy Trust (MAT)   \n999-9995                       999995   Multi Academy Trust (MAT)   \n999-9996                       999996   Multi Academy Trust (MAT)   \n999-9997                       999997   Multi Academy Trust (MAT)   \n\n                                         Date Opened  \\\nLA Establishment Number                                \n-                        2014-09-01 00:00:00.0000000   \n202-2000                 2011-09-01 00:00:00.0000000   \n202-2001                 2013-09-01 00:00:00.0000000   \n202-2002                 2015-09-01 00:00:00.0000000   \n202-4000                 2012-09-01 00:00:00.0000000   \n...                                              ...   \n999-9993                 2016-11-01 00:00:00.0000000   \n999-9994                 2014-06-01 00:00:00.0000000   \n999-9995                 2011-04-01 00:00:00.0000000   \n999-9996                 2014-02-01 00:00:00.0000000   \n999-9997                 2017-04-01 00:00:00.0000000   \n\n                                               LA Name  ...  \\\nLA Establishment Number                                 ...   \n-                              Coketown County Council  ...   \n202-2000                 Camden London Borough Council  ...   \n202-2001                 Camden London Borough Council  ...   \n202-2002                 Camden London Borough Council  ...   \n202-4000                 Camden London Borough Council  ...   \n...                                                ...  ...   \n999-9993                       Coketown County Council  ...   \n999-9994                       Coketown County Council  ...   \n999-9995                       Coketown County Council  ...   \n999-9996                       Coketown County Council  ...   \n999-9997                       Coketown County Council  ...   \n\n                              Regional School Commissioner  \\\nLA Establishment Number                                      \n-                                        Central and East    \n202-2000                 North West London & South Central   \n202-2001                 North West London & South Central   \n202-2002                 North West London & South Central   \n202-4000                 North West London & South Central   \n...                                                    ...   \n999-9993                                 Central and East    \n999-9994                                 Central and East    \n999-9995                                 Central and East    \n999-9996                                 Central and East    \n999-9997                                 Central and East    \n\n                                          Valid From  \\\nLA Establishment Number                                \n-                        2021-09-01 00:00:00.0000000   \n202-2000                 2011-09-01 00:00:00.0000000   \n202-2001                 2013-09-01 00:00:00.0000000   \n202-2002                 2015-09-01 00:00:00.0000000   \n202-4000                 2012-09-01 00:00:00.0000000   \n...                                              ...   \n999-9993                 2021-11-01 00:00:00.0000000   \n999-9994                 2022-06-01 00:00:00.0000000   \n999-9995                 2022-04-01 00:00:00.0000000   \n999-9996                 2022-02-01 00:00:00.0000000   \n999-9997                 2022-04-01 00:00:00.0000000   \n\n                                            Valid to  \\\nLA Establishment Number                                \n-                                               <NA>   \n202-2000                                        <NA>   \n202-2001                                        <NA>   \n202-2002                                        <NA>   \n202-4000                                        <NA>   \n...                                              ...   \n999-9993                                        <NA>   \n999-9994                                        <NA>   \n999-9995                                        <NA>   \n999-9996                                        <NA>   \n999-9997                 2022-08-01 00:00:00.0000000   \n\n                        Date joined or opened if in period  \\\nLA Establishment Number                                      \n-                                                     <NA>   \n202-2000                                              <NA>   \n202-2001                                              <NA>   \n202-2002                                              <NA>   \n202-4000                                              <NA>   \n...                                                    ...   \n999-9993                       2021-11-01 00:00:00.0000000   \n999-9994                                              <NA>   \n999-9995                                              <NA>   \n999-9996                                              <NA>   \n999-9997                                              <NA>   \n\n                        Date left or closed if in period  \\\nLA Establishment Number                                    \n-                                                   <NA>   \n202-2000                                            <NA>   \n202-2001                                            <NA>   \n202-2002                                            <NA>   \n202-4000                                            <NA>   \n...                                                  ...   \n999-9993                                            <NA>   \n999-9994                                            <NA>   \n999-9995                                            <NA>   \n999-9996                                            <NA>   \n999-9997                     2022-08-31 00:00:00.0000000   \n\n                                      Territory           Academy Status  \\\nLA Establishment Number                                                    \n-                              Central and East  Member for whole period   \n202-2000                 South Central and East  Member for whole period   \n202-2001                 South Central and East  Member for whole period   \n202-2002                 South Central and East  Member for whole period   \n202-4000                 South Central and East  Member for whole period   \n...                                         ...                      ...   \n999-9993                       Central and East       in period transfer   \n999-9994                       Central and East  Member for whole period   \n999-9995                       Central and East  Member for whole period   \n999-9996                       Central and East  Member for whole period   \n999-9997                       Central and East       in period transfer   \n\n                        Academy Trust Status Number of Academies in Trust  \\\nLA Establishment Number                                                     \n-                                   Existing                            8   \n202-2000                            Existing                            1   \n202-2001                            Existing                           16   \n202-2002                            Existing                            1   \n202-4000                            Existing                            1   \n...                                      ...                          ...   \n999-9993                            Existing                            8   \n999-9994                            Existing                            8   \n999-9995                            Existing                            8   \n999-9996                            Existing                            8   \n999-9997                            Existing                            8   \n\n                         Number of Pupils  \nLA Establishment Number                    \n-                                     301  \n202-2000                              102  \n202-2001                              163  \n202-2002                              410  \n202-4000                             1172  \n...                                   ...  \n999-9993                              225  \n999-9994                              205  \n999-9995                              312  \n999-9996                              219  \n999-9997                              189  \n\n[10216 rows x 21 columns]",
      "text/html": "<div>\n<style scoped>\n    .dataframe tbody tr th:only-of-type {\n        vertical-align: middle;\n    }\n\n    .dataframe tbody tr th {\n        vertical-align: top;\n    }\n\n    .dataframe thead th {\n        text-align: right;\n    }\n</style>\n<table border=\"1\" class=\"dataframe\">\n  <thead>\n    <tr style=\"text-align: right;\">\n      <th></th>\n      <th>Company Registration Number</th>\n      <th>Incorporation Date</th>\n      <th>Academy Trust UPIN</th>\n      <th>UKPRN</th>\n      <th>Academy Trust Name</th>\n      <th>Academy Name</th>\n      <th>Academy UPIN</th>\n      <th>Trust Type</th>\n      <th>Date Opened</th>\n      <th>LA Name</th>\n      <th>...</th>\n      <th>Regional School Commissioner</th>\n      <th>Valid From</th>\n      <th>Valid to</th>\n      <th>Date joined or opened if in period</th>\n      <th>Date left or closed if in period</th>\n      <th>Territory</th>\n      <th>Academy Status</th>\n      <th>Academy Trust Status</th>\n      <th>Number of Academies in Trust</th>\n      <th>Number of Pupils</th>\n    </tr>\n    <tr>\n      <th>LA Establishment Number</th>\n      <th></th>\n      <th></th>\n      <th></th>\n      <th></th>\n      <th></th>\n      <th></th>\n      <th></th>\n      <th></th>\n      <th></th>\n      <th></th>\n      <th></th>\n      <th></th>\n      <th></th>\n      <th></th>\n      <th></th>\n      <th></th>\n      <th></th>\n      <th></th>\n      <th></th>\n      <th></th>\n      <th></th>\n    </tr>\n  </thead>\n  <tbody>\n    <tr>\n      <th>-</th>\n      <td>09999999</td>\n      <td>2011-02-28 00:00:00.0000000</td>\n      <td>128400</td>\n      <td>90000118</td>\n      <td>Coketown Academy Trust</td>\n      <td>North Coketown Primary School</td>\n      <td>999998</td>\n      <td>Multi Academy Trust (MAT)</td>\n      <td>2014-09-01 00:00:00.0000000</td>\n      <td>Coketown County Council</td>\n      <td>...</td>\n      <td>Central and East</td>\n      <td>2021-09-01 00:00:00.0000000</td>\n      <td>&lt;NA&gt;</td>\n      <td>&lt;NA&gt;</td>\n      <td>&lt;NA&gt;</td>\n      <td>Central and East</td>\n      <td>Member for whole period</td>\n      <td>Existing</td>\n      <td>8</td>\n      <td>301</td>\n    </tr>\n    <tr>\n      <th>202-2000</th>\n      <td>07451568</td>\n      <td>2010-11-25 00:00:00.0000000</td>\n      <td>135636</td>\n      <td>10058418</td>\n      <td>St Luke's Church of England School</td>\n      <td>St Luke's Church of England School - Camden</td>\n      <td>120536</td>\n      <td>Single Academy Trust (SAT)</td>\n      <td>2011-09-01 00:00:00.0000000</td>\n      <td>Camden London Borough Council</td>\n      <td>...</td>\n      <td>North West London &amp; South Central</td>\n      <td>2011-09-01 00:00:00.0000000</td>\n      <td>&lt;NA&gt;</td>\n      <td>&lt;NA&gt;</td>\n      <td>&lt;NA&gt;</td>\n      <td>South Central and East</td>\n      <td>Member for whole period</td>\n      <td>Existing</td>\n      <td>1</td>\n      <td>102</td>\n    </tr>\n    <tr>\n      <th>202-2001</th>\n      <td>07468210</td>\n      <td>2010-12-13 00:00:00.0000000</td>\n      <td>135716</td>\n      <td>10058447</td>\n      <td>Anthem Schools Trust</td>\n      <td>Abacus Belsize Primary School</td>\n      <td>123288</td>\n      <td>Multi Academy Trust (MAT)</td>\n      <td>2013-09-01 00:00:00.0000000</td>\n      <td>Camden London Borough Council</td>\n      <td>...</td>\n      <td>North West London &amp; South Central</td>\n      <td>2013-09-01 00:00:00.0000000</td>\n      <td>&lt;NA&gt;</td>\n      <td>&lt;NA&gt;</td>\n      <td>&lt;NA&gt;</td>\n      <td>South Central and East</td>\n      <td>Member for whole period</td>\n      <td>Existing</td>\n      <td>16</td>\n      <td>163</td>\n    </tr>\n    <tr>\n      <th>202-2002</th>\n      <td>08803983</td>\n      <td>2013-12-05 00:00:00.0000000</td>\n      <td>137749</td>\n      <td>10060691</td>\n      <td>King's Cross Academy Trust</td>\n      <td>Kings Cross Academy</td>\n      <td>130943</td>\n      <td>Single Academy Trust (SAT)</td>\n      <td>2015-09-01 00:00:00.0000000</td>\n      <td>Camden London Borough Council</td>\n      <td>...</td>\n      <td>North West London &amp; South Central</td>\n      <td>2015-09-01 00:00:00.0000000</td>\n      <td>&lt;NA&gt;</td>\n      <td>&lt;NA&gt;</td>\n      <td>&lt;NA&gt;</td>\n      <td>South Central and East</td>\n      <td>Member for whole period</td>\n      <td>Existing</td>\n      <td>1</td>\n      <td>410</td>\n    </tr>\n    <tr>\n      <th>202-4000</th>\n      <td>07024902</td>\n      <td>2009-09-21 00:00:00.0000000</td>\n      <td>138179</td>\n      <td>10058277</td>\n      <td>The UCL Academy</td>\n      <td>The UCL Academy</td>\n      <td>120181</td>\n      <td>Single Academy Trust (SAT)</td>\n      <td>2012-09-01 00:00:00.0000000</td>\n      <td>Camden London Borough Council</td>\n      <td>...</td>\n      <td>North West London &amp; South Central</td>\n      <td>2012-09-01 00:00:00.0000000</td>\n      <td>&lt;NA&gt;</td>\n      <td>&lt;NA&gt;</td>\n      <td>&lt;NA&gt;</td>\n      <td>South Central and East</td>\n      <td>Member for whole period</td>\n      <td>Existing</td>\n      <td>1</td>\n      <td>1172</td>\n    </tr>\n    <tr>\n      <th>...</th>\n      <td>...</td>\n      <td>...</td>\n      <td>...</td>\n      <td>...</td>\n      <td>...</td>\n      <td>...</td>\n      <td>...</td>\n      <td>...</td>\n      <td>...</td>\n      <td>...</td>\n      <td>...</td>\n      <td>...</td>\n      <td>...</td>\n      <td>...</td>\n      <td>...</td>\n      <td>...</td>\n      <td>...</td>\n      <td>...</td>\n      <td>...</td>\n      <td>...</td>\n      <td>...</td>\n    </tr>\n    <tr>\n      <th>999-9993</th>\n      <td>09999999</td>\n      <td>2011-02-28 00:00:00.0000000</td>\n      <td>128400</td>\n      <td>90000118</td>\n      <td>Coketown Academy Trust</td>\n      <td>Coketown High School</td>\n      <td>999993</td>\n      <td>Multi Academy Trust (MAT)</td>\n      <td>2016-11-01 00:00:00.0000000</td>\n      <td>Coketown County Council</td>\n      <td>...</td>\n      <td>Central and East</td>\n      <td>2021-11-01 00:00:00.0000000</td>\n      <td>&lt;NA&gt;</td>\n      <td>2021-11-01 00:00:00.0000000</td>\n      <td>&lt;NA&gt;</td>\n      <td>Central and East</td>\n      <td>in period transfer</td>\n      <td>Existing</td>\n      <td>8</td>\n      <td>225</td>\n    </tr>\n    <tr>\n      <th>999-9994</th>\n      <td>09999999</td>\n      <td>2011-02-28 00:00:00.0000000</td>\n      <td>128400</td>\n      <td>90000118</td>\n      <td>Coketown Academy Trust</td>\n      <td>Coketown Road Primary School</td>\n      <td>999994</td>\n      <td>Multi Academy Trust (MAT)</td>\n      <td>2014-06-01 00:00:00.0000000</td>\n      <td>Coketown County Council</td>\n      <td>...</td>\n      <td>Central and East</td>\n      <td>2022-06-01 00:00:00.0000000</td>\n      <td>&lt;NA&gt;</td>\n      <td>&lt;NA&gt;</td>\n      <td>&lt;NA&gt;</td>\n      <td>Central and East</td>\n      <td>Member for whole period</td>\n      <td>Existing</td>\n      <td>8</td>\n      <td>205</td>\n    </tr>\n    <tr>\n      <th>999-9995</th>\n      <td>09999999</td>\n      <td>2011-02-28 00:00:00.0000000</td>\n      <td>128400</td>\n      <td>90000118</td>\n      <td>Coketown Academy Trust</td>\n      <td>Coketown West High School</td>\n      <td>999995</td>\n      <td>Multi Academy Trust (MAT)</td>\n      <td>2011-04-01 00:00:00.0000000</td>\n      <td>Coketown County Council</td>\n      <td>...</td>\n      <td>Central and East</td>\n      <td>2022-04-01 00:00:00.0000000</td>\n      <td>&lt;NA&gt;</td>\n      <td>&lt;NA&gt;</td>\n      <td>&lt;NA&gt;</td>\n      <td>Central and East</td>\n      <td>Member for whole period</td>\n      <td>Existing</td>\n      <td>8</td>\n      <td>312</td>\n    </tr>\n    <tr>\n      <th>999-9996</th>\n      <td>09999999</td>\n      <td>2011-02-28 00:00:00.0000000</td>\n      <td>128400</td>\n      <td>90000118</td>\n      <td>Coketown Academy Trust</td>\n      <td>St Coketown's High School</td>\n      <td>999996</td>\n      <td>Multi Academy Trust (MAT)</td>\n      <td>2014-02-01 00:00:00.0000000</td>\n      <td>Coketown County Council</td>\n      <td>...</td>\n      <td>Central and East</td>\n      <td>2022-02-01 00:00:00.0000000</td>\n      <td>&lt;NA&gt;</td>\n      <td>&lt;NA&gt;</td>\n      <td>&lt;NA&gt;</td>\n      <td>Central and East</td>\n      <td>Member for whole period</td>\n      <td>Existing</td>\n      <td>8</td>\n      <td>219</td>\n    </tr>\n    <tr>\n      <th>999-9997</th>\n      <td>09999999</td>\n      <td>2011-02-28 00:00:00.0000000</td>\n      <td>128400</td>\n      <td>90000118</td>\n      <td>Coketown Academy Trust</td>\n      <td>Coketown Cross Keys Primary School</td>\n      <td>999997</td>\n      <td>Multi Academy Trust (MAT)</td>\n      <td>2017-04-01 00:00:00.0000000</td>\n      <td>Coketown County Council</td>\n      <td>...</td>\n      <td>Central and East</td>\n      <td>2022-04-01 00:00:00.0000000</td>\n      <td>2022-08-01 00:00:00.0000000</td>\n      <td>&lt;NA&gt;</td>\n      <td>2022-08-31 00:00:00.0000000</td>\n      <td>Central and East</td>\n      <td>in period transfer</td>\n      <td>Existing</td>\n      <td>8</td>\n      <td>189</td>\n    </tr>\n  </tbody>\n</table>\n<p>10216 rows × 21 columns</p>\n</div>"
     },
     "execution_count": 25,
     "metadata": {},
     "output_type": "execute_result"
    }
   ],
   "source": [
    "academies_list.sort_index()"
   ],
   "metadata": {
    "collapsed": false,
    "ExecuteTime": {
     "end_time": "2024-03-26T18:34:43.405930Z",
     "start_time": "2024-03-26T18:34:43.375189Z"
    }
   },
   "id": "cf8b18891fd8d969",
   "execution_count": 25
  },
  {
   "cell_type": "markdown",
   "source": [
    "## Maintained schools data load and preparation"
   ],
   "metadata": {
    "collapsed": false
   },
   "id": "97961d9851b09fc"
  },
  {
   "cell_type": "code",
   "outputs": [],
   "source": [
    "maintained_schools_list = pd.read_csv('data/maintained_schools_raw.csv', encoding='utf8', index_col=schemas.maintained_schools_master_list_index_col, usecols=schemas.maintained_schools_master_list.keys(), dtype=schemas.maintained_schools_master_list)\n",
    "\n",
    "maintained_schools = maintained_schools_list.merge(schools.reset_index(), left_index=True, right_on='URN')\n",
    "maintained_schools = (maintained_schools.join(school_census, how='left', rsuffix='_census', lsuffix='_school')\n",
    "                      .join(cdc, on='URN', how='left', rsuffix='_cdc', lsuffix='_academy'))\n",
    "\n",
    "maintained_schools['Status'] = maintained_schools.apply(lambda df: mappings.map_maintained_school_status(df['OpenDate'], df['CloseDate'], df['Period covered by return (months)'], pd.to_datetime(maintained_schools_year_start_date), pd.to_datetime(maintained_schools_year_end_date)), axis=1)\n",
    "\n",
    "maintained_schools.set_index('URN', inplace=True)"
   ],
   "metadata": {
    "collapsed": false,
    "ExecuteTime": {
     "end_time": "2024-03-26T18:34:44.018178Z",
     "start_time": "2024-03-26T18:34:43.406570Z"
    }
   },
   "id": "865b72efc070a8e8",
   "execution_count": 26
  },
  {
   "cell_type": "code",
   "outputs": [
    {
     "data": {
      "text/plain": "         LA         LA Name      Region Estab  LAEstab  \\\nURN                                                      \n100000  201  City of London      London  3614  2013614   \n100005  202          Camden      London  1048  2021048   \n100006  202          Camden      London  1100  2021100   \n100007  202          Camden      London  1101  2021101   \n100008  202          Camden      London  2019  2022019   \n...     ...             ...         ...   ...      ...   \n131818  341       Liverpool  North West  2230  3412230   \n132176  341       Liverpool  North West  2232  3412232   \n132793  341       Liverpool  North West  2233  3412233   \n132796  341       Liverpool  North West  2234  3412234   \n133332  341       Liverpool  North West  2235  3412235   \n\n                                        School Name                Phase  \\\nURN                                                                        \n100000                           The Aldgate School    Infant and junior   \n100005                          Thomas Coram Centre              Nursery   \n100006                                 Heath School  Pupil referral unit   \n100007           Camden Primary Pupil Referral Unit  Pupil referral unit   \n100008                        Argyle Primary School    Infant and junior   \n...                                             ...                  ...   \n131818                    Fazakerley Primary School    Infant and junior   \n132176  Kirkdale St Lawrence CofE VA Primary School    Infant and junior   \n132793         St Matthew's Catholic Primary School    Infant and junior   \n132796            St John's Catholic Primary School    Infant and junior   \n133332                     Greenbank Primary School    Infant and junior   \n\n              Overall Phase  Lowest age of pupils  Highest age of pupils  ...  \\\nURN                                                                       ...   \n100000              Primary                   3.0                   11.0  ...   \n100005              Nursery                   2.0                    5.0  ...   \n100006  Pupil referral unit                  11.0                   16.0  ...   \n100007  Pupil referral unit                   5.0                   11.0  ...   \n100008              Primary                   3.0                   11.0  ...   \n...                     ...                   ...                    ...  ...   \n131818              Primary                   3.0                   11.0  ...   \n132176              Primary                   3.0                   11.0  ...   \n132793              Primary                   4.0                   11.0  ...   \n132796              Primary                   2.0                   11.0  ...   \n133332              Primary                   3.0                   11.0  ...   \n\n       headcount of pupils  \\\nURN                          \n100000                 NaN   \n100005                 NaN   \n100006                 NaN   \n100007                 NaN   \n100008                 NaN   \n...                    ...   \n131818                 NaN   \n132176                 NaN   \n132793                 NaN   \n132796                 NaN   \n133332                 NaN   \n\n        % of pupils known to be eligible for and claiming free school me  \\\nURN                                                                        \n100000                                                NaN                  \n100005                                                NaN                  \n100006                                                NaN                  \n100007                                                NaN                  \n100008                                                NaN                  \n...                                                   ...                  \n131818                                                NaN                  \n132176                                                NaN                  \n132793                                                NaN                  \n132796                                                NaN                  \n133332                                                NaN                  \n\n        number of pupils whose first language is known or believed to be other than English  \\\nURN                                                                                           \n100000                                                NaN                                     \n100005                                                NaN                                     \n100006                                                NaN                                     \n100007                                                NaN                                     \n100008                                                NaN                                     \n...                                                   ...                                     \n131818                                                NaN                                     \n132176                                                NaN                                     \n132793                                                NaN                                     \n132796                                                NaN                                     \n133332                                                NaN                                     \n\n        Total School Workforce (Full-Time Equivalent)  \\\nURN                                                     \n100000                                            NaN   \n100005                                            NaN   \n100006                                            NaN   \n100007                                            NaN   \n100008                                            NaN   \n...                                               ...   \n131818                                            NaN   \n132176                                            NaN   \n132793                                            NaN   \n132796                                            NaN   \n133332                                            NaN   \n\n       Total Number of Teachers (Full-Time Equivalent)  \\\nURN                                                      \n100000                                             NaN   \n100005                                             NaN   \n100006                                             NaN   \n100007                                             NaN   \n100008                                             NaN   \n...                                                ...   \n131818                                             NaN   \n132176                                             NaN   \n132793                                             NaN   \n132796                                             NaN   \n133332                                             NaN   \n\n       Pupil: Teacher Ratio (Full-Time Equivalent of qualified and unqualified teachers)  \\\nURN                                                                                        \n100000                                                NaN                                  \n100005                                                NaN                                  \n100006                                                NaN                                  \n100007                                                NaN                                  \n100008                                                NaN                                  \n...                                                   ...                                  \n131818                                                NaN                                  \n132176                                                NaN                                  \n132793                                                NaN                                  \n132796                                                NaN                                  \n133332                                                NaN                                  \n\n        Number of Vacant Teacher Posts Total Area      Score Status  \nURN                                                                  \n100000                             NaN     3628.0      143.0   Open  \n100005                             NaN        NaN       <NA>   Open  \n100006                             NaN     1523.0  60.797111   Open  \n100007                             NaN        NaN       <NA>   Open  \n100008                             NaN     2951.0      118.0   Open  \n...                                ...        ...        ...    ...  \n131818                             NaN     2819.0  57.148634   Open  \n132176                             NaN     2872.0       28.0   Open  \n132793                             NaN     1639.0      118.0   Open  \n132796                             NaN     2736.0       18.0   Open  \n133332                             NaN     2959.0  17.793849   Open  \n\n[10997 rows x 94 columns]",
      "text/html": "<div>\n<style scoped>\n    .dataframe tbody tr th:only-of-type {\n        vertical-align: middle;\n    }\n\n    .dataframe tbody tr th {\n        vertical-align: top;\n    }\n\n    .dataframe thead th {\n        text-align: right;\n    }\n</style>\n<table border=\"1\" class=\"dataframe\">\n  <thead>\n    <tr style=\"text-align: right;\">\n      <th></th>\n      <th>LA</th>\n      <th>LA Name</th>\n      <th>Region</th>\n      <th>Estab</th>\n      <th>LAEstab</th>\n      <th>School Name</th>\n      <th>Phase</th>\n      <th>Overall Phase</th>\n      <th>Lowest age of pupils</th>\n      <th>Highest age of pupils</th>\n      <th>...</th>\n      <th>headcount of pupils</th>\n      <th>% of pupils known to be eligible for and claiming free school me</th>\n      <th>number of pupils whose first language is known or believed to be other than English</th>\n      <th>Total School Workforce (Full-Time Equivalent)</th>\n      <th>Total Number of Teachers (Full-Time Equivalent)</th>\n      <th>Pupil: Teacher Ratio (Full-Time Equivalent of qualified and unqualified teachers)</th>\n      <th>Number of Vacant Teacher Posts</th>\n      <th>Total Area</th>\n      <th>Score</th>\n      <th>Status</th>\n    </tr>\n    <tr>\n      <th>URN</th>\n      <th></th>\n      <th></th>\n      <th></th>\n      <th></th>\n      <th></th>\n      <th></th>\n      <th></th>\n      <th></th>\n      <th></th>\n      <th></th>\n      <th></th>\n      <th></th>\n      <th></th>\n      <th></th>\n      <th></th>\n      <th></th>\n      <th></th>\n      <th></th>\n      <th></th>\n      <th></th>\n      <th></th>\n    </tr>\n  </thead>\n  <tbody>\n    <tr>\n      <th>100000</th>\n      <td>201</td>\n      <td>City of London</td>\n      <td>London</td>\n      <td>3614</td>\n      <td>2013614</td>\n      <td>The Aldgate School</td>\n      <td>Infant and junior</td>\n      <td>Primary</td>\n      <td>3.0</td>\n      <td>11.0</td>\n      <td>...</td>\n      <td>NaN</td>\n      <td>NaN</td>\n      <td>NaN</td>\n      <td>NaN</td>\n      <td>NaN</td>\n      <td>NaN</td>\n      <td>NaN</td>\n      <td>3628.0</td>\n      <td>143.0</td>\n      <td>Open</td>\n    </tr>\n    <tr>\n      <th>100005</th>\n      <td>202</td>\n      <td>Camden</td>\n      <td>London</td>\n      <td>1048</td>\n      <td>2021048</td>\n      <td>Thomas Coram Centre</td>\n      <td>Nursery</td>\n      <td>Nursery</td>\n      <td>2.0</td>\n      <td>5.0</td>\n      <td>...</td>\n      <td>NaN</td>\n      <td>NaN</td>\n      <td>NaN</td>\n      <td>NaN</td>\n      <td>NaN</td>\n      <td>NaN</td>\n      <td>NaN</td>\n      <td>NaN</td>\n      <td>&lt;NA&gt;</td>\n      <td>Open</td>\n    </tr>\n    <tr>\n      <th>100006</th>\n      <td>202</td>\n      <td>Camden</td>\n      <td>London</td>\n      <td>1100</td>\n      <td>2021100</td>\n      <td>Heath School</td>\n      <td>Pupil referral unit</td>\n      <td>Pupil referral unit</td>\n      <td>11.0</td>\n      <td>16.0</td>\n      <td>...</td>\n      <td>NaN</td>\n      <td>NaN</td>\n      <td>NaN</td>\n      <td>NaN</td>\n      <td>NaN</td>\n      <td>NaN</td>\n      <td>NaN</td>\n      <td>1523.0</td>\n      <td>60.797111</td>\n      <td>Open</td>\n    </tr>\n    <tr>\n      <th>100007</th>\n      <td>202</td>\n      <td>Camden</td>\n      <td>London</td>\n      <td>1101</td>\n      <td>2021101</td>\n      <td>Camden Primary Pupil Referral Unit</td>\n      <td>Pupil referral unit</td>\n      <td>Pupil referral unit</td>\n      <td>5.0</td>\n      <td>11.0</td>\n      <td>...</td>\n      <td>NaN</td>\n      <td>NaN</td>\n      <td>NaN</td>\n      <td>NaN</td>\n      <td>NaN</td>\n      <td>NaN</td>\n      <td>NaN</td>\n      <td>NaN</td>\n      <td>&lt;NA&gt;</td>\n      <td>Open</td>\n    </tr>\n    <tr>\n      <th>100008</th>\n      <td>202</td>\n      <td>Camden</td>\n      <td>London</td>\n      <td>2019</td>\n      <td>2022019</td>\n      <td>Argyle Primary School</td>\n      <td>Infant and junior</td>\n      <td>Primary</td>\n      <td>3.0</td>\n      <td>11.0</td>\n      <td>...</td>\n      <td>NaN</td>\n      <td>NaN</td>\n      <td>NaN</td>\n      <td>NaN</td>\n      <td>NaN</td>\n      <td>NaN</td>\n      <td>NaN</td>\n      <td>2951.0</td>\n      <td>118.0</td>\n      <td>Open</td>\n    </tr>\n    <tr>\n      <th>...</th>\n      <td>...</td>\n      <td>...</td>\n      <td>...</td>\n      <td>...</td>\n      <td>...</td>\n      <td>...</td>\n      <td>...</td>\n      <td>...</td>\n      <td>...</td>\n      <td>...</td>\n      <td>...</td>\n      <td>...</td>\n      <td>...</td>\n      <td>...</td>\n      <td>...</td>\n      <td>...</td>\n      <td>...</td>\n      <td>...</td>\n      <td>...</td>\n      <td>...</td>\n      <td>...</td>\n    </tr>\n    <tr>\n      <th>131818</th>\n      <td>341</td>\n      <td>Liverpool</td>\n      <td>North West</td>\n      <td>2230</td>\n      <td>3412230</td>\n      <td>Fazakerley Primary School</td>\n      <td>Infant and junior</td>\n      <td>Primary</td>\n      <td>3.0</td>\n      <td>11.0</td>\n      <td>...</td>\n      <td>NaN</td>\n      <td>NaN</td>\n      <td>NaN</td>\n      <td>NaN</td>\n      <td>NaN</td>\n      <td>NaN</td>\n      <td>NaN</td>\n      <td>2819.0</td>\n      <td>57.148634</td>\n      <td>Open</td>\n    </tr>\n    <tr>\n      <th>132176</th>\n      <td>341</td>\n      <td>Liverpool</td>\n      <td>North West</td>\n      <td>2232</td>\n      <td>3412232</td>\n      <td>Kirkdale St Lawrence CofE VA Primary School</td>\n      <td>Infant and junior</td>\n      <td>Primary</td>\n      <td>3.0</td>\n      <td>11.0</td>\n      <td>...</td>\n      <td>NaN</td>\n      <td>NaN</td>\n      <td>NaN</td>\n      <td>NaN</td>\n      <td>NaN</td>\n      <td>NaN</td>\n      <td>NaN</td>\n      <td>2872.0</td>\n      <td>28.0</td>\n      <td>Open</td>\n    </tr>\n    <tr>\n      <th>132793</th>\n      <td>341</td>\n      <td>Liverpool</td>\n      <td>North West</td>\n      <td>2233</td>\n      <td>3412233</td>\n      <td>St Matthew's Catholic Primary School</td>\n      <td>Infant and junior</td>\n      <td>Primary</td>\n      <td>4.0</td>\n      <td>11.0</td>\n      <td>...</td>\n      <td>NaN</td>\n      <td>NaN</td>\n      <td>NaN</td>\n      <td>NaN</td>\n      <td>NaN</td>\n      <td>NaN</td>\n      <td>NaN</td>\n      <td>1639.0</td>\n      <td>118.0</td>\n      <td>Open</td>\n    </tr>\n    <tr>\n      <th>132796</th>\n      <td>341</td>\n      <td>Liverpool</td>\n      <td>North West</td>\n      <td>2234</td>\n      <td>3412234</td>\n      <td>St John's Catholic Primary School</td>\n      <td>Infant and junior</td>\n      <td>Primary</td>\n      <td>2.0</td>\n      <td>11.0</td>\n      <td>...</td>\n      <td>NaN</td>\n      <td>NaN</td>\n      <td>NaN</td>\n      <td>NaN</td>\n      <td>NaN</td>\n      <td>NaN</td>\n      <td>NaN</td>\n      <td>2736.0</td>\n      <td>18.0</td>\n      <td>Open</td>\n    </tr>\n    <tr>\n      <th>133332</th>\n      <td>341</td>\n      <td>Liverpool</td>\n      <td>North West</td>\n      <td>2235</td>\n      <td>3412235</td>\n      <td>Greenbank Primary School</td>\n      <td>Infant and junior</td>\n      <td>Primary</td>\n      <td>3.0</td>\n      <td>11.0</td>\n      <td>...</td>\n      <td>NaN</td>\n      <td>NaN</td>\n      <td>NaN</td>\n      <td>NaN</td>\n      <td>NaN</td>\n      <td>NaN</td>\n      <td>NaN</td>\n      <td>2959.0</td>\n      <td>17.793849</td>\n      <td>Open</td>\n    </tr>\n  </tbody>\n</table>\n<p>10997 rows × 94 columns</p>\n</div>"
     },
     "execution_count": 27,
     "metadata": {},
     "output_type": "execute_result"
    }
   ],
   "source": [
    "maintained_schools"
   ],
   "metadata": {
    "collapsed": false,
    "ExecuteTime": {
     "end_time": "2024-03-26T18:34:44.037455Z",
     "start_time": "2024-03-26T18:34:44.019831Z"
    }
   },
   "id": "de671077a130f94e",
   "execution_count": 27
  },
  {
   "cell_type": "code",
   "outputs": [],
   "source": [],
   "metadata": {
    "collapsed": false,
    "ExecuteTime": {
     "end_time": "2024-03-26T18:34:44.039505Z",
     "start_time": "2024-03-26T18:34:44.038144Z"
    }
   },
   "id": "2f6a04d7dc922f02",
   "execution_count": 27
  }
 ],
 "metadata": {
  "kernelspec": {
   "display_name": "Python 3",
   "language": "python",
   "name": "python3"
  },
  "language_info": {
   "codemirror_mode": {
    "name": "ipython",
    "version": 2
   },
   "file_extension": ".py",
   "mimetype": "text/x-python",
   "name": "python",
   "nbconvert_exporter": "python",
   "pygments_lexer": "ipython2",
   "version": "2.7.6"
  }
 },
 "nbformat": 4,
 "nbformat_minor": 5
}
