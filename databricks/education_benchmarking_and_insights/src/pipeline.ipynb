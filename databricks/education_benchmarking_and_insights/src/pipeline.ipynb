{
 "cells": [
  {
   "cell_type": "markdown",
   "metadata": {
    "application/vnd.databricks.v1+cell": {
     "cellMetadata": {},
     "inputWidgets": {},
     "nuid": "9a626959-61c8-4bba-84d2-2a4ecab1f7ec",
     "showTitle": false,
     "title": ""
    }
   },
   "source": [
    "# Lakeflow Declarative Pipeline\n",
    "\n",
    "This Lakeflow Declarative Pipeline definition is executed using a pipeline defined in resources/education_benchmarking_and_insights.pipeline.yml."
   ]
  },
  {
   "cell_type": "code",
   "execution_count": 0,
   "metadata": {
    "application/vnd.databricks.v1+cell": {
     "cellMetadata": {},
     "inputWidgets": {},
     "nuid": "3fc19dba-61fd-4a89-8f8c-24fee63bfb14",
     "showTitle": false,
     "title": ""
    }
   },
   "outputs": [],
   "source": [
    "import sys\n",
    "\n",
    "sys.path.append(spark.conf.get(\"bundle.sourcePath\", \".\"))\n",
    "from pyspark.sql.functions import col, expr\n",
    "# New import for dlt.read_sql\n",
    "from dlt import read_sql\n",
    "\n",
    "# Define catalog paths and current year\n",
    "BRONZE_BFR_CATALOG_PATH = \"catalog_30_bronze.bfr\"\n",
    "COPPER_FBIT_CATALOG_PATH = \"catalog_40_copper_financial_benchmarking_insights.financial_benchmarking_insights\"\n",
    "BRONZE_AAR_CATALOG_PATH = \"catalog_30_bronze.aar\"\n",
    "\n",
    "# You would typically parameterize this in a DLT pipeline definition\n",
    "CURRENT_YEAR = 2024 # Example year, this should be a DLT pipeline parameter\n",
    "\n",
    "@dlt.view\n",
    "def bfr_sofa_current_year():\n",
    "    \"\"\"\n",
    "    Loads the current year BFR Sofa materialized view.\n",
    "    \"\"\"\n",
    "    return dlt.read(f\"{COPPER_FBIT_CATALOG_PATH}.mv_BFR_Sofa_{CURRENT_YEAR}\")\n",
    "\n",
    "@dlt.view\n",
    "def bfr_three_year_forecast_current_year():\n",
    "    \"\"\"\n",
    "    Loads the current year BFR Three Year Forecast materialized view.\n",
    "    \"\"\"\n",
    "    return dlt.read(f\"{COPPER_FBIT_CATALOG_PATH}.mv_BFR_Three_Year_Forecast_{CURRENT_YEAR}\")\n",
    "\n",
    "@dlt.view\n",
    "def academies_current_year():\n",
    "    \"\"\"\n",
    "    Loads the current year academies data.\n",
    "    \"\"\"\n",
    "    return dlt.read(f\"{BRONZE_AAR_CATALOG_PATH}.vw_academies_{CURRENT_YEAR}\")\n",
    "\n",
    "@dlt.view\n",
    "def bfr_sofa_historical(year_offset: int):\n",
    "    \"\"\"\n",
    "    Loads historical BFR Sofa data for a given year offset.\n",
    "    \"\"\"\n",
    "    historical_year = CURRENT_YEAR - year_offset\n",
    "    return dlt.read(f\"{BRONZE_BFR_CATALOG_PATH}.vw_BFR_Sofa_{historical_year}\") \\\n",
    "                .select(\"TrustUPIN\", \"EFALineNo\", \"Y1P2\", \"Y2P2\") \\\n",
    "                .withColumnRenamed(\"TrustUPIN\", \"Trust UPIN\")\n",
    "\n",
    "@dlt.view\n",
    "def academies_historical(year_offset: int):\n",
    "    \"\"\"\n",
    "    Loads historical academies data for a given year offset.\n",
    "    \"\"\"\n",
    "    historical_year = CURRENT_YEAR - year_offset\n",
    "    return dlt.read(f\"{BRONZE_AAR_CATALOG_PATH}.vw_academies_{historical_year}\")\n",
    "\n",
    "# Example of how you would use the historical views in other DLT tables\n",
    "@dlt.table\n",
    "def bfr_sofa_y1_processed():\n",
    "    desired_efa_lines = [\n",
    "        # Assuming these are defined elsewhere or passed as config\n",
    "        # config.SOFA_TRUST_REVENUE_RESERVE_EFALINE,\n",
    "        # config.SOFA_PUPIL_NUMBER_EFALINE,\n",
    "        # For demonstration, using dummy values\n",
    "        \"100\",\n",
    "        \"200\",\n",
    "    ]\n",
    "    return dlt.read(\"bfr_sofa_historical\", year_offset=1) \\\n",
    "                .filter(col(\"EFALineNo\").isin(desired_efa_lines))\n",
    "\n",
    "@dlt.table\n",
    "def bfr_sofa_y2_processed():\n",
    "    desired_efa_lines = [\n",
    "        # Assuming these are defined elsewhere or passed as config\n",
    "        # config.SOFA_TRUST_REVENUE_RESERVE_EFALINE,\n",
    "        # config.SOFA_PUPIL_NUMBER_EFALINE,\n",
    "        # For demonstration, using dummy values\n",
    "        \"100\",\n",
    "        \"200\",\n",
    "    ]\n",
    "    return dlt.read(\"bfr_sofa_historical\", year_offset=2) \\\n",
    "                .filter(col(\"EFALineNo\").isin(desired_efa_lines))\n",
    "\n",
    "@dlt.table\n",
    "def academies_y1_processed():\n",
    "    return dlt.read(\"academies_historical\", year_offset=1)\n",
    "\n",
    "@dlt.table\n",
    "def academies_y2_processed():\n",
    "    return dlt.read(\"academies_historical\", year_offset=2)"
   ]
  }
 ],
 "metadata": {
  "application/vnd.databricks.v1+notebook": {
   "dashboards": [],
   "language": "python",
   "notebookMetadata": {
    "pythonIndentUnit": 2
   },
   "notebookName": "pipeline",
   "widgets": {}
  },
  "kernelspec": {
   "display_name": "Python 3",
   "language": "python",
   "name": "python3"
  },
  "language_info": {
   "name": "python",
   "version": "3.11.4"
  }
 },
 "nbformat": 4,
 "nbformat_minor": 0
}
